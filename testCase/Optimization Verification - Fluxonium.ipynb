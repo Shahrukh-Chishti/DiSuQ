{
 "cells": [
  {
   "cell_type": "markdown",
   "id": "6b819039",
   "metadata": {},
   "source": [
    "Test Cases for Fluxonium circuit \n",
    "* parameter optimization : flux profile approximation\n",
    "* objective function : MSE on Anharmonicity\n",
    "* optimization algorithms : Ordering, Polynomial"
   ]
  },
  {
   "cell_type": "code",
   "execution_count": 1,
   "id": "430ddd40",
   "metadata": {},
   "outputs": [],
   "source": [
    "from DiSuQ.Torch import models\n",
    "from DiSuQ.Torch.optimization import OrderingOptimization,PolynomialOptimization\n",
    "from DiSuQ.Torch.optimization import loss_Anharmonicity\n",
    "from torch import tensor\n",
    "from numpy import arange\n",
    "from DiSuQ.utils import plotCompare"
   ]
  },
  {
   "cell_type": "markdown",
   "id": "bd30d455",
   "metadata": {},
   "source": [
    "#### Ordering Spectrum"
   ]
  },
  {
   "cell_type": "code",
   "execution_count": 2,
   "id": "7b2ef482",
   "metadata": {},
   "outputs": [
    {
     "name": "stdout",
     "output_type": "stream",
     "text": [
      "[{'C': 100.0}, {'J': 20.000001907348633}, {'L': 0.0003000000724568963}]\n"
     ]
    }
   ],
   "source": [
    "basis = {'O':[40],'I':[],'J':[]}\n",
    "basis = [40]\n",
    "circuit = models.fluxonium(basis,sparse=False)\n",
    "optim = OrderingOptimization(circuit,representation='Q')\n",
    "print(circuit.circuitComponents())\n",
    "flux_profile = tensor(arange(0,1,.1))\n",
    "flux_profile = [{'I':flux} for flux in flux_profile]"
   ]
  },
  {
   "cell_type": "code",
   "execution_count": 3,
   "id": "37119423",
   "metadata": {},
   "outputs": [],
   "source": [
    "H = circuit.chargeHamiltonianLC()+circuit.josephsonCharge({'I':0})"
   ]
  },
  {
   "cell_type": "code",
   "execution_count": null,
   "id": "4a62c6dd",
   "metadata": {},
   "outputs": [],
   "source": [
    "dLogs,dParams,dCircuit = optim.optimization(loss_Anharmonicity,flux_profile,iterations=200,lr=.0001)"
   ]
  },
  {
   "cell_type": "code",
   "execution_count": null,
   "id": "ed46e977",
   "metadata": {},
   "outputs": [],
   "source": [
    "plotCompare(dLogs.index,dLogs,'Optimizing Fluxonium','iteration')"
   ]
  },
  {
   "cell_type": "code",
   "execution_count": null,
   "id": "b19fda62",
   "metadata": {},
   "outputs": [],
   "source": [
    "plotCompare(dParams.index,dParams,None,\"iteration\",\"parameters\")"
   ]
  },
  {
   "cell_type": "code",
   "execution_count": null,
   "id": "ff1554c9",
   "metadata": {},
   "outputs": [],
   "source": [
    "plotCompare(dCircuit.index,dCircuit,None,\"iteration\",\"energy\")"
   ]
  },
  {
   "cell_type": "markdown",
   "id": "e85a3e60",
   "metadata": {},
   "source": [
    "#### Characteristic Polynomial"
   ]
  },
  {
   "cell_type": "code",
   "execution_count": null,
   "id": "28c0f90e",
   "metadata": {},
   "outputs": [],
   "source": [
    "basis = {'O':[5],'I':[],'J':[]}\n",
    "circuit = models.fluxonium(basis,sparse=True)\n",
    "optim = PolynomialOptimization(circuit)\n",
    "print(circuit.circuitComponents())\n",
    "flux_profile = tensor(arange(0,1,.1))\n",
    "flux_profile = [{'I':flux} for flux in flux_profile]\n",
    "H = optim.circuitHamiltonian(external_fluxes=flux_profile[3])\n",
    "print(optim.characterisiticPoly(H))"
   ]
  },
  {
   "cell_type": "code",
   "execution_count": null,
   "id": "1f0a62bf",
   "metadata": {},
   "outputs": [],
   "source": []
  }
 ],
 "metadata": {
  "@webio": {
   "lastCommId": null,
   "lastKernelId": null
  },
  "kernelspec": {
   "display_name": "Python 3 (ipykernel)",
   "language": "python",
   "name": "python3"
  },
  "language_info": {
   "codemirror_mode": {
    "name": "ipython",
    "version": 3
   },
   "file_extension": ".py",
   "mimetype": "text/x-python",
   "name": "python",
   "nbconvert_exporter": "python",
   "pygments_lexer": "ipython3",
   "version": "3.10.8"
  }
 },
 "nbformat": 4,
 "nbformat_minor": 5
}
