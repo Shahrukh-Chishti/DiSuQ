{
 "cells": [
  {
   "cell_type": "markdown",
   "id": "6b819039",
   "metadata": {},
   "source": [
    "Test Cases for Transmon circuit \n",
    "* parameter optimization : flux profile approximation\n",
    "* objective function : MSE on Energy levels combination\n",
    "* optimization algorithms : Ordering, Polynomial"
   ]
  },
  {
   "cell_type": "code",
   "execution_count": 1,
   "id": "430ddd40",
   "metadata": {},
   "outputs": [],
   "source": [
    "from DiSuQ.Torch import models\n",
    "from DiSuQ.Torch.optimization import OrderingOptimization,PolynomialOptimization\n",
    "from DiSuQ.Torch.optimization import loss_Anharmonicity,loss_Energy\n",
    "from torch import tensor\n",
    "from numpy import arange\n",
    "from DiSuQ.utils import plotCompare"
   ]
  },
  {
   "cell_type": "markdown",
   "id": "bd30d455",
   "metadata": {},
   "source": [
    "#### Ordering Spectrum"
   ]
  },
  {
   "cell_type": "code",
   "execution_count": 2,
   "id": "7b2ef482",
   "metadata": {},
   "outputs": [
    {
     "name": "stdout",
     "output_type": "stream",
     "text": [
      "[{'J': 9.999999046325684}, {'C': 0.2999999523162842}]\n"
     ]
    }
   ],
   "source": [
    "basis = [15]\n",
    "circuit = models.transmon(basis,sparse=False)\n",
    "optim = OrderingOptimization(circuit,representation='Q')\n",
    "print(circuit.circuitComponents())\n",
    "flux_profile = [dict()]"
   ]
  },
  {
   "cell_type": "code",
   "execution_count": 4,
   "id": "3eec7269",
   "metadata": {},
   "outputs": [
    {
     "ename": "AttributeError",
     "evalue": "'list' object has no attribute 'keys'",
     "output_type": "error",
     "traceback": [
      "\u001b[0;31m---------------------------------------------------------------------------\u001b[0m",
      "\u001b[0;31mAttributeError\u001b[0m                            Traceback (most recent call last)",
      "Cell \u001b[0;32mIn [4], line 1\u001b[0m\n\u001b[0;32m----> 1\u001b[0m \u001b[43moptim\u001b[49m\u001b[38;5;241;43m.\u001b[39;49m\u001b[43mcircuitHamiltonian\u001b[49m\u001b[43m(\u001b[49m\u001b[43m[\u001b[49m\u001b[38;5;28;43mdict\u001b[39;49m\u001b[43m(\u001b[49m\u001b[43m)\u001b[49m\u001b[43m]\u001b[49m\u001b[43m)\u001b[49m\n",
      "File \u001b[0;32m~/JupyterHub/DiSuQ/Torch/optimization.py:70\u001b[0m, in \u001b[0;36mOptimization.circuitHamiltonian\u001b[0;34m(self, external_fluxes, to_dense)\u001b[0m\n\u001b[1;32m     68\u001b[0m \u001b[38;5;28;01melif\u001b[39;00m \u001b[38;5;28mself\u001b[39m\u001b[38;5;241m.\u001b[39mrepresentation \u001b[38;5;241m==\u001b[39m \u001b[38;5;124m'\u001b[39m\u001b[38;5;124mQ\u001b[39m\u001b[38;5;124m'\u001b[39m:\n\u001b[1;32m     69\u001b[0m     H \u001b[38;5;241m=\u001b[39m \u001b[38;5;28mself\u001b[39m\u001b[38;5;241m.\u001b[39mcircuit\u001b[38;5;241m.\u001b[39mchargeHamiltonianLC()\n\u001b[0;32m---> 70\u001b[0m     H \u001b[38;5;241m+\u001b[39m\u001b[38;5;241m=\u001b[39m \u001b[38;5;28;43mself\u001b[39;49m\u001b[38;5;241;43m.\u001b[39;49m\u001b[43mcircuit\u001b[49m\u001b[38;5;241;43m.\u001b[39;49m\u001b[43mjosephsonCharge\u001b[49m\u001b[43m(\u001b[49m\u001b[43mexternal_fluxes\u001b[49m\u001b[43m)\u001b[49m\n\u001b[1;32m     71\u001b[0m \u001b[38;5;28;01mif\u001b[39;00m to_dense:\n\u001b[1;32m     72\u001b[0m     H \u001b[38;5;241m=\u001b[39m H\u001b[38;5;241m.\u001b[39mto_dense()\n",
      "File \u001b[0;32m~/JupyterHub/DiSuQ/Torch/circuit.py:455\u001b[0m, in \u001b[0;36mCircuit.josephsonCharge\u001b[0;34m(self, external_fluxes)\u001b[0m\n\u001b[1;32m    453\u001b[0m \u001b[38;5;28;01mfor\u001b[39;00m (u,v,key),E \u001b[38;5;129;01min\u001b[39;00m \u001b[38;5;28mzip\u001b[39m(edges,Ej):\n\u001b[1;32m    454\u001b[0m     i,j \u001b[38;5;241m=\u001b[39m \u001b[38;5;28mself\u001b[39m\u001b[38;5;241m.\u001b[39mnodes_[u],\u001b[38;5;28mself\u001b[39m\u001b[38;5;241m.\u001b[39mnodes_[v]\n\u001b[0;32m--> 455\u001b[0m     flux \u001b[38;5;241m=\u001b[39m \u001b[38;5;28;43mself\u001b[39;49m\u001b[38;5;241;43m.\u001b[39;49m\u001b[43mloopFlux\u001b[49m\u001b[43m(\u001b[49m\u001b[43mu\u001b[49m\u001b[43m,\u001b[49m\u001b[43mv\u001b[49m\u001b[43m,\u001b[49m\u001b[43mkey\u001b[49m\u001b[43m,\u001b[49m\u001b[43mexternal_fluxes\u001b[49m\u001b[43m)\u001b[49m\n\u001b[1;32m    456\u001b[0m     \u001b[38;5;28;01mif\u001b[39;00m i\u001b[38;5;241m<\u001b[39m\u001b[38;5;241m0\u001b[39m \u001b[38;5;129;01mor\u001b[39;00m j\u001b[38;5;241m<\u001b[39m\u001b[38;5;241m0\u001b[39m :\n\u001b[1;32m    457\u001b[0m         \u001b[38;5;66;03m# grounded josephson\u001b[39;00m\n\u001b[1;32m    458\u001b[0m         i \u001b[38;5;241m=\u001b[39m \u001b[38;5;28mmax\u001b[39m(i,j)\n",
      "File \u001b[0;32m~/JupyterHub/DiSuQ/Torch/circuit.py:151\u001b[0m, in \u001b[0;36mCircuit.loopFlux\u001b[0;34m(self, u, v, key, external_fluxes)\u001b[0m\n\u001b[1;32m    147\u001b[0m \u001b[38;5;124;03m\"\"\"\u001b[39;00m\n\u001b[1;32m    148\u001b[0m \u001b[38;5;124;03m    external_fluxes : {identifier:flux_value}\u001b[39;00m\n\u001b[1;32m    149\u001b[0m \u001b[38;5;124;03m\"\"\"\u001b[39;00m\n\u001b[1;32m    150\u001b[0m flux \u001b[38;5;241m=\u001b[39m tensor(\u001b[38;5;241m0.0\u001b[39m)\n\u001b[0;32m--> 151\u001b[0m external \u001b[38;5;241m=\u001b[39m \u001b[38;5;28mset\u001b[39m(\u001b[43mexternal_fluxes\u001b[49m\u001b[38;5;241;43m.\u001b[39;49m\u001b[43mkeys\u001b[49m())\n\u001b[1;32m    152\u001b[0m S \u001b[38;5;241m=\u001b[39m \u001b[38;5;28mself\u001b[39m\u001b[38;5;241m.\u001b[39mspanning_tree\n\u001b[1;32m    153\u001b[0m path \u001b[38;5;241m=\u001b[39m networkx\u001b[38;5;241m.\u001b[39mshortest_path(S,u,v)\n",
      "\u001b[0;31mAttributeError\u001b[0m: 'list' object has no attribute 'keys'"
     ]
    }
   ],
   "source": [
    "optim.circuitHamiltonian([dict()])"
   ]
  },
  {
   "cell_type": "code",
   "execution_count": null,
   "id": "4a62c6dd",
   "metadata": {},
   "outputs": [],
   "source": [
    "dLogs,dParams,dCircuit = optim.optimization(loss_Energy(levels=[100.0]),flux_profile,lr=.00001)"
   ]
  },
  {
   "cell_type": "code",
   "execution_count": null,
   "id": "b19fda62",
   "metadata": {},
   "outputs": [],
   "source": [
    "plotCompare(dParams.index,dParams,None,\"iteration\",\"parameters\")"
   ]
  },
  {
   "cell_type": "code",
   "execution_count": null,
   "id": "ff1554c9",
   "metadata": {},
   "outputs": [],
   "source": [
    "plotCompare(dCircuit.index,dCircuit,None,\"iteration\",\"energy\")"
   ]
  },
  {
   "cell_type": "markdown",
   "id": "e85a3e60",
   "metadata": {},
   "source": [
    "#### Characteristic Polynomial"
   ]
  },
  {
   "cell_type": "code",
   "execution_count": null,
   "id": "28c0f90e",
   "metadata": {},
   "outputs": [],
   "source": [
    "basis = {'O':[5],'I':[],'J':[]}\n",
    "circuit = models.fluxonium(basis,sparse=True)\n",
    "optim = PolynomialOptimization(circuit)\n",
    "print(circuit.circuitComponents())\n",
    "flux_profile = tensor(arange(0,1,.1))\n",
    "flux_profile = [{'I':flux} for flux in flux_profile]\n",
    "H = optim.circuitHamiltonian(external_fluxes=flux_profile[3])\n",
    "print(optim.characterisiticPoly(H))"
   ]
  },
  {
   "cell_type": "code",
   "execution_count": null,
   "id": "1f0a62bf",
   "metadata": {},
   "outputs": [],
   "source": []
  }
 ],
 "metadata": {
  "@webio": {
   "lastCommId": null,
   "lastKernelId": null
  },
  "kernelspec": {
   "display_name": "Python 3 (ipykernel)",
   "language": "python",
   "name": "python3"
  },
  "language_info": {
   "codemirror_mode": {
    "name": "ipython",
    "version": 3
   },
   "file_extension": ".py",
   "mimetype": "text/x-python",
   "name": "python",
   "nbconvert_exporter": "python",
   "pygments_lexer": "ipython3",
   "version": "3.10.7"
  }
 },
 "nbformat": 4,
 "nbformat_minor": 5
}
