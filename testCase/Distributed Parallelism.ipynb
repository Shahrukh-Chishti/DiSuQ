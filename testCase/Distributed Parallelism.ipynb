{
 "cells": [
  {
   "cell_type": "code",
   "execution_count": 1,
   "id": "b62cdb5f-55fa-4b46-a562-1bc1477d776e",
   "metadata": {},
   "outputs": [
    {
     "name": "stdout",
     "output_type": "stream",
     "text": [
      "['fork', 'spawn', 'forkserver']\n",
      "fork\n"
     ]
    }
   ],
   "source": [
    "import sys,os,torch,multiprocessing\n",
    "import multiprocess as multi\n",
    "\n",
    "# multi.set_start_method('spawn')\n",
    "print(multi.get_all_start_methods())\n",
    "print(multi.get_start_method())\n",
    "\n",
    "# https://stackoverflow.com/questions/48846085/python-multiprocessing-within-jupyter-notebook\n",
    "import torch.distributed as dist\n",
    "import torch.multiprocessing as mp\n",
    "from torch import tensor\n",
    "from DiSuQ.Torch.optimization import GradientDescent,lossTransition\n",
    "from DiSuQ import utils\n",
    "from DiSuQ.Torch.models import transmon,fluxonium,zeroPi\n",
    "from datetime import timedelta\n",
    "from torch.nn.parallel import DistributedDataParallel as DDP\n",
    "from DiSuQ.Torch.circuit import Charge,Kerman"
   ]
  },
  {
   "cell_type": "code",
   "execution_count": 2,
   "id": "31030df1-f01c-449d-8472-e8a6d44bcd41",
   "metadata": {},
   "outputs": [],
   "source": [
    "torch.set_num_threads(36)\n",
    "cuda0 = torch.device('cuda:0')\n",
    "cuda1 = torch.device('cuda:1')\n",
    "cpu = torch.device('cpu')\n",
    "torch.set_default_device(cuda0)"
   ]
  },
  {
   "cell_type": "code",
   "execution_count": 3,
   "id": "e80e16eb-bf7f-495e-ade4-9e615f2594a0",
   "metadata": {},
   "outputs": [],
   "source": [
    "world_size = torch.cuda.device_count()\n",
    "# world_size = 1\n",
    "#basis = [15,15,15]\n",
    "#flux_profile = Tensor([[0.],[.15],[.30],[.5]])\n",
    "#circuit = zeroPi(Charge,basis,sparse=False)\n",
    "#basis = [1500]\n",
    "#flux_profile = [dict()]\n",
    "#circuit = transmon(Charge,basis,sparse=False)\n",
    "\n",
    "# control data mapping to ranks\n",
    "flux_profile = tensor([[0.],[.15],[.30],[.5]])\n",
    "# flux_profile = tensor([[0.],[.5]])\n",
    "# data distribution pre-defined for each process\n",
    "flux_profile = [flux_profile[:2],flux_profile[2:]]"
   ]
  },
  {
   "cell_type": "code",
   "execution_count": 4,
   "id": "7e2c2521-d6e7-440c-afd8-3e7dcffb9b1a",
   "metadata": {},
   "outputs": [],
   "source": [
    "def circuitBuilder(rank):\n",
    "    basis = [1500]\n",
    "    circuit = fluxonium(Charge,basis,sparse=False)\n",
    "    return circuit\n",
    "\n",
    "def distributionSetup(rank):\n",
    "    os.environ[\"MASTER_ADDR\"] = \"localhost\"\n",
    "    os.environ[\"MASTER_PORT\"] = \"12355\"\n",
    "    #torch.cuda.device(rank)\n",
    "    # indepdent process with independent default initialization\n",
    "    torch.set_default_device(rank)\n",
    "    dist.init_process_group(backend=\"nccl\", rank=rank, world_size=world_size)"
   ]
  },
  {
   "cell_type": "code",
   "execution_count": 5,
   "id": "65ff878c-71df-443b-a798-b87bdfb51f84",
   "metadata": {},
   "outputs": [],
   "source": [
    "def executionSetup(rank:int):\n",
    "    import torch\n",
    "    print(rank,torch.cuda.current_device())\n",
    "    distributionSetup(rank)\n",
    "    # flux_point = flux_profile[[rank]]\n",
    "    flux_point = flux_profile[rank]\n",
    "    flux_point = flux_point.to(rank)\n",
    "    circuit = circuitBuilder(rank)\n",
    "    # for parameter in circuit.parameters():\n",
    "    #     print(parameter.device)\n",
    "    # print(rank,torch.cuda.current_device())\n",
    "    loss = lossTransition(tensor(5.),tensor(4.5))\n",
    "    print(rank,torch.cuda.current_device())\n",
    "    module = DDP(circuit,device_ids=[rank])\n",
    "    optim = GradientDescent(circuit,module,flux_point,loss)\n",
    "    optim.optimizer = optim.initAlgo(lr=1e-2)\n",
    "    dLogs,dParams,dCircuit = optim.optimization(100)\n",
    "    print(dLogs)\n",
    "    dist.destroy_process_group()\n",
    "    # returns nothing since result sync hang\n",
    "    # https://discuss.pytorch.org/t/exception-process-0-terminated-with-exit-code-1-error-when-using-torch-multiprocessing-spawn-to-parallelize-over-multiple-gpus/90636"
   ]
  },
  {
   "cell_type": "code",
   "execution_count": null,
   "id": "b9237aed-7704-4c52-9268-c680ebbd4dce",
   "metadata": {},
   "outputs": [],
   "source": []
  },
  {
   "cell_type": "code",
   "execution_count": 6,
   "id": "5721bdb6-5d2c-4ed2-abdc-10e6775cd5a2",
   "metadata": {},
   "outputs": [
    {
     "name": "stderr",
     "output_type": "stream",
     "text": [
      "Traceback (most recent call last):\n",
      "  File \"<string>\", line 1, in <module>\n",
      "  File \"/usr/local/anaconda3/lib/python3.9/multiprocessing/spawn.py\", line 116, in spawn_main\n",
      "    exitcode = _main(fd, parent_sentinel)\n",
      "  File \"/usr/local/anaconda3/lib/python3.9/multiprocessing/spawn.py\", line 126, in _main\n",
      "    self = reduction.pickle.load(from_parent)\n",
      "AttributeError: Can't get attribute 'executionSetup' on <module '__main__' (built-in)>\n",
      "Traceback (most recent call last):\n",
      "  File \"<string>\", line 1, in <module>\n",
      "  File \"/usr/local/anaconda3/lib/python3.9/multiprocessing/spawn.py\", line 116, in spawn_main\n",
      "    exitcode = _main(fd, parent_sentinel)\n",
      "  File \"/usr/local/anaconda3/lib/python3.9/multiprocessing/spawn.py\", line 126, in _main\n",
      "    self = reduction.pickle.load(from_parent)\n",
      "AttributeError: Can't get attribute 'executionSetup' on <module '__main__' (built-in)>\n"
     ]
    },
    {
     "ename": "ProcessExitedException",
     "evalue": "process 1 terminated with exit code 1",
     "output_type": "error",
     "traceback": [
      "\u001b[0;31m---------------------------------------------------------------------------\u001b[0m",
      "\u001b[0;31mProcessExitedException\u001b[0m                    Traceback (most recent call last)",
      "Cell \u001b[0;32mIn[6], line 1\u001b[0m\n\u001b[0;32m----> 1\u001b[0m \u001b[43mmp\u001b[49m\u001b[38;5;241;43m.\u001b[39;49m\u001b[43mspawn\u001b[49m\u001b[43m(\u001b[49m\u001b[43mexecutionSetup\u001b[49m\u001b[43m,\u001b[49m\u001b[43mnprocs\u001b[49m\u001b[38;5;241;43m=\u001b[39;49m\u001b[43mworld_size\u001b[49m\u001b[43m)\u001b[49m\n",
      "File \u001b[0;32m~/.disuq/lib/python3.9/site-packages/torch/multiprocessing/spawn.py:246\u001b[0m, in \u001b[0;36mspawn\u001b[0;34m(fn, args, nprocs, join, daemon, start_method)\u001b[0m\n\u001b[1;32m    240\u001b[0m     msg \u001b[38;5;241m=\u001b[39m (\n\u001b[1;32m    241\u001b[0m         \u001b[38;5;124m\"\u001b[39m\u001b[38;5;124mThis method only supports start_method=spawn (got: \u001b[39m\u001b[38;5;132;01m%s\u001b[39;00m\u001b[38;5;124m).\u001b[39m\u001b[38;5;130;01m\\n\u001b[39;00m\u001b[38;5;124m\"\u001b[39m\n\u001b[1;32m    242\u001b[0m         \u001b[38;5;124m\"\u001b[39m\u001b[38;5;124mTo use a different start_method use:\u001b[39m\u001b[38;5;130;01m\\n\u001b[39;00m\u001b[38;5;130;01m\\t\u001b[39;00m\u001b[38;5;130;01m\\t\u001b[39;00m\u001b[38;5;124m\"\u001b[39m\n\u001b[1;32m    243\u001b[0m         \u001b[38;5;124m\"\u001b[39m\u001b[38;5;124m torch.multiprocessing.start_processes(...)\u001b[39m\u001b[38;5;124m\"\u001b[39m \u001b[38;5;241m%\u001b[39m start_method\n\u001b[1;32m    244\u001b[0m     )\n\u001b[1;32m    245\u001b[0m     warnings\u001b[38;5;241m.\u001b[39mwarn(msg)\n\u001b[0;32m--> 246\u001b[0m \u001b[38;5;28;01mreturn\u001b[39;00m \u001b[43mstart_processes\u001b[49m\u001b[43m(\u001b[49m\u001b[43mfn\u001b[49m\u001b[43m,\u001b[49m\u001b[43m \u001b[49m\u001b[43margs\u001b[49m\u001b[43m,\u001b[49m\u001b[43m \u001b[49m\u001b[43mnprocs\u001b[49m\u001b[43m,\u001b[49m\u001b[43m \u001b[49m\u001b[43mjoin\u001b[49m\u001b[43m,\u001b[49m\u001b[43m \u001b[49m\u001b[43mdaemon\u001b[49m\u001b[43m,\u001b[49m\u001b[43m \u001b[49m\u001b[43mstart_method\u001b[49m\u001b[38;5;241;43m=\u001b[39;49m\u001b[38;5;124;43m\"\u001b[39;49m\u001b[38;5;124;43mspawn\u001b[39;49m\u001b[38;5;124;43m\"\u001b[39;49m\u001b[43m)\u001b[49m\n",
      "File \u001b[0;32m~/.disuq/lib/python3.9/site-packages/torch/multiprocessing/spawn.py:202\u001b[0m, in \u001b[0;36mstart_processes\u001b[0;34m(fn, args, nprocs, join, daemon, start_method)\u001b[0m\n\u001b[1;32m    199\u001b[0m     \u001b[38;5;28;01mreturn\u001b[39;00m context\n\u001b[1;32m    201\u001b[0m \u001b[38;5;66;03m# Loop on join until it returns True or raises an exception.\u001b[39;00m\n\u001b[0;32m--> 202\u001b[0m \u001b[38;5;28;01mwhile\u001b[39;00m \u001b[38;5;129;01mnot\u001b[39;00m \u001b[43mcontext\u001b[49m\u001b[38;5;241;43m.\u001b[39;49m\u001b[43mjoin\u001b[49m\u001b[43m(\u001b[49m\u001b[43m)\u001b[49m:\n\u001b[1;32m    203\u001b[0m     \u001b[38;5;28;01mpass\u001b[39;00m\n",
      "File \u001b[0;32m~/.disuq/lib/python3.9/site-packages/torch/multiprocessing/spawn.py:153\u001b[0m, in \u001b[0;36mProcessContext.join\u001b[0;34m(self, timeout)\u001b[0m\n\u001b[1;32m    145\u001b[0m         \u001b[38;5;28;01mraise\u001b[39;00m ProcessExitedException(\n\u001b[1;32m    146\u001b[0m             \u001b[38;5;124m\"\u001b[39m\u001b[38;5;124mprocess \u001b[39m\u001b[38;5;132;01m%d\u001b[39;00m\u001b[38;5;124m terminated with signal \u001b[39m\u001b[38;5;132;01m%s\u001b[39;00m\u001b[38;5;124m\"\u001b[39m \u001b[38;5;241m%\u001b[39m (error_index, name),\n\u001b[1;32m    147\u001b[0m             error_index\u001b[38;5;241m=\u001b[39merror_index,\n\u001b[0;32m   (...)\u001b[0m\n\u001b[1;32m    150\u001b[0m             signal_name\u001b[38;5;241m=\u001b[39mname,\n\u001b[1;32m    151\u001b[0m         )\n\u001b[1;32m    152\u001b[0m     \u001b[38;5;28;01melse\u001b[39;00m:\n\u001b[0;32m--> 153\u001b[0m         \u001b[38;5;28;01mraise\u001b[39;00m ProcessExitedException(\n\u001b[1;32m    154\u001b[0m             \u001b[38;5;124m\"\u001b[39m\u001b[38;5;124mprocess \u001b[39m\u001b[38;5;132;01m%d\u001b[39;00m\u001b[38;5;124m terminated with exit code \u001b[39m\u001b[38;5;132;01m%d\u001b[39;00m\u001b[38;5;124m\"\u001b[39m \u001b[38;5;241m%\u001b[39m (error_index, exitcode),\n\u001b[1;32m    155\u001b[0m             error_index\u001b[38;5;241m=\u001b[39merror_index,\n\u001b[1;32m    156\u001b[0m             error_pid\u001b[38;5;241m=\u001b[39mfailed_process\u001b[38;5;241m.\u001b[39mpid,\n\u001b[1;32m    157\u001b[0m             exit_code\u001b[38;5;241m=\u001b[39mexitcode,\n\u001b[1;32m    158\u001b[0m         )\n\u001b[1;32m    160\u001b[0m original_trace \u001b[38;5;241m=\u001b[39m \u001b[38;5;28mself\u001b[39m\u001b[38;5;241m.\u001b[39merror_queues[error_index]\u001b[38;5;241m.\u001b[39mget()\n\u001b[1;32m    161\u001b[0m msg \u001b[38;5;241m=\u001b[39m \u001b[38;5;124m\"\u001b[39m\u001b[38;5;130;01m\\n\u001b[39;00m\u001b[38;5;130;01m\\n\u001b[39;00m\u001b[38;5;124m-- Process \u001b[39m\u001b[38;5;132;01m%d\u001b[39;00m\u001b[38;5;124m terminated with the following error:\u001b[39m\u001b[38;5;130;01m\\n\u001b[39;00m\u001b[38;5;124m\"\u001b[39m \u001b[38;5;241m%\u001b[39m error_index\n",
      "\u001b[0;31mProcessExitedException\u001b[0m: process 1 terminated with exit code 1"
     ]
    }
   ],
   "source": [
    "mp.spawn(executionSetup,nprocs=world_size)"
   ]
  },
  {
   "cell_type": "code",
   "execution_count": null,
   "id": "64259bd8-078b-47ad-9693-dd880c2acf6b",
   "metadata": {},
   "outputs": [],
   "source": [
    "with multi.Pool(processes=world_size) as pool:\n",
    "        pool.map(executionSetup,range(world_size))"
   ]
  },
  {
   "cell_type": "markdown",
   "id": "7f7c7522-4fe9-42e6-8aa8-3775f90852a8",
   "metadata": {},
   "source": [
    "https://stackoverflow.com/questions/64095876/multiprocessing-fork-vs-spawn\n",
    "https://stackoverflow.com/questions/8804830/python-multiprocessing-picklingerror-cant-pickle-type-function"
   ]
  }
 ],
 "metadata": {
  "kernelspec": {
   "display_name": "Python 3 (ipykernel)",
   "language": "python",
   "name": "python3"
  },
  "language_info": {
   "codemirror_mode": {
    "name": "ipython",
    "version": 3
   },
   "file_extension": ".py",
   "mimetype": "text/x-python",
   "name": "python",
   "nbconvert_exporter": "python",
   "pygments_lexer": "ipython3",
   "version": "3.9.18"
  }
 },
 "nbformat": 4,
 "nbformat_minor": 5
}
