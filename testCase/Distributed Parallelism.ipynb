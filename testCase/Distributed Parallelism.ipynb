{
 "cells": [
  {
   "cell_type": "code",
   "execution_count": 1,
   "id": "e3900a8a-ebe9-43b8-9831-f330deedca0a",
   "metadata": {},
   "outputs": [],
   "source": [
    "import os\n",
    "from matplotlib import pyplot as plt\n",
    "\n",
    "os.environ['MASTER_ADDR'] = 'localhost'\n",
    "os.environ['MASTER_PORT'] = '12355'\n",
    "os.environ[\"CUDA_VISIBLE_DEVICES\"] = \"0,1\"\n",
    "os.environ[\"NCCL_BLOCKING_WAIT\"] = '0'\n",
    "\n",
    "#os.environ['NCCL_SOCKET_IFNAME'] = 'lo'"
   ]
  },
  {
   "cell_type": "code",
   "execution_count": 2,
   "id": "6e5b26b7-6d9b-481c-af4f-a306cdcca35a",
   "metadata": {},
   "outputs": [
    {
     "data": {
      "text/plain": [
       "2"
      ]
     },
     "execution_count": 2,
     "metadata": {},
     "output_type": "execute_result"
    }
   ],
   "source": [
    "import torch\n",
    "from torch import tensor\n",
    "from DiSuQ.Torch.optimization import lossTransition\n",
    "from DiSuQ import utils\n",
    "torch.cuda.device_count()"
   ]
  },
  {
   "cell_type": "code",
   "execution_count": 3,
   "id": "ea37d803-efd9-4798-8313-20d177dcf94e",
   "metadata": {},
   "outputs": [],
   "source": [
    "from DiSuQ.Torch.models import transmon,fluxonium,zeroPi\n",
    "from datetime import timedelta\n",
    "import torch.distributed as dist\n",
    "from torch.distributed import TCPStore,FileStore\n",
    "from DiSuQ.Torch.components import DISTRIBUTION_BACKEND"
   ]
  },
  {
   "cell_type": "code",
   "execution_count": 4,
   "id": "1fe094bf-e362-4169-883d-a2d14bc8bc5d",
   "metadata": {},
   "outputs": [],
   "source": [
    "from torch.nn.parallel import DistributedDataParallel as DDP\n",
    "from torch.nn.parallel import DataParallel as DP"
   ]
  },
  {
   "cell_type": "code",
   "execution_count": 13,
   "id": "52fbfea7-51a0-4e81-a267-c1dd99aa94f2",
   "metadata": {},
   "outputs": [
    {
     "data": {
      "text/plain": [
       "(True, False)"
      ]
     },
     "execution_count": 13,
     "metadata": {},
     "output_type": "execute_result"
    }
   ],
   "source": [
    "torch.distributed.is_nccl_available(),torch.distributed.is_ucc_available()"
   ]
  },
  {
   "cell_type": "code",
   "execution_count": 6,
   "id": "5b75c33a-0622-4d82-962b-16ca983ca6d4",
   "metadata": {},
   "outputs": [],
   "source": [
    "torch.set_num_threads(36)\n",
    "cuda0 = torch.device('cuda:0')\n",
    "cuda1 = torch.device('cuda:1')\n",
    "cpu = torch.device('cpu')\n",
    "torch.set_default_device(cuda0)"
   ]
  },
  {
   "cell_type": "code",
   "execution_count": 7,
   "id": "f649ac27-96e0-4105-9356-c79ddcdc0eed",
   "metadata": {},
   "outputs": [],
   "source": [
    "file_path = '/tmp/filestore'\n",
    "if os.path.exists(file_path):\n",
    "    os.remove(file_path)\n",
    "file_store = FileStore(file_path, world_size)"
   ]
  },
  {
   "cell_type": "code",
   "execution_count": 8,
   "id": "27ca76f9-f29d-4f36-a1c2-44215bbf3604",
   "metadata": {},
   "outputs": [
    {
     "data": {
      "text/plain": [
       "0"
      ]
     },
     "execution_count": 8,
     "metadata": {},
     "output_type": "execute_result"
    }
   ],
   "source": [
    "file_store.add('store_based_barrier_key:1',0)"
   ]
  },
  {
   "cell_type": "code",
   "execution_count": 9,
   "id": "e4d05db7-a840-4d53-85bb-4e1f79e8d375",
   "metadata": {},
   "outputs": [],
   "source": [
    "#FileStore(\"/tmp/filestemp\", world_size)"
   ]
  },
  {
   "cell_type": "code",
   "execution_count": 10,
   "id": "48e2cf01-c016-44b2-9640-b27df5576cb6",
   "metadata": {},
   "outputs": [],
   "source": [
    "#server_store = dist.TCPStore(\"localhost\", 1234, world_size, True, timedelta(seconds=1),False)"
   ]
  },
  {
   "cell_type": "code",
   "execution_count": 17,
   "id": "6d824863-5f6c-4c16-b863-a9197e8fe5d6",
   "metadata": {},
   "outputs": [],
   "source": [
    "from DiSuQ.Torch.circuit import Charge,Kerman\n",
    "#basis = [15,15,15]\n",
    "#flux_profile = Tensor([[0.],[.15],[.30],[.5]])\n",
    "#circuit = zeroPi(Charge,basis,sparse=False)\n",
    "basis = [1500]\n",
    "flux_profile = [dict()]\n",
    "circuit = transmon(Charge,basis,sparse=False)\n",
    "flux_profile = tensor([[0.],[.15],[.30],[.5]],device=None)\n",
    "circuit = fluxonium(Charge,basis,sparse=False)\n",
    "control_iDs = dict()"
   ]
  },
  {
   "cell_type": "code",
   "execution_count": 11,
   "id": "2d07b6f7-2f82-4aae-80ac-f245bbfcbc59",
   "metadata": {},
   "outputs": [],
   "source": [
    "hash_store = dist.HashStore()"
   ]
  },
  {
   "cell_type": "code",
   "execution_count": 12,
   "id": "bef379da-ad0f-4a06-b2fe-b0c7cdda26f1",
   "metadata": {},
   "outputs": [
    {
     "data": {
      "text/plain": [
       "0"
      ]
     },
     "execution_count": 12,
     "metadata": {},
     "output_type": "execute_result"
    }
   ],
   "source": [
    "hash_store.add('store_based_barrier_key:1',0)"
   ]
  },
  {
   "cell_type": "code",
   "execution_count": null,
   "id": "07c60138-8dce-49e0-bd00-3d8e7593d5fb",
   "metadata": {},
   "outputs": [],
   "source": [
    "torch.cuda.set_device(cuda0)"
   ]
  },
  {
   "cell_type": "code",
   "execution_count": 14,
   "id": "210f5c90-5642-464e-a04e-20613cffde5e",
   "metadata": {},
   "outputs": [],
   "source": [
    "dist.init_process_group(backend='nccl',store = file_store, world_size= world_size, rank=0, timeout=timedelta(seconds=50))"
   ]
  },
  {
   "cell_type": "code",
   "execution_count": 15,
   "id": "c802bf34-fb15-4b00-b4b4-aedbdc9d7b44",
   "metadata": {},
   "outputs": [],
   "source": [
    "#dist.init_process_group(backend='nccl')"
   ]
  },
  {
   "cell_type": "code",
   "execution_count": null,
   "id": "ab8edf24-18c3-439c-b875-be92b6d3fe85",
   "metadata": {},
   "outputs": [],
   "source": [
    "module = DDP(circuit,device_ids=[cuda0],output_device=cuda0)"
   ]
  },
  {
   "cell_type": "code",
   "execution_count": null,
   "id": "6d471d32-0db8-4a0c-a6cc-5c042bcb9e0e",
   "metadata": {},
   "outputs": [],
   "source": [
    "from DiSuQ.Torch.optimization import GradientDescent"
   ]
  },
  {
   "cell_type": "code",
   "execution_count": null,
   "id": "ced16b04-4104-496b-b51e-c074129b9515",
   "metadata": {},
   "outputs": [],
   "source": [
    "loss = lossTransition(tensor(5.),tensor(4.5))\n",
    "optim = GradientDescent(circuit,module,flux_profile,loss)\n",
    "optim.optimizer = optim.initAlgo(lr=1e-2)\n",
    "print(circuit.circuitComponents())\n",
    "dLogs,dParams,dCircuit = optim.optimization(100)"
   ]
  },
  {
   "cell_type": "code",
   "execution_count": null,
   "id": "7361e0a6-93d7-4088-b410-3ff8763bc9dc",
   "metadata": {},
   "outputs": [],
   "source": [
    "dLogs"
   ]
  },
  {
   "cell_type": "code",
   "execution_count": null,
   "id": "5a4e59fa-be7b-4467-bac0-1231910057f4",
   "metadata": {},
   "outputs": [],
   "source": [
    "plt.hist(dLogs['time'])\n",
    "plt.show()"
   ]
  },
  {
   "cell_type": "code",
   "execution_count": null,
   "id": "4c9e95cc-eab1-4264-b1db-371a48f16af0",
   "metadata": {},
   "outputs": [],
   "source": [
    "dist.destroy_process_group()"
   ]
  },
  {
   "cell_type": "code",
   "execution_count": null,
   "id": "b62cdb5f-55fa-4b46-a562-1bc1477d776e",
   "metadata": {},
   "outputs": [],
   "source": []
  }
 ],
 "metadata": {
  "kernelspec": {
   "display_name": "Python 3 (ipykernel)",
   "language": "python",
   "name": "python3"
  },
  "language_info": {
   "codemirror_mode": {
    "name": "ipython",
    "version": 3
   },
   "file_extension": ".py",
   "mimetype": "text/x-python",
   "name": "python",
   "nbconvert_exporter": "python",
   "pygments_lexer": "ipython3",
   "version": "3.9.18"
  }
 },
 "nbformat": 4,
 "nbformat_minor": 5
}
