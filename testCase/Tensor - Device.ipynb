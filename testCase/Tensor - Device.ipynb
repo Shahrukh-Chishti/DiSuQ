{
 "cells": [
  {
   "cell_type": "code",
   "execution_count": 1,
   "id": "fbaa2094-ed62-4544-9b08-6165bb5e8f6c",
   "metadata": {},
   "outputs": [],
   "source": [
    "import torch"
   ]
  },
  {
   "cell_type": "code",
   "execution_count": 7,
   "id": "be1e3bf2-f6a3-4f71-baf2-f909f486c304",
   "metadata": {},
   "outputs": [],
   "source": [
    "torch.set_default_device(mps)"
   ]
  },
  {
   "cell_type": "code",
   "execution_count": 3,
   "id": "82256a5f-5c8f-40b9-a98a-3ab596ac9c13",
   "metadata": {},
   "outputs": [
    {
     "data": {
      "text/plain": [
       "0"
      ]
     },
     "execution_count": 3,
     "metadata": {},
     "output_type": "execute_result"
    }
   ],
   "source": [
    "torch.mps.current_allocated_memory()"
   ]
  },
  {
   "cell_type": "code",
   "execution_count": 4,
   "id": "3febdfa0-de58-449b-a196-9adbe58c8303",
   "metadata": {},
   "outputs": [
    {
     "data": {
      "text/plain": [
       "1.703125"
      ]
     },
     "execution_count": 4,
     "metadata": {},
     "output_type": "execute_result"
    }
   ],
   "source": [
    "torch.mps.driver_allocated_memory() / 1024 / 1024"
   ]
  },
  {
   "cell_type": "code",
   "execution_count": 6,
   "id": "24d4e712-1884-4868-915c-3ebb5141c731",
   "metadata": {},
   "outputs": [],
   "source": [
    "mps = torch.device(\"mps\")\n",
    "cpu = torch.device('cpu')"
   ]
  },
  {
   "cell_type": "code",
   "execution_count": 8,
   "id": "bd3ee910-cb0d-4961-b20f-ccfc1ae8a847",
   "metadata": {},
   "outputs": [],
   "source": [
    "x = torch.ones((3,3), device=None)"
   ]
  },
  {
   "cell_type": "code",
   "execution_count": 3,
   "id": "1f01b924-3785-4603-9835-d66f16bd9e4d",
   "metadata": {},
   "outputs": [
    {
     "data": {
      "text/plain": [
       "36"
      ]
     },
     "execution_count": 3,
     "metadata": {},
     "output_type": "execute_result"
    }
   ],
   "source": [
    "x.element_size()*x.nelement()"
   ]
  },
  {
   "cell_type": "code",
   "execution_count": 9,
   "id": "c4cd239a-6e71-436a-9505-b515e585a911",
   "metadata": {},
   "outputs": [
    {
     "data": {
      "text/plain": [
       "device(type='mps', index=0)"
      ]
     },
     "execution_count": 9,
     "metadata": {},
     "output_type": "execute_result"
    }
   ],
   "source": [
    "x.device"
   ]
  },
  {
   "cell_type": "code",
   "execution_count": null,
   "id": "57b43328-12a1-476e-9c4a-6135d0f0520d",
   "metadata": {},
   "outputs": [],
   "source": []
  }
 ],
 "metadata": {
  "kernelspec": {
   "display_name": "Python 3 (ipykernel)",
   "language": "python",
   "name": "python3"
  },
  "language_info": {
   "codemirror_mode": {
    "name": "ipython",
    "version": 3
   },
   "file_extension": ".py",
   "mimetype": "text/x-python",
   "name": "python",
   "nbconvert_exporter": "python",
   "pygments_lexer": "ipython3",
   "version": "3.12.2"
  }
 },
 "nbformat": 4,
 "nbformat_minor": 5
}
