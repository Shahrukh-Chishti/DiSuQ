{
 "cells": [
  {
   "cell_type": "markdown",
   "id": "564a2e61",
   "metadata": {},
   "source": [
    "testing Torch backend:\n",
    "* circuit : transmon, fluxonium"
   ]
  },
  {
   "cell_type": "code",
   "execution_count": 1,
   "id": "c2dba266",
   "metadata": {},
   "outputs": [],
   "source": [
    "from DiSuQ.Torch import models\n",
    "from torch import tensor\n",
    "from numpy import arange\n",
    "from DiSuQ.utils import plotCompare"
   ]
  },
  {
   "cell_type": "code",
   "execution_count": null,
   "id": "8f61aa19",
   "metadata": {},
   "outputs": [],
   "source": []
  }
 ],
 "metadata": {
  "kernelspec": {
   "display_name": "Python 3 (ipykernel)",
   "language": "python",
   "name": "python3"
  },
  "language_info": {
   "codemirror_mode": {
    "name": "ipython",
    "version": 3
   },
   "file_extension": ".py",
   "mimetype": "text/x-python",
   "name": "python",
   "nbconvert_exporter": "python",
   "pygments_lexer": "ipython3",
   "version": "3.10.7"
  }
 },
 "nbformat": 4,
 "nbformat_minor": 5
}
