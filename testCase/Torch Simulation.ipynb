{
 "cells": [
  {
   "cell_type": "markdown",
   "id": "564a2e61",
   "metadata": {},
   "source": [
    "testing Torch backend:\n",
    "* circuit : oscillator, transmon, fluxonium"
   ]
  },
  {
   "cell_type": "code",
   "execution_count": 58,
   "id": "c2dba266",
   "metadata": {},
   "outputs": [],
   "source": [
    "from DiSuQ.Torch import models\n",
    "from torch import tensor\n",
    "from numpy import arange,log10,sqrt,diff\n",
    "from DiSuQ.utils import plotCompare"
   ]
  },
  {
   "cell_type": "markdown",
   "id": "572b2af1",
   "metadata": {},
   "source": [
    "### LC oscillator"
   ]
  },
  {
   "cell_type": "code",
   "execution_count": 25,
   "id": "8f61aa19",
   "metadata": {},
   "outputs": [],
   "source": [
    "El = .112\n",
    "Ec = .0054\n",
    "circuit = models.oscillatorLC([50],El=El,Ec=Ec,sparse=False)"
   ]
  },
  {
   "cell_type": "code",
   "execution_count": 26,
   "id": "5784eb81",
   "metadata": {},
   "outputs": [
    {
     "data": {
      "text/plain": [
       "{'L': 0.11199995875358582, 'C': 0.005399998277425766}"
      ]
     },
     "execution_count": 26,
     "metadata": {},
     "output_type": "execute_result"
    }
   ],
   "source": [
    "circuit.circuitState()"
   ]
  },
  {
   "cell_type": "code",
   "execution_count": 27,
   "id": "61412805",
   "metadata": {},
   "outputs": [],
   "source": [
    "H_LC = circuit.oscillatorHamiltonianLC()\n",
    "oscillator = circuit.circuitEnergy(H_LC=H_LC,grad=False)"
   ]
  },
  {
   "cell_type": "code",
   "execution_count": 28,
   "id": "8f322686",
   "metadata": {},
   "outputs": [
    {
     "data": {
      "text/plain": [
       "0.06955860838170931"
      ]
     },
     "execution_count": 28,
     "metadata": {},
     "output_type": "execute_result"
    }
   ],
   "source": [
    "sqrt(8*El*Ec)"
   ]
  },
  {
   "cell_type": "code",
   "execution_count": 29,
   "id": "9665465c",
   "metadata": {},
   "outputs": [],
   "source": [
    "H_LC = circuit.chargeHamiltonianLC()\n",
    "charge = circuit.circuitEnergy(H_LC=H_LC,grad=False)"
   ]
  },
  {
   "cell_type": "code",
   "execution_count": 30,
   "id": "e2e57bcf",
   "metadata": {},
   "outputs": [
    {
     "data": {
      "application/vnd.plotly.v1+json": {
       "config": {
        "linkText": "Export to plot.ly",
        "plotlyServerURL": "https://plot.ly",
        "showLink": false
       },
       "data": [
        {
         "line": {
          "width": 5
         },
         "name": "oscillator",
         "type": "scatter",
         "x": [
          0,
          1,
          2,
          3,
          4,
          5,
          6,
          7,
          8,
          9,
          10,
          11,
          12,
          13,
          14,
          15,
          16,
          17,
          18,
          19,
          20,
          21,
          22,
          23,
          24,
          25,
          26,
          27,
          28,
          29,
          30,
          31,
          32,
          33,
          34,
          35,
          36,
          37,
          38,
          39,
          40,
          41,
          42,
          43,
          44,
          45,
          46,
          47,
          48,
          49
         ],
         "y": [
          0.03477929159998894,
          0.10433788597583771,
          0.17389646172523499,
          0.24345505237579346,
          0.31301361322402954,
          0.3825722634792328,
          0.45213085412979126,
          0.5216894149780273,
          0.5912479162216187,
          0.6608065962791443,
          0.7303651571273804,
          0.7999237775802612,
          0.8694822788238525,
          0.9390408992767334,
          1.0085995197296143,
          1.0781581401824951,
          1.1477165222167969,
          1.2172751426696777,
          1.2868340015411377,
          1.3563926219940186,
          1.4259511232376099,
          1.4955096244812012,
          1.565068244934082,
          1.6346269845962524,
          1.7041852474212646,
          1.7041856050491333,
          1.7737441062927246,
          1.843302607536316,
          1.9128611087799072,
          1.982419729232788,
          2.051978588104248,
          2.12153697013855,
          2.1910953521728516,
          2.2606539726257324,
          2.3302125930786133,
          2.3997714519500732,
          2.469329833984375,
          2.538888454437256,
          2.6084470748901367,
          2.6780056953430176,
          2.7475643157958984,
          2.8171229362487793,
          2.88668155670166,
          2.956239938735962,
          3.0257985591888428,
          3.0953571796417236,
          3.1649158000946045,
          3.2344744205474854,
          3.304033041000366,
          3.373591423034668
         ]
        },
        {
         "line": {
          "width": 5
         },
         "name": "charge",
         "type": "scatter",
         "x": [
          0,
          1,
          2,
          3,
          4,
          5,
          6,
          7,
          8,
          9,
          10,
          11,
          12,
          13,
          14,
          15,
          16,
          17,
          18,
          19,
          20,
          21,
          22,
          23,
          24,
          25,
          26,
          27,
          28,
          29,
          30,
          31,
          32,
          33,
          34,
          35,
          36,
          37,
          38,
          39,
          40,
          41,
          42,
          43,
          44,
          45,
          46,
          47,
          48,
          49
         ],
         "y": [
          0.03477928787469864,
          0.10433902591466904,
          0.17387929558753967,
          0.24358253180980682,
          0.31212183833122253,
          0.3854849934577942,
          0.44121336936950684,
          0.5429940223693848,
          0.567659854888916,
          0.7348838448524475,
          0.7431773543357849,
          0.9696474075317383,
          0.9732980132102966,
          1.2484596967697144,
          1.250508189201355,
          1.5711143016815186,
          1.5724388360977173,
          1.9373787641525269,
          1.9383111000061035,
          2.3471062183380127,
          2.347799301147461,
          2.80020809173584,
          2.8007423877716064,
          3.296628952026367,
          3.2970516681671143,
          3.836334228515625,
          3.8366756439208984,
          4.419300556182861,
          4.41957950592041,
          5.0455121994018555,
          5.045742511749268,
          5.714958667755127,
          5.715149402618408,
          6.427631378173828,
          6.427789211273193,
          7.183525085449219,
          7.183656215667725,
          7.982635498046875,
          7.982742786407471,
          8.824959754943848,
          8.82504653930664,
          9.710494041442871,
          9.710562705993652,
          10.639237403869629,
          10.639289855957031,
          11.611189842224121,
          11.611226081848145,
          12.626347541809082,
          12.62636947631836,
          13.684709548950195,
          13.684718132019043,
          14.786272048950195,
          14.786277770996094,
          15.93103313446045,
          15.931052207946777,
          17.118995666503906,
          17.119029998779297,
          18.35015869140625,
          18.350208282470703,
          19.624526977539062,
          19.624591827392578,
          20.942092895507812,
          20.942176818847656,
          22.30286407470703,
          22.30296516418457,
          23.706832885742188,
          23.70695686340332,
          25.154003143310547,
          25.154150009155273,
          26.644372940063477,
          26.644550323486328,
          28.177942276000977,
          28.17815399169922,
          29.75470733642578,
          29.754961013793945,
          31.374670028686523,
          31.37497329711914,
          33.03782653808594,
          33.03819274902344,
          34.744178771972656,
          34.744625091552734,
          36.49371337890625,
          36.49427032470703,
          38.28642654418945,
          38.287132263183594,
          40.122318267822266,
          40.12322998046875,
          42.0013542175293,
          42.00257110595703,
          43.92350387573242,
          43.925209045410156,
          45.88867950439453,
          45.89121627807617,
          47.896663665771484,
          47.900814056396484,
          49.94675064086914,
          49.954689025878906,
          52.03534698486328,
          52.056339263916016,
          54.075775146484375,
          54.305538177490234
         ]
        }
       ],
       "layout": {
        "font": {
         "size": 20
        },
        "legend": {
         "x": 0.99,
         "xanchor": "right",
         "y": 0.99,
         "yanchor": "top"
        },
        "margin": {
         "r": 10,
         "t": 100
        },
        "showlegend": true,
        "template": {
         "data": {
          "bar": [
           {
            "error_x": {
             "color": "#2a3f5f"
            },
            "error_y": {
             "color": "#2a3f5f"
            },
            "marker": {
             "line": {
              "color": "#E5ECF6",
              "width": 0.5
             },
             "pattern": {
              "fillmode": "overlay",
              "size": 10,
              "solidity": 0.2
             }
            },
            "type": "bar"
           }
          ],
          "barpolar": [
           {
            "marker": {
             "line": {
              "color": "#E5ECF6",
              "width": 0.5
             },
             "pattern": {
              "fillmode": "overlay",
              "size": 10,
              "solidity": 0.2
             }
            },
            "type": "barpolar"
           }
          ],
          "carpet": [
           {
            "aaxis": {
             "endlinecolor": "#2a3f5f",
             "gridcolor": "white",
             "linecolor": "white",
             "minorgridcolor": "white",
             "startlinecolor": "#2a3f5f"
            },
            "baxis": {
             "endlinecolor": "#2a3f5f",
             "gridcolor": "white",
             "linecolor": "white",
             "minorgridcolor": "white",
             "startlinecolor": "#2a3f5f"
            },
            "type": "carpet"
           }
          ],
          "choropleth": [
           {
            "colorbar": {
             "outlinewidth": 0,
             "ticks": ""
            },
            "type": "choropleth"
           }
          ],
          "contour": [
           {
            "colorbar": {
             "outlinewidth": 0,
             "ticks": ""
            },
            "colorscale": [
             [
              0,
              "#0d0887"
             ],
             [
              0.1111111111111111,
              "#46039f"
             ],
             [
              0.2222222222222222,
              "#7201a8"
             ],
             [
              0.3333333333333333,
              "#9c179e"
             ],
             [
              0.4444444444444444,
              "#bd3786"
             ],
             [
              0.5555555555555556,
              "#d8576b"
             ],
             [
              0.6666666666666666,
              "#ed7953"
             ],
             [
              0.7777777777777778,
              "#fb9f3a"
             ],
             [
              0.8888888888888888,
              "#fdca26"
             ],
             [
              1,
              "#f0f921"
             ]
            ],
            "type": "contour"
           }
          ],
          "contourcarpet": [
           {
            "colorbar": {
             "outlinewidth": 0,
             "ticks": ""
            },
            "type": "contourcarpet"
           }
          ],
          "heatmap": [
           {
            "colorbar": {
             "outlinewidth": 0,
             "ticks": ""
            },
            "colorscale": [
             [
              0,
              "#0d0887"
             ],
             [
              0.1111111111111111,
              "#46039f"
             ],
             [
              0.2222222222222222,
              "#7201a8"
             ],
             [
              0.3333333333333333,
              "#9c179e"
             ],
             [
              0.4444444444444444,
              "#bd3786"
             ],
             [
              0.5555555555555556,
              "#d8576b"
             ],
             [
              0.6666666666666666,
              "#ed7953"
             ],
             [
              0.7777777777777778,
              "#fb9f3a"
             ],
             [
              0.8888888888888888,
              "#fdca26"
             ],
             [
              1,
              "#f0f921"
             ]
            ],
            "type": "heatmap"
           }
          ],
          "heatmapgl": [
           {
            "colorbar": {
             "outlinewidth": 0,
             "ticks": ""
            },
            "colorscale": [
             [
              0,
              "#0d0887"
             ],
             [
              0.1111111111111111,
              "#46039f"
             ],
             [
              0.2222222222222222,
              "#7201a8"
             ],
             [
              0.3333333333333333,
              "#9c179e"
             ],
             [
              0.4444444444444444,
              "#bd3786"
             ],
             [
              0.5555555555555556,
              "#d8576b"
             ],
             [
              0.6666666666666666,
              "#ed7953"
             ],
             [
              0.7777777777777778,
              "#fb9f3a"
             ],
             [
              0.8888888888888888,
              "#fdca26"
             ],
             [
              1,
              "#f0f921"
             ]
            ],
            "type": "heatmapgl"
           }
          ],
          "histogram": [
           {
            "marker": {
             "pattern": {
              "fillmode": "overlay",
              "size": 10,
              "solidity": 0.2
             }
            },
            "type": "histogram"
           }
          ],
          "histogram2d": [
           {
            "colorbar": {
             "outlinewidth": 0,
             "ticks": ""
            },
            "colorscale": [
             [
              0,
              "#0d0887"
             ],
             [
              0.1111111111111111,
              "#46039f"
             ],
             [
              0.2222222222222222,
              "#7201a8"
             ],
             [
              0.3333333333333333,
              "#9c179e"
             ],
             [
              0.4444444444444444,
              "#bd3786"
             ],
             [
              0.5555555555555556,
              "#d8576b"
             ],
             [
              0.6666666666666666,
              "#ed7953"
             ],
             [
              0.7777777777777778,
              "#fb9f3a"
             ],
             [
              0.8888888888888888,
              "#fdca26"
             ],
             [
              1,
              "#f0f921"
             ]
            ],
            "type": "histogram2d"
           }
          ],
          "histogram2dcontour": [
           {
            "colorbar": {
             "outlinewidth": 0,
             "ticks": ""
            },
            "colorscale": [
             [
              0,
              "#0d0887"
             ],
             [
              0.1111111111111111,
              "#46039f"
             ],
             [
              0.2222222222222222,
              "#7201a8"
             ],
             [
              0.3333333333333333,
              "#9c179e"
             ],
             [
              0.4444444444444444,
              "#bd3786"
             ],
             [
              0.5555555555555556,
              "#d8576b"
             ],
             [
              0.6666666666666666,
              "#ed7953"
             ],
             [
              0.7777777777777778,
              "#fb9f3a"
             ],
             [
              0.8888888888888888,
              "#fdca26"
             ],
             [
              1,
              "#f0f921"
             ]
            ],
            "type": "histogram2dcontour"
           }
          ],
          "mesh3d": [
           {
            "colorbar": {
             "outlinewidth": 0,
             "ticks": ""
            },
            "type": "mesh3d"
           }
          ],
          "parcoords": [
           {
            "line": {
             "colorbar": {
              "outlinewidth": 0,
              "ticks": ""
             }
            },
            "type": "parcoords"
           }
          ],
          "pie": [
           {
            "automargin": true,
            "type": "pie"
           }
          ],
          "scatter": [
           {
            "fillpattern": {
             "fillmode": "overlay",
             "size": 10,
             "solidity": 0.2
            },
            "type": "scatter"
           }
          ],
          "scatter3d": [
           {
            "line": {
             "colorbar": {
              "outlinewidth": 0,
              "ticks": ""
             }
            },
            "marker": {
             "colorbar": {
              "outlinewidth": 0,
              "ticks": ""
             }
            },
            "type": "scatter3d"
           }
          ],
          "scattercarpet": [
           {
            "marker": {
             "colorbar": {
              "outlinewidth": 0,
              "ticks": ""
             }
            },
            "type": "scattercarpet"
           }
          ],
          "scattergeo": [
           {
            "marker": {
             "colorbar": {
              "outlinewidth": 0,
              "ticks": ""
             }
            },
            "type": "scattergeo"
           }
          ],
          "scattergl": [
           {
            "marker": {
             "colorbar": {
              "outlinewidth": 0,
              "ticks": ""
             }
            },
            "type": "scattergl"
           }
          ],
          "scattermapbox": [
           {
            "marker": {
             "colorbar": {
              "outlinewidth": 0,
              "ticks": ""
             }
            },
            "type": "scattermapbox"
           }
          ],
          "scatterpolar": [
           {
            "marker": {
             "colorbar": {
              "outlinewidth": 0,
              "ticks": ""
             }
            },
            "type": "scatterpolar"
           }
          ],
          "scatterpolargl": [
           {
            "marker": {
             "colorbar": {
              "outlinewidth": 0,
              "ticks": ""
             }
            },
            "type": "scatterpolargl"
           }
          ],
          "scatterternary": [
           {
            "marker": {
             "colorbar": {
              "outlinewidth": 0,
              "ticks": ""
             }
            },
            "type": "scatterternary"
           }
          ],
          "surface": [
           {
            "colorbar": {
             "outlinewidth": 0,
             "ticks": ""
            },
            "colorscale": [
             [
              0,
              "#0d0887"
             ],
             [
              0.1111111111111111,
              "#46039f"
             ],
             [
              0.2222222222222222,
              "#7201a8"
             ],
             [
              0.3333333333333333,
              "#9c179e"
             ],
             [
              0.4444444444444444,
              "#bd3786"
             ],
             [
              0.5555555555555556,
              "#d8576b"
             ],
             [
              0.6666666666666666,
              "#ed7953"
             ],
             [
              0.7777777777777778,
              "#fb9f3a"
             ],
             [
              0.8888888888888888,
              "#fdca26"
             ],
             [
              1,
              "#f0f921"
             ]
            ],
            "type": "surface"
           }
          ],
          "table": [
           {
            "cells": {
             "fill": {
              "color": "#EBF0F8"
             },
             "line": {
              "color": "white"
             }
            },
            "header": {
             "fill": {
              "color": "#C8D4E3"
             },
             "line": {
              "color": "white"
             }
            },
            "type": "table"
           }
          ]
         },
         "layout": {
          "annotationdefaults": {
           "arrowcolor": "#2a3f5f",
           "arrowhead": 0,
           "arrowwidth": 1
          },
          "autotypenumbers": "strict",
          "coloraxis": {
           "colorbar": {
            "outlinewidth": 0,
            "ticks": ""
           }
          },
          "colorscale": {
           "diverging": [
            [
             0,
             "#8e0152"
            ],
            [
             0.1,
             "#c51b7d"
            ],
            [
             0.2,
             "#de77ae"
            ],
            [
             0.3,
             "#f1b6da"
            ],
            [
             0.4,
             "#fde0ef"
            ],
            [
             0.5,
             "#f7f7f7"
            ],
            [
             0.6,
             "#e6f5d0"
            ],
            [
             0.7,
             "#b8e186"
            ],
            [
             0.8,
             "#7fbc41"
            ],
            [
             0.9,
             "#4d9221"
            ],
            [
             1,
             "#276419"
            ]
           ],
           "sequential": [
            [
             0,
             "#0d0887"
            ],
            [
             0.1111111111111111,
             "#46039f"
            ],
            [
             0.2222222222222222,
             "#7201a8"
            ],
            [
             0.3333333333333333,
             "#9c179e"
            ],
            [
             0.4444444444444444,
             "#bd3786"
            ],
            [
             0.5555555555555556,
             "#d8576b"
            ],
            [
             0.6666666666666666,
             "#ed7953"
            ],
            [
             0.7777777777777778,
             "#fb9f3a"
            ],
            [
             0.8888888888888888,
             "#fdca26"
            ],
            [
             1,
             "#f0f921"
            ]
           ],
           "sequentialminus": [
            [
             0,
             "#0d0887"
            ],
            [
             0.1111111111111111,
             "#46039f"
            ],
            [
             0.2222222222222222,
             "#7201a8"
            ],
            [
             0.3333333333333333,
             "#9c179e"
            ],
            [
             0.4444444444444444,
             "#bd3786"
            ],
            [
             0.5555555555555556,
             "#d8576b"
            ],
            [
             0.6666666666666666,
             "#ed7953"
            ],
            [
             0.7777777777777778,
             "#fb9f3a"
            ],
            [
             0.8888888888888888,
             "#fdca26"
            ],
            [
             1,
             "#f0f921"
            ]
           ]
          },
          "colorway": [
           "#636efa",
           "#EF553B",
           "#00cc96",
           "#ab63fa",
           "#FFA15A",
           "#19d3f3",
           "#FF6692",
           "#B6E880",
           "#FF97FF",
           "#FECB52"
          ],
          "font": {
           "color": "#2a3f5f"
          },
          "geo": {
           "bgcolor": "white",
           "lakecolor": "white",
           "landcolor": "#E5ECF6",
           "showlakes": true,
           "showland": true,
           "subunitcolor": "white"
          },
          "hoverlabel": {
           "align": "left"
          },
          "hovermode": "closest",
          "mapbox": {
           "style": "light"
          },
          "paper_bgcolor": "white",
          "plot_bgcolor": "#E5ECF6",
          "polar": {
           "angularaxis": {
            "gridcolor": "white",
            "linecolor": "white",
            "ticks": ""
           },
           "bgcolor": "#E5ECF6",
           "radialaxis": {
            "gridcolor": "white",
            "linecolor": "white",
            "ticks": ""
           }
          },
          "scene": {
           "xaxis": {
            "backgroundcolor": "#E5ECF6",
            "gridcolor": "white",
            "gridwidth": 2,
            "linecolor": "white",
            "showbackground": true,
            "ticks": "",
            "zerolinecolor": "white"
           },
           "yaxis": {
            "backgroundcolor": "#E5ECF6",
            "gridcolor": "white",
            "gridwidth": 2,
            "linecolor": "white",
            "showbackground": true,
            "ticks": "",
            "zerolinecolor": "white"
           },
           "zaxis": {
            "backgroundcolor": "#E5ECF6",
            "gridcolor": "white",
            "gridwidth": 2,
            "linecolor": "white",
            "showbackground": true,
            "ticks": "",
            "zerolinecolor": "white"
           }
          },
          "shapedefaults": {
           "line": {
            "color": "#2a3f5f"
           }
          },
          "ternary": {
           "aaxis": {
            "gridcolor": "white",
            "linecolor": "white",
            "ticks": ""
           },
           "baxis": {
            "gridcolor": "white",
            "linecolor": "white",
            "ticks": ""
           },
           "bgcolor": "#E5ECF6",
           "caxis": {
            "gridcolor": "white",
            "linecolor": "white",
            "ticks": ""
           }
          },
          "title": {
           "x": 0.05
          },
          "xaxis": {
           "automargin": true,
           "gridcolor": "white",
           "linecolor": "white",
           "ticks": "",
           "title": {
            "standoff": 15
           },
           "zerolinecolor": "white",
           "zerolinewidth": 2
          },
          "yaxis": {
           "automargin": true,
           "gridcolor": "white",
           "linecolor": "white",
           "ticks": "",
           "title": {
            "standoff": 15
           },
           "zerolinecolor": "white",
           "zerolinewidth": 2
          }
         }
        },
        "title": {
         "text": "Energy Spectrum"
        },
        "xaxis": {
         "title": {
          "text": "levels"
         }
        },
        "yaxis": {
         "title": {
          "text": "E(GHz)"
         }
        }
       }
      },
      "text/html": [
       "<div>                            <div id=\"39b29e03-b907-4b57-9714-018a26759dcf\" class=\"plotly-graph-div\" style=\"height:525px; width:100%;\"></div>            <script type=\"text/javascript\">                require([\"plotly\"], function(Plotly) {                    window.PLOTLYENV=window.PLOTLYENV || {};                                    if (document.getElementById(\"39b29e03-b907-4b57-9714-018a26759dcf\")) {                    Plotly.newPlot(                        \"39b29e03-b907-4b57-9714-018a26759dcf\",                        [{\"line\":{\"width\":5},\"name\":\"oscillator\",\"x\":[0,1,2,3,4,5,6,7,8,9,10,11,12,13,14,15,16,17,18,19,20,21,22,23,24,25,26,27,28,29,30,31,32,33,34,35,36,37,38,39,40,41,42,43,44,45,46,47,48,49],\"y\":[0.03477929159998894,0.10433788597583771,0.17389646172523499,0.24345505237579346,0.31301361322402954,0.3825722634792328,0.45213085412979126,0.5216894149780273,0.5912479162216187,0.6608065962791443,0.7303651571273804,0.7999237775802612,0.8694822788238525,0.9390408992767334,1.0085995197296143,1.0781581401824951,1.1477165222167969,1.2172751426696777,1.2868340015411377,1.3563926219940186,1.4259511232376099,1.4955096244812012,1.565068244934082,1.6346269845962524,1.7041852474212646,1.7041856050491333,1.7737441062927246,1.843302607536316,1.9128611087799072,1.982419729232788,2.051978588104248,2.12153697013855,2.1910953521728516,2.2606539726257324,2.3302125930786133,2.3997714519500732,2.469329833984375,2.538888454437256,2.6084470748901367,2.6780056953430176,2.7475643157958984,2.8171229362487793,2.88668155670166,2.956239938735962,3.0257985591888428,3.0953571796417236,3.1649158000946045,3.2344744205474854,3.304033041000366,3.373591423034668],\"type\":\"scatter\"},{\"line\":{\"width\":5},\"name\":\"charge\",\"x\":[0,1,2,3,4,5,6,7,8,9,10,11,12,13,14,15,16,17,18,19,20,21,22,23,24,25,26,27,28,29,30,31,32,33,34,35,36,37,38,39,40,41,42,43,44,45,46,47,48,49],\"y\":[0.03477928787469864,0.10433902591466904,0.17387929558753967,0.24358253180980682,0.31212183833122253,0.3854849934577942,0.44121336936950684,0.5429940223693848,0.567659854888916,0.7348838448524475,0.7431773543357849,0.9696474075317383,0.9732980132102966,1.2484596967697144,1.250508189201355,1.5711143016815186,1.5724388360977173,1.9373787641525269,1.9383111000061035,2.3471062183380127,2.347799301147461,2.80020809173584,2.8007423877716064,3.296628952026367,3.2970516681671143,3.836334228515625,3.8366756439208984,4.419300556182861,4.41957950592041,5.0455121994018555,5.045742511749268,5.714958667755127,5.715149402618408,6.427631378173828,6.427789211273193,7.183525085449219,7.183656215667725,7.982635498046875,7.982742786407471,8.824959754943848,8.82504653930664,9.710494041442871,9.710562705993652,10.639237403869629,10.639289855957031,11.611189842224121,11.611226081848145,12.626347541809082,12.62636947631836,13.684709548950195,13.684718132019043,14.786272048950195,14.786277770996094,15.93103313446045,15.931052207946777,17.118995666503906,17.119029998779297,18.35015869140625,18.350208282470703,19.624526977539062,19.624591827392578,20.942092895507812,20.942176818847656,22.30286407470703,22.30296516418457,23.706832885742188,23.70695686340332,25.154003143310547,25.154150009155273,26.644372940063477,26.644550323486328,28.177942276000977,28.17815399169922,29.75470733642578,29.754961013793945,31.374670028686523,31.37497329711914,33.03782653808594,33.03819274902344,34.744178771972656,34.744625091552734,36.49371337890625,36.49427032470703,38.28642654418945,38.287132263183594,40.122318267822266,40.12322998046875,42.0013542175293,42.00257110595703,43.92350387573242,43.925209045410156,45.88867950439453,45.89121627807617,47.896663665771484,47.900814056396484,49.94675064086914,49.954689025878906,52.03534698486328,52.056339263916016,54.075775146484375,54.305538177490234],\"type\":\"scatter\"}],                        {\"font\":{\"size\":20},\"legend\":{\"x\":0.99,\"xanchor\":\"right\",\"y\":0.99,\"yanchor\":\"top\"},\"margin\":{\"r\":10,\"t\":100},\"showlegend\":true,\"template\":{\"data\":{\"barpolar\":[{\"marker\":{\"line\":{\"color\":\"#E5ECF6\",\"width\":0.5},\"pattern\":{\"fillmode\":\"overlay\",\"size\":10,\"solidity\":0.2}},\"type\":\"barpolar\"}],\"bar\":[{\"error_x\":{\"color\":\"#2a3f5f\"},\"error_y\":{\"color\":\"#2a3f5f\"},\"marker\":{\"line\":{\"color\":\"#E5ECF6\",\"width\":0.5},\"pattern\":{\"fillmode\":\"overlay\",\"size\":10,\"solidity\":0.2}},\"type\":\"bar\"}],\"carpet\":[{\"aaxis\":{\"endlinecolor\":\"#2a3f5f\",\"gridcolor\":\"white\",\"linecolor\":\"white\",\"minorgridcolor\":\"white\",\"startlinecolor\":\"#2a3f5f\"},\"baxis\":{\"endlinecolor\":\"#2a3f5f\",\"gridcolor\":\"white\",\"linecolor\":\"white\",\"minorgridcolor\":\"white\",\"startlinecolor\":\"#2a3f5f\"},\"type\":\"carpet\"}],\"choropleth\":[{\"colorbar\":{\"outlinewidth\":0,\"ticks\":\"\"},\"type\":\"choropleth\"}],\"contourcarpet\":[{\"colorbar\":{\"outlinewidth\":0,\"ticks\":\"\"},\"type\":\"contourcarpet\"}],\"contour\":[{\"colorbar\":{\"outlinewidth\":0,\"ticks\":\"\"},\"colorscale\":[[0.0,\"#0d0887\"],[0.1111111111111111,\"#46039f\"],[0.2222222222222222,\"#7201a8\"],[0.3333333333333333,\"#9c179e\"],[0.4444444444444444,\"#bd3786\"],[0.5555555555555556,\"#d8576b\"],[0.6666666666666666,\"#ed7953\"],[0.7777777777777778,\"#fb9f3a\"],[0.8888888888888888,\"#fdca26\"],[1.0,\"#f0f921\"]],\"type\":\"contour\"}],\"heatmapgl\":[{\"colorbar\":{\"outlinewidth\":0,\"ticks\":\"\"},\"colorscale\":[[0.0,\"#0d0887\"],[0.1111111111111111,\"#46039f\"],[0.2222222222222222,\"#7201a8\"],[0.3333333333333333,\"#9c179e\"],[0.4444444444444444,\"#bd3786\"],[0.5555555555555556,\"#d8576b\"],[0.6666666666666666,\"#ed7953\"],[0.7777777777777778,\"#fb9f3a\"],[0.8888888888888888,\"#fdca26\"],[1.0,\"#f0f921\"]],\"type\":\"heatmapgl\"}],\"heatmap\":[{\"colorbar\":{\"outlinewidth\":0,\"ticks\":\"\"},\"colorscale\":[[0.0,\"#0d0887\"],[0.1111111111111111,\"#46039f\"],[0.2222222222222222,\"#7201a8\"],[0.3333333333333333,\"#9c179e\"],[0.4444444444444444,\"#bd3786\"],[0.5555555555555556,\"#d8576b\"],[0.6666666666666666,\"#ed7953\"],[0.7777777777777778,\"#fb9f3a\"],[0.8888888888888888,\"#fdca26\"],[1.0,\"#f0f921\"]],\"type\":\"heatmap\"}],\"histogram2dcontour\":[{\"colorbar\":{\"outlinewidth\":0,\"ticks\":\"\"},\"colorscale\":[[0.0,\"#0d0887\"],[0.1111111111111111,\"#46039f\"],[0.2222222222222222,\"#7201a8\"],[0.3333333333333333,\"#9c179e\"],[0.4444444444444444,\"#bd3786\"],[0.5555555555555556,\"#d8576b\"],[0.6666666666666666,\"#ed7953\"],[0.7777777777777778,\"#fb9f3a\"],[0.8888888888888888,\"#fdca26\"],[1.0,\"#f0f921\"]],\"type\":\"histogram2dcontour\"}],\"histogram2d\":[{\"colorbar\":{\"outlinewidth\":0,\"ticks\":\"\"},\"colorscale\":[[0.0,\"#0d0887\"],[0.1111111111111111,\"#46039f\"],[0.2222222222222222,\"#7201a8\"],[0.3333333333333333,\"#9c179e\"],[0.4444444444444444,\"#bd3786\"],[0.5555555555555556,\"#d8576b\"],[0.6666666666666666,\"#ed7953\"],[0.7777777777777778,\"#fb9f3a\"],[0.8888888888888888,\"#fdca26\"],[1.0,\"#f0f921\"]],\"type\":\"histogram2d\"}],\"histogram\":[{\"marker\":{\"pattern\":{\"fillmode\":\"overlay\",\"size\":10,\"solidity\":0.2}},\"type\":\"histogram\"}],\"mesh3d\":[{\"colorbar\":{\"outlinewidth\":0,\"ticks\":\"\"},\"type\":\"mesh3d\"}],\"parcoords\":[{\"line\":{\"colorbar\":{\"outlinewidth\":0,\"ticks\":\"\"}},\"type\":\"parcoords\"}],\"pie\":[{\"automargin\":true,\"type\":\"pie\"}],\"scatter3d\":[{\"line\":{\"colorbar\":{\"outlinewidth\":0,\"ticks\":\"\"}},\"marker\":{\"colorbar\":{\"outlinewidth\":0,\"ticks\":\"\"}},\"type\":\"scatter3d\"}],\"scattercarpet\":[{\"marker\":{\"colorbar\":{\"outlinewidth\":0,\"ticks\":\"\"}},\"type\":\"scattercarpet\"}],\"scattergeo\":[{\"marker\":{\"colorbar\":{\"outlinewidth\":0,\"ticks\":\"\"}},\"type\":\"scattergeo\"}],\"scattergl\":[{\"marker\":{\"colorbar\":{\"outlinewidth\":0,\"ticks\":\"\"}},\"type\":\"scattergl\"}],\"scattermapbox\":[{\"marker\":{\"colorbar\":{\"outlinewidth\":0,\"ticks\":\"\"}},\"type\":\"scattermapbox\"}],\"scatterpolargl\":[{\"marker\":{\"colorbar\":{\"outlinewidth\":0,\"ticks\":\"\"}},\"type\":\"scatterpolargl\"}],\"scatterpolar\":[{\"marker\":{\"colorbar\":{\"outlinewidth\":0,\"ticks\":\"\"}},\"type\":\"scatterpolar\"}],\"scatter\":[{\"fillpattern\":{\"fillmode\":\"overlay\",\"size\":10,\"solidity\":0.2},\"type\":\"scatter\"}],\"scatterternary\":[{\"marker\":{\"colorbar\":{\"outlinewidth\":0,\"ticks\":\"\"}},\"type\":\"scatterternary\"}],\"surface\":[{\"colorbar\":{\"outlinewidth\":0,\"ticks\":\"\"},\"colorscale\":[[0.0,\"#0d0887\"],[0.1111111111111111,\"#46039f\"],[0.2222222222222222,\"#7201a8\"],[0.3333333333333333,\"#9c179e\"],[0.4444444444444444,\"#bd3786\"],[0.5555555555555556,\"#d8576b\"],[0.6666666666666666,\"#ed7953\"],[0.7777777777777778,\"#fb9f3a\"],[0.8888888888888888,\"#fdca26\"],[1.0,\"#f0f921\"]],\"type\":\"surface\"}],\"table\":[{\"cells\":{\"fill\":{\"color\":\"#EBF0F8\"},\"line\":{\"color\":\"white\"}},\"header\":{\"fill\":{\"color\":\"#C8D4E3\"},\"line\":{\"color\":\"white\"}},\"type\":\"table\"}]},\"layout\":{\"annotationdefaults\":{\"arrowcolor\":\"#2a3f5f\",\"arrowhead\":0,\"arrowwidth\":1},\"autotypenumbers\":\"strict\",\"coloraxis\":{\"colorbar\":{\"outlinewidth\":0,\"ticks\":\"\"}},\"colorscale\":{\"diverging\":[[0,\"#8e0152\"],[0.1,\"#c51b7d\"],[0.2,\"#de77ae\"],[0.3,\"#f1b6da\"],[0.4,\"#fde0ef\"],[0.5,\"#f7f7f7\"],[0.6,\"#e6f5d0\"],[0.7,\"#b8e186\"],[0.8,\"#7fbc41\"],[0.9,\"#4d9221\"],[1,\"#276419\"]],\"sequential\":[[0.0,\"#0d0887\"],[0.1111111111111111,\"#46039f\"],[0.2222222222222222,\"#7201a8\"],[0.3333333333333333,\"#9c179e\"],[0.4444444444444444,\"#bd3786\"],[0.5555555555555556,\"#d8576b\"],[0.6666666666666666,\"#ed7953\"],[0.7777777777777778,\"#fb9f3a\"],[0.8888888888888888,\"#fdca26\"],[1.0,\"#f0f921\"]],\"sequentialminus\":[[0.0,\"#0d0887\"],[0.1111111111111111,\"#46039f\"],[0.2222222222222222,\"#7201a8\"],[0.3333333333333333,\"#9c179e\"],[0.4444444444444444,\"#bd3786\"],[0.5555555555555556,\"#d8576b\"],[0.6666666666666666,\"#ed7953\"],[0.7777777777777778,\"#fb9f3a\"],[0.8888888888888888,\"#fdca26\"],[1.0,\"#f0f921\"]]},\"colorway\":[\"#636efa\",\"#EF553B\",\"#00cc96\",\"#ab63fa\",\"#FFA15A\",\"#19d3f3\",\"#FF6692\",\"#B6E880\",\"#FF97FF\",\"#FECB52\"],\"font\":{\"color\":\"#2a3f5f\"},\"geo\":{\"bgcolor\":\"white\",\"lakecolor\":\"white\",\"landcolor\":\"#E5ECF6\",\"showlakes\":true,\"showland\":true,\"subunitcolor\":\"white\"},\"hoverlabel\":{\"align\":\"left\"},\"hovermode\":\"closest\",\"mapbox\":{\"style\":\"light\"},\"paper_bgcolor\":\"white\",\"plot_bgcolor\":\"#E5ECF6\",\"polar\":{\"angularaxis\":{\"gridcolor\":\"white\",\"linecolor\":\"white\",\"ticks\":\"\"},\"bgcolor\":\"#E5ECF6\",\"radialaxis\":{\"gridcolor\":\"white\",\"linecolor\":\"white\",\"ticks\":\"\"}},\"scene\":{\"xaxis\":{\"backgroundcolor\":\"#E5ECF6\",\"gridcolor\":\"white\",\"gridwidth\":2,\"linecolor\":\"white\",\"showbackground\":true,\"ticks\":\"\",\"zerolinecolor\":\"white\"},\"yaxis\":{\"backgroundcolor\":\"#E5ECF6\",\"gridcolor\":\"white\",\"gridwidth\":2,\"linecolor\":\"white\",\"showbackground\":true,\"ticks\":\"\",\"zerolinecolor\":\"white\"},\"zaxis\":{\"backgroundcolor\":\"#E5ECF6\",\"gridcolor\":\"white\",\"gridwidth\":2,\"linecolor\":\"white\",\"showbackground\":true,\"ticks\":\"\",\"zerolinecolor\":\"white\"}},\"shapedefaults\":{\"line\":{\"color\":\"#2a3f5f\"}},\"ternary\":{\"aaxis\":{\"gridcolor\":\"white\",\"linecolor\":\"white\",\"ticks\":\"\"},\"baxis\":{\"gridcolor\":\"white\",\"linecolor\":\"white\",\"ticks\":\"\"},\"bgcolor\":\"#E5ECF6\",\"caxis\":{\"gridcolor\":\"white\",\"linecolor\":\"white\",\"ticks\":\"\"}},\"title\":{\"x\":0.05},\"xaxis\":{\"automargin\":true,\"gridcolor\":\"white\",\"linecolor\":\"white\",\"ticks\":\"\",\"title\":{\"standoff\":15},\"zerolinecolor\":\"white\",\"zerolinewidth\":2},\"yaxis\":{\"automargin\":true,\"gridcolor\":\"white\",\"linecolor\":\"white\",\"ticks\":\"\",\"title\":{\"standoff\":15},\"zerolinecolor\":\"white\",\"zerolinewidth\":2}}},\"title\":{\"text\":\"Energy Spectrum\"},\"xaxis\":{\"title\":{\"text\":\"levels\"}},\"yaxis\":{\"title\":{\"text\":\"E(GHz)\"}}},                        {\"responsive\": true}                    ).then(function(){\n",
       "                            \n",
       "var gd = document.getElementById('39b29e03-b907-4b57-9714-018a26759dcf');\n",
       "var x = new MutationObserver(function (mutations, observer) {{\n",
       "        var display = window.getComputedStyle(gd).display;\n",
       "        if (!display || display === 'none') {{\n",
       "            console.log([gd, 'removed!']);\n",
       "            Plotly.purge(gd);\n",
       "            observer.disconnect();\n",
       "        }}\n",
       "}});\n",
       "\n",
       "// Listen for the removal of the full notebook cells\n",
       "var notebookContainer = gd.closest('#notebook-container');\n",
       "if (notebookContainer) {{\n",
       "    x.observe(notebookContainer, {childList: true});\n",
       "}}\n",
       "\n",
       "// Listen for the clearing of the current output cell\n",
       "var outputEl = gd.closest('.output');\n",
       "if (outputEl) {{\n",
       "    x.observe(outputEl, {childList: true});\n",
       "}}\n",
       "\n",
       "                        })                };                });            </script>        </div>"
      ]
     },
     "metadata": {},
     "output_type": "display_data"
    }
   ],
   "source": [
    "plotCompare(arange(len(oscillator)),{'oscillator':oscillator,'charge':charge},'Energy Spectrum','levels','E(GHz)')"
   ]
  },
  {
   "cell_type": "markdown",
   "id": "3323f32a",
   "metadata": {},
   "source": [
    "## comparison : Capacitive :: Inductive"
   ]
  },
  {
   "cell_type": "code",
   "execution_count": 144,
   "id": "1bb9b575",
   "metadata": {},
   "outputs": [],
   "source": [
    "from DiSuQ.Torch import components\n",
    "from DiSuQ.Torch import circuit\n",
    "from DiSuQ.Torch import dense"
   ]
  },
  {
   "cell_type": "code",
   "execution_count": 105,
   "id": "fd9aab56",
   "metadata": {},
   "outputs": [
    {
     "data": {
      "text/plain": [
       "(tensor(0.0500, grad_fn=<MulBackward0>),\n",
       " tensor(1.0132, grad_fn=<MulBackward0>))"
      ]
     },
     "execution_count": 105,
     "metadata": {},
     "output_type": "execute_result"
    }
   ],
   "source": [
    "C(0,1,Ec=10).capacitance(), L(0,1,El=.025).inductance()"
   ]
  },
  {
   "cell_type": "code",
   "execution_count": 145,
   "id": "83a985fd",
   "metadata": {},
   "outputs": [
    {
     "data": {
      "text/plain": [
       "1.0132118364233778"
      ]
     },
     "execution_count": 145,
     "metadata": {},
     "output_type": "execute_result"
    }
   ],
   "source": [
    "components.indEnergy(.025)"
   ]
  },
  {
   "cell_type": "code",
   "execution_count": 146,
   "id": "247b0a7a",
   "metadata": {},
   "outputs": [
    {
     "data": {
      "text/plain": [
       "0.0001234567901234568"
      ]
     },
     "execution_count": 146,
     "metadata": {},
     "output_type": "execute_result"
    }
   ],
   "source": [
    "components.capEnergy(4050)"
   ]
  },
  {
   "cell_type": "code",
   "execution_count": 141,
   "id": "0a1247a8",
   "metadata": {},
   "outputs": [],
   "source": [
    "cap = circuit.hamiltonianEnergy(dense.basisQq(100)@dense.basisQq(100)/2/4050)"
   ]
  },
  {
   "cell_type": "code",
   "execution_count": 142,
   "id": "bed18318",
   "metadata": {},
   "outputs": [],
   "source": [
    "ind = circuit.hamiltonianEnergy(dense.basisFf(100)@dense.basisFf(100)/2/.025)"
   ]
  },
  {
   "cell_type": "code",
   "execution_count": 140,
   "id": "2a7ef348",
   "metadata": {},
   "outputs": [
    {
     "data": {
      "text/plain": [
       "tensor([   nan, 0.0998, 0.0998, 0.0998, 0.0998, 0.0998, 0.0998, 0.0998, 0.0998,\n",
       "        0.0998, 0.0998, 0.0998, 0.0998, 0.0998, 0.0998, 0.0998, 0.0998, 0.0998,\n",
       "        0.0998, 0.0998, 0.0998, 0.0998, 0.0998, 0.0998, 0.0998, 0.0998, 0.0998,\n",
       "        0.0998, 0.0998, 0.0998, 0.0998, 0.0998, 0.0998, 0.0998, 0.0998, 0.0998,\n",
       "        0.0998, 0.0998, 0.0998, 0.0998, 0.0998, 0.0998, 0.0998, 0.0998, 0.0998,\n",
       "        0.0998, 0.0998, 0.0998, 0.0998, 0.0998, 0.0998, 0.0998, 0.0998, 0.0998,\n",
       "        0.0998, 0.0998, 0.0998, 0.0998, 0.0998, 0.0998, 0.0998, 0.0998, 0.0998,\n",
       "        0.0998, 0.0998, 0.0998, 0.0998, 0.0998, 0.0998, 0.0998, 0.0998, 0.0998,\n",
       "        0.0998, 0.0998, 0.0998, 0.0998, 0.0998, 0.0998, 0.0998, 0.0998, 0.0998,\n",
       "        0.0998, 0.0998, 0.0998, 0.0998, 0.0998, 0.0998, 0.0998, 0.0998, 0.0998,\n",
       "        0.0998, 0.0998, 0.0998, 0.0998, 0.0998, 0.0998, 0.0998, 0.0998, 0.0998,\n",
       "        0.0998, 0.0998, 0.0998, 0.0998, 0.0998, 0.0998, 0.0998, 0.0998, 0.0998,\n",
       "        0.0998, 0.0998, 0.0998, 0.0998, 0.0998, 0.0998, 0.0998, 0.0998, 0.0998,\n",
       "        0.0998, 0.0998, 0.0998, 0.0998, 0.0998, 0.0998, 0.0998, 0.0998, 0.0998,\n",
       "        0.0998, 0.0998, 0.0998, 0.0998, 0.0998, 0.0998, 0.0998, 0.0998, 0.0998,\n",
       "        0.0998, 0.0998, 0.0998, 0.0998, 0.0998, 0.0998, 0.0998, 0.0998, 0.0998,\n",
       "        0.0998, 0.0998, 0.0998, 0.0998, 0.0998, 0.0998, 0.0998, 0.0998, 0.0998,\n",
       "        0.0998, 0.0998, 0.0998, 0.0998, 0.0998, 0.0998, 0.0998, 0.0998, 0.0998,\n",
       "        0.0998, 0.0998, 0.0998, 0.0998, 0.0998, 0.0998, 0.0998, 0.0998, 0.0998,\n",
       "        0.0998, 0.0998, 0.0998, 0.0998, 0.0998, 0.0998, 0.0998, 0.0998, 0.0998,\n",
       "        0.0998, 0.0998, 0.0998, 0.0998, 0.0998, 0.0998, 0.0998, 0.0998, 0.0998,\n",
       "        0.0998, 0.0998, 0.0998, 0.0998, 0.0998, 0.0998, 0.0998, 0.0998, 0.0998,\n",
       "        0.0998, 0.0998, 0.0998])"
      ]
     },
     "execution_count": 140,
     "metadata": {},
     "output_type": "execute_result"
    }
   ],
   "source": [
    "cap/ind"
   ]
  },
  {
   "cell_type": "code",
   "execution_count": 52,
   "id": "c829f405",
   "metadata": {},
   "outputs": [],
   "source": [
    "El = 1e-5\n",
    "Ec = 100\n",
    "circuit = models.oscillatorLC([500],El=El,Ec=Ec,sparse=False)"
   ]
  },
  {
   "cell_type": "code",
   "execution_count": 53,
   "id": "7d44f86d",
   "metadata": {},
   "outputs": [],
   "source": [
    "H_LC = circuit.chargeHamiltonianLC()\n",
    "charge = circuit.circuitEnergy(H_LC=H_LC,grad=False)"
   ]
  },
  {
   "cell_type": "code",
   "execution_count": 54,
   "id": "ae424754",
   "metadata": {},
   "outputs": [
    {
     "data": {
      "text/plain": [
       "array([1.6455806e-05, 4.0000003e+02, 4.0000003e+02], dtype=float32)"
      ]
     },
     "execution_count": 54,
     "metadata": {},
     "output_type": "execute_result"
    }
   ],
   "source": [
    "charge[:3]"
   ]
  },
  {
   "cell_type": "code",
   "execution_count": 55,
   "id": "ba34b9c6",
   "metadata": {},
   "outputs": [],
   "source": [
    "Ec = 1e-5\n",
    "El = 1000\n",
    "circuit = models.oscillatorLC([500],El=El,Ec=Ec,sparse=False)"
   ]
  },
  {
   "cell_type": "code",
   "execution_count": 56,
   "id": "fd1d2643",
   "metadata": {},
   "outputs": [],
   "source": [
    "H_LC = circuit.fluxHamiltonianLC()\n",
    "flux = circuit.circuitEnergy(H_LC=H_LC,grad=False)"
   ]
  },
  {
   "cell_type": "code",
   "execution_count": 84,
   "id": "39541a58",
   "metadata": {},
   "outputs": [
    {
     "name": "stderr",
     "output_type": "stream",
     "text": [
      "/tmp/ipykernel_944248/3138489726.py:2: RuntimeWarning:\n",
      "\n",
      "divide by zero encountered in log10\n",
      "\n"
     ]
    },
    {
     "data": {
      "application/vnd.plotly.v1+json": {
       "config": {
        "linkText": "Export to plot.ly",
        "plotlyServerURL": "https://plot.ly",
        "showLink": false
       },
       "data": [
        {
         "line": {
          "width": 5
         },
         "name": "Ec",
         "type": "scatter",
         "x": [
          0,
          1,
          2,
          3,
          4,
          5,
          6,
          7,
          8,
          9
         ],
         "y": [
          null,
          1.602060079574585,
          1.602060079574585,
          2.20412015914917,
          2.20412015914917,
          2.556302547454834,
          2.556302547454834,
          2.806180000305176,
          2.806180000305176,
          3.000000238418579,
          3.000000238418579,
          3.158362627029419,
          3.158362627029419,
          3.2922561168670654,
          3.2922561168670654,
          3.4082400798797607,
          3.4082400798797607,
          3.510545015335083,
          3.510545015335083,
          3.602060079574585,
          3.602060079574585,
          3.684845447540283,
          3.684845447540283,
          3.760422468185425,
          3.760422468185425,
          3.829946994781494,
          3.829946994781494,
          3.8943161964416504,
          3.8943161964416504,
          3.954242706298828,
          3.954242706298828,
          4.010300159454346,
          4.010300159454346,
          4.062958240509033,
          4.062958240509033,
          4.112605571746826,
          4.112605571746826,
          4.159567356109619,
          4.159567356109619,
          4.20412015914917,
          4.20412015914917,
          4.246499061584473,
          4.246499061584473,
          4.286905765533447,
          4.286905765533447,
          4.325516223907471,
          4.325516223907471,
          4.362483024597168,
          4.362483024597168,
          4.397940158843994,
          4.397940158843994,
          4.4320068359375,
          4.4320068359375,
          4.464787483215332,
          4.464787483215332,
          4.496376037597656,
          4.496376037597656,
          4.526855945587158,
          4.526855945587158,
          4.556302547454834,
          4.556302547454834,
          4.584783554077148,
          4.584783554077148,
          4.612360000610352,
          4.612360000610352,
          4.639087677001953,
          4.639087677001953,
          4.665018081665039,
          4.665018081665039,
          4.6901960372924805,
          4.6901960372924805,
          4.714665412902832,
          4.714665412902832,
          4.738463878631592,
          4.738463878631592,
          4.761627197265625,
          4.761627197265625,
          4.784189224243164,
          4.784189224243164,
          4.806180000305176,
          4.806180000305176,
          4.827628135681152,
          4.827628135681152,
          4.8485589027404785,
          4.8485589027404785,
          4.868997097015381,
          4.868997097015381,
          4.888965606689453,
          4.888965606689453,
          4.908485412597656,
          4.908485412597656,
          4.927576065063477,
          4.927576065063477,
          4.946256160736084,
          4.946256160736084,
          4.964542865753174,
          4.964542865753174,
          4.982452392578125,
          4.982452392578125,
          5.000000476837158,
          5.000000476837158,
          5.017200469970703,
          5.017200469970703,
          5.034067153930664,
          5.034067153930664,
          5.050611972808838,
          5.050611972808838,
          5.066847801208496,
          5.066847801208496,
          5.082785606384277,
          5.082785606384277,
          5.09843635559082,
          5.09843635559082,
          5.113810062408447,
          5.113810062408447,
          5.128916263580322,
          5.128916263580322,
          5.143764495849609,
          5.143764495849609,
          5.158362865447998,
          5.158362865447998,
          5.172719955444336,
          5.172719955444336,
          5.1868438720703125,
          5.1868438720703125,
          5.200741291046143,
          5.200741291046143,
          5.214420318603516,
          5.214420318603516,
          5.227887153625488,
          5.227887153625488,
          5.241147994995117,
          5.241147994995117,
          5.254209995269775,
          5.254209995269775,
          5.267078399658203,
          5.267078399658203,
          5.279758453369141,
          5.279758453369141,
          5.2922563552856445,
          5.2922563552856445,
          5.304576873779297,
          5.304576873779297,
          5.316725254058838,
          5.316725254058838,
          5.328705787658691,
          5.328705787658691,
          5.340523719787598,
          5.340523719787598,
          5.352182388305664,
          5.352182388305664,
          5.363687038421631,
          5.363687038421631,
          5.375041484832764,
          5.375041484832764,
          5.38624906539917,
          5.38624906539917,
          5.397314071655273,
          5.397314071655273,
          5.408239841461182,
          5.408239841461182,
          5.41903018951416,
          5.41903018951416,
          5.429687976837158,
          5.429687976837158,
          5.440216064453125,
          5.440216064453125,
          5.450618743896484,
          5.450618743896484,
          5.460897922515869,
          5.460897922515869,
          5.471056938171387,
          5.471056938171387,
          5.481098651885986,
          5.481098651885986,
          5.491025447845459,
          5.491025447845459,
          5.500840187072754,
          5.500840187072754,
          5.510545253753662,
          5.510545253753662,
          5.520143032073975,
          5.520143032073975,
          5.529635906219482,
          5.529635906219482,
          5.539025783538818,
          5.539025783538818,
          5.54831600189209,
          5.54831600189209,
          5.557507038116455,
          5.557507038116455,
          5.56660270690918,
          5.56660270690918,
          5.575603485107422,
          5.575603485107422,
          5.584512233734131,
          5.584512233734131,
          5.593330383300781,
          5.593330383300781,
          5.602060317993164,
          5.602060317993164
         ]
        },
        {
         "line": {
          "width": 5
         },
         "name": "El",
         "type": "scatter",
         "x": [
          0,
          1,
          2,
          3,
          4,
          5,
          6,
          7,
          8,
          9
         ],
         "y": [
          null,
          -3.6063921451568604,
          -3.6063921451568604,
          -3.0043323040008545,
          -3.0043323040008545,
          -2.6521496772766113,
          -2.6521496772766113,
          -2.4022722244262695,
          -2.4022722244262695,
          -2.2084522247314453,
          -2.2084522247314453,
          -2.0500898361206055,
          -2.0500898361206055,
          -1.9161961078643799,
          -1.9161961078643799,
          -1.8002122640609741,
          -1.8002122640609741,
          -1.6979070901870728,
          -1.6979070901870728,
          -1.60639226436615,
          -1.60639226436615,
          -1.523606777191162,
          -1.523606777191162,
          -1.4480297565460205,
          -1.4480297565460205,
          -1.3785054683685303,
          -1.3785054683685303,
          -1.3141361474990845,
          -1.3141361474990845,
          -1.2542097568511963,
          -1.2542097568511963,
          -1.1981523036956787,
          -1.1981523036956787,
          -1.1454943418502808,
          -1.1454943418502808,
          -1.0958471298217773,
          -1.0958471298217773,
          -1.0488849878311157,
          -1.0488849878311157,
          -1.004332184791565,
          -1.004332184791565,
          -0.9619535207748413,
          -0.9619535207748413,
          -0.9215467572212219,
          -0.9215467572212219,
          -0.8829364776611328,
          -0.8829364776611328,
          -0.8459696769714355,
          -0.8459696769714355,
          -0.810512125492096,
          -0.810512125492096,
          -0.7764453887939453,
          -0.7764453887939453,
          -0.743664562702179,
          -0.743664562702179,
          -0.7120761275291443,
          -0.7120761275291443,
          -0.6815962195396423,
          -0.6815962195396423,
          -0.6521496772766113,
          -0.6521496772766113,
          -0.6236687898635864,
          -0.6236687898635864,
          -0.5960922241210938,
          -0.5960922241210938,
          -0.5693643093109131,
          -0.5693643093109131,
          -0.5434343814849854,
          -0.5434343814849854,
          -0.5182560682296753,
          -0.5182560682296753,
          -0.49378713965415955,
          -0.49378713965415955,
          -0.4699886739253998,
          -0.4699886739253998,
          -0.44682496786117554,
          -0.44682496786117554,
          -0.4242629408836365,
          -0.4242629408836365,
          -0.40227216482162476,
          -0.40227216482162476,
          -0.38082441687583923,
          -0.38082441687583923,
          -0.3598935604095459,
          -0.3598935604095459,
          -0.3394552171230316,
          -0.3394552171230316,
          -0.3194867670536041,
          -0.3194867670536041,
          -0.29996708035469055,
          -0.29996708035469055,
          -0.2808765172958374,
          -0.2808765172958374,
          -0.26219645142555237,
          -0.26219645142555237,
          -0.24390968680381775,
          -0.24390968680381775,
          -0.22600001096725464,
          -0.22600001096725464,
          -0.20845215022563934,
          -0.20845215022563934,
          -0.19125179946422577,
          -0.19125179946422577,
          -0.17438539862632751,
          -0.17438539862632751,
          -0.15784041583538055,
          -0.15784041583538055,
          -0.14160457253456116,
          -0.14160457253456116,
          -0.1256667524576187,
          -0.1256667524576187,
          -0.11001612991094589,
          -0.11001612991094589,
          -0.09464243799448013,
          -0.09464243799448013,
          -0.07953620702028275,
          -0.07953620702028275,
          -0.06468812376260757,
          -0.06468812376260757,
          -0.05008968338370323,
          -0.05008968338370323,
          -0.03573247045278549,
          -0.03573247045278549,
          -0.021608782932162285,
          -0.021608782932162285,
          -0.007711040321737528,
          -0.007711040321737528,
          0.005967770703136921,
          0.005967770703136921,
          0.01943461410701275,
          0.01943461410701275,
          0.0326957181096077,
          0.0326957181096077,
          0.045757513493299484,
          0.045757513493299484,
          0.05862566828727722,
          0.05862566828727722,
          0.07130606472492218,
          0.07130606472492218,
          0.0838039219379425,
          0.0838039219379425,
          0.09612460434436798,
          0.09612460434436798,
          0.10827288776636124,
          0.10827288776636124,
          0.12025360018014908,
          0.12025360018014908,
          0.1320713311433792,
          0.1320713311433792,
          0.14373038709163666,
          0.14373038709163666,
          0.15523503720760345,
          0.15523503720760345,
          0.16658928990364075,
          0.16658928990364075,
          0.1777970790863037,
          0.1777970790863037,
          0.18886199593544006,
          0.18886199593544006,
          0.19978784024715424,
          0.19978784024715424,
          0.21057790517807007,
          0.21057790517807007,
          0.22123560309410095,
          0.22123560309410095,
          0.2317640632390976,
          0.2317640632390976,
          0.24216647446155548,
          0.24216647446155548,
          0.2524457275867462,
          0.2524457275867462,
          0.26260480284690857,
          0.26260480284690857,
          0.27264636754989624,
          0.27264636754989624,
          0.28257325291633606,
          0.28257325291633606,
          0.29238784313201904,
          0.29238784313201904,
          0.30209293961524963,
          0.30209293961524963,
          0.31169068813323975,
          0.31169068813323975,
          0.3211835026741028,
          0.3211835026741028,
          0.3305737376213074,
          0.3305737376213074,
          0.3398635685443878,
          0.3398635685443878,
          0.34905508160591125,
          0.34905508160591125,
          0.35815033316612244,
          0.35815033316612244,
          0.3671513497829437,
          0.3671513497829437,
          0.37606000900268555,
          0.37606000900268555,
          0.3848782777786255,
          0.3848782777786255,
          0.39360788464546204,
          0.39360788464546204
         ]
        }
       ],
       "layout": {
        "font": {
         "size": 20
        },
        "legend": {
         "x": 0.99,
         "xanchor": "right",
         "y": 0.99,
         "yanchor": "top"
        },
        "margin": {
         "r": 10,
         "t": 100
        },
        "showlegend": true,
        "template": {
         "data": {
          "bar": [
           {
            "error_x": {
             "color": "#2a3f5f"
            },
            "error_y": {
             "color": "#2a3f5f"
            },
            "marker": {
             "line": {
              "color": "#E5ECF6",
              "width": 0.5
             },
             "pattern": {
              "fillmode": "overlay",
              "size": 10,
              "solidity": 0.2
             }
            },
            "type": "bar"
           }
          ],
          "barpolar": [
           {
            "marker": {
             "line": {
              "color": "#E5ECF6",
              "width": 0.5
             },
             "pattern": {
              "fillmode": "overlay",
              "size": 10,
              "solidity": 0.2
             }
            },
            "type": "barpolar"
           }
          ],
          "carpet": [
           {
            "aaxis": {
             "endlinecolor": "#2a3f5f",
             "gridcolor": "white",
             "linecolor": "white",
             "minorgridcolor": "white",
             "startlinecolor": "#2a3f5f"
            },
            "baxis": {
             "endlinecolor": "#2a3f5f",
             "gridcolor": "white",
             "linecolor": "white",
             "minorgridcolor": "white",
             "startlinecolor": "#2a3f5f"
            },
            "type": "carpet"
           }
          ],
          "choropleth": [
           {
            "colorbar": {
             "outlinewidth": 0,
             "ticks": ""
            },
            "type": "choropleth"
           }
          ],
          "contour": [
           {
            "colorbar": {
             "outlinewidth": 0,
             "ticks": ""
            },
            "colorscale": [
             [
              0,
              "#0d0887"
             ],
             [
              0.1111111111111111,
              "#46039f"
             ],
             [
              0.2222222222222222,
              "#7201a8"
             ],
             [
              0.3333333333333333,
              "#9c179e"
             ],
             [
              0.4444444444444444,
              "#bd3786"
             ],
             [
              0.5555555555555556,
              "#d8576b"
             ],
             [
              0.6666666666666666,
              "#ed7953"
             ],
             [
              0.7777777777777778,
              "#fb9f3a"
             ],
             [
              0.8888888888888888,
              "#fdca26"
             ],
             [
              1,
              "#f0f921"
             ]
            ],
            "type": "contour"
           }
          ],
          "contourcarpet": [
           {
            "colorbar": {
             "outlinewidth": 0,
             "ticks": ""
            },
            "type": "contourcarpet"
           }
          ],
          "heatmap": [
           {
            "colorbar": {
             "outlinewidth": 0,
             "ticks": ""
            },
            "colorscale": [
             [
              0,
              "#0d0887"
             ],
             [
              0.1111111111111111,
              "#46039f"
             ],
             [
              0.2222222222222222,
              "#7201a8"
             ],
             [
              0.3333333333333333,
              "#9c179e"
             ],
             [
              0.4444444444444444,
              "#bd3786"
             ],
             [
              0.5555555555555556,
              "#d8576b"
             ],
             [
              0.6666666666666666,
              "#ed7953"
             ],
             [
              0.7777777777777778,
              "#fb9f3a"
             ],
             [
              0.8888888888888888,
              "#fdca26"
             ],
             [
              1,
              "#f0f921"
             ]
            ],
            "type": "heatmap"
           }
          ],
          "heatmapgl": [
           {
            "colorbar": {
             "outlinewidth": 0,
             "ticks": ""
            },
            "colorscale": [
             [
              0,
              "#0d0887"
             ],
             [
              0.1111111111111111,
              "#46039f"
             ],
             [
              0.2222222222222222,
              "#7201a8"
             ],
             [
              0.3333333333333333,
              "#9c179e"
             ],
             [
              0.4444444444444444,
              "#bd3786"
             ],
             [
              0.5555555555555556,
              "#d8576b"
             ],
             [
              0.6666666666666666,
              "#ed7953"
             ],
             [
              0.7777777777777778,
              "#fb9f3a"
             ],
             [
              0.8888888888888888,
              "#fdca26"
             ],
             [
              1,
              "#f0f921"
             ]
            ],
            "type": "heatmapgl"
           }
          ],
          "histogram": [
           {
            "marker": {
             "pattern": {
              "fillmode": "overlay",
              "size": 10,
              "solidity": 0.2
             }
            },
            "type": "histogram"
           }
          ],
          "histogram2d": [
           {
            "colorbar": {
             "outlinewidth": 0,
             "ticks": ""
            },
            "colorscale": [
             [
              0,
              "#0d0887"
             ],
             [
              0.1111111111111111,
              "#46039f"
             ],
             [
              0.2222222222222222,
              "#7201a8"
             ],
             [
              0.3333333333333333,
              "#9c179e"
             ],
             [
              0.4444444444444444,
              "#bd3786"
             ],
             [
              0.5555555555555556,
              "#d8576b"
             ],
             [
              0.6666666666666666,
              "#ed7953"
             ],
             [
              0.7777777777777778,
              "#fb9f3a"
             ],
             [
              0.8888888888888888,
              "#fdca26"
             ],
             [
              1,
              "#f0f921"
             ]
            ],
            "type": "histogram2d"
           }
          ],
          "histogram2dcontour": [
           {
            "colorbar": {
             "outlinewidth": 0,
             "ticks": ""
            },
            "colorscale": [
             [
              0,
              "#0d0887"
             ],
             [
              0.1111111111111111,
              "#46039f"
             ],
             [
              0.2222222222222222,
              "#7201a8"
             ],
             [
              0.3333333333333333,
              "#9c179e"
             ],
             [
              0.4444444444444444,
              "#bd3786"
             ],
             [
              0.5555555555555556,
              "#d8576b"
             ],
             [
              0.6666666666666666,
              "#ed7953"
             ],
             [
              0.7777777777777778,
              "#fb9f3a"
             ],
             [
              0.8888888888888888,
              "#fdca26"
             ],
             [
              1,
              "#f0f921"
             ]
            ],
            "type": "histogram2dcontour"
           }
          ],
          "mesh3d": [
           {
            "colorbar": {
             "outlinewidth": 0,
             "ticks": ""
            },
            "type": "mesh3d"
           }
          ],
          "parcoords": [
           {
            "line": {
             "colorbar": {
              "outlinewidth": 0,
              "ticks": ""
             }
            },
            "type": "parcoords"
           }
          ],
          "pie": [
           {
            "automargin": true,
            "type": "pie"
           }
          ],
          "scatter": [
           {
            "fillpattern": {
             "fillmode": "overlay",
             "size": 10,
             "solidity": 0.2
            },
            "type": "scatter"
           }
          ],
          "scatter3d": [
           {
            "line": {
             "colorbar": {
              "outlinewidth": 0,
              "ticks": ""
             }
            },
            "marker": {
             "colorbar": {
              "outlinewidth": 0,
              "ticks": ""
             }
            },
            "type": "scatter3d"
           }
          ],
          "scattercarpet": [
           {
            "marker": {
             "colorbar": {
              "outlinewidth": 0,
              "ticks": ""
             }
            },
            "type": "scattercarpet"
           }
          ],
          "scattergeo": [
           {
            "marker": {
             "colorbar": {
              "outlinewidth": 0,
              "ticks": ""
             }
            },
            "type": "scattergeo"
           }
          ],
          "scattergl": [
           {
            "marker": {
             "colorbar": {
              "outlinewidth": 0,
              "ticks": ""
             }
            },
            "type": "scattergl"
           }
          ],
          "scattermapbox": [
           {
            "marker": {
             "colorbar": {
              "outlinewidth": 0,
              "ticks": ""
             }
            },
            "type": "scattermapbox"
           }
          ],
          "scatterpolar": [
           {
            "marker": {
             "colorbar": {
              "outlinewidth": 0,
              "ticks": ""
             }
            },
            "type": "scatterpolar"
           }
          ],
          "scatterpolargl": [
           {
            "marker": {
             "colorbar": {
              "outlinewidth": 0,
              "ticks": ""
             }
            },
            "type": "scatterpolargl"
           }
          ],
          "scatterternary": [
           {
            "marker": {
             "colorbar": {
              "outlinewidth": 0,
              "ticks": ""
             }
            },
            "type": "scatterternary"
           }
          ],
          "surface": [
           {
            "colorbar": {
             "outlinewidth": 0,
             "ticks": ""
            },
            "colorscale": [
             [
              0,
              "#0d0887"
             ],
             [
              0.1111111111111111,
              "#46039f"
             ],
             [
              0.2222222222222222,
              "#7201a8"
             ],
             [
              0.3333333333333333,
              "#9c179e"
             ],
             [
              0.4444444444444444,
              "#bd3786"
             ],
             [
              0.5555555555555556,
              "#d8576b"
             ],
             [
              0.6666666666666666,
              "#ed7953"
             ],
             [
              0.7777777777777778,
              "#fb9f3a"
             ],
             [
              0.8888888888888888,
              "#fdca26"
             ],
             [
              1,
              "#f0f921"
             ]
            ],
            "type": "surface"
           }
          ],
          "table": [
           {
            "cells": {
             "fill": {
              "color": "#EBF0F8"
             },
             "line": {
              "color": "white"
             }
            },
            "header": {
             "fill": {
              "color": "#C8D4E3"
             },
             "line": {
              "color": "white"
             }
            },
            "type": "table"
           }
          ]
         },
         "layout": {
          "annotationdefaults": {
           "arrowcolor": "#2a3f5f",
           "arrowhead": 0,
           "arrowwidth": 1
          },
          "autotypenumbers": "strict",
          "coloraxis": {
           "colorbar": {
            "outlinewidth": 0,
            "ticks": ""
           }
          },
          "colorscale": {
           "diverging": [
            [
             0,
             "#8e0152"
            ],
            [
             0.1,
             "#c51b7d"
            ],
            [
             0.2,
             "#de77ae"
            ],
            [
             0.3,
             "#f1b6da"
            ],
            [
             0.4,
             "#fde0ef"
            ],
            [
             0.5,
             "#f7f7f7"
            ],
            [
             0.6,
             "#e6f5d0"
            ],
            [
             0.7,
             "#b8e186"
            ],
            [
             0.8,
             "#7fbc41"
            ],
            [
             0.9,
             "#4d9221"
            ],
            [
             1,
             "#276419"
            ]
           ],
           "sequential": [
            [
             0,
             "#0d0887"
            ],
            [
             0.1111111111111111,
             "#46039f"
            ],
            [
             0.2222222222222222,
             "#7201a8"
            ],
            [
             0.3333333333333333,
             "#9c179e"
            ],
            [
             0.4444444444444444,
             "#bd3786"
            ],
            [
             0.5555555555555556,
             "#d8576b"
            ],
            [
             0.6666666666666666,
             "#ed7953"
            ],
            [
             0.7777777777777778,
             "#fb9f3a"
            ],
            [
             0.8888888888888888,
             "#fdca26"
            ],
            [
             1,
             "#f0f921"
            ]
           ],
           "sequentialminus": [
            [
             0,
             "#0d0887"
            ],
            [
             0.1111111111111111,
             "#46039f"
            ],
            [
             0.2222222222222222,
             "#7201a8"
            ],
            [
             0.3333333333333333,
             "#9c179e"
            ],
            [
             0.4444444444444444,
             "#bd3786"
            ],
            [
             0.5555555555555556,
             "#d8576b"
            ],
            [
             0.6666666666666666,
             "#ed7953"
            ],
            [
             0.7777777777777778,
             "#fb9f3a"
            ],
            [
             0.8888888888888888,
             "#fdca26"
            ],
            [
             1,
             "#f0f921"
            ]
           ]
          },
          "colorway": [
           "#636efa",
           "#EF553B",
           "#00cc96",
           "#ab63fa",
           "#FFA15A",
           "#19d3f3",
           "#FF6692",
           "#B6E880",
           "#FF97FF",
           "#FECB52"
          ],
          "font": {
           "color": "#2a3f5f"
          },
          "geo": {
           "bgcolor": "white",
           "lakecolor": "white",
           "landcolor": "#E5ECF6",
           "showlakes": true,
           "showland": true,
           "subunitcolor": "white"
          },
          "hoverlabel": {
           "align": "left"
          },
          "hovermode": "closest",
          "mapbox": {
           "style": "light"
          },
          "paper_bgcolor": "white",
          "plot_bgcolor": "#E5ECF6",
          "polar": {
           "angularaxis": {
            "gridcolor": "white",
            "linecolor": "white",
            "ticks": ""
           },
           "bgcolor": "#E5ECF6",
           "radialaxis": {
            "gridcolor": "white",
            "linecolor": "white",
            "ticks": ""
           }
          },
          "scene": {
           "xaxis": {
            "backgroundcolor": "#E5ECF6",
            "gridcolor": "white",
            "gridwidth": 2,
            "linecolor": "white",
            "showbackground": true,
            "ticks": "",
            "zerolinecolor": "white"
           },
           "yaxis": {
            "backgroundcolor": "#E5ECF6",
            "gridcolor": "white",
            "gridwidth": 2,
            "linecolor": "white",
            "showbackground": true,
            "ticks": "",
            "zerolinecolor": "white"
           },
           "zaxis": {
            "backgroundcolor": "#E5ECF6",
            "gridcolor": "white",
            "gridwidth": 2,
            "linecolor": "white",
            "showbackground": true,
            "ticks": "",
            "zerolinecolor": "white"
           }
          },
          "shapedefaults": {
           "line": {
            "color": "#2a3f5f"
           }
          },
          "ternary": {
           "aaxis": {
            "gridcolor": "white",
            "linecolor": "white",
            "ticks": ""
           },
           "baxis": {
            "gridcolor": "white",
            "linecolor": "white",
            "ticks": ""
           },
           "bgcolor": "#E5ECF6",
           "caxis": {
            "gridcolor": "white",
            "linecolor": "white",
            "ticks": ""
           }
          },
          "title": {
           "x": 0.05
          },
          "xaxis": {
           "automargin": true,
           "gridcolor": "white",
           "linecolor": "white",
           "ticks": "",
           "title": {
            "standoff": 15
           },
           "zerolinecolor": "white",
           "zerolinewidth": 2
          },
          "yaxis": {
           "automargin": true,
           "gridcolor": "white",
           "linecolor": "white",
           "ticks": "",
           "title": {
            "standoff": 15
           },
           "zerolinecolor": "white",
           "zerolinewidth": 2
          }
         }
        }
       }
      },
      "text/html": [
       "<div>                            <div id=\"0d2264d5-4988-49d0-a503-eddb3d1caf87\" class=\"plotly-graph-div\" style=\"height:525px; width:100%;\"></div>            <script type=\"text/javascript\">                require([\"plotly\"], function(Plotly) {                    window.PLOTLYENV=window.PLOTLYENV || {};                                    if (document.getElementById(\"0d2264d5-4988-49d0-a503-eddb3d1caf87\")) {                    Plotly.newPlot(                        \"0d2264d5-4988-49d0-a503-eddb3d1caf87\",                        [{\"line\":{\"width\":5},\"name\":\"Ec\",\"x\":[0,1,2,3,4,5,6,7,8,9],\"y\":[null,1.602060079574585,1.602060079574585,2.20412015914917,2.20412015914917,2.556302547454834,2.556302547454834,2.806180000305176,2.806180000305176,3.000000238418579,3.000000238418579,3.158362627029419,3.158362627029419,3.2922561168670654,3.2922561168670654,3.4082400798797607,3.4082400798797607,3.510545015335083,3.510545015335083,3.602060079574585,3.602060079574585,3.684845447540283,3.684845447540283,3.760422468185425,3.760422468185425,3.829946994781494,3.829946994781494,3.8943161964416504,3.8943161964416504,3.954242706298828,3.954242706298828,4.010300159454346,4.010300159454346,4.062958240509033,4.062958240509033,4.112605571746826,4.112605571746826,4.159567356109619,4.159567356109619,4.20412015914917,4.20412015914917,4.246499061584473,4.246499061584473,4.286905765533447,4.286905765533447,4.325516223907471,4.325516223907471,4.362483024597168,4.362483024597168,4.397940158843994,4.397940158843994,4.4320068359375,4.4320068359375,4.464787483215332,4.464787483215332,4.496376037597656,4.496376037597656,4.526855945587158,4.526855945587158,4.556302547454834,4.556302547454834,4.584783554077148,4.584783554077148,4.612360000610352,4.612360000610352,4.639087677001953,4.639087677001953,4.665018081665039,4.665018081665039,4.6901960372924805,4.6901960372924805,4.714665412902832,4.714665412902832,4.738463878631592,4.738463878631592,4.761627197265625,4.761627197265625,4.784189224243164,4.784189224243164,4.806180000305176,4.806180000305176,4.827628135681152,4.827628135681152,4.8485589027404785,4.8485589027404785,4.868997097015381,4.868997097015381,4.888965606689453,4.888965606689453,4.908485412597656,4.908485412597656,4.927576065063477,4.927576065063477,4.946256160736084,4.946256160736084,4.964542865753174,4.964542865753174,4.982452392578125,4.982452392578125,5.000000476837158,5.000000476837158,5.017200469970703,5.017200469970703,5.034067153930664,5.034067153930664,5.050611972808838,5.050611972808838,5.066847801208496,5.066847801208496,5.082785606384277,5.082785606384277,5.09843635559082,5.09843635559082,5.113810062408447,5.113810062408447,5.128916263580322,5.128916263580322,5.143764495849609,5.143764495849609,5.158362865447998,5.158362865447998,5.172719955444336,5.172719955444336,5.1868438720703125,5.1868438720703125,5.200741291046143,5.200741291046143,5.214420318603516,5.214420318603516,5.227887153625488,5.227887153625488,5.241147994995117,5.241147994995117,5.254209995269775,5.254209995269775,5.267078399658203,5.267078399658203,5.279758453369141,5.279758453369141,5.2922563552856445,5.2922563552856445,5.304576873779297,5.304576873779297,5.316725254058838,5.316725254058838,5.328705787658691,5.328705787658691,5.340523719787598,5.340523719787598,5.352182388305664,5.352182388305664,5.363687038421631,5.363687038421631,5.375041484832764,5.375041484832764,5.38624906539917,5.38624906539917,5.397314071655273,5.397314071655273,5.408239841461182,5.408239841461182,5.41903018951416,5.41903018951416,5.429687976837158,5.429687976837158,5.440216064453125,5.440216064453125,5.450618743896484,5.450618743896484,5.460897922515869,5.460897922515869,5.471056938171387,5.471056938171387,5.481098651885986,5.481098651885986,5.491025447845459,5.491025447845459,5.500840187072754,5.500840187072754,5.510545253753662,5.510545253753662,5.520143032073975,5.520143032073975,5.529635906219482,5.529635906219482,5.539025783538818,5.539025783538818,5.54831600189209,5.54831600189209,5.557507038116455,5.557507038116455,5.56660270690918,5.56660270690918,5.575603485107422,5.575603485107422,5.584512233734131,5.584512233734131,5.593330383300781,5.593330383300781,5.602060317993164,5.602060317993164],\"type\":\"scatter\"},{\"line\":{\"width\":5},\"name\":\"El\",\"x\":[0,1,2,3,4,5,6,7,8,9],\"y\":[null,-3.6063921451568604,-3.6063921451568604,-3.0043323040008545,-3.0043323040008545,-2.6521496772766113,-2.6521496772766113,-2.4022722244262695,-2.4022722244262695,-2.2084522247314453,-2.2084522247314453,-2.0500898361206055,-2.0500898361206055,-1.9161961078643799,-1.9161961078643799,-1.8002122640609741,-1.8002122640609741,-1.6979070901870728,-1.6979070901870728,-1.60639226436615,-1.60639226436615,-1.523606777191162,-1.523606777191162,-1.4480297565460205,-1.4480297565460205,-1.3785054683685303,-1.3785054683685303,-1.3141361474990845,-1.3141361474990845,-1.2542097568511963,-1.2542097568511963,-1.1981523036956787,-1.1981523036956787,-1.1454943418502808,-1.1454943418502808,-1.0958471298217773,-1.0958471298217773,-1.0488849878311157,-1.0488849878311157,-1.004332184791565,-1.004332184791565,-0.9619535207748413,-0.9619535207748413,-0.9215467572212219,-0.9215467572212219,-0.8829364776611328,-0.8829364776611328,-0.8459696769714355,-0.8459696769714355,-0.810512125492096,-0.810512125492096,-0.7764453887939453,-0.7764453887939453,-0.743664562702179,-0.743664562702179,-0.7120761275291443,-0.7120761275291443,-0.6815962195396423,-0.6815962195396423,-0.6521496772766113,-0.6521496772766113,-0.6236687898635864,-0.6236687898635864,-0.5960922241210938,-0.5960922241210938,-0.5693643093109131,-0.5693643093109131,-0.5434343814849854,-0.5434343814849854,-0.5182560682296753,-0.5182560682296753,-0.49378713965415955,-0.49378713965415955,-0.4699886739253998,-0.4699886739253998,-0.44682496786117554,-0.44682496786117554,-0.4242629408836365,-0.4242629408836365,-0.40227216482162476,-0.40227216482162476,-0.38082441687583923,-0.38082441687583923,-0.3598935604095459,-0.3598935604095459,-0.3394552171230316,-0.3394552171230316,-0.3194867670536041,-0.3194867670536041,-0.29996708035469055,-0.29996708035469055,-0.2808765172958374,-0.2808765172958374,-0.26219645142555237,-0.26219645142555237,-0.24390968680381775,-0.24390968680381775,-0.22600001096725464,-0.22600001096725464,-0.20845215022563934,-0.20845215022563934,-0.19125179946422577,-0.19125179946422577,-0.17438539862632751,-0.17438539862632751,-0.15784041583538055,-0.15784041583538055,-0.14160457253456116,-0.14160457253456116,-0.1256667524576187,-0.1256667524576187,-0.11001612991094589,-0.11001612991094589,-0.09464243799448013,-0.09464243799448013,-0.07953620702028275,-0.07953620702028275,-0.06468812376260757,-0.06468812376260757,-0.05008968338370323,-0.05008968338370323,-0.03573247045278549,-0.03573247045278549,-0.021608782932162285,-0.021608782932162285,-0.007711040321737528,-0.007711040321737528,0.005967770703136921,0.005967770703136921,0.01943461410701275,0.01943461410701275,0.0326957181096077,0.0326957181096077,0.045757513493299484,0.045757513493299484,0.05862566828727722,0.05862566828727722,0.07130606472492218,0.07130606472492218,0.0838039219379425,0.0838039219379425,0.09612460434436798,0.09612460434436798,0.10827288776636124,0.10827288776636124,0.12025360018014908,0.12025360018014908,0.1320713311433792,0.1320713311433792,0.14373038709163666,0.14373038709163666,0.15523503720760345,0.15523503720760345,0.16658928990364075,0.16658928990364075,0.1777970790863037,0.1777970790863037,0.18886199593544006,0.18886199593544006,0.19978784024715424,0.19978784024715424,0.21057790517807007,0.21057790517807007,0.22123560309410095,0.22123560309410095,0.2317640632390976,0.2317640632390976,0.24216647446155548,0.24216647446155548,0.2524457275867462,0.2524457275867462,0.26260480284690857,0.26260480284690857,0.27264636754989624,0.27264636754989624,0.28257325291633606,0.28257325291633606,0.29238784313201904,0.29238784313201904,0.30209293961524963,0.30209293961524963,0.31169068813323975,0.31169068813323975,0.3211835026741028,0.3211835026741028,0.3305737376213074,0.3305737376213074,0.3398635685443878,0.3398635685443878,0.34905508160591125,0.34905508160591125,0.35815033316612244,0.35815033316612244,0.3671513497829437,0.3671513497829437,0.37606000900268555,0.37606000900268555,0.3848782777786255,0.3848782777786255,0.39360788464546204,0.39360788464546204],\"type\":\"scatter\"}],                        {\"font\":{\"size\":20},\"legend\":{\"x\":0.99,\"xanchor\":\"right\",\"y\":0.99,\"yanchor\":\"top\"},\"margin\":{\"r\":10,\"t\":100},\"showlegend\":true,\"template\":{\"data\":{\"barpolar\":[{\"marker\":{\"line\":{\"color\":\"#E5ECF6\",\"width\":0.5},\"pattern\":{\"fillmode\":\"overlay\",\"size\":10,\"solidity\":0.2}},\"type\":\"barpolar\"}],\"bar\":[{\"error_x\":{\"color\":\"#2a3f5f\"},\"error_y\":{\"color\":\"#2a3f5f\"},\"marker\":{\"line\":{\"color\":\"#E5ECF6\",\"width\":0.5},\"pattern\":{\"fillmode\":\"overlay\",\"size\":10,\"solidity\":0.2}},\"type\":\"bar\"}],\"carpet\":[{\"aaxis\":{\"endlinecolor\":\"#2a3f5f\",\"gridcolor\":\"white\",\"linecolor\":\"white\",\"minorgridcolor\":\"white\",\"startlinecolor\":\"#2a3f5f\"},\"baxis\":{\"endlinecolor\":\"#2a3f5f\",\"gridcolor\":\"white\",\"linecolor\":\"white\",\"minorgridcolor\":\"white\",\"startlinecolor\":\"#2a3f5f\"},\"type\":\"carpet\"}],\"choropleth\":[{\"colorbar\":{\"outlinewidth\":0,\"ticks\":\"\"},\"type\":\"choropleth\"}],\"contourcarpet\":[{\"colorbar\":{\"outlinewidth\":0,\"ticks\":\"\"},\"type\":\"contourcarpet\"}],\"contour\":[{\"colorbar\":{\"outlinewidth\":0,\"ticks\":\"\"},\"colorscale\":[[0.0,\"#0d0887\"],[0.1111111111111111,\"#46039f\"],[0.2222222222222222,\"#7201a8\"],[0.3333333333333333,\"#9c179e\"],[0.4444444444444444,\"#bd3786\"],[0.5555555555555556,\"#d8576b\"],[0.6666666666666666,\"#ed7953\"],[0.7777777777777778,\"#fb9f3a\"],[0.8888888888888888,\"#fdca26\"],[1.0,\"#f0f921\"]],\"type\":\"contour\"}],\"heatmapgl\":[{\"colorbar\":{\"outlinewidth\":0,\"ticks\":\"\"},\"colorscale\":[[0.0,\"#0d0887\"],[0.1111111111111111,\"#46039f\"],[0.2222222222222222,\"#7201a8\"],[0.3333333333333333,\"#9c179e\"],[0.4444444444444444,\"#bd3786\"],[0.5555555555555556,\"#d8576b\"],[0.6666666666666666,\"#ed7953\"],[0.7777777777777778,\"#fb9f3a\"],[0.8888888888888888,\"#fdca26\"],[1.0,\"#f0f921\"]],\"type\":\"heatmapgl\"}],\"heatmap\":[{\"colorbar\":{\"outlinewidth\":0,\"ticks\":\"\"},\"colorscale\":[[0.0,\"#0d0887\"],[0.1111111111111111,\"#46039f\"],[0.2222222222222222,\"#7201a8\"],[0.3333333333333333,\"#9c179e\"],[0.4444444444444444,\"#bd3786\"],[0.5555555555555556,\"#d8576b\"],[0.6666666666666666,\"#ed7953\"],[0.7777777777777778,\"#fb9f3a\"],[0.8888888888888888,\"#fdca26\"],[1.0,\"#f0f921\"]],\"type\":\"heatmap\"}],\"histogram2dcontour\":[{\"colorbar\":{\"outlinewidth\":0,\"ticks\":\"\"},\"colorscale\":[[0.0,\"#0d0887\"],[0.1111111111111111,\"#46039f\"],[0.2222222222222222,\"#7201a8\"],[0.3333333333333333,\"#9c179e\"],[0.4444444444444444,\"#bd3786\"],[0.5555555555555556,\"#d8576b\"],[0.6666666666666666,\"#ed7953\"],[0.7777777777777778,\"#fb9f3a\"],[0.8888888888888888,\"#fdca26\"],[1.0,\"#f0f921\"]],\"type\":\"histogram2dcontour\"}],\"histogram2d\":[{\"colorbar\":{\"outlinewidth\":0,\"ticks\":\"\"},\"colorscale\":[[0.0,\"#0d0887\"],[0.1111111111111111,\"#46039f\"],[0.2222222222222222,\"#7201a8\"],[0.3333333333333333,\"#9c179e\"],[0.4444444444444444,\"#bd3786\"],[0.5555555555555556,\"#d8576b\"],[0.6666666666666666,\"#ed7953\"],[0.7777777777777778,\"#fb9f3a\"],[0.8888888888888888,\"#fdca26\"],[1.0,\"#f0f921\"]],\"type\":\"histogram2d\"}],\"histogram\":[{\"marker\":{\"pattern\":{\"fillmode\":\"overlay\",\"size\":10,\"solidity\":0.2}},\"type\":\"histogram\"}],\"mesh3d\":[{\"colorbar\":{\"outlinewidth\":0,\"ticks\":\"\"},\"type\":\"mesh3d\"}],\"parcoords\":[{\"line\":{\"colorbar\":{\"outlinewidth\":0,\"ticks\":\"\"}},\"type\":\"parcoords\"}],\"pie\":[{\"automargin\":true,\"type\":\"pie\"}],\"scatter3d\":[{\"line\":{\"colorbar\":{\"outlinewidth\":0,\"ticks\":\"\"}},\"marker\":{\"colorbar\":{\"outlinewidth\":0,\"ticks\":\"\"}},\"type\":\"scatter3d\"}],\"scattercarpet\":[{\"marker\":{\"colorbar\":{\"outlinewidth\":0,\"ticks\":\"\"}},\"type\":\"scattercarpet\"}],\"scattergeo\":[{\"marker\":{\"colorbar\":{\"outlinewidth\":0,\"ticks\":\"\"}},\"type\":\"scattergeo\"}],\"scattergl\":[{\"marker\":{\"colorbar\":{\"outlinewidth\":0,\"ticks\":\"\"}},\"type\":\"scattergl\"}],\"scattermapbox\":[{\"marker\":{\"colorbar\":{\"outlinewidth\":0,\"ticks\":\"\"}},\"type\":\"scattermapbox\"}],\"scatterpolargl\":[{\"marker\":{\"colorbar\":{\"outlinewidth\":0,\"ticks\":\"\"}},\"type\":\"scatterpolargl\"}],\"scatterpolar\":[{\"marker\":{\"colorbar\":{\"outlinewidth\":0,\"ticks\":\"\"}},\"type\":\"scatterpolar\"}],\"scatter\":[{\"fillpattern\":{\"fillmode\":\"overlay\",\"size\":10,\"solidity\":0.2},\"type\":\"scatter\"}],\"scatterternary\":[{\"marker\":{\"colorbar\":{\"outlinewidth\":0,\"ticks\":\"\"}},\"type\":\"scatterternary\"}],\"surface\":[{\"colorbar\":{\"outlinewidth\":0,\"ticks\":\"\"},\"colorscale\":[[0.0,\"#0d0887\"],[0.1111111111111111,\"#46039f\"],[0.2222222222222222,\"#7201a8\"],[0.3333333333333333,\"#9c179e\"],[0.4444444444444444,\"#bd3786\"],[0.5555555555555556,\"#d8576b\"],[0.6666666666666666,\"#ed7953\"],[0.7777777777777778,\"#fb9f3a\"],[0.8888888888888888,\"#fdca26\"],[1.0,\"#f0f921\"]],\"type\":\"surface\"}],\"table\":[{\"cells\":{\"fill\":{\"color\":\"#EBF0F8\"},\"line\":{\"color\":\"white\"}},\"header\":{\"fill\":{\"color\":\"#C8D4E3\"},\"line\":{\"color\":\"white\"}},\"type\":\"table\"}]},\"layout\":{\"annotationdefaults\":{\"arrowcolor\":\"#2a3f5f\",\"arrowhead\":0,\"arrowwidth\":1},\"autotypenumbers\":\"strict\",\"coloraxis\":{\"colorbar\":{\"outlinewidth\":0,\"ticks\":\"\"}},\"colorscale\":{\"diverging\":[[0,\"#8e0152\"],[0.1,\"#c51b7d\"],[0.2,\"#de77ae\"],[0.3,\"#f1b6da\"],[0.4,\"#fde0ef\"],[0.5,\"#f7f7f7\"],[0.6,\"#e6f5d0\"],[0.7,\"#b8e186\"],[0.8,\"#7fbc41\"],[0.9,\"#4d9221\"],[1,\"#276419\"]],\"sequential\":[[0.0,\"#0d0887\"],[0.1111111111111111,\"#46039f\"],[0.2222222222222222,\"#7201a8\"],[0.3333333333333333,\"#9c179e\"],[0.4444444444444444,\"#bd3786\"],[0.5555555555555556,\"#d8576b\"],[0.6666666666666666,\"#ed7953\"],[0.7777777777777778,\"#fb9f3a\"],[0.8888888888888888,\"#fdca26\"],[1.0,\"#f0f921\"]],\"sequentialminus\":[[0.0,\"#0d0887\"],[0.1111111111111111,\"#46039f\"],[0.2222222222222222,\"#7201a8\"],[0.3333333333333333,\"#9c179e\"],[0.4444444444444444,\"#bd3786\"],[0.5555555555555556,\"#d8576b\"],[0.6666666666666666,\"#ed7953\"],[0.7777777777777778,\"#fb9f3a\"],[0.8888888888888888,\"#fdca26\"],[1.0,\"#f0f921\"]]},\"colorway\":[\"#636efa\",\"#EF553B\",\"#00cc96\",\"#ab63fa\",\"#FFA15A\",\"#19d3f3\",\"#FF6692\",\"#B6E880\",\"#FF97FF\",\"#FECB52\"],\"font\":{\"color\":\"#2a3f5f\"},\"geo\":{\"bgcolor\":\"white\",\"lakecolor\":\"white\",\"landcolor\":\"#E5ECF6\",\"showlakes\":true,\"showland\":true,\"subunitcolor\":\"white\"},\"hoverlabel\":{\"align\":\"left\"},\"hovermode\":\"closest\",\"mapbox\":{\"style\":\"light\"},\"paper_bgcolor\":\"white\",\"plot_bgcolor\":\"#E5ECF6\",\"polar\":{\"angularaxis\":{\"gridcolor\":\"white\",\"linecolor\":\"white\",\"ticks\":\"\"},\"bgcolor\":\"#E5ECF6\",\"radialaxis\":{\"gridcolor\":\"white\",\"linecolor\":\"white\",\"ticks\":\"\"}},\"scene\":{\"xaxis\":{\"backgroundcolor\":\"#E5ECF6\",\"gridcolor\":\"white\",\"gridwidth\":2,\"linecolor\":\"white\",\"showbackground\":true,\"ticks\":\"\",\"zerolinecolor\":\"white\"},\"yaxis\":{\"backgroundcolor\":\"#E5ECF6\",\"gridcolor\":\"white\",\"gridwidth\":2,\"linecolor\":\"white\",\"showbackground\":true,\"ticks\":\"\",\"zerolinecolor\":\"white\"},\"zaxis\":{\"backgroundcolor\":\"#E5ECF6\",\"gridcolor\":\"white\",\"gridwidth\":2,\"linecolor\":\"white\",\"showbackground\":true,\"ticks\":\"\",\"zerolinecolor\":\"white\"}},\"shapedefaults\":{\"line\":{\"color\":\"#2a3f5f\"}},\"ternary\":{\"aaxis\":{\"gridcolor\":\"white\",\"linecolor\":\"white\",\"ticks\":\"\"},\"baxis\":{\"gridcolor\":\"white\",\"linecolor\":\"white\",\"ticks\":\"\"},\"bgcolor\":\"#E5ECF6\",\"caxis\":{\"gridcolor\":\"white\",\"linecolor\":\"white\",\"ticks\":\"\"}},\"title\":{\"x\":0.05},\"xaxis\":{\"automargin\":true,\"gridcolor\":\"white\",\"linecolor\":\"white\",\"ticks\":\"\",\"title\":{\"standoff\":15},\"zerolinecolor\":\"white\",\"zerolinewidth\":2},\"yaxis\":{\"automargin\":true,\"gridcolor\":\"white\",\"linecolor\":\"white\",\"ticks\":\"\",\"title\":{\"standoff\":15},\"zerolinecolor\":\"white\",\"zerolinewidth\":2}}}},                        {\"responsive\": true}                    ).then(function(){\n",
       "                            \n",
       "var gd = document.getElementById('0d2264d5-4988-49d0-a503-eddb3d1caf87');\n",
       "var x = new MutationObserver(function (mutations, observer) {{\n",
       "        var display = window.getComputedStyle(gd).display;\n",
       "        if (!display || display === 'none') {{\n",
       "            console.log([gd, 'removed!']);\n",
       "            Plotly.purge(gd);\n",
       "            observer.disconnect();\n",
       "        }}\n",
       "}});\n",
       "\n",
       "// Listen for the removal of the full notebook cells\n",
       "var notebookContainer = gd.closest('#notebook-container');\n",
       "if (notebookContainer) {{\n",
       "    x.observe(notebookContainer, {childList: true});\n",
       "}}\n",
       "\n",
       "// Listen for the clearing of the current output cell\n",
       "var outputEl = gd.closest('.output');\n",
       "if (outputEl) {{\n",
       "    x.observe(outputEl, {childList: true});\n",
       "}}\n",
       "\n",
       "                        })                };                });            </script>        </div>"
      ]
     },
     "metadata": {},
     "output_type": "display_data"
    }
   ],
   "source": [
    "N = 10\n",
    "plotCompare(arange(N),{'Ec':log10(cap),'El':log10(ind)})"
   ]
  },
  {
   "cell_type": "markdown",
   "id": "8723fb7a",
   "metadata": {},
   "source": [
    "### Transmon"
   ]
  },
  {
   "cell_type": "code",
   "execution_count": 6,
   "id": "9f8c5406",
   "metadata": {},
   "outputs": [],
   "source": [
    "Ej,Ec = 20,.3"
   ]
  },
  {
   "cell_type": "code",
   "execution_count": 7,
   "id": "37e43248",
   "metadata": {},
   "outputs": [],
   "source": [
    "basis = {'O':[],'I':[],'J':[100]}\n",
    "circuit = models.transmon(basis,Ej,Ec,sparse=False)\n",
    "H_LC = circuit.kermanHamiltonianLC()\n",
    "H_J = circuit.kermanHamiltonianJosephson\n",
    "kerman = circuit.circuitEnergy(H_LC=H_LC,H_J=H_J)"
   ]
  },
  {
   "cell_type": "code",
   "execution_count": 8,
   "id": "2bc2b5e3",
   "metadata": {},
   "outputs": [],
   "source": [
    "circuit = models.transmon([100],Ej,Ec,sparse=False)\n",
    "H_LC=circuit.chargeHamiltonianLC()\n",
    "H_J=circuit.josephsonCharge\n",
    "charge = circuit.circuitEnergy(H_LC=H_LC,H_J=H_J)"
   ]
  },
  {
   "cell_type": "code",
   "execution_count": 9,
   "id": "77d7edfc",
   "metadata": {},
   "outputs": [
    {
     "data": {
      "application/vnd.plotly.v1+json": {
       "config": {
        "linkText": "Export to plot.ly",
        "plotlyServerURL": "https://plot.ly",
        "showLink": false
       },
       "data": [
        {
         "name": "kerman",
         "type": "scatter",
         "x": [
          0,
          1,
          2,
          3,
          4,
          5,
          6,
          7,
          8,
          9,
          10,
          11,
          12,
          13,
          14,
          15,
          16,
          17,
          18,
          19,
          20,
          21,
          22,
          23,
          24,
          25,
          26,
          27,
          28,
          29,
          30,
          31,
          32,
          33,
          34,
          35,
          36,
          37,
          38,
          39,
          40,
          41,
          42,
          43,
          44,
          45,
          46,
          47,
          48,
          49,
          50,
          51,
          52,
          53,
          54,
          55,
          56,
          57,
          58,
          59,
          60,
          61,
          62,
          63,
          64,
          65,
          66,
          67,
          68,
          69,
          70,
          71,
          72,
          73,
          74,
          75,
          76,
          77,
          78,
          79,
          80,
          81,
          82,
          83,
          84,
          85,
          86,
          87,
          88,
          89,
          90,
          91,
          92,
          93,
          94,
          95,
          96,
          97,
          98,
          99,
          100,
          101,
          102,
          103,
          104,
          105,
          106,
          107,
          108,
          109,
          110,
          111,
          112,
          113,
          114,
          115,
          116,
          117,
          118,
          119,
          120,
          121,
          122,
          123,
          124,
          125,
          126,
          127,
          128,
          129,
          130,
          131,
          132,
          133,
          134,
          135,
          136,
          137,
          138,
          139,
          140,
          141,
          142,
          143,
          144,
          145,
          146,
          147,
          148,
          149,
          150,
          151,
          152,
          153,
          154,
          155,
          156,
          157,
          158,
          159,
          160,
          161,
          162,
          163,
          164,
          165,
          166,
          167,
          168,
          169,
          170,
          171,
          172,
          173,
          174,
          175,
          176,
          177,
          178,
          179,
          180,
          181,
          182,
          183,
          184,
          185,
          186,
          187,
          188,
          189,
          190,
          191,
          192,
          193,
          194,
          195,
          196,
          197,
          198,
          199,
          200
         ],
         "y": [
          -16.611818313598633,
          -9.998723983764648,
          -3.720463991165161,
          2.1829986572265625,
          7.665831565856934,
          12.705178260803223,
          16.688339233398438,
          21.75210952758789,
          22.605016708374023,
          31.746326446533203,
          31.76636505126953,
          44.38701629638672,
          44.388607025146484,
          59.663150787353516,
          59.66360092163086,
          77.45722198486328,
          77.45764923095703,
          97.71785736083984,
          97.71883392333984,
          120.41893005371094,
          120.41905975341797,
          145.5454864501953,
          145.54595947265625,
          173.0900421142578,
          173.09054565429688,
          203.04708862304688,
          203.048095703125,
          235.41357421875,
          235.4138641357422,
          270.185302734375,
          270.18585205078125,
          307.36279296875,
          307.3634033203125,
          346.9441223144531,
          346.9450378417969,
          388.92938232421875,
          388.9294128417969,
          433.3153991699219,
          433.31610107421875,
          480.10394287109375,
          480.1039733886719,
          529.2944946289062,
          529.294921875,
          580.8869018554688,
          580.8875122070312,
          634.87841796875,
          634.879638671875,
          691.2730102539062,
          691.2741088867188,
          750.0662841796875,
          750.0684814453125,
          811.2615966796875,
          811.2626953125,
          874.8571166992188,
          874.857421875,
          940.8533325195312,
          940.8558349609375,
          1009.24755859375,
          1009.2486572265625,
          1080.046875,
          1080.0478515625,
          1153.242919921875,
          1153.243408203125,
          1228.842529296875,
          1228.842529296875,
          1306.83984375,
          1306.8408203125,
          1387.233154296875,
          1387.2376708984375,
          1470.0345458984375,
          1470.0355224609375,
          1555.2322998046875,
          1555.2347412109375,
          1642.8275146484375,
          1642.829833984375,
          1732.83056640625,
          1732.8336181640625,
          1825.22509765625,
          1825.2294921875,
          1920.02685546875,
          1920.0286865234375,
          2017.221923828125,
          2017.2235107421875,
          2116.82373046875,
          2116.82861328125,
          2218.825927734375,
          2218.83251953125,
          2323.21484375,
          2323.2265625,
          2430.017333984375,
          2430.0302734375,
          2539.2177734375,
          2539.22119140625,
          2650.81982421875,
          2650.820556640625,
          2764.822998046875,
          2764.823974609375,
          2881.216796875,
          2881.22265625,
          3000.019775390625,
          3000.023681640625,
          3121.22265625,
          3121.22314453125,
          3244.81689453125,
          3244.81982421875,
          3370.82080078125,
          3370.830322265625,
          3499.215576171875,
          3499.22607421875,
          3630.014404296875,
          3630.017822265625,
          3763.20751953125,
          3763.208251953125,
          3898.813720703125,
          3898.8193359375,
          4036.8046875,
          4036.8115234375,
          4177.205078125,
          4177.220703125,
          4320.00537109375,
          4320.017578125,
          4465.20556640625,
          4465.21435546875,
          4612.8125,
          4612.81982421875,
          4762.8095703125,
          4762.82080078125,
          4915.19970703125,
          4915.20166015625,
          5070.01025390625,
          5070.03515625,
          5227.21630859375,
          5227.2177734375,
          5386.80126953125,
          5386.830078125,
          5548.80419921875,
          5548.80810546875,
          5713.20947265625,
          5713.2275390625,
          5880.00927734375,
          5880.02392578125,
          6049.20263671875,
          6049.22607421875,
          6220.79541015625,
          6220.8125,
          6394.81982421875,
          6394.8388671875,
          6571.2109375,
          6571.23291015625,
          6750.00732421875,
          6750.01318359375,
          6931.208984375,
          6931.22119140625,
          7114.814453125,
          7114.818359375,
          7300.80322265625,
          7300.80859375,
          7489.208984375,
          7489.2158203125,
          7680.0009765625,
          7680.0234375,
          7873.2109375,
          7873.2333984375,
          8068.82275390625,
          8068.82373046875,
          8266.7998046875,
          8266.828125,
          8467.1923828125,
          8467.2265625,
          8669.994140625,
          8670.0263671875,
          8875.2001953125,
          8875.201171875,
          9082.80078125,
          9082.80859375,
          9292.8115234375,
          9292.8154296875,
          9505.1923828125,
          9505.2177734375,
          9719.9853515625,
          9720.01171875,
          9937.2099609375,
          9937.2314453125,
          10156.7958984375,
          10156.8232421875,
          10378.806640625,
          10378.814453125,
          10603.23046875,
          10603.2353515625,
          10830.033203125,
          10830.046875,
          11059.203125,
          11059.234375,
          11290.8095703125,
          11290.8291015625,
          11524.8076171875,
          11524.875,
          11761.185546875,
          11761.27734375,
          11990.466796875,
          12010.4345703125
         ]
        },
        {
         "name": "charge",
         "type": "scatter",
         "x": [
          0,
          1,
          2,
          3,
          4,
          5,
          6,
          7,
          8,
          9,
          10,
          11,
          12,
          13,
          14,
          15,
          16,
          17,
          18,
          19,
          20,
          21,
          22,
          23,
          24,
          25,
          26,
          27,
          28,
          29,
          30,
          31,
          32,
          33,
          34,
          35,
          36,
          37,
          38,
          39,
          40,
          41,
          42,
          43,
          44,
          45,
          46,
          47,
          48,
          49,
          50,
          51,
          52,
          53,
          54,
          55,
          56,
          57,
          58,
          59,
          60,
          61,
          62,
          63,
          64,
          65,
          66,
          67,
          68,
          69,
          70,
          71,
          72,
          73,
          74,
          75,
          76,
          77,
          78,
          79,
          80,
          81,
          82,
          83,
          84,
          85,
          86,
          87,
          88,
          89,
          90,
          91,
          92,
          93,
          94,
          95,
          96,
          97,
          98,
          99,
          100,
          101,
          102,
          103,
          104,
          105,
          106,
          107,
          108,
          109,
          110,
          111,
          112,
          113,
          114,
          115,
          116,
          117,
          118,
          119,
          120,
          121,
          122,
          123,
          124,
          125,
          126,
          127,
          128,
          129,
          130,
          131,
          132,
          133,
          134,
          135,
          136,
          137,
          138,
          139,
          140,
          141,
          142,
          143,
          144,
          145,
          146,
          147,
          148,
          149,
          150,
          151,
          152,
          153,
          154,
          155,
          156,
          157,
          158,
          159,
          160,
          161,
          162,
          163,
          164,
          165,
          166,
          167,
          168,
          169,
          170,
          171,
          172,
          173,
          174,
          175,
          176,
          177,
          178,
          179,
          180,
          181,
          182,
          183,
          184,
          185,
          186,
          187,
          188,
          189,
          190,
          191,
          192,
          193,
          194,
          195,
          196,
          197,
          198,
          199,
          200
         ],
         "y": [
          -16.612640380859375,
          -9.999199867248535,
          -3.7226316928863525,
          2.183464527130127,
          7.664127349853516,
          12.705041885375977,
          16.68720817565918,
          21.75167465209961,
          22.60443878173828,
          31.74557876586914,
          31.765905380249023,
          44.38717269897461,
          44.387298583984375,
          59.66294860839844,
          59.66309356689453,
          77.45708465576172,
          77.4572525024414,
          97.7177734375,
          97.7178955078125,
          120.41863250732422,
          120.41887664794922,
          145.54568481445312,
          145.5457763671875,
          173.09027099609375,
          173.09027099609375,
          203.04718017578125,
          203.04734802246094,
          235.4132080078125,
          235.4132843017578,
          270.1852722167969,
          270.18560791015625,
          307.3630676269531,
          307.3630676269531,
          346.94439697265625,
          346.9444580078125,
          388.9286804199219,
          388.92919921875,
          433.3154602050781,
          433.3163146972656,
          480.1038818359375,
          480.1046447753906,
          529.2944946289062,
          529.2950439453125,
          580.8861694335938,
          580.8871459960938,
          634.8783569335938,
          634.8785400390625,
          691.2716674804688,
          691.2724609375,
          750.066162109375,
          750.067626953125,
          811.2605590820312,
          811.261474609375,
          874.8572387695312,
          874.857421875,
          940.853271484375,
          940.8533325195312,
          1009.2489624023438,
          1009.2493286132812,
          1080.0467529296875,
          1080.0484619140625,
          1153.2451171875,
          1153.246337890625,
          1228.842041015625,
          1228.842529296875,
          1306.8377685546875,
          1306.84130859375,
          1387.2357177734375,
          1387.236083984375,
          1470.033447265625,
          1470.0374755859375,
          1555.23486328125,
          1555.2353515625,
          1642.8311767578125,
          1642.83154296875,
          1732.8289794921875,
          1732.8341064453125,
          1825.22607421875,
          1825.2315673828125,
          1920.0260009765625,
          1920.0318603515625,
          2017.2265625,
          2017.2288818359375,
          2116.822998046875,
          2116.82568359375,
          2218.8203125,
          2218.82177734375,
          2323.220458984375,
          2323.221923828125,
          2430.020751953125,
          2430.021728515625,
          2539.21826171875,
          2539.22119140625,
          2650.821533203125,
          2650.822998046875,
          2764.8193359375,
          2764.81982421875,
          2881.21630859375,
          2881.21728515625,
          3000.01513671875,
          3000.016845703125,
          3121.21630859375,
          3121.21875,
          3244.816162109375,
          3244.8173828125,
          3370.81640625,
          3370.8173828125,
          3499.218017578125,
          3499.2197265625,
          3630.013671875,
          3630.015380859375,
          3763.2119140625,
          3763.2197265625,
          3898.81640625,
          3898.818359375,
          4036.8203125,
          4036.822265625,
          4177.20703125,
          4177.22021484375,
          4320.01416015625,
          4320.017578125,
          4465.20947265625,
          4465.2158203125,
          4612.81494140625,
          4612.8154296875,
          4762.8173828125,
          4762.8193359375,
          4915.2099609375,
          4915.21826171875,
          5070.00830078125,
          5070.01513671875,
          5227.2099609375,
          5227.2177734375,
          5386.8076171875,
          5386.81689453125,
          5548.806640625,
          5548.81201171875,
          5713.21142578125,
          5713.21240234375,
          5880.01220703125,
          5880.0126953125,
          6049.20703125,
          6049.21240234375,
          6220.80615234375,
          6220.81396484375,
          6394.806640625,
          6394.80908203125,
          6571.2021484375,
          6571.20361328125,
          6750.009765625,
          6750.01953125,
          6931.2080078125,
          6931.22265625,
          7114.8154296875,
          7114.81689453125,
          7300.80810546875,
          7300.81396484375,
          7489.22265625,
          7489.22412109375,
          7680.00634765625,
          7680.01220703125,
          7873.20361328125,
          7873.2109375,
          8068.80126953125,
          8068.81298828125,
          8266.814453125,
          8266.8271484375,
          8467.201171875,
          8467.2314453125,
          8670.0126953125,
          8670.0166015625,
          8875.2099609375,
          8875.2236328125,
          9082.80078125,
          9082.8046875,
          9292.7978515625,
          9292.8125,
          9505.2001953125,
          9505.20703125,
          9720.005859375,
          9720.0146484375,
          9937.2060546875,
          9937.20703125,
          10156.798828125,
          10156.814453125,
          10378.8046875,
          10378.8115234375,
          10603.20703125,
          10603.212890625,
          10829.99609375,
          10830.0048828125,
          11059.2021484375,
          11059.2060546875,
          11290.8095703125,
          11290.81640625,
          11524.802734375,
          11524.806640625,
          11761.2001953125,
          11761.203125,
          12000.4150390625,
          12000.4208984375
         ]
        }
       ],
       "layout": {
        "template": {
         "data": {
          "bar": [
           {
            "error_x": {
             "color": "#2a3f5f"
            },
            "error_y": {
             "color": "#2a3f5f"
            },
            "marker": {
             "line": {
              "color": "#E5ECF6",
              "width": 0.5
             },
             "pattern": {
              "fillmode": "overlay",
              "size": 10,
              "solidity": 0.2
             }
            },
            "type": "bar"
           }
          ],
          "barpolar": [
           {
            "marker": {
             "line": {
              "color": "#E5ECF6",
              "width": 0.5
             },
             "pattern": {
              "fillmode": "overlay",
              "size": 10,
              "solidity": 0.2
             }
            },
            "type": "barpolar"
           }
          ],
          "carpet": [
           {
            "aaxis": {
             "endlinecolor": "#2a3f5f",
             "gridcolor": "white",
             "linecolor": "white",
             "minorgridcolor": "white",
             "startlinecolor": "#2a3f5f"
            },
            "baxis": {
             "endlinecolor": "#2a3f5f",
             "gridcolor": "white",
             "linecolor": "white",
             "minorgridcolor": "white",
             "startlinecolor": "#2a3f5f"
            },
            "type": "carpet"
           }
          ],
          "choropleth": [
           {
            "colorbar": {
             "outlinewidth": 0,
             "ticks": ""
            },
            "type": "choropleth"
           }
          ],
          "contour": [
           {
            "colorbar": {
             "outlinewidth": 0,
             "ticks": ""
            },
            "colorscale": [
             [
              0,
              "#0d0887"
             ],
             [
              0.1111111111111111,
              "#46039f"
             ],
             [
              0.2222222222222222,
              "#7201a8"
             ],
             [
              0.3333333333333333,
              "#9c179e"
             ],
             [
              0.4444444444444444,
              "#bd3786"
             ],
             [
              0.5555555555555556,
              "#d8576b"
             ],
             [
              0.6666666666666666,
              "#ed7953"
             ],
             [
              0.7777777777777778,
              "#fb9f3a"
             ],
             [
              0.8888888888888888,
              "#fdca26"
             ],
             [
              1,
              "#f0f921"
             ]
            ],
            "type": "contour"
           }
          ],
          "contourcarpet": [
           {
            "colorbar": {
             "outlinewidth": 0,
             "ticks": ""
            },
            "type": "contourcarpet"
           }
          ],
          "heatmap": [
           {
            "colorbar": {
             "outlinewidth": 0,
             "ticks": ""
            },
            "colorscale": [
             [
              0,
              "#0d0887"
             ],
             [
              0.1111111111111111,
              "#46039f"
             ],
             [
              0.2222222222222222,
              "#7201a8"
             ],
             [
              0.3333333333333333,
              "#9c179e"
             ],
             [
              0.4444444444444444,
              "#bd3786"
             ],
             [
              0.5555555555555556,
              "#d8576b"
             ],
             [
              0.6666666666666666,
              "#ed7953"
             ],
             [
              0.7777777777777778,
              "#fb9f3a"
             ],
             [
              0.8888888888888888,
              "#fdca26"
             ],
             [
              1,
              "#f0f921"
             ]
            ],
            "type": "heatmap"
           }
          ],
          "heatmapgl": [
           {
            "colorbar": {
             "outlinewidth": 0,
             "ticks": ""
            },
            "colorscale": [
             [
              0,
              "#0d0887"
             ],
             [
              0.1111111111111111,
              "#46039f"
             ],
             [
              0.2222222222222222,
              "#7201a8"
             ],
             [
              0.3333333333333333,
              "#9c179e"
             ],
             [
              0.4444444444444444,
              "#bd3786"
             ],
             [
              0.5555555555555556,
              "#d8576b"
             ],
             [
              0.6666666666666666,
              "#ed7953"
             ],
             [
              0.7777777777777778,
              "#fb9f3a"
             ],
             [
              0.8888888888888888,
              "#fdca26"
             ],
             [
              1,
              "#f0f921"
             ]
            ],
            "type": "heatmapgl"
           }
          ],
          "histogram": [
           {
            "marker": {
             "pattern": {
              "fillmode": "overlay",
              "size": 10,
              "solidity": 0.2
             }
            },
            "type": "histogram"
           }
          ],
          "histogram2d": [
           {
            "colorbar": {
             "outlinewidth": 0,
             "ticks": ""
            },
            "colorscale": [
             [
              0,
              "#0d0887"
             ],
             [
              0.1111111111111111,
              "#46039f"
             ],
             [
              0.2222222222222222,
              "#7201a8"
             ],
             [
              0.3333333333333333,
              "#9c179e"
             ],
             [
              0.4444444444444444,
              "#bd3786"
             ],
             [
              0.5555555555555556,
              "#d8576b"
             ],
             [
              0.6666666666666666,
              "#ed7953"
             ],
             [
              0.7777777777777778,
              "#fb9f3a"
             ],
             [
              0.8888888888888888,
              "#fdca26"
             ],
             [
              1,
              "#f0f921"
             ]
            ],
            "type": "histogram2d"
           }
          ],
          "histogram2dcontour": [
           {
            "colorbar": {
             "outlinewidth": 0,
             "ticks": ""
            },
            "colorscale": [
             [
              0,
              "#0d0887"
             ],
             [
              0.1111111111111111,
              "#46039f"
             ],
             [
              0.2222222222222222,
              "#7201a8"
             ],
             [
              0.3333333333333333,
              "#9c179e"
             ],
             [
              0.4444444444444444,
              "#bd3786"
             ],
             [
              0.5555555555555556,
              "#d8576b"
             ],
             [
              0.6666666666666666,
              "#ed7953"
             ],
             [
              0.7777777777777778,
              "#fb9f3a"
             ],
             [
              0.8888888888888888,
              "#fdca26"
             ],
             [
              1,
              "#f0f921"
             ]
            ],
            "type": "histogram2dcontour"
           }
          ],
          "mesh3d": [
           {
            "colorbar": {
             "outlinewidth": 0,
             "ticks": ""
            },
            "type": "mesh3d"
           }
          ],
          "parcoords": [
           {
            "line": {
             "colorbar": {
              "outlinewidth": 0,
              "ticks": ""
             }
            },
            "type": "parcoords"
           }
          ],
          "pie": [
           {
            "automargin": true,
            "type": "pie"
           }
          ],
          "scatter": [
           {
            "marker": {
             "colorbar": {
              "outlinewidth": 0,
              "ticks": ""
             }
            },
            "type": "scatter"
           }
          ],
          "scatter3d": [
           {
            "line": {
             "colorbar": {
              "outlinewidth": 0,
              "ticks": ""
             }
            },
            "marker": {
             "colorbar": {
              "outlinewidth": 0,
              "ticks": ""
             }
            },
            "type": "scatter3d"
           }
          ],
          "scattercarpet": [
           {
            "marker": {
             "colorbar": {
              "outlinewidth": 0,
              "ticks": ""
             }
            },
            "type": "scattercarpet"
           }
          ],
          "scattergeo": [
           {
            "marker": {
             "colorbar": {
              "outlinewidth": 0,
              "ticks": ""
             }
            },
            "type": "scattergeo"
           }
          ],
          "scattergl": [
           {
            "marker": {
             "colorbar": {
              "outlinewidth": 0,
              "ticks": ""
             }
            },
            "type": "scattergl"
           }
          ],
          "scattermapbox": [
           {
            "marker": {
             "colorbar": {
              "outlinewidth": 0,
              "ticks": ""
             }
            },
            "type": "scattermapbox"
           }
          ],
          "scatterpolar": [
           {
            "marker": {
             "colorbar": {
              "outlinewidth": 0,
              "ticks": ""
             }
            },
            "type": "scatterpolar"
           }
          ],
          "scatterpolargl": [
           {
            "marker": {
             "colorbar": {
              "outlinewidth": 0,
              "ticks": ""
             }
            },
            "type": "scatterpolargl"
           }
          ],
          "scatterternary": [
           {
            "marker": {
             "colorbar": {
              "outlinewidth": 0,
              "ticks": ""
             }
            },
            "type": "scatterternary"
           }
          ],
          "surface": [
           {
            "colorbar": {
             "outlinewidth": 0,
             "ticks": ""
            },
            "colorscale": [
             [
              0,
              "#0d0887"
             ],
             [
              0.1111111111111111,
              "#46039f"
             ],
             [
              0.2222222222222222,
              "#7201a8"
             ],
             [
              0.3333333333333333,
              "#9c179e"
             ],
             [
              0.4444444444444444,
              "#bd3786"
             ],
             [
              0.5555555555555556,
              "#d8576b"
             ],
             [
              0.6666666666666666,
              "#ed7953"
             ],
             [
              0.7777777777777778,
              "#fb9f3a"
             ],
             [
              0.8888888888888888,
              "#fdca26"
             ],
             [
              1,
              "#f0f921"
             ]
            ],
            "type": "surface"
           }
          ],
          "table": [
           {
            "cells": {
             "fill": {
              "color": "#EBF0F8"
             },
             "line": {
              "color": "white"
             }
            },
            "header": {
             "fill": {
              "color": "#C8D4E3"
             },
             "line": {
              "color": "white"
             }
            },
            "type": "table"
           }
          ]
         },
         "layout": {
          "annotationdefaults": {
           "arrowcolor": "#2a3f5f",
           "arrowhead": 0,
           "arrowwidth": 1
          },
          "autotypenumbers": "strict",
          "coloraxis": {
           "colorbar": {
            "outlinewidth": 0,
            "ticks": ""
           }
          },
          "colorscale": {
           "diverging": [
            [
             0,
             "#8e0152"
            ],
            [
             0.1,
             "#c51b7d"
            ],
            [
             0.2,
             "#de77ae"
            ],
            [
             0.3,
             "#f1b6da"
            ],
            [
             0.4,
             "#fde0ef"
            ],
            [
             0.5,
             "#f7f7f7"
            ],
            [
             0.6,
             "#e6f5d0"
            ],
            [
             0.7,
             "#b8e186"
            ],
            [
             0.8,
             "#7fbc41"
            ],
            [
             0.9,
             "#4d9221"
            ],
            [
             1,
             "#276419"
            ]
           ],
           "sequential": [
            [
             0,
             "#0d0887"
            ],
            [
             0.1111111111111111,
             "#46039f"
            ],
            [
             0.2222222222222222,
             "#7201a8"
            ],
            [
             0.3333333333333333,
             "#9c179e"
            ],
            [
             0.4444444444444444,
             "#bd3786"
            ],
            [
             0.5555555555555556,
             "#d8576b"
            ],
            [
             0.6666666666666666,
             "#ed7953"
            ],
            [
             0.7777777777777778,
             "#fb9f3a"
            ],
            [
             0.8888888888888888,
             "#fdca26"
            ],
            [
             1,
             "#f0f921"
            ]
           ],
           "sequentialminus": [
            [
             0,
             "#0d0887"
            ],
            [
             0.1111111111111111,
             "#46039f"
            ],
            [
             0.2222222222222222,
             "#7201a8"
            ],
            [
             0.3333333333333333,
             "#9c179e"
            ],
            [
             0.4444444444444444,
             "#bd3786"
            ],
            [
             0.5555555555555556,
             "#d8576b"
            ],
            [
             0.6666666666666666,
             "#ed7953"
            ],
            [
             0.7777777777777778,
             "#fb9f3a"
            ],
            [
             0.8888888888888888,
             "#fdca26"
            ],
            [
             1,
             "#f0f921"
            ]
           ]
          },
          "colorway": [
           "#636efa",
           "#EF553B",
           "#00cc96",
           "#ab63fa",
           "#FFA15A",
           "#19d3f3",
           "#FF6692",
           "#B6E880",
           "#FF97FF",
           "#FECB52"
          ],
          "font": {
           "color": "#2a3f5f"
          },
          "geo": {
           "bgcolor": "white",
           "lakecolor": "white",
           "landcolor": "#E5ECF6",
           "showlakes": true,
           "showland": true,
           "subunitcolor": "white"
          },
          "hoverlabel": {
           "align": "left"
          },
          "hovermode": "closest",
          "mapbox": {
           "style": "light"
          },
          "paper_bgcolor": "white",
          "plot_bgcolor": "#E5ECF6",
          "polar": {
           "angularaxis": {
            "gridcolor": "white",
            "linecolor": "white",
            "ticks": ""
           },
           "bgcolor": "#E5ECF6",
           "radialaxis": {
            "gridcolor": "white",
            "linecolor": "white",
            "ticks": ""
           }
          },
          "scene": {
           "xaxis": {
            "backgroundcolor": "#E5ECF6",
            "gridcolor": "white",
            "gridwidth": 2,
            "linecolor": "white",
            "showbackground": true,
            "ticks": "",
            "zerolinecolor": "white"
           },
           "yaxis": {
            "backgroundcolor": "#E5ECF6",
            "gridcolor": "white",
            "gridwidth": 2,
            "linecolor": "white",
            "showbackground": true,
            "ticks": "",
            "zerolinecolor": "white"
           },
           "zaxis": {
            "backgroundcolor": "#E5ECF6",
            "gridcolor": "white",
            "gridwidth": 2,
            "linecolor": "white",
            "showbackground": true,
            "ticks": "",
            "zerolinecolor": "white"
           }
          },
          "shapedefaults": {
           "line": {
            "color": "#2a3f5f"
           }
          },
          "ternary": {
           "aaxis": {
            "gridcolor": "white",
            "linecolor": "white",
            "ticks": ""
           },
           "baxis": {
            "gridcolor": "white",
            "linecolor": "white",
            "ticks": ""
           },
           "bgcolor": "#E5ECF6",
           "caxis": {
            "gridcolor": "white",
            "linecolor": "white",
            "ticks": ""
           }
          },
          "title": {
           "x": 0.05
          },
          "xaxis": {
           "automargin": true,
           "gridcolor": "white",
           "linecolor": "white",
           "ticks": "",
           "title": {
            "standoff": 15
           },
           "zerolinecolor": "white",
           "zerolinewidth": 2
          },
          "yaxis": {
           "automargin": true,
           "gridcolor": "white",
           "linecolor": "white",
           "ticks": "",
           "title": {
            "standoff": 15
           },
           "zerolinecolor": "white",
           "zerolinewidth": 2
          }
         }
        },
        "title": {
         "text": "Energy Spectrum"
        },
        "xaxis": {
         "title": {
          "text": "levels"
         }
        },
        "yaxis": {
         "title": {
          "text": "E(GHz)"
         }
        }
       }
      },
      "text/html": [
       "<div>                            <div id=\"dadd0d88-040b-443b-9828-e932ad584c3c\" class=\"plotly-graph-div\" style=\"height:525px; width:100%;\"></div>            <script type=\"text/javascript\">                require([\"plotly\"], function(Plotly) {                    window.PLOTLYENV=window.PLOTLYENV || {};                                    if (document.getElementById(\"dadd0d88-040b-443b-9828-e932ad584c3c\")) {                    Plotly.newPlot(                        \"dadd0d88-040b-443b-9828-e932ad584c3c\",                        [{\"name\":\"kerman\",\"type\":\"scatter\",\"x\":[0,1,2,3,4,5,6,7,8,9,10,11,12,13,14,15,16,17,18,19,20,21,22,23,24,25,26,27,28,29,30,31,32,33,34,35,36,37,38,39,40,41,42,43,44,45,46,47,48,49,50,51,52,53,54,55,56,57,58,59,60,61,62,63,64,65,66,67,68,69,70,71,72,73,74,75,76,77,78,79,80,81,82,83,84,85,86,87,88,89,90,91,92,93,94,95,96,97,98,99,100,101,102,103,104,105,106,107,108,109,110,111,112,113,114,115,116,117,118,119,120,121,122,123,124,125,126,127,128,129,130,131,132,133,134,135,136,137,138,139,140,141,142,143,144,145,146,147,148,149,150,151,152,153,154,155,156,157,158,159,160,161,162,163,164,165,166,167,168,169,170,171,172,173,174,175,176,177,178,179,180,181,182,183,184,185,186,187,188,189,190,191,192,193,194,195,196,197,198,199,200],\"y\":[-16.611818313598633,-9.998723983764648,-3.720463991165161,2.1829986572265625,7.665831565856934,12.705178260803223,16.688339233398438,21.75210952758789,22.605016708374023,31.746326446533203,31.76636505126953,44.38701629638672,44.388607025146484,59.663150787353516,59.66360092163086,77.45722198486328,77.45764923095703,97.71785736083984,97.71883392333984,120.41893005371094,120.41905975341797,145.5454864501953,145.54595947265625,173.0900421142578,173.09054565429688,203.04708862304688,203.048095703125,235.41357421875,235.4138641357422,270.185302734375,270.18585205078125,307.36279296875,307.3634033203125,346.9441223144531,346.9450378417969,388.92938232421875,388.9294128417969,433.3153991699219,433.31610107421875,480.10394287109375,480.1039733886719,529.2944946289062,529.294921875,580.8869018554688,580.8875122070312,634.87841796875,634.879638671875,691.2730102539062,691.2741088867188,750.0662841796875,750.0684814453125,811.2615966796875,811.2626953125,874.8571166992188,874.857421875,940.8533325195312,940.8558349609375,1009.24755859375,1009.2486572265625,1080.046875,1080.0478515625,1153.242919921875,1153.243408203125,1228.842529296875,1228.842529296875,1306.83984375,1306.8408203125,1387.233154296875,1387.2376708984375,1470.0345458984375,1470.0355224609375,1555.2322998046875,1555.2347412109375,1642.8275146484375,1642.829833984375,1732.83056640625,1732.8336181640625,1825.22509765625,1825.2294921875,1920.02685546875,1920.0286865234375,2017.221923828125,2017.2235107421875,2116.82373046875,2116.82861328125,2218.825927734375,2218.83251953125,2323.21484375,2323.2265625,2430.017333984375,2430.0302734375,2539.2177734375,2539.22119140625,2650.81982421875,2650.820556640625,2764.822998046875,2764.823974609375,2881.216796875,2881.22265625,3000.019775390625,3000.023681640625,3121.22265625,3121.22314453125,3244.81689453125,3244.81982421875,3370.82080078125,3370.830322265625,3499.215576171875,3499.22607421875,3630.014404296875,3630.017822265625,3763.20751953125,3763.208251953125,3898.813720703125,3898.8193359375,4036.8046875,4036.8115234375,4177.205078125,4177.220703125,4320.00537109375,4320.017578125,4465.20556640625,4465.21435546875,4612.8125,4612.81982421875,4762.8095703125,4762.82080078125,4915.19970703125,4915.20166015625,5070.01025390625,5070.03515625,5227.21630859375,5227.2177734375,5386.80126953125,5386.830078125,5548.80419921875,5548.80810546875,5713.20947265625,5713.2275390625,5880.00927734375,5880.02392578125,6049.20263671875,6049.22607421875,6220.79541015625,6220.8125,6394.81982421875,6394.8388671875,6571.2109375,6571.23291015625,6750.00732421875,6750.01318359375,6931.208984375,6931.22119140625,7114.814453125,7114.818359375,7300.80322265625,7300.80859375,7489.208984375,7489.2158203125,7680.0009765625,7680.0234375,7873.2109375,7873.2333984375,8068.82275390625,8068.82373046875,8266.7998046875,8266.828125,8467.1923828125,8467.2265625,8669.994140625,8670.0263671875,8875.2001953125,8875.201171875,9082.80078125,9082.80859375,9292.8115234375,9292.8154296875,9505.1923828125,9505.2177734375,9719.9853515625,9720.01171875,9937.2099609375,9937.2314453125,10156.7958984375,10156.8232421875,10378.806640625,10378.814453125,10603.23046875,10603.2353515625,10830.033203125,10830.046875,11059.203125,11059.234375,11290.8095703125,11290.8291015625,11524.8076171875,11524.875,11761.185546875,11761.27734375,11990.466796875,12010.4345703125]},{\"name\":\"charge\",\"type\":\"scatter\",\"x\":[0,1,2,3,4,5,6,7,8,9,10,11,12,13,14,15,16,17,18,19,20,21,22,23,24,25,26,27,28,29,30,31,32,33,34,35,36,37,38,39,40,41,42,43,44,45,46,47,48,49,50,51,52,53,54,55,56,57,58,59,60,61,62,63,64,65,66,67,68,69,70,71,72,73,74,75,76,77,78,79,80,81,82,83,84,85,86,87,88,89,90,91,92,93,94,95,96,97,98,99,100,101,102,103,104,105,106,107,108,109,110,111,112,113,114,115,116,117,118,119,120,121,122,123,124,125,126,127,128,129,130,131,132,133,134,135,136,137,138,139,140,141,142,143,144,145,146,147,148,149,150,151,152,153,154,155,156,157,158,159,160,161,162,163,164,165,166,167,168,169,170,171,172,173,174,175,176,177,178,179,180,181,182,183,184,185,186,187,188,189,190,191,192,193,194,195,196,197,198,199,200],\"y\":[-16.612640380859375,-9.999199867248535,-3.7226316928863525,2.183464527130127,7.664127349853516,12.705041885375977,16.68720817565918,21.75167465209961,22.60443878173828,31.74557876586914,31.765905380249023,44.38717269897461,44.387298583984375,59.66294860839844,59.66309356689453,77.45708465576172,77.4572525024414,97.7177734375,97.7178955078125,120.41863250732422,120.41887664794922,145.54568481445312,145.5457763671875,173.09027099609375,173.09027099609375,203.04718017578125,203.04734802246094,235.4132080078125,235.4132843017578,270.1852722167969,270.18560791015625,307.3630676269531,307.3630676269531,346.94439697265625,346.9444580078125,388.9286804199219,388.92919921875,433.3154602050781,433.3163146972656,480.1038818359375,480.1046447753906,529.2944946289062,529.2950439453125,580.8861694335938,580.8871459960938,634.8783569335938,634.8785400390625,691.2716674804688,691.2724609375,750.066162109375,750.067626953125,811.2605590820312,811.261474609375,874.8572387695312,874.857421875,940.853271484375,940.8533325195312,1009.2489624023438,1009.2493286132812,1080.0467529296875,1080.0484619140625,1153.2451171875,1153.246337890625,1228.842041015625,1228.842529296875,1306.8377685546875,1306.84130859375,1387.2357177734375,1387.236083984375,1470.033447265625,1470.0374755859375,1555.23486328125,1555.2353515625,1642.8311767578125,1642.83154296875,1732.8289794921875,1732.8341064453125,1825.22607421875,1825.2315673828125,1920.0260009765625,1920.0318603515625,2017.2265625,2017.2288818359375,2116.822998046875,2116.82568359375,2218.8203125,2218.82177734375,2323.220458984375,2323.221923828125,2430.020751953125,2430.021728515625,2539.21826171875,2539.22119140625,2650.821533203125,2650.822998046875,2764.8193359375,2764.81982421875,2881.21630859375,2881.21728515625,3000.01513671875,3000.016845703125,3121.21630859375,3121.21875,3244.816162109375,3244.8173828125,3370.81640625,3370.8173828125,3499.218017578125,3499.2197265625,3630.013671875,3630.015380859375,3763.2119140625,3763.2197265625,3898.81640625,3898.818359375,4036.8203125,4036.822265625,4177.20703125,4177.22021484375,4320.01416015625,4320.017578125,4465.20947265625,4465.2158203125,4612.81494140625,4612.8154296875,4762.8173828125,4762.8193359375,4915.2099609375,4915.21826171875,5070.00830078125,5070.01513671875,5227.2099609375,5227.2177734375,5386.8076171875,5386.81689453125,5548.806640625,5548.81201171875,5713.21142578125,5713.21240234375,5880.01220703125,5880.0126953125,6049.20703125,6049.21240234375,6220.80615234375,6220.81396484375,6394.806640625,6394.80908203125,6571.2021484375,6571.20361328125,6750.009765625,6750.01953125,6931.2080078125,6931.22265625,7114.8154296875,7114.81689453125,7300.80810546875,7300.81396484375,7489.22265625,7489.22412109375,7680.00634765625,7680.01220703125,7873.20361328125,7873.2109375,8068.80126953125,8068.81298828125,8266.814453125,8266.8271484375,8467.201171875,8467.2314453125,8670.0126953125,8670.0166015625,8875.2099609375,8875.2236328125,9082.80078125,9082.8046875,9292.7978515625,9292.8125,9505.2001953125,9505.20703125,9720.005859375,9720.0146484375,9937.2060546875,9937.20703125,10156.798828125,10156.814453125,10378.8046875,10378.8115234375,10603.20703125,10603.212890625,10829.99609375,10830.0048828125,11059.2021484375,11059.2060546875,11290.8095703125,11290.81640625,11524.802734375,11524.806640625,11761.2001953125,11761.203125,12000.4150390625,12000.4208984375]}],                        {\"template\":{\"data\":{\"bar\":[{\"error_x\":{\"color\":\"#2a3f5f\"},\"error_y\":{\"color\":\"#2a3f5f\"},\"marker\":{\"line\":{\"color\":\"#E5ECF6\",\"width\":0.5},\"pattern\":{\"fillmode\":\"overlay\",\"size\":10,\"solidity\":0.2}},\"type\":\"bar\"}],\"barpolar\":[{\"marker\":{\"line\":{\"color\":\"#E5ECF6\",\"width\":0.5},\"pattern\":{\"fillmode\":\"overlay\",\"size\":10,\"solidity\":0.2}},\"type\":\"barpolar\"}],\"carpet\":[{\"aaxis\":{\"endlinecolor\":\"#2a3f5f\",\"gridcolor\":\"white\",\"linecolor\":\"white\",\"minorgridcolor\":\"white\",\"startlinecolor\":\"#2a3f5f\"},\"baxis\":{\"endlinecolor\":\"#2a3f5f\",\"gridcolor\":\"white\",\"linecolor\":\"white\",\"minorgridcolor\":\"white\",\"startlinecolor\":\"#2a3f5f\"},\"type\":\"carpet\"}],\"choropleth\":[{\"colorbar\":{\"outlinewidth\":0,\"ticks\":\"\"},\"type\":\"choropleth\"}],\"contour\":[{\"colorbar\":{\"outlinewidth\":0,\"ticks\":\"\"},\"colorscale\":[[0.0,\"#0d0887\"],[0.1111111111111111,\"#46039f\"],[0.2222222222222222,\"#7201a8\"],[0.3333333333333333,\"#9c179e\"],[0.4444444444444444,\"#bd3786\"],[0.5555555555555556,\"#d8576b\"],[0.6666666666666666,\"#ed7953\"],[0.7777777777777778,\"#fb9f3a\"],[0.8888888888888888,\"#fdca26\"],[1.0,\"#f0f921\"]],\"type\":\"contour\"}],\"contourcarpet\":[{\"colorbar\":{\"outlinewidth\":0,\"ticks\":\"\"},\"type\":\"contourcarpet\"}],\"heatmap\":[{\"colorbar\":{\"outlinewidth\":0,\"ticks\":\"\"},\"colorscale\":[[0.0,\"#0d0887\"],[0.1111111111111111,\"#46039f\"],[0.2222222222222222,\"#7201a8\"],[0.3333333333333333,\"#9c179e\"],[0.4444444444444444,\"#bd3786\"],[0.5555555555555556,\"#d8576b\"],[0.6666666666666666,\"#ed7953\"],[0.7777777777777778,\"#fb9f3a\"],[0.8888888888888888,\"#fdca26\"],[1.0,\"#f0f921\"]],\"type\":\"heatmap\"}],\"heatmapgl\":[{\"colorbar\":{\"outlinewidth\":0,\"ticks\":\"\"},\"colorscale\":[[0.0,\"#0d0887\"],[0.1111111111111111,\"#46039f\"],[0.2222222222222222,\"#7201a8\"],[0.3333333333333333,\"#9c179e\"],[0.4444444444444444,\"#bd3786\"],[0.5555555555555556,\"#d8576b\"],[0.6666666666666666,\"#ed7953\"],[0.7777777777777778,\"#fb9f3a\"],[0.8888888888888888,\"#fdca26\"],[1.0,\"#f0f921\"]],\"type\":\"heatmapgl\"}],\"histogram\":[{\"marker\":{\"pattern\":{\"fillmode\":\"overlay\",\"size\":10,\"solidity\":0.2}},\"type\":\"histogram\"}],\"histogram2d\":[{\"colorbar\":{\"outlinewidth\":0,\"ticks\":\"\"},\"colorscale\":[[0.0,\"#0d0887\"],[0.1111111111111111,\"#46039f\"],[0.2222222222222222,\"#7201a8\"],[0.3333333333333333,\"#9c179e\"],[0.4444444444444444,\"#bd3786\"],[0.5555555555555556,\"#d8576b\"],[0.6666666666666666,\"#ed7953\"],[0.7777777777777778,\"#fb9f3a\"],[0.8888888888888888,\"#fdca26\"],[1.0,\"#f0f921\"]],\"type\":\"histogram2d\"}],\"histogram2dcontour\":[{\"colorbar\":{\"outlinewidth\":0,\"ticks\":\"\"},\"colorscale\":[[0.0,\"#0d0887\"],[0.1111111111111111,\"#46039f\"],[0.2222222222222222,\"#7201a8\"],[0.3333333333333333,\"#9c179e\"],[0.4444444444444444,\"#bd3786\"],[0.5555555555555556,\"#d8576b\"],[0.6666666666666666,\"#ed7953\"],[0.7777777777777778,\"#fb9f3a\"],[0.8888888888888888,\"#fdca26\"],[1.0,\"#f0f921\"]],\"type\":\"histogram2dcontour\"}],\"mesh3d\":[{\"colorbar\":{\"outlinewidth\":0,\"ticks\":\"\"},\"type\":\"mesh3d\"}],\"parcoords\":[{\"line\":{\"colorbar\":{\"outlinewidth\":0,\"ticks\":\"\"}},\"type\":\"parcoords\"}],\"pie\":[{\"automargin\":true,\"type\":\"pie\"}],\"scatter\":[{\"marker\":{\"colorbar\":{\"outlinewidth\":0,\"ticks\":\"\"}},\"type\":\"scatter\"}],\"scatter3d\":[{\"line\":{\"colorbar\":{\"outlinewidth\":0,\"ticks\":\"\"}},\"marker\":{\"colorbar\":{\"outlinewidth\":0,\"ticks\":\"\"}},\"type\":\"scatter3d\"}],\"scattercarpet\":[{\"marker\":{\"colorbar\":{\"outlinewidth\":0,\"ticks\":\"\"}},\"type\":\"scattercarpet\"}],\"scattergeo\":[{\"marker\":{\"colorbar\":{\"outlinewidth\":0,\"ticks\":\"\"}},\"type\":\"scattergeo\"}],\"scattergl\":[{\"marker\":{\"colorbar\":{\"outlinewidth\":0,\"ticks\":\"\"}},\"type\":\"scattergl\"}],\"scattermapbox\":[{\"marker\":{\"colorbar\":{\"outlinewidth\":0,\"ticks\":\"\"}},\"type\":\"scattermapbox\"}],\"scatterpolar\":[{\"marker\":{\"colorbar\":{\"outlinewidth\":0,\"ticks\":\"\"}},\"type\":\"scatterpolar\"}],\"scatterpolargl\":[{\"marker\":{\"colorbar\":{\"outlinewidth\":0,\"ticks\":\"\"}},\"type\":\"scatterpolargl\"}],\"scatterternary\":[{\"marker\":{\"colorbar\":{\"outlinewidth\":0,\"ticks\":\"\"}},\"type\":\"scatterternary\"}],\"surface\":[{\"colorbar\":{\"outlinewidth\":0,\"ticks\":\"\"},\"colorscale\":[[0.0,\"#0d0887\"],[0.1111111111111111,\"#46039f\"],[0.2222222222222222,\"#7201a8\"],[0.3333333333333333,\"#9c179e\"],[0.4444444444444444,\"#bd3786\"],[0.5555555555555556,\"#d8576b\"],[0.6666666666666666,\"#ed7953\"],[0.7777777777777778,\"#fb9f3a\"],[0.8888888888888888,\"#fdca26\"],[1.0,\"#f0f921\"]],\"type\":\"surface\"}],\"table\":[{\"cells\":{\"fill\":{\"color\":\"#EBF0F8\"},\"line\":{\"color\":\"white\"}},\"header\":{\"fill\":{\"color\":\"#C8D4E3\"},\"line\":{\"color\":\"white\"}},\"type\":\"table\"}]},\"layout\":{\"annotationdefaults\":{\"arrowcolor\":\"#2a3f5f\",\"arrowhead\":0,\"arrowwidth\":1},\"autotypenumbers\":\"strict\",\"coloraxis\":{\"colorbar\":{\"outlinewidth\":0,\"ticks\":\"\"}},\"colorscale\":{\"diverging\":[[0,\"#8e0152\"],[0.1,\"#c51b7d\"],[0.2,\"#de77ae\"],[0.3,\"#f1b6da\"],[0.4,\"#fde0ef\"],[0.5,\"#f7f7f7\"],[0.6,\"#e6f5d0\"],[0.7,\"#b8e186\"],[0.8,\"#7fbc41\"],[0.9,\"#4d9221\"],[1,\"#276419\"]],\"sequential\":[[0.0,\"#0d0887\"],[0.1111111111111111,\"#46039f\"],[0.2222222222222222,\"#7201a8\"],[0.3333333333333333,\"#9c179e\"],[0.4444444444444444,\"#bd3786\"],[0.5555555555555556,\"#d8576b\"],[0.6666666666666666,\"#ed7953\"],[0.7777777777777778,\"#fb9f3a\"],[0.8888888888888888,\"#fdca26\"],[1.0,\"#f0f921\"]],\"sequentialminus\":[[0.0,\"#0d0887\"],[0.1111111111111111,\"#46039f\"],[0.2222222222222222,\"#7201a8\"],[0.3333333333333333,\"#9c179e\"],[0.4444444444444444,\"#bd3786\"],[0.5555555555555556,\"#d8576b\"],[0.6666666666666666,\"#ed7953\"],[0.7777777777777778,\"#fb9f3a\"],[0.8888888888888888,\"#fdca26\"],[1.0,\"#f0f921\"]]},\"colorway\":[\"#636efa\",\"#EF553B\",\"#00cc96\",\"#ab63fa\",\"#FFA15A\",\"#19d3f3\",\"#FF6692\",\"#B6E880\",\"#FF97FF\",\"#FECB52\"],\"font\":{\"color\":\"#2a3f5f\"},\"geo\":{\"bgcolor\":\"white\",\"lakecolor\":\"white\",\"landcolor\":\"#E5ECF6\",\"showlakes\":true,\"showland\":true,\"subunitcolor\":\"white\"},\"hoverlabel\":{\"align\":\"left\"},\"hovermode\":\"closest\",\"mapbox\":{\"style\":\"light\"},\"paper_bgcolor\":\"white\",\"plot_bgcolor\":\"#E5ECF6\",\"polar\":{\"angularaxis\":{\"gridcolor\":\"white\",\"linecolor\":\"white\",\"ticks\":\"\"},\"bgcolor\":\"#E5ECF6\",\"radialaxis\":{\"gridcolor\":\"white\",\"linecolor\":\"white\",\"ticks\":\"\"}},\"scene\":{\"xaxis\":{\"backgroundcolor\":\"#E5ECF6\",\"gridcolor\":\"white\",\"gridwidth\":2,\"linecolor\":\"white\",\"showbackground\":true,\"ticks\":\"\",\"zerolinecolor\":\"white\"},\"yaxis\":{\"backgroundcolor\":\"#E5ECF6\",\"gridcolor\":\"white\",\"gridwidth\":2,\"linecolor\":\"white\",\"showbackground\":true,\"ticks\":\"\",\"zerolinecolor\":\"white\"},\"zaxis\":{\"backgroundcolor\":\"#E5ECF6\",\"gridcolor\":\"white\",\"gridwidth\":2,\"linecolor\":\"white\",\"showbackground\":true,\"ticks\":\"\",\"zerolinecolor\":\"white\"}},\"shapedefaults\":{\"line\":{\"color\":\"#2a3f5f\"}},\"ternary\":{\"aaxis\":{\"gridcolor\":\"white\",\"linecolor\":\"white\",\"ticks\":\"\"},\"baxis\":{\"gridcolor\":\"white\",\"linecolor\":\"white\",\"ticks\":\"\"},\"bgcolor\":\"#E5ECF6\",\"caxis\":{\"gridcolor\":\"white\",\"linecolor\":\"white\",\"ticks\":\"\"}},\"title\":{\"x\":0.05},\"xaxis\":{\"automargin\":true,\"gridcolor\":\"white\",\"linecolor\":\"white\",\"ticks\":\"\",\"title\":{\"standoff\":15},\"zerolinecolor\":\"white\",\"zerolinewidth\":2},\"yaxis\":{\"automargin\":true,\"gridcolor\":\"white\",\"linecolor\":\"white\",\"ticks\":\"\",\"title\":{\"standoff\":15},\"zerolinecolor\":\"white\",\"zerolinewidth\":2}}},\"title\":{\"text\":\"Energy Spectrum\"},\"xaxis\":{\"title\":{\"text\":\"levels\"}},\"yaxis\":{\"title\":{\"text\":\"E(GHz)\"}}},                        {\"responsive\": true}                    ).then(function(){\n",
       "                            \n",
       "var gd = document.getElementById('dadd0d88-040b-443b-9828-e932ad584c3c');\n",
       "var x = new MutationObserver(function (mutations, observer) {{\n",
       "        var display = window.getComputedStyle(gd).display;\n",
       "        if (!display || display === 'none') {{\n",
       "            console.log([gd, 'removed!']);\n",
       "            Plotly.purge(gd);\n",
       "            observer.disconnect();\n",
       "        }}\n",
       "}});\n",
       "\n",
       "// Listen for the removal of the full notebook cells\n",
       "var notebookContainer = gd.closest('#notebook-container');\n",
       "if (notebookContainer) {{\n",
       "    x.observe(notebookContainer, {childList: true});\n",
       "}}\n",
       "\n",
       "// Listen for the clearing of the current output cell\n",
       "var outputEl = gd.closest('.output');\n",
       "if (outputEl) {{\n",
       "    x.observe(outputEl, {childList: true});\n",
       "}}\n",
       "\n",
       "                        })                };                });            </script>        </div>"
      ]
     },
     "metadata": {},
     "output_type": "display_data"
    }
   ],
   "source": [
    "kerman = kerman.detach().numpy()\n",
    "charge = charge.detach().numpy()\n",
    "plotCompare(arange(len(kerman)),{'kerman':kerman,'charge':charge},'Energy Spectrum','levels','E(GHz)')"
   ]
  },
  {
   "cell_type": "markdown",
   "id": "a909abe2",
   "metadata": {},
   "source": [
    "## Fluxonium"
   ]
  },
  {
   "cell_type": "code",
   "execution_count": 73,
   "id": "6fa99988",
   "metadata": {},
   "outputs": [],
   "source": [
    "basis = {'O':[1000],'I':[],'J':[]}\n",
    "circuit = models.fluxonium(basis,Ej=100,sparse=False)"
   ]
  },
  {
   "cell_type": "code",
   "execution_count": 74,
   "id": "6d90b085",
   "metadata": {},
   "outputs": [],
   "source": [
    "flux_profile = tensor(arange(0,1,.01))\n",
    "flux_profile = [[flux] for flux in flux_profile]\n",
    "flux_point = ('I')"
   ]
  },
  {
   "cell_type": "code",
   "execution_count": 75,
   "id": "c066dcf1",
   "metadata": {},
   "outputs": [],
   "source": [
    "H_LC = circuit.kermanHamiltonianLC()\n",
    "H_J = circuit.kermanHamiltonianJosephson\n",
    "E0,EI = circuit.spectrumManifold(flux_point,flux_profile,H_LC,H_J,excitation=1)\n",
    "E0,EII = circuit.spectrumManifold(flux_point,flux_profile,H_LC,H_J,excitation=2)"
   ]
  },
  {
   "cell_type": "code",
   "execution_count": 76,
   "id": "498ceafb",
   "metadata": {},
   "outputs": [],
   "source": [
    "EI = tensor(EI).detach().numpy()\n",
    "EII = tensor(EII).detach().numpy()"
   ]
  },
  {
   "cell_type": "code",
   "execution_count": 77,
   "id": "fe8e1cde",
   "metadata": {},
   "outputs": [
    {
     "data": {
      "application/vnd.plotly.v1+json": {
       "config": {
        "linkText": "Export to plot.ly",
        "plotlyServerURL": "https://plot.ly",
        "showLink": false
       },
       "data": [
        {
         "name": "Ist Excitation",
         "type": "scatter",
         "x": [
          0,
          0.01,
          0.02,
          0.03,
          0.04,
          0.05,
          0.06,
          0.07,
          0.08,
          0.09,
          0.1,
          0.11,
          0.12,
          0.13,
          0.14,
          0.15,
          0.16,
          0.17,
          0.18,
          0.19,
          0.2,
          0.21,
          0.22,
          0.23,
          0.24,
          0.25,
          0.26,
          0.27,
          0.28,
          0.29,
          0.3,
          0.31,
          0.32,
          0.33,
          0.34,
          0.35000000000000003,
          0.36,
          0.37,
          0.38,
          0.39,
          0.4,
          0.41000000000000003,
          0.42,
          0.43,
          0.44,
          0.45,
          0.46,
          0.47000000000000003,
          0.48,
          0.49,
          0.5,
          0.51,
          0.52,
          0.53,
          0.54,
          0.55,
          0.56,
          0.5700000000000001,
          0.58,
          0.59,
          0.6,
          0.61,
          0.62,
          0.63,
          0.64,
          0.65,
          0.66,
          0.67,
          0.68,
          0.6900000000000001,
          0.7000000000000001,
          0.71,
          0.72,
          0.73,
          0.74,
          0.75,
          0.76,
          0.77,
          0.78,
          0.79,
          0.8,
          0.81,
          0.8200000000000001,
          0.8300000000000001,
          0.84,
          0.85,
          0.86,
          0.87,
          0.88,
          0.89,
          0.9,
          0.91,
          0.92,
          0.93,
          0.9400000000000001,
          0.9500000000000001,
          0.96,
          0.97,
          0.98,
          0.99
         ],
         "y": [
          0.3083362579345703,
          0.3160581588745117,
          0.33287525177001953,
          0.3500080108642578,
          0.3580474853515625,
          0.3558673858642578,
          0.34664344787597656,
          0.3321714401245117,
          0.31553077697753906,
          0.30633544921875,
          0.31272125244140625,
          0.3321990966796875,
          0.35192108154296875,
          0.3635845184326172,
          0.3615131378173828,
          0.34825611114501953,
          0.3307476043701172,
          0.3145942687988281,
          0.30642223358154297,
          0.31034088134765625,
          0.3268442153930664,
          0.34866809844970703,
          0.3649892807006836,
          0.3672142028808594,
          0.35456180572509766,
          0.3348045349121094,
          0.31641101837158203,
          0.3059549331665039,
          0.30923938751220703,
          0.3234424591064453,
          0.34245777130126953,
          0.3590726852416992,
          0.3666410446166992,
          0.3594350814819336,
          0.33988285064697266,
          0.31937313079833984,
          0.30776214599609375,
          0.3098163604736328,
          0.3231067657470703,
          0.3387775421142578,
          0.3529539108276367,
          0.36090946197509766,
          0.3578634262084961,
          0.3429737091064453,
          0.3224029541015625,
          0.3096914291381836,
          0.3103818893432617,
          0.32346630096435547,
          0.34131526947021484,
          0.3534374237060547,
          0.35668277740478516,
          0.3526735305786133,
          0.3412618637084961,
          0.3246183395385742,
          0.31017017364501953,
          0.31035900115966797,
          0.32292747497558594,
          0.34331703186035156,
          0.3573293685913086,
          0.3605804443359375,
          0.3528604507446289,
          0.3387184143066406,
          0.3226747512817383,
          0.3091592788696289,
          0.3075895309448242,
          0.3193216323852539,
          0.34078502655029297,
          0.3599576950073242,
          0.3661050796508789,
          0.359039306640625,
          0.34246349334716797,
          0.3228302001953125,
          0.30864906311035156,
          0.30579662322998047,
          0.31679248809814453,
          0.3346529006958008,
          0.35480403900146484,
          0.36655330657958984,
          0.3651008605957031,
          0.34793663024902344,
          0.3263826370239258,
          0.31094932556152344,
          0.3058347702026367,
          0.3148775100708008,
          0.3312835693359375,
          0.34773731231689453,
          0.3614158630371094,
          0.3635387420654297,
          0.3515615463256836,
          0.33133411407470703,
          0.3131847381591797,
          0.3069944381713867,
          0.31540489196777344,
          0.3321714401245117,
          0.34679126739501953,
          0.3557605743408203,
          0.3577299118041992,
          0.34951305389404297,
          0.33327674865722656,
          0.3148479461669922
         ]
        },
        {
         "name": "IInd Excitation",
         "type": "scatter",
         "x": [
          0,
          0.01,
          0.02,
          0.03,
          0.04,
          0.05,
          0.06,
          0.07,
          0.08,
          0.09,
          0.1,
          0.11,
          0.12,
          0.13,
          0.14,
          0.15,
          0.16,
          0.17,
          0.18,
          0.19,
          0.2,
          0.21,
          0.22,
          0.23,
          0.24,
          0.25,
          0.26,
          0.27,
          0.28,
          0.29,
          0.3,
          0.31,
          0.32,
          0.33,
          0.34,
          0.35000000000000003,
          0.36,
          0.37,
          0.38,
          0.39,
          0.4,
          0.41000000000000003,
          0.42,
          0.43,
          0.44,
          0.45,
          0.46,
          0.47000000000000003,
          0.48,
          0.49,
          0.5,
          0.51,
          0.52,
          0.53,
          0.54,
          0.55,
          0.56,
          0.5700000000000001,
          0.58,
          0.59,
          0.6,
          0.61,
          0.62,
          0.63,
          0.64,
          0.65,
          0.66,
          0.67,
          0.68,
          0.6900000000000001,
          0.7000000000000001,
          0.71,
          0.72,
          0.73,
          0.74,
          0.75,
          0.76,
          0.77,
          0.78,
          0.79,
          0.8,
          0.81,
          0.8200000000000001,
          0.8300000000000001,
          0.84,
          0.85,
          0.86,
          0.87,
          0.88,
          0.89,
          0.9,
          0.91,
          0.92,
          0.93,
          0.9400000000000001,
          0.9500000000000001,
          0.96,
          0.97,
          0.98,
          0.99
         ],
         "y": [
          0.6319303512573242,
          0.6342983245849609,
          0.642979621887207,
          0.6581697463989258,
          0.6728086471557617,
          0.6790542602539062,
          0.6761255264282227,
          0.6633462905883789,
          0.6465215682983398,
          0.6335649490356445,
          0.6264219284057617,
          0.6270542144775391,
          0.6316375732421875,
          0.6419515609741211,
          0.6496620178222656,
          0.6528739929199219,
          0.6514825820922852,
          0.6465826034545898,
          0.639826774597168,
          0.6326160430908203,
          0.6275405883789062,
          0.6271810531616211,
          0.6298580169677734,
          0.6314897537231445,
          0.6321010589599609,
          0.6334314346313477,
          0.6362743377685547,
          0.639373779296875,
          0.6414299011230469,
          0.6427221298217773,
          0.641754150390625,
          0.640101432800293,
          0.6352787017822266,
          0.630436897277832,
          0.6252975463867188,
          0.6264429092407227,
          0.6333808898925781,
          0.6432962417602539,
          0.6557607650756836,
          0.6637487411499023,
          0.6666679382324219,
          0.6614246368408203,
          0.6510200500488281,
          0.6383275985717773,
          0.6301841735839844,
          0.6301040649414062,
          0.6358146667480469,
          0.646937370300293,
          0.6643514633178711,
          0.6801509857177734,
          0.6863555908203125,
          0.6791963577270508,
          0.6646299362182617,
          0.6480159759521484,
          0.6354579925537109,
          0.6308698654174805,
          0.6303691864013672,
          0.6383724212646484,
          0.6502151489257812,
          0.6613979339599609,
          0.6666336059570312,
          0.6640129089355469,
          0.655644416809082,
          0.6434192657470703,
          0.6328468322753906,
          0.6263875961303711,
          0.6261930465698242,
          0.6304082870483398,
          0.6357955932617188,
          0.6395797729492188,
          0.6424465179443359,
          0.6422023773193359,
          0.6411962509155273,
          0.6389732360839844,
          0.6364555358886719,
          0.6334095001220703,
          0.6317110061645508,
          0.6314496994018555,
          0.6293582916259766,
          0.6266813278198242,
          0.6274290084838867,
          0.6329307556152344,
          0.6399078369140625,
          0.6472110748291016,
          0.6516551971435547,
          0.6518917083740234,
          0.6495990753173828,
          0.6418819427490234,
          0.632110595703125,
          0.6262893676757812,
          0.6272134780883789,
          0.6345081329345703,
          0.6468896865844727,
          0.6633462905883789,
          0.6763639450073242,
          0.6793003082275391,
          0.6726417541503906,
          0.6582803726196289,
          0.6428842544555664,
          0.6329517364501953
         ]
        },
        {
         "name": "Anharmonicity",
         "type": "scatter",
         "x": [
          0,
          0.01,
          0.02,
          0.03,
          0.04,
          0.05,
          0.06,
          0.07,
          0.08,
          0.09,
          0.1,
          0.11,
          0.12,
          0.13,
          0.14,
          0.15,
          0.16,
          0.17,
          0.18,
          0.19,
          0.2,
          0.21,
          0.22,
          0.23,
          0.24,
          0.25,
          0.26,
          0.27,
          0.28,
          0.29,
          0.3,
          0.31,
          0.32,
          0.33,
          0.34,
          0.35000000000000003,
          0.36,
          0.37,
          0.38,
          0.39,
          0.4,
          0.41000000000000003,
          0.42,
          0.43,
          0.44,
          0.45,
          0.46,
          0.47000000000000003,
          0.48,
          0.49,
          0.5,
          0.51,
          0.52,
          0.53,
          0.54,
          0.55,
          0.56,
          0.5700000000000001,
          0.58,
          0.59,
          0.6,
          0.61,
          0.62,
          0.63,
          0.64,
          0.65,
          0.66,
          0.67,
          0.68,
          0.6900000000000001,
          0.7000000000000001,
          0.71,
          0.72,
          0.73,
          0.74,
          0.75,
          0.76,
          0.77,
          0.78,
          0.79,
          0.8,
          0.81,
          0.8200000000000001,
          0.8300000000000001,
          0.84,
          0.85,
          0.86,
          0.87,
          0.88,
          0.89,
          0.9,
          0.91,
          0.92,
          0.93,
          0.9400000000000001,
          0.9500000000000001,
          0.96,
          0.97,
          0.98,
          0.99
         ],
         "y": [
          0.015257835388183594,
          0.0021820068359375,
          -0.02277088165283203,
          -0.041846275329589844,
          -0.04328632354736328,
          -0.032680511474609375,
          -0.01716136932373047,
          -0.0009965896606445312,
          0.015460014343261719,
          0.02089405059814453,
          0.0009794235229492188,
          -0.03734397888183594,
          -0.07220458984375,
          -0.08521747589111328,
          -0.0733642578125,
          -0.04363822937011719,
          -0.010012626647949219,
          0.017394065856933594,
          0.02698230743408203,
          0.011934280395507812,
          -0.026147842407226562,
          -0.07015514373779297,
          -0.10012054443359375,
          -0.10293865203857422,
          -0.07702255249023438,
          -0.036177635192871094,
          0.003452301025390625,
          0.027463912963867188,
          0.022951126098632812,
          -0.004162788391113281,
          -0.04316139221191406,
          -0.07804393768310547,
          -0.09800338745117188,
          -0.08843326568603516,
          -0.05446815490722656,
          -0.012303352355957031,
          0.017856597900390625,
          0.02366352081298828,
          0.009547233581542969,
          -0.013806343078613281,
          -0.03923988342285156,
          -0.060394287109375,
          -0.06470680236816406,
          -0.04761981964111328,
          -0.014621734619140625,
          0.010721206665039062,
          0.015050888061523438,
          4.76837158203125e-06,
          -0.018279075622558594,
          -0.026723861694335938,
          -0.027009963989257812,
          -0.02615070343017578,
          -0.01789379119873047,
          -0.001220703125,
          0.015117645263671875,
          0.010151863098144531,
          -0.015485763549804688,
          -0.04826164245605469,
          -0.06444358825683594,
          -0.05976295471191406,
          -0.03908729553222656,
          -0.013423919677734375,
          0.010294914245605469,
          0.0251007080078125,
          0.017667770385742188,
          -0.012255668640136719,
          -0.05537700653076172,
          -0.0895071029663086,
          -0.09641456604003906,
          -0.07849884033203125,
          -0.04248046875,
          -0.0034580230712890625,
          0.02389812469482422,
          0.027379989624023438,
          0.0028705596923828125,
          -0.03589630126953125,
          -0.0778970718383789,
          -0.10165691375732422,
          -0.10084342956542969,
          -0.06919193267822266,
          -0.025336265563964844,
          0.0110321044921875,
          0.028238296508789062,
          0.0174560546875,
          -0.010911941528320312,
          -0.043582916259765625,
          -0.07323265075683594,
          -0.08519554138183594,
          -0.07101249694824219,
          -0.03637886047363281,
          0.0008440017700195312,
          0.020519256591796875,
          0.01607990264892578,
          -0.0009965896606445312,
          -0.017218589782714844,
          -0.03222084045410156,
          -0.04281806945800781,
          -0.04074573516845703,
          -0.02366924285888672,
          0.0032558441162109375
         ]
        }
       ],
       "layout": {
        "template": {
         "data": {
          "bar": [
           {
            "error_x": {
             "color": "#2a3f5f"
            },
            "error_y": {
             "color": "#2a3f5f"
            },
            "marker": {
             "line": {
              "color": "#E5ECF6",
              "width": 0.5
             },
             "pattern": {
              "fillmode": "overlay",
              "size": 10,
              "solidity": 0.2
             }
            },
            "type": "bar"
           }
          ],
          "barpolar": [
           {
            "marker": {
             "line": {
              "color": "#E5ECF6",
              "width": 0.5
             },
             "pattern": {
              "fillmode": "overlay",
              "size": 10,
              "solidity": 0.2
             }
            },
            "type": "barpolar"
           }
          ],
          "carpet": [
           {
            "aaxis": {
             "endlinecolor": "#2a3f5f",
             "gridcolor": "white",
             "linecolor": "white",
             "minorgridcolor": "white",
             "startlinecolor": "#2a3f5f"
            },
            "baxis": {
             "endlinecolor": "#2a3f5f",
             "gridcolor": "white",
             "linecolor": "white",
             "minorgridcolor": "white",
             "startlinecolor": "#2a3f5f"
            },
            "type": "carpet"
           }
          ],
          "choropleth": [
           {
            "colorbar": {
             "outlinewidth": 0,
             "ticks": ""
            },
            "type": "choropleth"
           }
          ],
          "contour": [
           {
            "colorbar": {
             "outlinewidth": 0,
             "ticks": ""
            },
            "colorscale": [
             [
              0,
              "#0d0887"
             ],
             [
              0.1111111111111111,
              "#46039f"
             ],
             [
              0.2222222222222222,
              "#7201a8"
             ],
             [
              0.3333333333333333,
              "#9c179e"
             ],
             [
              0.4444444444444444,
              "#bd3786"
             ],
             [
              0.5555555555555556,
              "#d8576b"
             ],
             [
              0.6666666666666666,
              "#ed7953"
             ],
             [
              0.7777777777777778,
              "#fb9f3a"
             ],
             [
              0.8888888888888888,
              "#fdca26"
             ],
             [
              1,
              "#f0f921"
             ]
            ],
            "type": "contour"
           }
          ],
          "contourcarpet": [
           {
            "colorbar": {
             "outlinewidth": 0,
             "ticks": ""
            },
            "type": "contourcarpet"
           }
          ],
          "heatmap": [
           {
            "colorbar": {
             "outlinewidth": 0,
             "ticks": ""
            },
            "colorscale": [
             [
              0,
              "#0d0887"
             ],
             [
              0.1111111111111111,
              "#46039f"
             ],
             [
              0.2222222222222222,
              "#7201a8"
             ],
             [
              0.3333333333333333,
              "#9c179e"
             ],
             [
              0.4444444444444444,
              "#bd3786"
             ],
             [
              0.5555555555555556,
              "#d8576b"
             ],
             [
              0.6666666666666666,
              "#ed7953"
             ],
             [
              0.7777777777777778,
              "#fb9f3a"
             ],
             [
              0.8888888888888888,
              "#fdca26"
             ],
             [
              1,
              "#f0f921"
             ]
            ],
            "type": "heatmap"
           }
          ],
          "heatmapgl": [
           {
            "colorbar": {
             "outlinewidth": 0,
             "ticks": ""
            },
            "colorscale": [
             [
              0,
              "#0d0887"
             ],
             [
              0.1111111111111111,
              "#46039f"
             ],
             [
              0.2222222222222222,
              "#7201a8"
             ],
             [
              0.3333333333333333,
              "#9c179e"
             ],
             [
              0.4444444444444444,
              "#bd3786"
             ],
             [
              0.5555555555555556,
              "#d8576b"
             ],
             [
              0.6666666666666666,
              "#ed7953"
             ],
             [
              0.7777777777777778,
              "#fb9f3a"
             ],
             [
              0.8888888888888888,
              "#fdca26"
             ],
             [
              1,
              "#f0f921"
             ]
            ],
            "type": "heatmapgl"
           }
          ],
          "histogram": [
           {
            "marker": {
             "pattern": {
              "fillmode": "overlay",
              "size": 10,
              "solidity": 0.2
             }
            },
            "type": "histogram"
           }
          ],
          "histogram2d": [
           {
            "colorbar": {
             "outlinewidth": 0,
             "ticks": ""
            },
            "colorscale": [
             [
              0,
              "#0d0887"
             ],
             [
              0.1111111111111111,
              "#46039f"
             ],
             [
              0.2222222222222222,
              "#7201a8"
             ],
             [
              0.3333333333333333,
              "#9c179e"
             ],
             [
              0.4444444444444444,
              "#bd3786"
             ],
             [
              0.5555555555555556,
              "#d8576b"
             ],
             [
              0.6666666666666666,
              "#ed7953"
             ],
             [
              0.7777777777777778,
              "#fb9f3a"
             ],
             [
              0.8888888888888888,
              "#fdca26"
             ],
             [
              1,
              "#f0f921"
             ]
            ],
            "type": "histogram2d"
           }
          ],
          "histogram2dcontour": [
           {
            "colorbar": {
             "outlinewidth": 0,
             "ticks": ""
            },
            "colorscale": [
             [
              0,
              "#0d0887"
             ],
             [
              0.1111111111111111,
              "#46039f"
             ],
             [
              0.2222222222222222,
              "#7201a8"
             ],
             [
              0.3333333333333333,
              "#9c179e"
             ],
             [
              0.4444444444444444,
              "#bd3786"
             ],
             [
              0.5555555555555556,
              "#d8576b"
             ],
             [
              0.6666666666666666,
              "#ed7953"
             ],
             [
              0.7777777777777778,
              "#fb9f3a"
             ],
             [
              0.8888888888888888,
              "#fdca26"
             ],
             [
              1,
              "#f0f921"
             ]
            ],
            "type": "histogram2dcontour"
           }
          ],
          "mesh3d": [
           {
            "colorbar": {
             "outlinewidth": 0,
             "ticks": ""
            },
            "type": "mesh3d"
           }
          ],
          "parcoords": [
           {
            "line": {
             "colorbar": {
              "outlinewidth": 0,
              "ticks": ""
             }
            },
            "type": "parcoords"
           }
          ],
          "pie": [
           {
            "automargin": true,
            "type": "pie"
           }
          ],
          "scatter": [
           {
            "fillpattern": {
             "fillmode": "overlay",
             "size": 10,
             "solidity": 0.2
            },
            "type": "scatter"
           }
          ],
          "scatter3d": [
           {
            "line": {
             "colorbar": {
              "outlinewidth": 0,
              "ticks": ""
             }
            },
            "marker": {
             "colorbar": {
              "outlinewidth": 0,
              "ticks": ""
             }
            },
            "type": "scatter3d"
           }
          ],
          "scattercarpet": [
           {
            "marker": {
             "colorbar": {
              "outlinewidth": 0,
              "ticks": ""
             }
            },
            "type": "scattercarpet"
           }
          ],
          "scattergeo": [
           {
            "marker": {
             "colorbar": {
              "outlinewidth": 0,
              "ticks": ""
             }
            },
            "type": "scattergeo"
           }
          ],
          "scattergl": [
           {
            "marker": {
             "colorbar": {
              "outlinewidth": 0,
              "ticks": ""
             }
            },
            "type": "scattergl"
           }
          ],
          "scattermapbox": [
           {
            "marker": {
             "colorbar": {
              "outlinewidth": 0,
              "ticks": ""
             }
            },
            "type": "scattermapbox"
           }
          ],
          "scatterpolar": [
           {
            "marker": {
             "colorbar": {
              "outlinewidth": 0,
              "ticks": ""
             }
            },
            "type": "scatterpolar"
           }
          ],
          "scatterpolargl": [
           {
            "marker": {
             "colorbar": {
              "outlinewidth": 0,
              "ticks": ""
             }
            },
            "type": "scatterpolargl"
           }
          ],
          "scatterternary": [
           {
            "marker": {
             "colorbar": {
              "outlinewidth": 0,
              "ticks": ""
             }
            },
            "type": "scatterternary"
           }
          ],
          "surface": [
           {
            "colorbar": {
             "outlinewidth": 0,
             "ticks": ""
            },
            "colorscale": [
             [
              0,
              "#0d0887"
             ],
             [
              0.1111111111111111,
              "#46039f"
             ],
             [
              0.2222222222222222,
              "#7201a8"
             ],
             [
              0.3333333333333333,
              "#9c179e"
             ],
             [
              0.4444444444444444,
              "#bd3786"
             ],
             [
              0.5555555555555556,
              "#d8576b"
             ],
             [
              0.6666666666666666,
              "#ed7953"
             ],
             [
              0.7777777777777778,
              "#fb9f3a"
             ],
             [
              0.8888888888888888,
              "#fdca26"
             ],
             [
              1,
              "#f0f921"
             ]
            ],
            "type": "surface"
           }
          ],
          "table": [
           {
            "cells": {
             "fill": {
              "color": "#EBF0F8"
             },
             "line": {
              "color": "white"
             }
            },
            "header": {
             "fill": {
              "color": "#C8D4E3"
             },
             "line": {
              "color": "white"
             }
            },
            "type": "table"
           }
          ]
         },
         "layout": {
          "annotationdefaults": {
           "arrowcolor": "#2a3f5f",
           "arrowhead": 0,
           "arrowwidth": 1
          },
          "autotypenumbers": "strict",
          "coloraxis": {
           "colorbar": {
            "outlinewidth": 0,
            "ticks": ""
           }
          },
          "colorscale": {
           "diverging": [
            [
             0,
             "#8e0152"
            ],
            [
             0.1,
             "#c51b7d"
            ],
            [
             0.2,
             "#de77ae"
            ],
            [
             0.3,
             "#f1b6da"
            ],
            [
             0.4,
             "#fde0ef"
            ],
            [
             0.5,
             "#f7f7f7"
            ],
            [
             0.6,
             "#e6f5d0"
            ],
            [
             0.7,
             "#b8e186"
            ],
            [
             0.8,
             "#7fbc41"
            ],
            [
             0.9,
             "#4d9221"
            ],
            [
             1,
             "#276419"
            ]
           ],
           "sequential": [
            [
             0,
             "#0d0887"
            ],
            [
             0.1111111111111111,
             "#46039f"
            ],
            [
             0.2222222222222222,
             "#7201a8"
            ],
            [
             0.3333333333333333,
             "#9c179e"
            ],
            [
             0.4444444444444444,
             "#bd3786"
            ],
            [
             0.5555555555555556,
             "#d8576b"
            ],
            [
             0.6666666666666666,
             "#ed7953"
            ],
            [
             0.7777777777777778,
             "#fb9f3a"
            ],
            [
             0.8888888888888888,
             "#fdca26"
            ],
            [
             1,
             "#f0f921"
            ]
           ],
           "sequentialminus": [
            [
             0,
             "#0d0887"
            ],
            [
             0.1111111111111111,
             "#46039f"
            ],
            [
             0.2222222222222222,
             "#7201a8"
            ],
            [
             0.3333333333333333,
             "#9c179e"
            ],
            [
             0.4444444444444444,
             "#bd3786"
            ],
            [
             0.5555555555555556,
             "#d8576b"
            ],
            [
             0.6666666666666666,
             "#ed7953"
            ],
            [
             0.7777777777777778,
             "#fb9f3a"
            ],
            [
             0.8888888888888888,
             "#fdca26"
            ],
            [
             1,
             "#f0f921"
            ]
           ]
          },
          "colorway": [
           "#636efa",
           "#EF553B",
           "#00cc96",
           "#ab63fa",
           "#FFA15A",
           "#19d3f3",
           "#FF6692",
           "#B6E880",
           "#FF97FF",
           "#FECB52"
          ],
          "font": {
           "color": "#2a3f5f"
          },
          "geo": {
           "bgcolor": "white",
           "lakecolor": "white",
           "landcolor": "#E5ECF6",
           "showlakes": true,
           "showland": true,
           "subunitcolor": "white"
          },
          "hoverlabel": {
           "align": "left"
          },
          "hovermode": "closest",
          "mapbox": {
           "style": "light"
          },
          "paper_bgcolor": "white",
          "plot_bgcolor": "#E5ECF6",
          "polar": {
           "angularaxis": {
            "gridcolor": "white",
            "linecolor": "white",
            "ticks": ""
           },
           "bgcolor": "#E5ECF6",
           "radialaxis": {
            "gridcolor": "white",
            "linecolor": "white",
            "ticks": ""
           }
          },
          "scene": {
           "xaxis": {
            "backgroundcolor": "#E5ECF6",
            "gridcolor": "white",
            "gridwidth": 2,
            "linecolor": "white",
            "showbackground": true,
            "ticks": "",
            "zerolinecolor": "white"
           },
           "yaxis": {
            "backgroundcolor": "#E5ECF6",
            "gridcolor": "white",
            "gridwidth": 2,
            "linecolor": "white",
            "showbackground": true,
            "ticks": "",
            "zerolinecolor": "white"
           },
           "zaxis": {
            "backgroundcolor": "#E5ECF6",
            "gridcolor": "white",
            "gridwidth": 2,
            "linecolor": "white",
            "showbackground": true,
            "ticks": "",
            "zerolinecolor": "white"
           }
          },
          "shapedefaults": {
           "line": {
            "color": "#2a3f5f"
           }
          },
          "ternary": {
           "aaxis": {
            "gridcolor": "white",
            "linecolor": "white",
            "ticks": ""
           },
           "baxis": {
            "gridcolor": "white",
            "linecolor": "white",
            "ticks": ""
           },
           "bgcolor": "#E5ECF6",
           "caxis": {
            "gridcolor": "white",
            "linecolor": "white",
            "ticks": ""
           }
          },
          "title": {
           "x": 0.05
          },
          "xaxis": {
           "automargin": true,
           "gridcolor": "white",
           "linecolor": "white",
           "ticks": "",
           "title": {
            "standoff": 15
           },
           "zerolinecolor": "white",
           "zerolinewidth": 2
          },
          "yaxis": {
           "automargin": true,
           "gridcolor": "white",
           "linecolor": "white",
           "ticks": "",
           "title": {
            "standoff": 15
           },
           "zerolinecolor": "white",
           "zerolinewidth": 2
          }
         }
        },
        "title": {
         "text": "Fluxonium-Excitation"
        },
        "xaxis": {
         "title": {
          "text": "external flux"
         }
        },
        "yaxis": {
         "title": {
          "text": "E(GHz)"
         }
        }
       }
      },
      "text/html": [
       "<div>                            <div id=\"1dba5da5-ebe0-438f-9a23-25aa187e08fa\" class=\"plotly-graph-div\" style=\"height:525px; width:100%;\"></div>            <script type=\"text/javascript\">                require([\"plotly\"], function(Plotly) {                    window.PLOTLYENV=window.PLOTLYENV || {};                                    if (document.getElementById(\"1dba5da5-ebe0-438f-9a23-25aa187e08fa\")) {                    Plotly.newPlot(                        \"1dba5da5-ebe0-438f-9a23-25aa187e08fa\",                        [{\"name\":\"Ist Excitation\",\"x\":[0.0,0.01,0.02,0.03,0.04,0.05,0.06,0.07,0.08,0.09,0.1,0.11,0.12,0.13,0.14,0.15,0.16,0.17,0.18,0.19,0.2,0.21,0.22,0.23,0.24,0.25,0.26,0.27,0.28,0.29,0.3,0.31,0.32,0.33,0.34,0.35000000000000003,0.36,0.37,0.38,0.39,0.4,0.41000000000000003,0.42,0.43,0.44,0.45,0.46,0.47000000000000003,0.48,0.49,0.5,0.51,0.52,0.53,0.54,0.55,0.56,0.5700000000000001,0.58,0.59,0.6,0.61,0.62,0.63,0.64,0.65,0.66,0.67,0.68,0.6900000000000001,0.7000000000000001,0.71,0.72,0.73,0.74,0.75,0.76,0.77,0.78,0.79,0.8,0.81,0.8200000000000001,0.8300000000000001,0.84,0.85,0.86,0.87,0.88,0.89,0.9,0.91,0.92,0.93,0.9400000000000001,0.9500000000000001,0.96,0.97,0.98,0.99],\"y\":[0.3083362579345703,0.3160581588745117,0.33287525177001953,0.3500080108642578,0.3580474853515625,0.3558673858642578,0.34664344787597656,0.3321714401245117,0.31553077697753906,0.30633544921875,0.31272125244140625,0.3321990966796875,0.35192108154296875,0.3635845184326172,0.3615131378173828,0.34825611114501953,0.3307476043701172,0.3145942687988281,0.30642223358154297,0.31034088134765625,0.3268442153930664,0.34866809844970703,0.3649892807006836,0.3672142028808594,0.35456180572509766,0.3348045349121094,0.31641101837158203,0.3059549331665039,0.30923938751220703,0.3234424591064453,0.34245777130126953,0.3590726852416992,0.3666410446166992,0.3594350814819336,0.33988285064697266,0.31937313079833984,0.30776214599609375,0.3098163604736328,0.3231067657470703,0.3387775421142578,0.3529539108276367,0.36090946197509766,0.3578634262084961,0.3429737091064453,0.3224029541015625,0.3096914291381836,0.3103818893432617,0.32346630096435547,0.34131526947021484,0.3534374237060547,0.35668277740478516,0.3526735305786133,0.3412618637084961,0.3246183395385742,0.31017017364501953,0.31035900115966797,0.32292747497558594,0.34331703186035156,0.3573293685913086,0.3605804443359375,0.3528604507446289,0.3387184143066406,0.3226747512817383,0.3091592788696289,0.3075895309448242,0.3193216323852539,0.34078502655029297,0.3599576950073242,0.3661050796508789,0.359039306640625,0.34246349334716797,0.3228302001953125,0.30864906311035156,0.30579662322998047,0.31679248809814453,0.3346529006958008,0.35480403900146484,0.36655330657958984,0.3651008605957031,0.34793663024902344,0.3263826370239258,0.31094932556152344,0.3058347702026367,0.3148775100708008,0.3312835693359375,0.34773731231689453,0.3614158630371094,0.3635387420654297,0.3515615463256836,0.33133411407470703,0.3131847381591797,0.3069944381713867,0.31540489196777344,0.3321714401245117,0.34679126739501953,0.3557605743408203,0.3577299118041992,0.34951305389404297,0.33327674865722656,0.3148479461669922],\"type\":\"scatter\"},{\"name\":\"IInd Excitation\",\"x\":[0.0,0.01,0.02,0.03,0.04,0.05,0.06,0.07,0.08,0.09,0.1,0.11,0.12,0.13,0.14,0.15,0.16,0.17,0.18,0.19,0.2,0.21,0.22,0.23,0.24,0.25,0.26,0.27,0.28,0.29,0.3,0.31,0.32,0.33,0.34,0.35000000000000003,0.36,0.37,0.38,0.39,0.4,0.41000000000000003,0.42,0.43,0.44,0.45,0.46,0.47000000000000003,0.48,0.49,0.5,0.51,0.52,0.53,0.54,0.55,0.56,0.5700000000000001,0.58,0.59,0.6,0.61,0.62,0.63,0.64,0.65,0.66,0.67,0.68,0.6900000000000001,0.7000000000000001,0.71,0.72,0.73,0.74,0.75,0.76,0.77,0.78,0.79,0.8,0.81,0.8200000000000001,0.8300000000000001,0.84,0.85,0.86,0.87,0.88,0.89,0.9,0.91,0.92,0.93,0.9400000000000001,0.9500000000000001,0.96,0.97,0.98,0.99],\"y\":[0.6319303512573242,0.6342983245849609,0.642979621887207,0.6581697463989258,0.6728086471557617,0.6790542602539062,0.6761255264282227,0.6633462905883789,0.6465215682983398,0.6335649490356445,0.6264219284057617,0.6270542144775391,0.6316375732421875,0.6419515609741211,0.6496620178222656,0.6528739929199219,0.6514825820922852,0.6465826034545898,0.639826774597168,0.6326160430908203,0.6275405883789062,0.6271810531616211,0.6298580169677734,0.6314897537231445,0.6321010589599609,0.6334314346313477,0.6362743377685547,0.639373779296875,0.6414299011230469,0.6427221298217773,0.641754150390625,0.640101432800293,0.6352787017822266,0.630436897277832,0.6252975463867188,0.6264429092407227,0.6333808898925781,0.6432962417602539,0.6557607650756836,0.6637487411499023,0.6666679382324219,0.6614246368408203,0.6510200500488281,0.6383275985717773,0.6301841735839844,0.6301040649414062,0.6358146667480469,0.646937370300293,0.6643514633178711,0.6801509857177734,0.6863555908203125,0.6791963577270508,0.6646299362182617,0.6480159759521484,0.6354579925537109,0.6308698654174805,0.6303691864013672,0.6383724212646484,0.6502151489257812,0.6613979339599609,0.6666336059570312,0.6640129089355469,0.655644416809082,0.6434192657470703,0.6328468322753906,0.6263875961303711,0.6261930465698242,0.6304082870483398,0.6357955932617188,0.6395797729492188,0.6424465179443359,0.6422023773193359,0.6411962509155273,0.6389732360839844,0.6364555358886719,0.6334095001220703,0.6317110061645508,0.6314496994018555,0.6293582916259766,0.6266813278198242,0.6274290084838867,0.6329307556152344,0.6399078369140625,0.6472110748291016,0.6516551971435547,0.6518917083740234,0.6495990753173828,0.6418819427490234,0.632110595703125,0.6262893676757812,0.6272134780883789,0.6345081329345703,0.6468896865844727,0.6633462905883789,0.6763639450073242,0.6793003082275391,0.6726417541503906,0.6582803726196289,0.6428842544555664,0.6329517364501953],\"type\":\"scatter\"},{\"name\":\"Anharmonicity\",\"x\":[0.0,0.01,0.02,0.03,0.04,0.05,0.06,0.07,0.08,0.09,0.1,0.11,0.12,0.13,0.14,0.15,0.16,0.17,0.18,0.19,0.2,0.21,0.22,0.23,0.24,0.25,0.26,0.27,0.28,0.29,0.3,0.31,0.32,0.33,0.34,0.35000000000000003,0.36,0.37,0.38,0.39,0.4,0.41000000000000003,0.42,0.43,0.44,0.45,0.46,0.47000000000000003,0.48,0.49,0.5,0.51,0.52,0.53,0.54,0.55,0.56,0.5700000000000001,0.58,0.59,0.6,0.61,0.62,0.63,0.64,0.65,0.66,0.67,0.68,0.6900000000000001,0.7000000000000001,0.71,0.72,0.73,0.74,0.75,0.76,0.77,0.78,0.79,0.8,0.81,0.8200000000000001,0.8300000000000001,0.84,0.85,0.86,0.87,0.88,0.89,0.9,0.91,0.92,0.93,0.9400000000000001,0.9500000000000001,0.96,0.97,0.98,0.99],\"y\":[0.015257835388183594,0.0021820068359375,-0.02277088165283203,-0.041846275329589844,-0.04328632354736328,-0.032680511474609375,-0.01716136932373047,-0.0009965896606445312,0.015460014343261719,0.02089405059814453,0.0009794235229492188,-0.03734397888183594,-0.07220458984375,-0.08521747589111328,-0.0733642578125,-0.04363822937011719,-0.010012626647949219,0.017394065856933594,0.02698230743408203,0.011934280395507812,-0.026147842407226562,-0.07015514373779297,-0.10012054443359375,-0.10293865203857422,-0.07702255249023438,-0.036177635192871094,0.003452301025390625,0.027463912963867188,0.022951126098632812,-0.004162788391113281,-0.04316139221191406,-0.07804393768310547,-0.09800338745117188,-0.08843326568603516,-0.05446815490722656,-0.012303352355957031,0.017856597900390625,0.02366352081298828,0.009547233581542969,-0.013806343078613281,-0.03923988342285156,-0.060394287109375,-0.06470680236816406,-0.04761981964111328,-0.014621734619140625,0.010721206665039062,0.015050888061523438,4.76837158203125e-06,-0.018279075622558594,-0.026723861694335938,-0.027009963989257812,-0.02615070343017578,-0.01789379119873047,-0.001220703125,0.015117645263671875,0.010151863098144531,-0.015485763549804688,-0.04826164245605469,-0.06444358825683594,-0.05976295471191406,-0.03908729553222656,-0.013423919677734375,0.010294914245605469,0.0251007080078125,0.017667770385742188,-0.012255668640136719,-0.05537700653076172,-0.0895071029663086,-0.09641456604003906,-0.07849884033203125,-0.04248046875,-0.0034580230712890625,0.02389812469482422,0.027379989624023438,0.0028705596923828125,-0.03589630126953125,-0.0778970718383789,-0.10165691375732422,-0.10084342956542969,-0.06919193267822266,-0.025336265563964844,0.0110321044921875,0.028238296508789062,0.0174560546875,-0.010911941528320312,-0.043582916259765625,-0.07323265075683594,-0.08519554138183594,-0.07101249694824219,-0.03637886047363281,0.0008440017700195312,0.020519256591796875,0.01607990264892578,-0.0009965896606445312,-0.017218589782714844,-0.03222084045410156,-0.04281806945800781,-0.04074573516845703,-0.02366924285888672,0.0032558441162109375],\"type\":\"scatter\"}],                        {\"template\":{\"data\":{\"barpolar\":[{\"marker\":{\"line\":{\"color\":\"#E5ECF6\",\"width\":0.5},\"pattern\":{\"fillmode\":\"overlay\",\"size\":10,\"solidity\":0.2}},\"type\":\"barpolar\"}],\"bar\":[{\"error_x\":{\"color\":\"#2a3f5f\"},\"error_y\":{\"color\":\"#2a3f5f\"},\"marker\":{\"line\":{\"color\":\"#E5ECF6\",\"width\":0.5},\"pattern\":{\"fillmode\":\"overlay\",\"size\":10,\"solidity\":0.2}},\"type\":\"bar\"}],\"carpet\":[{\"aaxis\":{\"endlinecolor\":\"#2a3f5f\",\"gridcolor\":\"white\",\"linecolor\":\"white\",\"minorgridcolor\":\"white\",\"startlinecolor\":\"#2a3f5f\"},\"baxis\":{\"endlinecolor\":\"#2a3f5f\",\"gridcolor\":\"white\",\"linecolor\":\"white\",\"minorgridcolor\":\"white\",\"startlinecolor\":\"#2a3f5f\"},\"type\":\"carpet\"}],\"choropleth\":[{\"colorbar\":{\"outlinewidth\":0,\"ticks\":\"\"},\"type\":\"choropleth\"}],\"contourcarpet\":[{\"colorbar\":{\"outlinewidth\":0,\"ticks\":\"\"},\"type\":\"contourcarpet\"}],\"contour\":[{\"colorbar\":{\"outlinewidth\":0,\"ticks\":\"\"},\"colorscale\":[[0.0,\"#0d0887\"],[0.1111111111111111,\"#46039f\"],[0.2222222222222222,\"#7201a8\"],[0.3333333333333333,\"#9c179e\"],[0.4444444444444444,\"#bd3786\"],[0.5555555555555556,\"#d8576b\"],[0.6666666666666666,\"#ed7953\"],[0.7777777777777778,\"#fb9f3a\"],[0.8888888888888888,\"#fdca26\"],[1.0,\"#f0f921\"]],\"type\":\"contour\"}],\"heatmapgl\":[{\"colorbar\":{\"outlinewidth\":0,\"ticks\":\"\"},\"colorscale\":[[0.0,\"#0d0887\"],[0.1111111111111111,\"#46039f\"],[0.2222222222222222,\"#7201a8\"],[0.3333333333333333,\"#9c179e\"],[0.4444444444444444,\"#bd3786\"],[0.5555555555555556,\"#d8576b\"],[0.6666666666666666,\"#ed7953\"],[0.7777777777777778,\"#fb9f3a\"],[0.8888888888888888,\"#fdca26\"],[1.0,\"#f0f921\"]],\"type\":\"heatmapgl\"}],\"heatmap\":[{\"colorbar\":{\"outlinewidth\":0,\"ticks\":\"\"},\"colorscale\":[[0.0,\"#0d0887\"],[0.1111111111111111,\"#46039f\"],[0.2222222222222222,\"#7201a8\"],[0.3333333333333333,\"#9c179e\"],[0.4444444444444444,\"#bd3786\"],[0.5555555555555556,\"#d8576b\"],[0.6666666666666666,\"#ed7953\"],[0.7777777777777778,\"#fb9f3a\"],[0.8888888888888888,\"#fdca26\"],[1.0,\"#f0f921\"]],\"type\":\"heatmap\"}],\"histogram2dcontour\":[{\"colorbar\":{\"outlinewidth\":0,\"ticks\":\"\"},\"colorscale\":[[0.0,\"#0d0887\"],[0.1111111111111111,\"#46039f\"],[0.2222222222222222,\"#7201a8\"],[0.3333333333333333,\"#9c179e\"],[0.4444444444444444,\"#bd3786\"],[0.5555555555555556,\"#d8576b\"],[0.6666666666666666,\"#ed7953\"],[0.7777777777777778,\"#fb9f3a\"],[0.8888888888888888,\"#fdca26\"],[1.0,\"#f0f921\"]],\"type\":\"histogram2dcontour\"}],\"histogram2d\":[{\"colorbar\":{\"outlinewidth\":0,\"ticks\":\"\"},\"colorscale\":[[0.0,\"#0d0887\"],[0.1111111111111111,\"#46039f\"],[0.2222222222222222,\"#7201a8\"],[0.3333333333333333,\"#9c179e\"],[0.4444444444444444,\"#bd3786\"],[0.5555555555555556,\"#d8576b\"],[0.6666666666666666,\"#ed7953\"],[0.7777777777777778,\"#fb9f3a\"],[0.8888888888888888,\"#fdca26\"],[1.0,\"#f0f921\"]],\"type\":\"histogram2d\"}],\"histogram\":[{\"marker\":{\"pattern\":{\"fillmode\":\"overlay\",\"size\":10,\"solidity\":0.2}},\"type\":\"histogram\"}],\"mesh3d\":[{\"colorbar\":{\"outlinewidth\":0,\"ticks\":\"\"},\"type\":\"mesh3d\"}],\"parcoords\":[{\"line\":{\"colorbar\":{\"outlinewidth\":0,\"ticks\":\"\"}},\"type\":\"parcoords\"}],\"pie\":[{\"automargin\":true,\"type\":\"pie\"}],\"scatter3d\":[{\"line\":{\"colorbar\":{\"outlinewidth\":0,\"ticks\":\"\"}},\"marker\":{\"colorbar\":{\"outlinewidth\":0,\"ticks\":\"\"}},\"type\":\"scatter3d\"}],\"scattercarpet\":[{\"marker\":{\"colorbar\":{\"outlinewidth\":0,\"ticks\":\"\"}},\"type\":\"scattercarpet\"}],\"scattergeo\":[{\"marker\":{\"colorbar\":{\"outlinewidth\":0,\"ticks\":\"\"}},\"type\":\"scattergeo\"}],\"scattergl\":[{\"marker\":{\"colorbar\":{\"outlinewidth\":0,\"ticks\":\"\"}},\"type\":\"scattergl\"}],\"scattermapbox\":[{\"marker\":{\"colorbar\":{\"outlinewidth\":0,\"ticks\":\"\"}},\"type\":\"scattermapbox\"}],\"scatterpolargl\":[{\"marker\":{\"colorbar\":{\"outlinewidth\":0,\"ticks\":\"\"}},\"type\":\"scatterpolargl\"}],\"scatterpolar\":[{\"marker\":{\"colorbar\":{\"outlinewidth\":0,\"ticks\":\"\"}},\"type\":\"scatterpolar\"}],\"scatter\":[{\"fillpattern\":{\"fillmode\":\"overlay\",\"size\":10,\"solidity\":0.2},\"type\":\"scatter\"}],\"scatterternary\":[{\"marker\":{\"colorbar\":{\"outlinewidth\":0,\"ticks\":\"\"}},\"type\":\"scatterternary\"}],\"surface\":[{\"colorbar\":{\"outlinewidth\":0,\"ticks\":\"\"},\"colorscale\":[[0.0,\"#0d0887\"],[0.1111111111111111,\"#46039f\"],[0.2222222222222222,\"#7201a8\"],[0.3333333333333333,\"#9c179e\"],[0.4444444444444444,\"#bd3786\"],[0.5555555555555556,\"#d8576b\"],[0.6666666666666666,\"#ed7953\"],[0.7777777777777778,\"#fb9f3a\"],[0.8888888888888888,\"#fdca26\"],[1.0,\"#f0f921\"]],\"type\":\"surface\"}],\"table\":[{\"cells\":{\"fill\":{\"color\":\"#EBF0F8\"},\"line\":{\"color\":\"white\"}},\"header\":{\"fill\":{\"color\":\"#C8D4E3\"},\"line\":{\"color\":\"white\"}},\"type\":\"table\"}]},\"layout\":{\"annotationdefaults\":{\"arrowcolor\":\"#2a3f5f\",\"arrowhead\":0,\"arrowwidth\":1},\"autotypenumbers\":\"strict\",\"coloraxis\":{\"colorbar\":{\"outlinewidth\":0,\"ticks\":\"\"}},\"colorscale\":{\"diverging\":[[0,\"#8e0152\"],[0.1,\"#c51b7d\"],[0.2,\"#de77ae\"],[0.3,\"#f1b6da\"],[0.4,\"#fde0ef\"],[0.5,\"#f7f7f7\"],[0.6,\"#e6f5d0\"],[0.7,\"#b8e186\"],[0.8,\"#7fbc41\"],[0.9,\"#4d9221\"],[1,\"#276419\"]],\"sequential\":[[0.0,\"#0d0887\"],[0.1111111111111111,\"#46039f\"],[0.2222222222222222,\"#7201a8\"],[0.3333333333333333,\"#9c179e\"],[0.4444444444444444,\"#bd3786\"],[0.5555555555555556,\"#d8576b\"],[0.6666666666666666,\"#ed7953\"],[0.7777777777777778,\"#fb9f3a\"],[0.8888888888888888,\"#fdca26\"],[1.0,\"#f0f921\"]],\"sequentialminus\":[[0.0,\"#0d0887\"],[0.1111111111111111,\"#46039f\"],[0.2222222222222222,\"#7201a8\"],[0.3333333333333333,\"#9c179e\"],[0.4444444444444444,\"#bd3786\"],[0.5555555555555556,\"#d8576b\"],[0.6666666666666666,\"#ed7953\"],[0.7777777777777778,\"#fb9f3a\"],[0.8888888888888888,\"#fdca26\"],[1.0,\"#f0f921\"]]},\"colorway\":[\"#636efa\",\"#EF553B\",\"#00cc96\",\"#ab63fa\",\"#FFA15A\",\"#19d3f3\",\"#FF6692\",\"#B6E880\",\"#FF97FF\",\"#FECB52\"],\"font\":{\"color\":\"#2a3f5f\"},\"geo\":{\"bgcolor\":\"white\",\"lakecolor\":\"white\",\"landcolor\":\"#E5ECF6\",\"showlakes\":true,\"showland\":true,\"subunitcolor\":\"white\"},\"hoverlabel\":{\"align\":\"left\"},\"hovermode\":\"closest\",\"mapbox\":{\"style\":\"light\"},\"paper_bgcolor\":\"white\",\"plot_bgcolor\":\"#E5ECF6\",\"polar\":{\"angularaxis\":{\"gridcolor\":\"white\",\"linecolor\":\"white\",\"ticks\":\"\"},\"bgcolor\":\"#E5ECF6\",\"radialaxis\":{\"gridcolor\":\"white\",\"linecolor\":\"white\",\"ticks\":\"\"}},\"scene\":{\"xaxis\":{\"backgroundcolor\":\"#E5ECF6\",\"gridcolor\":\"white\",\"gridwidth\":2,\"linecolor\":\"white\",\"showbackground\":true,\"ticks\":\"\",\"zerolinecolor\":\"white\"},\"yaxis\":{\"backgroundcolor\":\"#E5ECF6\",\"gridcolor\":\"white\",\"gridwidth\":2,\"linecolor\":\"white\",\"showbackground\":true,\"ticks\":\"\",\"zerolinecolor\":\"white\"},\"zaxis\":{\"backgroundcolor\":\"#E5ECF6\",\"gridcolor\":\"white\",\"gridwidth\":2,\"linecolor\":\"white\",\"showbackground\":true,\"ticks\":\"\",\"zerolinecolor\":\"white\"}},\"shapedefaults\":{\"line\":{\"color\":\"#2a3f5f\"}},\"ternary\":{\"aaxis\":{\"gridcolor\":\"white\",\"linecolor\":\"white\",\"ticks\":\"\"},\"baxis\":{\"gridcolor\":\"white\",\"linecolor\":\"white\",\"ticks\":\"\"},\"bgcolor\":\"#E5ECF6\",\"caxis\":{\"gridcolor\":\"white\",\"linecolor\":\"white\",\"ticks\":\"\"}},\"title\":{\"x\":0.05},\"xaxis\":{\"automargin\":true,\"gridcolor\":\"white\",\"linecolor\":\"white\",\"ticks\":\"\",\"title\":{\"standoff\":15},\"zerolinecolor\":\"white\",\"zerolinewidth\":2},\"yaxis\":{\"automargin\":true,\"gridcolor\":\"white\",\"linecolor\":\"white\",\"ticks\":\"\",\"title\":{\"standoff\":15},\"zerolinecolor\":\"white\",\"zerolinewidth\":2}}},\"title\":{\"text\":\"Fluxonium-Excitation\"},\"xaxis\":{\"title\":{\"text\":\"external flux\"}},\"yaxis\":{\"title\":{\"text\":\"E(GHz)\"}}},                        {\"responsive\": true}                    ).then(function(){\n",
       "                            \n",
       "var gd = document.getElementById('1dba5da5-ebe0-438f-9a23-25aa187e08fa');\n",
       "var x = new MutationObserver(function (mutations, observer) {{\n",
       "        var display = window.getComputedStyle(gd).display;\n",
       "        if (!display || display === 'none') {{\n",
       "            console.log([gd, 'removed!']);\n",
       "            Plotly.purge(gd);\n",
       "            observer.disconnect();\n",
       "        }}\n",
       "}});\n",
       "\n",
       "// Listen for the removal of the full notebook cells\n",
       "var notebookContainer = gd.closest('#notebook-container');\n",
       "if (notebookContainer) {{\n",
       "    x.observe(notebookContainer, {childList: true});\n",
       "}}\n",
       "\n",
       "// Listen for the clearing of the current output cell\n",
       "var outputEl = gd.closest('.output');\n",
       "if (outputEl) {{\n",
       "    x.observe(outputEl, {childList: true});\n",
       "}}\n",
       "\n",
       "                        })                };                });            </script>        </div>"
      ]
     },
     "metadata": {},
     "output_type": "display_data"
    }
   ],
   "source": [
    "plotCompare(arange(0,1,.01),{'Ist Excitation':EI,'IInd Excitation':EII,'Anharmonicity':EII-EI-EI},\n",
    "            'Fluxonium-Excitation','external flux','E(GHz)')"
   ]
  },
  {
   "cell_type": "code",
   "execution_count": 28,
   "id": "c7f2ad17",
   "metadata": {},
   "outputs": [],
   "source": [
    "log10 = lambda x:x"
   ]
  },
  {
   "cell_type": "code",
   "execution_count": 29,
   "id": "8d5740f5",
   "metadata": {},
   "outputs": [],
   "source": [
    "plot = {'Qq':[],'Fq':[],'Qf':[],'Ff':[],'ratio':[]}\n",
    "for size in arange(2,500):\n",
    "    plot['Qq'].append(log10(circuit.backend.basisQq(size).norm().item()))\n",
    "    plot['Fq'].append(log10(circuit.backend.basisFq(size).norm().item()))\n",
    "    #plot['Qf'].append(circuit.backend.basisQf(size).norm().item())\n",
    "    #plot['Ff'].append(circuit.backend.basisFf(size).norm().item())\n",
    "    plot['ratio'].append(log10(circuit.backend.basisQq(size).norm().item()/circuit.backend.basisFq(size).norm().item()))"
   ]
  },
  {
   "cell_type": "code",
   "execution_count": 30,
   "id": "a75fda19",
   "metadata": {},
   "outputs": [
    {
     "data": {
      "application/vnd.plotly.v1+json": {
       "config": {
        "linkText": "Export to plot.ly",
        "plotlyServerURL": "https://plot.ly",
        "showLink": false
       },
       "data": [
        {
         "line": {
          "width": 5
         },
         "name": "Qq",
         "type": "scatter",
         "x": [
          2,
          3,
          4,
          5,
          6,
          7,
          8,
          9,
          10,
          11,
          12,
          13,
          14,
          15,
          16,
          17,
          18,
          19,
          20,
          21,
          22,
          23,
          24,
          25,
          26,
          27,
          28,
          29,
          30,
          31,
          32,
          33,
          34,
          35,
          36,
          37,
          38,
          39,
          40,
          41,
          42,
          43,
          44,
          45,
          46,
          47,
          48,
          49,
          50,
          51,
          52,
          53,
          54,
          55,
          56,
          57,
          58,
          59,
          60,
          61,
          62,
          63,
          64,
          65,
          66,
          67,
          68,
          69,
          70,
          71,
          72,
          73,
          74,
          75,
          76,
          77,
          78,
          79,
          80,
          81,
          82,
          83,
          84,
          85,
          86,
          87,
          88,
          89,
          90,
          91,
          92,
          93,
          94,
          95,
          96,
          97,
          98,
          99,
          100,
          101,
          102,
          103,
          104,
          105,
          106,
          107,
          108,
          109,
          110,
          111,
          112,
          113,
          114,
          115,
          116,
          117,
          118,
          119,
          120,
          121,
          122,
          123,
          124,
          125,
          126,
          127,
          128,
          129,
          130,
          131,
          132,
          133,
          134,
          135,
          136,
          137,
          138,
          139,
          140,
          141,
          142,
          143,
          144,
          145,
          146,
          147,
          148,
          149,
          150,
          151,
          152,
          153,
          154,
          155,
          156,
          157,
          158,
          159,
          160,
          161,
          162,
          163,
          164,
          165,
          166,
          167,
          168,
          169,
          170,
          171,
          172,
          173,
          174,
          175,
          176,
          177,
          178,
          179,
          180,
          181,
          182,
          183,
          184,
          185,
          186,
          187,
          188,
          189,
          190,
          191,
          192,
          193,
          194,
          195,
          196,
          197,
          198,
          199,
          200,
          201,
          202,
          203,
          204,
          205,
          206,
          207,
          208,
          209,
          210,
          211,
          212,
          213,
          214,
          215,
          216,
          217,
          218,
          219,
          220,
          221,
          222,
          223,
          224,
          225,
          226,
          227,
          228,
          229,
          230,
          231,
          232,
          233,
          234,
          235,
          236,
          237,
          238,
          239,
          240,
          241,
          242,
          243,
          244,
          245,
          246,
          247,
          248,
          249,
          250,
          251,
          252,
          253,
          254,
          255,
          256,
          257,
          258,
          259,
          260,
          261,
          262,
          263,
          264,
          265,
          266,
          267,
          268,
          269,
          270,
          271,
          272,
          273,
          274,
          275,
          276,
          277,
          278,
          279,
          280,
          281,
          282,
          283,
          284,
          285,
          286,
          287,
          288,
          289,
          290,
          291,
          292,
          293,
          294,
          295,
          296,
          297,
          298,
          299,
          300,
          301,
          302,
          303,
          304,
          305,
          306,
          307,
          308,
          309,
          310,
          311,
          312,
          313,
          314,
          315,
          316,
          317,
          318,
          319,
          320,
          321,
          322,
          323,
          324,
          325,
          326,
          327,
          328,
          329,
          330,
          331,
          332,
          333,
          334,
          335,
          336,
          337,
          338,
          339,
          340,
          341,
          342,
          343,
          344,
          345,
          346,
          347,
          348,
          349,
          350,
          351,
          352,
          353,
          354,
          355,
          356,
          357,
          358,
          359,
          360,
          361,
          362,
          363,
          364,
          365,
          366,
          367,
          368,
          369,
          370,
          371,
          372,
          373,
          374,
          375,
          376,
          377,
          378,
          379,
          380,
          381,
          382,
          383,
          384,
          385,
          386,
          387,
          388,
          389,
          390,
          391,
          392,
          393,
          394,
          395,
          396,
          397,
          398,
          399,
          400,
          401,
          402,
          403,
          404,
          405,
          406,
          407,
          408,
          409,
          410,
          411,
          412,
          413,
          414,
          415,
          416,
          417,
          418,
          419,
          420,
          421,
          422,
          423,
          424,
          425,
          426,
          427,
          428,
          429,
          430,
          431,
          432,
          433,
          434,
          435,
          436,
          437,
          438,
          439,
          440,
          441,
          442,
          443,
          444,
          445,
          446,
          447,
          448,
          449,
          450,
          451,
          452,
          453,
          454,
          455,
          456,
          457,
          458,
          459,
          460,
          461,
          462,
          463,
          464,
          465,
          466,
          467,
          468,
          469,
          470,
          471,
          472,
          473,
          474,
          475,
          476,
          477,
          478,
          479,
          480,
          481,
          482,
          483,
          484,
          485,
          486,
          487,
          488,
          489,
          490,
          491,
          492,
          493,
          494,
          495,
          496,
          497,
          498,
          499
         ],
         "y": [
          6.324555397033691,
          10.58300495147705,
          15.491933822631836,
          20.976177215576172,
          26.981475830078125,
          33.466400146484375,
          40.39801788330078,
          47.74934387207031,
          55.49774932861328,
          63.62389373779297,
          72.11102294921875,
          80.94442749023438,
          90.11104583740234,
          99.59919738769531,
          109.39835357666016,
          119.49895477294922,
          129.8922576904297,
          140.5702667236328,
          151.52557373046875,
          162.7513427734375,
          174.2412109375,
          185.98924255371094,
          197.98989868164062,
          210.2379608154297,
          222.72853088378906,
          235.45700073242188,
          248.41900634765625,
          261.61041259765625,
          275.02728271484375,
          288.6658935546875,
          302.5227355957031,
          316.5943908691406,
          330.87762451171875,
          345.3693542480469,
          360.066650390625,
          374.9666748046875,
          390.066650390625,
          405.3640441894531,
          420.85626220703125,
          436.54095458984375,
          452.4157409667969,
          468.4783935546875,
          484.7267150878906,
          501.1586608886719,
          517.7721557617188,
          534.5652465820312,
          551.5360107421875,
          568.6826782226562,
          586.00341796875,
          603.4964599609375,
          621.1602172851562,
          638.9929809570312,
          656.9931640625,
          675.1592407226562,
          693.48974609375,
          711.983154296875,
          730.6380615234375,
          749.453125,
          768.4269409179688,
          787.5582275390625,
          806.845703125,
          826.2880859375,
          845.8841552734375,
          865.6326904296875,
          885.5325927734375,
          905.5827026367188,
          925.7818603515625,
          946.1289672851562,
          966.6229858398438,
          987.2628784179688,
          1008.047607421875,
          1028.9761962890625,
          1050.047607421875,
          1071.260986328125,
          1092.615234375,
          1114.1094970703125,
          1135.742919921875,
          1157.5145263671875,
          1179.423583984375,
          1201.4691162109375,
          1223.6502685546875,
          1245.96630859375,
          1268.4163818359375,
          1290.9996337890625,
          1313.71533203125,
          1336.562744140625,
          1359.5411376953125,
          1382.649658203125,
          1405.8875732421875,
          1429.25439453125,
          1452.7491455078125,
          1476.3712158203125,
          1500.1199951171875,
          1523.9947509765625,
          1547.994873046875,
          1572.11962890625,
          1596.368408203125,
          1620.7406005859375,
          1645.235595703125,
          1669.8526611328125,
          1694.5914306640625,
          1719.4510498046875,
          1744.43115234375,
          1769.531005859375,
          1794.7501220703125,
          1820.087890625,
          1845.5438232421875,
          1871.1173095703125,
          1896.807861328125,
          1922.6148681640625,
          1948.5379638671875,
          1974.576416015625,
          2000.7298583984375,
          2026.997802734375,
          2053.379638671875,
          2079.875,
          2106.4833984375,
          2133.2041015625,
          2160.037109375,
          2186.9814453125,
          2214.037109375,
          2241.203369140625,
          2268.479736328125,
          2295.865966796875,
          2323.361328125,
          2350.9658203125,
          2378.6787109375,
          2406.49951171875,
          2434.427978515625,
          2462.4638671875,
          2490.6064453125,
          2518.855224609375,
          2547.210205078125,
          2575.6708984375,
          2604.236572265625,
          2632.9072265625,
          2661.68212890625,
          2690.561279296875,
          2719.544189453125,
          2748.630126953125,
          2777.8193359375,
          2807.111083984375,
          2836.5048828125,
          2866.000732421875,
          2895.59814453125,
          2925.296630859375,
          2955.095947265625,
          2984.995849609375,
          3014.995849609375,
          3045.095703125,
          3075.295166015625,
          3105.59375,
          3135.990966796875,
          3166.487060546875,
          3197.0810546875,
          3227.773193359375,
          3258.56298828125,
          3289.44970703125,
          3320.43359375,
          3351.514404296875,
          3382.691162109375,
          3413.96435546875,
          3445.3330078125,
          3476.79736328125,
          3508.35693359375,
          3540.01123046875,
          3571.76025390625,
          3603.603759765625,
          3635.541259765625,
          3667.572509765625,
          3699.697265625,
          3731.915283203125,
          3764.226318359375,
          3796.630126953125,
          3829.126220703125,
          3861.714599609375,
          3894.39501953125,
          3927.1669921875,
          3960.0302734375,
          3992.98486328125,
          4026.0302734375,
          4059.16650390625,
          4092.392822265625,
          4125.70947265625,
          4159.1162109375,
          4192.61279296875,
          4226.1982421875,
          4259.873046875,
          4293.63720703125,
          4327.48974609375,
          4361.43115234375,
          4395.46044921875,
          4429.57763671875,
          4463.783203125,
          4498.076171875,
          4532.4560546875,
          4566.923828125,
          4601.47802734375,
          4636.119140625,
          4670.8466796875,
          4705.66064453125,
          4740.560546875,
          4775.5458984375,
          4810.6171875,
          4845.7744140625,
          4881.01611328125,
          4916.34326171875,
          4951.75537109375,
          4987.251953125,
          5022.83251953125,
          5058.49755859375,
          5094.2470703125,
          5130.080078125,
          5165.99658203125,
          5201.99658203125,
          5238.07958984375,
          5274.24609375,
          5310.4951171875,
          5346.8271484375,
          5383.2412109375,
          5419.73779296875,
          5456.31689453125,
          5492.9775390625,
          5529.7197265625,
          5566.54345703125,
          5603.44873046875,
          5640.435546875,
          5677.5029296875,
          5714.6513671875,
          5751.88037109375,
          5789.18994140625,
          5826.57958984375,
          5864.0498046875,
          5901.599609375,
          5939.2294921875,
          5976.93896484375,
          6014.72802734375,
          6052.59619140625,
          6090.54345703125,
          6128.56982421875,
          6166.6748046875,
          6204.85888671875,
          6243.12109375,
          6281.46142578125,
          6319.88037109375,
          6358.376953125,
          6396.95166015625,
          6435.60400390625,
          6474.333984375,
          6513.14111328125,
          6552.02587890625,
          6590.9873046875,
          6630.02587890625,
          6669.14111328125,
          6708.33251953125,
          6747.60107421875,
          6786.94580078125,
          6826.36669921875,
          6865.86328125,
          6905.43603515625,
          6945.08447265625,
          6984.80859375,
          7024.6083984375,
          7064.48291015625,
          7104.43310546875,
          7144.4580078125,
          7184.55810546875,
          7224.732421875,
          7264.98193359375,
          7305.3056640625,
          7345.70361328125,
          7386.17578125,
          7426.72216796875,
          7467.34228515625,
          7508.0361328125,
          7548.8037109375,
          7589.64501953125,
          7630.5595703125,
          7671.54736328125,
          7712.6083984375,
          7753.7421875,
          7794.94921875,
          7836.228515625,
          7877.5810546875,
          7919.00537109375,
          7960.50244140625,
          8002.07177734375,
          8043.712890625,
          8085.42626953125,
          8127.21142578125,
          8169.068359375,
          8210.9970703125,
          8252.9970703125,
          8295.068359375,
          8337.2109375,
          8379.4248046875,
          8421.7099609375,
          8464.0654296875,
          8506.4912109375,
          8548.98828125,
          8591.556640625,
          8634.1943359375,
          8676.90234375,
          8719.681640625,
          8762.529296875,
          8805.4482421875,
          8848.4365234375,
          8891.4951171875,
          8934.6220703125,
          8977.8193359375,
          9021.0859375,
          9064.421875,
          9107.8271484375,
          9151.3017578125,
          9194.8447265625,
          9238.4560546875,
          9282.1376953125,
          9325.88671875,
          9369.7041015625,
          9413.58984375,
          9457.544921875,
          9501.5673828125,
          9545.6591796875,
          9589.8173828125,
          9634.044921875,
          9678.3388671875,
          9722.701171875,
          9767.130859375,
          9811.6279296875,
          9856.1923828125,
          9900.82421875,
          9945.5234375,
          9990.2890625,
          10035.1220703125,
          10080.0224609375,
          10124.98828125,
          10170.0224609375,
          10215.1220703125,
          10260.2880859375,
          10305.521484375,
          10350.8203125,
          10396.185546875,
          10441.6171875,
          10487.1142578125,
          10532.677734375,
          10578.3056640625,
          10624.0009765625,
          10669.76171875,
          10715.5869140625,
          10761.4775390625,
          10807.4345703125,
          10853.45703125,
          10899.54296875,
          10945.6953125,
          10991.912109375,
          11038.1943359375,
          11084.5400390625,
          11130.951171875,
          11177.4267578125,
          11223.9677734375,
          11270.572265625,
          11317.2412109375,
          11363.974609375,
          11410.7724609375,
          11457.6337890625,
          11504.5595703125,
          11551.5478515625,
          11598.6015625,
          11645.71875,
          11692.8984375,
          11740.1435546875,
          11787.44921875,
          11834.8193359375,
          11882.25390625,
          11929.7509765625,
          11977.3115234375,
          12024.935546875,
          12072.6220703125,
          12120.3720703125,
          12168.1845703125,
          12216.0595703125,
          12263.9970703125,
          12311.9970703125,
          12360.0595703125,
          12408.1845703125,
          12456.37109375,
          12504.6201171875,
          12552.931640625,
          12601.3056640625,
          12649.740234375,
          12698.23828125,
          12746.796875,
          12795.41796875,
          12844.1025390625,
          12892.8466796875,
          12941.65234375,
          12990.51953125,
          13039.4482421875,
          13088.4375,
          13137.48828125,
          13186.6005859375,
          13235.7734375,
          13285.0078125,
          13334.3046875,
          13383.66015625,
          13433.0771484375,
          13482.5537109375,
          13532.091796875,
          13581.6904296875,
          13631.349609375,
          13681.0673828125,
          13730.84765625,
          13780.6875,
          13830.587890625,
          13880.5478515625,
          13930.5693359375,
          13980.6484375,
          14030.7880859375,
          14080.98828125,
          14131.2470703125,
          14181.56640625,
          14231.9443359375,
          14282.3828125,
          14332.8779296875,
          14383.4345703125,
          14434.0517578125,
          14484.7265625,
          14535.4619140625,
          14586.255859375,
          14637.109375,
          14688.021484375,
          14738.9912109375,
          14790.01953125,
          14841.1083984375,
          14892.2548828125,
          14943.4619140625,
          14994.724609375,
          15046.046875,
          15097.4287109375,
          15148.8681640625,
          15200.3642578125,
          15251.9208984375,
          15303.53515625,
          15355.20703125,
          15406.9375,
          15458.7255859375,
          15510.5712890625,
          15562.4755859375,
          15614.4375,
          15666.4560546875,
          15718.533203125,
          15770.6650390625,
          15822.857421875,
          15875.107421875,
          15927.4140625,
          15979.7783203125,
          16032.19921875,
          16084.677734375,
          16137.21484375,
          16189.8076171875,
          16242.4541015625,
          16295.1611328125,
          16347.9248046875,
          16400.74609375,
          16453.623046875,
          16506.556640625,
          16559.546875,
          16612.59375,
          16665.69921875,
          16718.857421875,
          16772.07421875,
          16825.34765625,
          16878.67578125,
          16932.0625,
          16985.50390625,
          17039,
          17092.5546875,
          17146.166015625,
          17199.83203125,
          17253.552734375,
          17307.330078125,
          17361.1640625,
          17415.05078125,
          17468.99609375,
          17522.99609375,
          17577.052734375,
          17631.1640625,
          17685.330078125,
          17739.552734375,
          17793.828125,
          17848.16015625,
          17902.546875,
          17956.990234375,
          18011.48828125,
          18066.04296875,
          18120.650390625,
          18175.3125,
          18230.029296875
         ]
        },
        {
         "line": {
          "width": 5
         },
         "name": "Fq",
         "type": "scatter",
         "x": [
          2,
          3,
          4,
          5,
          6,
          7,
          8,
          9,
          10,
          11,
          12,
          13,
          14,
          15,
          16,
          17,
          18,
          19,
          20,
          21,
          22,
          23,
          24,
          25,
          26,
          27,
          28,
          29,
          30,
          31,
          32,
          33,
          34,
          35,
          36,
          37,
          38,
          39,
          40,
          41,
          42,
          43,
          44,
          45,
          46,
          47,
          48,
          49,
          50,
          51,
          52,
          53,
          54,
          55,
          56,
          57,
          58,
          59,
          60,
          61,
          62,
          63,
          64,
          65,
          66,
          67,
          68,
          69,
          70,
          71,
          72,
          73,
          74,
          75,
          76,
          77,
          78,
          79,
          80,
          81,
          82,
          83,
          84,
          85,
          86,
          87,
          88,
          89,
          90,
          91,
          92,
          93,
          94,
          95,
          96,
          97,
          98,
          99,
          100,
          101,
          102,
          103,
          104,
          105,
          106,
          107,
          108,
          109,
          110,
          111,
          112,
          113,
          114,
          115,
          116,
          117,
          118,
          119,
          120,
          121,
          122,
          123,
          124,
          125,
          126,
          127,
          128,
          129,
          130,
          131,
          132,
          133,
          134,
          135,
          136,
          137,
          138,
          139,
          140,
          141,
          142,
          143,
          144,
          145,
          146,
          147,
          148,
          149,
          150,
          151,
          152,
          153,
          154,
          155,
          156,
          157,
          158,
          159,
          160,
          161,
          162,
          163,
          164,
          165,
          166,
          167,
          168,
          169,
          170,
          171,
          172,
          173,
          174,
          175,
          176,
          177,
          178,
          179,
          180,
          181,
          182,
          183,
          184,
          185,
          186,
          187,
          188,
          189,
          190,
          191,
          192,
          193,
          194,
          195,
          196,
          197,
          198,
          199,
          200,
          201,
          202,
          203,
          204,
          205,
          206,
          207,
          208,
          209,
          210,
          211,
          212,
          213,
          214,
          215,
          216,
          217,
          218,
          219,
          220,
          221,
          222,
          223,
          224,
          225,
          226,
          227,
          228,
          229,
          230,
          231,
          232,
          233,
          234,
          235,
          236,
          237,
          238,
          239,
          240,
          241,
          242,
          243,
          244,
          245,
          246,
          247,
          248,
          249,
          250,
          251,
          252,
          253,
          254,
          255,
          256,
          257,
          258,
          259,
          260,
          261,
          262,
          263,
          264,
          265,
          266,
          267,
          268,
          269,
          270,
          271,
          272,
          273,
          274,
          275,
          276,
          277,
          278,
          279,
          280,
          281,
          282,
          283,
          284,
          285,
          286,
          287,
          288,
          289,
          290,
          291,
          292,
          293,
          294,
          295,
          296,
          297,
          298,
          299,
          300,
          301,
          302,
          303,
          304,
          305,
          306,
          307,
          308,
          309,
          310,
          311,
          312,
          313,
          314,
          315,
          316,
          317,
          318,
          319,
          320,
          321,
          322,
          323,
          324,
          325,
          326,
          327,
          328,
          329,
          330,
          331,
          332,
          333,
          334,
          335,
          336,
          337,
          338,
          339,
          340,
          341,
          342,
          343,
          344,
          345,
          346,
          347,
          348,
          349,
          350,
          351,
          352,
          353,
          354,
          355,
          356,
          357,
          358,
          359,
          360,
          361,
          362,
          363,
          364,
          365,
          366,
          367,
          368,
          369,
          370,
          371,
          372,
          373,
          374,
          375,
          376,
          377,
          378,
          379,
          380,
          381,
          382,
          383,
          384,
          385,
          386,
          387,
          388,
          389,
          390,
          391,
          392,
          393,
          394,
          395,
          396,
          397,
          398,
          399,
          400,
          401,
          402,
          403,
          404,
          405,
          406,
          407,
          408,
          409,
          410,
          411,
          412,
          413,
          414,
          415,
          416,
          417,
          418,
          419,
          420,
          421,
          422,
          423,
          424,
          425,
          426,
          427,
          428,
          429,
          430,
          431,
          432,
          433,
          434,
          435,
          436,
          437,
          438,
          439,
          440,
          441,
          442,
          443,
          444,
          445,
          446,
          447,
          448,
          449,
          450,
          451,
          452,
          453,
          454,
          455,
          456,
          457,
          458,
          459,
          460,
          461,
          462,
          463,
          464,
          465,
          466,
          467,
          468,
          469,
          470,
          471,
          472,
          473,
          474,
          475,
          476,
          477,
          478,
          479,
          480,
          481,
          482,
          483,
          484,
          485,
          486,
          487,
          488,
          489,
          490,
          491,
          492,
          493,
          494,
          495,
          496,
          497,
          498,
          499
         ],
         "y": [
          0.632455587387085,
          0.7559291124343872,
          0.8606629371643066,
          0.9534621238708496,
          1.03774893283844,
          1.1155463457107544,
          1.188177466392517,
          1.2565616369247437,
          1.3213751316070557,
          1.3831294775009155,
          1.4422212839126587,
          1.498970866203308,
          1.5536398887634277,
          1.6064388751983643,
          1.6575520038604736,
          1.7071285247802734,
          1.7553038597106934,
          1.8021830320358276,
          1.8478691577911377,
          1.8924577236175537,
          1.9360134601593018,
          1.9786090850830078,
          2.0203001499176025,
          2.0611579418182373,
          2.1012134552001953,
          2.1405227184295654,
          2.1791086196899414,
          2.217038154602051,
          2.2543222904205322,
          2.290994882583618,
          2.3270950317382812,
          2.3626301288604736,
          2.397664785385132,
          2.432173728942871,
          2.4662153720855713,
          2.4997756481170654,
          2.5329105854034424,
          2.5656049251556396,
          2.5978763103485107,
          2.6297714710235596,
          2.661290168762207,
          2.69238543510437,
          2.7231805324554443,
          2.7536094188690186,
          2.7837257385253906,
          2.8134942054748535,
          2.8429739475250244,
          2.8721425533294678,
          2.9010066986083984,
          2.929603338241577,
          2.9579224586486816,
          2.9859378337860107,
          3.013721466064453,
          3.041264057159424,
          3.068535566329956,
          3.0955944061279297,
          3.1223623752593994,
          3.1489574909210205,
          3.1753339767456055,
          3.2014546394348145,
          3.227404832839966,
          3.2531087398529053,
          3.278640031814575,
          3.3039462566375732,
          3.3290579319000244,
          3.353985548019409,
          3.3787689208984375,
          3.4033892154693604,
          3.42771315574646,
          3.451953649520874,
          3.4760119915008545,
          3.4998927116394043,
          3.5236599445343018,
          3.5472755432128906,
          3.570646047592163,
          3.5939173698425293,
          3.617030620574951,
          3.6399805545806885,
          3.662734031677246,
          3.685459613800049,
          3.7080445289611816,
          3.730417490005493,
          3.7527015209198,
          3.774841070175171,
          3.7969043254852295,
          3.818824529647827,
          3.840520143508911,
          3.8620848655700684,
          3.8836026191711426,
          3.905060291290283,
          3.926330804824829,
          3.9474940299987793,
          3.9685919284820557,
          3.9895071983337402,
          4.010354042053223,
          4.031097412109375,
          4.051748752593994,
          4.072205543518066,
          4.092588424682617,
          4.112914085388184,
          4.133123874664307,
          4.153261661529541,
          4.1732635498046875,
          4.193201065063477,
          4.213059902191162,
          4.232780456542969,
          4.252433776855469,
          4.271990776062012,
          4.291437149047852,
          4.310829162597656,
          4.330040454864502,
          4.349212169647217,
          4.368339538574219,
          4.387453079223633,
          4.406423568725586,
          4.425294876098633,
          4.444037437438965,
          4.462764739990234,
          4.481433391571045,
          4.499944686889648,
          4.5184431076049805,
          4.536824703216553,
          4.555119037628174,
          4.573418140411377,
          4.591564178466797,
          4.6097187995910645,
          4.627813339233398,
          4.645776748657227,
          4.663687229156494,
          4.681562423706055,
          4.69932222366333,
          4.716931343078613,
          4.734554290771484,
          4.752082824707031,
          4.769615173339844,
          4.787070274353027,
          4.804459095001221,
          4.821780681610107,
          4.839057922363281,
          4.856286525726318,
          4.873309135437012,
          4.890375137329102,
          4.907418251037598,
          4.924335479736328,
          4.941195487976074,
          4.958040237426758,
          4.974850177764893,
          4.991613388061523,
          5.008297920227051,
          5.024938106536865,
          5.0415263175964355,
          5.058102607727051,
          5.074507236480713,
          5.090829372406006,
          5.107212543487549,
          5.123470306396484,
          5.1397013664245605,
          5.155858993530273,
          5.1719841957092285,
          5.188096523284912,
          5.204140663146973,
          5.2201738357543945,
          5.23611307144165,
          5.252024173736572,
          5.267874717712402,
          5.283669948577881,
          5.29945707321167,
          5.315167427062988,
          5.330838680267334,
          5.346371650695801,
          5.3618621826171875,
          5.377363204956055,
          5.392831325531006,
          5.408276557922363,
          5.423609733581543,
          5.438897609710693,
          5.454191207885742,
          5.469485282897949,
          5.484688758850098,
          5.499914169311523,
          5.515060901641846,
          5.530180931091309,
          5.545231342315674,
          5.560251712799072,
          5.575254917144775,
          5.590170860290527,
          5.605058193206787,
          5.619912147521973,
          5.634730815887451,
          5.649519920349121,
          5.664262771606445,
          5.67899227142334,
          5.693511009216309,
          5.708119869232178,
          5.722692012786865,
          5.737229347229004,
          5.751714706420898,
          5.766171932220459,
          5.7806077003479,
          5.794973373413086,
          5.809359550476074,
          5.823678493499756,
          5.837979316711426,
          5.85222864151001,
          5.866443157196045,
          5.88066291809082,
          5.894845962524414,
          5.908969402313232,
          5.923046588897705,
          5.937119960784912,
          5.951176166534424,
          5.965181350708008,
          5.979127407073975,
          5.993082523345947,
          6.00699520111084,
          6.020875930786133,
          6.034721374511719,
          6.048463821411133,
          6.062239170074463,
          6.075979232788086,
          6.089648723602295,
          6.103308200836182,
          6.116957187652588,
          6.1305832862854,
          6.144186496734619,
          6.157761573791504,
          6.171299934387207,
          6.18471622467041,
          6.198156356811523,
          6.2115631103515625,
          6.224967002868652,
          6.238347053527832,
          6.25167989730835,
          6.26499080657959,
          6.27828311920166,
          6.291538715362549,
          6.304776191711426,
          6.317991733551025,
          6.331189155578613,
          6.344292163848877,
          6.357358932495117,
          6.370428562164307,
          6.383490085601807,
          6.396519184112549,
          6.40953254699707,
          6.422523498535156,
          6.435484409332275,
          6.448400497436523,
          6.461315155029297,
          6.474219799041748,
          6.487046718597412,
          6.499863147735596,
          6.5126953125,
          6.525487422943115,
          6.538271903991699,
          6.551010608673096,
          6.563732624053955,
          6.576426982879639,
          6.5890936851501465,
          6.601747512817383,
          6.614378929138184,
          6.626983642578125,
          6.63956880569458,
          6.65210485458374,
          6.664620399475098,
          6.677127838134766,
          6.689632892608643,
          6.7020978927612305,
          6.714527130126953,
          6.726958274841309,
          6.739354610443115,
          6.75173807144165,
          6.763983249664307,
          6.776271343231201,
          6.788534164428711,
          6.80077600479126,
          6.813004016876221,
          6.825239181518555,
          6.837453842163086,
          6.849646091461182,
          6.861807823181152,
          6.873934745788574,
          6.886030673980713,
          6.898135662078857,
          6.91013240814209,
          6.922186851501465,
          6.934233665466309,
          6.9462456703186035,
          6.9582295417785645,
          6.970186710357666,
          6.982122421264648,
          6.994065284729004,
          7.005988597869873,
          7.017881870269775,
          7.029716968536377,
          7.041565418243408,
          7.05336856842041,
          7.06515645980835,
          7.076949119567871,
          7.088717937469482,
          7.100459575653076,
          7.112213611602783,
          7.1239237785339355,
          7.135627269744873,
          7.1473069190979,
          7.158944606781006,
          7.170595645904541,
          7.182183742523193,
          7.1937713623046875,
          7.205325603485107,
          7.216899871826172,
          7.228445053100586,
          7.240035533905029,
          7.2515411376953125,
          7.263038635253906,
          7.274515151977539,
          7.285977363586426,
          7.297425270080566,
          7.308841228485107,
          7.32025146484375,
          7.331637859344482,
          7.343001842498779,
          7.35422945022583,
          7.3654961585998535,
          7.3767900466918945,
          7.388052940368652,
          7.399294853210449,
          7.410532474517822,
          7.42175817489624,
          7.432964324951172,
          7.44415283203125,
          7.455338001251221,
          7.4665021896362305,
          7.477651596069336,
          7.488793849945068,
          7.4999003410339355,
          7.510992050170898,
          7.522078037261963,
          7.533145904541016,
          7.544190883636475,
          7.555199146270752,
          7.566213130950928,
          7.577216148376465,
          7.588213920593262,
          7.5991740226745605,
          7.610138416290283,
          7.621084213256836,
          7.632013320922852,
          7.642922878265381,
          7.65382719039917,
          7.664706707000732,
          7.675550937652588,
          7.6863932609558105,
          7.697222709655762,
          7.708045959472656,
          7.718846797943115,
          7.7296462059021,
          7.740433692932129,
          7.751197814941406,
          7.76194953918457,
          7.772698879241943,
          7.7834248542785645,
          7.794119834899902,
          7.804812431335449,
          7.815479755401611,
          7.826144218444824,
          7.836788654327393,
          7.847434997558594,
          7.858055591583252,
          7.868664264678955,
          7.8792643547058105,
          7.889854431152344,
          7.900408744812012,
          7.910955429077148,
          7.921502590179443,
          7.932011127471924,
          7.942531108856201,
          7.953038215637207,
          7.963529109954834,
          7.973989963531494,
          7.98444128036499,
          7.994890213012695,
          8.005318641662598,
          8.015725135803223,
          8.02613353729248,
          8.036486625671387,
          8.046838760375977,
          8.057181358337402,
          8.067525863647461,
          8.077844619750977,
          8.088167190551758,
          8.098477363586426,
          8.108763694763184,
          8.119033813476562,
          8.129301071166992,
          8.139552116394043,
          8.14978313446045,
          8.15999698638916,
          8.170215606689453,
          8.180413246154785,
          8.190607070922852,
          8.20078182220459,
          8.210951805114746,
          8.221084594726562,
          8.231232643127441,
          8.241368293762207,
          8.25147819519043,
          8.26157283782959,
          8.271666526794434,
          8.281752586364746,
          8.291829109191895,
          8.30188274383545,
          8.311935424804688,
          8.321944236755371,
          8.331974029541016,
          8.341980934143066,
          8.351880073547363,
          8.361784934997559,
          8.371706008911133,
          8.38162899017334,
          8.391539573669434,
          8.401446342468262,
          8.411346435546875,
          8.42123031616211,
          8.431112289428711,
          8.44097900390625,
          8.450835227966309,
          8.460679054260254,
          8.470512390136719,
          8.480332374572754,
          8.49013900756836,
          8.499933242797852,
          8.509740829467773,
          8.519524574279785,
          8.529300689697266,
          8.539051055908203,
          8.548775672912598,
          8.558507919311523,
          8.568225860595703,
          8.57794189453125,
          8.587651252746582,
          8.597365379333496,
          8.607048034667969,
          8.61672592163086,
          8.626395225524902,
          8.636046409606934,
          8.645686149597168,
          8.655319213867188,
          8.664953231811523,
          8.674560546875,
          8.684172630310059,
          8.693781852722168,
          8.703347206115723,
          8.712936401367188,
          8.722489356994629,
          8.732040405273438,
          8.741520881652832,
          8.751012802124023,
          8.760505676269531,
          8.770002365112305,
          8.779508590698242,
          8.78898811340332,
          8.7984619140625,
          8.807910919189453,
          8.81735610961914,
          8.826796531677246,
          8.836227416992188,
          8.845653533935547,
          8.855079650878906,
          8.864483833312988,
          8.873873710632324,
          8.883262634277344,
          8.892633438110352,
          8.901997566223145,
          8.91135025024414,
          8.920703887939453,
          8.930031776428223,
          8.939375877380371,
          8.948685646057129,
          8.958000183105469,
          8.967290878295898,
          8.976566314697266,
          8.985840797424316,
          8.995096206665039,
          9.004350662231445,
          9.0136079788208,
          9.022851943969727,
          9.032085418701172,
          9.04130744934082,
          9.050527572631836,
          9.059718132019043,
          9.068914413452148,
          9.078100204467773,
          9.087273597717285,
          9.096460342407227,
          9.10561752319336,
          9.114758491516113,
          9.123893737792969
         ]
        },
        {
         "line": {
          "width": 5
         },
         "name": "Qf",
         "type": "scatter",
         "x": [
          2,
          3,
          4,
          5,
          6,
          7,
          8,
          9,
          10,
          11,
          12,
          13,
          14,
          15,
          16,
          17,
          18,
          19,
          20,
          21,
          22,
          23,
          24,
          25,
          26,
          27,
          28,
          29,
          30,
          31,
          32,
          33,
          34,
          35,
          36,
          37,
          38,
          39,
          40,
          41,
          42,
          43,
          44,
          45,
          46,
          47,
          48,
          49,
          50,
          51,
          52,
          53,
          54,
          55,
          56,
          57,
          58,
          59,
          60,
          61,
          62,
          63,
          64,
          65,
          66,
          67,
          68,
          69,
          70,
          71,
          72,
          73,
          74,
          75,
          76,
          77,
          78,
          79,
          80,
          81,
          82,
          83,
          84,
          85,
          86,
          87,
          88,
          89,
          90,
          91,
          92,
          93,
          94,
          95,
          96,
          97,
          98,
          99,
          100,
          101,
          102,
          103,
          104,
          105,
          106,
          107,
          108,
          109,
          110,
          111,
          112,
          113,
          114,
          115,
          116,
          117,
          118,
          119,
          120,
          121,
          122,
          123,
          124,
          125,
          126,
          127,
          128,
          129,
          130,
          131,
          132,
          133,
          134,
          135,
          136,
          137,
          138,
          139,
          140,
          141,
          142,
          143,
          144,
          145,
          146,
          147,
          148,
          149,
          150,
          151,
          152,
          153,
          154,
          155,
          156,
          157,
          158,
          159,
          160,
          161,
          162,
          163,
          164,
          165,
          166,
          167,
          168,
          169,
          170,
          171,
          172,
          173,
          174,
          175,
          176,
          177,
          178,
          179,
          180,
          181,
          182,
          183,
          184,
          185,
          186,
          187,
          188,
          189,
          190,
          191,
          192,
          193,
          194,
          195,
          196,
          197,
          198,
          199,
          200,
          201,
          202,
          203,
          204,
          205,
          206,
          207,
          208,
          209,
          210,
          211,
          212,
          213,
          214,
          215,
          216,
          217,
          218,
          219,
          220,
          221,
          222,
          223,
          224,
          225,
          226,
          227,
          228,
          229,
          230,
          231,
          232,
          233,
          234,
          235,
          236,
          237,
          238,
          239,
          240,
          241,
          242,
          243,
          244,
          245,
          246,
          247,
          248,
          249,
          250,
          251,
          252,
          253,
          254,
          255,
          256,
          257,
          258,
          259,
          260,
          261,
          262,
          263,
          264,
          265,
          266,
          267,
          268,
          269,
          270,
          271,
          272,
          273,
          274,
          275,
          276,
          277,
          278,
          279,
          280,
          281,
          282,
          283,
          284,
          285,
          286,
          287,
          288,
          289,
          290,
          291,
          292,
          293,
          294,
          295,
          296,
          297,
          298,
          299,
          300,
          301,
          302,
          303,
          304,
          305,
          306,
          307,
          308,
          309,
          310,
          311,
          312,
          313,
          314,
          315,
          316,
          317,
          318,
          319,
          320,
          321,
          322,
          323,
          324,
          325,
          326,
          327,
          328,
          329,
          330,
          331,
          332,
          333,
          334,
          335,
          336,
          337,
          338,
          339,
          340,
          341,
          342,
          343,
          344,
          345,
          346,
          347,
          348,
          349,
          350,
          351,
          352,
          353,
          354,
          355,
          356,
          357,
          358,
          359,
          360,
          361,
          362,
          363,
          364,
          365,
          366,
          367,
          368,
          369,
          370,
          371,
          372,
          373,
          374,
          375,
          376,
          377,
          378,
          379,
          380,
          381,
          382,
          383,
          384,
          385,
          386,
          387,
          388,
          389,
          390,
          391,
          392,
          393,
          394,
          395,
          396,
          397,
          398,
          399,
          400,
          401,
          402,
          403,
          404,
          405,
          406,
          407,
          408,
          409,
          410,
          411,
          412,
          413,
          414,
          415,
          416,
          417,
          418,
          419,
          420,
          421,
          422,
          423,
          424,
          425,
          426,
          427,
          428,
          429,
          430,
          431,
          432,
          433,
          434,
          435,
          436,
          437,
          438,
          439,
          440,
          441,
          442,
          443,
          444,
          445,
          446,
          447,
          448,
          449,
          450,
          451,
          452,
          453,
          454,
          455,
          456,
          457,
          458,
          459,
          460,
          461,
          462,
          463,
          464,
          465,
          466,
          467,
          468,
          469,
          470,
          471,
          472,
          473,
          474,
          475,
          476,
          477,
          478,
          479,
          480,
          481,
          482,
          483,
          484,
          485,
          486,
          487,
          488,
          489,
          490,
          491,
          492,
          493,
          494,
          495,
          496,
          497,
          498,
          499
         ],
         "y": []
        },
        {
         "line": {
          "width": 5
         },
         "name": "Ff",
         "type": "scatter",
         "x": [
          2,
          3,
          4,
          5,
          6,
          7,
          8,
          9,
          10,
          11,
          12,
          13,
          14,
          15,
          16,
          17,
          18,
          19,
          20,
          21,
          22,
          23,
          24,
          25,
          26,
          27,
          28,
          29,
          30,
          31,
          32,
          33,
          34,
          35,
          36,
          37,
          38,
          39,
          40,
          41,
          42,
          43,
          44,
          45,
          46,
          47,
          48,
          49,
          50,
          51,
          52,
          53,
          54,
          55,
          56,
          57,
          58,
          59,
          60,
          61,
          62,
          63,
          64,
          65,
          66,
          67,
          68,
          69,
          70,
          71,
          72,
          73,
          74,
          75,
          76,
          77,
          78,
          79,
          80,
          81,
          82,
          83,
          84,
          85,
          86,
          87,
          88,
          89,
          90,
          91,
          92,
          93,
          94,
          95,
          96,
          97,
          98,
          99,
          100,
          101,
          102,
          103,
          104,
          105,
          106,
          107,
          108,
          109,
          110,
          111,
          112,
          113,
          114,
          115,
          116,
          117,
          118,
          119,
          120,
          121,
          122,
          123,
          124,
          125,
          126,
          127,
          128,
          129,
          130,
          131,
          132,
          133,
          134,
          135,
          136,
          137,
          138,
          139,
          140,
          141,
          142,
          143,
          144,
          145,
          146,
          147,
          148,
          149,
          150,
          151,
          152,
          153,
          154,
          155,
          156,
          157,
          158,
          159,
          160,
          161,
          162,
          163,
          164,
          165,
          166,
          167,
          168,
          169,
          170,
          171,
          172,
          173,
          174,
          175,
          176,
          177,
          178,
          179,
          180,
          181,
          182,
          183,
          184,
          185,
          186,
          187,
          188,
          189,
          190,
          191,
          192,
          193,
          194,
          195,
          196,
          197,
          198,
          199,
          200,
          201,
          202,
          203,
          204,
          205,
          206,
          207,
          208,
          209,
          210,
          211,
          212,
          213,
          214,
          215,
          216,
          217,
          218,
          219,
          220,
          221,
          222,
          223,
          224,
          225,
          226,
          227,
          228,
          229,
          230,
          231,
          232,
          233,
          234,
          235,
          236,
          237,
          238,
          239,
          240,
          241,
          242,
          243,
          244,
          245,
          246,
          247,
          248,
          249,
          250,
          251,
          252,
          253,
          254,
          255,
          256,
          257,
          258,
          259,
          260,
          261,
          262,
          263,
          264,
          265,
          266,
          267,
          268,
          269,
          270,
          271,
          272,
          273,
          274,
          275,
          276,
          277,
          278,
          279,
          280,
          281,
          282,
          283,
          284,
          285,
          286,
          287,
          288,
          289,
          290,
          291,
          292,
          293,
          294,
          295,
          296,
          297,
          298,
          299,
          300,
          301,
          302,
          303,
          304,
          305,
          306,
          307,
          308,
          309,
          310,
          311,
          312,
          313,
          314,
          315,
          316,
          317,
          318,
          319,
          320,
          321,
          322,
          323,
          324,
          325,
          326,
          327,
          328,
          329,
          330,
          331,
          332,
          333,
          334,
          335,
          336,
          337,
          338,
          339,
          340,
          341,
          342,
          343,
          344,
          345,
          346,
          347,
          348,
          349,
          350,
          351,
          352,
          353,
          354,
          355,
          356,
          357,
          358,
          359,
          360,
          361,
          362,
          363,
          364,
          365,
          366,
          367,
          368,
          369,
          370,
          371,
          372,
          373,
          374,
          375,
          376,
          377,
          378,
          379,
          380,
          381,
          382,
          383,
          384,
          385,
          386,
          387,
          388,
          389,
          390,
          391,
          392,
          393,
          394,
          395,
          396,
          397,
          398,
          399,
          400,
          401,
          402,
          403,
          404,
          405,
          406,
          407,
          408,
          409,
          410,
          411,
          412,
          413,
          414,
          415,
          416,
          417,
          418,
          419,
          420,
          421,
          422,
          423,
          424,
          425,
          426,
          427,
          428,
          429,
          430,
          431,
          432,
          433,
          434,
          435,
          436,
          437,
          438,
          439,
          440,
          441,
          442,
          443,
          444,
          445,
          446,
          447,
          448,
          449,
          450,
          451,
          452,
          453,
          454,
          455,
          456,
          457,
          458,
          459,
          460,
          461,
          462,
          463,
          464,
          465,
          466,
          467,
          468,
          469,
          470,
          471,
          472,
          473,
          474,
          475,
          476,
          477,
          478,
          479,
          480,
          481,
          482,
          483,
          484,
          485,
          486,
          487,
          488,
          489,
          490,
          491,
          492,
          493,
          494,
          495,
          496,
          497,
          498,
          499
         ],
         "y": []
        },
        {
         "line": {
          "width": 5
         },
         "name": "ratio",
         "type": "scatter",
         "x": [
          2,
          3,
          4,
          5,
          6,
          7,
          8,
          9,
          10,
          11,
          12,
          13,
          14,
          15,
          16,
          17,
          18,
          19,
          20,
          21,
          22,
          23,
          24,
          25,
          26,
          27,
          28,
          29,
          30,
          31,
          32,
          33,
          34,
          35,
          36,
          37,
          38,
          39,
          40,
          41,
          42,
          43,
          44,
          45,
          46,
          47,
          48,
          49,
          50,
          51,
          52,
          53,
          54,
          55,
          56,
          57,
          58,
          59,
          60,
          61,
          62,
          63,
          64,
          65,
          66,
          67,
          68,
          69,
          70,
          71,
          72,
          73,
          74,
          75,
          76,
          77,
          78,
          79,
          80,
          81,
          82,
          83,
          84,
          85,
          86,
          87,
          88,
          89,
          90,
          91,
          92,
          93,
          94,
          95,
          96,
          97,
          98,
          99,
          100,
          101,
          102,
          103,
          104,
          105,
          106,
          107,
          108,
          109,
          110,
          111,
          112,
          113,
          114,
          115,
          116,
          117,
          118,
          119,
          120,
          121,
          122,
          123,
          124,
          125,
          126,
          127,
          128,
          129,
          130,
          131,
          132,
          133,
          134,
          135,
          136,
          137,
          138,
          139,
          140,
          141,
          142,
          143,
          144,
          145,
          146,
          147,
          148,
          149,
          150,
          151,
          152,
          153,
          154,
          155,
          156,
          157,
          158,
          159,
          160,
          161,
          162,
          163,
          164,
          165,
          166,
          167,
          168,
          169,
          170,
          171,
          172,
          173,
          174,
          175,
          176,
          177,
          178,
          179,
          180,
          181,
          182,
          183,
          184,
          185,
          186,
          187,
          188,
          189,
          190,
          191,
          192,
          193,
          194,
          195,
          196,
          197,
          198,
          199,
          200,
          201,
          202,
          203,
          204,
          205,
          206,
          207,
          208,
          209,
          210,
          211,
          212,
          213,
          214,
          215,
          216,
          217,
          218,
          219,
          220,
          221,
          222,
          223,
          224,
          225,
          226,
          227,
          228,
          229,
          230,
          231,
          232,
          233,
          234,
          235,
          236,
          237,
          238,
          239,
          240,
          241,
          242,
          243,
          244,
          245,
          246,
          247,
          248,
          249,
          250,
          251,
          252,
          253,
          254,
          255,
          256,
          257,
          258,
          259,
          260,
          261,
          262,
          263,
          264,
          265,
          266,
          267,
          268,
          269,
          270,
          271,
          272,
          273,
          274,
          275,
          276,
          277,
          278,
          279,
          280,
          281,
          282,
          283,
          284,
          285,
          286,
          287,
          288,
          289,
          290,
          291,
          292,
          293,
          294,
          295,
          296,
          297,
          298,
          299,
          300,
          301,
          302,
          303,
          304,
          305,
          306,
          307,
          308,
          309,
          310,
          311,
          312,
          313,
          314,
          315,
          316,
          317,
          318,
          319,
          320,
          321,
          322,
          323,
          324,
          325,
          326,
          327,
          328,
          329,
          330,
          331,
          332,
          333,
          334,
          335,
          336,
          337,
          338,
          339,
          340,
          341,
          342,
          343,
          344,
          345,
          346,
          347,
          348,
          349,
          350,
          351,
          352,
          353,
          354,
          355,
          356,
          357,
          358,
          359,
          360,
          361,
          362,
          363,
          364,
          365,
          366,
          367,
          368,
          369,
          370,
          371,
          372,
          373,
          374,
          375,
          376,
          377,
          378,
          379,
          380,
          381,
          382,
          383,
          384,
          385,
          386,
          387,
          388,
          389,
          390,
          391,
          392,
          393,
          394,
          395,
          396,
          397,
          398,
          399,
          400,
          401,
          402,
          403,
          404,
          405,
          406,
          407,
          408,
          409,
          410,
          411,
          412,
          413,
          414,
          415,
          416,
          417,
          418,
          419,
          420,
          421,
          422,
          423,
          424,
          425,
          426,
          427,
          428,
          429,
          430,
          431,
          432,
          433,
          434,
          435,
          436,
          437,
          438,
          439,
          440,
          441,
          442,
          443,
          444,
          445,
          446,
          447,
          448,
          449,
          450,
          451,
          452,
          453,
          454,
          455,
          456,
          457,
          458,
          459,
          460,
          461,
          462,
          463,
          464,
          465,
          466,
          467,
          468,
          469,
          470,
          471,
          472,
          473,
          474,
          475,
          476,
          477,
          478,
          479,
          480,
          481,
          482,
          483,
          484,
          485,
          486,
          487,
          488,
          489,
          490,
          491,
          492,
          493,
          494,
          495,
          496,
          497,
          498,
          499
         ],
         "y": [
          9.999999246054319,
          13.999996530621289,
          18.000001108069462,
          22.000011002448044,
          26.00000344618874,
          30.00000876266753,
          33.99998655584267,
          38.000001328172054,
          41.999995308763644,
          45.99995500981639,
          49.99997140077279,
          54.000000477164534,
          57.999956417908066,
          61.99999198562518,
          65.99995253353686,
          69.99997541973595,
          73.99987014888599,
          77.99999457593287,
          82.00016385986756,
          85.99998866147875,
          89.99999975370153,
          93.99999421609256,
          98.00023956327261,
          101.99992758923152,
          105.99995461316345,
          109.99976720881024,
          114.00028621932715,
          117.999959565249,
          121.9999837128607,
          126.0002349848774,
          130.0001639252894,
          134.0008268758674,
          137.99995167321546,
          142.00028153340818,
          145.99967807601988,
          150.0001310466113,
          153.99937630585373,
          157.99940209612052,
          162.0001154522143,
          165.9995780621703,
          169.9986518859084,
          174.00123602159027,
          178.0002131003856,
          182.00063431454677,
          185.99970126223556,
          190.00047895666765,
          193.99967109172138,
          197.99946126052254,
          202.00002235425845,
          205.99937612140062,
          209.99881706464055,
          214.00076509524047,
          218.00062529350188,
          221.9995462522458,
          226.00023076257864,
          229.9988502652215,
          234.00168645150856,
          238.00039446731202,
          241.99877762323706,
          246.00012064456368,
          249.99829426883935,
          253.9995284556218,
          257.9984832324761,
          261.9996280782854,
          266.00095609271335,
          270.0019692009353,
          273.99975613170693,
          277.9961113424037,
          282.0022977183283,
          286.00119777245544,
          290.0011881105811,
          294.0022112298048,
          297.9991327059378,
          301.9954252997913,
          305.9993121165836,
          309.99864004083327,
          313.9987019909002,
          318.00019505887957,
          322.0063411058791,
          326.0025185765398,
          329.99880637827624,
          334.00184079447774,
          338.0008707766996,
          342.00105641246347,
          345.99642746156434,
          349.9932331962587,
          353.99922065065925,
          358.006026881814,
          362.00603179689864,
          366.00059612882586,
          370.00171858230016,
          374.00214024409024,
          377.99804619644215,
          382.0007522766408,
          385.999554357134,
          389.9979256724531,
          393.99491569685915,
          398.00068617993793,
          402.00367713025383,
          406.00232012267014,
          410.0025748204069,
          414.00017382277264,
          418.00167459478826,
          422.00003729909093,
          425.9968203008185,
          429.99817952087153,
          433.9970755774837,
          437.9965706047563,
          441.99828529446665,
          445.99653469113974,
          450.00456327795723,
          454.00783843014756,
          458.0069476585273,
          461.9987418972138,
          465.99688083679797,
          469.9969286190552,
          474.00217214448946,
          478.0005727048852,
          481.9969238944241,
          486.001850574776,
          489.9999970451237,
          494.0026374727768,
          498.00668601392033,
          502.0021997355271,
          506.0065018846825,
          510.0020028382334,
          513.9962519170081,
          517.9972353200792,
          521.9964073268121,
          525.9918899550089,
          529.9926940040647,
          534.0029441610203,
          538.004223553441,
          542.0088397967456,
          546.0055953407351,
          550.0038803834643,
          554.0024540276731,
          558.0015884087105,
          561.9986850921933,
          565.9942246801496,
          570.0067979964912,
          574.0073113322529,
          578.0034913903588,
          582.0076118321927,
          586.0116547862578,
          590.0106676781662,
          594.0070236634331,
          598.0022124206595,
          602.0001001603137,
          605.9966587774845,
          609.9928815767408,
          613.9839364380855,
          617.989258986998,
          621.9982696160063,
          625.9933432306926,
          629.9974432036048,
          633.998506132677,
          638.0022632812398,
          642.0038167372383,
          646.0007806822413,
          649.9999483226579,
          653.9943808165117,
          657.9943864474077,
          661.9918812764469,
          665.9909587062597,
          669.9909844712305,
          673.9860715093271,
          677.9849946809436,
          681.9829820067464,
          685.9928095885947,
          690.0023050982512,
          694.0046898382463,
          698.0055727941259,
          702.0036949463313,
          706.0106476677697,
          710.0178890506431,
          714.0187923556259,
          718.013997490223,
          722.015495783164,
          726.0085776540564,
          730.0064940785952,
          734.0024774027107,
          738.0021805468359,
          742.0004859059405,
          745.9957029314608,
          749.9972537066345,
          753.9972104677813,
          757.9963769991201,
          761.9950885542021,
          765.9924749546375,
          769.9909640856583,
          773.9859889115688,
          778.0045791688854,
          782.0058627685129,
          786.0070333724817,
          790.0078209138717,
          794.0108404588873,
          798.0126297711341,
          802.0124147753496,
          806.0169354905069,
          810.0136690877781,
          814.0148107705971,
          818.0135007959566,
          822.014566105324,
          826.0157448416514,
          830.0112047343619,
          834.0070788912304,
          838.0066021589562,
          842.0078887228779,
          846.0048900321042,
          849.9996331883901,
          853.9970154818283,
          857.9981206046125,
          861.9932333498165,
          865.9898015349295,
          869.986302667397,
          873.9833650027877,
          877.9907219397963,
          881.988816084903,
          885.9874276540756,
          889.9918597870678,
          893.9933418049754,
          897.9918234756285,
          901.9891694372574,
          905.9854319183894,
          909.9814377870678,
          913.9785145502054,
          917.9892372491286,
          921.992127692508,
          925.9956421449294,
          929.9952817000342,
          933.9941397695685,
          937.9958508771789,
          941.996531451738,
          945.9958048121166,
          949.9963737407169,
          953.9954860334317,
          957.9936863900248,
          961.9904424534019,
          965.9974140441768,
          970.0057634259172,
          974.0096488281935,
          978.0106195874865,
          982.0124422331015,
          986.0126810737044,
          990.0122521272539,
          994.0124555161461,
          998.015555402404,
          1002.014888460528,
          1006.0117381626837,
          1010.0167554092916,
          1014.0193962366192,
          1018.0156695156695,
          1022.014246756964,
          1026.0100249785767,
          1030.0091813750662,
          1034.0070489631603,
          1038.0053966978996,
          1042.004198046783,
          1046.0012325144596,
          1049.997973666313,
          1053.9951462793515,
          1057.9916563877887,
          1061.9921159673775,
          1065.9921615383064,
          1069.9896993148302,
          1073.9839122423218,
          1077.9807364016951,
          1081.9796826789184,
          1085.9745765607317,
          1089.971375285484,
          1093.9665761756785,
          1097.9805676392434,
          1101.9839535521785,
          1105.9878246107846,
          1109.9915223820403,
          1113.9939152730929,
          1117.9915263591934,
          1121.988907036525,
          1125.9864079769163,
          1129.9853314611403,
          1133.986502203225,
          1137.9891967711774,
          1141.9869716382864,
          1145.9990783625105,
          1149.9982031949294,
          1153.9951151625394,
          1157.9942997115531,
          1161.9947604465729,
          1165.996229872042,
          1169.997869773152,
          1173.9949136935527,
          1177.9917930242952,
          1181.9903088588364,
          1185.9952505649526,
          1189.994597362959,
          1193.9982831243892,
          1198.0011310205432,
          1201.9997695641082,
          1205.9992168769804,
          1210.0000780350583,
          1213.9953617045155,
          1217.9948317099568,
          1221.992308594443,
          1225.9903479814416,
          1229.9925094890264,
          1233.9890520101007,
          1237.993267220953,
          1241.9941669441787,
          1245.9977286238202,
          1249.9946095576486,
          1253.9933289126802,
          1257.981001030398,
          1261.9802582711363,
          1265.9776697224,
          1269.9755051271113,
          1273.972897816346,
          1277.969471915817,
          1281.9684829170308,
          1285.9653645724768,
          1289.9634574586848,
          1293.962276819908,
          1297.9822351605276,
          1301.9920418552604,
          1305.9941872949694,
          1309.998580858107,
          1314.003748297239,
          1318.006620031783,
          1322.0085724262594,
          1326.0109899528202,
          1330.0135612675767,
          1334.0137544174192,
          1338.014616317514,
          1342.0151957317069,
          1346.0141463249704,
          1350.0163763314981,
          1354.0185361674162,
          1358.0186246021458,
          1362.019031086674,
          1366.0207758963145,
          1370.0261385709691,
          1374.02758380511,
          1378.0281548042256,
          1382.0267018767174,
          1386.0292846232228,
          1390.0280238554597,
          1394.0275004548705,
          1398.0271351858476,
          1402.0273506272097,
          1406.0256746535267,
          1410.025847491501,
          1414.0297054128223,
          1418.0308759526872,
          1422.0317802119978,
          1426.0309509268945,
          1430.0315351353922,
          1434.0294165855503,
          1438.0268100531355,
          1442.0257390756572,
          1446.0243160272632,
          1450.0204421561482,
          1454.0181761652634,
          1458.0189745723796,
          1462.0175130826367,
          1466.0179730033387,
          1470.0163003894443,
          1474.0154878597953,
          1478.011804635327,
          1482.0102268649903,
          1486.0080496746261,
          1490.0050342486375,
          1494.0008490154612,
          1498.0008906133003,
          1501.9998548564852,
          1505.9959699252283,
          1509.9968130345887,
          1513.9928798600201,
          1517.9886909854647,
          1521.9850273619759,
          1525.9844351401084,
          1529.98301839275,
          1533.9794223004205,
          1537.977140127362,
          1541.976472609418,
          1545.9728538852908,
          1549.9772069501037,
          1553.979207184119,
          1557.9805247446106,
          1561.9789607176099,
          1565.979643065351,
          1569.9772250113135,
          1573.9745019618179,
          1577.973961309732,
          1581.9742637040044,
          1585.9723445864065,
          1589.9710645852301,
          1593.9711912481496,
          1597.9721884624767,
          1601.9696578488943,
          1605.9687800521929,
          1609.966205405058,
          1613.9648297510578,
          1617.961976615736,
          1621.964174417245,
          1625.9606229723697,
          1629.9571466312013,
          1633.9561702769968,
          1637.955878681091,
          1641.953333792204,
          1645.9498719894077,
          1649.9456516350986,
          1653.9438197252089,
          1657.939672976203,
          1661.9419089038963,
          1665.9374840042726,
          1669.935408137986,
          1673.9522495995184,
          1677.965673000366,
          1681.9735745930052,
          1685.978595196714,
          1689.983855971821,
          1693.9874107148432,
          1697.9900806536464,
          1701.99334201556,
          1705.9949003818945,
          1709.9973535217684,
          1713.9994061848188,
          1718.0018082287822,
          1722.003957677886,
          1726.0065677245852,
          1730.009540630803,
          1734.0125845607217,
          1738.0105725470155,
          1742.0113374920481,
          1746.0112410858244,
          1750.0143536117002,
          1754.0201290913328,
          1758.0221946222557,
          1762.0250628976598,
          1766.0259710689406,
          1770.0257975603026,
          1774.0226482755224,
          1778.023672530876,
          1782.0233776617292,
          1786.0226777474727,
          1790.0234497050483,
          1794.0243285126874,
          1798.024451946724,
          1802.02213240747,
          1806.0230221496722,
          1810.0208128363504,
          1814.0166507771808,
          1818.019785624144,
          1822.0157580151697,
          1826.017024569676,
          1830.016534355707,
          1834.0285901963846,
          1838.0361334257182,
          1842.041480260952,
          1846.0437002379508,
          1850.0413700569911,
          1854.0429139916766,
          1858.0434812769677,
          1862.047225979356,
          1866.0495098893882,
          1870.0506555676168,
          1874.051684450285,
          1878.0515974616565,
          1882.0496117271914,
          1886.0497391901204,
          1890.0510381001213,
          1894.0504574667175,
          1898.05144884468,
          1902.052025294338,
          1906.0527786779176,
          1910.0510692924424,
          1914.053064471465,
          1918.0495652957798,
          1922.051205232402,
          1926.0496072454548,
          1930.051150678632,
          1934.0540083878948,
          1938.0546766688562,
          1942.0577270542265,
          1946.0588276786941,
          1950.0573772096207,
          1954.056674318312,
          1958.0561142066988,
          1962.0561333381431,
          1966.0542418330722,
          1970.056893179785,
          1974.0562165240751,
          1978.055962142552,
          1982.0563436952607,
          1986.0519684263388,
          1990.0517833599988,
          1994.0531081451386,
          1998.053662260732
         ]
        }
       ],
       "layout": {
        "font": {
         "size": 20
        },
        "height": 600,
        "legend": {
         "x": 0.99,
         "xanchor": "right",
         "y": 0.99,
         "yanchor": "top"
        },
        "margin": {
         "r": 10,
         "t": 100
        },
        "showlegend": true,
        "template": {
         "data": {
          "bar": [
           {
            "error_x": {
             "color": "#2a3f5f"
            },
            "error_y": {
             "color": "#2a3f5f"
            },
            "marker": {
             "line": {
              "color": "#E5ECF6",
              "width": 0.5
             },
             "pattern": {
              "fillmode": "overlay",
              "size": 10,
              "solidity": 0.2
             }
            },
            "type": "bar"
           }
          ],
          "barpolar": [
           {
            "marker": {
             "line": {
              "color": "#E5ECF6",
              "width": 0.5
             },
             "pattern": {
              "fillmode": "overlay",
              "size": 10,
              "solidity": 0.2
             }
            },
            "type": "barpolar"
           }
          ],
          "carpet": [
           {
            "aaxis": {
             "endlinecolor": "#2a3f5f",
             "gridcolor": "white",
             "linecolor": "white",
             "minorgridcolor": "white",
             "startlinecolor": "#2a3f5f"
            },
            "baxis": {
             "endlinecolor": "#2a3f5f",
             "gridcolor": "white",
             "linecolor": "white",
             "minorgridcolor": "white",
             "startlinecolor": "#2a3f5f"
            },
            "type": "carpet"
           }
          ],
          "choropleth": [
           {
            "colorbar": {
             "outlinewidth": 0,
             "ticks": ""
            },
            "type": "choropleth"
           }
          ],
          "contour": [
           {
            "colorbar": {
             "outlinewidth": 0,
             "ticks": ""
            },
            "colorscale": [
             [
              0,
              "#0d0887"
             ],
             [
              0.1111111111111111,
              "#46039f"
             ],
             [
              0.2222222222222222,
              "#7201a8"
             ],
             [
              0.3333333333333333,
              "#9c179e"
             ],
             [
              0.4444444444444444,
              "#bd3786"
             ],
             [
              0.5555555555555556,
              "#d8576b"
             ],
             [
              0.6666666666666666,
              "#ed7953"
             ],
             [
              0.7777777777777778,
              "#fb9f3a"
             ],
             [
              0.8888888888888888,
              "#fdca26"
             ],
             [
              1,
              "#f0f921"
             ]
            ],
            "type": "contour"
           }
          ],
          "contourcarpet": [
           {
            "colorbar": {
             "outlinewidth": 0,
             "ticks": ""
            },
            "type": "contourcarpet"
           }
          ],
          "heatmap": [
           {
            "colorbar": {
             "outlinewidth": 0,
             "ticks": ""
            },
            "colorscale": [
             [
              0,
              "#0d0887"
             ],
             [
              0.1111111111111111,
              "#46039f"
             ],
             [
              0.2222222222222222,
              "#7201a8"
             ],
             [
              0.3333333333333333,
              "#9c179e"
             ],
             [
              0.4444444444444444,
              "#bd3786"
             ],
             [
              0.5555555555555556,
              "#d8576b"
             ],
             [
              0.6666666666666666,
              "#ed7953"
             ],
             [
              0.7777777777777778,
              "#fb9f3a"
             ],
             [
              0.8888888888888888,
              "#fdca26"
             ],
             [
              1,
              "#f0f921"
             ]
            ],
            "type": "heatmap"
           }
          ],
          "heatmapgl": [
           {
            "colorbar": {
             "outlinewidth": 0,
             "ticks": ""
            },
            "colorscale": [
             [
              0,
              "#0d0887"
             ],
             [
              0.1111111111111111,
              "#46039f"
             ],
             [
              0.2222222222222222,
              "#7201a8"
             ],
             [
              0.3333333333333333,
              "#9c179e"
             ],
             [
              0.4444444444444444,
              "#bd3786"
             ],
             [
              0.5555555555555556,
              "#d8576b"
             ],
             [
              0.6666666666666666,
              "#ed7953"
             ],
             [
              0.7777777777777778,
              "#fb9f3a"
             ],
             [
              0.8888888888888888,
              "#fdca26"
             ],
             [
              1,
              "#f0f921"
             ]
            ],
            "type": "heatmapgl"
           }
          ],
          "histogram": [
           {
            "marker": {
             "pattern": {
              "fillmode": "overlay",
              "size": 10,
              "solidity": 0.2
             }
            },
            "type": "histogram"
           }
          ],
          "histogram2d": [
           {
            "colorbar": {
             "outlinewidth": 0,
             "ticks": ""
            },
            "colorscale": [
             [
              0,
              "#0d0887"
             ],
             [
              0.1111111111111111,
              "#46039f"
             ],
             [
              0.2222222222222222,
              "#7201a8"
             ],
             [
              0.3333333333333333,
              "#9c179e"
             ],
             [
              0.4444444444444444,
              "#bd3786"
             ],
             [
              0.5555555555555556,
              "#d8576b"
             ],
             [
              0.6666666666666666,
              "#ed7953"
             ],
             [
              0.7777777777777778,
              "#fb9f3a"
             ],
             [
              0.8888888888888888,
              "#fdca26"
             ],
             [
              1,
              "#f0f921"
             ]
            ],
            "type": "histogram2d"
           }
          ],
          "histogram2dcontour": [
           {
            "colorbar": {
             "outlinewidth": 0,
             "ticks": ""
            },
            "colorscale": [
             [
              0,
              "#0d0887"
             ],
             [
              0.1111111111111111,
              "#46039f"
             ],
             [
              0.2222222222222222,
              "#7201a8"
             ],
             [
              0.3333333333333333,
              "#9c179e"
             ],
             [
              0.4444444444444444,
              "#bd3786"
             ],
             [
              0.5555555555555556,
              "#d8576b"
             ],
             [
              0.6666666666666666,
              "#ed7953"
             ],
             [
              0.7777777777777778,
              "#fb9f3a"
             ],
             [
              0.8888888888888888,
              "#fdca26"
             ],
             [
              1,
              "#f0f921"
             ]
            ],
            "type": "histogram2dcontour"
           }
          ],
          "mesh3d": [
           {
            "colorbar": {
             "outlinewidth": 0,
             "ticks": ""
            },
            "type": "mesh3d"
           }
          ],
          "parcoords": [
           {
            "line": {
             "colorbar": {
              "outlinewidth": 0,
              "ticks": ""
             }
            },
            "type": "parcoords"
           }
          ],
          "pie": [
           {
            "automargin": true,
            "type": "pie"
           }
          ],
          "scatter": [
           {
            "fillpattern": {
             "fillmode": "overlay",
             "size": 10,
             "solidity": 0.2
            },
            "type": "scatter"
           }
          ],
          "scatter3d": [
           {
            "line": {
             "colorbar": {
              "outlinewidth": 0,
              "ticks": ""
             }
            },
            "marker": {
             "colorbar": {
              "outlinewidth": 0,
              "ticks": ""
             }
            },
            "type": "scatter3d"
           }
          ],
          "scattercarpet": [
           {
            "marker": {
             "colorbar": {
              "outlinewidth": 0,
              "ticks": ""
             }
            },
            "type": "scattercarpet"
           }
          ],
          "scattergeo": [
           {
            "marker": {
             "colorbar": {
              "outlinewidth": 0,
              "ticks": ""
             }
            },
            "type": "scattergeo"
           }
          ],
          "scattergl": [
           {
            "marker": {
             "colorbar": {
              "outlinewidth": 0,
              "ticks": ""
             }
            },
            "type": "scattergl"
           }
          ],
          "scattermapbox": [
           {
            "marker": {
             "colorbar": {
              "outlinewidth": 0,
              "ticks": ""
             }
            },
            "type": "scattermapbox"
           }
          ],
          "scatterpolar": [
           {
            "marker": {
             "colorbar": {
              "outlinewidth": 0,
              "ticks": ""
             }
            },
            "type": "scatterpolar"
           }
          ],
          "scatterpolargl": [
           {
            "marker": {
             "colorbar": {
              "outlinewidth": 0,
              "ticks": ""
             }
            },
            "type": "scatterpolargl"
           }
          ],
          "scatterternary": [
           {
            "marker": {
             "colorbar": {
              "outlinewidth": 0,
              "ticks": ""
             }
            },
            "type": "scatterternary"
           }
          ],
          "surface": [
           {
            "colorbar": {
             "outlinewidth": 0,
             "ticks": ""
            },
            "colorscale": [
             [
              0,
              "#0d0887"
             ],
             [
              0.1111111111111111,
              "#46039f"
             ],
             [
              0.2222222222222222,
              "#7201a8"
             ],
             [
              0.3333333333333333,
              "#9c179e"
             ],
             [
              0.4444444444444444,
              "#bd3786"
             ],
             [
              0.5555555555555556,
              "#d8576b"
             ],
             [
              0.6666666666666666,
              "#ed7953"
             ],
             [
              0.7777777777777778,
              "#fb9f3a"
             ],
             [
              0.8888888888888888,
              "#fdca26"
             ],
             [
              1,
              "#f0f921"
             ]
            ],
            "type": "surface"
           }
          ],
          "table": [
           {
            "cells": {
             "fill": {
              "color": "#EBF0F8"
             },
             "line": {
              "color": "white"
             }
            },
            "header": {
             "fill": {
              "color": "#C8D4E3"
             },
             "line": {
              "color": "white"
             }
            },
            "type": "table"
           }
          ]
         },
         "layout": {
          "annotationdefaults": {
           "arrowcolor": "#2a3f5f",
           "arrowhead": 0,
           "arrowwidth": 1
          },
          "autotypenumbers": "strict",
          "coloraxis": {
           "colorbar": {
            "outlinewidth": 0,
            "ticks": ""
           }
          },
          "colorscale": {
           "diverging": [
            [
             0,
             "#8e0152"
            ],
            [
             0.1,
             "#c51b7d"
            ],
            [
             0.2,
             "#de77ae"
            ],
            [
             0.3,
             "#f1b6da"
            ],
            [
             0.4,
             "#fde0ef"
            ],
            [
             0.5,
             "#f7f7f7"
            ],
            [
             0.6,
             "#e6f5d0"
            ],
            [
             0.7,
             "#b8e186"
            ],
            [
             0.8,
             "#7fbc41"
            ],
            [
             0.9,
             "#4d9221"
            ],
            [
             1,
             "#276419"
            ]
           ],
           "sequential": [
            [
             0,
             "#0d0887"
            ],
            [
             0.1111111111111111,
             "#46039f"
            ],
            [
             0.2222222222222222,
             "#7201a8"
            ],
            [
             0.3333333333333333,
             "#9c179e"
            ],
            [
             0.4444444444444444,
             "#bd3786"
            ],
            [
             0.5555555555555556,
             "#d8576b"
            ],
            [
             0.6666666666666666,
             "#ed7953"
            ],
            [
             0.7777777777777778,
             "#fb9f3a"
            ],
            [
             0.8888888888888888,
             "#fdca26"
            ],
            [
             1,
             "#f0f921"
            ]
           ],
           "sequentialminus": [
            [
             0,
             "#0d0887"
            ],
            [
             0.1111111111111111,
             "#46039f"
            ],
            [
             0.2222222222222222,
             "#7201a8"
            ],
            [
             0.3333333333333333,
             "#9c179e"
            ],
            [
             0.4444444444444444,
             "#bd3786"
            ],
            [
             0.5555555555555556,
             "#d8576b"
            ],
            [
             0.6666666666666666,
             "#ed7953"
            ],
            [
             0.7777777777777778,
             "#fb9f3a"
            ],
            [
             0.8888888888888888,
             "#fdca26"
            ],
            [
             1,
             "#f0f921"
            ]
           ]
          },
          "colorway": [
           "#636efa",
           "#EF553B",
           "#00cc96",
           "#ab63fa",
           "#FFA15A",
           "#19d3f3",
           "#FF6692",
           "#B6E880",
           "#FF97FF",
           "#FECB52"
          ],
          "font": {
           "color": "#2a3f5f"
          },
          "geo": {
           "bgcolor": "white",
           "lakecolor": "white",
           "landcolor": "#E5ECF6",
           "showlakes": true,
           "showland": true,
           "subunitcolor": "white"
          },
          "hoverlabel": {
           "align": "left"
          },
          "hovermode": "closest",
          "mapbox": {
           "style": "light"
          },
          "paper_bgcolor": "white",
          "plot_bgcolor": "#E5ECF6",
          "polar": {
           "angularaxis": {
            "gridcolor": "white",
            "linecolor": "white",
            "ticks": ""
           },
           "bgcolor": "#E5ECF6",
           "radialaxis": {
            "gridcolor": "white",
            "linecolor": "white",
            "ticks": ""
           }
          },
          "scene": {
           "xaxis": {
            "backgroundcolor": "#E5ECF6",
            "gridcolor": "white",
            "gridwidth": 2,
            "linecolor": "white",
            "showbackground": true,
            "ticks": "",
            "zerolinecolor": "white"
           },
           "yaxis": {
            "backgroundcolor": "#E5ECF6",
            "gridcolor": "white",
            "gridwidth": 2,
            "linecolor": "white",
            "showbackground": true,
            "ticks": "",
            "zerolinecolor": "white"
           },
           "zaxis": {
            "backgroundcolor": "#E5ECF6",
            "gridcolor": "white",
            "gridwidth": 2,
            "linecolor": "white",
            "showbackground": true,
            "ticks": "",
            "zerolinecolor": "white"
           }
          },
          "shapedefaults": {
           "line": {
            "color": "#2a3f5f"
           }
          },
          "ternary": {
           "aaxis": {
            "gridcolor": "white",
            "linecolor": "white",
            "ticks": ""
           },
           "baxis": {
            "gridcolor": "white",
            "linecolor": "white",
            "ticks": ""
           },
           "bgcolor": "#E5ECF6",
           "caxis": {
            "gridcolor": "white",
            "linecolor": "white",
            "ticks": ""
           }
          },
          "title": {
           "x": 0.05
          },
          "xaxis": {
           "automargin": true,
           "gridcolor": "white",
           "linecolor": "white",
           "ticks": "",
           "title": {
            "standoff": 15
           },
           "zerolinecolor": "white",
           "zerolinewidth": 2
          },
          "yaxis": {
           "automargin": true,
           "gridcolor": "white",
           "linecolor": "white",
           "ticks": "",
           "title": {
            "standoff": 15
           },
           "zerolinecolor": "white",
           "zerolinewidth": 2
          }
         }
        },
        "title": {
         "text": "Operator Norm"
        },
        "width": 800,
        "xaxis": {
         "title": {
          "text": "n"
         }
        }
       }
      },
      "text/html": [
       "<div>                            <div id=\"c78507d3-9a00-43b0-8e55-952e652341d5\" class=\"plotly-graph-div\" style=\"height:600px; width:800px;\"></div>            <script type=\"text/javascript\">                require([\"plotly\"], function(Plotly) {                    window.PLOTLYENV=window.PLOTLYENV || {};                                    if (document.getElementById(\"c78507d3-9a00-43b0-8e55-952e652341d5\")) {                    Plotly.newPlot(                        \"c78507d3-9a00-43b0-8e55-952e652341d5\",                        [{\"line\":{\"width\":5},\"name\":\"Qq\",\"x\":[2,3,4,5,6,7,8,9,10,11,12,13,14,15,16,17,18,19,20,21,22,23,24,25,26,27,28,29,30,31,32,33,34,35,36,37,38,39,40,41,42,43,44,45,46,47,48,49,50,51,52,53,54,55,56,57,58,59,60,61,62,63,64,65,66,67,68,69,70,71,72,73,74,75,76,77,78,79,80,81,82,83,84,85,86,87,88,89,90,91,92,93,94,95,96,97,98,99,100,101,102,103,104,105,106,107,108,109,110,111,112,113,114,115,116,117,118,119,120,121,122,123,124,125,126,127,128,129,130,131,132,133,134,135,136,137,138,139,140,141,142,143,144,145,146,147,148,149,150,151,152,153,154,155,156,157,158,159,160,161,162,163,164,165,166,167,168,169,170,171,172,173,174,175,176,177,178,179,180,181,182,183,184,185,186,187,188,189,190,191,192,193,194,195,196,197,198,199,200,201,202,203,204,205,206,207,208,209,210,211,212,213,214,215,216,217,218,219,220,221,222,223,224,225,226,227,228,229,230,231,232,233,234,235,236,237,238,239,240,241,242,243,244,245,246,247,248,249,250,251,252,253,254,255,256,257,258,259,260,261,262,263,264,265,266,267,268,269,270,271,272,273,274,275,276,277,278,279,280,281,282,283,284,285,286,287,288,289,290,291,292,293,294,295,296,297,298,299,300,301,302,303,304,305,306,307,308,309,310,311,312,313,314,315,316,317,318,319,320,321,322,323,324,325,326,327,328,329,330,331,332,333,334,335,336,337,338,339,340,341,342,343,344,345,346,347,348,349,350,351,352,353,354,355,356,357,358,359,360,361,362,363,364,365,366,367,368,369,370,371,372,373,374,375,376,377,378,379,380,381,382,383,384,385,386,387,388,389,390,391,392,393,394,395,396,397,398,399,400,401,402,403,404,405,406,407,408,409,410,411,412,413,414,415,416,417,418,419,420,421,422,423,424,425,426,427,428,429,430,431,432,433,434,435,436,437,438,439,440,441,442,443,444,445,446,447,448,449,450,451,452,453,454,455,456,457,458,459,460,461,462,463,464,465,466,467,468,469,470,471,472,473,474,475,476,477,478,479,480,481,482,483,484,485,486,487,488,489,490,491,492,493,494,495,496,497,498,499],\"y\":[6.324555397033691,10.58300495147705,15.491933822631836,20.976177215576172,26.981475830078125,33.466400146484375,40.39801788330078,47.74934387207031,55.49774932861328,63.62389373779297,72.11102294921875,80.94442749023438,90.11104583740234,99.59919738769531,109.39835357666016,119.49895477294922,129.8922576904297,140.5702667236328,151.52557373046875,162.7513427734375,174.2412109375,185.98924255371094,197.98989868164062,210.2379608154297,222.72853088378906,235.45700073242188,248.41900634765625,261.61041259765625,275.02728271484375,288.6658935546875,302.5227355957031,316.5943908691406,330.87762451171875,345.3693542480469,360.066650390625,374.9666748046875,390.066650390625,405.3640441894531,420.85626220703125,436.54095458984375,452.4157409667969,468.4783935546875,484.7267150878906,501.1586608886719,517.7721557617188,534.5652465820312,551.5360107421875,568.6826782226562,586.00341796875,603.4964599609375,621.1602172851562,638.9929809570312,656.9931640625,675.1592407226562,693.48974609375,711.983154296875,730.6380615234375,749.453125,768.4269409179688,787.5582275390625,806.845703125,826.2880859375,845.8841552734375,865.6326904296875,885.5325927734375,905.5827026367188,925.7818603515625,946.1289672851562,966.6229858398438,987.2628784179688,1008.047607421875,1028.9761962890625,1050.047607421875,1071.260986328125,1092.615234375,1114.1094970703125,1135.742919921875,1157.5145263671875,1179.423583984375,1201.4691162109375,1223.6502685546875,1245.96630859375,1268.4163818359375,1290.9996337890625,1313.71533203125,1336.562744140625,1359.5411376953125,1382.649658203125,1405.8875732421875,1429.25439453125,1452.7491455078125,1476.3712158203125,1500.1199951171875,1523.9947509765625,1547.994873046875,1572.11962890625,1596.368408203125,1620.7406005859375,1645.235595703125,1669.8526611328125,1694.5914306640625,1719.4510498046875,1744.43115234375,1769.531005859375,1794.7501220703125,1820.087890625,1845.5438232421875,1871.1173095703125,1896.807861328125,1922.6148681640625,1948.5379638671875,1974.576416015625,2000.7298583984375,2026.997802734375,2053.379638671875,2079.875,2106.4833984375,2133.2041015625,2160.037109375,2186.9814453125,2214.037109375,2241.203369140625,2268.479736328125,2295.865966796875,2323.361328125,2350.9658203125,2378.6787109375,2406.49951171875,2434.427978515625,2462.4638671875,2490.6064453125,2518.855224609375,2547.210205078125,2575.6708984375,2604.236572265625,2632.9072265625,2661.68212890625,2690.561279296875,2719.544189453125,2748.630126953125,2777.8193359375,2807.111083984375,2836.5048828125,2866.000732421875,2895.59814453125,2925.296630859375,2955.095947265625,2984.995849609375,3014.995849609375,3045.095703125,3075.295166015625,3105.59375,3135.990966796875,3166.487060546875,3197.0810546875,3227.773193359375,3258.56298828125,3289.44970703125,3320.43359375,3351.514404296875,3382.691162109375,3413.96435546875,3445.3330078125,3476.79736328125,3508.35693359375,3540.01123046875,3571.76025390625,3603.603759765625,3635.541259765625,3667.572509765625,3699.697265625,3731.915283203125,3764.226318359375,3796.630126953125,3829.126220703125,3861.714599609375,3894.39501953125,3927.1669921875,3960.0302734375,3992.98486328125,4026.0302734375,4059.16650390625,4092.392822265625,4125.70947265625,4159.1162109375,4192.61279296875,4226.1982421875,4259.873046875,4293.63720703125,4327.48974609375,4361.43115234375,4395.46044921875,4429.57763671875,4463.783203125,4498.076171875,4532.4560546875,4566.923828125,4601.47802734375,4636.119140625,4670.8466796875,4705.66064453125,4740.560546875,4775.5458984375,4810.6171875,4845.7744140625,4881.01611328125,4916.34326171875,4951.75537109375,4987.251953125,5022.83251953125,5058.49755859375,5094.2470703125,5130.080078125,5165.99658203125,5201.99658203125,5238.07958984375,5274.24609375,5310.4951171875,5346.8271484375,5383.2412109375,5419.73779296875,5456.31689453125,5492.9775390625,5529.7197265625,5566.54345703125,5603.44873046875,5640.435546875,5677.5029296875,5714.6513671875,5751.88037109375,5789.18994140625,5826.57958984375,5864.0498046875,5901.599609375,5939.2294921875,5976.93896484375,6014.72802734375,6052.59619140625,6090.54345703125,6128.56982421875,6166.6748046875,6204.85888671875,6243.12109375,6281.46142578125,6319.88037109375,6358.376953125,6396.95166015625,6435.60400390625,6474.333984375,6513.14111328125,6552.02587890625,6590.9873046875,6630.02587890625,6669.14111328125,6708.33251953125,6747.60107421875,6786.94580078125,6826.36669921875,6865.86328125,6905.43603515625,6945.08447265625,6984.80859375,7024.6083984375,7064.48291015625,7104.43310546875,7144.4580078125,7184.55810546875,7224.732421875,7264.98193359375,7305.3056640625,7345.70361328125,7386.17578125,7426.72216796875,7467.34228515625,7508.0361328125,7548.8037109375,7589.64501953125,7630.5595703125,7671.54736328125,7712.6083984375,7753.7421875,7794.94921875,7836.228515625,7877.5810546875,7919.00537109375,7960.50244140625,8002.07177734375,8043.712890625,8085.42626953125,8127.21142578125,8169.068359375,8210.9970703125,8252.9970703125,8295.068359375,8337.2109375,8379.4248046875,8421.7099609375,8464.0654296875,8506.4912109375,8548.98828125,8591.556640625,8634.1943359375,8676.90234375,8719.681640625,8762.529296875,8805.4482421875,8848.4365234375,8891.4951171875,8934.6220703125,8977.8193359375,9021.0859375,9064.421875,9107.8271484375,9151.3017578125,9194.8447265625,9238.4560546875,9282.1376953125,9325.88671875,9369.7041015625,9413.58984375,9457.544921875,9501.5673828125,9545.6591796875,9589.8173828125,9634.044921875,9678.3388671875,9722.701171875,9767.130859375,9811.6279296875,9856.1923828125,9900.82421875,9945.5234375,9990.2890625,10035.1220703125,10080.0224609375,10124.98828125,10170.0224609375,10215.1220703125,10260.2880859375,10305.521484375,10350.8203125,10396.185546875,10441.6171875,10487.1142578125,10532.677734375,10578.3056640625,10624.0009765625,10669.76171875,10715.5869140625,10761.4775390625,10807.4345703125,10853.45703125,10899.54296875,10945.6953125,10991.912109375,11038.1943359375,11084.5400390625,11130.951171875,11177.4267578125,11223.9677734375,11270.572265625,11317.2412109375,11363.974609375,11410.7724609375,11457.6337890625,11504.5595703125,11551.5478515625,11598.6015625,11645.71875,11692.8984375,11740.1435546875,11787.44921875,11834.8193359375,11882.25390625,11929.7509765625,11977.3115234375,12024.935546875,12072.6220703125,12120.3720703125,12168.1845703125,12216.0595703125,12263.9970703125,12311.9970703125,12360.0595703125,12408.1845703125,12456.37109375,12504.6201171875,12552.931640625,12601.3056640625,12649.740234375,12698.23828125,12746.796875,12795.41796875,12844.1025390625,12892.8466796875,12941.65234375,12990.51953125,13039.4482421875,13088.4375,13137.48828125,13186.6005859375,13235.7734375,13285.0078125,13334.3046875,13383.66015625,13433.0771484375,13482.5537109375,13532.091796875,13581.6904296875,13631.349609375,13681.0673828125,13730.84765625,13780.6875,13830.587890625,13880.5478515625,13930.5693359375,13980.6484375,14030.7880859375,14080.98828125,14131.2470703125,14181.56640625,14231.9443359375,14282.3828125,14332.8779296875,14383.4345703125,14434.0517578125,14484.7265625,14535.4619140625,14586.255859375,14637.109375,14688.021484375,14738.9912109375,14790.01953125,14841.1083984375,14892.2548828125,14943.4619140625,14994.724609375,15046.046875,15097.4287109375,15148.8681640625,15200.3642578125,15251.9208984375,15303.53515625,15355.20703125,15406.9375,15458.7255859375,15510.5712890625,15562.4755859375,15614.4375,15666.4560546875,15718.533203125,15770.6650390625,15822.857421875,15875.107421875,15927.4140625,15979.7783203125,16032.19921875,16084.677734375,16137.21484375,16189.8076171875,16242.4541015625,16295.1611328125,16347.9248046875,16400.74609375,16453.623046875,16506.556640625,16559.546875,16612.59375,16665.69921875,16718.857421875,16772.07421875,16825.34765625,16878.67578125,16932.0625,16985.50390625,17039.0,17092.5546875,17146.166015625,17199.83203125,17253.552734375,17307.330078125,17361.1640625,17415.05078125,17468.99609375,17522.99609375,17577.052734375,17631.1640625,17685.330078125,17739.552734375,17793.828125,17848.16015625,17902.546875,17956.990234375,18011.48828125,18066.04296875,18120.650390625,18175.3125,18230.029296875],\"type\":\"scatter\"},{\"line\":{\"width\":5},\"name\":\"Fq\",\"x\":[2,3,4,5,6,7,8,9,10,11,12,13,14,15,16,17,18,19,20,21,22,23,24,25,26,27,28,29,30,31,32,33,34,35,36,37,38,39,40,41,42,43,44,45,46,47,48,49,50,51,52,53,54,55,56,57,58,59,60,61,62,63,64,65,66,67,68,69,70,71,72,73,74,75,76,77,78,79,80,81,82,83,84,85,86,87,88,89,90,91,92,93,94,95,96,97,98,99,100,101,102,103,104,105,106,107,108,109,110,111,112,113,114,115,116,117,118,119,120,121,122,123,124,125,126,127,128,129,130,131,132,133,134,135,136,137,138,139,140,141,142,143,144,145,146,147,148,149,150,151,152,153,154,155,156,157,158,159,160,161,162,163,164,165,166,167,168,169,170,171,172,173,174,175,176,177,178,179,180,181,182,183,184,185,186,187,188,189,190,191,192,193,194,195,196,197,198,199,200,201,202,203,204,205,206,207,208,209,210,211,212,213,214,215,216,217,218,219,220,221,222,223,224,225,226,227,228,229,230,231,232,233,234,235,236,237,238,239,240,241,242,243,244,245,246,247,248,249,250,251,252,253,254,255,256,257,258,259,260,261,262,263,264,265,266,267,268,269,270,271,272,273,274,275,276,277,278,279,280,281,282,283,284,285,286,287,288,289,290,291,292,293,294,295,296,297,298,299,300,301,302,303,304,305,306,307,308,309,310,311,312,313,314,315,316,317,318,319,320,321,322,323,324,325,326,327,328,329,330,331,332,333,334,335,336,337,338,339,340,341,342,343,344,345,346,347,348,349,350,351,352,353,354,355,356,357,358,359,360,361,362,363,364,365,366,367,368,369,370,371,372,373,374,375,376,377,378,379,380,381,382,383,384,385,386,387,388,389,390,391,392,393,394,395,396,397,398,399,400,401,402,403,404,405,406,407,408,409,410,411,412,413,414,415,416,417,418,419,420,421,422,423,424,425,426,427,428,429,430,431,432,433,434,435,436,437,438,439,440,441,442,443,444,445,446,447,448,449,450,451,452,453,454,455,456,457,458,459,460,461,462,463,464,465,466,467,468,469,470,471,472,473,474,475,476,477,478,479,480,481,482,483,484,485,486,487,488,489,490,491,492,493,494,495,496,497,498,499],\"y\":[0.632455587387085,0.7559291124343872,0.8606629371643066,0.9534621238708496,1.03774893283844,1.1155463457107544,1.188177466392517,1.2565616369247437,1.3213751316070557,1.3831294775009155,1.4422212839126587,1.498970866203308,1.5536398887634277,1.6064388751983643,1.6575520038604736,1.7071285247802734,1.7553038597106934,1.8021830320358276,1.8478691577911377,1.8924577236175537,1.9360134601593018,1.9786090850830078,2.0203001499176025,2.0611579418182373,2.1012134552001953,2.1405227184295654,2.1791086196899414,2.217038154602051,2.2543222904205322,2.290994882583618,2.3270950317382812,2.3626301288604736,2.397664785385132,2.432173728942871,2.4662153720855713,2.4997756481170654,2.5329105854034424,2.5656049251556396,2.5978763103485107,2.6297714710235596,2.661290168762207,2.69238543510437,2.7231805324554443,2.7536094188690186,2.7837257385253906,2.8134942054748535,2.8429739475250244,2.8721425533294678,2.9010066986083984,2.929603338241577,2.9579224586486816,2.9859378337860107,3.013721466064453,3.041264057159424,3.068535566329956,3.0955944061279297,3.1223623752593994,3.1489574909210205,3.1753339767456055,3.2014546394348145,3.227404832839966,3.2531087398529053,3.278640031814575,3.3039462566375732,3.3290579319000244,3.353985548019409,3.3787689208984375,3.4033892154693604,3.42771315574646,3.451953649520874,3.4760119915008545,3.4998927116394043,3.5236599445343018,3.5472755432128906,3.570646047592163,3.5939173698425293,3.617030620574951,3.6399805545806885,3.662734031677246,3.685459613800049,3.7080445289611816,3.730417490005493,3.7527015209198,3.774841070175171,3.7969043254852295,3.818824529647827,3.840520143508911,3.8620848655700684,3.8836026191711426,3.905060291290283,3.926330804824829,3.9474940299987793,3.9685919284820557,3.9895071983337402,4.010354042053223,4.031097412109375,4.051748752593994,4.072205543518066,4.092588424682617,4.112914085388184,4.133123874664307,4.153261661529541,4.1732635498046875,4.193201065063477,4.213059902191162,4.232780456542969,4.252433776855469,4.271990776062012,4.291437149047852,4.310829162597656,4.330040454864502,4.349212169647217,4.368339538574219,4.387453079223633,4.406423568725586,4.425294876098633,4.444037437438965,4.462764739990234,4.481433391571045,4.499944686889648,4.5184431076049805,4.536824703216553,4.555119037628174,4.573418140411377,4.591564178466797,4.6097187995910645,4.627813339233398,4.645776748657227,4.663687229156494,4.681562423706055,4.69932222366333,4.716931343078613,4.734554290771484,4.752082824707031,4.769615173339844,4.787070274353027,4.804459095001221,4.821780681610107,4.839057922363281,4.856286525726318,4.873309135437012,4.890375137329102,4.907418251037598,4.924335479736328,4.941195487976074,4.958040237426758,4.974850177764893,4.991613388061523,5.008297920227051,5.024938106536865,5.0415263175964355,5.058102607727051,5.074507236480713,5.090829372406006,5.107212543487549,5.123470306396484,5.1397013664245605,5.155858993530273,5.1719841957092285,5.188096523284912,5.204140663146973,5.2201738357543945,5.23611307144165,5.252024173736572,5.267874717712402,5.283669948577881,5.29945707321167,5.315167427062988,5.330838680267334,5.346371650695801,5.3618621826171875,5.377363204956055,5.392831325531006,5.408276557922363,5.423609733581543,5.438897609710693,5.454191207885742,5.469485282897949,5.484688758850098,5.499914169311523,5.515060901641846,5.530180931091309,5.545231342315674,5.560251712799072,5.575254917144775,5.590170860290527,5.605058193206787,5.619912147521973,5.634730815887451,5.649519920349121,5.664262771606445,5.67899227142334,5.693511009216309,5.708119869232178,5.722692012786865,5.737229347229004,5.751714706420898,5.766171932220459,5.7806077003479,5.794973373413086,5.809359550476074,5.823678493499756,5.837979316711426,5.85222864151001,5.866443157196045,5.88066291809082,5.894845962524414,5.908969402313232,5.923046588897705,5.937119960784912,5.951176166534424,5.965181350708008,5.979127407073975,5.993082523345947,6.00699520111084,6.020875930786133,6.034721374511719,6.048463821411133,6.062239170074463,6.075979232788086,6.089648723602295,6.103308200836182,6.116957187652588,6.1305832862854,6.144186496734619,6.157761573791504,6.171299934387207,6.18471622467041,6.198156356811523,6.2115631103515625,6.224967002868652,6.238347053527832,6.25167989730835,6.26499080657959,6.27828311920166,6.291538715362549,6.304776191711426,6.317991733551025,6.331189155578613,6.344292163848877,6.357358932495117,6.370428562164307,6.383490085601807,6.396519184112549,6.40953254699707,6.422523498535156,6.435484409332275,6.448400497436523,6.461315155029297,6.474219799041748,6.487046718597412,6.499863147735596,6.5126953125,6.525487422943115,6.538271903991699,6.551010608673096,6.563732624053955,6.576426982879639,6.5890936851501465,6.601747512817383,6.614378929138184,6.626983642578125,6.63956880569458,6.65210485458374,6.664620399475098,6.677127838134766,6.689632892608643,6.7020978927612305,6.714527130126953,6.726958274841309,6.739354610443115,6.75173807144165,6.763983249664307,6.776271343231201,6.788534164428711,6.80077600479126,6.813004016876221,6.825239181518555,6.837453842163086,6.849646091461182,6.861807823181152,6.873934745788574,6.886030673980713,6.898135662078857,6.91013240814209,6.922186851501465,6.934233665466309,6.9462456703186035,6.9582295417785645,6.970186710357666,6.982122421264648,6.994065284729004,7.005988597869873,7.017881870269775,7.029716968536377,7.041565418243408,7.05336856842041,7.06515645980835,7.076949119567871,7.088717937469482,7.100459575653076,7.112213611602783,7.1239237785339355,7.135627269744873,7.1473069190979,7.158944606781006,7.170595645904541,7.182183742523193,7.1937713623046875,7.205325603485107,7.216899871826172,7.228445053100586,7.240035533905029,7.2515411376953125,7.263038635253906,7.274515151977539,7.285977363586426,7.297425270080566,7.308841228485107,7.32025146484375,7.331637859344482,7.343001842498779,7.35422945022583,7.3654961585998535,7.3767900466918945,7.388052940368652,7.399294853210449,7.410532474517822,7.42175817489624,7.432964324951172,7.44415283203125,7.455338001251221,7.4665021896362305,7.477651596069336,7.488793849945068,7.4999003410339355,7.510992050170898,7.522078037261963,7.533145904541016,7.544190883636475,7.555199146270752,7.566213130950928,7.577216148376465,7.588213920593262,7.5991740226745605,7.610138416290283,7.621084213256836,7.632013320922852,7.642922878265381,7.65382719039917,7.664706707000732,7.675550937652588,7.6863932609558105,7.697222709655762,7.708045959472656,7.718846797943115,7.7296462059021,7.740433692932129,7.751197814941406,7.76194953918457,7.772698879241943,7.7834248542785645,7.794119834899902,7.804812431335449,7.815479755401611,7.826144218444824,7.836788654327393,7.847434997558594,7.858055591583252,7.868664264678955,7.8792643547058105,7.889854431152344,7.900408744812012,7.910955429077148,7.921502590179443,7.932011127471924,7.942531108856201,7.953038215637207,7.963529109954834,7.973989963531494,7.98444128036499,7.994890213012695,8.005318641662598,8.015725135803223,8.02613353729248,8.036486625671387,8.046838760375977,8.057181358337402,8.067525863647461,8.077844619750977,8.088167190551758,8.098477363586426,8.108763694763184,8.119033813476562,8.129301071166992,8.139552116394043,8.14978313446045,8.15999698638916,8.170215606689453,8.180413246154785,8.190607070922852,8.20078182220459,8.210951805114746,8.221084594726562,8.231232643127441,8.241368293762207,8.25147819519043,8.26157283782959,8.271666526794434,8.281752586364746,8.291829109191895,8.30188274383545,8.311935424804688,8.321944236755371,8.331974029541016,8.341980934143066,8.351880073547363,8.361784934997559,8.371706008911133,8.38162899017334,8.391539573669434,8.401446342468262,8.411346435546875,8.42123031616211,8.431112289428711,8.44097900390625,8.450835227966309,8.460679054260254,8.470512390136719,8.480332374572754,8.49013900756836,8.499933242797852,8.509740829467773,8.519524574279785,8.529300689697266,8.539051055908203,8.548775672912598,8.558507919311523,8.568225860595703,8.57794189453125,8.587651252746582,8.597365379333496,8.607048034667969,8.61672592163086,8.626395225524902,8.636046409606934,8.645686149597168,8.655319213867188,8.664953231811523,8.674560546875,8.684172630310059,8.693781852722168,8.703347206115723,8.712936401367188,8.722489356994629,8.732040405273438,8.741520881652832,8.751012802124023,8.760505676269531,8.770002365112305,8.779508590698242,8.78898811340332,8.7984619140625,8.807910919189453,8.81735610961914,8.826796531677246,8.836227416992188,8.845653533935547,8.855079650878906,8.864483833312988,8.873873710632324,8.883262634277344,8.892633438110352,8.901997566223145,8.91135025024414,8.920703887939453,8.930031776428223,8.939375877380371,8.948685646057129,8.958000183105469,8.967290878295898,8.976566314697266,8.985840797424316,8.995096206665039,9.004350662231445,9.0136079788208,9.022851943969727,9.032085418701172,9.04130744934082,9.050527572631836,9.059718132019043,9.068914413452148,9.078100204467773,9.087273597717285,9.096460342407227,9.10561752319336,9.114758491516113,9.123893737792969],\"type\":\"scatter\"},{\"line\":{\"width\":5},\"name\":\"Qf\",\"x\":[2,3,4,5,6,7,8,9,10,11,12,13,14,15,16,17,18,19,20,21,22,23,24,25,26,27,28,29,30,31,32,33,34,35,36,37,38,39,40,41,42,43,44,45,46,47,48,49,50,51,52,53,54,55,56,57,58,59,60,61,62,63,64,65,66,67,68,69,70,71,72,73,74,75,76,77,78,79,80,81,82,83,84,85,86,87,88,89,90,91,92,93,94,95,96,97,98,99,100,101,102,103,104,105,106,107,108,109,110,111,112,113,114,115,116,117,118,119,120,121,122,123,124,125,126,127,128,129,130,131,132,133,134,135,136,137,138,139,140,141,142,143,144,145,146,147,148,149,150,151,152,153,154,155,156,157,158,159,160,161,162,163,164,165,166,167,168,169,170,171,172,173,174,175,176,177,178,179,180,181,182,183,184,185,186,187,188,189,190,191,192,193,194,195,196,197,198,199,200,201,202,203,204,205,206,207,208,209,210,211,212,213,214,215,216,217,218,219,220,221,222,223,224,225,226,227,228,229,230,231,232,233,234,235,236,237,238,239,240,241,242,243,244,245,246,247,248,249,250,251,252,253,254,255,256,257,258,259,260,261,262,263,264,265,266,267,268,269,270,271,272,273,274,275,276,277,278,279,280,281,282,283,284,285,286,287,288,289,290,291,292,293,294,295,296,297,298,299,300,301,302,303,304,305,306,307,308,309,310,311,312,313,314,315,316,317,318,319,320,321,322,323,324,325,326,327,328,329,330,331,332,333,334,335,336,337,338,339,340,341,342,343,344,345,346,347,348,349,350,351,352,353,354,355,356,357,358,359,360,361,362,363,364,365,366,367,368,369,370,371,372,373,374,375,376,377,378,379,380,381,382,383,384,385,386,387,388,389,390,391,392,393,394,395,396,397,398,399,400,401,402,403,404,405,406,407,408,409,410,411,412,413,414,415,416,417,418,419,420,421,422,423,424,425,426,427,428,429,430,431,432,433,434,435,436,437,438,439,440,441,442,443,444,445,446,447,448,449,450,451,452,453,454,455,456,457,458,459,460,461,462,463,464,465,466,467,468,469,470,471,472,473,474,475,476,477,478,479,480,481,482,483,484,485,486,487,488,489,490,491,492,493,494,495,496,497,498,499],\"y\":[],\"type\":\"scatter\"},{\"line\":{\"width\":5},\"name\":\"Ff\",\"x\":[2,3,4,5,6,7,8,9,10,11,12,13,14,15,16,17,18,19,20,21,22,23,24,25,26,27,28,29,30,31,32,33,34,35,36,37,38,39,40,41,42,43,44,45,46,47,48,49,50,51,52,53,54,55,56,57,58,59,60,61,62,63,64,65,66,67,68,69,70,71,72,73,74,75,76,77,78,79,80,81,82,83,84,85,86,87,88,89,90,91,92,93,94,95,96,97,98,99,100,101,102,103,104,105,106,107,108,109,110,111,112,113,114,115,116,117,118,119,120,121,122,123,124,125,126,127,128,129,130,131,132,133,134,135,136,137,138,139,140,141,142,143,144,145,146,147,148,149,150,151,152,153,154,155,156,157,158,159,160,161,162,163,164,165,166,167,168,169,170,171,172,173,174,175,176,177,178,179,180,181,182,183,184,185,186,187,188,189,190,191,192,193,194,195,196,197,198,199,200,201,202,203,204,205,206,207,208,209,210,211,212,213,214,215,216,217,218,219,220,221,222,223,224,225,226,227,228,229,230,231,232,233,234,235,236,237,238,239,240,241,242,243,244,245,246,247,248,249,250,251,252,253,254,255,256,257,258,259,260,261,262,263,264,265,266,267,268,269,270,271,272,273,274,275,276,277,278,279,280,281,282,283,284,285,286,287,288,289,290,291,292,293,294,295,296,297,298,299,300,301,302,303,304,305,306,307,308,309,310,311,312,313,314,315,316,317,318,319,320,321,322,323,324,325,326,327,328,329,330,331,332,333,334,335,336,337,338,339,340,341,342,343,344,345,346,347,348,349,350,351,352,353,354,355,356,357,358,359,360,361,362,363,364,365,366,367,368,369,370,371,372,373,374,375,376,377,378,379,380,381,382,383,384,385,386,387,388,389,390,391,392,393,394,395,396,397,398,399,400,401,402,403,404,405,406,407,408,409,410,411,412,413,414,415,416,417,418,419,420,421,422,423,424,425,426,427,428,429,430,431,432,433,434,435,436,437,438,439,440,441,442,443,444,445,446,447,448,449,450,451,452,453,454,455,456,457,458,459,460,461,462,463,464,465,466,467,468,469,470,471,472,473,474,475,476,477,478,479,480,481,482,483,484,485,486,487,488,489,490,491,492,493,494,495,496,497,498,499],\"y\":[],\"type\":\"scatter\"},{\"line\":{\"width\":5},\"name\":\"ratio\",\"x\":[2,3,4,5,6,7,8,9,10,11,12,13,14,15,16,17,18,19,20,21,22,23,24,25,26,27,28,29,30,31,32,33,34,35,36,37,38,39,40,41,42,43,44,45,46,47,48,49,50,51,52,53,54,55,56,57,58,59,60,61,62,63,64,65,66,67,68,69,70,71,72,73,74,75,76,77,78,79,80,81,82,83,84,85,86,87,88,89,90,91,92,93,94,95,96,97,98,99,100,101,102,103,104,105,106,107,108,109,110,111,112,113,114,115,116,117,118,119,120,121,122,123,124,125,126,127,128,129,130,131,132,133,134,135,136,137,138,139,140,141,142,143,144,145,146,147,148,149,150,151,152,153,154,155,156,157,158,159,160,161,162,163,164,165,166,167,168,169,170,171,172,173,174,175,176,177,178,179,180,181,182,183,184,185,186,187,188,189,190,191,192,193,194,195,196,197,198,199,200,201,202,203,204,205,206,207,208,209,210,211,212,213,214,215,216,217,218,219,220,221,222,223,224,225,226,227,228,229,230,231,232,233,234,235,236,237,238,239,240,241,242,243,244,245,246,247,248,249,250,251,252,253,254,255,256,257,258,259,260,261,262,263,264,265,266,267,268,269,270,271,272,273,274,275,276,277,278,279,280,281,282,283,284,285,286,287,288,289,290,291,292,293,294,295,296,297,298,299,300,301,302,303,304,305,306,307,308,309,310,311,312,313,314,315,316,317,318,319,320,321,322,323,324,325,326,327,328,329,330,331,332,333,334,335,336,337,338,339,340,341,342,343,344,345,346,347,348,349,350,351,352,353,354,355,356,357,358,359,360,361,362,363,364,365,366,367,368,369,370,371,372,373,374,375,376,377,378,379,380,381,382,383,384,385,386,387,388,389,390,391,392,393,394,395,396,397,398,399,400,401,402,403,404,405,406,407,408,409,410,411,412,413,414,415,416,417,418,419,420,421,422,423,424,425,426,427,428,429,430,431,432,433,434,435,436,437,438,439,440,441,442,443,444,445,446,447,448,449,450,451,452,453,454,455,456,457,458,459,460,461,462,463,464,465,466,467,468,469,470,471,472,473,474,475,476,477,478,479,480,481,482,483,484,485,486,487,488,489,490,491,492,493,494,495,496,497,498,499],\"y\":[9.999999246054319,13.999996530621289,18.000001108069462,22.000011002448044,26.00000344618874,30.00000876266753,33.99998655584267,38.000001328172054,41.999995308763644,45.99995500981639,49.99997140077279,54.000000477164534,57.999956417908066,61.99999198562518,65.99995253353686,69.99997541973595,73.99987014888599,77.99999457593287,82.00016385986756,85.99998866147875,89.99999975370153,93.99999421609256,98.00023956327261,101.99992758923152,105.99995461316345,109.99976720881024,114.00028621932715,117.999959565249,121.9999837128607,126.0002349848774,130.0001639252894,134.0008268758674,137.99995167321546,142.00028153340818,145.99967807601988,150.0001310466113,153.99937630585373,157.99940209612052,162.0001154522143,165.9995780621703,169.9986518859084,174.00123602159027,178.0002131003856,182.00063431454677,185.99970126223556,190.00047895666765,193.99967109172138,197.99946126052254,202.00002235425845,205.99937612140062,209.99881706464055,214.00076509524047,218.00062529350188,221.9995462522458,226.00023076257864,229.9988502652215,234.00168645150856,238.00039446731202,241.99877762323706,246.00012064456368,249.99829426883935,253.9995284556218,257.9984832324761,261.9996280782854,266.00095609271335,270.0019692009353,273.99975613170693,277.9961113424037,282.0022977183283,286.00119777245544,290.0011881105811,294.0022112298048,297.9991327059378,301.9954252997913,305.9993121165836,309.99864004083327,313.9987019909002,318.00019505887957,322.0063411058791,326.0025185765398,329.99880637827624,334.00184079447774,338.0008707766996,342.00105641246347,345.99642746156434,349.9932331962587,353.99922065065925,358.006026881814,362.00603179689864,366.00059612882586,370.00171858230016,374.00214024409024,377.99804619644215,382.0007522766408,385.999554357134,389.9979256724531,393.99491569685915,398.00068617993793,402.00367713025383,406.00232012267014,410.0025748204069,414.00017382277264,418.00167459478826,422.00003729909093,425.9968203008185,429.99817952087153,433.9970755774837,437.9965706047563,441.99828529446665,445.99653469113974,450.00456327795723,454.00783843014756,458.0069476585273,461.9987418972138,465.99688083679797,469.9969286190552,474.00217214448946,478.0005727048852,481.9969238944241,486.001850574776,489.9999970451237,494.0026374727768,498.00668601392033,502.0021997355271,506.0065018846825,510.0020028382334,513.9962519170081,517.9972353200792,521.9964073268121,525.9918899550089,529.9926940040647,534.0029441610203,538.004223553441,542.0088397967456,546.0055953407351,550.0038803834643,554.0024540276731,558.0015884087105,561.9986850921933,565.9942246801496,570.0067979964912,574.0073113322529,578.0034913903588,582.0076118321927,586.0116547862578,590.0106676781662,594.0070236634331,598.0022124206595,602.0001001603137,605.9966587774845,609.9928815767408,613.9839364380855,617.989258986998,621.9982696160063,625.9933432306926,629.9974432036048,633.998506132677,638.0022632812398,642.0038167372383,646.0007806822413,649.9999483226579,653.9943808165117,657.9943864474077,661.9918812764469,665.9909587062597,669.9909844712305,673.9860715093271,677.9849946809436,681.9829820067464,685.9928095885947,690.0023050982512,694.0046898382463,698.0055727941259,702.0036949463313,706.0106476677697,710.0178890506431,714.0187923556259,718.013997490223,722.015495783164,726.0085776540564,730.0064940785952,734.0024774027107,738.0021805468359,742.0004859059405,745.9957029314608,749.9972537066345,753.9972104677813,757.9963769991201,761.9950885542021,765.9924749546375,769.9909640856583,773.9859889115688,778.0045791688854,782.0058627685129,786.0070333724817,790.0078209138717,794.0108404588873,798.0126297711341,802.0124147753496,806.0169354905069,810.0136690877781,814.0148107705971,818.0135007959566,822.014566105324,826.0157448416514,830.0112047343619,834.0070788912304,838.0066021589562,842.0078887228779,846.0048900321042,849.9996331883901,853.9970154818283,857.9981206046125,861.9932333498165,865.9898015349295,869.986302667397,873.9833650027877,877.9907219397963,881.988816084903,885.9874276540756,889.9918597870678,893.9933418049754,897.9918234756285,901.9891694372574,905.9854319183894,909.9814377870678,913.9785145502054,917.9892372491286,921.992127692508,925.9956421449294,929.9952817000342,933.9941397695685,937.9958508771789,941.996531451738,945.9958048121166,949.9963737407169,953.9954860334317,957.9936863900248,961.9904424534019,965.9974140441768,970.0057634259172,974.0096488281935,978.0106195874865,982.0124422331015,986.0126810737044,990.0122521272539,994.0124555161461,998.015555402404,1002.014888460528,1006.0117381626837,1010.0167554092916,1014.0193962366192,1018.0156695156695,1022.014246756964,1026.0100249785767,1030.0091813750662,1034.0070489631603,1038.0053966978996,1042.004198046783,1046.0012325144596,1049.997973666313,1053.9951462793515,1057.9916563877887,1061.9921159673775,1065.9921615383064,1069.9896993148302,1073.9839122423218,1077.9807364016951,1081.9796826789184,1085.9745765607317,1089.971375285484,1093.9665761756785,1097.9805676392434,1101.9839535521785,1105.9878246107846,1109.9915223820403,1113.9939152730929,1117.9915263591934,1121.988907036525,1125.9864079769163,1129.9853314611403,1133.986502203225,1137.9891967711774,1141.9869716382864,1145.9990783625105,1149.9982031949294,1153.9951151625394,1157.9942997115531,1161.9947604465729,1165.996229872042,1169.997869773152,1173.9949136935527,1177.9917930242952,1181.9903088588364,1185.9952505649526,1189.994597362959,1193.9982831243892,1198.0011310205432,1201.9997695641082,1205.9992168769804,1210.0000780350583,1213.9953617045155,1217.9948317099568,1221.992308594443,1225.9903479814416,1229.9925094890264,1233.9890520101007,1237.993267220953,1241.9941669441787,1245.9977286238202,1249.9946095576486,1253.9933289126802,1257.981001030398,1261.9802582711363,1265.9776697224,1269.9755051271113,1273.972897816346,1277.969471915817,1281.9684829170308,1285.9653645724768,1289.9634574586848,1293.962276819908,1297.9822351605276,1301.9920418552604,1305.9941872949694,1309.998580858107,1314.003748297239,1318.006620031783,1322.0085724262594,1326.0109899528202,1330.0135612675767,1334.0137544174192,1338.014616317514,1342.0151957317069,1346.0141463249704,1350.0163763314981,1354.0185361674162,1358.0186246021458,1362.019031086674,1366.0207758963145,1370.0261385709691,1374.02758380511,1378.0281548042256,1382.0267018767174,1386.0292846232228,1390.0280238554597,1394.0275004548705,1398.0271351858476,1402.0273506272097,1406.0256746535267,1410.025847491501,1414.0297054128223,1418.0308759526872,1422.0317802119978,1426.0309509268945,1430.0315351353922,1434.0294165855503,1438.0268100531355,1442.0257390756572,1446.0243160272632,1450.0204421561482,1454.0181761652634,1458.0189745723796,1462.0175130826367,1466.0179730033387,1470.0163003894443,1474.0154878597953,1478.011804635327,1482.0102268649903,1486.0080496746261,1490.0050342486375,1494.0008490154612,1498.0008906133003,1501.9998548564852,1505.9959699252283,1509.9968130345887,1513.9928798600201,1517.9886909854647,1521.9850273619759,1525.9844351401084,1529.98301839275,1533.9794223004205,1537.977140127362,1541.976472609418,1545.9728538852908,1549.9772069501037,1553.979207184119,1557.9805247446106,1561.9789607176099,1565.979643065351,1569.9772250113135,1573.9745019618179,1577.973961309732,1581.9742637040044,1585.9723445864065,1589.9710645852301,1593.9711912481496,1597.9721884624767,1601.9696578488943,1605.9687800521929,1609.966205405058,1613.9648297510578,1617.961976615736,1621.964174417245,1625.9606229723697,1629.9571466312013,1633.9561702769968,1637.955878681091,1641.953333792204,1645.9498719894077,1649.9456516350986,1653.9438197252089,1657.939672976203,1661.9419089038963,1665.9374840042726,1669.935408137986,1673.9522495995184,1677.965673000366,1681.9735745930052,1685.978595196714,1689.983855971821,1693.9874107148432,1697.9900806536464,1701.99334201556,1705.9949003818945,1709.9973535217684,1713.9994061848188,1718.0018082287822,1722.003957677886,1726.0065677245852,1730.009540630803,1734.0125845607217,1738.0105725470155,1742.0113374920481,1746.0112410858244,1750.0143536117002,1754.0201290913328,1758.0221946222557,1762.0250628976598,1766.0259710689406,1770.0257975603026,1774.0226482755224,1778.023672530876,1782.0233776617292,1786.0226777474727,1790.0234497050483,1794.0243285126874,1798.024451946724,1802.02213240747,1806.0230221496722,1810.0208128363504,1814.0166507771808,1818.019785624144,1822.0157580151697,1826.017024569676,1830.016534355707,1834.0285901963846,1838.0361334257182,1842.041480260952,1846.0437002379508,1850.0413700569911,1854.0429139916766,1858.0434812769677,1862.047225979356,1866.0495098893882,1870.0506555676168,1874.051684450285,1878.0515974616565,1882.0496117271914,1886.0497391901204,1890.0510381001213,1894.0504574667175,1898.05144884468,1902.052025294338,1906.0527786779176,1910.0510692924424,1914.053064471465,1918.0495652957798,1922.051205232402,1926.0496072454548,1930.051150678632,1934.0540083878948,1938.0546766688562,1942.0577270542265,1946.0588276786941,1950.0573772096207,1954.056674318312,1958.0561142066988,1962.0561333381431,1966.0542418330722,1970.056893179785,1974.0562165240751,1978.055962142552,1982.0563436952607,1986.0519684263388,1990.0517833599988,1994.0531081451386,1998.053662260732],\"type\":\"scatter\"}],                        {\"font\":{\"size\":20},\"height\":600,\"legend\":{\"x\":0.99,\"xanchor\":\"right\",\"y\":0.99,\"yanchor\":\"top\"},\"margin\":{\"r\":10,\"t\":100},\"showlegend\":true,\"template\":{\"data\":{\"barpolar\":[{\"marker\":{\"line\":{\"color\":\"#E5ECF6\",\"width\":0.5},\"pattern\":{\"fillmode\":\"overlay\",\"size\":10,\"solidity\":0.2}},\"type\":\"barpolar\"}],\"bar\":[{\"error_x\":{\"color\":\"#2a3f5f\"},\"error_y\":{\"color\":\"#2a3f5f\"},\"marker\":{\"line\":{\"color\":\"#E5ECF6\",\"width\":0.5},\"pattern\":{\"fillmode\":\"overlay\",\"size\":10,\"solidity\":0.2}},\"type\":\"bar\"}],\"carpet\":[{\"aaxis\":{\"endlinecolor\":\"#2a3f5f\",\"gridcolor\":\"white\",\"linecolor\":\"white\",\"minorgridcolor\":\"white\",\"startlinecolor\":\"#2a3f5f\"},\"baxis\":{\"endlinecolor\":\"#2a3f5f\",\"gridcolor\":\"white\",\"linecolor\":\"white\",\"minorgridcolor\":\"white\",\"startlinecolor\":\"#2a3f5f\"},\"type\":\"carpet\"}],\"choropleth\":[{\"colorbar\":{\"outlinewidth\":0,\"ticks\":\"\"},\"type\":\"choropleth\"}],\"contourcarpet\":[{\"colorbar\":{\"outlinewidth\":0,\"ticks\":\"\"},\"type\":\"contourcarpet\"}],\"contour\":[{\"colorbar\":{\"outlinewidth\":0,\"ticks\":\"\"},\"colorscale\":[[0.0,\"#0d0887\"],[0.1111111111111111,\"#46039f\"],[0.2222222222222222,\"#7201a8\"],[0.3333333333333333,\"#9c179e\"],[0.4444444444444444,\"#bd3786\"],[0.5555555555555556,\"#d8576b\"],[0.6666666666666666,\"#ed7953\"],[0.7777777777777778,\"#fb9f3a\"],[0.8888888888888888,\"#fdca26\"],[1.0,\"#f0f921\"]],\"type\":\"contour\"}],\"heatmapgl\":[{\"colorbar\":{\"outlinewidth\":0,\"ticks\":\"\"},\"colorscale\":[[0.0,\"#0d0887\"],[0.1111111111111111,\"#46039f\"],[0.2222222222222222,\"#7201a8\"],[0.3333333333333333,\"#9c179e\"],[0.4444444444444444,\"#bd3786\"],[0.5555555555555556,\"#d8576b\"],[0.6666666666666666,\"#ed7953\"],[0.7777777777777778,\"#fb9f3a\"],[0.8888888888888888,\"#fdca26\"],[1.0,\"#f0f921\"]],\"type\":\"heatmapgl\"}],\"heatmap\":[{\"colorbar\":{\"outlinewidth\":0,\"ticks\":\"\"},\"colorscale\":[[0.0,\"#0d0887\"],[0.1111111111111111,\"#46039f\"],[0.2222222222222222,\"#7201a8\"],[0.3333333333333333,\"#9c179e\"],[0.4444444444444444,\"#bd3786\"],[0.5555555555555556,\"#d8576b\"],[0.6666666666666666,\"#ed7953\"],[0.7777777777777778,\"#fb9f3a\"],[0.8888888888888888,\"#fdca26\"],[1.0,\"#f0f921\"]],\"type\":\"heatmap\"}],\"histogram2dcontour\":[{\"colorbar\":{\"outlinewidth\":0,\"ticks\":\"\"},\"colorscale\":[[0.0,\"#0d0887\"],[0.1111111111111111,\"#46039f\"],[0.2222222222222222,\"#7201a8\"],[0.3333333333333333,\"#9c179e\"],[0.4444444444444444,\"#bd3786\"],[0.5555555555555556,\"#d8576b\"],[0.6666666666666666,\"#ed7953\"],[0.7777777777777778,\"#fb9f3a\"],[0.8888888888888888,\"#fdca26\"],[1.0,\"#f0f921\"]],\"type\":\"histogram2dcontour\"}],\"histogram2d\":[{\"colorbar\":{\"outlinewidth\":0,\"ticks\":\"\"},\"colorscale\":[[0.0,\"#0d0887\"],[0.1111111111111111,\"#46039f\"],[0.2222222222222222,\"#7201a8\"],[0.3333333333333333,\"#9c179e\"],[0.4444444444444444,\"#bd3786\"],[0.5555555555555556,\"#d8576b\"],[0.6666666666666666,\"#ed7953\"],[0.7777777777777778,\"#fb9f3a\"],[0.8888888888888888,\"#fdca26\"],[1.0,\"#f0f921\"]],\"type\":\"histogram2d\"}],\"histogram\":[{\"marker\":{\"pattern\":{\"fillmode\":\"overlay\",\"size\":10,\"solidity\":0.2}},\"type\":\"histogram\"}],\"mesh3d\":[{\"colorbar\":{\"outlinewidth\":0,\"ticks\":\"\"},\"type\":\"mesh3d\"}],\"parcoords\":[{\"line\":{\"colorbar\":{\"outlinewidth\":0,\"ticks\":\"\"}},\"type\":\"parcoords\"}],\"pie\":[{\"automargin\":true,\"type\":\"pie\"}],\"scatter3d\":[{\"line\":{\"colorbar\":{\"outlinewidth\":0,\"ticks\":\"\"}},\"marker\":{\"colorbar\":{\"outlinewidth\":0,\"ticks\":\"\"}},\"type\":\"scatter3d\"}],\"scattercarpet\":[{\"marker\":{\"colorbar\":{\"outlinewidth\":0,\"ticks\":\"\"}},\"type\":\"scattercarpet\"}],\"scattergeo\":[{\"marker\":{\"colorbar\":{\"outlinewidth\":0,\"ticks\":\"\"}},\"type\":\"scattergeo\"}],\"scattergl\":[{\"marker\":{\"colorbar\":{\"outlinewidth\":0,\"ticks\":\"\"}},\"type\":\"scattergl\"}],\"scattermapbox\":[{\"marker\":{\"colorbar\":{\"outlinewidth\":0,\"ticks\":\"\"}},\"type\":\"scattermapbox\"}],\"scatterpolargl\":[{\"marker\":{\"colorbar\":{\"outlinewidth\":0,\"ticks\":\"\"}},\"type\":\"scatterpolargl\"}],\"scatterpolar\":[{\"marker\":{\"colorbar\":{\"outlinewidth\":0,\"ticks\":\"\"}},\"type\":\"scatterpolar\"}],\"scatter\":[{\"fillpattern\":{\"fillmode\":\"overlay\",\"size\":10,\"solidity\":0.2},\"type\":\"scatter\"}],\"scatterternary\":[{\"marker\":{\"colorbar\":{\"outlinewidth\":0,\"ticks\":\"\"}},\"type\":\"scatterternary\"}],\"surface\":[{\"colorbar\":{\"outlinewidth\":0,\"ticks\":\"\"},\"colorscale\":[[0.0,\"#0d0887\"],[0.1111111111111111,\"#46039f\"],[0.2222222222222222,\"#7201a8\"],[0.3333333333333333,\"#9c179e\"],[0.4444444444444444,\"#bd3786\"],[0.5555555555555556,\"#d8576b\"],[0.6666666666666666,\"#ed7953\"],[0.7777777777777778,\"#fb9f3a\"],[0.8888888888888888,\"#fdca26\"],[1.0,\"#f0f921\"]],\"type\":\"surface\"}],\"table\":[{\"cells\":{\"fill\":{\"color\":\"#EBF0F8\"},\"line\":{\"color\":\"white\"}},\"header\":{\"fill\":{\"color\":\"#C8D4E3\"},\"line\":{\"color\":\"white\"}},\"type\":\"table\"}]},\"layout\":{\"annotationdefaults\":{\"arrowcolor\":\"#2a3f5f\",\"arrowhead\":0,\"arrowwidth\":1},\"autotypenumbers\":\"strict\",\"coloraxis\":{\"colorbar\":{\"outlinewidth\":0,\"ticks\":\"\"}},\"colorscale\":{\"diverging\":[[0,\"#8e0152\"],[0.1,\"#c51b7d\"],[0.2,\"#de77ae\"],[0.3,\"#f1b6da\"],[0.4,\"#fde0ef\"],[0.5,\"#f7f7f7\"],[0.6,\"#e6f5d0\"],[0.7,\"#b8e186\"],[0.8,\"#7fbc41\"],[0.9,\"#4d9221\"],[1,\"#276419\"]],\"sequential\":[[0.0,\"#0d0887\"],[0.1111111111111111,\"#46039f\"],[0.2222222222222222,\"#7201a8\"],[0.3333333333333333,\"#9c179e\"],[0.4444444444444444,\"#bd3786\"],[0.5555555555555556,\"#d8576b\"],[0.6666666666666666,\"#ed7953\"],[0.7777777777777778,\"#fb9f3a\"],[0.8888888888888888,\"#fdca26\"],[1.0,\"#f0f921\"]],\"sequentialminus\":[[0.0,\"#0d0887\"],[0.1111111111111111,\"#46039f\"],[0.2222222222222222,\"#7201a8\"],[0.3333333333333333,\"#9c179e\"],[0.4444444444444444,\"#bd3786\"],[0.5555555555555556,\"#d8576b\"],[0.6666666666666666,\"#ed7953\"],[0.7777777777777778,\"#fb9f3a\"],[0.8888888888888888,\"#fdca26\"],[1.0,\"#f0f921\"]]},\"colorway\":[\"#636efa\",\"#EF553B\",\"#00cc96\",\"#ab63fa\",\"#FFA15A\",\"#19d3f3\",\"#FF6692\",\"#B6E880\",\"#FF97FF\",\"#FECB52\"],\"font\":{\"color\":\"#2a3f5f\"},\"geo\":{\"bgcolor\":\"white\",\"lakecolor\":\"white\",\"landcolor\":\"#E5ECF6\",\"showlakes\":true,\"showland\":true,\"subunitcolor\":\"white\"},\"hoverlabel\":{\"align\":\"left\"},\"hovermode\":\"closest\",\"mapbox\":{\"style\":\"light\"},\"paper_bgcolor\":\"white\",\"plot_bgcolor\":\"#E5ECF6\",\"polar\":{\"angularaxis\":{\"gridcolor\":\"white\",\"linecolor\":\"white\",\"ticks\":\"\"},\"bgcolor\":\"#E5ECF6\",\"radialaxis\":{\"gridcolor\":\"white\",\"linecolor\":\"white\",\"ticks\":\"\"}},\"scene\":{\"xaxis\":{\"backgroundcolor\":\"#E5ECF6\",\"gridcolor\":\"white\",\"gridwidth\":2,\"linecolor\":\"white\",\"showbackground\":true,\"ticks\":\"\",\"zerolinecolor\":\"white\"},\"yaxis\":{\"backgroundcolor\":\"#E5ECF6\",\"gridcolor\":\"white\",\"gridwidth\":2,\"linecolor\":\"white\",\"showbackground\":true,\"ticks\":\"\",\"zerolinecolor\":\"white\"},\"zaxis\":{\"backgroundcolor\":\"#E5ECF6\",\"gridcolor\":\"white\",\"gridwidth\":2,\"linecolor\":\"white\",\"showbackground\":true,\"ticks\":\"\",\"zerolinecolor\":\"white\"}},\"shapedefaults\":{\"line\":{\"color\":\"#2a3f5f\"}},\"ternary\":{\"aaxis\":{\"gridcolor\":\"white\",\"linecolor\":\"white\",\"ticks\":\"\"},\"baxis\":{\"gridcolor\":\"white\",\"linecolor\":\"white\",\"ticks\":\"\"},\"bgcolor\":\"#E5ECF6\",\"caxis\":{\"gridcolor\":\"white\",\"linecolor\":\"white\",\"ticks\":\"\"}},\"title\":{\"x\":0.05},\"xaxis\":{\"automargin\":true,\"gridcolor\":\"white\",\"linecolor\":\"white\",\"ticks\":\"\",\"title\":{\"standoff\":15},\"zerolinecolor\":\"white\",\"zerolinewidth\":2},\"yaxis\":{\"automargin\":true,\"gridcolor\":\"white\",\"linecolor\":\"white\",\"ticks\":\"\",\"title\":{\"standoff\":15},\"zerolinecolor\":\"white\",\"zerolinewidth\":2}}},\"title\":{\"text\":\"Operator Norm\"},\"width\":800,\"xaxis\":{\"title\":{\"text\":\"n\"}}},                        {\"responsive\": true}                    ).then(function(){\n",
       "                            \n",
       "var gd = document.getElementById('c78507d3-9a00-43b0-8e55-952e652341d5');\n",
       "var x = new MutationObserver(function (mutations, observer) {{\n",
       "        var display = window.getComputedStyle(gd).display;\n",
       "        if (!display || display === 'none') {{\n",
       "            console.log([gd, 'removed!']);\n",
       "            Plotly.purge(gd);\n",
       "            observer.disconnect();\n",
       "        }}\n",
       "}});\n",
       "\n",
       "// Listen for the removal of the full notebook cells\n",
       "var notebookContainer = gd.closest('#notebook-container');\n",
       "if (notebookContainer) {{\n",
       "    x.observe(notebookContainer, {childList: true});\n",
       "}}\n",
       "\n",
       "// Listen for the clearing of the current output cell\n",
       "var outputEl = gd.closest('.output');\n",
       "if (outputEl) {{\n",
       "    x.observe(outputEl, {childList: true});\n",
       "}}\n",
       "\n",
       "                        })                };                });            </script>        </div>"
      ]
     },
     "metadata": {},
     "output_type": "display_data"
    }
   ],
   "source": [
    "plotCompare(arange(2,500),plot,'Operator Norm','n',size=(600,800))"
   ]
  },
  {
   "cell_type": "code",
   "execution_count": null,
   "id": "b4dc9e5d",
   "metadata": {},
   "outputs": [],
   "source": []
  }
 ],
 "metadata": {
  "@webio": {
   "lastCommId": null,
   "lastKernelId": null
  },
  "kernelspec": {
   "display_name": "Python 3 (ipykernel)",
   "language": "python",
   "name": "python3"
  },
  "language_info": {
   "codemirror_mode": {
    "name": "ipython",
    "version": 3
   },
   "file_extension": ".py",
   "mimetype": "text/x-python",
   "name": "python",
   "nbconvert_exporter": "python",
   "pygments_lexer": "ipython3",
   "version": "3.11.3"
  }
 },
 "nbformat": 4,
 "nbformat_minor": 5
}
