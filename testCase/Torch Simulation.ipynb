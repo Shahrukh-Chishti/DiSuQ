{
 "cells": [
  {
   "cell_type": "markdown",
   "id": "564a2e61",
   "metadata": {},
   "source": [
    "testing Torch backend:\n",
    "* circuit : oscillator, transmon, fluxonium"
   ]
  },
  {
   "cell_type": "code",
   "execution_count": 1,
   "id": "c2dba266",
   "metadata": {},
   "outputs": [],
   "source": [
    "from DiSuQ.Torch import models\n",
    "from torch import tensor\n",
    "from numpy import arange\n",
    "from DiSuQ.utils import plotCompare"
   ]
  },
  {
   "cell_type": "markdown",
   "id": "572b2af1",
   "metadata": {},
   "source": [
    "### LC oscillator"
   ]
  },
  {
   "cell_type": "code",
   "execution_count": 2,
   "id": "8f61aa19",
   "metadata": {},
   "outputs": [],
   "source": [
    "El = 1000\n",
    "Ec = 5\n",
    "circuit = models.oscillatorLC([50],El,Ec,sparse=False)"
   ]
  },
  {
   "cell_type": "code",
   "execution_count": 3,
   "id": "61412805",
   "metadata": {},
   "outputs": [],
   "source": [
    "H_LC = circuit.oscillatorHamiltonianLC()\n",
    "oscillator = circuit.circuitEnergy(H_LC=H_LC)"
   ]
  },
  {
   "cell_type": "code",
   "execution_count": 4,
   "id": "9665465c",
   "metadata": {},
   "outputs": [],
   "source": [
    "H_LC = circuit.chargeHamiltonianLC()\n",
    "charge = circuit.circuitEnergy(H_LC=H_LC)"
   ]
  },
  {
   "cell_type": "code",
   "execution_count": null,
   "id": "6a569c82",
   "metadata": {},
   "outputs": [],
   "source": [
    "oscillator = oscillator.detach().numpy()\n",
    "charge = charge.detach().numpy()\n",
    "plotCompare(arange(len(oscillator)),{'oscillator':oscillator,'charge':charge},'Energy Spectrum','levels','E(GHz)')"
   ]
  },
  {
   "cell_type": "markdown",
   "id": "8723fb7a",
   "metadata": {},
   "source": [
    "### Transmon"
   ]
  },
  {
   "cell_type": "code",
   "execution_count": null,
   "id": "9f8c5406",
   "metadata": {},
   "outputs": [],
   "source": [
    "Ej,Ec = 20,.3"
   ]
  },
  {
   "cell_type": "code",
   "execution_count": null,
   "id": "37e43248",
   "metadata": {},
   "outputs": [],
   "source": [
    "basis = {'O':[],'I':[],'J':[100]}\n",
    "circuit = models.transmon(basis,Ej,Ec,sparse=False)\n",
    "H_LC = circuit.kermanHamiltonianLC()\n",
    "H_J = circuit.kermanHamiltonianJosephson\n",
    "kerman = circuit.circuitEnergy(H_LC=H_LC,H_J=H_J)"
   ]
  },
  {
   "cell_type": "code",
   "execution_count": null,
   "id": "2bc2b5e3",
   "metadata": {},
   "outputs": [],
   "source": [
    "circuit = models.transmon([100],Ej,Ec,sparse=False)\n",
    "H_LC=circuit.chargeHamiltonianLC()\n",
    "H_J=circuit.josephsonCharge\n",
    "charge = circuit.circuitEnergy(H_LC=H_LC,H_J=H_J)"
   ]
  },
  {
   "cell_type": "code",
   "execution_count": null,
   "id": "77d7edfc",
   "metadata": {},
   "outputs": [],
   "source": [
    "kerman = kerman.detach().numpy()\n",
    "charge = charge.detach().numpy()\n",
    "plotCompare(arange(len(kerman)),{'kerman':kerman,'charge':charge},'Energy Spectrum','levels','E(GHz)')"
   ]
  },
  {
   "cell_type": "code",
   "execution_count": null,
   "id": "983bc38f",
   "metadata": {},
   "outputs": [],
   "source": []
  }
 ],
 "metadata": {
  "@webio": {
   "lastCommId": null,
   "lastKernelId": null
  },
  "kernelspec": {
   "display_name": "Python 3 (ipykernel)",
   "language": "python",
   "name": "python3"
  },
  "language_info": {
   "codemirror_mode": {
    "name": "ipython",
    "version": 3
   },
   "file_extension": ".py",
   "mimetype": "text/x-python",
   "name": "python",
   "nbconvert_exporter": "python",
   "pygments_lexer": "ipython3",
   "version": "3.10.7"
  }
 },
 "nbformat": 4,
 "nbformat_minor": 5
}
