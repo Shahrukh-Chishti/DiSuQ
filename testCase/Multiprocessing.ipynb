{
 "cells": [
  {
   "cell_type": "markdown",
   "id": "1d42a3f8",
   "metadata": {},
   "source": [
    "* uniform random initialization\n",
    "* C-shunted qubit : profile aping"
   ]
  },
  {
   "cell_type": "code",
   "execution_count": 1,
   "id": "b6266b3b",
   "metadata": {},
   "outputs": [],
   "source": [
    "from multiprocess import Pool\n",
    "#from multiprocessing import Pool\n",
    "from DiSuQ.Torch.optimization import uniformParameters,initializationParallelism\n",
    "from DiSuQ.Torch import models\n",
    "from DiSuQ.Torch.optimization import OrderingOptimization,PolynomialOptimization\n",
    "from DiSuQ.Torch.optimization import loss_Transition\n",
    "from torch import tensor, float32 as float\n",
    "from numpy import arange,linspace\n",
    "from DiSuQ.utils import plotCompare\n",
    "import pickle\n",
    "from torch import set_num_threads\n",
    "set_num_threads(30)"
   ]
  },
  {
   "cell_type": "code",
   "execution_count": 2,
   "id": "49d73246",
   "metadata": {},
   "outputs": [],
   "source": [
    "with open('../Examples/target_fluxqubit.p', 'rb') as content: target_info = pickle.load(content)\n",
    "target_spectrum = target_info['spectrum']\n",
    "E10 = target_spectrum[:,1] - target_spectrum[:,0]\n",
    "E20 = target_spectrum[:,2] - target_spectrum[:,0]\n",
    "target = {'E10':E10[[0,20,-1]],'E20':E20[[0,20,-1]]}"
   ]
  },
  {
   "cell_type": "code",
   "execution_count": 3,
   "id": "8fb4204a",
   "metadata": {},
   "outputs": [],
   "source": [
    "basis = {'O':[3],'I':[6,6],'J':[]}; rep = 'K'\n",
    "circuit = models.shuntedQubit(basis,sparse=False)"
   ]
  },
  {
   "cell_type": "code",
   "execution_count": 4,
   "id": "457e108d",
   "metadata": {},
   "outputs": [],
   "source": [
    "flux_range = linspace(0,1,3,endpoint=True)"
   ]
  },
  {
   "cell_type": "code",
   "execution_count": 5,
   "id": "d4a15eb6",
   "metadata": {},
   "outputs": [],
   "source": [
    "flux_profile = [{'I':flux} for flux in flux_range]"
   ]
  },
  {
   "cell_type": "code",
   "execution_count": 6,
   "id": "a2dfcdab",
   "metadata": {},
   "outputs": [],
   "source": [
    "lossObjective = loss_Transition(tensor(target['E10'],dtype=float),tensor(target['E20'],dtype=float))"
   ]
  },
  {
   "cell_type": "code",
   "execution_count": 7,
   "id": "5b35b9cf",
   "metadata": {},
   "outputs": [],
   "source": [
    "optim = OrderingOptimization(circuit,representation=rep)"
   ]
  },
  {
   "cell_type": "code",
   "execution_count": 8,
   "id": "0f47b253",
   "metadata": {},
   "outputs": [],
   "source": [
    "parameters = uniformParameters(circuit,3)"
   ]
  },
  {
   "cell_type": "code",
   "execution_count": 9,
   "id": "b0436ac5",
   "metadata": {},
   "outputs": [],
   "source": [
    "circuit.initialization(parameters[0])"
   ]
  },
  {
   "cell_type": "code",
   "execution_count": null,
   "id": "5c109454",
   "metadata": {},
   "outputs": [],
   "source": [
    "with Pool(5) as multi:\n",
    "    Search = multi.map(initializationParallelism(optim,lossObjective,flux_profile,10),parameters)"
   ]
  },
  {
   "cell_type": "markdown",
   "id": "15950ba2",
   "metadata": {},
   "source": [
    "### optimization analysis"
   ]
  },
  {
   "cell_type": "code",
   "execution_count": null,
   "id": "dbeb325d",
   "metadata": {},
   "outputs": [],
   "source": [
    "for dLogs,dParams,dCircuit in Search:\n",
    "    "
   ]
  }
 ],
 "metadata": {
  "@webio": {
   "lastCommId": null,
   "lastKernelId": null
  },
  "kernelspec": {
   "display_name": "Python 3.11",
   "language": "python",
   "name": "python3"
  },
  "language_info": {
   "codemirror_mode": {
    "name": "ipython",
    "version": 3
   },
   "file_extension": ".py",
   "mimetype": "text/x-python",
   "name": "python",
   "nbconvert_exporter": "python",
   "pygments_lexer": "ipython3",
   "version": "3.11.1"
  }
 },
 "nbformat": 4,
 "nbformat_minor": 5
}
