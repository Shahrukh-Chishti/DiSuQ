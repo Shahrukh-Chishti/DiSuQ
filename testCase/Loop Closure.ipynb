{
 "cells": [
  {
   "cell_type": "markdown",
   "id": "f1ba2b1d",
   "metadata": {},
   "source": [
    "* Verify Flux closure on circuit loops\n",
    "* Evaluate states of circuits\n",
    "* Calculate expectation of node flux\n",
    "* Evaluate quantization condition"
   ]
  },
  {
   "cell_type": "code",
   "execution_count": 1,
   "id": "eb55f898",
   "metadata": {},
   "outputs": [],
   "source": [
    "from DiSuQ.Torch import models\n",
    "from torch import tensor\n",
    "from numpy import arange,linspace,meshgrid,array\n",
    "from DiSuQ.utils import plotCompare,plotHeatmap\n",
    "from torch import set_num_threads\n",
    "set_num_threads(32)"
   ]
  },
  {
   "cell_type": "code",
   "execution_count": null,
   "id": "7035e781",
   "metadata": {},
   "outputs": [],
   "source": []
  }
 ],
 "metadata": {
  "kernelspec": {
   "display_name": "Python 3 (ipykernel)",
   "language": "python",
   "name": "python3"
  },
  "language_info": {
   "codemirror_mode": {
    "name": "ipython",
    "version": 3
   },
   "file_extension": ".py",
   "mimetype": "text/x-python",
   "name": "python",
   "nbconvert_exporter": "python",
   "pygments_lexer": "ipython3",
   "version": "3.11.1"
  }
 },
 "nbformat": 4,
 "nbformat_minor": 5
}
