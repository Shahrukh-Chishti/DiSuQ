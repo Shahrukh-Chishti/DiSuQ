{
 "cells": [
  {
   "cell_type": "code",
   "execution_count": 1,
   "id": "d0ce907b",
   "metadata": {},
   "outputs": [],
   "source": [
    "import scqubits\n",
    "from DiSuQ.Torch import models\n",
    "from numpy import sqrt,around\n",
    "from torch import tensor\n",
    "from DiSuQ.Torch import dense as backend\n",
    "from DiSuQ.Torch.components import complex"
   ]
  },
  {
   "cell_type": "code",
   "execution_count": 2,
   "id": "45f520ea",
   "metadata": {},
   "outputs": [],
   "source": [
    "Ej = 30.02\n",
    "Ec = 1.2\n",
    "N = 31\n",
    "ng = 1.2"
   ]
  },
  {
   "cell_type": "markdown",
   "id": "7bb28055",
   "metadata": {},
   "source": [
    "### scQubits"
   ]
  },
  {
   "cell_type": "code",
   "execution_count": 3,
   "id": "848ad15a",
   "metadata": {},
   "outputs": [],
   "source": [
    "transmon = scqubits.Transmon(EJ=Ej,\n",
    "                              EC=Ec,\n",
    "                              ng=ng,\n",
    "                              ncut=31)"
   ]
  },
  {
   "cell_type": "code",
   "execution_count": 4,
   "id": "6b53dffe",
   "metadata": {},
   "outputs": [
    {
     "name": "stderr",
     "output_type": "stream",
     "text": [
      "RuntimeWarning: invalid value encountered in sqrt\n",
      " /tmp/ipykernel_3881562/2478708122.py: 1"
     ]
    },
    {
     "data": {
      "text/plain": [
       "array([[32.2,  nan,  0. , ...,  0. ,  0. ,  0. ],\n",
       "       [ nan, 31.2,  nan, ...,  0. ,  0. ,  0. ],\n",
       "       [ 0. ,  nan, 30.2, ...,  0. ,  0. ,  0. ],\n",
       "       ...,\n",
       "       [ 0. ,  0. ,  0. , ..., 27.8,  nan,  0. ],\n",
       "       [ 0. ,  0. ,  0. , ...,  nan, 28.8,  nan],\n",
       "       [ 0. ,  0. ,  0. , ...,  0. ,  nan, 29.8]])"
      ]
     },
     "execution_count": 4,
     "metadata": {},
     "output_type": "execute_result"
    }
   ],
   "source": [
    "sqrt(transmon.hamiltonian()/4/Ec)"
   ]
  },
  {
   "cell_type": "markdown",
   "id": "99341ba6",
   "metadata": {},
   "source": [
    "#### expansion algebra"
   ]
  },
  {
   "cell_type": "code",
   "execution_count": 5,
   "id": "c4913123",
   "metadata": {},
   "outputs": [],
   "source": [
    "basis = [31]; charge = [.25]\n",
    "Q = [backend.basisQq(basis_max) for basis_max in basis]\n",
    "I = [backend.identity(2*basis_max+1,complex)*charge[index]*2 for index,basis_max in enumerate(basis)]\n",
    "Q_I = [backend.basisQq(basis_max)-backend.identity(2*basis_max+1,complex)*charge[index]*2 \n",
    "       for index,basis_max in enumerate(basis)]\n",
    "Cn_ = tensor([[1.]])"
   ]
  },
  {
   "cell_type": "code",
   "execution_count": 6,
   "id": "835d78d8",
   "metadata": {},
   "outputs": [
    {
     "data": {
      "text/plain": [
       "tensor([[30.7500+0.j,  0.0000+0.j,  0.0000+0.j,  ...,  0.0000+0.j,  0.0000+0.j,\n",
       "          0.0000+0.j],\n",
       "        [ 0.0000+0.j, 29.7500+0.j,  0.0000+0.j,  ...,  0.0000+0.j,  0.0000+0.j,\n",
       "          0.0000+0.j],\n",
       "        [ 0.0000+0.j,  0.0000+0.j, 28.7500+0.j,  ...,  0.0000+0.j,  0.0000+0.j,\n",
       "          0.0000+0.j],\n",
       "        ...,\n",
       "        [ 0.0000+0.j,  0.0000+0.j,  0.0000+0.j,  ..., 29.2500+0.j,  0.0000+0.j,\n",
       "          0.0000+0.j],\n",
       "        [ 0.0000+0.j,  0.0000+0.j,  0.0000+0.j,  ...,  0.0000+0.j, 30.2500+0.j,\n",
       "          0.0000+0.j],\n",
       "        [ 0.0000+0.j,  0.0000+0.j,  0.0000+0.j,  ...,  0.0000+0.j,  0.0000+0.j,\n",
       "         31.2500+0.j]])"
      ]
     },
     "execution_count": 6,
     "metadata": {},
     "output_type": "execute_result"
    }
   ],
   "source": [
    "backend.modeMatrixProduct(Q_I,Cn_,Q_I).sqrt()/2"
   ]
  },
  {
   "cell_type": "code",
   "execution_count": 7,
   "id": "5b7ee0da",
   "metadata": {},
   "outputs": [
    {
     "data": {
      "text/plain": [
       "tensor([[61.5000+0.j,  0.0000+0.j,  0.0000+0.j,  ...,  0.0000+0.j,  0.0000+0.j,\n",
       "          0.0000+0.j],\n",
       "        [ 0.0000+0.j, 59.5000+0.j,  0.0000+0.j,  ...,  0.0000+0.j,  0.0000+0.j,\n",
       "          0.0000+0.j],\n",
       "        [ 0.0000+0.j,  0.0000+0.j, 57.5000+0.j,  ...,  0.0000+0.j,  0.0000+0.j,\n",
       "          0.0000+0.j],\n",
       "        ...,\n",
       "        [ 0.0000+0.j,  0.0000+0.j,  0.0000+0.j,  ..., 58.5000+0.j,  0.0000+0.j,\n",
       "          0.0000+0.j],\n",
       "        [ 0.0000+0.j,  0.0000+0.j,  0.0000+0.j,  ...,  0.0000+0.j, 60.5000+0.j,\n",
       "          0.0000+0.j],\n",
       "        [ 0.0000+0.j,  0.0000+0.j,  0.0000+0.j,  ...,  0.0000+0.j,  0.0000+0.j,\n",
       "         62.5000+0.j]])"
      ]
     },
     "execution_count": 7,
     "metadata": {},
     "output_type": "execute_result"
    }
   ],
   "source": [
    "H = backend.modeMatrixProduct(Q,Cn_,Q)\n",
    "H -= backend.modeMatrixProduct(Q,Cn_,I)\n",
    "H -= backend.modeMatrixProduct(I,Cn_,Q)\n",
    "H += backend.modeMatrixProduct(I,Cn_,I)\n",
    "H.sqrt()"
   ]
  },
  {
   "cell_type": "markdown",
   "id": "f6b8f1b6",
   "metadata": {},
   "source": [
    "### DiSuQ"
   ]
  },
  {
   "cell_type": "code",
   "execution_count": 8,
   "id": "36b49856",
   "metadata": {},
   "outputs": [],
   "source": [
    "circuit = models.transmon([31],Ej,Ec,sparse=False)\n",
    "offset = dict([(1,tensor(ng))])"
   ]
  },
  {
   "cell_type": "code",
   "execution_count": 9,
   "id": "593be607",
   "metadata": {},
   "outputs": [],
   "source": [
    "H_LC = circuit.chargeHamiltonianLC() + circuit.chargeChargeOffset(offset)\n",
    "H_J = circuit.josephsonCharge(dict())\n",
    "H = H_LC + H_J\n",
    "H = around(H.to_dense().detach().numpy().real,2)"
   ]
  },
  {
   "cell_type": "code",
   "execution_count": 10,
   "id": "07285282",
   "metadata": {},
   "outputs": [
    {
     "name": "stderr",
     "output_type": "stream",
     "text": [
      "RuntimeWarning: invalid value encountered in sqrt\n",
      " /tmp/ipykernel_3881562/1324913934.py: 1"
     ]
    },
    {
     "data": {
      "text/plain": [
       "array([[29.8,  nan,  0. , ...,  0. ,  0. ,  0. ],\n",
       "       [ nan, 28.8,  nan, ...,  0. ,  0. ,  0. ],\n",
       "       [ 0. ,  nan, 27.8, ...,  0. ,  0. ,  0. ],\n",
       "       ...,\n",
       "       [ 0. ,  0. ,  0. , ..., 30.2,  nan,  0. ],\n",
       "       [ 0. ,  0. ,  0. , ...,  nan, 31.2,  nan],\n",
       "       [ 0. ,  0. ,  0. , ...,  0. ,  nan, 32.2]], dtype=float32)"
      ]
     },
     "execution_count": 10,
     "metadata": {},
     "output_type": "execute_result"
    }
   ],
   "source": [
    "around(sqrt(H/4/Ec),2)"
   ]
  },
  {
   "cell_type": "code",
   "execution_count": 11,
   "id": "7a82e5d9",
   "metadata": {},
   "outputs": [
    {
     "data": {
      "text/plain": [
       "tensor([-21.8439,  -6.1732,   7.9766,  20.3935,  29.2915],\n",
       "       grad_fn=<SliceBackward0>)"
      ]
     },
     "execution_count": 11,
     "metadata": {},
     "output_type": "execute_result"
    }
   ],
   "source": [
    "circuit.circuitEnergy(H_LC,circuit.josephsonCharge)[:5]"
   ]
  },
  {
   "cell_type": "code",
   "execution_count": 12,
   "id": "7be100e0",
   "metadata": {},
   "outputs": [
    {
     "data": {
      "text/plain": [
       "array([-21.84386086,  -6.17324626,   7.97662279,  20.39351291,\n",
       "        29.29148451,  40.98548087])"
      ]
     },
     "execution_count": 12,
     "metadata": {},
     "output_type": "execute_result"
    }
   ],
   "source": [
    "transmon.eigenvals()"
   ]
  },
  {
   "cell_type": "code",
   "execution_count": null,
   "id": "ead8ce43",
   "metadata": {},
   "outputs": [],
   "source": []
  }
 ],
 "metadata": {
  "@webio": {
   "lastCommId": null,
   "lastKernelId": null
  },
  "kernelspec": {
   "display_name": "Python 3.11",
   "language": "python",
   "name": "python3"
  },
  "language_info": {
   "codemirror_mode": {
    "name": "ipython",
    "version": 3
   },
   "file_extension": ".py",
   "mimetype": "text/x-python",
   "name": "python",
   "nbconvert_exporter": "python",
   "pygments_lexer": "ipython3",
   "version": "3.11.1"
  }
 },
 "nbformat": 4,
 "nbformat_minor": 5
}
