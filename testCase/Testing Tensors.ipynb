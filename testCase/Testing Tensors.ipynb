{
 "cells": [
  {
   "cell_type": "code",
   "execution_count": 1,
   "id": "74721561",
   "metadata": {},
   "outputs": [],
   "source": [
    "from models import shuntedQubit,transmon,fluxonium\n",
    "from circuit import hamiltonianEnergy\n",
    "import torch,numpy\n",
    "from numpy import around\n",
    "from torch import tensor"
   ]
  },
  {
   "cell_type": "markdown",
   "id": "8c26be82",
   "metadata": {},
   "source": [
    "## Fluxonium"
   ]
  },
  {
   "cell_type": "code",
   "execution_count": 2,
   "id": "8a12ee80",
   "metadata": {},
   "outputs": [],
   "source": [
    "circuit = fluxonium([50],sparse = False)\n",
    "phi = tensor(.5)"
   ]
  },
  {
   "cell_type": "markdown",
   "id": "ffe94931",
   "metadata": {},
   "source": [
    "#### charge basis"
   ]
  },
  {
   "cell_type": "code",
   "execution_count": 3,
   "id": "5860ec6f",
   "metadata": {},
   "outputs": [],
   "source": [
    "H_LC = circuit.chargeHamiltonianLC()\n",
    "H_J = circuit.josephsonCharge({'I':phi})"
   ]
  },
  {
   "cell_type": "code",
   "execution_count": 4,
   "id": "73cdf456",
   "metadata": {},
   "outputs": [
    {
     "data": {
      "text/plain": [
       "tensor([ -0.5193, 399.9383, 400.4225], grad_fn=<SliceBackward0>)"
      ]
     },
     "execution_count": 4,
     "metadata": {},
     "output_type": "execute_result"
    }
   ],
   "source": [
    "H = H_LC + H_J\n",
    "hamiltonianEnergy(H)[:3]"
   ]
  },
  {
   "cell_type": "markdown",
   "id": "9a9967ea",
   "metadata": {},
   "source": [
    "#### flux basis"
   ]
  },
  {
   "cell_type": "code",
   "execution_count": 5,
   "id": "457a45bc",
   "metadata": {},
   "outputs": [],
   "source": [
    "H_LC = circuit.fluxHamiltonianLC()\n",
    "H_J = circuit.josephsonFlux({'I':phi})"
   ]
  },
  {
   "cell_type": "code",
   "execution_count": 6,
   "id": "63b55a52",
   "metadata": {},
   "outputs": [
    {
     "data": {
      "text/plain": [
       "tensor([ -0.4995, 399.8980, 400.3994], grad_fn=<SliceBackward0>)"
      ]
     },
     "execution_count": 6,
     "metadata": {},
     "output_type": "execute_result"
    }
   ],
   "source": [
    "H = H_LC + H_J\n",
    "hamiltonianEnergy(H)[:3]"
   ]
  },
  {
   "cell_type": "markdown",
   "id": "9bcff068",
   "metadata": {},
   "source": [
    "#### oscillator basis"
   ]
  },
  {
   "cell_type": "code",
   "execution_count": 7,
   "id": "31260aca",
   "metadata": {},
   "outputs": [],
   "source": [
    "H_LC = circuit.oscillatorHamiltonianLC()\n",
    "H_J = circuit.josephsonOscillator({'I':phi})"
   ]
  },
  {
   "cell_type": "code",
   "execution_count": 8,
   "id": "4103939d",
   "metadata": {},
   "outputs": [
    {
     "data": {
      "text/plain": [
       "tensor([-13.7407, -13.7188,  -6.7796], grad_fn=<SliceBackward0>)"
      ]
     },
     "execution_count": 8,
     "metadata": {},
     "output_type": "execute_result"
    }
   ],
   "source": [
    "H = H_LC + H_J\n",
    "hamiltonianEnergy(H)[:3]"
   ]
  },
  {
   "cell_type": "markdown",
   "id": "e0cf6990",
   "metadata": {},
   "source": [
    "#### kerman basis"
   ]
  },
  {
   "cell_type": "code",
   "execution_count": 9,
   "id": "5ac4d4ed",
   "metadata": {},
   "outputs": [],
   "source": [
    "basis = {'O':[50],'I':[],'J':[]}\n",
    "circuit = fluxonium(basis,sparse=False)"
   ]
  },
  {
   "cell_type": "code",
   "execution_count": 10,
   "id": "549ef99a",
   "metadata": {
    "scrolled": false
   },
   "outputs": [],
   "source": [
    "H_LC = circuit.kermanHamiltonianLC()\n",
    "H_J = circuit.kermanHamiltonianJosephson({'I':phi})"
   ]
  },
  {
   "cell_type": "code",
   "execution_count": 11,
   "id": "115fff48",
   "metadata": {},
   "outputs": [
    {
     "data": {
      "text/plain": [
       "tensor([-13.7407, -13.7188,  -6.7796], grad_fn=<SliceBackward0>)"
      ]
     },
     "execution_count": 11,
     "metadata": {},
     "output_type": "execute_result"
    }
   ],
   "source": [
    "H = H_LC + H_J\n",
    "hamiltonianEnergy(H)[:3]"
   ]
  },
  {
   "cell_type": "code",
   "execution_count": null,
   "id": "b178e081",
   "metadata": {},
   "outputs": [],
   "source": []
  },
  {
   "cell_type": "markdown",
   "id": "e0dd4cb6",
   "metadata": {},
   "source": [
    "# Transmon"
   ]
  },
  {
   "cell_type": "code",
   "execution_count": 12,
   "id": "dc5417c4",
   "metadata": {},
   "outputs": [],
   "source": [
    "basis = [100]\n",
    "Ej,Ec = 20,.3\n",
    "circuit = transmon(basis,Ej,Ec)"
   ]
  },
  {
   "cell_type": "code",
   "execution_count": 13,
   "id": "9959cc58",
   "metadata": {
    "scrolled": false
   },
   "outputs": [
    {
     "data": {
      "text/plain": [
       "tensor([-16.6126,  -9.9992,  -3.7226], grad_fn=<SliceBackward0>)"
      ]
     },
     "execution_count": 13,
     "metadata": {},
     "output_type": "execute_result"
    }
   ],
   "source": [
    "H_LC = circuit.chargeHamiltonianLC()\n",
    "H_J = circuit.josephsonCharge({})\n",
    "H = H_LC + H_J\n",
    "H = H.to_dense()\n",
    "hamiltonianEnergy(H)[:3]"
   ]
  },
  {
   "cell_type": "markdown",
   "id": "fb2db1fe",
   "metadata": {},
   "source": [
    "#### basis : kerman/charge"
   ]
  },
  {
   "cell_type": "code",
   "execution_count": 14,
   "id": "acc4b47c",
   "metadata": {},
   "outputs": [],
   "source": [
    "basis = {'O':[],'I':[],'J':[100]}\n",
    "circuit = transmon(basis,Ej,Ec,sparse=True)"
   ]
  },
  {
   "cell_type": "code",
   "execution_count": 15,
   "id": "343de415",
   "metadata": {
    "scrolled": false
   },
   "outputs": [
    {
     "data": {
      "text/plain": [
       "tensor([-16.6113,  -9.9989,  -3.7234], grad_fn=<SliceBackward0>)"
      ]
     },
     "execution_count": 15,
     "metadata": {},
     "output_type": "execute_result"
    }
   ],
   "source": [
    "H_LC = circuit.kermanHamiltonianLC()\n",
    "H_J = circuit.kermanHamiltonianJosephson({})\n",
    "H = H_LC + H_J\n",
    "H = H.to_dense()\n",
    "hamiltonianEnergy(H)[:3]"
   ]
  },
  {
   "cell_type": "code",
   "execution_count": 16,
   "id": "56417b74",
   "metadata": {},
   "outputs": [
    {
     "data": {
      "text/plain": [
       "tensor([[12000.0000+0.j,     0.0000+0.j,     0.0000+0.j,  ...,     0.0000+0.j,\n",
       "             0.0000+0.j,     0.0000+0.j],\n",
       "        [    0.0000+0.j, 11761.2002+0.j,     0.0000+0.j,  ...,     0.0000+0.j,\n",
       "             0.0000+0.j,     0.0000+0.j],\n",
       "        [    0.0000+0.j,     0.0000+0.j, 11524.8008+0.j,  ...,     0.0000+0.j,\n",
       "             0.0000+0.j,     0.0000+0.j],\n",
       "        ...,\n",
       "        [    0.0000+0.j,     0.0000+0.j,     0.0000+0.j,  ..., 11524.8008+0.j,\n",
       "             0.0000+0.j,     0.0000+0.j],\n",
       "        [    0.0000+0.j,     0.0000+0.j,     0.0000+0.j,  ...,     0.0000+0.j,\n",
       "         11761.2002+0.j,     0.0000+0.j],\n",
       "        [    0.0000+0.j,     0.0000+0.j,     0.0000+0.j,  ...,     0.0000+0.j,\n",
       "             0.0000+0.j, 12000.0000+0.j]], grad_fn=<ToDenseBackward0>)"
      ]
     },
     "execution_count": 16,
     "metadata": {},
     "output_type": "execute_result"
    }
   ],
   "source": [
    "H_LC.to_dense()"
   ]
  },
  {
   "cell_type": "code",
   "execution_count": 17,
   "id": "9103e997",
   "metadata": {},
   "outputs": [
    {
     "data": {
      "text/plain": [
       "tensor([[  0.-0.j, -10.+0.j,   0.+0.j,  ...,   0.-0.j,  -0.-0.j, -10.-0.j],\n",
       "        [-10.-0.j,  -0.-0.j, -10.+0.j,  ...,   0.+0.j,  -0.+0.j,  -0.-0.j],\n",
       "        [  0.-0.j, -10.-0.j,  -0.-0.j,  ...,  -0.-0.j,   0.+0.j,   0.-0.j],\n",
       "        ...,\n",
       "        [  0.+0.j,   0.-0.j,  -0.+0.j,  ...,  -0.+0.j, -10.+0.j,   0.+0.j],\n",
       "        [ -0.+0.j,  -0.-0.j,   0.-0.j,  ..., -10.-0.j,  -0.+0.j, -10.+0.j],\n",
       "        [-10.+0.j,  -0.+0.j,   0.+0.j,  ...,   0.-0.j, -10.-0.j,   0.+0.j]])"
      ]
     },
     "execution_count": 17,
     "metadata": {},
     "output_type": "execute_result"
    }
   ],
   "source": [
    "around(H_J.detach().to_dense(),2)"
   ]
  },
  {
   "cell_type": "markdown",
   "id": "60d79cf8",
   "metadata": {},
   "source": [
    "# C-shunted"
   ]
  },
  {
   "cell_type": "markdown",
   "id": "322a4d00",
   "metadata": {},
   "source": [
    "#### basis : kerman / charge"
   ]
  },
  {
   "cell_type": "code",
   "execution_count": 18,
   "id": "7b2414c2",
   "metadata": {},
   "outputs": [],
   "source": [
    "circuit_charge = shuntedQubit([3,2,2],sparse=False)\n",
    "phi = .0"
   ]
  },
  {
   "cell_type": "code",
   "execution_count": 19,
   "id": "66fe7a51",
   "metadata": {
    "scrolled": false
   },
   "outputs": [],
   "source": [
    "H_LC = circuit_charge.chargeHamiltonianLC()\n",
    "H_J = circuit_charge.josephsonCharge({'I':tensor(phi)})"
   ]
  },
  {
   "cell_type": "code",
   "execution_count": 20,
   "id": "2396c612",
   "metadata": {},
   "outputs": [],
   "source": [
    "H = H_LC + H_J"
   ]
  },
  {
   "cell_type": "code",
   "execution_count": 21,
   "id": "be9122bc",
   "metadata": {},
   "outputs": [
    {
     "data": {
      "text/plain": [
       "tensor([ -0.4096, 399.6755, 399.7998], grad_fn=<SliceBackward0>)"
      ]
     },
     "execution_count": 21,
     "metadata": {},
     "output_type": "execute_result"
    }
   ],
   "source": [
    "#H = H.to_dense()\n",
    "hamiltonianEnergy(H)[:3]"
   ]
  },
  {
   "cell_type": "code",
   "execution_count": 22,
   "id": "25fdea06",
   "metadata": {},
   "outputs": [],
   "source": [
    "basis = {'O':[4],'I':[],'J':[2,2]}\n",
    "circuit_kerman = shuntedQubit(basis,sparse=False)"
   ]
  },
  {
   "cell_type": "code",
   "execution_count": 23,
   "id": "3e23238b",
   "metadata": {},
   "outputs": [],
   "source": [
    "H_LC = circuit_kerman.kermanHamiltonianLC()\n",
    "H_J = circuit_kerman.kermanHamiltonianJosephson({'I':tensor(phi)})"
   ]
  },
  {
   "cell_type": "code",
   "execution_count": 24,
   "id": "3b703538",
   "metadata": {},
   "outputs": [],
   "source": [
    "H = H_LC + H_J"
   ]
  },
  {
   "cell_type": "code",
   "execution_count": 25,
   "id": "d84e22fb",
   "metadata": {},
   "outputs": [
    {
     "data": {
      "text/plain": [
       "tensor([0.0794, 0.8799, 0.8819], grad_fn=<SliceBackward0>)"
      ]
     },
     "execution_count": 25,
     "metadata": {},
     "output_type": "execute_result"
    }
   ],
   "source": [
    "#H = H.to_dense()\n",
    "hamiltonianEnergy(H)[:3]"
   ]
  },
  {
   "cell_type": "markdown",
   "id": "0fce0bb8",
   "metadata": {},
   "source": [
    "### backend : dense/sparse"
   ]
  },
  {
   "cell_type": "code",
   "execution_count": 26,
   "id": "d011fc20",
   "metadata": {},
   "outputs": [],
   "source": [
    "basis = {'O':[4],'I':[],'J':[2,2]}"
   ]
  },
  {
   "cell_type": "code",
   "execution_count": 27,
   "id": "6e17255c",
   "metadata": {},
   "outputs": [],
   "source": [
    "circuit_dense = shuntedQubit(basis,sparse=False)"
   ]
  },
  {
   "cell_type": "code",
   "execution_count": 28,
   "id": "c8273b37",
   "metadata": {
    "scrolled": false
   },
   "outputs": [],
   "source": [
    "H_LC = circuit_dense.kermanHamiltonianLC()\n",
    "H_J = circuit_dense.kermanHamiltonianJosephson({'I':tensor(.125)})"
   ]
  },
  {
   "cell_type": "code",
   "execution_count": 29,
   "id": "6de9822e",
   "metadata": {},
   "outputs": [],
   "source": [
    "H = H_LC + H_J"
   ]
  },
  {
   "cell_type": "code",
   "execution_count": 30,
   "id": "25e830c0",
   "metadata": {},
   "outputs": [
    {
     "data": {
      "text/plain": [
       "tensor([0.0808, 0.8763, 0.8776], grad_fn=<SliceBackward0>)"
      ]
     },
     "execution_count": 30,
     "metadata": {},
     "output_type": "execute_result"
    }
   ],
   "source": [
    "#H = H.to_dense()\n",
    "hamiltonianEnergy(H)[:3]"
   ]
  },
  {
   "cell_type": "code",
   "execution_count": 31,
   "id": "3e939b69",
   "metadata": {},
   "outputs": [],
   "source": [
    "circuit_sparse = shuntedQubit(basis,sparse=True)"
   ]
  },
  {
   "cell_type": "code",
   "execution_count": 32,
   "id": "29238ead",
   "metadata": {
    "scrolled": false
   },
   "outputs": [],
   "source": [
    "H_LC = circuit_sparse.kermanHamiltonianLC()\n",
    "H_J = circuit_sparse.kermanHamiltonianJosephson({'I':tensor(.125)})"
   ]
  },
  {
   "cell_type": "code",
   "execution_count": 33,
   "id": "8125e154",
   "metadata": {},
   "outputs": [],
   "source": [
    "H = H_LC + H_J"
   ]
  },
  {
   "cell_type": "code",
   "execution_count": 34,
   "id": "99e38bc5",
   "metadata": {},
   "outputs": [
    {
     "data": {
      "text/plain": [
       "tensor([0.0786, 0.8780, 0.8840], grad_fn=<SliceBackward0>)"
      ]
     },
     "execution_count": 34,
     "metadata": {},
     "output_type": "execute_result"
    }
   ],
   "source": [
    "H = H.to_dense()\n",
    "hamiltonianEnergy(H)[:3]"
   ]
  },
  {
   "cell_type": "code",
   "execution_count": null,
   "id": "946b5d7f",
   "metadata": {},
   "outputs": [],
   "source": []
  }
 ],
 "metadata": {
  "kernelspec": {
   "display_name": "Python 3 (ipykernel)",
   "language": "python",
   "name": "python3"
  },
  "language_info": {
   "codemirror_mode": {
    "name": "ipython",
    "version": 3
   },
   "file_extension": ".py",
   "mimetype": "text/x-python",
   "name": "python",
   "nbconvert_exporter": "python",
   "pygments_lexer": "ipython3",
   "version": "3.10.8"
  }
 },
 "nbformat": 4,
 "nbformat_minor": 5
}
