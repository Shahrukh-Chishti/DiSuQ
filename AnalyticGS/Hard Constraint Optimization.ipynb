{
 "cells": [
  {
   "cell_type": "code",
   "execution_count": 1,
   "id": "bf6e3260",
   "metadata": {},
   "outputs": [],
   "source": [
    "from numpy import array,random,roll,around,arange,mean\n",
    "from torch import tensor,diag,conj,argsort,sum,exp,log\n",
    "import torch\n",
    "from torch.optim import SGD\n",
    "from utils import plotCompare,plotHeatmap"
   ]
  },
  {
   "cell_type": "code",
   "execution_count": null,
   "id": "b940bd71",
   "metadata": {},
   "outputs": [],
   "source": []
  }
 ],
 "metadata": {
  "kernelspec": {
   "display_name": "Python 3 (ipykernel)",
   "language": "python",
   "name": "python3"
  },
  "language_info": {
   "codemirror_mode": {
    "name": "ipython",
    "version": 3
   },
   "file_extension": ".py",
   "mimetype": "text/x-python",
   "name": "python",
   "nbconvert_exporter": "python",
   "pygments_lexer": "ipython3",
   "version": "3.9.6"
  }
 },
 "nbformat": 4,
 "nbformat_minor": 5
}
