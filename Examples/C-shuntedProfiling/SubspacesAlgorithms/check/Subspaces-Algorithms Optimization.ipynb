{
 "cells": [
  {
   "cell_type": "markdown",
   "id": "d631783f",
   "metadata": {},
   "source": [
    "* C-shunted profiling\n",
    "* Inbuilt-Symmetry model\n",
    "* Uniform Initialization, Optimal Enclosure : 2dim=5x5 ; 4dim=3x3x3x3\n",
    "* Parameter subspace : I : fixed : 800GHz\n",
    "    - A : J1==J3 / J2 ; C1==C3 = 600GHz, C2 = 10GHz\n",
    "    - B : C1==C3 / C2 ; J1==J3 = 150GHz, J2 = 100GHz\n",
    "    - C : J1==J3 / C1==C3 ; J2 = 100GHz, C2 = 10GHz\n",
    "    - D : J1==J3 / J2 / C1==C3 / C2\n",
    "* Algorithms :\n",
    "    - SGD : learning rate={.01,.0001} : SGD2,SGD4 :\n",
    "    - Adam : learning rate={.01,.0001} : Adam2,Adam4\n",
    "    - Nelder Mead : !!! Unconstrained Symmetry on Nelder Mead\n",
    "    - Conjugate Gradient !!! Unconstrained Symmetry on Nelder Mead\n",
    "    - L-BFGS :\n",
    "        - scipy : *assummed Wolfe\n",
    "        - torch : Wolfe\n",
    "        - torch : lr = .0001\n",
    "* Benchmarkers Optimization : multi-initialization\n",
    "    - Loss : min,max,avg : Box Plots\n",
    "    - Termination : count,steps:min,max,avg"
   ]
  },
  {
   "cell_type": "markdown",
   "id": "f65320c8",
   "metadata": {},
   "source": [
    "* SGDx, Adam4 are too slow\n",
    "* Wolfe torch LBFGS : stagnation"
   ]
  },
  {
   "cell_type": "code",
   "execution_count": 1,
   "id": "6627cbf7",
   "metadata": {},
   "outputs": [],
   "source": [
    "from multiprocess import Pool\n",
    "#from multiprocessing import Pool\n",
    "from DiSuQ.Torch.optimization import uniformParameters,initializationParallelism,truncNormalParameters,initializationSequential\n",
    "from DiSuQ.Torch import models\n",
    "from DiSuQ.Torch.components import J0,L0,C0\n",
    "from DiSuQ.Torch import optimization\n",
    "from DiSuQ.Torch.optimization import lossTransition\n",
    "from scipy.optimize import LinearConstraint\n",
    "from torch import tensor, float32 as float\n",
    "from numpy import arange,linspace,array,argsort,vstack,isnan\n",
    "from DiSuQ.utils import plotCompare,plotOptimization,plotBox,plotHeatmap\n",
    "import pickle\n",
    "from torch import set_num_threads\n",
    "set_num_threads(32)"
   ]
  },
  {
   "cell_type": "code",
   "execution_count": 2,
   "id": "9641317e",
   "metadata": {},
   "outputs": [],
   "source": [
    "with open('../C-shuntedProfiling/target_fluxqubit.p', 'rb') as content: target_info = pickle.load(content)\n",
    "target_spectrum = target_info['spectrum']\n",
    "E10 = target_spectrum[:,1] - target_spectrum[:,0]\n",
    "E20 = target_spectrum[:,2] - target_spectrum[:,0]\n",
    "target = {'E10':E10[[0,20,-1]],'E20':E20[[0,20,-1]]}"
   ]
  },
  {
   "cell_type": "code",
   "execution_count": 3,
   "id": "5aa993f9",
   "metadata": {},
   "outputs": [],
   "source": [
    "Algo = [\"Adam2\",\"lrBFGS\",'Nelder-Mead','LBFGS']"
   ]
  },
  {
   "cell_type": "code",
   "execution_count": 4,
   "id": "7e1c9bd8",
   "metadata": {},
   "outputs": [],
   "source": [
    "lossFunction = lossTransition(tensor(target['E10'],dtype=float),tensor(target['E20'],dtype=float))"
   ]
  },
  {
   "cell_type": "code",
   "execution_count": 5,
   "id": "f0886b5a",
   "metadata": {},
   "outputs": [],
   "source": [
    "iterations = 5; n_scape = 50"
   ]
  },
  {
   "cell_type": "code",
   "execution_count": 6,
   "id": "9aea6bc0",
   "metadata": {},
   "outputs": [],
   "source": [
    "flux_range = linspace(0,1,3,endpoint=True)\n",
    "flux_profile = [{'I':flux} for flux in flux_range]"
   ]
  },
  {
   "cell_type": "code",
   "execution_count": 7,
   "id": "f07ff91a",
   "metadata": {},
   "outputs": [],
   "source": [
    "symmetry = array([[1,0,0,0,-1,0,0],[0,1,0,0,0,-1,0]])\n",
    "symmetry = LinearConstraint(symmetry,[0,0],[0,0])"
   ]
  },
  {
   "cell_type": "code",
   "execution_count": 8,
   "id": "147bc2f9",
   "metadata": {},
   "outputs": [],
   "source": [
    "def printLog(dLog):\n",
    "    print(dLog['loss'].iloc[-1])"
   ]
  },
  {
   "cell_type": "code",
   "execution_count": 9,
   "id": "bc771105",
   "metadata": {},
   "outputs": [],
   "source": [
    "def benchmarking(optimizer,initials,subspace):\n",
    "    Adam2,lrBFGS,NelMea,LBFGS = [],[],[],[]\n",
    "    for index,parameter in enumerate(initials):\n",
    "        print(index,'-------------------------------------------------')\n",
    "        print(parameter)\n",
    "        # scipy-BFGS\n",
    "        print('L-BFGS')\n",
    "        optimizer.circuit.initialization(parameter)  \n",
    "        print(optimizer.circuitState())\n",
    "        optimizer.parameters,optimizer.IDs = optimizer.circuitParameters(subspace)\n",
    "        LBFGS.append(optimizer.minimization(lossFunction,flux_profile,subspace=subspace,\n",
    "                                           method='L-BFGS-B',options=dict(ftol=1e-6,maxiter=iterations)))\n",
    "        \n",
    "        # Adam\n",
    "        print('Adam')\n",
    "        optimizer.circuit.initialization(parameter)\n",
    "        optimizer.parameters,optimizer.IDs = optimizer.circuitParameters(subspace)\n",
    "        Adam2.append(optimizer.optimization(lossFunction,flux_profile,iterations=iterations,lr=.01))\n",
    "        \n",
    "#         optimizer.circuit.initialization(parameter)\n",
    "#         optimizer.parameters,optimizer.IDs = optimizer.circuitParameters(subspace)\n",
    "#         Adam4.append(optimizer.optimization(lossFunction,flux_profile,iterations=iterations,lr=.0001))\n",
    "        \n",
    "        # Nelder Mead\n",
    "        print('Nelder Mead')\n",
    "        optimizer.circuit.initialization(parameter)\n",
    "        optimizer.parameters,optimizer.IDs = optimizer.circuitParameters(subspace)\n",
    "        NelMea.append(optimizer.minimization(lossFunction,flux_profile,subspace=subspace,\n",
    "                                             method='Nelder-Mead',options=dict(fatol=1e-6)))\n",
    "        \n",
    "#         Conjugate Gradient\n",
    "#         print('Conjugate Gradient')\n",
    "#         optimizer.circuit.initialization(parameter)\n",
    "#         optimizer.parameters,optimizer.IDs = optimizer.circuitParameters(subspace)\n",
    "#         CG.append(optimizer.minimization(lossFunction,flux_profile,subspace=subspace,\n",
    "#         method='CG',tol=1e-8,maxiter=iterations))\n",
    "        \n",
    "#         # Wolfe BFGS\n",
    "#         print('Wolfe BFGS')\n",
    "#         optimizer.circuit.initialization(parameter)     \n",
    "#         optimizer.parameters,optimizer.IDs = optimizer.circuitParameters(subspace)        \n",
    "#         Wolfe.append(optimizer.optimizationLBFGS(lossFunction,flux_profile,iterations=iterations))\n",
    "        \n",
    "        # lr-LBFGS\n",
    "        print('lr LBFGS')\n",
    "        optimizer.circuit.initialization(parameter)\n",
    "        optimizer.parameters,optimizer.IDs = optimizer.circuitParameters(subspace)\n",
    "        lrBFGS.append(optimizer.optimizationLBFGS(lossFunction,flux_profile,iterations=iterations,lr=.1))\n",
    "        \n",
    "        \n",
    "    return Adam2,lrBFGS,NelMea,LBFGS"
   ]
  },
  {
   "cell_type": "code",
   "execution_count": 10,
   "id": "6bfe60f4",
   "metadata": {},
   "outputs": [],
   "source": [
    "def optimizationAnalysis(init,subspace,Search,success=1.):\n",
    "    Loss,Success,Paths = [],[],[]\n",
    "    for index,(init,(dLogs,dParams,dCircuit)) in enumerate(zip(init,Search)):\n",
    "        Paths.append(dCircuit[subspace].to_numpy())\n",
    "        loss = dLogs['loss'].to_numpy()\n",
    "        Loss.append(loss[-1])\n",
    "        if loss[-1] < success:\n",
    "            Success.append(len(loss))\n",
    "    return Paths,Loss,Success"
   ]
  },
  {
   "cell_type": "code",
   "execution_count": 118,
   "id": "cfdc965c",
   "metadata": {},
   "outputs": [],
   "source": [
    "def analysisPlotting(Optimization):\n",
    "    paths = dict()\n",
    "    losse = dict()\n",
    "    for algo,(Paths,Loss,Success) in zip(Algo,Optimization):\n",
    "        index = argsort(Loss)[0]\n",
    "        #print(Loss[index]);print(index)\n",
    "        paths[algo] = Paths[index]\n",
    "        #print(Paths[index][-1])\n",
    "        losse[algo] = Loss\n",
    "    return paths,losse"
   ]
  },
  {
   "cell_type": "code",
   "execution_count": 12,
   "id": "34cb693e",
   "metadata": {},
   "outputs": [],
   "source": [
    "def lossScapeBounds(paths):\n",
    "    Paths = []\n",
    "    for algo,path in paths.items():\n",
    "        Paths.append(path)\n",
    "    Paths = vstack(Paths)\n",
    "    Paths = Paths[:, ~isnan(Paths).any(axis=0)]\n",
    "    return Paths.min(0),Paths.max(0)"
   ]
  },
  {
   "cell_type": "markdown",
   "id": "11e558a3",
   "metadata": {},
   "source": [
    "### simulation"
   ]
  },
  {
   "cell_type": "markdown",
   "id": "26509c67",
   "metadata": {},
   "source": [
    "#### subspace B"
   ]
  },
  {
   "cell_type": "code",
   "execution_count": 13,
   "id": "eb87a8e1",
   "metadata": {},
   "outputs": [],
   "source": [
    "basis = {'O':[8],'J':[6,6],'I':[]}; rep = 'K'\n",
    "C12 = .5 ; C22 = 20. ; C11 = C22\n",
    "JJ1 = 150; JJ3 = 150 ; JJ2 = 50\n",
    "ind = 800\n",
    "circuit = models.shuntedQubit(basis,josephson=[JJ1,JJ2,JJ3],cap=[C11,C12,C22],ind=ind,sparse=False,symmetry=True)\n",
    "static = circuit.circuitState()"
   ]
  },
  {
   "cell_type": "code",
   "execution_count": 14,
   "id": "0db57455",
   "metadata": {},
   "outputs": [],
   "source": [
    "optimizer = optimization.OrderingOptimization(circuit,representation=rep)"
   ]
  },
  {
   "cell_type": "code",
   "execution_count": 15,
   "id": "20eb4283",
   "metadata": {},
   "outputs": [
    {
     "data": {
      "text/plain": [
       "25"
      ]
     },
     "execution_count": 15,
     "metadata": {},
     "output_type": "execute_result"
    }
   ],
   "source": [
    "subspace = ['C1','C2'] ; N = 5\n",
    "initials = uniformParameters(circuit,subspace,N)\n",
    "#initials = truncNormalParameters(circuit,subspace,N,var=5)\n",
    "len(initials)"
   ]
  },
  {
   "cell_type": "code",
   "execution_count": null,
   "id": "e11957f4",
   "metadata": {},
   "outputs": [
    {
     "name": "stdout",
     "output_type": "stream",
     "text": [
      "0 -------------------------------------------------\n",
      "{'JJ1': 150.0, 'C1': 416.6666666666667, 'JJ2': 50.0, 'C2': 416.6666666666667, 'JJ3': 150.0, 'C3': 20.000001907348633, 'I': 800.0}\n",
      "L-BFGS\n",
      "{'JJ1': 150.0, 'C1': 416.66668701171875, 'JJ2': 50.0, 'C2': 416.66668701171875, 'JJ3': 150.0, 'C3': 416.66668701171875, 'I': 800.0}\n",
      "RUNNING THE L-BFGS-B CODE\n",
      "\n",
      "           * * *\n",
      "\n",
      "Machine precision = 2.220D-16\n",
      " N =            2     M =           10\n",
      "\n",
      "At X0         0 variables are exactly at the bounds\n",
      "\n",
      "At iterate    0    f=  2.10226D+06    |proj g|=  4.16667D+02\n",
      "\n",
      "At iterate    1    f=  9.61145D+05    |proj g|=  2.91082D+02\n",
      "\n",
      "At iterate    2    f=  2.76129D+05    |proj g|=  1.68226D+02\n",
      "\n",
      "At iterate    3    f=  1.08290D+05    |proj g|=  1.14435D+02\n"
     ]
    }
   ],
   "source": [
    "OptimizationB = benchmarking(optimizer,initials,subspace)\n",
    "Adam2,lrBFGS,NelMea,LBFGS = OptimizationB"
   ]
  },
  {
   "cell_type": "code",
   "execution_count": null,
   "id": "8c1bfa6f",
   "metadata": {},
   "outputs": [],
   "source": [
    "Result = [optimizationAnalysis(initials,subspace,algo) for algo in OptimizationB]\n",
    "paths,losse = analysisPlotting(Result)"
   ]
  },
  {
   "cell_type": "code",
   "execution_count": null,
   "id": "626d567d",
   "metadata": {},
   "outputs": [],
   "source": [
    "plotBox(losse,'Loss Distribution-C1-C2',size=(600,800))"
   ]
  },
  {
   "cell_type": "code",
   "execution_count": null,
   "id": "94437872",
   "metadata": {},
   "outputs": [],
   "source": [
    "plotBox(losse,'Loss Distribution-C1-C2',export='pdf',size=(600,800))"
   ]
  },
  {
   "cell_type": "code",
   "execution_count": null,
   "id": "a4c6d3ad",
   "metadata": {},
   "outputs": [],
   "source": [
    "lower,upper = lossScapeBounds(paths)\n",
    "lower = [1e-4,1e-4]\n",
    "upper = [500,600]\n",
    "C1 = linspace(lower[0],upper[0],n_scape,endpoint=True)\n",
    "C2 = linspace(lower[1],upper[1],n_scape,endpoint=True)\n",
    "scape = {'C1':C1,'C2':C2}"
   ]
  },
  {
   "cell_type": "code",
   "execution_count": null,
   "id": "e1857e95",
   "metadata": {},
   "outputs": [],
   "source": [
    "flux_profile = [{'I':flux} for flux in flux_range]"
   ]
  },
  {
   "cell_type": "code",
   "execution_count": null,
   "id": "2eaad975",
   "metadata": {},
   "outputs": [],
   "source": [
    "LossB = optimizer.lossScape(lossFunction,flux_profile,scape,static)"
   ]
  },
  {
   "cell_type": "code",
   "execution_count": null,
   "id": "7eccdf89",
   "metadata": {},
   "outputs": [],
   "source": [
    "plotOptimization(LossB,C1,C2,paths,'Optimization-C1_C2','C1(GHz)','C2(GHz)',export='pdf',size=(600,800),legend=False)"
   ]
  },
  {
   "cell_type": "markdown",
   "id": "d9024641",
   "metadata": {},
   "source": [
    "#### subspace C"
   ]
  },
  {
   "cell_type": "code",
   "execution_count": null,
   "id": "c1317054",
   "metadata": {},
   "outputs": [],
   "source": [
    "basis = {'O':[8],'J':[6,6],'I':[]}; rep = 'K'\n",
    "C12 = .5 ; C22 = 20. ; C11 = C22\n",
    "JJ1 = 150; JJ3 = 150 ; JJ2 = 50\n",
    "ind = 800\n",
    "circuit = models.shuntedQubit(basis,josephson=[JJ1,JJ2,JJ3],cap=[C11,C12,C22],ind=ind,sparse=False,symmetry=True)\n",
    "static = circuit.circuitState()"
   ]
  },
  {
   "cell_type": "code",
   "execution_count": null,
   "id": "61d8ad7c",
   "metadata": {},
   "outputs": [],
   "source": [
    "optimizer = optimization.OrderingOptimization(circuit,representation=rep)"
   ]
  },
  {
   "cell_type": "code",
   "execution_count": null,
   "id": "3e46d27c",
   "metadata": {},
   "outputs": [],
   "source": [
    "subspace = ['JJ1','C1'] ; N = 5\n",
    "initials = uniformParameters(circuit,subspace,N)\n",
    "#initials = truncNormalParameters(circuit,subspace,N,var=5)\n",
    "len(initials)"
   ]
  },
  {
   "cell_type": "code",
   "execution_count": null,
   "id": "3bfbbb01",
   "metadata": {
    "scrolled": true
   },
   "outputs": [],
   "source": [
    "OptimizationC = benchmarking(optimizer,initials,subspace)\n",
    "Adam2,lrBFGS,NelMea,LBFGS = OptimizationC"
   ]
  },
  {
   "cell_type": "code",
   "execution_count": 85,
   "id": "6a6d4a06",
   "metadata": {
    "scrolled": true
   },
   "outputs": [
    {
     "name": "stdout",
     "output_type": "stream",
     "text": [
      "14\n",
      "[[2.00000000e+02 5.00000000e+01 1.66666675e+03 4.99999881e-01]\n",
      " [2.01672226e+02 5.00000000e+01 1.66110193e+03 4.99999881e-01]\n",
      " [2.03356201e+02 5.00000000e+01 1.65551575e+03 4.99999881e-01]\n",
      " [2.05052017e+02 5.00000000e+01 1.64990784e+03 4.99999881e-01]\n",
      " [2.06760101e+02 5.00000000e+01 1.64427966e+03 4.99999881e-01]\n",
      " [2.08481369e+02 5.00000000e+01 1.63862524e+03 4.99999881e-01]]\n",
      "14\n",
      "[[2.00000000e+02 5.00000000e+01 1.66666675e+03 4.99999881e-01]\n",
      " [1.20000000e+03 5.00000000e+01 9.99999997e-07 4.99999881e-01]\n",
      " [1.20000000e+03 5.00000000e+01 9.99999997e-07 4.99999881e-01]\n",
      " [1.20000000e+03 5.00000000e+01 9.99999997e-07 4.99999881e-01]\n",
      " [1.20000000e+03 5.00000000e+01 9.99999997e-07 4.99999881e-01]\n",
      " [1.20000000e+03 5.00000000e+01 9.99999997e-07 4.99999881e-01]]\n",
      "15\n",
      "[[2.00000000e+02 5.00000000e+01 1.66666675e+03 4.99999881e-01]\n",
      " [2.10000000e+02 5.00000000e+01 1.66666675e+03 4.99999881e-01]\n",
      " [2.30000015e+02 5.00000000e+01 1.54166663e+03 4.99999881e-01]\n",
      " [2.30000015e+02 5.00000000e+01 1.54166663e+03 4.99999881e-01]\n",
      " [2.70000000e+02 5.00000000e+01 1.41666663e+03 4.99999881e-01]\n",
      " [2.90000000e+02 5.00000000e+01 1.18750000e+03 4.99999881e-01]\n",
      " [3.80000000e+02 5.00000000e+01 8.22916687e+02 4.99999881e-01]\n",
      " [4.00000000e+02 5.00000000e+01 5.93750000e+02 4.99999881e-01]\n",
      " [4.40000000e+02 5.00000000e+01 4.68750031e+02 4.99999881e-01]\n",
      " [4.40000000e+02 5.00000000e+01 4.68750031e+02 4.99999881e-01]\n",
      " [4.40000000e+02 5.00000000e+01 4.68750031e+02 4.99999881e-01]\n",
      " [4.40000000e+02 5.00000000e+01 4.68750031e+02 4.99999881e-01]\n",
      " [4.40000000e+02 5.00000000e+01 4.68750031e+02 4.99999881e-01]\n",
      " [4.40000000e+02 5.00000000e+01 4.68750031e+02 4.99999881e-01]\n",
      " [4.40000000e+02 5.00000000e+01 4.68750031e+02 4.99999881e-01]\n",
      " [4.40000000e+02 5.00000000e+01 4.68750031e+02 4.99999881e-01]\n",
      " [4.40000000e+02 5.00000000e+01 4.68750031e+02 4.99999881e-01]\n",
      " [4.37065430e+02 5.00000000e+01 4.59198029e+02 4.99999881e-01]\n",
      " [4.42199707e+02 5.00000000e+01 4.67035919e+02 4.99999881e-01]\n",
      " [4.42199707e+02 5.00000000e+01 4.67035919e+02 4.99999881e-01]\n",
      " [4.42199707e+02 5.00000000e+01 4.67035919e+02 4.99999881e-01]\n",
      " [4.47333984e+02 5.00000000e+01 4.74873871e+02 4.99999881e-01]\n",
      " [4.44674957e+02 5.00000000e+01 4.69546661e+02 4.99999881e-01]\n",
      " [4.53614044e+02 5.00000000e+01 4.82558899e+02 4.99999881e-01]\n",
      " [4.53614044e+02 5.00000000e+01 4.82558899e+02 4.99999881e-01]\n",
      " [4.67503632e+02 5.00000000e+01 5.00592590e+02 4.99999881e-01]\n",
      " [4.79766479e+02 5.00000000e+01 5.20263855e+02 4.99999881e-01]\n",
      " [5.13677124e+02 5.00000000e+01 5.66166809e+02 4.99999881e-01]\n",
      " [5.13677124e+02 5.00000000e+01 5.66166809e+02 4.99999881e-01]\n",
      " [5.99892578e+02 5.00000000e+01 6.87479675e+02 4.99999881e-01]\n",
      " [5.99892578e+02 5.00000000e+01 6.87479675e+02 4.99999881e-01]\n",
      " [7.53929260e+02 5.00000000e+01 9.00598450e+02 4.99999881e-01]\n",
      " [7.66192078e+02 5.00000000e+01 9.20269775e+02 4.99999881e-01]\n",
      " [7.66192078e+02 5.00000000e+01 9.20269775e+02 4.99999881e-01]\n",
      " [9.32491638e+02 5.00000000e+01 1.15305981e+03 4.99999881e-01]\n",
      " [9.32491638e+02 5.00000000e+01 1.15305981e+03 4.99999881e-01]\n",
      " [9.44754456e+02 5.00000000e+01 1.17273120e+03 4.99999881e-01]\n",
      " [9.44754456e+02 5.00000000e+01 1.17273120e+03 4.99999881e-01]\n",
      " [9.44754456e+02 5.00000000e+01 1.17273120e+03 4.99999881e-01]\n",
      " [9.44754456e+02 5.00000000e+01 1.17273120e+03 4.99999881e-01]\n",
      " [9.44754456e+02 5.00000000e+01 1.17273120e+03 4.99999881e-01]\n",
      " [9.44754456e+02 5.00000000e+01 1.17273120e+03 4.99999881e-01]\n",
      " [9.44754456e+02 5.00000000e+01 1.17273120e+03 4.99999881e-01]\n",
      " [9.44754456e+02 5.00000000e+01 1.17273120e+03 4.99999881e-01]\n",
      " [9.44754456e+02 5.00000000e+01 1.17273120e+03 4.99999881e-01]\n",
      " [9.44754456e+02 5.00000000e+01 1.17273120e+03 4.99999881e-01]\n",
      " [9.44754456e+02 5.00000000e+01 1.17273120e+03 4.99999881e-01]\n",
      " [9.44754456e+02 5.00000000e+01 1.17273120e+03 4.99999881e-01]\n",
      " [9.44754456e+02 5.00000000e+01 1.17273120e+03 4.99999881e-01]\n",
      " [9.46521729e+02 5.00000000e+01 1.17518665e+03 4.99999881e-01]\n",
      " [9.46521729e+02 5.00000000e+01 1.17518665e+03 4.99999881e-01]\n",
      " [9.46521729e+02 5.00000000e+01 1.17518665e+03 4.99999881e-01]\n",
      " [9.46521729e+02 5.00000000e+01 1.17518665e+03 4.99999881e-01]\n",
      " [9.46521729e+02 5.00000000e+01 1.17518665e+03 4.99999881e-01]\n",
      " [9.46521729e+02 5.00000000e+01 1.17518665e+03 4.99999881e-01]\n",
      " [9.46521729e+02 5.00000000e+01 1.17518665e+03 4.99999881e-01]\n",
      " [9.46521729e+02 5.00000000e+01 1.17518665e+03 4.99999881e-01]\n",
      " [9.46521729e+02 5.00000000e+01 1.17518665e+03 4.99999881e-01]\n",
      " [9.46521729e+02 5.00000000e+01 1.17518665e+03 4.99999881e-01]\n",
      " [9.46521729e+02 5.00000000e+01 1.17518665e+03 4.99999881e-01]\n",
      " [9.46521729e+02 5.00000000e+01 1.17518665e+03 4.99999881e-01]\n",
      " [9.46521729e+02 5.00000000e+01 1.17518665e+03 4.99999881e-01]\n",
      " [9.46521729e+02 5.00000000e+01 1.17518665e+03 4.99999881e-01]\n",
      " [9.46521729e+02 5.00000000e+01 1.17518665e+03 4.99999881e-01]\n",
      " [9.46521729e+02 5.00000000e+01 1.17518665e+03 4.99999881e-01]\n",
      " [9.46521729e+02 5.00000000e+01 1.17518665e+03 4.99999881e-01]\n",
      " [9.46521729e+02 5.00000000e+01 1.17518665e+03 4.99999881e-01]\n",
      " [9.46518250e+02 5.00000000e+01 1.17518176e+03 4.99999881e-01]\n",
      " [9.46518250e+02 5.00000000e+01 1.17518176e+03 4.99999881e-01]\n",
      " [9.46514954e+02 5.00000000e+01 1.17517712e+03 4.99999881e-01]\n",
      " [9.46514954e+02 5.00000000e+01 1.17517712e+03 4.99999881e-01]\n",
      " [9.46514954e+02 5.00000000e+01 1.17517712e+03 4.99999881e-01]\n",
      " [9.46514954e+02 5.00000000e+01 1.17517712e+03 4.99999881e-01]\n",
      " [9.46514954e+02 5.00000000e+01 1.17517712e+03 4.99999881e-01]\n",
      " [9.46514954e+02 5.00000000e+01 1.17517712e+03 4.99999881e-01]\n",
      " [9.46514954e+02 5.00000000e+01 1.17517712e+03 4.99999881e-01]\n",
      " [9.46514954e+02 5.00000000e+01 1.17517712e+03 4.99999881e-01]\n",
      " [9.46514954e+02 5.00000000e+01 1.17517712e+03 4.99999881e-01]\n",
      " [9.46514954e+02 5.00000000e+01 1.17517712e+03 4.99999881e-01]]\n",
      "14\n",
      "[[2.00000000e+02 5.00000000e+01 1.66666675e+03 4.99999881e-01]\n",
      " [2.14753189e+02 5.00000000e+01 1.66103491e+03 4.99999881e-01]\n",
      " [1.20000000e+03 5.00000000e+01 1.27418396e+03 4.99999881e-01]\n",
      " [1.20000000e+03 5.00000000e+01 1.25192017e+03 4.99999881e-01]\n",
      " [1.20000000e+03 5.00000000e+01 1.24301172e+03 4.99999881e-01]]\n"
     ]
    }
   ],
   "source": [
    "Result = [optimizationAnalysis(initials,subspace,algo) for algo in OptimizationC]\n",
    "paths,losse = analysisPlotting(Result)"
   ]
  },
  {
   "cell_type": "code",
   "execution_count": null,
   "id": "8a92306a",
   "metadata": {},
   "outputs": [],
   "source": [
    "plotBox(losse,'Loss Distribution-JJ1-C1',export='pdf',size=(600,800))"
   ]
  },
  {
   "cell_type": "code",
   "execution_count": null,
   "id": "f97cc3b1",
   "metadata": {},
   "outputs": [],
   "source": [
    "lower,upper = lossScapeBounds(paths)\n",
    "JJ1 = linspace(lower[0],upper[0],n_scape,endpoint=True)\n",
    "C1 = linspace(lower[1],upper[1],n_scape,endpoint=True)\n",
    "scape = {'JJ1':JJ1,'C1':C1}"
   ]
  },
  {
   "cell_type": "code",
   "execution_count": null,
   "id": "543e8119",
   "metadata": {},
   "outputs": [],
   "source": [
    "flux_profile = [{'I':flux} for flux in flux_range]"
   ]
  },
  {
   "cell_type": "code",
   "execution_count": null,
   "id": "854c710a",
   "metadata": {},
   "outputs": [],
   "source": [
    "LossC = optimizer.lossScape(lossFunction,flux_profile,scape,static)"
   ]
  },
  {
   "cell_type": "code",
   "execution_count": null,
   "id": "99474a56",
   "metadata": {},
   "outputs": [],
   "source": [
    "plotOptimization(LossC,JJ1,C1,paths,'Optimization-JJ1_C1','JJ1(GHz)','C1(GHz)',export='pdf',size=(600,800),legend=False)"
   ]
  },
  {
   "cell_type": "markdown",
   "id": "83b2b081",
   "metadata": {},
   "source": [
    "##### zooming in J1:(995,1005) * C1:(1220,1260)"
   ]
  },
  {
   "cell_type": "code",
   "execution_count": 86,
   "id": "e224c8b5",
   "metadata": {},
   "outputs": [],
   "source": [
    "lower,upper = lossScapeBounds(paths)\n",
    "JJ1 = linspace(995,1005,n_scape,endpoint=True)\n",
    "C1 = linspace(1220,1260,n_scape,endpoint=True)\n",
    "scape = {'JJ1':JJ1,'C1':C1}"
   ]
  },
  {
   "cell_type": "code",
   "execution_count": null,
   "id": "a5a03df6",
   "metadata": {},
   "outputs": [],
   "source": [
    "flux_profile = [{'I':flux} for flux in flux_range]\n",
    "LossZ = optimizer.lossScape(lossFunction,flux_profile,scape,static)"
   ]
  },
  {
   "cell_type": "code",
   "execution_count": 84,
   "id": "d15be002",
   "metadata": {},
   "outputs": [
    {
     "data": {
      "text/plain": [
       "array([[2.54316068, 2.58349395, 2.34891224, ..., 2.33886623, 2.40108657,\n",
       "        2.35654926],\n",
       "       [2.65466475, 2.61133671, 2.36137438, ..., 2.31238079, 2.36378455,\n",
       "        2.49126554],\n",
       "       [2.43344021, 2.49633503, 2.33780503, ..., 2.28040004, 2.46827888,\n",
       "        2.28722739],\n",
       "       ...,\n",
       "       [3.34061432, 3.26770353, 3.29785538, ..., 2.18916297, 2.2317338 ,\n",
       "        2.53368068],\n",
       "       [3.46245933, 3.25706577, 3.84552479, ..., 2.17654586, 2.16836929,\n",
       "        2.10877204],\n",
       "       [3.28033733, 3.15733624, 2.79758096, ..., 2.11442542, 2.19766021,\n",
       "        2.25845003]])"
      ]
     },
     "execution_count": 84,
     "metadata": {},
     "output_type": "execute_result"
    }
   ],
   "source": []
  },
  {
   "cell_type": "code",
   "execution_count": null,
   "id": "8ff81c73",
   "metadata": {},
   "outputs": [],
   "source": [
    "#del paths['Nelder-Mead'] # coloring !!\n",
    "paths['Nelder-Mead'] = array([])"
   ]
  },
  {
   "cell_type": "code",
   "execution_count": null,
   "id": "752d381f",
   "metadata": {},
   "outputs": [],
   "source": [
    "plotOptimization(LossZ,JJ1,C1,paths,'Optimization-Details:JJ1_C1','JJ1(GHz)','C1(GHz)',export='pdf',size=(600,800),legend=False)"
   ]
  },
  {
   "cell_type": "markdown",
   "id": "42f76199",
   "metadata": {},
   "source": [
    "#### subspace A"
   ]
  },
  {
   "cell_type": "code",
   "execution_count": null,
   "id": "445d812e",
   "metadata": {},
   "outputs": [],
   "source": [
    "basis = {'O':[8],'J':[6,6],'I':[]}; rep = 'K'\n",
    "C12 = .5 ; C22 = 20. ; C11 = C22\n",
    "JJ1 = 150; JJ3 = 150 ; JJ2 = 50\n",
    "ind = 800\n",
    "circuit = models.shuntedQubit(basis,josephson=[JJ1,JJ2,JJ3],cap=[C11,C12,C22],ind=ind,sparse=False,symmetry=True)\n",
    "static = circuit.circuitState()"
   ]
  },
  {
   "cell_type": "code",
   "execution_count": null,
   "id": "1b9562fe",
   "metadata": {},
   "outputs": [],
   "source": [
    "optimizer = optimization.OrderingOptimization(circuit,representation=rep)"
   ]
  },
  {
   "cell_type": "code",
   "execution_count": null,
   "id": "ff165628",
   "metadata": {},
   "outputs": [],
   "source": [
    "subspace = ['JJ1','JJ2'] ; N = 5\n",
    "initials = uniformParameters(circuit,subspace,N)\n",
    "#initials = truncNormalParameters(circuit,subspace,N,var=5)\n",
    "len(initials)"
   ]
  },
  {
   "cell_type": "code",
   "execution_count": null,
   "id": "c65a9abe",
   "metadata": {},
   "outputs": [],
   "source": [
    "OptimizationA = benchmarking(optimizer,initials,subspace)\n",
    "Adam2,lrBFGS,NelMea,LBFGS = OptimizationA"
   ]
  },
  {
   "cell_type": "code",
   "execution_count": null,
   "id": "b6a17a98",
   "metadata": {},
   "outputs": [],
   "source": [
    "Result = [optimizationAnalysis(initials,subspace,algo) for algo in OptimizationA]\n",
    "paths,losse = analysisPlotting(Result)"
   ]
  },
  {
   "cell_type": "code",
   "execution_count": null,
   "id": "a7d08fd5",
   "metadata": {},
   "outputs": [],
   "source": [
    "plotBox(losse,'Loss Distribution-JJ1-JJ2',export='pdf',size=(600,800))"
   ]
  },
  {
   "cell_type": "code",
   "execution_count": null,
   "id": "06a7c8ca",
   "metadata": {},
   "outputs": [],
   "source": [
    "lower,upper = lossScapeBounds(paths)\n",
    "JJ1 = linspace(lower[0],upper[0],n_scape,endpoint=True)\n",
    "JJ2 = linspace(lower[1],upper[1],n_scape,endpoint=True)\n",
    "scape = {'JJ1':JJ1,'JJ2':JJ2}"
   ]
  },
  {
   "cell_type": "code",
   "execution_count": null,
   "id": "3ef55360",
   "metadata": {},
   "outputs": [],
   "source": [
    "flux_profile = [{'I':flux} for flux in flux_range]"
   ]
  },
  {
   "cell_type": "code",
   "execution_count": null,
   "id": "a0d37812",
   "metadata": {},
   "outputs": [],
   "source": [
    "LossA = optimizer.lossScape(lossFunction,flux_profile,scape,static)"
   ]
  },
  {
   "cell_type": "code",
   "execution_count": null,
   "id": "6dab5795",
   "metadata": {},
   "outputs": [],
   "source": [
    "plotOptimization(LossA,JJ1,JJ2,paths,'Optimization-JJ1_JJ2','JJ1(GHz)','JJ2(GHz)',export='pdf',size=(600,800),legend=False)"
   ]
  },
  {
   "cell_type": "code",
   "execution_count": null,
   "id": "73d22b5e",
   "metadata": {},
   "outputs": [],
   "source": []
  },
  {
   "cell_type": "markdown",
   "id": "a29f338b",
   "metadata": {},
   "source": [
    "#### subspace D"
   ]
  },
  {
   "cell_type": "code",
   "execution_count": 94,
   "id": "9ee12b4f",
   "metadata": {},
   "outputs": [
    {
     "data": {
      "text/plain": [
       "<module 'DiSuQ.Torch.models' from '/Users/chishti/JupyterHub/DiSuQ/Torch/models.py'>"
      ]
     },
     "execution_count": 94,
     "metadata": {},
     "output_type": "execute_result"
    }
   ],
   "source": [
    "import importlib\n",
    "importlib.reload(models)"
   ]
  },
  {
   "cell_type": "code",
   "execution_count": 95,
   "id": "43218df4",
   "metadata": {},
   "outputs": [],
   "source": [
    "basis = {'O':[8],'J':[6,6],'I':[]}; rep = 'K'\n",
    "C12 = .5 ; C22 = 20. ; C11 = C22\n",
    "JJ1 = 150; JJ3 = 150 ; JJ2 = 50\n",
    "ind = 800\n",
    "circuit = models.shuntedQubit(basis,josephson=[JJ1,JJ2,JJ3],cap=[C11,C12,C22],ind=ind,sparse=False,symmetry=True,\n",
    "                             _C_=(.5e-4,2500))\n",
    "static = circuit.circuitState()"
   ]
  },
  {
   "cell_type": "code",
   "execution_count": 96,
   "id": "ea5748ca",
   "metadata": {},
   "outputs": [],
   "source": [
    "optimizer = optimization.OrderingOptimization(circuit,representation=rep)"
   ]
  },
  {
   "cell_type": "code",
   "execution_count": 97,
   "id": "ad7e2530",
   "metadata": {},
   "outputs": [
    {
     "data": {
      "text/plain": [
       "16"
      ]
     },
     "execution_count": 97,
     "metadata": {},
     "output_type": "execute_result"
    }
   ],
   "source": [
    "subspace = ['JJ1','JJ2','C1','C2'] ; N = 2\n",
    "initials = uniformParameters(circuit,subspace,N)\n",
    "#initials = truncNormalParameters(circuit,subspace,N,var=5)\n",
    "len(initials)"
   ]
  },
  {
   "cell_type": "code",
   "execution_count": 98,
   "id": "e83a2744",
   "metadata": {
    "collapsed": true
   },
   "outputs": [
    {
     "name": "stdout",
     "output_type": "stream",
     "text": [
      "0 -------------------------------------------------\n",
      "{'JJ1': 400.0, 'C1': 1666.6666666666667, 'JJ2': 400.0, 'C2': 833.3333333333334, 'JJ3': 150.0, 'C3': 20.000003814697266, 'I': 800.0}\n",
      "L-BFGS\n",
      "{'JJ1': 400.0, 'C1': 1666.666748046875, 'JJ2': 400.0, 'C2': 833.3333740234375, 'JJ3': 400.0, 'C3': 1666.666748046875, 'I': 800.0}\n",
      "RUNNING THE L-BFGS-B CODE\n",
      "\n",
      "           * * *\n",
      "\n",
      "Machine precision = 2.220D-16\n",
      " N =            4     M =           10\n",
      "\n",
      "At X0         0 variables are exactly at the bounds\n",
      "\n",
      "At iterate    0    f=  1.42416D+07    |proj g|=  1.66667D+03\n",
      "\n",
      "At iterate    1    f=  6.10462D+06    |proj g|=  1.11502D+03\n",
      "\n",
      "At iterate    2    f=  1.32926D+05    |proj g|=  2.31881D+03\n",
      "\n",
      "At iterate    3    f=  3.87278D+03    |proj g|=  1.79206D+02\n",
      "\n",
      "At iterate    4    f=  3.38348D+03    |proj g|=  1.79060D+02\n",
      "\n",
      "At iterate    5    f=  3.38339D+03    |proj g|=  1.79060D+02\n",
      "\n",
      "           * * *\n",
      "\n",
      "Tit   = total number of iterations\n",
      "Tnf   = total number of function evaluations\n",
      "Tnint = total number of segments explored during Cauchy searches\n",
      "Skip  = number of BFGS updates skipped\n",
      "Nact  = number of active bounds at final generalized Cauchy point\n",
      "Projg = norm of the final projected gradient\n",
      "F     = final function value\n",
      "\n",
      "           * * *\n",
      "\n",
      "   N    Tit     Tnf  Tnint  Skip  Nact     Projg        F\n",
      "    4      5     14      8     0     0   1.791D+02   3.383D+03\n",
      "  F =   3383.3850097656250     \n",
      "\n",
      "STOP: TOTAL NO. of ITERATIONS REACHED LIMIT                 \n",
      "Adam\n",
      "Nelder Mead\n"
     ]
    },
    {
     "name": "stderr",
     "output_type": "stream",
     "text": [
      "/usr/local/lib/python3.11/site-packages/scipy/optimize/_minimize.py:549: RuntimeWarning:\n",
      "\n",
      "Method Nelder-Mead does not use gradient information (jac).\n",
      "\n"
     ]
    },
    {
     "name": "stdout",
     "output_type": "stream",
     "text": [
      "Optimization terminated successfully.\n",
      "         Current function value: 3356.735840\n",
      "         Iterations: 122\n",
      "         Function evaluations: 269\n",
      "lr LBFGS\n",
      "1 -------------------------------------------------\n",
      "{'JJ1': 400.0, 'C1': 1666.6666666666667, 'JJ2': 400.0, 'C2': 1666.6666666666667, 'JJ3': 150.0, 'C3': 20.000003814697266, 'I': 800.0}\n",
      "L-BFGS\n",
      "{'JJ1': 400.0, 'C1': 1666.666748046875, 'JJ2': 400.0, 'C2': 1666.666748046875, 'JJ3': 400.0, 'C3': 1666.666748046875, 'I': 800.0}\n",
      "RUNNING THE L-BFGS-B CODE\n",
      "\n",
      "           * * *\n",
      "\n",
      "Machine precision = 2.220D-16\n",
      " N =            4     M =           10\n",
      "\n",
      "At X0         0 variables are exactly at the bounds\n",
      "\n",
      "At iterate    0    f=  3.51636D+07    |proj g|=  1.66667D+03\n",
      "\n",
      "At iterate    1    f=  1.38488D+07    |proj g|=  1.11204D+03\n",
      "\n",
      "At iterate    2    f=  5.93465D+06    |proj g|=  7.64716D+02\n",
      "\n",
      "At iterate    3    f=  1.90543D+06    |proj g|=  8.93503D+02\n",
      "\n",
      "At iterate    4    f=  1.16134D+06    |proj g|=  2.06094D+03\n",
      "\n",
      "At iterate    5    f=  2.69118D+05    |proj g|=  2.01825D+03\n",
      "\n",
      "           * * *\n",
      "\n",
      "Tit   = total number of iterations\n",
      "Tnf   = total number of function evaluations\n",
      "Tnint = total number of segments explored during Cauchy searches\n",
      "Skip  = number of BFGS updates skipped\n",
      "Nact  = number of active bounds at final generalized Cauchy point\n",
      "Projg = norm of the final projected gradient\n",
      "F     = final function value\n",
      "\n",
      "           * * *\n",
      "\n",
      "   N    Tit     Tnf  Tnint  Skip  Nact     Projg        F\n",
      "    4      5      8      9     0     0   2.018D+03   2.691D+05\n",
      "  F =   269118.03125000000     \n",
      "\n",
      "STOP: TOTAL NO. of ITERATIONS REACHED LIMIT                 \n",
      "Adam\n",
      "Nelder Mead\n",
      "Optimization terminated successfully.\n",
      "         Current function value: 2423.017578\n",
      "         Iterations: 152\n",
      "         Function evaluations: 370\n",
      "lr LBFGS\n",
      "2 -------------------------------------------------\n",
      "{'JJ1': 400.0, 'C1': 1666.6666666666667, 'JJ2': 800.0, 'C2': 833.3333333333334, 'JJ3': 150.0, 'C3': 20.000003814697266, 'I': 800.0}\n",
      "L-BFGS\n",
      "{'JJ1': 400.0, 'C1': 1666.666748046875, 'JJ2': 800.0, 'C2': 833.3333740234375, 'JJ3': 400.0, 'C3': 1666.666748046875, 'I': 800.0}\n",
      "RUNNING THE L-BFGS-B CODE\n",
      "\n",
      "           * * *\n",
      "\n",
      "Machine precision = 2.220D-16\n",
      " N =            4     M =           10\n",
      "\n",
      "At X0         0 variables are exactly at the bounds\n",
      "\n",
      "At iterate    0    f=  1.52946D+07    |proj g|=  1.66667D+03\n",
      "\n",
      "At iterate    1    f=  6.56943D+06    |proj g|=  1.11482D+03\n",
      "\n",
      "At iterate    2    f=  3.39747D+06    |proj g|=  7.70118D+02\n",
      "\n",
      "At iterate    3    f=  1.87171D+06    |proj g|=  5.42157D+02\n",
      "\n",
      "At iterate    4    f=  1.96297D+04    |proj g|=  2.23702D+03\n",
      "\n",
      "At iterate    5    f=  3.70167D+03    |proj g|=  1.12206D+03\n",
      "\n",
      "           * * *\n",
      "\n",
      "Tit   = total number of iterations\n",
      "Tnf   = total number of function evaluations\n",
      "Tnint = total number of segments explored during Cauchy searches\n",
      "Skip  = number of BFGS updates skipped\n",
      "Nact  = number of active bounds at final generalized Cauchy point\n",
      "Projg = norm of the final projected gradient\n",
      "F     = final function value\n",
      "\n",
      "           * * *\n",
      "\n",
      "   N    Tit     Tnf  Tnint  Skip  Nact     Projg        F\n",
      "    4      5      9      8     0     0   1.122D+03   3.702D+03\n",
      "  F =   3701.6650390625000     \n",
      "\n",
      "STOP: TOTAL NO. of ITERATIONS REACHED LIMIT                 \n",
      "Adam\n",
      "Nelder Mead\n",
      "Optimization terminated successfully.\n",
      "         Current function value: 180.547516\n",
      "         Iterations: 175\n",
      "         Function evaluations: 373\n",
      "lr LBFGS\n",
      "3 -------------------------------------------------\n",
      "{'JJ1': 400.0, 'C1': 1666.6666666666667, 'JJ2': 800.0, 'C2': 1666.6666666666667, 'JJ3': 150.0, 'C3': 20.000003814697266, 'I': 800.0}\n",
      "L-BFGS\n",
      "{'JJ1': 400.0, 'C1': 1666.666748046875, 'JJ2': 800.0, 'C2': 1666.666748046875, 'JJ3': 400.0, 'C3': 1666.666748046875, 'I': 800.0}\n",
      "RUNNING THE L-BFGS-B CODE\n",
      "\n",
      "           * * *\n",
      "\n",
      "Machine precision = 2.220D-16\n",
      " N =            4     M =           10\n",
      "\n",
      "At X0         0 variables are exactly at the bounds\n",
      "\n",
      "At iterate    0    f=  3.33666D+07    |proj g|=  1.66667D+03\n",
      "\n",
      "At iterate    1    f=  1.33916D+07    |proj g|=  1.11213D+03\n",
      "\n",
      "At iterate    2    f=  5.75169D+06    |proj g|=  8.28408D+02\n",
      "\n",
      "At iterate    3    f=  2.12896D+06    |proj g|=  9.91966D+02\n",
      "\n",
      "At iterate    4    f=  1.40899D+06    |proj g|=  2.12068D+03\n",
      "\n",
      "At iterate    5    f=  3.41712D+05    |proj g|=  2.08599D+03\n",
      "\n",
      "           * * *\n",
      "\n",
      "Tit   = total number of iterations\n",
      "Tnf   = total number of function evaluations\n",
      "Tnint = total number of segments explored during Cauchy searches\n",
      "Skip  = number of BFGS updates skipped\n",
      "Adam\n",
      "Nact  = number of active bounds at final generalized Cauchy point\n",
      "Projg = norm of the final projected gradient\n",
      "F     = final function value\n",
      "\n",
      "           * * *\n",
      "\n",
      "   N    Tit     Tnf  Tnint  Skip  Nact     Projg        F\n",
      "    4      5      8      8     0     0   2.086D+03   3.417D+05\n",
      "  F =   341711.59375000000     \n",
      "\n",
      "STOP: TOTAL NO. of ITERATIONS REACHED LIMIT                 \n",
      "Nelder Mead\n",
      "Optimization terminated successfully.\n",
      "         Current function value: 102.835892\n",
      "         Iterations: 218\n",
      "         Function evaluations: 436\n",
      "lr LBFGS\n",
      "4 -------------------------------------------------\n",
      "{'JJ1': 800.0, 'C1': 1666.6666666666667, 'JJ2': 400.0, 'C2': 833.3333333333334, 'JJ3': 150.0, 'C3': 20.000003814697266, 'I': 800.0}\n",
      "L-BFGS\n",
      "{'JJ1': 800.0, 'C1': 1666.666748046875, 'JJ2': 400.0, 'C2': 833.3333740234375, 'JJ3': 800.0, 'C3': 1666.666748046875, 'I': 800.0}\n",
      "RUNNING THE L-BFGS-B CODE\n",
      "\n",
      "           * * *\n",
      "\n",
      "Machine precision = 2.220D-16\n",
      " N =            4     M =           10\n",
      "\n",
      "At X0         0 variables are exactly at the bounds\n",
      "\n",
      "At iterate    0    f=  1.39480D+07    |proj g|=  1.66667D+03\n",
      "\n",
      "At iterate    1    f=  5.90745D+06    |proj g|=  1.11505D+03\n",
      "\n",
      "At iterate    2    f=  1.37357D+05    |proj g|=  2.30637D+03\n",
      "\n",
      "At iterate    3    f=  1.03750D+04    |proj g|=  1.98275D+03\n",
      "\n",
      "At iterate    4    f=  4.17701D+03    |proj g|=  1.92342D+02\n",
      "\n",
      "At iterate    5    f=  4.17701D+03    |proj g|=  1.92342D+02\n",
      "\n",
      "           * * *\n",
      "\n",
      "Tit   = total number of iterations\n",
      "Tnf   = total number of function evaluations\n",
      "Tnint = total number of segments explored during Cauchy searches\n",
      "Skip  = number of BFGS updates skipped\n",
      "Nact  = number of active bounds at final generalized Cauchy point\n",
      "Projg = norm of the final projected gradient\n",
      "F     = final function value\n",
      "\n",
      "           * * *\n",
      "\n",
      "   N    Tit     Tnf  Tnint  Skip  Nact     Projg        F\n",
      "    4      5     20      8     0     0   1.923D+02   4.177D+03\n",
      "  F =   4177.0107421875000     \n",
      "\n",
      "STOP: TOTAL NO. of ITERATIONS REACHED LIMIT                 \n",
      "Adam\n",
      "Nelder Mead\n",
      "Optimization terminated successfully.\n",
      "         Current function value: 3819.248047\n",
      "         Iterations: 134\n",
      "         Function evaluations: 294\n",
      "lr LBFGS\n",
      "5 -------------------------------------------------\n",
      "{'JJ1': 800.0, 'C1': 1666.6666666666667, 'JJ2': 400.0, 'C2': 1666.6666666666667, 'JJ3': 150.0, 'C3': 20.000003814697266, 'I': 800.0}\n",
      "L-BFGS\n",
      "{'JJ1': 800.0, 'C1': 1666.666748046875, 'JJ2': 400.0, 'C2': 1666.666748046875, 'JJ3': 800.0, 'C3': 1666.666748046875, 'I': 800.0}\n",
      "RUNNING THE L-BFGS-B CODE\n",
      "\n",
      "           * * *\n",
      "\n",
      "Machine precision = 2.220D-16\n",
      " N =            4     M =           10\n",
      "\n",
      "At X0         0 variables are exactly at the bounds\n",
      "\n",
      "At iterate    0    f=  3.32845D+07    |proj g|=  1.66667D+03\n",
      "\n",
      "At iterate    1    f=  1.33587D+07    |proj g|=  1.11214D+03\n",
      "\n",
      "At iterate    2    f=  6.36980D+06    |proj g|=  8.37840D+02\n",
      "\n",
      "At iterate    3    f=  1.32395D+06    |proj g|=  1.88272D+03\n",
      "\n",
      "At iterate    4    f=  6.76173D+05    |proj g|=  1.87397D+03\n",
      "\n",
      "At iterate    5    f=  3.44547D+05    |proj g|=  1.84610D+03\n",
      "\n",
      "           * * *\n",
      "\n",
      "Tit   = total number of iterations\n",
      "Tnf   = total number of function evaluations\n",
      "Tnint = total number of segments explored during Cauchy searches\n",
      "Skip  = number of BFGS updates skipped\n",
      "Nact  = number of active bounds at final generalized Cauchy point\n",
      "Projg = norm of the final projected gradient\n",
      "F     = final function value\n",
      "\n",
      "           * * *\n",
      "\n",
      "   N    Tit     Tnf  Tnint  Skip  Nact     Projg        F\n",
      "    4      5      9     10     0     1   1.846D+03   3.445D+05\n",
      "  F =   344547.28125000000     \n",
      "\n",
      "STOP: TOTAL NO. of ITERATIONS REACHED LIMIT                 \n",
      "Adam\n",
      "Nelder Mead\n",
      "Optimization terminated successfully.\n",
      "         Current function value: 4580.399414\n",
      "         Iterations: 162\n",
      "         Function evaluations: 373\n",
      "lr LBFGS\n",
      "6 -------------------------------------------------\n",
      "{'JJ1': 800.0, 'C1': 1666.6666666666667, 'JJ2': 800.0, 'C2': 833.3333333333334, 'JJ3': 150.0, 'C3': 20.000003814697266, 'I': 800.0}\n",
      "L-BFGS\n",
      "{'JJ1': 800.0, 'C1': 1666.666748046875, 'JJ2': 800.0, 'C2': 833.3333740234375, 'JJ3': 800.0, 'C3': 1666.666748046875, 'I': 800.0}\n"
     ]
    },
    {
     "name": "stdout",
     "output_type": "stream",
     "text": [
      "RUNNING THE L-BFGS-B CODE\n",
      "\n",
      "           * * *\n",
      "\n",
      "Machine precision = 2.220D-16\n",
      " N =            4     M =           10\n",
      "\n",
      "At X0         0 variables are exactly at the bounds\n",
      "\n",
      "At iterate    0    f=  1.49630D+07    |proj g|=  1.66667D+03\n",
      "\n",
      "At iterate    1    f=  6.35812D+06    |proj g|=  1.11485D+03\n",
      "\n",
      "At iterate    2    f=  3.35053D+06    |proj g|=  7.72129D+02\n",
      "\n",
      "At iterate    3    f=  1.94076D+06    |proj g|=  5.47394D+02\n",
      "\n",
      "At iterate    4    f=  1.24068D+06    |proj g|=  3.93688D+02\n",
      "\n",
      "At iterate    5    f=  8.25874D+05    |proj g|=  1.12553D+03\n",
      "\n",
      "           * * *\n",
      "\n",
      "Tit   = total number of iterations\n",
      "Tnf   = total number of function evaluations\n",
      "Tnint = total number of segments explored during Cauchy searches\n",
      "Skip  = number of BFGS updates skipped\n",
      "Nact  = number of active bounds at final generalized Cauchy point\n",
      "Projg = norm of the final projected gradient\n",
      "F     = final function value\n",
      "\n",
      "           * * *\n",
      "\n",
      "   N    Tit     Tnf  Tnint  Skip  Nact     Projg        F\n",
      "    4      5     11      8     0     0   1.126D+03   8.259D+05\n",
      "  F =   825873.62500000000     \n",
      "\n",
      "STOP: TOTAL NO. of ITERATIONS REACHED LIMIT                 \n",
      "Adam\n",
      "Nelder Mead\n",
      "Optimization terminated successfully.\n",
      "         Current function value: 19749.597656\n",
      "         Iterations: 126\n",
      "         Function evaluations: 295\n",
      "lr LBFGS\n",
      "7 -------------------------------------------------\n",
      "{'JJ1': 800.0, 'C1': 1666.6666666666667, 'JJ2': 800.0, 'C2': 1666.6666666666667, 'JJ3': 150.0, 'C3': 20.000003814697266, 'I': 800.0}\n",
      "L-BFGS\n",
      "{'JJ1': 800.0, 'C1': 1666.666748046875, 'JJ2': 800.0, 'C2': 1666.666748046875, 'JJ3': 800.0, 'C3': 1666.666748046875, 'I': 800.0}\n",
      "RUNNING THE L-BFGS-B CODE\n",
      "\n",
      "           * * *\n",
      "\n",
      "Machine precision = 2.220D-16\n",
      " N =            4     M =           10\n",
      "\n",
      "At X0         0 variables are exactly at the bounds\n",
      "\n",
      "At iterate    0    f=  3.21553D+07    |proj g|=  1.66667D+03\n",
      "\n",
      "At iterate    1    f=  1.31182D+07    |proj g|=  1.11221D+03\n",
      "\n",
      "At iterate    2    f=  6.06423D+06    |proj g|=  9.67371D+02\n",
      "\n",
      "At iterate    3    f=  1.83928D+06    |proj g|=  9.84725D+02\n",
      "\n",
      "At iterate    4    f=  1.05504D+06    |proj g|=  2.00472D+03\n",
      "\n",
      "At iterate    5    f=  5.15568D+05    |proj g|=  1.97340D+03\n",
      "\n",
      "           * * *\n",
      "\n",
      "Tit   = total number of iterations\n",
      "Tnf   = total number of function evaluations\n",
      "Tnint = total number of segments explored during Cauchy searches\n",
      "Skip  = number of BFGS updates skipped\n",
      "Nact  = number of active bounds at final generalized Cauchy point\n",
      "Projg = norm of the final projected gradient\n",
      "F     = final function value\n",
      "\n",
      "           * * *\n",
      "\n",
      "   N    Tit     Tnf  Tnint  Skip  Nact     Projg        F\n",
      "    4      5      9     10     0     1   1.973D+03   5.156D+05\n",
      "  F =   515567.78125000000     \n",
      "\n",
      "STOP: TOTAL NO. of ITERATIONS REACHED LIMIT                 \n",
      "Adam\n",
      "Nelder Mead\n",
      "Optimization terminated successfully.\n",
      "         Current function value: 13779.870117\n",
      "         Iterations: 156\n",
      "         Function evaluations: 363\n",
      "lr LBFGS\n"
     ]
    }
   ],
   "source": [
    "OptimizationD = benchmarking(optimizer,initials[8:],subspace)\n",
    "Adam2,lrBFGS,NelMea,LBFGS = OptimizationD"
   ]
  },
  {
   "cell_type": "code",
   "execution_count": 119,
   "id": "51f2435b",
   "metadata": {},
   "outputs": [
    {
     "name": "stdout",
     "output_type": "stream",
     "text": [
      "13920898.0\n",
      "4\n",
      "[ 813.21838379  386.79177856 1638.65966797  805.79144287]\n",
      "17158100.0\n",
      "0\n",
      "[9.99999997e-07 1.20000000e+03 4.99999987e-05 4.99999987e-05]\n",
      "102.83589172363281\n",
      "3\n",
      "[  21.44665146 1200.            2.41201758  494.22122192]\n",
      "3383.385009765625\n",
      "0\n",
      "[1.17833228e+03 1.87924728e+01 5.80824688e-02 1.79060181e+02]\n"
     ]
    }
   ],
   "source": [
    "Result = [optimizationAnalysis(initials,subspace,algo) for algo in OptimizationD]\n",
    "paths,losse = analysisPlotting(Result)"
   ]
  },
  {
   "cell_type": "code",
   "execution_count": 100,
   "id": "feef88c8",
   "metadata": {
    "collapsed": true
   },
   "outputs": [
    {
     "data": {
      "application/vnd.plotly.v1+json": {
       "config": {
        "linkText": "Export to plot.ly",
        "plotlyServerURL": "https://plot.ly",
        "showLink": false
       },
       "data": [
        {
         "name": "Adam2",
         "type": "box",
         "y": [
          14219233,
          35069560,
          15251666,
          33293020,
          13920898,
          33210852,
          14915892,
          32086124
         ]
        },
        {
         "name": "lrBFGS",
         "type": "box",
         "y": [
          17158100,
          31988036,
          17158100,
          38668712,
          17158100,
          38668712,
          17158100,
          38668712
         ]
        },
        {
         "name": "Nelder-Mead",
         "type": "box",
         "y": [
          3356.73583984375,
          2423.017578125,
          180.54751586914062,
          102.83589172363281,
          3819.248046875,
          4580.3994140625,
          19749.59765625,
          13779.8701171875
         ]
        },
        {
         "name": "LBFGS",
         "type": "box",
         "y": [
          3383.385009765625,
          269118.03125,
          3701.6650390625,
          341711.59375,
          4177.0107421875,
          344547.28125,
          825873.625,
          515567.78125
         ]
        }
       ],
       "layout": {
        "font": {
         "size": 20
        },
        "height": 600,
        "legend": {
         "x": 0.99,
         "xanchor": "right",
         "y": 0.99,
         "yanchor": "top"
        },
        "margin": {
         "r": 10,
         "t": 100
        },
        "showlegend": false,
        "template": {
         "data": {
          "bar": [
           {
            "error_x": {
             "color": "#2a3f5f"
            },
            "error_y": {
             "color": "#2a3f5f"
            },
            "marker": {
             "line": {
              "color": "#E5ECF6",
              "width": 0.5
             },
             "pattern": {
              "fillmode": "overlay",
              "size": 10,
              "solidity": 0.2
             }
            },
            "type": "bar"
           }
          ],
          "barpolar": [
           {
            "marker": {
             "line": {
              "color": "#E5ECF6",
              "width": 0.5
             },
             "pattern": {
              "fillmode": "overlay",
              "size": 10,
              "solidity": 0.2
             }
            },
            "type": "barpolar"
           }
          ],
          "carpet": [
           {
            "aaxis": {
             "endlinecolor": "#2a3f5f",
             "gridcolor": "white",
             "linecolor": "white",
             "minorgridcolor": "white",
             "startlinecolor": "#2a3f5f"
            },
            "baxis": {
             "endlinecolor": "#2a3f5f",
             "gridcolor": "white",
             "linecolor": "white",
             "minorgridcolor": "white",
             "startlinecolor": "#2a3f5f"
            },
            "type": "carpet"
           }
          ],
          "choropleth": [
           {
            "colorbar": {
             "outlinewidth": 0,
             "ticks": ""
            },
            "type": "choropleth"
           }
          ],
          "contour": [
           {
            "colorbar": {
             "outlinewidth": 0,
             "ticks": ""
            },
            "colorscale": [
             [
              0,
              "#0d0887"
             ],
             [
              0.1111111111111111,
              "#46039f"
             ],
             [
              0.2222222222222222,
              "#7201a8"
             ],
             [
              0.3333333333333333,
              "#9c179e"
             ],
             [
              0.4444444444444444,
              "#bd3786"
             ],
             [
              0.5555555555555556,
              "#d8576b"
             ],
             [
              0.6666666666666666,
              "#ed7953"
             ],
             [
              0.7777777777777778,
              "#fb9f3a"
             ],
             [
              0.8888888888888888,
              "#fdca26"
             ],
             [
              1,
              "#f0f921"
             ]
            ],
            "type": "contour"
           }
          ],
          "contourcarpet": [
           {
            "colorbar": {
             "outlinewidth": 0,
             "ticks": ""
            },
            "type": "contourcarpet"
           }
          ],
          "heatmap": [
           {
            "colorbar": {
             "outlinewidth": 0,
             "ticks": ""
            },
            "colorscale": [
             [
              0,
              "#0d0887"
             ],
             [
              0.1111111111111111,
              "#46039f"
             ],
             [
              0.2222222222222222,
              "#7201a8"
             ],
             [
              0.3333333333333333,
              "#9c179e"
             ],
             [
              0.4444444444444444,
              "#bd3786"
             ],
             [
              0.5555555555555556,
              "#d8576b"
             ],
             [
              0.6666666666666666,
              "#ed7953"
             ],
             [
              0.7777777777777778,
              "#fb9f3a"
             ],
             [
              0.8888888888888888,
              "#fdca26"
             ],
             [
              1,
              "#f0f921"
             ]
            ],
            "type": "heatmap"
           }
          ],
          "heatmapgl": [
           {
            "colorbar": {
             "outlinewidth": 0,
             "ticks": ""
            },
            "colorscale": [
             [
              0,
              "#0d0887"
             ],
             [
              0.1111111111111111,
              "#46039f"
             ],
             [
              0.2222222222222222,
              "#7201a8"
             ],
             [
              0.3333333333333333,
              "#9c179e"
             ],
             [
              0.4444444444444444,
              "#bd3786"
             ],
             [
              0.5555555555555556,
              "#d8576b"
             ],
             [
              0.6666666666666666,
              "#ed7953"
             ],
             [
              0.7777777777777778,
              "#fb9f3a"
             ],
             [
              0.8888888888888888,
              "#fdca26"
             ],
             [
              1,
              "#f0f921"
             ]
            ],
            "type": "heatmapgl"
           }
          ],
          "histogram": [
           {
            "marker": {
             "pattern": {
              "fillmode": "overlay",
              "size": 10,
              "solidity": 0.2
             }
            },
            "type": "histogram"
           }
          ],
          "histogram2d": [
           {
            "colorbar": {
             "outlinewidth": 0,
             "ticks": ""
            },
            "colorscale": [
             [
              0,
              "#0d0887"
             ],
             [
              0.1111111111111111,
              "#46039f"
             ],
             [
              0.2222222222222222,
              "#7201a8"
             ],
             [
              0.3333333333333333,
              "#9c179e"
             ],
             [
              0.4444444444444444,
              "#bd3786"
             ],
             [
              0.5555555555555556,
              "#d8576b"
             ],
             [
              0.6666666666666666,
              "#ed7953"
             ],
             [
              0.7777777777777778,
              "#fb9f3a"
             ],
             [
              0.8888888888888888,
              "#fdca26"
             ],
             [
              1,
              "#f0f921"
             ]
            ],
            "type": "histogram2d"
           }
          ],
          "histogram2dcontour": [
           {
            "colorbar": {
             "outlinewidth": 0,
             "ticks": ""
            },
            "colorscale": [
             [
              0,
              "#0d0887"
             ],
             [
              0.1111111111111111,
              "#46039f"
             ],
             [
              0.2222222222222222,
              "#7201a8"
             ],
             [
              0.3333333333333333,
              "#9c179e"
             ],
             [
              0.4444444444444444,
              "#bd3786"
             ],
             [
              0.5555555555555556,
              "#d8576b"
             ],
             [
              0.6666666666666666,
              "#ed7953"
             ],
             [
              0.7777777777777778,
              "#fb9f3a"
             ],
             [
              0.8888888888888888,
              "#fdca26"
             ],
             [
              1,
              "#f0f921"
             ]
            ],
            "type": "histogram2dcontour"
           }
          ],
          "mesh3d": [
           {
            "colorbar": {
             "outlinewidth": 0,
             "ticks": ""
            },
            "type": "mesh3d"
           }
          ],
          "parcoords": [
           {
            "line": {
             "colorbar": {
              "outlinewidth": 0,
              "ticks": ""
             }
            },
            "type": "parcoords"
           }
          ],
          "pie": [
           {
            "automargin": true,
            "type": "pie"
           }
          ],
          "scatter": [
           {
            "fillpattern": {
             "fillmode": "overlay",
             "size": 10,
             "solidity": 0.2
            },
            "type": "scatter"
           }
          ],
          "scatter3d": [
           {
            "line": {
             "colorbar": {
              "outlinewidth": 0,
              "ticks": ""
             }
            },
            "marker": {
             "colorbar": {
              "outlinewidth": 0,
              "ticks": ""
             }
            },
            "type": "scatter3d"
           }
          ],
          "scattercarpet": [
           {
            "marker": {
             "colorbar": {
              "outlinewidth": 0,
              "ticks": ""
             }
            },
            "type": "scattercarpet"
           }
          ],
          "scattergeo": [
           {
            "marker": {
             "colorbar": {
              "outlinewidth": 0,
              "ticks": ""
             }
            },
            "type": "scattergeo"
           }
          ],
          "scattergl": [
           {
            "marker": {
             "colorbar": {
              "outlinewidth": 0,
              "ticks": ""
             }
            },
            "type": "scattergl"
           }
          ],
          "scattermapbox": [
           {
            "marker": {
             "colorbar": {
              "outlinewidth": 0,
              "ticks": ""
             }
            },
            "type": "scattermapbox"
           }
          ],
          "scatterpolar": [
           {
            "marker": {
             "colorbar": {
              "outlinewidth": 0,
              "ticks": ""
             }
            },
            "type": "scatterpolar"
           }
          ],
          "scatterpolargl": [
           {
            "marker": {
             "colorbar": {
              "outlinewidth": 0,
              "ticks": ""
             }
            },
            "type": "scatterpolargl"
           }
          ],
          "scatterternary": [
           {
            "marker": {
             "colorbar": {
              "outlinewidth": 0,
              "ticks": ""
             }
            },
            "type": "scatterternary"
           }
          ],
          "surface": [
           {
            "colorbar": {
             "outlinewidth": 0,
             "ticks": ""
            },
            "colorscale": [
             [
              0,
              "#0d0887"
             ],
             [
              0.1111111111111111,
              "#46039f"
             ],
             [
              0.2222222222222222,
              "#7201a8"
             ],
             [
              0.3333333333333333,
              "#9c179e"
             ],
             [
              0.4444444444444444,
              "#bd3786"
             ],
             [
              0.5555555555555556,
              "#d8576b"
             ],
             [
              0.6666666666666666,
              "#ed7953"
             ],
             [
              0.7777777777777778,
              "#fb9f3a"
             ],
             [
              0.8888888888888888,
              "#fdca26"
             ],
             [
              1,
              "#f0f921"
             ]
            ],
            "type": "surface"
           }
          ],
          "table": [
           {
            "cells": {
             "fill": {
              "color": "#EBF0F8"
             },
             "line": {
              "color": "white"
             }
            },
            "header": {
             "fill": {
              "color": "#C8D4E3"
             },
             "line": {
              "color": "white"
             }
            },
            "type": "table"
           }
          ]
         },
         "layout": {
          "annotationdefaults": {
           "arrowcolor": "#2a3f5f",
           "arrowhead": 0,
           "arrowwidth": 1
          },
          "autotypenumbers": "strict",
          "coloraxis": {
           "colorbar": {
            "outlinewidth": 0,
            "ticks": ""
           }
          },
          "colorscale": {
           "diverging": [
            [
             0,
             "#8e0152"
            ],
            [
             0.1,
             "#c51b7d"
            ],
            [
             0.2,
             "#de77ae"
            ],
            [
             0.3,
             "#f1b6da"
            ],
            [
             0.4,
             "#fde0ef"
            ],
            [
             0.5,
             "#f7f7f7"
            ],
            [
             0.6,
             "#e6f5d0"
            ],
            [
             0.7,
             "#b8e186"
            ],
            [
             0.8,
             "#7fbc41"
            ],
            [
             0.9,
             "#4d9221"
            ],
            [
             1,
             "#276419"
            ]
           ],
           "sequential": [
            [
             0,
             "#0d0887"
            ],
            [
             0.1111111111111111,
             "#46039f"
            ],
            [
             0.2222222222222222,
             "#7201a8"
            ],
            [
             0.3333333333333333,
             "#9c179e"
            ],
            [
             0.4444444444444444,
             "#bd3786"
            ],
            [
             0.5555555555555556,
             "#d8576b"
            ],
            [
             0.6666666666666666,
             "#ed7953"
            ],
            [
             0.7777777777777778,
             "#fb9f3a"
            ],
            [
             0.8888888888888888,
             "#fdca26"
            ],
            [
             1,
             "#f0f921"
            ]
           ],
           "sequentialminus": [
            [
             0,
             "#0d0887"
            ],
            [
             0.1111111111111111,
             "#46039f"
            ],
            [
             0.2222222222222222,
             "#7201a8"
            ],
            [
             0.3333333333333333,
             "#9c179e"
            ],
            [
             0.4444444444444444,
             "#bd3786"
            ],
            [
             0.5555555555555556,
             "#d8576b"
            ],
            [
             0.6666666666666666,
             "#ed7953"
            ],
            [
             0.7777777777777778,
             "#fb9f3a"
            ],
            [
             0.8888888888888888,
             "#fdca26"
            ],
            [
             1,
             "#f0f921"
            ]
           ]
          },
          "colorway": [
           "#636efa",
           "#EF553B",
           "#00cc96",
           "#ab63fa",
           "#FFA15A",
           "#19d3f3",
           "#FF6692",
           "#B6E880",
           "#FF97FF",
           "#FECB52"
          ],
          "font": {
           "color": "#2a3f5f"
          },
          "geo": {
           "bgcolor": "white",
           "lakecolor": "white",
           "landcolor": "#E5ECF6",
           "showlakes": true,
           "showland": true,
           "subunitcolor": "white"
          },
          "hoverlabel": {
           "align": "left"
          },
          "hovermode": "closest",
          "mapbox": {
           "style": "light"
          },
          "paper_bgcolor": "white",
          "plot_bgcolor": "#E5ECF6",
          "polar": {
           "angularaxis": {
            "gridcolor": "white",
            "linecolor": "white",
            "ticks": ""
           },
           "bgcolor": "#E5ECF6",
           "radialaxis": {
            "gridcolor": "white",
            "linecolor": "white",
            "ticks": ""
           }
          },
          "scene": {
           "xaxis": {
            "backgroundcolor": "#E5ECF6",
            "gridcolor": "white",
            "gridwidth": 2,
            "linecolor": "white",
            "showbackground": true,
            "ticks": "",
            "zerolinecolor": "white"
           },
           "yaxis": {
            "backgroundcolor": "#E5ECF6",
            "gridcolor": "white",
            "gridwidth": 2,
            "linecolor": "white",
            "showbackground": true,
            "ticks": "",
            "zerolinecolor": "white"
           },
           "zaxis": {
            "backgroundcolor": "#E5ECF6",
            "gridcolor": "white",
            "gridwidth": 2,
            "linecolor": "white",
            "showbackground": true,
            "ticks": "",
            "zerolinecolor": "white"
           }
          },
          "shapedefaults": {
           "line": {
            "color": "#2a3f5f"
           }
          },
          "ternary": {
           "aaxis": {
            "gridcolor": "white",
            "linecolor": "white",
            "ticks": ""
           },
           "baxis": {
            "gridcolor": "white",
            "linecolor": "white",
            "ticks": ""
           },
           "bgcolor": "#E5ECF6",
           "caxis": {
            "gridcolor": "white",
            "linecolor": "white",
            "ticks": ""
           }
          },
          "title": {
           "x": 0.05
          },
          "xaxis": {
           "automargin": true,
           "gridcolor": "white",
           "linecolor": "white",
           "ticks": "",
           "title": {
            "standoff": 15
           },
           "zerolinecolor": "white",
           "zerolinewidth": 2
          },
          "yaxis": {
           "automargin": true,
           "gridcolor": "white",
           "linecolor": "white",
           "ticks": "",
           "title": {
            "standoff": 15
           },
           "zerolinecolor": "white",
           "zerolinewidth": 2
          }
         }
        },
        "title": {
         "text": "Loss Distribution"
        },
        "width": 800
       }
      },
      "text/html": [
       "<div>                            <div id=\"83bc2356-5297-494d-aadc-be3abb185c55\" class=\"plotly-graph-div\" style=\"height:600px; width:800px;\"></div>            <script type=\"text/javascript\">                require([\"plotly\"], function(Plotly) {                    window.PLOTLYENV=window.PLOTLYENV || {};                                    if (document.getElementById(\"83bc2356-5297-494d-aadc-be3abb185c55\")) {                    Plotly.newPlot(                        \"83bc2356-5297-494d-aadc-be3abb185c55\",                        [{\"name\":\"Adam2\",\"y\":[14219233.0,35069560.0,15251666.0,33293020.0,13920898.0,33210852.0,14915892.0,32086124.0],\"type\":\"box\"},{\"name\":\"lrBFGS\",\"y\":[17158100.0,31988036.0,17158100.0,38668712.0,17158100.0,38668712.0,17158100.0,38668712.0],\"type\":\"box\"},{\"name\":\"Nelder-Mead\",\"y\":[3356.73583984375,2423.017578125,180.54751586914062,102.83589172363281,3819.248046875,4580.3994140625,19749.59765625,13779.8701171875],\"type\":\"box\"},{\"name\":\"LBFGS\",\"y\":[3383.385009765625,269118.03125,3701.6650390625,341711.59375,4177.0107421875,344547.28125,825873.625,515567.78125],\"type\":\"box\"}],                        {\"font\":{\"size\":20},\"height\":600,\"legend\":{\"x\":0.99,\"xanchor\":\"right\",\"y\":0.99,\"yanchor\":\"top\"},\"margin\":{\"r\":10,\"t\":100},\"showlegend\":false,\"template\":{\"data\":{\"barpolar\":[{\"marker\":{\"line\":{\"color\":\"#E5ECF6\",\"width\":0.5},\"pattern\":{\"fillmode\":\"overlay\",\"size\":10,\"solidity\":0.2}},\"type\":\"barpolar\"}],\"bar\":[{\"error_x\":{\"color\":\"#2a3f5f\"},\"error_y\":{\"color\":\"#2a3f5f\"},\"marker\":{\"line\":{\"color\":\"#E5ECF6\",\"width\":0.5},\"pattern\":{\"fillmode\":\"overlay\",\"size\":10,\"solidity\":0.2}},\"type\":\"bar\"}],\"carpet\":[{\"aaxis\":{\"endlinecolor\":\"#2a3f5f\",\"gridcolor\":\"white\",\"linecolor\":\"white\",\"minorgridcolor\":\"white\",\"startlinecolor\":\"#2a3f5f\"},\"baxis\":{\"endlinecolor\":\"#2a3f5f\",\"gridcolor\":\"white\",\"linecolor\":\"white\",\"minorgridcolor\":\"white\",\"startlinecolor\":\"#2a3f5f\"},\"type\":\"carpet\"}],\"choropleth\":[{\"colorbar\":{\"outlinewidth\":0,\"ticks\":\"\"},\"type\":\"choropleth\"}],\"contourcarpet\":[{\"colorbar\":{\"outlinewidth\":0,\"ticks\":\"\"},\"type\":\"contourcarpet\"}],\"contour\":[{\"colorbar\":{\"outlinewidth\":0,\"ticks\":\"\"},\"colorscale\":[[0.0,\"#0d0887\"],[0.1111111111111111,\"#46039f\"],[0.2222222222222222,\"#7201a8\"],[0.3333333333333333,\"#9c179e\"],[0.4444444444444444,\"#bd3786\"],[0.5555555555555556,\"#d8576b\"],[0.6666666666666666,\"#ed7953\"],[0.7777777777777778,\"#fb9f3a\"],[0.8888888888888888,\"#fdca26\"],[1.0,\"#f0f921\"]],\"type\":\"contour\"}],\"heatmapgl\":[{\"colorbar\":{\"outlinewidth\":0,\"ticks\":\"\"},\"colorscale\":[[0.0,\"#0d0887\"],[0.1111111111111111,\"#46039f\"],[0.2222222222222222,\"#7201a8\"],[0.3333333333333333,\"#9c179e\"],[0.4444444444444444,\"#bd3786\"],[0.5555555555555556,\"#d8576b\"],[0.6666666666666666,\"#ed7953\"],[0.7777777777777778,\"#fb9f3a\"],[0.8888888888888888,\"#fdca26\"],[1.0,\"#f0f921\"]],\"type\":\"heatmapgl\"}],\"heatmap\":[{\"colorbar\":{\"outlinewidth\":0,\"ticks\":\"\"},\"colorscale\":[[0.0,\"#0d0887\"],[0.1111111111111111,\"#46039f\"],[0.2222222222222222,\"#7201a8\"],[0.3333333333333333,\"#9c179e\"],[0.4444444444444444,\"#bd3786\"],[0.5555555555555556,\"#d8576b\"],[0.6666666666666666,\"#ed7953\"],[0.7777777777777778,\"#fb9f3a\"],[0.8888888888888888,\"#fdca26\"],[1.0,\"#f0f921\"]],\"type\":\"heatmap\"}],\"histogram2dcontour\":[{\"colorbar\":{\"outlinewidth\":0,\"ticks\":\"\"},\"colorscale\":[[0.0,\"#0d0887\"],[0.1111111111111111,\"#46039f\"],[0.2222222222222222,\"#7201a8\"],[0.3333333333333333,\"#9c179e\"],[0.4444444444444444,\"#bd3786\"],[0.5555555555555556,\"#d8576b\"],[0.6666666666666666,\"#ed7953\"],[0.7777777777777778,\"#fb9f3a\"],[0.8888888888888888,\"#fdca26\"],[1.0,\"#f0f921\"]],\"type\":\"histogram2dcontour\"}],\"histogram2d\":[{\"colorbar\":{\"outlinewidth\":0,\"ticks\":\"\"},\"colorscale\":[[0.0,\"#0d0887\"],[0.1111111111111111,\"#46039f\"],[0.2222222222222222,\"#7201a8\"],[0.3333333333333333,\"#9c179e\"],[0.4444444444444444,\"#bd3786\"],[0.5555555555555556,\"#d8576b\"],[0.6666666666666666,\"#ed7953\"],[0.7777777777777778,\"#fb9f3a\"],[0.8888888888888888,\"#fdca26\"],[1.0,\"#f0f921\"]],\"type\":\"histogram2d\"}],\"histogram\":[{\"marker\":{\"pattern\":{\"fillmode\":\"overlay\",\"size\":10,\"solidity\":0.2}},\"type\":\"histogram\"}],\"mesh3d\":[{\"colorbar\":{\"outlinewidth\":0,\"ticks\":\"\"},\"type\":\"mesh3d\"}],\"parcoords\":[{\"line\":{\"colorbar\":{\"outlinewidth\":0,\"ticks\":\"\"}},\"type\":\"parcoords\"}],\"pie\":[{\"automargin\":true,\"type\":\"pie\"}],\"scatter3d\":[{\"line\":{\"colorbar\":{\"outlinewidth\":0,\"ticks\":\"\"}},\"marker\":{\"colorbar\":{\"outlinewidth\":0,\"ticks\":\"\"}},\"type\":\"scatter3d\"}],\"scattercarpet\":[{\"marker\":{\"colorbar\":{\"outlinewidth\":0,\"ticks\":\"\"}},\"type\":\"scattercarpet\"}],\"scattergeo\":[{\"marker\":{\"colorbar\":{\"outlinewidth\":0,\"ticks\":\"\"}},\"type\":\"scattergeo\"}],\"scattergl\":[{\"marker\":{\"colorbar\":{\"outlinewidth\":0,\"ticks\":\"\"}},\"type\":\"scattergl\"}],\"scattermapbox\":[{\"marker\":{\"colorbar\":{\"outlinewidth\":0,\"ticks\":\"\"}},\"type\":\"scattermapbox\"}],\"scatterpolargl\":[{\"marker\":{\"colorbar\":{\"outlinewidth\":0,\"ticks\":\"\"}},\"type\":\"scatterpolargl\"}],\"scatterpolar\":[{\"marker\":{\"colorbar\":{\"outlinewidth\":0,\"ticks\":\"\"}},\"type\":\"scatterpolar\"}],\"scatter\":[{\"fillpattern\":{\"fillmode\":\"overlay\",\"size\":10,\"solidity\":0.2},\"type\":\"scatter\"}],\"scatterternary\":[{\"marker\":{\"colorbar\":{\"outlinewidth\":0,\"ticks\":\"\"}},\"type\":\"scatterternary\"}],\"surface\":[{\"colorbar\":{\"outlinewidth\":0,\"ticks\":\"\"},\"colorscale\":[[0.0,\"#0d0887\"],[0.1111111111111111,\"#46039f\"],[0.2222222222222222,\"#7201a8\"],[0.3333333333333333,\"#9c179e\"],[0.4444444444444444,\"#bd3786\"],[0.5555555555555556,\"#d8576b\"],[0.6666666666666666,\"#ed7953\"],[0.7777777777777778,\"#fb9f3a\"],[0.8888888888888888,\"#fdca26\"],[1.0,\"#f0f921\"]],\"type\":\"surface\"}],\"table\":[{\"cells\":{\"fill\":{\"color\":\"#EBF0F8\"},\"line\":{\"color\":\"white\"}},\"header\":{\"fill\":{\"color\":\"#C8D4E3\"},\"line\":{\"color\":\"white\"}},\"type\":\"table\"}]},\"layout\":{\"annotationdefaults\":{\"arrowcolor\":\"#2a3f5f\",\"arrowhead\":0,\"arrowwidth\":1},\"autotypenumbers\":\"strict\",\"coloraxis\":{\"colorbar\":{\"outlinewidth\":0,\"ticks\":\"\"}},\"colorscale\":{\"diverging\":[[0,\"#8e0152\"],[0.1,\"#c51b7d\"],[0.2,\"#de77ae\"],[0.3,\"#f1b6da\"],[0.4,\"#fde0ef\"],[0.5,\"#f7f7f7\"],[0.6,\"#e6f5d0\"],[0.7,\"#b8e186\"],[0.8,\"#7fbc41\"],[0.9,\"#4d9221\"],[1,\"#276419\"]],\"sequential\":[[0.0,\"#0d0887\"],[0.1111111111111111,\"#46039f\"],[0.2222222222222222,\"#7201a8\"],[0.3333333333333333,\"#9c179e\"],[0.4444444444444444,\"#bd3786\"],[0.5555555555555556,\"#d8576b\"],[0.6666666666666666,\"#ed7953\"],[0.7777777777777778,\"#fb9f3a\"],[0.8888888888888888,\"#fdca26\"],[1.0,\"#f0f921\"]],\"sequentialminus\":[[0.0,\"#0d0887\"],[0.1111111111111111,\"#46039f\"],[0.2222222222222222,\"#7201a8\"],[0.3333333333333333,\"#9c179e\"],[0.4444444444444444,\"#bd3786\"],[0.5555555555555556,\"#d8576b\"],[0.6666666666666666,\"#ed7953\"],[0.7777777777777778,\"#fb9f3a\"],[0.8888888888888888,\"#fdca26\"],[1.0,\"#f0f921\"]]},\"colorway\":[\"#636efa\",\"#EF553B\",\"#00cc96\",\"#ab63fa\",\"#FFA15A\",\"#19d3f3\",\"#FF6692\",\"#B6E880\",\"#FF97FF\",\"#FECB52\"],\"font\":{\"color\":\"#2a3f5f\"},\"geo\":{\"bgcolor\":\"white\",\"lakecolor\":\"white\",\"landcolor\":\"#E5ECF6\",\"showlakes\":true,\"showland\":true,\"subunitcolor\":\"white\"},\"hoverlabel\":{\"align\":\"left\"},\"hovermode\":\"closest\",\"mapbox\":{\"style\":\"light\"},\"paper_bgcolor\":\"white\",\"plot_bgcolor\":\"#E5ECF6\",\"polar\":{\"angularaxis\":{\"gridcolor\":\"white\",\"linecolor\":\"white\",\"ticks\":\"\"},\"bgcolor\":\"#E5ECF6\",\"radialaxis\":{\"gridcolor\":\"white\",\"linecolor\":\"white\",\"ticks\":\"\"}},\"scene\":{\"xaxis\":{\"backgroundcolor\":\"#E5ECF6\",\"gridcolor\":\"white\",\"gridwidth\":2,\"linecolor\":\"white\",\"showbackground\":true,\"ticks\":\"\",\"zerolinecolor\":\"white\"},\"yaxis\":{\"backgroundcolor\":\"#E5ECF6\",\"gridcolor\":\"white\",\"gridwidth\":2,\"linecolor\":\"white\",\"showbackground\":true,\"ticks\":\"\",\"zerolinecolor\":\"white\"},\"zaxis\":{\"backgroundcolor\":\"#E5ECF6\",\"gridcolor\":\"white\",\"gridwidth\":2,\"linecolor\":\"white\",\"showbackground\":true,\"ticks\":\"\",\"zerolinecolor\":\"white\"}},\"shapedefaults\":{\"line\":{\"color\":\"#2a3f5f\"}},\"ternary\":{\"aaxis\":{\"gridcolor\":\"white\",\"linecolor\":\"white\",\"ticks\":\"\"},\"baxis\":{\"gridcolor\":\"white\",\"linecolor\":\"white\",\"ticks\":\"\"},\"bgcolor\":\"#E5ECF6\",\"caxis\":{\"gridcolor\":\"white\",\"linecolor\":\"white\",\"ticks\":\"\"}},\"title\":{\"x\":0.05},\"xaxis\":{\"automargin\":true,\"gridcolor\":\"white\",\"linecolor\":\"white\",\"ticks\":\"\",\"title\":{\"standoff\":15},\"zerolinecolor\":\"white\",\"zerolinewidth\":2},\"yaxis\":{\"automargin\":true,\"gridcolor\":\"white\",\"linecolor\":\"white\",\"ticks\":\"\",\"title\":{\"standoff\":15},\"zerolinecolor\":\"white\",\"zerolinewidth\":2}}},\"title\":{\"text\":\"Loss Distribution\"},\"width\":800},                        {\"responsive\": true}                    ).then(function(){\n",
       "                            \n",
       "var gd = document.getElementById('83bc2356-5297-494d-aadc-be3abb185c55');\n",
       "var x = new MutationObserver(function (mutations, observer) {{\n",
       "        var display = window.getComputedStyle(gd).display;\n",
       "        if (!display || display === 'none') {{\n",
       "            console.log([gd, 'removed!']);\n",
       "            Plotly.purge(gd);\n",
       "            observer.disconnect();\n",
       "        }}\n",
       "}});\n",
       "\n",
       "// Listen for the removal of the full notebook cells\n",
       "var notebookContainer = gd.closest('#notebook-container');\n",
       "if (notebookContainer) {{\n",
       "    x.observe(notebookContainer, {childList: true});\n",
       "}}\n",
       "\n",
       "// Listen for the clearing of the current output cell\n",
       "var outputEl = gd.closest('.output');\n",
       "if (outputEl) {{\n",
       "    x.observe(outputEl, {childList: true});\n",
       "}}\n",
       "\n",
       "                        })                };                });            </script>        </div>"
      ]
     },
     "metadata": {},
     "output_type": "display_data"
    }
   ],
   "source": [
    "plotBox(losse,'Loss Distribution',export='pdf',size=(600,800))"
   ]
  },
  {
   "cell_type": "code",
   "execution_count": 116,
   "id": "ed2ddbae",
   "metadata": {},
   "outputs": [
    {
     "data": {
      "text/html": [
       "<div>\n",
       "<style scoped>\n",
       "    .dataframe tbody tr th:only-of-type {\n",
       "        vertical-align: middle;\n",
       "    }\n",
       "\n",
       "    .dataframe tbody tr th {\n",
       "        vertical-align: top;\n",
       "    }\n",
       "\n",
       "    .dataframe thead th {\n",
       "        text-align: right;\n",
       "    }\n",
       "</style>\n",
       "<table border=\"1\" class=\"dataframe\">\n",
       "  <thead>\n",
       "    <tr style=\"text-align: right;\">\n",
       "      <th></th>\n",
       "      <th>JJ1</th>\n",
       "      <th>C1</th>\n",
       "      <th>JJ2</th>\n",
       "      <th>C2</th>\n",
       "      <th>JJ3</th>\n",
       "      <th>C3</th>\n",
       "      <th>I</th>\n",
       "    </tr>\n",
       "  </thead>\n",
       "  <tbody>\n",
       "    <tr>\n",
       "      <th>0</th>\n",
       "      <td>4.000000e+02</td>\n",
       "      <td>1666.666748</td>\n",
       "      <td>400.0</td>\n",
       "      <td>833.333374</td>\n",
       "      <td>4.000000e+02</td>\n",
       "      <td>1666.666748</td>\n",
       "      <td>800.0</td>\n",
       "    </tr>\n",
       "    <tr>\n",
       "      <th>1</th>\n",
       "      <td>1.000000e-06</td>\n",
       "      <td>0.000050</td>\n",
       "      <td>1200.0</td>\n",
       "      <td>0.000050</td>\n",
       "      <td>1.000000e-06</td>\n",
       "      <td>0.000050</td>\n",
       "      <td>800.0</td>\n",
       "    </tr>\n",
       "    <tr>\n",
       "      <th>2</th>\n",
       "      <td>1.000000e-06</td>\n",
       "      <td>0.000050</td>\n",
       "      <td>1200.0</td>\n",
       "      <td>0.000050</td>\n",
       "      <td>1.000000e-06</td>\n",
       "      <td>0.000050</td>\n",
       "      <td>800.0</td>\n",
       "    </tr>\n",
       "    <tr>\n",
       "      <th>3</th>\n",
       "      <td>1.000000e-06</td>\n",
       "      <td>0.000050</td>\n",
       "      <td>1200.0</td>\n",
       "      <td>0.000050</td>\n",
       "      <td>1.000000e-06</td>\n",
       "      <td>0.000050</td>\n",
       "      <td>800.0</td>\n",
       "    </tr>\n",
       "    <tr>\n",
       "      <th>4</th>\n",
       "      <td>1.000000e-06</td>\n",
       "      <td>0.000050</td>\n",
       "      <td>1200.0</td>\n",
       "      <td>0.000050</td>\n",
       "      <td>1.000000e-06</td>\n",
       "      <td>0.000050</td>\n",
       "      <td>800.0</td>\n",
       "    </tr>\n",
       "    <tr>\n",
       "      <th>5</th>\n",
       "      <td>1.000000e-06</td>\n",
       "      <td>0.000050</td>\n",
       "      <td>1200.0</td>\n",
       "      <td>0.000050</td>\n",
       "      <td>1.000000e-06</td>\n",
       "      <td>0.000050</td>\n",
       "      <td>800.0</td>\n",
       "    </tr>\n",
       "  </tbody>\n",
       "</table>\n",
       "</div>"
      ],
      "text/plain": [
       "            JJ1           C1     JJ2          C2           JJ3           C3   \n",
       "0  4.000000e+02  1666.666748   400.0  833.333374  4.000000e+02  1666.666748  \\\n",
       "1  1.000000e-06     0.000050  1200.0    0.000050  1.000000e-06     0.000050   \n",
       "2  1.000000e-06     0.000050  1200.0    0.000050  1.000000e-06     0.000050   \n",
       "3  1.000000e-06     0.000050  1200.0    0.000050  1.000000e-06     0.000050   \n",
       "4  1.000000e-06     0.000050  1200.0    0.000050  1.000000e-06     0.000050   \n",
       "5  1.000000e-06     0.000050  1200.0    0.000050  1.000000e-06     0.000050   \n",
       "\n",
       "       I  \n",
       "0  800.0  \n",
       "1  800.0  \n",
       "2  800.0  \n",
       "3  800.0  \n",
       "4  800.0  \n",
       "5  800.0  "
      ]
     },
     "execution_count": 116,
     "metadata": {},
     "output_type": "execute_result"
    }
   ],
   "source": [
    "lrBFGS[0][2]"
   ]
  },
  {
   "cell_type": "markdown",
   "id": "75c6585b",
   "metadata": {},
   "source": [
    "## Solution Aggregation"
   ]
  },
  {
   "cell_type": "code",
   "execution_count": 120,
   "id": "ae003d04",
   "metadata": {},
   "outputs": [],
   "source": [
    "from DiSuQ.Torch.components import capE"
   ]
  },
  {
   "cell_type": "code",
   "execution_count": 124,
   "id": "85d050e6",
   "metadata": {},
   "outputs": [
    {
     "data": {
      "text/plain": [
       "{'JJ1': 150.0,\n",
       " 'C1': 20.000003814697266,\n",
       " 'JJ2': 50.0,\n",
       " 'C2': 0.4999997615814209,\n",
       " 'JJ3': 150.0,\n",
       " 'C3': 20.000003814697266,\n",
       " 'I': 800.0}"
      ]
     },
     "execution_count": 124,
     "metadata": {},
     "output_type": "execute_result"
    }
   ],
   "source": [
    "from numpy import sqrt,stack,concatenate,pi; static"
   ]
  },
  {
   "cell_type": "code",
   "execution_count": 125,
   "id": "37fae5bf",
   "metadata": {},
   "outputs": [],
   "source": [
    "from matplotlib import pyplot as plt\n",
    "import matplotlib"
   ]
  },
  {
   "cell_type": "code",
   "execution_count": 151,
   "id": "a58e74f5",
   "metadata": {},
   "outputs": [],
   "source": [
    "point = static"
   ]
  },
  {
   "cell_type": "code",
   "execution_count": 152,
   "id": "3cc8b210",
   "metadata": {},
   "outputs": [],
   "source": [
    "Distance = []\n",
    "Loss = []\n",
    "Points = []"
   ]
  },
  {
   "cell_type": "code",
   "execution_count": 156,
   "id": "edc6c06f",
   "metadata": {},
   "outputs": [],
   "source": [
    "for Algo in OptimizationA:\n",
    "    for index,(dLogs,dParams,dCircuit) in enumerate(Algo):\n",
    "        loss = dLogs['loss'].to_numpy()\n",
    "        distance = 0\n",
    "        for dim,val in point.items():\n",
    "            distance += (dCircuit[dim]-point[dim])**2\n",
    "        distance = sqrt(distance)\n",
    "        index = loss < 1\n",
    "        Points.append(dCircuit.iloc[1:].to_numpy()[index])\n",
    "        Loss.append(loss[index])\n",
    "        Distance.append(distance.iloc[1:].to_numpy()[index])"
   ]
  },
  {
   "cell_type": "code",
   "execution_count": 157,
   "id": "082a4910",
   "metadata": {},
   "outputs": [
    {
     "data": {
      "text/plain": [
       "((517,), (517,), (517, 7))"
      ]
     },
     "execution_count": 157,
     "metadata": {},
     "output_type": "execute_result"
    }
   ],
   "source": [
    "concatenate(Loss).shape,concatenate(Distance).shape,concatenate(Points).shape"
   ]
  },
  {
   "cell_type": "code",
   "execution_count": 158,
   "id": "9be9df5d",
   "metadata": {},
   "outputs": [],
   "source": [
    "from sklearn.cluster import KMeans\n",
    "from numpy import around\n",
    "kmeans = KMeans(n_clusters=4, random_state=0, n_init=\"auto\").fit(concatenate(Points))\n",
    "minima = kmeans.cluster_centers_"
   ]
  },
  {
   "cell_type": "code",
   "execution_count": 159,
   "id": "e3cc3fac",
   "metadata": {},
   "outputs": [],
   "source": [
    "colors = ['blue','red','green','purple']"
   ]
  },
  {
   "cell_type": "code",
   "execution_count": 160,
   "id": "8c58160e",
   "metadata": {},
   "outputs": [
    {
     "data": {
      "image/png": "[encoded data removed]",
      "text/plain": [
       "<Figure size 640x480 with 1 Axes>"
      ]
     },
     "metadata": {},
     "output_type": "display_data"
    }
   ],
   "source": [
    "plt.rcParams.update({'font.size': 22})\n",
    "plt.xlabel(r'$\\sqrt{loss}(GHz)$')\n",
    "plt.ylabel(r'$distance(GHz)$')\n",
    "plt.scatter(sqrt(concatenate(Loss)),concatenate(Distance),s=1,c=kmeans.labels_,cmap=matplotlib.colors.ListedColormap(colors))\n",
    "#plt.figure(figsize=(5,5))\n",
    "plt.savefig('Loss-Distance.pdf',bbox_inches=\"tight\")\n",
    "#plt.show()"
   ]
  },
  {
   "cell_type": "code",
   "execution_count": null,
   "id": "788b3a09",
   "metadata": {},
   "outputs": [],
   "source": []
  }
 ],
 "metadata": {
  "@webio": {
   "lastCommId": null,
   "lastKernelId": null
  },
  "kernelspec": {
   "display_name": "Python 3 (ipykernel)",
   "language": "python",
   "name": "python3"
  },
  "language_info": {
   "codemirror_mode": {
    "name": "ipython",
    "version": 3
   },
   "file_extension": ".py",
   "mimetype": "text/x-python",
   "name": "python",
   "nbconvert_exporter": "python",
   "pygments_lexer": "ipython3",
   "version": "3.11.3"
  }
 },
 "nbformat": 4,
 "nbformat_minor": 5
}
