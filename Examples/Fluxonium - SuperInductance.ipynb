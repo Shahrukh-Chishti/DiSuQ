{
 "cells": [
  {
   "cell_type": "code",
   "execution_count": 1,
   "id": "0bea908a",
   "metadata": {},
   "outputs": [],
   "source": [
    "from DiSuQ.Torch import models\n",
    "from DiSuQ.Torch.optimization import OrderingOptimization,PolynomialOptimization\n",
    "from DiSuQ.Torch.optimization import loss_Anharmonicity,lossTransitionFlatness\n",
    "from torch import tensor\n",
    "from numpy import arange,array\n",
    "from DiSuQ.utils import plotCompare\n",
    "from DevSuQ.utils import plotTrajectory\n",
    "from torch import set_num_threads\n",
    "set_num_threads(30)"
   ]
  },
  {
   "cell_type": "code",
   "execution_count": 2,
   "id": "c9bf5d0a",
   "metadata": {},
   "outputs": [],
   "source": [
    "Ec,Ej = 100,20\n",
    "gamma = 1.5\n",
    "n = 8\n",
    "limit_N = 3"
   ]
  },
  {
   "cell_type": "code",
   "execution_count": null,
   "id": "f242ec18",
   "metadata": {},
   "outputs": [],
   "source": [
    "path_array, path_approx = [],[]\n",
    "for N in arange(1,limit_N):\n",
    "    basis = [10]+[n]*N\n",
    "    circuit = models.fluxoniumArray(basis,N=N,Ec=Ec,Ej=Ej,sparse=False)\n",
    "    H_LC = circuit.chargeHamiltonianLC()\n",
    "    H_J = circuit.josephsonCharge\n",
    "    E0,E1,E2 = circuit.circuitEnergy(H_LC,H_J,dict()).detach().numpy()[:3]\n",
    "    path_array.append((E1-E0,E2-E1))\n",
    "    \n",
    "    El = gamma*Ej/N\n",
    "    basis = {'O':[200],'I':[],'J':[]}\n",
    "    circuit = models.fluxonium(basis,El,Ec,Ej,sparse=False)\n",
    "    H_LC = circuit.kermanHamiltonianLC()\n",
    "    H_J = circuit.kermanHamiltonianJosephson\n",
    "    E0,E1,E2 = circuit.circuitEnergy(H_LC,H_J,{'I':tensor(0.0)}).detach().numpy()[:3]\n",
    "    path_approx.append((E1-E0,E2-E1))\n",
    "    \n",
    "path_array, path_approx = array(path_array),array(path_approx)"
   ]
  },
  {
   "cell_type": "code",
   "execution_count": null,
   "id": "58ac72a4",
   "metadata": {},
   "outputs": [],
   "source": [
    "plotTrajectory(arange(1,limit_N),{'array':path_array,'approx':path_approx},'Fluxonium - Quasi approximation','E10','E21')"
   ]
  }
 ],
 "metadata": {
  "@webio": {
   "lastCommId": null,
   "lastKernelId": null
  },
  "kernelspec": {
   "display_name": "Python 3.11.1",
   "language": "python",
   "name": "python3"
  },
  "language_info": {
   "codemirror_mode": {
    "name": "ipython",
    "version": 3
   },
   "file_extension": ".py",
   "mimetype": "text/x-python",
   "name": "python",
   "nbconvert_exporter": "python",
   "pygments_lexer": "ipython3",
   "version": "3.11.1"
  }
 },
 "nbformat": 4,
 "nbformat_minor": 5
}
