{
 "cells": [
  {
   "cell_type": "markdown",
   "id": "f1eaa603",
   "metadata": {},
   "source": [
    "* experimental data\n",
    "* modeling on transmon circuit\n",
    "* identification of inaccuracies\n",
    "* modification to transmon circuit\n",
    "* improvement on modeling result"
   ]
  },
  {
   "cell_type": "code",
   "execution_count": null,
   "id": "cbd57210",
   "metadata": {},
   "outputs": [],
   "source": []
  }
 ],
 "metadata": {
  "kernelspec": {
   "display_name": "Python 3 (ipykernel)",
   "language": "python",
   "name": "python3"
  },
  "language_info": {
   "codemirror_mode": {
    "name": "ipython",
    "version": 3
   },
   "file_extension": ".py",
   "mimetype": "text/x-python",
   "name": "python",
   "nbconvert_exporter": "python",
   "pygments_lexer": "ipython3",
   "version": "3.10.8"
  }
 },
 "nbformat": 4,
 "nbformat_minor": 5
}
