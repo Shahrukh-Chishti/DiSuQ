{
 "cells": [
  {
   "cell_type": "markdown",
   "id": "6cf6f632",
   "metadata": {},
   "source": [
    "* degeneracy point identification\n",
    "* external flux solo (ohne ng)"
   ]
  },
  {
   "cell_type": "code",
   "execution_count": 1,
   "id": "7eba94ea",
   "metadata": {},
   "outputs": [],
   "source": [
    "from DiSuQ.Torch import models\n",
    "from torch import tensor\n",
    "from numpy import arange,linspace,meshgrid,array\n",
    "from DiSuQ.utils import plotCompare,plotHeatmap\n",
    "from torch import set_num_threads\n",
    "set_num_threads(48)"
   ]
  },
  {
   "cell_type": "code",
   "execution_count": 2,
   "id": "98a1dd7b",
   "metadata": {},
   "outputs": [],
   "source": [
    "Nx,Ny  = 50,50\n",
    "PhiX = linspace(0,1,Nx,endpoint=True)\n",
    "PhiY = linspace(0,1,Ny,endpoint=True)\n",
    "flux_range = meshgrid(PhiX,PhiY)\n",
    "flux_range = array((flux_range[0].flatten(),flux_range[1].flatten())).T"
   ]
  },
  {
   "cell_type": "code",
   "execution_count": 3,
   "id": "74df85c2",
   "metadata": {},
   "outputs": [
    {
     "data": {
      "text/plain": [
       "(2500, 2)"
      ]
     },
     "execution_count": 3,
     "metadata": {},
     "output_type": "execute_result"
    }
   ],
   "source": [
    "flux_range.shape"
   ]
  },
  {
   "cell_type": "markdown",
   "id": "2f32b5e9",
   "metadata": {},
   "source": [
    "### Simulation 2-D"
   ]
  },
  {
   "cell_type": "code",
   "execution_count": 4,
   "id": "084b3c82",
   "metadata": {},
   "outputs": [],
   "source": [
    "basis = [10,10,10]\n",
    "flux_point = ['Lx','Ly']\n",
    "flux_manifold = [flux for flux in tensor(flux_range)]\n",
    "circuit = models.zeroPi(basis,sparse=False)"
   ]
  },
  {
   "cell_type": "code",
   "execution_count": 5,
   "id": "5b7221c6",
   "metadata": {},
   "outputs": [],
   "source": [
    "H_LC = circuit.chargeHamiltonianLC()\n",
    "H_J = circuit.josephsonCharge"
   ]
  },
  {
   "cell_type": "code",
   "execution_count": null,
   "id": "446d46c9",
   "metadata": {},
   "outputs": [],
   "source": [
    "E0,(Ex1,Ex2) = circuit.spectrumManifold(flux_point,flux_manifold,H_LC,H_J,excitation=[1,2],grad=False)"
   ]
  },
  {
   "cell_type": "code",
   "execution_count": null,
   "id": "aa21b3a4",
   "metadata": {},
   "outputs": [],
   "source": [
    "plotHeatmap(Ex1.reshape(Ny,Nx),PhiX,PhiY,'Zero-Pi:E01','phiX','phiY',size=(800,800))"
   ]
  },
  {
   "cell_type": "code",
   "execution_count": null,
   "id": "cbe101ad",
   "metadata": {},
   "outputs": [],
   "source": [
    "plotHeatmap((Ex1-Ex2).reshape(Ny,Nx),PhiX,PhiY,'Zero-Pi:E12','phiX','phiY',size=(800,800))"
   ]
  },
  {
   "cell_type": "code",
   "execution_count": null,
   "id": "64041990",
   "metadata": {},
   "outputs": [],
   "source": []
  }
 ],
 "metadata": {
  "@webio": {
   "lastCommId": null,
   "lastKernelId": null
  },
  "kernelspec": {
   "display_name": "Python 3 (ipykernel)",
   "language": "python",
   "name": "python3"
  },
  "language_info": {
   "codemirror_mode": {
    "name": "ipython",
    "version": 3
   },
   "file_extension": ".py",
   "mimetype": "text/x-python",
   "name": "python",
   "nbconvert_exporter": "python",
   "pygments_lexer": "ipython3",
   "version": "3.11.1"
  }
 },
 "nbformat": 4,
 "nbformat_minor": 5
}
