{
 "cells": [
  {
   "cell_type": "markdown",
   "id": "6cf6f632",
   "metadata": {},
   "source": [
    "* degeneracy point identification\n",
    "* external flux solo (ohne ng)"
   ]
  },
  {
   "cell_type": "code",
   "execution_count": null,
   "id": "7eba94ea",
   "metadata": {},
   "outputs": [],
   "source": []
  }
 ],
 "metadata": {
  "kernelspec": {
   "display_name": "Python 3.11",
   "language": "python",
   "name": "python3"
  },
  "language_info": {
   "codemirror_mode": {
    "name": "ipython",
    "version": 3
   },
   "file_extension": ".py",
   "mimetype": "text/x-python",
   "name": "python",
   "nbconvert_exporter": "python",
   "pygments_lexer": "ipython3",
   "version": "3.11.1"
  }
 },
 "nbformat": 4,
 "nbformat_minor": 5
}
