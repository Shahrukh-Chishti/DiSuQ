{
 "cells": [
  {
   "cell_type": "code",
   "execution_count": 20,
   "id": "0bea908a",
   "metadata": {},
   "outputs": [],
   "source": [
    "from DiSuQ.Torch import models\n",
    "from DiSuQ.Torch.optimization import OrderingOptimization,PolynomialOptimization\n",
    "from DiSuQ.Torch.optimization import lossAnharmonicity,lossTransitionFlatness\n",
    "from torch.linalg import eigvalsh\n",
    "from scipy.sparse.linalg import eigsh\n",
    "from scipy import sparse\n",
    "from torch import tensor\n",
    "from numpy import arange,array\n",
    "from DiSuQ.utils import plotCompare\n",
    "from DevSuQ.utils import plotTrajectory\n",
    "from torch import set_num_threads\n",
    "set_num_threads(30)"
   ]
  },
  {
   "cell_type": "code",
   "execution_count": 15,
   "id": "c9bf5d0a",
   "metadata": {},
   "outputs": [],
   "source": [
    "Ec,Ej = 100,20\n",
    "gamma = 1.5\n",
    "n = 1\n",
    "array_range = arange(3,4)"
   ]
  },
  {
   "cell_type": "code",
   "execution_count": 16,
   "id": "91ccee29",
   "metadata": {},
   "outputs": [],
   "source": [
    "N = 3\n",
    "basis = [6]+[n]*N\n",
    "circuit = models.fluxoniumArray(basis,N=N,Ec=Ec,Ej=Ej,sparse=True)\n",
    "H_LC = circuit.chargeHamiltonianLC()\n",
    "H_J = circuit.josephsonCharge"
   ]
  },
  {
   "cell_type": "code",
   "execution_count": 17,
   "id": "ac54bfcd",
   "metadata": {},
   "outputs": [
    {
     "data": {
      "text/plain": [
       "True"
      ]
     },
     "execution_count": 17,
     "metadata": {},
     "output_type": "execute_result"
    }
   ],
   "source": [
    "H_LC.is_sparse"
   ]
  },
  {
   "cell_type": "code",
   "execution_count": 36,
   "id": "41b783c1",
   "metadata": {},
   "outputs": [],
   "source": [
    "indices = H_LC.indices().numpy()"
   ]
  },
  {
   "cell_type": "code",
   "execution_count": 37,
   "id": "09eec0cd",
   "metadata": {},
   "outputs": [],
   "source": [
    "values = H_LC.values().detach().numpy()"
   ]
  },
  {
   "cell_type": "code",
   "execution_count": 53,
   "id": "674c26e6",
   "metadata": {},
   "outputs": [
    {
     "data": {
      "text/plain": [
       "torch.Size([351, 351])"
      ]
     },
     "execution_count": 53,
     "metadata": {},
     "output_type": "execute_result"
    }
   ],
   "source": [
    "H_LC.size()"
   ]
  },
  {
   "cell_type": "code",
   "execution_count": 54,
   "id": "52d5a395",
   "metadata": {},
   "outputs": [
    {
     "data": {
      "text/plain": [
       "<351x351 sparse matrix of type '<class 'numpy.complex64'>'\n",
       "\twith 95697 stored elements in COOrdinate format>"
      ]
     },
     "execution_count": 54,
     "metadata": {},
     "output_type": "execute_result"
    }
   ],
   "source": [
    "sparse.coo_matrix((values,indices),shape=H_LC.size())"
   ]
  },
  {
   "cell_type": "code",
   "execution_count": null,
   "id": "85ec4efc",
   "metadata": {},
   "outputs": [],
   "source": [
    "sparse.coo_matrix()"
   ]
  },
  {
   "cell_type": "code",
   "execution_count": 29,
   "id": "0aedda9d",
   "metadata": {},
   "outputs": [
    {
     "data": {
      "text/plain": [
       "tensor(indices=tensor([[  0,   0,   0,  ..., 350, 350, 350],\n",
       "                       [  0,   2,   1,  ..., 344, 343, 342]]),\n",
       "       values=tensor([27199.9961+0.j,     0.0000+0.j,     0.0000+0.j,  ...,\n",
       "                          0.0000+0.j,     0.0000+0.j,     0.0000+0.j]),\n",
       "       size=(351, 351), nnz=95697, layout=torch.sparse_coo,\n",
       "       grad_fn=<DivBackward0>)"
      ]
     },
     "execution_count": 29,
     "metadata": {},
     "output_type": "execute_result"
    }
   ],
   "source": [
    "H_LC"
   ]
  },
  {
   "cell_type": "code",
   "execution_count": 21,
   "id": "6ffa8c95",
   "metadata": {},
   "outputs": [
    {
     "ename": "TypeError",
     "evalue": "can't convert Sparse layout tensor to numpy. Use Tensor.dense() first.",
     "output_type": "error",
     "traceback": [
      "\u001b[0;31m---------------------------------------------------------------------------\u001b[0m",
      "\u001b[0;31mTypeError\u001b[0m                                 Traceback (most recent call last)",
      "Cell \u001b[0;32mIn[21], line 1\u001b[0m\n\u001b[0;32m----> 1\u001b[0m \u001b[43msparse\u001b[49m\u001b[38;5;241;43m.\u001b[39;49m\u001b[43mcoo_matrix\u001b[49m\u001b[43m(\u001b[49m\u001b[43mH_LC\u001b[49m\u001b[43m)\u001b[49m\n",
      "File \u001b[0;32m/usr/local/lib/python3.11/site-packages/scipy/sparse/_coo.py:179\u001b[0m, in \u001b[0;36mcoo_matrix.__init__\u001b[0;34m(self, arg1, shape, dtype, copy)\u001b[0m\n\u001b[1;32m    176\u001b[0m     \u001b[38;5;28mself\u001b[39m\u001b[38;5;241m.\u001b[39mhas_canonical_format \u001b[38;5;241m=\u001b[39m \u001b[38;5;28;01mFalse\u001b[39;00m\n\u001b[1;32m    177\u001b[0m \u001b[38;5;28;01melse\u001b[39;00m:\n\u001b[1;32m    178\u001b[0m     \u001b[38;5;66;03m#dense argument\u001b[39;00m\n\u001b[0;32m--> 179\u001b[0m     M \u001b[38;5;241m=\u001b[39m np\u001b[38;5;241m.\u001b[39matleast_2d(\u001b[43mnp\u001b[49m\u001b[38;5;241;43m.\u001b[39;49m\u001b[43masarray\u001b[49m\u001b[43m(\u001b[49m\u001b[43marg1\u001b[49m\u001b[43m)\u001b[49m)\n\u001b[1;32m    181\u001b[0m     \u001b[38;5;28;01mif\u001b[39;00m M\u001b[38;5;241m.\u001b[39mndim \u001b[38;5;241m!=\u001b[39m \u001b[38;5;241m2\u001b[39m:\n\u001b[1;32m    182\u001b[0m         \u001b[38;5;28;01mraise\u001b[39;00m \u001b[38;5;167;01mTypeError\u001b[39;00m(\u001b[38;5;124m'\u001b[39m\u001b[38;5;124mexpected dimension <= 2 array or matrix\u001b[39m\u001b[38;5;124m'\u001b[39m)\n",
      "File \u001b[0;32m~/.local/lib/python3.11/site-packages/torch/_tensor.py:956\u001b[0m, in \u001b[0;36mTensor.__array__\u001b[0;34m(self, dtype)\u001b[0m\n\u001b[1;32m    954\u001b[0m     \u001b[38;5;28;01mreturn\u001b[39;00m handle_torch_function(Tensor\u001b[38;5;241m.\u001b[39m__array__, (\u001b[38;5;28mself\u001b[39m,), \u001b[38;5;28mself\u001b[39m, dtype\u001b[38;5;241m=\u001b[39mdtype)\n\u001b[1;32m    955\u001b[0m \u001b[38;5;28;01mif\u001b[39;00m dtype \u001b[38;5;129;01mis\u001b[39;00m \u001b[38;5;28;01mNone\u001b[39;00m:\n\u001b[0;32m--> 956\u001b[0m     \u001b[38;5;28;01mreturn\u001b[39;00m \u001b[38;5;28;43mself\u001b[39;49m\u001b[38;5;241;43m.\u001b[39;49m\u001b[43mnumpy\u001b[49m\u001b[43m(\u001b[49m\u001b[43m)\u001b[49m\n\u001b[1;32m    957\u001b[0m \u001b[38;5;28;01melse\u001b[39;00m:\n\u001b[1;32m    958\u001b[0m     \u001b[38;5;28;01mreturn\u001b[39;00m \u001b[38;5;28mself\u001b[39m\u001b[38;5;241m.\u001b[39mnumpy()\u001b[38;5;241m.\u001b[39mastype(dtype, copy\u001b[38;5;241m=\u001b[39m\u001b[38;5;28;01mFalse\u001b[39;00m)\n",
      "\u001b[0;31mTypeError\u001b[0m: can't convert Sparse layout tensor to numpy. Use Tensor.dense() first."
     ]
    }
   ],
   "source": [
    "sparse.coo_matrix(H_LC)"
   ]
  },
  {
   "cell_type": "code",
   "execution_count": 18,
   "id": "18623342",
   "metadata": {},
   "outputs": [
    {
     "ename": "TypeError",
     "evalue": "Cannot interpret 'torch.complex64' as a data type",
     "output_type": "error",
     "traceback": [
      "\u001b[0;31m---------------------------------------------------------------------------\u001b[0m",
      "\u001b[0;31mTypeError\u001b[0m                                 Traceback (most recent call last)",
      "Cell \u001b[0;32mIn[18], line 1\u001b[0m\n\u001b[0;32m----> 1\u001b[0m \u001b[43meigsh\u001b[49m\u001b[43m(\u001b[49m\u001b[43mH_LC\u001b[49m\u001b[43m)\u001b[49m\n",
      "File \u001b[0;32m/usr/local/lib/python3.11/site-packages/scipy/sparse/linalg/_eigen/arpack/arpack.py:1564\u001b[0m, in \u001b[0;36meigsh\u001b[0;34m(A, k, M, sigma, which, v0, ncv, maxiter, tol, return_eigenvectors, Minv, OPinv, mode)\u001b[0m\n\u001b[1;32m   1360\u001b[0m \u001b[38;5;250m\u001b[39m\u001b[38;5;124;03m\"\"\"\u001b[39;00m\n\u001b[1;32m   1361\u001b[0m \u001b[38;5;124;03mFind k eigenvalues and eigenvectors of the real symmetric square matrix\u001b[39;00m\n\u001b[1;32m   1362\u001b[0m \u001b[38;5;124;03mor complex Hermitian matrix A.\u001b[39;00m\n\u001b[0;32m   (...)\u001b[0m\n\u001b[1;32m   1561\u001b[0m \n\u001b[1;32m   1562\u001b[0m \u001b[38;5;124;03m\"\"\"\u001b[39;00m\n\u001b[1;32m   1563\u001b[0m \u001b[38;5;66;03m# complex Hermitian matrices should be solved with eigs\u001b[39;00m\n\u001b[0;32m-> 1564\u001b[0m \u001b[38;5;28;01mif\u001b[39;00m \u001b[43mnp\u001b[49m\u001b[38;5;241;43m.\u001b[39;49m\u001b[43missubdtype\u001b[49m\u001b[43m(\u001b[49m\u001b[43mA\u001b[49m\u001b[38;5;241;43m.\u001b[39;49m\u001b[43mdtype\u001b[49m\u001b[43m,\u001b[49m\u001b[43m \u001b[49m\u001b[43mnp\u001b[49m\u001b[38;5;241;43m.\u001b[39;49m\u001b[43mcomplexfloating\u001b[49m\u001b[43m)\u001b[49m:\n\u001b[1;32m   1565\u001b[0m     \u001b[38;5;28;01mif\u001b[39;00m mode \u001b[38;5;241m!=\u001b[39m \u001b[38;5;124m'\u001b[39m\u001b[38;5;124mnormal\u001b[39m\u001b[38;5;124m'\u001b[39m:\n\u001b[1;32m   1566\u001b[0m         \u001b[38;5;28;01mraise\u001b[39;00m \u001b[38;5;167;01mValueError\u001b[39;00m(\u001b[38;5;124m\"\u001b[39m\u001b[38;5;124mmode=\u001b[39m\u001b[38;5;132;01m%s\u001b[39;00m\u001b[38;5;124m cannot be used with \u001b[39m\u001b[38;5;124m\"\u001b[39m\n\u001b[1;32m   1567\u001b[0m                          \u001b[38;5;124m\"\u001b[39m\u001b[38;5;124mcomplex matrix A\u001b[39m\u001b[38;5;124m\"\u001b[39m \u001b[38;5;241m%\u001b[39m mode)\n",
      "File \u001b[0;32m/usr/local/lib/python3.11/site-packages/numpy/core/numerictypes.py:416\u001b[0m, in \u001b[0;36missubdtype\u001b[0;34m(arg1, arg2)\u001b[0m\n\u001b[1;32m    358\u001b[0m \u001b[38;5;250m\u001b[39m\u001b[38;5;124mr\u001b[39m\u001b[38;5;124;03m\"\"\"\u001b[39;00m\n\u001b[1;32m    359\u001b[0m \u001b[38;5;124;03mReturns True if first argument is a typecode lower/equal in type hierarchy.\u001b[39;00m\n\u001b[1;32m    360\u001b[0m \n\u001b[0;32m   (...)\u001b[0m\n\u001b[1;32m    413\u001b[0m \n\u001b[1;32m    414\u001b[0m \u001b[38;5;124;03m\"\"\"\u001b[39;00m\n\u001b[1;32m    415\u001b[0m \u001b[38;5;28;01mif\u001b[39;00m \u001b[38;5;129;01mnot\u001b[39;00m issubclass_(arg1, generic):\n\u001b[0;32m--> 416\u001b[0m     arg1 \u001b[38;5;241m=\u001b[39m \u001b[43mdtype\u001b[49m\u001b[43m(\u001b[49m\u001b[43marg1\u001b[49m\u001b[43m)\u001b[49m\u001b[38;5;241m.\u001b[39mtype\n\u001b[1;32m    417\u001b[0m \u001b[38;5;28;01mif\u001b[39;00m \u001b[38;5;129;01mnot\u001b[39;00m issubclass_(arg2, generic):\n\u001b[1;32m    418\u001b[0m     arg2 \u001b[38;5;241m=\u001b[39m dtype(arg2)\u001b[38;5;241m.\u001b[39mtype\n",
      "\u001b[0;31mTypeError\u001b[0m: Cannot interpret 'torch.complex64' as a data type"
     ]
    }
   ],
   "source": [
    "eigsh(H_LC)"
   ]
  },
  {
   "cell_type": "code",
   "execution_count": 13,
   "id": "d1ea4fe6",
   "metadata": {},
   "outputs": [
    {
     "ename": "TypeError",
     "evalue": "linalg_eigvalsh() got an unexpected keyword argument 'subset_by_index'",
     "output_type": "error",
     "traceback": [
      "\u001b[0;31m---------------------------------------------------------------------------\u001b[0m",
      "\u001b[0;31mTypeError\u001b[0m                                 Traceback (most recent call last)",
      "Cell \u001b[0;32mIn[13], line 1\u001b[0m\n\u001b[0;32m----> 1\u001b[0m \u001b[43meigvalsh\u001b[49m\u001b[43m(\u001b[49m\u001b[43mH_LC\u001b[49m\u001b[38;5;241;43m.\u001b[39;49m\u001b[43mto_dense\u001b[49m\u001b[43m(\u001b[49m\u001b[43m)\u001b[49m\u001b[43m,\u001b[49m\u001b[43msubset_by_index\u001b[49m\u001b[38;5;241;43m=\u001b[39;49m\u001b[43m[\u001b[49m\u001b[38;5;241;43m0\u001b[39;49m\u001b[43m,\u001b[49m\u001b[38;5;241;43m4\u001b[39;49m\u001b[43m]\u001b[49m\u001b[43m)\u001b[49m\n",
      "\u001b[0;31mTypeError\u001b[0m: linalg_eigvalsh() got an unexpected keyword argument 'subset_by_index'"
     ]
    }
   ],
   "source": [
    "eigvalsh(H_LC.to_dense(),subset_by_index=[0,4])"
   ]
  },
  {
   "cell_type": "code",
   "execution_count": 5,
   "id": "d8fae8b1",
   "metadata": {},
   "outputs": [],
   "source": [
    "E0,E1,E2 = circuit.circuitEnergy(H_LC,H_J,dict()).detach().numpy()[:3]"
   ]
  },
  {
   "cell_type": "code",
   "execution_count": 6,
   "id": "17652a17",
   "metadata": {},
   "outputs": [
    {
     "data": {
      "text/plain": [
       "(-0.4983876, 266.16342, 266.16672)"
      ]
     },
     "execution_count": 6,
     "metadata": {},
     "output_type": "execute_result"
    }
   ],
   "source": [
    "E0,E1,E2"
   ]
  },
  {
   "cell_type": "code",
   "execution_count": null,
   "id": "f242ec18",
   "metadata": {},
   "outputs": [],
   "source": [
    "path_array, path_approx = [],[]\n",
    "for N in array_range:\n",
    "    basis = [6]+[n]*N\n",
    "    circuit = models.fluxoniumArray(basis,N=N,Ec=Ec,Ej=Ej,sparse=False)\n",
    "    H_LC = circuit.chargeHamiltonianLC()\n",
    "    H_J = circuit.josephsonCharge\n",
    "    E0,E1,E2 = circuit.circuitEnergy(H_LC,H_J,dict()).detach().numpy()[:3]\n",
    "    path_array.append((E1-E0,E2-E1))\n",
    "    del circuit\n",
    "    \n",
    "    El = gamma*Ej/N\n",
    "    basis = {'O':[1000],'I':[],'J':[]}\n",
    "    circuit = models.fluxonium(basis,El,Ec,Ej,sparse=False)\n",
    "    H_LC = circuit.kermanHamiltonianLC()\n",
    "    H_J = circuit.kermanHamiltonianJosephson\n",
    "    E0,E1,E2 = circuit.circuitEnergy(H_LC,H_J,{'I':tensor(0.0)}).detach().numpy()[:3]\n",
    "    path_approx.append((E1-E0,E2-E1))\n",
    "    del circuit\n",
    "    \n",
    "    print(N,'-------------')"
   ]
  },
  {
   "cell_type": "code",
   "execution_count": null,
   "id": "61b90f2f",
   "metadata": {},
   "outputs": [],
   "source": [
    "path_array, path_approx = array(path_array),array(path_approx)"
   ]
  },
  {
   "cell_type": "code",
   "execution_count": null,
   "id": "58ac72a4",
   "metadata": {},
   "outputs": [],
   "source": [
    "plotTrajectory(array_range,{'array':path_array,'approx':path_approx},'Fluxonium - Quasi approximation','E10','E21',save=True)"
   ]
  }
 ],
 "metadata": {
  "@webio": {
   "lastCommId": null,
   "lastKernelId": null
  },
  "kernelspec": {
   "display_name": "Python 3.11",
   "language": "python",
   "name": "python3"
  },
  "language_info": {
   "codemirror_mode": {
    "name": "ipython",
    "version": 3
   },
   "file_extension": ".py",
   "mimetype": "text/x-python",
   "name": "python",
   "nbconvert_exporter": "python",
   "pygments_lexer": "ipython3",
   "version": "3.11.1"
  }
 },
 "nbformat": 4,
 "nbformat_minor": 5
}
