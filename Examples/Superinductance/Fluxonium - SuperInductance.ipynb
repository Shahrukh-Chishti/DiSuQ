{
 "cells": [
  {
   "cell_type": "code",
   "execution_count": 2,
   "id": "0bea908a",
   "metadata": {},
   "outputs": [],
   "source": [
    "from DiSuQ.Torch import models\n",
    "from DiSuQ.Torch.optimization import OrderingOptimization,PolynomialOptimization\n",
    "from DiSuQ.Torch.optimization import lossAnharmonicity,lossTransitionFlatness\n",
    "from torch import tensor\n",
    "from numpy import arange,array\n",
    "from DiSuQ.utils import plotCompare\n",
    "from DevSuQ.utils import plotTrajectory\n",
    "from time import perf_counter,sleep\n",
    "from torch import set_num_threads\n",
    "set_num_threads(64)"
   ]
  },
  {
   "cell_type": "markdown",
   "id": "25e47c43",
   "metadata": {},
   "source": [
    "## oscillator basis"
   ]
  },
  {
   "cell_type": "code",
   "execution_count": 15,
   "id": "c9bf5d0a",
   "metadata": {},
   "outputs": [],
   "source": [
    "Ec,Ej = 100,20\n",
    "gamma = 1.5\n",
    "n = 2\n",
    "array_range = arange(1,8)"
   ]
  },
  {
   "cell_type": "code",
   "execution_count": null,
   "id": "f242ec18",
   "metadata": {},
   "outputs": [],
   "source": [
    "path_array, path_approx = [],[]\n",
    "for N in array_range:\n",
    "    basis = [6]+[n]*N\n",
    "    print('Array Range :',N)\n",
    "    print(basis)\n",
    "    \n",
    "    start = perf_counter()\n",
    "    circuit = models.fluxoniumArray(basis,N=N,Ec=Ec,Ej=Ej,sparse=True)\n",
    "    H_LC = circuit.chargeHamiltonianLC()\n",
    "    H_J = circuit.josephsonCharge\n",
    "    print(H_LC.shape)\n",
    "    end = perf_counter()\n",
    "    print('Time Construction:',end-start)\n",
    "    \n",
    "    start = perf_counter()\n",
    "    E0,E1,E2 = circuit.circuitEnergy(H_LC,H_J,dict(),grad=False)[:3]\n",
    "    path_array.append((E1-E0,E2-E1))\n",
    "    del circuit\n",
    "    end = perf_counter()\n",
    "    print('Time Diagonalization:',end-start)\n",
    "    \n",
    "    El = gamma*Ej/N\n",
    "    basis = {'O':[1000],'I':[],'J':[]}\n",
    "    start = perf_counter()\n",
    "    circuit = models.fluxonium(basis,El,Ec,Ej,sparse=False)\n",
    "    H_LC = circuit.kermanHamiltonianLC()\n",
    "    H_J = circuit.kermanHamiltonianJosephson\n",
    "    print(H_LC.shape)\n",
    "    E0,E1,E2 = circuit.circuitEnergy(H_LC,H_J,{'I':tensor(0.0)},grad=False)[:3]\n",
    "    path_approx.append((E1-E0,E2-E1))\n",
    "    del circuit\n",
    "    end = perf_counter()\n",
    "    print('Time:',end-start)\n",
    "    print(N,'-------------')"
   ]
  },
  {
   "cell_type": "code",
   "execution_count": null,
   "id": "61b90f2f",
   "metadata": {},
   "outputs": [],
   "source": [
    "path_array, path_approx = array(path_array),array(path_approx)"
   ]
  },
  {
   "cell_type": "code",
   "execution_count": null,
   "id": "58ac72a4",
   "metadata": {},
   "outputs": [],
   "source": [
    "plotTrajectory(array_range,{'array':path_array,'approx':path_approx},'Fluxonium - Quasi approximation - Oscillator Basis','E10','E21',save=True)"
   ]
  },
  {
   "cell_type": "markdown",
   "id": "bb8d23a5",
   "metadata": {},
   "source": [
    "## charge basis"
   ]
  },
  {
   "cell_type": "code",
   "execution_count": 3,
   "id": "f2b4052b",
   "metadata": {},
   "outputs": [],
   "source": [
    "Ec,Ej = 100,20\n",
    "gamma = 1.5\n",
    "n = 2\n",
    "array_range = arange(1,8)"
   ]
  },
  {
   "cell_type": "code",
   "execution_count": 7,
   "id": "f32c56d0",
   "metadata": {},
   "outputs": [],
   "source": [
    "basis = [256]\n",
    "El = gamma * Ej\n",
    "circuit = models.transmon(basis,Ej,Ec,sparse=False)\n"
   ]
  },
  {
   "cell_type": "code",
   "execution_count": 9,
   "id": "b7260237",
   "metadata": {},
   "outputs": [
    {
     "data": {
      "text/plain": [
       "torch.Size([513, 513])"
      ]
     },
     "execution_count": 9,
     "metadata": {},
     "output_type": "execute_result"
    }
   ],
   "source": [
    "H_LC.shape"
   ]
  },
  {
   "cell_type": "code",
   "execution_count": 10,
   "id": "72693ec7",
   "metadata": {},
   "outputs": [
    {
     "data": {
      "text/plain": [
       "tensor([[ 0.8270-3.8130e-08j, -0.2068+1.1741e-09j,  0.1181+6.3767e-08j,\n",
       "          ...,  0.1034-7.2880e-09j, -0.1654-4.5763e-08j,\n",
       "          0.4135+1.3899e-08j],\n",
       "        [ 0.4135-2.3528e-08j,  0.8270+3.4831e-08j, -0.2068+1.3700e-09j,\n",
       "          ..., -0.0752-1.4043e-08j,  0.1034+5.5479e-08j,\n",
       "         -0.1654-1.0427e-08j],\n",
       "        [-0.1654+7.5506e-08j,  0.4135-1.5366e-08j,  0.8270-2.5389e-09j,\n",
       "          ...,  0.0591-7.8345e-09j, -0.0752-1.1794e-08j,\n",
       "          0.1034+1.6048e-08j],\n",
       "        ...,\n",
       "        [-0.0827-8.8558e-09j,  0.0636-1.9146e-08j, -0.0517-1.6646e-08j,\n",
       "          ...,  0.8270+5.0858e-10j, -0.2068-1.3832e-09j,\n",
       "          0.1181+1.0260e-08j],\n",
       "        [ 0.1181-1.1531e-08j, -0.0827+3.6092e-08j,  0.0636-2.2601e-08j,\n",
       "          ...,  0.4135-1.4022e-08j,  0.8270+3.6285e-08j,\n",
       "         -0.2068-1.5047e-08j],\n",
       "        [-0.2068+3.7031e-09j,  0.1181+1.7452e-08j, -0.0827-1.3688e-08j,\n",
       "          ..., -0.1654-9.7453e-09j,  0.4135+6.3668e-09j,\n",
       "          0.8270-9.3335e-09j]])"
      ]
     },
     "execution_count": 10,
     "metadata": {},
     "output_type": "execute_result"
    }
   ],
   "source": [
    "circuit.backend.displacementCharge(256,1/3)"
   ]
  },
  {
   "cell_type": "code",
   "execution_count": null,
   "id": "7db700d2",
   "metadata": {},
   "outputs": [],
   "source": [
    "path_array, path_approx = [],[]\n",
    "for N in array_range:\n",
    "    basis = [6]+[n]*N\n",
    "    print('Array Range :',N)\n",
    "    print(basis)\n",
    "    \n",
    "    start = perf_counter()\n",
    "    circuit = models.fluxoniumArray(basis,N=N,Ec=Ec,Ej=Ej,sparse=True)\n",
    "    H_LC = circuit.chargeHamiltonianLC()\n",
    "    H_J = circuit.josephsonCharge\n",
    "    print(H_LC.shape)\n",
    "    end = perf_counter()\n",
    "    print('Time Construction:',end-start)\n",
    "    \n",
    "    start = perf_counter()\n",
    "    E0,E1,E2 = circuit.circuitEnergy(H_LC,H_J,dict(),grad=False)[:3]\n",
    "    path_array.append((E1-E0,E2-E1))\n",
    "    del circuit\n",
    "    end = perf_counter()\n",
    "    print('Time Diagonalization:',end-start)\n",
    "    \n",
    "    El = gamma*Ej/N\n",
    "    basis = {'O':[1000],'I':[],'J':[]}\n",
    "    start = perf_counter()\n",
    "    circuit = models.fluxonium(basis,El,Ec,Ej,sparse=False)\n",
    "    H_LC = circuit.kermanHamiltonianLC()\n",
    "    H_J = circuit.kermanHamiltonianJosephson\n",
    "    print(H_LC.shape)\n",
    "    E0,E1,E2 = circuit.circuitEnergy(H_LC,H_J,{'I':tensor(0.0)},grad=False)[:3]\n",
    "    path_approx.append((E1-E0,E2-E1))\n",
    "    del circuit\n",
    "    end = perf_counter()\n",
    "    print('Time:',end-start)\n",
    "    print(N,'-------------')\n",
    "    \n",
    "path_array, path_approx = array(path_array),array(path_approx)\n",
    "\n",
    "plotTrajectory(array_range,{'array':path_array,'approx':path_approx},'Fluxonium - Quasi approximation','E10','E21',save=True)"
   ]
  }
 ],
 "metadata": {
  "@webio": {
   "lastCommId": null,
   "lastKernelId": null
  },
  "kernelspec": {
   "display_name": "Python 3.11",
   "language": "python",
   "name": "python3"
  },
  "language_info": {
   "codemirror_mode": {
    "name": "ipython",
    "version": 3
   },
   "file_extension": ".py",
   "mimetype": "text/x-python",
   "name": "python",
   "nbconvert_exporter": "python",
   "pygments_lexer": "ipython3",
   "version": "3.11.1"
  }
 },
 "nbformat": 4,
 "nbformat_minor": 5
}
