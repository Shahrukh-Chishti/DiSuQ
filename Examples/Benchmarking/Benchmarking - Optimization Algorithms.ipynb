{
 "cells": [
  {
   "cell_type": "markdown",
   "id": "d631783f",
   "metadata": {},
   "source": [
    "* C-shunted profiling\n",
    "* Uniform Initialization, Optimal Enclosure : 2dim=5x5 ; 4dim=3x3x3x3\n",
    "* Parameter subspace\n",
    "    - I : fixed : 800GHz\n",
    "    - J1==J3 / J2 ; C1==C3 = , C2 =\n",
    "    - C1==C3 / C2 ; J1==J3 = , J2 = \n",
    "    - J1==J3 / C1==C3 ; J2 = , C2 = \n",
    "    - J1==J3 / J2 / C1==C3 / C2\n",
    "* Algorithms :\n",
    "    - SGD : learning rate={.01,.0001}, momentum={0,.8}\n",
    "    - Adam : learning rate={.01,.0001}, momentum={0,.8}\n",
    "    - Nelder Mead\n",
    "    - Conjugate Gradient\n",
    "    - L-BFGS :\n",
    "        - scipy : *assummed Wolfe\n",
    "        - torch : Wolfe\n",
    "* Benchmarkers :\n",
    "    - Optimization : multi-initialization\n",
    "        - Loss : min,max,avg\n",
    "        - Termination : count,steps:min,max,avg\n",
    "    - Computation : "
   ]
  },
  {
   "cell_type": "code",
   "execution_count": null,
   "id": "bc771105",
   "metadata": {},
   "outputs": [],
   "source": [
    "def benchmarking(optimizer,space):\n",
    "    return trajectories,time,memory,"
   ]
  },
  {
   "cell_type": "markdown",
   "id": "42f76199",
   "metadata": {},
   "source": [
    "#### SGD : .01"
   ]
  },
  {
   "cell_type": "markdown",
   "id": "45112f0b",
   "metadata": {},
   "source": [
    "#### Nelder Mead"
   ]
  },
  {
   "cell_type": "code",
   "execution_count": null,
   "id": "1cb36fa6",
   "metadata": {},
   "outputs": [],
   "source": []
  }
 ],
 "metadata": {
  "kernelspec": {
   "display_name": "Python 3 (ipykernel)",
   "language": "python",
   "name": "python3"
  },
  "language_info": {
   "codemirror_mode": {
    "name": "ipython",
    "version": 3
   },
   "file_extension": ".py",
   "mimetype": "text/x-python",
   "name": "python",
   "nbconvert_exporter": "python",
   "pygments_lexer": "ipython3",
   "version": "3.11.1"
  }
 },
 "nbformat": 4,
 "nbformat_minor": 5
}
