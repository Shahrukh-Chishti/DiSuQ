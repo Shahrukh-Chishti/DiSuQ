{
 "cells": [
  {
   "cell_type": "markdown",
   "id": "d631783f",
   "metadata": {},
   "source": [
    "* C-shunted profiling\n",
    "* Inbuilt-Symmetry model\n",
    "* Uniform Initialization, Optimal Enclosure : 2dim=5x5 ; 4dim=3x3x3x3\n",
    "* Parameter subspace : I : fixed : 800GHz\n",
    "    - A : J1==J3 / J2 ; C1==C3 = 600GHz, C2 = 10GHz\n",
    "    - B : C1==C3 / C2 ; J1==J3 = 150GHz, J2 = 100GHz\n",
    "    - C : J1==J3 / C1==C3 ; J2 = 100GHz, C2 = 10GHz\n",
    "    - D : J1==J3 / J2 / C1==C3 / C2\n",
    "* Algorithms :\n",
    "    - SGD : learning rate={.01,.0001} : SGD2,SGD4 :\n",
    "    - Adam : learning rate={.01,.0001} : Adam2,Adam4\n",
    "    - Nelder Mead : !!! Unconstrained Symmetry on Nelder Mead\n",
    "    - Conjugate Gradient !!! Unconstrained Symmetry on Nelder Mead\n",
    "    - L-BFGS :\n",
    "        - scipy : *assummed Wolfe\n",
    "        - torch : Wolfe\n",
    "        - torch : lr = .0001\n",
    "* Benchmarkers Optimization : multi-initialization\n",
    "    - Loss : min,max,avg : Box Plots\n",
    "    - Termination : count,steps:min,max,avg"
   ]
  },
  {
   "cell_type": "markdown",
   "id": "f46c2b7f",
   "metadata": {},
   "source": [
    "* SGDx, Adam4 are too slow\n",
    "* Wolfe torch LBFGS : stagnation"
   ]
  },
  {
   "cell_type": "code",
   "execution_count": 1,
   "id": "6627cbf7",
   "metadata": {},
   "outputs": [],
   "source": [
    "from multiprocess import Pool\n",
    "#from multiprocessing import Pool\n",
    "from DiSuQ.Torch.optimization import uniformParameters,initializationParallelism,truncNormalParameters,initializationSequential\n",
    "from DiSuQ.Torch import models\n",
    "from DiSuQ.Torch.components import J0,L0,C0\n",
    "from DiSuQ.Torch import optimization\n",
    "from DiSuQ.Torch.optimization import lossTransition\n",
    "from scipy.optimize import LinearConstraint\n",
    "from torch import tensor, float32 as float\n",
    "from numpy import arange,linspace,array,argsort,vstack,isnan\n",
    "from DiSuQ.utils import plotCompare,plotOptimization,plotBox\n",
    "import pickle\n",
    "from torch import set_num_threads\n",
    "set_num_threads(32)"
   ]
  },
  {
   "cell_type": "code",
   "execution_count": 2,
   "id": "9641317e",
   "metadata": {},
   "outputs": [],
   "source": [
    "with open('../C-shuntedProfiling/target_fluxqubit.p', 'rb') as content: target_info = pickle.load(content)\n",
    "target_spectrum = target_info['spectrum']\n",
    "E10 = target_spectrum[:,1] - target_spectrum[:,0]\n",
    "E20 = target_spectrum[:,2] - target_spectrum[:,0]\n",
    "target = {'E10':E10[[0,20,-1]],'E20':E20[[0,20,-1]]}"
   ]
  },
  {
   "cell_type": "code",
   "execution_count": 3,
   "id": "5aa993f9",
   "metadata": {},
   "outputs": [],
   "source": [
    "Algo = [\"Adam2\",\"lrBFGS\",'Nelder-Mead','LBFGS']"
   ]
  },
  {
   "cell_type": "code",
   "execution_count": 4,
   "id": "7e1c9bd8",
   "metadata": {},
   "outputs": [],
   "source": [
    "lossFunction = lossTransition(tensor(target['E10'],dtype=float),tensor(target['E20'],dtype=float))"
   ]
  },
  {
   "cell_type": "code",
   "execution_count": 5,
   "id": "f0886b5a",
   "metadata": {},
   "outputs": [],
   "source": [
    "iterations = 5; n_scape = 40"
   ]
  },
  {
   "cell_type": "code",
   "execution_count": 6,
   "id": "9aea6bc0",
   "metadata": {},
   "outputs": [],
   "source": [
    "flux_range = linspace(0,1,3,endpoint=True)\n",
    "flux_profile = [{'I':flux} for flux in flux_range]"
   ]
  },
  {
   "cell_type": "code",
   "execution_count": 7,
   "id": "f07ff91a",
   "metadata": {},
   "outputs": [],
   "source": [
    "symmetry = array([[1,0,0,0,-1,0,0],[0,1,0,0,0,-1,0]])\n",
    "symmetry = LinearConstraint(symmetry,[0,0],[0,0])"
   ]
  },
  {
   "cell_type": "code",
   "execution_count": 8,
   "id": "147bc2f9",
   "metadata": {},
   "outputs": [],
   "source": [
    "def printLog(dLog):\n",
    "    print(dLog['loss'].iloc[-1])"
   ]
  },
  {
   "cell_type": "code",
   "execution_count": 17,
   "id": "bc771105",
   "metadata": {},
   "outputs": [],
   "source": [
    "def benchmarking(optimizer,initials,subspace):\n",
    "    Adam2,lrBFGS,NelMea,LBFGS = [],[],[],[]\n",
    "    for index,parameter in enumerate(initials):\n",
    "        print(index,'-------------------------------------------------')\n",
    "        print(parameter)\n",
    "        # scipy-BFGS\n",
    "        print('L-BFGS')\n",
    "        optimizer.circuit.initialization(parameter)  \n",
    "        print(optimizer.circuitState())\n",
    "        optimizer.parameters,optimizer.IDs = optimizer.circuitParameters(subspace)\n",
    "        LBFGS.append(optimizer.minimization(lossFunction,flux_profile,subspace=subspace,\n",
    "                                           method='L-BFGS-B',tol=1e-6,maxiter=iterations))\n",
    "        \n",
    "        # Adam\n",
    "        print('Adam')\n",
    "        optimizer.circuit.initialization(parameter)\n",
    "        optimizer.parameters,optimizer.IDs = optimizer.circuitParameters(subspace)\n",
    "        Adam2.append(optimizer.optimization(lossFunction,flux_profile,iterations=iterations,lr=.01))\n",
    "        \n",
    "#         optimizer.circuit.initialization(parameter)\n",
    "#         optimizer.parameters,optimizer.IDs = optimizer.circuitParameters(subspace)\n",
    "#         Adam4.append(optimizer.optimization(lossFunction,flux_profile,iterations=iterations,lr=.0001))\n",
    "        \n",
    "        # Nelder Mead\n",
    "        print('Nelder Mead')\n",
    "        optimizer.circuit.initialization(parameter)\n",
    "        optimizer.parameters,optimizer.IDs = optimizer.circuitParameters(subspace)\n",
    "        NelMea.append(optimizer.minimization(lossFunction,flux_profile,subspace=subspace,\n",
    "                                             method='Nelder-Mead',tol=1e-6,maxiter=iterations))\n",
    "        \n",
    "#         Conjugate Gradient\n",
    "#         print('Conjugate Gradient')\n",
    "#         optimizer.circuit.initialization(parameter)\n",
    "#         optimizer.parameters,optimizer.IDs = optimizer.circuitParameters(subspace)\n",
    "#         CG.append(optimizer.minimization(lossFunction,flux_profile,subspace=subspace,\n",
    "#         method='CG',tol=1e-8,maxiter=iterations))\n",
    "        \n",
    "#         # Wolfe BFGS\n",
    "#         print('Wolfe BFGS')\n",
    "#         optimizer.circuit.initialization(parameter)     \n",
    "#         optimizer.parameters,optimizer.IDs = optimizer.circuitParameters(subspace)        \n",
    "#         Wolfe.append(optimizer.optimizationLBFGS(lossFunction,flux_profile,iterations=iterations))\n",
    "        \n",
    "        # lr-LBFGS\n",
    "        print('lr LBFGS')\n",
    "        optimizer.circuit.initialization(parameter)\n",
    "        optimizer.parameters,optimizer.IDs = optimizer.circuitParameters(subspace)\n",
    "        lrBFGS.append(optimizer.optimizationLBFGS(lossFunction,flux_profile,iterations=iterations,lr=.1))\n",
    "        \n",
    "        \n",
    "    return Adam2,lrBFGS,NelMea,LBFGS"
   ]
  },
  {
   "cell_type": "code",
   "execution_count": 10,
   "id": "6bfe60f4",
   "metadata": {},
   "outputs": [],
   "source": [
    "def optimizationAnalysis(init,subspace,Search,success=1.):\n",
    "    Loss,Success,Paths = [],[],[]\n",
    "    for index,(init,(dLogs,dParams,dCircuit)) in enumerate(zip(init,Search)):\n",
    "        Paths.append(dCircuit[subspace].to_numpy())\n",
    "        loss = dLogs['loss'].to_numpy()\n",
    "        Loss.append(loss[-1])\n",
    "        if loss[-1] < success:\n",
    "            Success.append(len(loss))\n",
    "    return Paths,Loss,Success"
   ]
  },
  {
   "cell_type": "code",
   "execution_count": 11,
   "id": "cfdc965c",
   "metadata": {},
   "outputs": [],
   "source": [
    "def analysisPlotting(Optimization):\n",
    "    paths = dict()\n",
    "    losse = dict()\n",
    "    for algo,(Paths,Loss,Success) in zip(Algo,Optimization):\n",
    "        indices = argsort(Loss)[0]\n",
    "        paths[algo] = Paths[indices]\n",
    "        #for idx in indices:\n",
    "        #    paths[algo+'-'+str(idx)] = Paths[idx]\n",
    "        losse[algo] = Loss\n",
    "    return paths,losse"
   ]
  },
  {
   "cell_type": "code",
   "execution_count": 12,
   "id": "34cb693e",
   "metadata": {},
   "outputs": [],
   "source": [
    "def lossScapeBounds(paths):\n",
    "    Paths = []\n",
    "    for algo,path in paths.items():\n",
    "        Paths.append(path)\n",
    "    Paths = vstack(Paths)\n",
    "    Paths = Paths[:, ~isnan(Paths).any(axis=0)]\n",
    "    return Paths.min(0),Paths.max(0)"
   ]
  },
  {
   "cell_type": "markdown",
   "id": "11e558a3",
   "metadata": {},
   "source": [
    "### simulation"
   ]
  },
  {
   "cell_type": "markdown",
   "id": "26509c67",
   "metadata": {},
   "source": [
    "#### subspace B"
   ]
  },
  {
   "cell_type": "code",
   "execution_count": 13,
   "id": "eb87a8e1",
   "metadata": {},
   "outputs": [],
   "source": [
    "basis = {'O':[8],'J':[6,6],'I':[]}; rep = 'K'\n",
    "C12 = .5 ; C22 = 20. ; C11 = C22\n",
    "JJ1 = 150; JJ3 = 150 ; JJ2 = 50\n",
    "ind = 800\n",
    "circuit = models.shuntedQubit(basis,josephson=[JJ1,JJ2,JJ3],cap=[C11,C12,C22],ind=ind,sparse=False,symmetry=True)\n",
    "static = circuit.circuitState()"
   ]
  },
  {
   "cell_type": "code",
   "execution_count": 14,
   "id": "0db57455",
   "metadata": {},
   "outputs": [],
   "source": [
    "optimizer = optimization.OrderingOptimization(circuit,representation=rep)"
   ]
  },
  {
   "cell_type": "code",
   "execution_count": 15,
   "id": "20eb4283",
   "metadata": {},
   "outputs": [
    {
     "data": {
      "text/plain": [
       "25"
      ]
     },
     "execution_count": 15,
     "metadata": {},
     "output_type": "execute_result"
    }
   ],
   "source": [
    "subspace = ['C1','C2'] ; N = 5\n",
    "initials = uniformParameters(circuit,subspace,N)\n",
    "#initials = truncNormalParameters(circuit,subspace,N,var=5)\n",
    "len(initials)"
   ]
  },
  {
   "cell_type": "code",
   "execution_count": null,
   "id": "e11957f4",
   "metadata": {},
   "outputs": [
    {
     "name": "stdout",
     "output_type": "stream",
     "text": [
      "0 -------------------------------------------------\n",
      "{'JJ1': 150.00001525878906, 'C1': 416.6666666666667, 'JJ2': 50.0, 'C2': 416.6666666666667, 'JJ3': 150.00001525878906, 'C3': 20.0, 'I': 800.0}\n",
      "L-BFGS\n",
      "{'JJ1': 150.00003051757812, 'C1': 416.66668701171875, 'JJ2': 50.0, 'C2': 416.66668701171875, 'JJ3': 150.00003051757812, 'C3': 416.66668701171875, 'I': 800.0}\n",
      "RUNNING THE L-BFGS-B CODE\n",
      "\n",
      "           * * *\n",
      "\n",
      "Machine precision = 2.220D-16\n",
      " N =            2     M =           10\n",
      "\n",
      "At X0         0 variables are exactly at the bounds\n",
      "\n",
      "At iterate    0    f=  2.10224D+06    |proj g|=  4.16667D+02\n",
      "\n",
      "At iterate    1    f=  1.19770D+03    |proj g|=  2.08460D+01\n",
      "\n",
      "At iterate    2    f=  2.60672D+02    |proj g|=  1.28481D+01\n",
      "\n",
      "At iterate    3    f=  2.06467D+02    |proj g|=  3.57387D+01\n",
      "  ys=-4.515E+00  -gs= 2.587E+00 BFGS update SKIPPED\n",
      "\n",
      "At iterate    4    f=  1.01420D+02    |proj g|=  1.75742D+01\n",
      "\n",
      "At iterate    5    f=  4.11713D+01    |proj g|=  5.06376D+01\n",
      "\n",
      "At iterate    6    f=  3.07700D+01    |proj g|=  5.09316D+01\n",
      "\n",
      "At iterate    7    f=  2.33926D+01    |proj g|=  9.25305D+01\n",
      "\n",
      "At iterate    8    f=  1.44552D+01    |proj g|=  7.86687D+01\n",
      "\n",
      "At iterate    9    f=  1.44220D+01    |proj g|=  7.51249D+01\n",
      "\n",
      "At iterate   10    f=  1.43066D+01    |proj g|=  4.31089D+01\n",
      "\n",
      "At iterate   11    f=  1.06551D+01    |proj g|=  2.34902D+01\n",
      "\n",
      "At iterate   12    f=  2.85833D+00    |proj g|=  4.20763D-01\n",
      "\n",
      "At iterate   13    f=  2.78538D+00    |proj g|=  6.83061D+00\n",
      "\n",
      "At iterate   14    f=  2.64147D+00    |proj g|=  9.27843D-01\n",
      "\n",
      "At iterate   15    f=  2.63861D+00    |proj g|=  9.06087D-01\n",
      "\n",
      "At iterate   16    f=  2.62985D+00    |proj g|=  7.68594D-01\n",
      "\n",
      "At iterate   17    f=  2.62403D+00    |proj g|=  7.25707D-01\n",
      "\n",
      "At iterate   18    f=  2.53051D+00    |proj g|=  2.44370D+00\n",
      "  ys=-3.255E+00  -gs= 1.352E+00 BFGS update SKIPPED\n",
      "\n",
      "At iterate   19    f=  2.52938D+00    |proj g|=  2.44382D+00\n",
      "  ys=-1.917E-07  -gs= 1.725E-03 BFGS update SKIPPED\n"
     ]
    },
    {
     "name": "stderr",
     "output_type": "stream",
     "text": [
      "\n",
      " Bad direction in the line search;\n",
      "   refresh the lbfgs memory and restart the iteration.\n"
     ]
    },
    {
     "name": "stdout",
     "output_type": "stream",
     "text": [
      "\n",
      "At iterate   20    f=  2.24020D+00    |proj g|=  2.13437D+00\n",
      "\n",
      "At iterate   21    f=  1.85299D+00    |proj g|=  3.09540D+00\n",
      "\n",
      "At iterate   22    f=  2.12624D-01    |proj g|=  2.15326D+00\n",
      "  ys=-1.518E+01  -gs= 9.226E+00 BFGS update SKIPPED\n",
      "\n",
      "At iterate   23    f=  1.65854D-01    |proj g|=  7.27501D+00\n",
      "\n",
      "At iterate   24    f=  9.55604D-02    |proj g|=  4.97807D-01\n",
      "\n",
      "At iterate   25    f=  7.73374D-02    |proj g|=  4.26415D-01\n",
      "\n",
      "At iterate   26    f=  7.54628D-02    |proj g|=  1.21477D+00\n",
      "\n",
      "At iterate   27    f=  7.25947D-02    |proj g|=  4.51994D-02\n",
      "\n",
      "At iterate   28    f=  7.25947D-02    |proj g|=  4.51994D-02\n"
     ]
    },
    {
     "name": "stderr",
     "output_type": "stream",
     "text": [
      "\n",
      " Warning:  more than 10 function and gradient\n",
      "   evaluations in the last line search.  Termination\n",
      "   may possibly be caused by a bad search direction.\n"
     ]
    },
    {
     "name": "stdout",
     "output_type": "stream",
     "text": [
      "\n",
      "           * * *\n",
      "\n",
      "Tit   = total number of iterations\n",
      "Tnf   = total number of function evaluations\n",
      "Tnint = total number of segments explored during Cauchy searches\n",
      "Skip  = number of BFGS updates skipped\n",
      "Nact  = number of active bounds at final generalized Cauchy point\n",
      "Projg = norm of the final projected gradient\n",
      "F     = final function value\n",
      "\n",
      "           * * *\n",
      "\n",
      "   N    Tit     Tnf  Tnint  Skip  Nact     Projg        F\n",
      "    2     28    115     31     4     0   4.520D-02   7.259D-02\n",
      "  F =   7.2594702243804932E-002\n",
      "\n",
      "CONVERGENCE: REL_REDUCTION_OF_F_<=_FACTR*EPSMCH             \n",
      "Adam\n",
      "Nelder Mead\n"
     ]
    },
    {
     "name": "stderr",
     "output_type": "stream",
     "text": [
      "/usr/local/lib/python3.11/site-packages/scipy/optimize/_minimize.py:549: RuntimeWarning:\n",
      "\n",
      "Method Nelder-Mead does not use gradient information (jac).\n",
      "\n"
     ]
    },
    {
     "name": "stdout",
     "output_type": "stream",
     "text": [
      "Optimization terminated successfully.\n",
      "         Current function value: 0.753531\n",
      "         Iterations: 78\n",
      "         Function evaluations: 187\n",
      "lr LBFGS\n",
      "1 -------------------------------------------------\n",
      "{'JJ1': 150.00001525878906, 'C1': 833.3333333333334, 'JJ2': 50.0, 'C2': 416.6666666666667, 'JJ3': 150.00001525878906, 'C3': 20.0, 'I': 800.0}\n",
      "L-BFGS\n",
      "{'JJ1': 150.00003051757812, 'C1': 833.3333740234375, 'JJ2': 50.0, 'C2': 416.66668701171875, 'JJ3': 150.00003051757812, 'C3': 833.3333740234375, 'I': 800.0}\n",
      "RUNNING THE L-BFGS-B CODE\n",
      "\n",
      "           * * *\n",
      "\n",
      "Machine precision = 2.220D-16\n",
      " N =            2     M =           10\n",
      "\n",
      "At X0         0 variables are exactly at the bounds\n",
      "\n",
      "At iterate    0    f=  3.43039D+06    |proj g|=  8.33333D+02\n",
      "\n",
      "At iterate    1    f=  1.19770D+03    |proj g|=  2.08460D+01\n",
      "\n",
      "At iterate    2    f=  2.46563D+02    |proj g|=  1.79404D+01\n",
      "\n",
      "At iterate    3    f=  5.47093D+01    |proj g|=  4.83216D+01\n",
      "\n",
      "At iterate    4    f=  2.36066D+01    |proj g|=  5.03524D+01\n",
      "\n",
      "At iterate    5    f=  1.13613D+01    |proj g|=  7.42565D+01\n",
      "\n",
      "At iterate    6    f=  9.57882D+00    |proj g|=  5.99053D+01\n",
      "\n",
      "At iterate    7    f=  9.01073D+00    |proj g|=  3.66838D+01\n",
      "\n",
      "At iterate    8    f=  4.82238D+00    |proj g|=  1.00747D+01\n",
      "\n",
      "At iterate    9    f=  2.81670D+00    |proj g|=  7.29554D+00\n",
      "\n",
      "At iterate   10    f=  2.65811D+00    |proj g|=  8.27661D-01\n",
      "\n",
      "At iterate   11    f=  2.64837D+00    |proj g|=  9.09378D-01\n",
      "\n",
      "At iterate   12    f=  2.64676D+00    |proj g|=  1.29435D+00\n",
      "\n",
      "At iterate   13    f=  2.64584D+00    |proj g|=  1.40659D+00\n",
      "\n",
      "At iterate   14    f=  2.64579D+00    |proj g|=  1.41784D+00\n",
      "\n",
      "At iterate   15    f=  2.64401D+00    |proj g|=  2.71006D+00\n"
     ]
    },
    {
     "name": "stderr",
     "output_type": "stream",
     "text": [
      "\n",
      " Bad direction in the line search;\n",
      "   refresh the lbfgs memory and restart the iteration.\n"
     ]
    },
    {
     "name": "stdout",
     "output_type": "stream",
     "text": [
      "\n",
      "At iterate   16    f=  2.62755D+00    |proj g|=  1.34340D+00\n",
      "\n",
      "At iterate   17    f=  2.62251D+00    |proj g|=  8.79642D-01\n",
      "\n",
      "At iterate   18    f=  2.62133D+00    |proj g|=  8.58804D-01\n",
      "\n",
      "At iterate   19    f=  2.62074D+00    |proj g|=  8.42096D-01\n",
      "\n",
      "At iterate   20    f=  2.61867D+00    |proj g|=  8.13712D-01\n",
      "\n",
      "At iterate   21    f=  2.61435D+00    |proj g|=  7.79346D-01\n",
      "\n",
      "At iterate   22    f=  2.60618D+00    |proj g|=  7.41689D-01\n",
      "\n",
      "At iterate   23    f=  2.59887D+00    |proj g|=  7.86939D-01\n"
     ]
    },
    {
     "name": "stderr",
     "output_type": "stream",
     "text": [
      "\n",
      " Bad direction in the line search;\n",
      "   refresh the lbfgs memory and restart the iteration.\n"
     ]
    },
    {
     "name": "stdout",
     "output_type": "stream",
     "text": [
      "\n",
      "At iterate   24    f=  2.53708D+00    |proj g|=  8.10832D-01\n",
      "\n",
      "At iterate   25    f=  2.46177D+00    |proj g|=  2.00366D+00\n",
      "\n",
      "At iterate   26    f=  2.46138D+00    |proj g|=  2.43961D+00\n",
      "\n",
      "At iterate   27    f=  2.45677D+00    |proj g|=  3.66575D+00\n",
      "\n",
      "At iterate   28    f=  2.43953D+00    |proj g|=  5.63886D+00\n",
      "\n",
      "At iterate   29    f=  2.40104D+00    |proj g|=  1.09522D+01\n",
      "\n",
      "At iterate   30    f=  2.05250D+00    |proj g|=  1.24603D+00\n",
      "\n",
      "At iterate   31    f=  2.05069D+00    |proj g|=  1.25009D+00\n"
     ]
    },
    {
     "name": "stderr",
     "output_type": "stream",
     "text": [
      "\n",
      " Bad direction in the line search;\n",
      "   refresh the lbfgs memory and restart the iteration.\n"
     ]
    },
    {
     "name": "stdout",
     "output_type": "stream",
     "text": [
      "\n",
      "At iterate   32    f=  2.03858D+00    |proj g|=  1.18797D+00\n",
      "\n",
      "At iterate   33    f=  2.01507D+00    |proj g|=  2.11363D+00\n",
      "\n",
      "At iterate   34    f=  2.01308D+00    |proj g|=  2.14650D+00\n",
      "\n",
      "At iterate   35    f=  1.96126D+00    |proj g|=  4.24775D+00\n",
      "\n",
      "At iterate   36    f=  7.96357D-01    |proj g|=  3.53084D+00\n",
      "  ys=-1.923E+01  -gs= 4.700E+00 BFGS update SKIPPED\n",
      "\n",
      "At iterate   37    f=  1.56772D-01    |proj g|=  1.11969D+00\n",
      "\n",
      "At iterate   38    f=  8.63576D-02    |proj g|=  4.32455D-01\n",
      "\n",
      "At iterate   39    f=  8.26440D-02    |proj g|=  5.51884D-01\n",
      "\n",
      "At iterate   40    f=  8.26440D-02    |proj g|=  5.51884D-01\n",
      "\n",
      "           * * *\n",
      "\n",
      "Tit   = total number of iterations\n",
      "Tnf   = total number of function evaluations\n",
      "Tnint = total number of segments explored during Cauchy searches\n",
      "Skip  = number of BFGS updates skipped\n",
      "Nact  = number of active bounds at final generalized Cauchy point\n",
      "Projg = norm of the final projected gradient\n",
      "F     = final function value\n",
      "\n",
      "           * * *\n",
      "\n",
      "   N    Tit     Tnf  Tnint  Skip  Nact     Projg        F\n",
      "    2     40    217     46     1     0   5.519D-01   8.264D-02\n",
      "  F =   8.2644030451774597E-002\n",
      "\n",
      "CONVERGENCE: REL_REDUCTION_OF_F_<=_FACTR*EPSMCH             \n",
      "Adam\n"
     ]
    },
    {
     "name": "stderr",
     "output_type": "stream",
     "text": [
      "\n",
      " Warning:  more than 10 function and gradient\n",
      "   evaluations in the last line search.  Termination\n",
      "   may possibly be caused by a bad search direction.\n"
     ]
    },
    {
     "name": "stdout",
     "output_type": "stream",
     "text": [
      "Nelder Mead\n"
     ]
    },
    {
     "name": "stderr",
     "output_type": "stream",
     "text": [
      "/usr/local/lib/python3.11/site-packages/scipy/optimize/_minimize.py:549: RuntimeWarning:\n",
      "\n",
      "Method Nelder-Mead does not use gradient information (jac).\n",
      "\n"
     ]
    },
    {
     "name": "stdout",
     "output_type": "stream",
     "text": [
      "Optimization terminated successfully.\n",
      "         Current function value: 1261.081055\n",
      "         Iterations: 34\n",
      "         Function evaluations: 120\n",
      "lr LBFGS\n",
      "2 -------------------------------------------------\n",
      "{'JJ1': 150.00001525878906, 'C1': 1250.0, 'JJ2': 50.0, 'C2': 416.6666666666667, 'JJ3': 150.00001525878906, 'C3': 20.0, 'I': 800.0}\n",
      "L-BFGS\n",
      "{'JJ1': 150.00003051757812, 'C1': 1250.0, 'JJ2': 50.0, 'C2': 416.66668701171875, 'JJ3': 150.00003051757812, 'C3': 1250.0, 'I': 800.0}\n",
      "RUNNING THE L-BFGS-B CODE\n",
      "\n",
      "           * * *\n",
      "\n",
      "Machine precision = 2.220D-16\n",
      " N =            2     M =           10\n",
      "\n",
      "At X0         0 variables are exactly at the bounds\n",
      "\n",
      "At iterate    0    f=  3.96072D+06    |proj g|=  1.25000D+03\n",
      "\n",
      "At iterate    1    f=  1.19770D+03    |proj g|=  2.08460D+01\n",
      "\n",
      "At iterate    2    f=  2.56065D+02    |proj g|=  1.36556D+01\n",
      "\n",
      "At iterate    3    f=  2.15854D+02    |proj g|=  2.69302D+01\n",
      "  ys=-1.819E+00  -gs= 1.873E+00 BFGS update SKIPPED\n",
      "\n",
      "At iterate    4    f=  2.01242D+02    |proj g|=  4.28610D+01\n",
      "  ys=-1.414E+00  -gs= 2.390E+00 BFGS update SKIPPED\n",
      "\n",
      "At iterate    5    f=  1.09819D+02    |proj g|=  9.55187D-01\n",
      "\n",
      "At iterate    6    f=  1.09787D+02    |proj g|=  7.50000D-01\n",
      "\n",
      "At iterate    7    f=  1.07018D+02    |proj g|=  2.73462D+00\n",
      "\n",
      "At iterate    8    f=  8.77374D+01    |proj g|=  1.21637D+02\n",
      "\n",
      "At iterate    9    f=  8.76860D+01    |proj g|=  2.07482D+01\n",
      "\n",
      "At iterate   10    f=  6.48781D+01    |proj g|=  1.33379D+02\n",
      "\n",
      "At iterate   11    f=  6.30041D+01    |proj g|=  1.37518D+02\n",
      "\n",
      "At iterate   12    f=  4.66789D+01    |proj g|=  1.30858D+02\n",
      "\n",
      "At iterate   13    f=  3.02472D+01    |proj g|=  1.10845D+02\n",
      "\n",
      "At iterate   14    f=  1.48397D+01    |proj g|=  4.76858D+01\n",
      "\n",
      "At iterate   15    f=  3.16112D+00    |proj g|=  1.41539D+01\n",
      "\n",
      "At iterate   16    f=  2.66904D+00    |proj g|=  6.94798D-01\n",
      "\n",
      "At iterate   17    f=  2.52365D+00    |proj g|=  8.40605D-01\n",
      "\n",
      "At iterate   18    f=  2.36018D+00    |proj g|=  1.32040D+00\n",
      "  ys=-3.317E-01  -gs= 8.528E-01 BFGS update SKIPPED\n",
      "\n",
      "At iterate   19    f=  2.18204D+00    |proj g|=  1.09490D+00\n",
      "\n",
      "At iterate   20    f=  2.17711D+00    |proj g|=  8.61826D-01\n",
      "\n",
      "At iterate   21    f=  2.17542D+00    |proj g|=  9.50224D-01\n",
      "\n",
      "At iterate   22    f=  2.17409D+00    |proj g|=  9.51545D-01\n",
      "\n",
      "At iterate   23    f=  2.17270D+00    |proj g|=  9.53414D-01\n",
      "\n",
      "At iterate   24    f=  2.17270D+00    |proj g|=  9.53414D-01\n",
      "\n",
      "           * * *\n",
      "\n",
      "Tit   = total number of iterations\n",
      "Tnf   = total number of function evaluations\n",
      "Tnint = total number of segments explored during Cauchy searches\n",
      "Skip  = number of BFGS updates skipped\n",
      "Nact  = number of active bounds at final generalized Cauchy point\n",
      "Projg = norm of the final projected gradient\n",
      "F     = final function value\n",
      "\n",
      "           * * *\n",
      "\n",
      "   N    Tit     Tnf  Tnint  Skip  Nact     Projg        F\n",
      "    2     24     95     26     3     0   9.534D-01   2.173D+00\n",
      "  F =   2.1727013587951660     \n",
      "\n",
      "CONVERGENCE: REL_REDUCTION_OF_F_<=_FACTR*EPSMCH             \n",
      "Adam\n"
     ]
    },
    {
     "name": "stderr",
     "output_type": "stream",
     "text": [
      "\n",
      " Warning:  more than 10 function and gradient\n",
      "   evaluations in the last line search.  Termination\n",
      "   may possibly be caused by a bad search direction.\n"
     ]
    },
    {
     "name": "stdout",
     "output_type": "stream",
     "text": [
      "Nelder Mead\n"
     ]
    },
    {
     "name": "stderr",
     "output_type": "stream",
     "text": [
      "/usr/local/lib/python3.11/site-packages/scipy/optimize/_minimize.py:549: RuntimeWarning:\n",
      "\n",
      "Method Nelder-Mead does not use gradient information (jac).\n",
      "\n"
     ]
    },
    {
     "name": "stdout",
     "output_type": "stream",
     "text": [
      "Optimization terminated successfully.\n",
      "         Current function value: 1261.081055\n",
      "         Iterations: 35\n",
      "         Function evaluations: 124\n",
      "lr LBFGS\n",
      "3 -------------------------------------------------\n",
      "{'JJ1': 150.00001525878906, 'C1': 1666.6666666666667, 'JJ2': 50.0, 'C2': 416.6666666666667, 'JJ3': 150.00001525878906, 'C3': 20.0, 'I': 800.0}\n",
      "L-BFGS\n",
      "{'JJ1': 150.00003051757812, 'C1': 1666.666748046875, 'JJ2': 50.0, 'C2': 416.66668701171875, 'JJ3': 150.00003051757812, 'C3': 1666.666748046875, 'I': 800.0}\n",
      "RUNNING THE L-BFGS-B CODE\n",
      "\n",
      "           * * *\n",
      "\n",
      "Machine precision = 2.220D-16\n",
      " N =            2     M =           10\n",
      "\n",
      "At X0         0 variables are exactly at the bounds\n",
      "\n",
      "At iterate    0    f=  4.26735D+06    |proj g|=  1.66667D+03\n",
      "\n",
      "At iterate    1    f=  1.19770D+03    |proj g|=  2.08460D+01\n",
      "\n",
      "At iterate    2    f=  2.51500D+02    |proj g|=  7.96651D+00\n",
      "\n",
      "At iterate    3    f=  2.27178D+02    |proj g|=  4.52713D+01\n",
      "  ys=-3.044E+00  -gs= 6.536E-01 BFGS update SKIPPED\n",
      "\n",
      "At iterate    4    f=  1.10019D+02    |proj g|=  4.67991D+00\n",
      "\n",
      "At iterate    5    f=  1.09783D+02    |proj g|=  3.20850D-01\n",
      "\n",
      "At iterate    6    f=  1.09551D+02    |proj g|=  2.12891D-01\n",
      "\n",
      "At iterate    7    f=  2.05736D+01    |proj g|=  6.61467D+01\n",
      "  ys=-9.345E+00  -gs= 1.134E-01 BFGS update SKIPPED\n",
      "\n",
      "At iterate    8    f=  1.39092D+01    |proj g|=  1.72363D+00\n",
      "\n",
      "At iterate    9    f=  8.36435D+00    |proj g|=  2.42621D+00\n",
      "\n",
      "At iterate   10    f=  3.44634D+00    |proj g|=  1.53398D+01\n",
      "\n",
      "At iterate   11    f=  2.78769D+00    |proj g|=  5.26622D-01\n",
      "\n",
      "At iterate   12    f=  2.65217D+00    |proj g|=  9.33238D-01\n",
      "\n",
      "At iterate   13    f=  2.62695D+00    |proj g|=  8.03170D-01\n",
      "\n",
      "At iterate   14    f=  8.44919D-01    |proj g|=  4.26709D+00\n",
      "  ys=-3.532E+01  -gs= 8.332E+00 BFGS update SKIPPED\n",
      "\n",
      "At iterate   15    f=  4.74597D-01    |proj g|=  3.37544D+00\n",
      "\n",
      "At iterate   16    f=  1.82667D-01    |proj g|=  5.40553D-01\n",
      "\n",
      "At iterate   17    f=  1.18829D-01    |proj g|=  1.90973D+00\n",
      "  ys=-5.400E-01  -gs= 5.489E-01 BFGS update SKIPPED\n",
      "\n",
      "At iterate   18    f=  7.31653D-02    |proj g|=  5.77737D-01\n",
      "\n",
      "At iterate   19    f=  7.17820D-02    |proj g|=  2.27469D-01\n",
      "\n",
      "At iterate   20    f=  7.17820D-02    |proj g|=  2.27469D-01\n",
      "\n",
      "           * * *\n",
      "\n",
      "Tit   = total number of iterations\n",
      "Tnf   = total number of function evaluations\n",
      "Tnint = total number of segments explored during Cauchy searches\n",
      "Skip  = number of BFGS updates skipped\n",
      "Nact  = number of active bounds at final generalized Cauchy point\n",
      "Projg = norm of the final projected gradient\n",
      "F     = final function value\n",
      "\n",
      "           * * *\n",
      "\n",
      "   N    Tit     Tnf  Tnint  Skip  Nact     Projg        F\n",
      "    2     20     66     21     4     0   2.275D-01   7.178D-02\n",
      "  F =   7.1781955659389496E-002\n",
      "\n",
      "CONVERGENCE: REL_REDUCTION_OF_F_<=_FACTR*EPSMCH             \n",
      "Adam\n"
     ]
    },
    {
     "name": "stderr",
     "output_type": "stream",
     "text": [
      "\n",
      " Warning:  more than 10 function and gradient\n",
      "   evaluations in the last line search.  Termination\n",
      "   may possibly be caused by a bad search direction.\n"
     ]
    },
    {
     "name": "stdout",
     "output_type": "stream",
     "text": [
      "Nelder Mead\n"
     ]
    },
    {
     "name": "stderr",
     "output_type": "stream",
     "text": [
      "/usr/local/lib/python3.11/site-packages/scipy/optimize/_minimize.py:549: RuntimeWarning:\n",
      "\n",
      "Method Nelder-Mead does not use gradient information (jac).\n",
      "\n"
     ]
    },
    {
     "name": "stdout",
     "output_type": "stream",
     "text": [
      "Optimization terminated successfully.\n",
      "         Current function value: 1261.081055\n",
      "         Iterations: 35\n",
      "         Function evaluations: 124\n",
      "lr LBFGS\n",
      "4 -------------------------------------------------\n",
      "{'JJ1': 150.00001525878906, 'C1': 2083.3333333333335, 'JJ2': 50.0, 'C2': 416.6666666666667, 'JJ3': 150.00001525878906, 'C3': 20.0, 'I': 800.0}\n",
      "L-BFGS\n",
      "{'JJ1': 150.00003051757812, 'C1': 2083.333251953125, 'JJ2': 50.0, 'C2': 416.66668701171875, 'JJ3': 150.00003051757812, 'C3': 2083.333251953125, 'I': 800.0}\n",
      "RUNNING THE L-BFGS-B CODE\n",
      "\n",
      "           * * *\n",
      "\n",
      "Machine precision = 2.220D-16\n",
      " N =            2     M =           10\n",
      "\n",
      "At X0         0 variables are exactly at the bounds\n",
      "\n",
      "At iterate    0    f=  4.46589D+06    |proj g|=  2.08333D+03\n",
      "\n",
      "At iterate    1    f=  1.19770D+03    |proj g|=  2.08460D+01\n",
      "\n",
      "At iterate    2    f=  2.46475D+02    |proj g|=  1.66236D+01\n",
      "\n",
      "At iterate    3    f=  1.10887D+02    |proj g|=  1.27700D+00\n",
      "\n",
      "At iterate    4    f=  1.05614D+02    |proj g|=  9.17258D+00\n",
      "\n",
      "At iterate    5    f=  9.74247D+01    |proj g|=  1.20621D+01\n",
      "\n",
      "At iterate    6    f=  5.05994D+01    |proj g|=  1.26645D+02\n",
      "\n",
      "At iterate    7    f=  9.14353D+00    |proj g|=  1.59353D+01\n",
      "\n",
      "At iterate    8    f=  9.09081D+00    |proj g|=  1.95709D+01\n",
      "\n",
      "At iterate    9    f=  9.08611D+00    |proj g|=  2.17509D+01\n",
      "\n",
      "At iterate   10    f=  9.06880D+00    |proj g|=  2.12244D+01\n",
      "\n",
      "At iterate   11    f=  9.01995D+00    |proj g|=  2.03693D+01\n",
      "\n",
      "At iterate   12    f=  8.59985D+00    |proj g|=  7.00902D+00\n",
      "\n",
      "At iterate   13    f=  8.58033D+00    |proj g|=  8.83033D+00\n"
     ]
    },
    {
     "name": "stderr",
     "output_type": "stream",
     "text": [
      "\n",
      " Bad direction in the line search;\n",
      "   refresh the lbfgs memory and restart the iteration.\n"
     ]
    },
    {
     "name": "stdout",
     "output_type": "stream",
     "text": [
      "\n",
      "At iterate   14    f=  8.57944D+00    |proj g|=  8.08893D+00\n",
      "\n",
      "At iterate   15    f=  8.57860D+00    |proj g|=  8.15556D+00\n",
      "  ys=-1.066E-04  -gs= 1.669E-02 BFGS update SKIPPED\n"
     ]
    },
    {
     "name": "stderr",
     "output_type": "stream",
     "text": [
      "\n",
      " Bad direction in the line search;\n",
      "   refresh the lbfgs memory and restart the iteration.\n"
     ]
    },
    {
     "name": "stdout",
     "output_type": "stream",
     "text": [
      "\n",
      "At iterate   16    f=  8.49219D+00    |proj g|=  5.78125D+00\n",
      "\n",
      "At iterate   17    f=  8.45938D+00    |proj g|=  2.34487D+00\n",
      "\n",
      "At iterate   18    f=  8.45485D+00    |proj g|=  4.11723D+00\n",
      "\n",
      "At iterate   19    f=  8.45485D+00    |proj g|=  4.11723D+00\n",
      "Adam\n",
      "           * * *\n",
      "\n",
      "Tit   = total number of iterations\n",
      "Tnf   = total number of function evaluations\n",
      "Tnint = total number of segments explored during Cauchy searches\n",
      "Skip  = number of BFGS updates skipped\n",
      "Nact  = number of active bounds at final generalized Cauchy point\n",
      "Projg = norm of the final projected gradient\n",
      "F     = final function value\n",
      "\n",
      "           * * *\n",
      "\n",
      "   N    Tit     Tnf  Tnint  Skip  Nact     Projg        F\n",
      "    2     19    109     23     1     0   4.117D+00   8.455D+00\n",
      "  F =   8.4548549652099609     \n",
      "\n",
      "CONVERGENCE: REL_REDUCTION_OF_F_<=_FACTR*EPSMCH             \n",
      "\n"
     ]
    },
    {
     "name": "stderr",
     "output_type": "stream",
     "text": [
      "\n",
      " Warning:  more than 10 function and gradient\n",
      "   evaluations in the last line search.  Termination\n",
      "   may possibly be caused by a bad search direction.\n"
     ]
    },
    {
     "name": "stdout",
     "output_type": "stream",
     "text": [
      "Nelder Mead\n"
     ]
    },
    {
     "name": "stderr",
     "output_type": "stream",
     "text": [
      "/usr/local/lib/python3.11/site-packages/scipy/optimize/_minimize.py:549: RuntimeWarning:\n",
      "\n",
      "Method Nelder-Mead does not use gradient information (jac).\n",
      "\n"
     ]
    },
    {
     "name": "stdout",
     "output_type": "stream",
     "text": [
      "Optimization terminated successfully.\n",
      "         Current function value: 1261.081055\n",
      "         Iterations: 36\n",
      "         Function evaluations: 128\n",
      "lr LBFGS\n",
      "5 -------------------------------------------------\n",
      "{'JJ1': 150.00001525878906, 'C1': 416.6666666666667, 'JJ2': 50.0, 'C2': 833.3333333333334, 'JJ3': 150.00001525878906, 'C3': 20.0, 'I': 800.0}\n",
      "L-BFGS\n",
      "{'JJ1': 150.00003051757812, 'C1': 416.66668701171875, 'JJ2': 50.0, 'C2': 833.3333740234375, 'JJ3': 150.00003051757812, 'C3': 416.66668701171875, 'I': 800.0}\n",
      "RUNNING THE L-BFGS-B CODE\n",
      "\n",
      "           * * *\n",
      "\n",
      "Machine precision = 2.220D-16\n",
      " N =            2     M =           10\n",
      "\n",
      "At X0         0 variables are exactly at the bounds\n",
      "\n",
      "At iterate    0    f=  2.91792D+06    |proj g|=  8.33333D+02\n",
      "\n",
      "At iterate    1    f=  1.19770D+03    |proj g|=  2.08460D+01\n",
      "\n",
      "At iterate    2    f=  2.68379D+02    |proj g|=  1.05053D+01\n",
      "\n",
      "At iterate    3    f=  2.47421D+02    |proj g|=  1.27744D+01\n",
      "\n",
      "At iterate    4    f=  2.34496D+02    |proj g|=  3.43505D+01\n",
      "  ys=-9.542E-01  -gs= 5.649E-01 BFGS update SKIPPED\n",
      "\n",
      "At iterate    5    f=  1.12699D+02    |proj g|=  1.34977D+00\n",
      "\n",
      "At iterate    6    f=  1.09876D+02    |proj g|=  9.88657D-01\n",
      "\n",
      "At iterate    7    f=  1.09835D+02    |proj g|=  2.16918D+00\n",
      "\n",
      "At iterate    8    f=  1.09748D+02    |proj g|=  8.12500D-01\n",
      "\n",
      "At iterate    9    f=  3.89090D+01    |proj g|=  1.19014D+02\n",
      "  ys=-9.710E+00  -gs= 3.074E-01 BFGS update SKIPPED\n",
      "\n",
      "At iterate   10    f=  2.38683D+01    |proj g|=  3.69275D+01\n",
      "\n",
      "At iterate   11    f=  1.88461D+01    |proj g|=  3.41485D+01\n",
      "\n",
      "At iterate   12    f=  8.24176D+00    |proj g|=  3.60953D+01\n",
      "\n",
      "At iterate   13    f=  3.25453D+00    |proj g|=  3.65792D-01\n",
      "\n",
      "At iterate   14    f=  2.62604D+00    |proj g|=  2.41299D+00\n",
      "\n",
      "At iterate   15    f=  2.60693D+00    |proj g|=  8.94814D-01\n",
      "\n",
      "At iterate   16    f=  2.60160D+00    |proj g|=  8.44435D-01\n",
      "\n",
      "At iterate   17    f=  2.59945D+00    |proj g|=  8.15417D-01\n",
      "\n",
      "At iterate   18    f=  2.59270D+00    |proj g|=  7.73260D-01\n",
      "\n",
      "At iterate   19    f=  2.57813D+00    |proj g|=  7.67214D-01\n",
      "\n",
      "At iterate   20    f=  2.55748D+00    |proj g|=  1.02256D+00\n",
      "  ys=-8.472E-02  -gs= 3.052E-01 BFGS update SKIPPED\n"
     ]
    },
    {
     "name": "stderr",
     "output_type": "stream",
     "text": [
      "\n",
      " Bad direction in the line search;\n",
      "   refresh the lbfgs memory and restart the iteration.\n"
     ]
    },
    {
     "name": "stdout",
     "output_type": "stream",
     "text": [
      "\n",
      "At iterate   21    f=  2.50277D+00    |proj g|=  1.00887D+00\n",
      "\n",
      "At iterate   22    f=  2.33083D+00    |proj g|=  2.23497D+00\n",
      "\n",
      "At iterate   23    f=  2.33002D+00    |proj g|=  2.47878D+00\n",
      "\n",
      "At iterate   24    f=  2.29968D+00    |proj g|=  8.00687D+00\n",
      "\n",
      "At iterate   25    f=  1.50997D+00    |proj g|=  2.48083D+00\n",
      "  ys=-6.071E+00  -gs= 1.450E+00 BFGS update SKIPPED\n",
      "\n",
      "At iterate   26    f=  1.21051D+00    |proj g|=  1.71511D+01\n",
      "\n",
      "At iterate   27    f=  9.02044D-01    |proj g|=  2.35822D+00\n",
      "\n",
      "At iterate   28    f=  2.22540D-01    |proj g|=  2.17727D+00\n",
      "  ys=-5.889E+00  -gs= 8.037E+00 BFGS update SKIPPED\n",
      "\n",
      "At iterate   29    f=  9.42670D-02    |proj g|=  8.44805D-01\n",
      "\n",
      "At iterate   30    f=  8.45235D-02    |proj g|=  6.52390D-01\n",
      "  ys=-1.937E-01  -gs= 2.154E-01 BFGS update SKIPPED\n",
      "\n",
      "At iterate   31    f=  7.32141D-02    |proj g|=  1.27688D-01\n"
     ]
    },
    {
     "name": "stderr",
     "output_type": "stream",
     "text": [
      "\n",
      " Bad direction in the line search;\n",
      "   refresh the lbfgs memory and restart the iteration.\n"
     ]
    },
    {
     "name": "stdout",
     "output_type": "stream",
     "text": [
      "\n",
      "At iterate   32    f=  7.32141D-02    |proj g|=  1.27688D-01\n"
     ]
    },
    {
     "name": "stderr",
     "output_type": "stream",
     "text": [
      "\n",
      " Warning:  more than 10 function and gradient\n",
      "   evaluations in the last line search.  Termination\n",
      "   may possibly be caused by a bad search direction.\n"
     ]
    },
    {
     "name": "stdout",
     "output_type": "stream",
     "text": [
      "\n",
      "           * * *\n",
      "\n",
      "Tit   = total number of iterations\n",
      "Tnf   = total number of function evaluations\n",
      "Tnint = total number of segments explored during Cauchy searches\n",
      "Skip  = number of BFGS updates skipped\n",
      "Nact  = number of active bounds at final generalized Cauchy point\n",
      "Projg = norm of the final projected gradient\n",
      "F     = final function value\n",
      "\n",
      "           * * *\n",
      "\n",
      "   N    Tit     Tnf  Tnint  Skip  Nact     Projg        F\n",
      "    2     32    156     38     6     0   1.277D-01   7.321D-02\n",
      "  F =   7.3214106261730194E-002\n",
      "\n",
      "CONVERGENCE: REL_REDUCTION_OF_F_<=_FACTR*EPSMCH             \n",
      "Adam\n",
      "Nelder Mead\n"
     ]
    },
    {
     "name": "stderr",
     "output_type": "stream",
     "text": [
      "/usr/local/lib/python3.11/site-packages/scipy/optimize/_minimize.py:549: RuntimeWarning:\n",
      "\n",
      "Method Nelder-Mead does not use gradient information (jac).\n",
      "\n"
     ]
    },
    {
     "name": "stdout",
     "output_type": "stream",
     "text": [
      "Optimization terminated successfully.\n",
      "         Current function value: 30.313461\n",
      "         Iterations: 70\n",
      "         Function evaluations: 170\n",
      "lr LBFGS\n",
      "6 -------------------------------------------------\n",
      "{'JJ1': 150.00001525878906, 'C1': 833.3333333333334, 'JJ2': 50.0, 'C2': 833.3333333333334, 'JJ3': 150.00001525878906, 'C3': 20.0, 'I': 800.0}\n",
      "L-BFGS\n",
      "{'JJ1': 150.00003051757812, 'C1': 833.3333740234375, 'JJ2': 50.0, 'C2': 833.3333740234375, 'JJ3': 150.00003051757812, 'C3': 833.3333740234375, 'I': 800.0}\n",
      "RUNNING THE L-BFGS-B CODE\n",
      "\n",
      "           * * *\n",
      "\n",
      "Machine precision = 2.220D-16\n",
      " N =            2     M =           10\n",
      "\n",
      "At X0         0 variables are exactly at the bounds\n",
      "\n",
      "At iterate    0    f=  9.10406D+06    |proj g|=  8.33333D+02\n",
      "\n",
      "At iterate    1    f=  3.88724D+06    |proj g|=  5.55491D+02\n",
      "\n",
      "At iterate    2    f=  8.02138D+05    |proj g|=  2.73221D+02\n",
      "\n",
      "At iterate    3    f=  2.87659D+05    |proj g|=  1.87108D+02\n",
      "\n",
      "At iterate    4    f=  6.84466D+04    |proj g|=  1.43851D+02\n",
      "\n",
      "At iterate    5    f=  1.28890D+04    |proj g|=  1.35198D+03\n",
      "\n",
      "At iterate    6    f=  6.60352D+03    |proj g|=  2.25357D+03\n",
      "\n",
      "At iterate    7    f=  3.01744D+03    |proj g|=  1.05822D+03\n",
      "\n",
      "At iterate    8    f=  4.98745D+02    |proj g|=  1.41884D+02\n",
      "\n",
      "At iterate    9    f=  3.75540D+02    |proj g|=  6.79001D+01\n",
      "\n",
      "At iterate   10    f=  3.27628D+02    |proj g|=  4.75229D+01\n"
     ]
    },
    {
     "name": "stderr",
     "output_type": "stream",
     "text": [
      "\n",
      " Nonpositive definiteness in Cholesky factorization in formk;\n",
      "   refresh the lbfgs memory and restart the iteration.\n"
     ]
    },
    {
     "name": "stdout",
     "output_type": "stream",
     "text": [
      "\n",
      "At iterate   11    f=  1.55176D+02    |proj g|=  5.05212D+00\n",
      "\n",
      "At iterate   12    f=  1.25770D+02    |proj g|=  2.43356D+00\n",
      "\n",
      "At iterate   13    f=  1.11281D+02    |proj g|=  1.20324D+00\n",
      "\n",
      "At iterate   14    f=  1.01130D+02    |proj g|=  9.13275D+00\n",
      "\n",
      "At iterate   15    f=  6.73147D+01    |proj g|=  3.61397D+01\n",
      "\n",
      "At iterate   16    f=  5.67319D+01    |proj g|=  1.35357D+02\n",
      "\n",
      "At iterate   17    f=  5.60002D+01    |proj g|=  1.31711D+02\n",
      "\n",
      "At iterate   18    f=  4.40660D+01    |proj g|=  1.05567D+02\n",
      "\n",
      "At iterate   19    f=  1.97992D+01    |proj g|=  2.43061D+01\n",
      "\n",
      "At iterate   20    f=  2.66777D+00    |proj g|=  3.35851D+00\n",
      "\n",
      "At iterate   21    f=  2.64946D+00    |proj g|=  7.91646D-01\n",
      "\n",
      "At iterate   22    f=  2.63083D+00    |proj g|=  8.90441D-01\n",
      "\n",
      "At iterate   23    f=  2.62795D+00    |proj g|=  1.14341D+00\n",
      "\n",
      "At iterate   24    f=  2.62699D+00    |proj g|=  1.13871D+00\n",
      "  ys=-5.832E-09  -gs= 1.281E-05 BFGS update SKIPPED\n",
      "\n",
      "At iterate   25    f=  2.62699D+00    |proj g|=  1.13871D+00\n",
      "\n",
      "           * * *\n",
      "\n",
      "Tit   = total number of iterations\n",
      "Tnf   = total number of function evaluations\n",
      "Tnint = total number of segments explored during Cauchy searches\n",
      "Skip  = number of BFGS updates skipped\n",
      "Nact  = number of active bounds at final generalized Cauchy point\n",
      "Projg = norm of the final projected gradient\n",
      "F     = final function value\n",
      "\n",
      "           * * *\n",
      "\n",
      "   N    Tit     Tnf  Tnint  Skip  Nact     Projg        F\n",
      "    2     25     99     32     1     0   1.139D+00   2.627D+00\n",
      "  F =   2.6269888877868652     \n",
      "\n",
      "CONVERGENCE: REL_REDUCTION_OF_F_<=_FACTR*EPSMCH             \n",
      "Adam\n"
     ]
    },
    {
     "name": "stderr",
     "output_type": "stream",
     "text": [
      "\n",
      " Warning:  more than 10 function and gradient\n",
      "   evaluations in the last line search.  Termination\n",
      "   may possibly be caused by a bad search direction.\n"
     ]
    },
    {
     "name": "stdout",
     "output_type": "stream",
     "text": [
      "Nelder Mead\n"
     ]
    },
    {
     "name": "stderr",
     "output_type": "stream",
     "text": [
      "/usr/local/lib/python3.11/site-packages/scipy/optimize/_minimize.py:549: RuntimeWarning:\n",
      "\n",
      "Method Nelder-Mead does not use gradient information (jac).\n",
      "\n"
     ]
    },
    {
     "name": "stdout",
     "output_type": "stream",
     "text": [
      "Optimization terminated successfully.\n",
      "         Current function value: 30.314421\n",
      "         Iterations: 76\n",
      "         Function evaluations: 181\n",
      "lr LBFGS\n",
      "7 -------------------------------------------------\n",
      "{'JJ1': 150.00001525878906, 'C1': 1250.0, 'JJ2': 50.0, 'C2': 833.3333333333334, 'JJ3': 150.00001525878906, 'C3': 20.0, 'I': 800.0}\n",
      "L-BFGS\n",
      "{'JJ1': 150.00003051757812, 'C1': 1250.0, 'JJ2': 50.0, 'C2': 833.3333740234375, 'JJ3': 150.00003051757812, 'C3': 1250.0, 'I': 800.0}\n",
      "RUNNING THE L-BFGS-B CODE\n",
      "\n",
      "           * * *\n",
      "\n",
      "Machine precision = 2.220D-16\n",
      " N =            2     M =           10\n",
      "\n",
      "At X0         0 variables are exactly at the bounds\n",
      "\n",
      "At iterate    0    f=  1.22475D+07    |proj g|=  1.25000D+03\n",
      "\n",
      "At iterate    1    f=  5.37205D+06    |proj g|=  8.33240D+02\n",
      "\n",
      "At iterate    2    f=  7.63295D+05    |proj g|=  2.75191D+02\n",
      "\n",
      "At iterate    3    f=  1.76511D+04    |proj g|=  1.05437D+03\n",
      "\n",
      "At iterate    4    f=  1.02478D+04    |proj g|=  2.31690D+03\n",
      "\n",
      "At iterate    5    f=  3.64031D+03    |proj g|=  2.31585D+03\n",
      "\n",
      "At iterate    6    f=  6.30507D+02    |proj g|=  1.46630D+03\n",
      "\n",
      "At iterate    7    f=  1.71679D+01    |proj g|=  8.77310D+01\n",
      "\n",
      "At iterate    8    f=  1.04282D+01    |proj g|=  1.53925D+01\n",
      "\n",
      "At iterate    9    f=  1.02249D+01    |proj g|=  6.65786D+00\n",
      "\n",
      "At iterate   10    f=  1.02200D+01    |proj g|=  9.17858D+00\n",
      "\n",
      "At iterate   11    f=  1.02162D+01    |proj g|=  9.23114D+00\n",
      "\n",
      "At iterate   12    f=  1.02162D+01    |proj g|=  9.23114D+00\n",
      "\n",
      "           * * *\n",
      "\n",
      "Tit   = total number of iterations\n",
      "Tnf   = total number of function evaluations\n",
      "Tnint = total number of segments explored during Cauchy searches\n",
      "Skip  = number of BFGS updates skipped\n",
      "Nact  = number of active bounds at final generalized Cauchy point\n",
      "Projg = norm of the final projected gradient\n",
      "F     = final function value\n",
      "\n",
      "           * * *\n",
      "\n",
      "   N    Tit     Tnf  Tnint  Skip  Nact     Projg        F\n",
      "    2     12     36     13     0     0   9.231D+00   1.022D+01\n",
      "  F =   10.216156959533691     \n",
      "\n",
      "CONVERGENCE: REL_REDUCTION_OF_F_<=_FACTR*EPSMCH             \n",
      "Adam\n"
     ]
    },
    {
     "name": "stderr",
     "output_type": "stream",
     "text": [
      "\n",
      " Warning:  more than 10 function and gradient\n",
      "   evaluations in the last line search.  Termination\n",
      "   may possibly be caused by a bad search direction.\n"
     ]
    },
    {
     "name": "stdout",
     "output_type": "stream",
     "text": [
      "Nelder Mead\n"
     ]
    },
    {
     "name": "stderr",
     "output_type": "stream",
     "text": [
      "/usr/local/lib/python3.11/site-packages/scipy/optimize/_minimize.py:549: RuntimeWarning:\n",
      "\n",
      "Method Nelder-Mead does not use gradient information (jac).\n",
      "\n"
     ]
    },
    {
     "name": "stdout",
     "output_type": "stream",
     "text": [
      "Optimization terminated successfully.\n",
      "         Current function value: 1261.081055\n",
      "         Iterations: 35\n",
      "         Function evaluations: 124\n",
      "lr LBFGS\n",
      "8 -------------------------------------------------\n",
      "{'JJ1': 150.00001525878906, 'C1': 1666.6666666666667, 'JJ2': 50.0, 'C2': 833.3333333333334, 'JJ3': 150.00001525878906, 'C3': 20.0, 'I': 800.0}\n",
      "L-BFGS\n",
      "{'JJ1': 150.00003051757812, 'C1': 1666.666748046875, 'JJ2': 50.0, 'C2': 833.3333740234375, 'JJ3': 150.00003051757812, 'C3': 1666.666748046875, 'I': 800.0}\n",
      "RUNNING THE L-BFGS-B CODE\n",
      "\n",
      "           * * *\n",
      "\n",
      "Machine precision = 2.220D-16\n",
      " N =            2     M =           10\n",
      "\n",
      "At X0         0 variables are exactly at the bounds\n",
      "\n",
      "At iterate    0    f=  1.39821D+07    |proj g|=  1.66667D+03\n",
      "\n",
      "At iterate    1    f=  6.15621D+06    |proj g|=  1.11095D+03\n",
      "\n",
      "At iterate    2    f=  5.65952D+05    |proj g|=  2.47204D+02\n",
      "\n",
      "At iterate    3    f=  2.84059D+02    |proj g|=  5.42155D+01\n"
     ]
    },
    {
     "name": "stderr",
     "output_type": "stream",
     "text": [
      "\n",
      " Bad direction in the line search;\n",
      "   refresh the lbfgs memory and restart the iteration.\n"
     ]
    },
    {
     "name": "stdout",
     "output_type": "stream",
     "text": [
      "\n",
      "At iterate    4    f=  2.83910D+02    |proj g|=  5.43086D+01\n",
      "  ys=-3.686E-02  -gs= 2.145E+01 BFGS update SKIPPED\n"
     ]
    },
    {
     "name": "stderr",
     "output_type": "stream",
     "text": [
      "\n",
      " Line search cannot locate an adequate point after MAXLS\n",
      "  function and gradient evaluations.\n",
      "  Previous x, f and g restored.\n",
      " Possible causes: 1 error in function or gradient evaluation;\n",
      "                  2 rounding error dominate computation.\n"
     ]
    },
    {
     "name": "stdout",
     "output_type": "stream",
     "text": [
      "\n",
      "           * * *\n",
      "\n",
      "Tit   = total number of iterations\n",
      "Tnf   = total number of function evaluations\n",
      "Tnint = total number of segments explored during Cauchy searches\n",
      "Skip  = number of BFGS updates skipped\n",
      "Nact  = number of active bounds at final generalized Cauchy point\n",
      "Projg = norm of the final projected gradient\n",
      "F     = final function value\n",
      "\n",
      "           * * *\n",
      "\n",
      "   N    Tit     Tnf  Tnint  Skip  Nact     Projg        F\n",
      "    2      5     53      7     1     1   5.431D+01   2.839D+02\n",
      "  F =   283.91027832031250     \n",
      "\n",
      "ABNORMAL_TERMINATION_IN_LNSRCH                              \n",
      "Adam\n",
      "Nelder Mead\n"
     ]
    },
    {
     "name": "stderr",
     "output_type": "stream",
     "text": [
      "/usr/local/lib/python3.11/site-packages/scipy/optimize/_minimize.py:549: RuntimeWarning:\n",
      "\n",
      "Method Nelder-Mead does not use gradient information (jac).\n",
      "\n"
     ]
    },
    {
     "name": "stdout",
     "output_type": "stream",
     "text": [
      "Optimization terminated successfully.\n",
      "         Current function value: 1261.081055\n",
      "         Iterations: 35\n",
      "         Function evaluations: 124\n",
      "lr LBFGS\n",
      "9 -------------------------------------------------\n",
      "{'JJ1': 150.00001525878906, 'C1': 2083.3333333333335, 'JJ2': 50.0, 'C2': 833.3333333333334, 'JJ3': 150.00001525878906, 'C3': 20.0, 'I': 800.0}\n",
      "L-BFGS\n",
      "{'JJ1': 150.00003051757812, 'C1': 2083.333251953125, 'JJ2': 50.0, 'C2': 833.3333740234375, 'JJ3': 150.00003051757812, 'C3': 2083.333251953125, 'I': 800.0}\n",
      "RUNNING THE L-BFGS-B CODE\n",
      "\n",
      "           * * *\n",
      "\n",
      "Machine precision = 2.220D-16\n",
      " N =            2     M =           10\n",
      "\n",
      "At X0         0 variables are exactly at the bounds\n",
      "\n",
      "At iterate    0    f=  1.51913D+07    |proj g|=  2.08333D+03\n",
      "\n",
      "At iterate    1    f=  6.69473D+06    |proj g|=  1.38861D+03\n",
      "\n",
      "At iterate    2    f=  8.51590D+04    |proj g|=  1.48435D+02\n",
      "\n",
      "At iterate    3    f=  2.84090D+02    |proj g|=  5.91642D+01\n",
      "\n",
      "At iterate    4    f=  2.83921D+02    |proj g|=  5.91897D+01\n",
      "  ys=-1.250E-03  -gs= 2.902E+00 BFGS update SKIPPED\n"
     ]
    },
    {
     "name": "stderr",
     "output_type": "stream",
     "text": [
      "\n",
      " Bad direction in the line search;\n",
      "   refresh the lbfgs memory and restart the iteration.\n"
     ]
    },
    {
     "name": "stdout",
     "output_type": "stream",
     "text": [
      "\n",
      "At iterate    5    f=  2.79454D+02    |proj g|=  2.55701D+01\n",
      "\n",
      "At iterate    6    f=  2.79406D+02    |proj g|=  2.55169D+01\n",
      "\n",
      "At iterate    7    f=  2.79395D+02    |proj g|=  2.55097D+01\n"
     ]
    },
    {
     "name": "stderr",
     "output_type": "stream",
     "text": [
      "\n",
      " Bad direction in the line search;\n",
      "   refresh the lbfgs memory and restart the iteration.\n"
     ]
    },
    {
     "name": "stdout",
     "output_type": "stream",
     "text": [
      "\n",
      "At iterate    8    f=  2.79394D+02    |proj g|=  2.55104D+01\n",
      "  ys=-2.542E-07  -gs= 8.996E-03 BFGS update SKIPPED\n",
      "Adam\n",
      "           * * *\n",
      "\n",
      "Tit   = total number of iterations\n",
      "Tnf   = total number of function evaluations\n",
      "Tnint = total number of segments explored during Cauchy searches\n",
      "Skip  = number of BFGS updates skipped\n",
      "Nact  = number of active bounds at final generalized Cauchy point\n",
      "Projg = norm of the final projected gradient\n",
      "F     = final function value\n",
      "\n",
      "           * * *\n",
      "\n",
      "   N    Tit     Tnf  Tnint  Skip  Nact     Projg        F\n",
      "    2      9    111     12     2     1   2.551D+01   2.794D+02\n",
      "  F =   279.39437866210938     \n",
      "\n",
      "ABNORMAL_TERMINATION_IN_LNSRCH                              \n",
      "\n"
     ]
    },
    {
     "name": "stderr",
     "output_type": "stream",
     "text": [
      "\n",
      " Line search cannot locate an adequate point after MAXLS\n",
      "  function and gradient evaluations.\n",
      "  Previous x, f and g restored.\n",
      " Possible causes: 1 error in function or gradient evaluation;\n",
      "                  2 rounding error dominate computation.\n"
     ]
    },
    {
     "name": "stdout",
     "output_type": "stream",
     "text": [
      "Nelder Mead\n"
     ]
    },
    {
     "name": "stderr",
     "output_type": "stream",
     "text": [
      "/usr/local/lib/python3.11/site-packages/scipy/optimize/_minimize.py:549: RuntimeWarning:\n",
      "\n",
      "Method Nelder-Mead does not use gradient information (jac).\n",
      "\n"
     ]
    },
    {
     "name": "stdout",
     "output_type": "stream",
     "text": [
      "Optimization terminated successfully.\n",
      "         Current function value: 1261.081055\n",
      "         Iterations: 36\n",
      "         Function evaluations: 128\n",
      "lr LBFGS\n",
      "10 -------------------------------------------------\n",
      "{'JJ1': 150.00001525878906, 'C1': 416.6666666666667, 'JJ2': 50.0, 'C2': 1250.0, 'JJ3': 150.00001525878906, 'C3': 20.0, 'I': 800.0}\n",
      "L-BFGS\n",
      "{'JJ1': 150.00003051757812, 'C1': 416.66668701171875, 'JJ2': 50.0, 'C2': 1250.0, 'JJ3': 150.00003051757812, 'C3': 416.66668701171875, 'I': 800.0}\n",
      "RUNNING THE L-BFGS-B CODE\n",
      "\n",
      "           * * *\n",
      "\n",
      "Machine precision = 2.220D-16\n",
      " N =            2     M =           10\n",
      "\n",
      "At X0         0 variables are exactly at the bounds\n",
      "\n",
      "At iterate    0    f=  3.32485D+06    |proj g|=  1.25000D+03\n",
      "\n",
      "At iterate    1    f=  1.19770D+03    |proj g|=  2.08460D+01\n",
      "\n",
      "At iterate    2    f=  2.70251D+02    |proj g|=  1.13633D+01\n",
      "\n",
      "At iterate    3    f=  2.37158D+02    |proj g|=  3.01940D+01\n",
      "  ys=-1.192E+00  -gs= 1.151E+00 BFGS update SKIPPED\n",
      "\n",
      "At iterate    4    f=  2.18032D+02    |proj g|=  2.61037D+01\n",
      "\n",
      "At iterate    5    f=  1.05135D+02    |proj g|=  1.38130D+01\n",
      "\n",
      "At iterate    6    f=  5.50093D+01    |proj g|=  4.42019D+01\n",
      "\n",
      "At iterate    7    f=  4.24882D+01    |proj g|=  1.10482D+02\n",
      "\n",
      "At iterate    8    f=  2.53934D+01    |proj g|=  1.00505D+02\n",
      "\n",
      "At iterate    9    f=  2.53548D+01    |proj g|=  7.06253D+01\n",
      "\n",
      "At iterate   10    f=  1.40104D+01    |proj g|=  4.20941D+01\n",
      "\n",
      "At iterate   11    f=  5.27181D+00    |proj g|=  2.64331D+01\n",
      "\n",
      "At iterate   12    f=  3.06387D+00    |proj g|=  3.60931D-01\n",
      "\n",
      "At iterate   13    f=  2.62811D+00    |proj g|=  1.28150D+00\n",
      "\n",
      "At iterate   14    f=  2.62164D+00    |proj g|=  9.00432D-01\n",
      "\n",
      "At iterate   15    f=  2.61676D+00    |proj g|=  8.12233D-01\n",
      "\n",
      "At iterate   16    f=  2.61559D+00    |proj g|=  7.93808D-01\n",
      "\n",
      "At iterate   17    f=  2.60665D+00    |proj g|=  7.51144D-01\n",
      "\n",
      "At iterate   18    f=  2.60187D+00    |proj g|=  9.21690D-01\n",
      "  ys=-3.699E-02  -gs= 1.946E-01 BFGS update SKIPPED\n"
     ]
    },
    {
     "name": "stderr",
     "output_type": "stream",
     "text": [
      "\n",
      " Bad direction in the line search;\n",
      "   refresh the lbfgs memory and restart the iteration.\n"
     ]
    },
    {
     "name": "stdout",
     "output_type": "stream",
     "text": [
      "\n",
      "At iterate   19    f=  2.49673D+00    |proj g|=  9.15835D-01\n",
      "\n",
      "At iterate   20    f=  2.37843D+00    |proj g|=  2.16709D+00\n",
      "\n",
      "At iterate   21    f=  2.37843D+00    |proj g|=  2.16709D+00\n"
     ]
    },
    {
     "name": "stderr",
     "output_type": "stream",
     "text": [
      "\n",
      " Warning:  more than 10 function and gradient\n",
      "   evaluations in the last line search.  Termination\n",
      "   may possibly be caused by a bad search direction.\n"
     ]
    },
    {
     "name": "stdout",
     "output_type": "stream",
     "text": [
      "\n",
      "           * * *\n",
      "\n",
      "Tit   = total number of iterations\n",
      "Tnf   = total number of function evaluations\n",
      "Tnint = total number of segments explored during Cauchy searches\n",
      "Skip  = number of BFGS updates skipped\n",
      "Nact  = number of active bounds at final generalized Cauchy point\n",
      "Projg = norm of the final projected gradient\n",
      "F     = final function value\n",
      "\n",
      "           * * *\n",
      "\n",
      "   N    Tit     Tnf  Tnint  Skip  Nact     Projg        F\n",
      "    2     21     89     24     2     0   2.167D+00   2.378D+00\n",
      "  F =   2.3784332275390625     \n",
      "\n",
      "CONVERGENCE: REL_REDUCTION_OF_F_<=_FACTR*EPSMCH             \n",
      "Adam\n",
      "Nelder Mead\n"
     ]
    },
    {
     "name": "stderr",
     "output_type": "stream",
     "text": [
      "/usr/local/lib/python3.11/site-packages/scipy/optimize/_minimize.py:549: RuntimeWarning:\n",
      "\n",
      "Method Nelder-Mead does not use gradient information (jac).\n",
      "\n"
     ]
    },
    {
     "name": "stdout",
     "output_type": "stream",
     "text": [
      "Optimization terminated successfully.\n",
      "         Current function value: 27.888454\n",
      "         Iterations: 77\n",
      "         Function evaluations: 186\n",
      "lr LBFGS\n",
      "11 -------------------------------------------------\n",
      "{'JJ1': 150.00001525878906, 'C1': 833.3333333333334, 'JJ2': 50.0, 'C2': 1250.0, 'JJ3': 150.00001525878906, 'C3': 20.0, 'I': 800.0}\n",
      "L-BFGS\n",
      "{'JJ1': 150.00003051757812, 'C1': 833.3333740234375, 'JJ2': 50.0, 'C2': 1250.0, 'JJ3': 150.00003051757812, 'C3': 833.3333740234375, 'I': 800.0}\n",
      "RUNNING THE L-BFGS-B CODE\n",
      "\n",
      "           * * *\n",
      "\n",
      "Machine precision = 2.220D-16\n",
      " N =            2     M =           10\n",
      "\n",
      "At X0         0 variables are exactly at the bounds\n",
      "\n",
      "At iterate    0    f=  1.08692D+07    |proj g|=  1.25000D+03\n",
      "\n",
      "At iterate    1    f=  4.74782D+06    |proj g|=  8.33233D+02\n",
      "\n",
      "At iterate    2    f=  7.61495D+05    |proj g|=  2.98616D+02\n",
      "\n",
      "At iterate    3    f=  1.66014D+05    |proj g|=  1.65077D+02\n",
      "\n",
      "At iterate    4    f=  4.96811D+02    |proj g|=  1.37887D+02\n",
      "\n",
      "At iterate    5    f=  4.96811D+02    |proj g|=  1.37887D+02\n",
      "\n",
      "           * * *\n",
      "\n",
      "Tit   = total number of iterations\n",
      "Tnf   = total number of function evaluations\n",
      "Tnint = total number of segments explored during Cauchy searches\n",
      "Skip  = number of BFGS updates skipped\n",
      "Nact  = number of active bounds at final generalized Cauchy point\n",
      "Projg = norm of the final projected gradient\n",
      "F     = final function value\n",
      "\n",
      "           * * *\n",
      "\n",
      "   N    Tit     Tnf  Tnint  Skip  Nact     Projg        F\n",
      "    2      5     25      6     0     1   1.379D+02   4.968D+02\n",
      "  F =   496.81106567382812     \n",
      "\n",
      "CONVERGENCE: REL_REDUCTION_OF_F_<=_FACTR*EPSMCH             \n",
      "Adam\n"
     ]
    },
    {
     "name": "stderr",
     "output_type": "stream",
     "text": [
      "\n",
      " Warning:  more than 10 function and gradient\n",
      "   evaluations in the last line search.  Termination\n",
      "   may possibly be caused by a bad search direction.\n"
     ]
    },
    {
     "name": "stdout",
     "output_type": "stream",
     "text": [
      "Nelder Mead\n"
     ]
    },
    {
     "name": "stderr",
     "output_type": "stream",
     "text": [
      "/usr/local/lib/python3.11/site-packages/scipy/optimize/_minimize.py:549: RuntimeWarning:\n",
      "\n",
      "Method Nelder-Mead does not use gradient information (jac).\n",
      "\n"
     ]
    },
    {
     "name": "stdout",
     "output_type": "stream",
     "text": [
      "Optimization terminated successfully.\n",
      "         Current function value: 27.660418\n",
      "         Iterations: 78\n",
      "         Function evaluations: 190\n",
      "lr LBFGS\n",
      "12 -------------------------------------------------\n",
      "{'JJ1': 150.00001525878906, 'C1': 1250.0, 'JJ2': 50.0, 'C2': 1250.0, 'JJ3': 150.00001525878906, 'C3': 20.0, 'I': 800.0}\n",
      "L-BFGS\n",
      "{'JJ1': 150.00003051757812, 'C1': 1250.0, 'JJ2': 50.0, 'C2': 1250.0, 'JJ3': 150.00003051757812, 'C3': 1250.0, 'I': 800.0}\n",
      "RUNNING THE L-BFGS-B CODE\n",
      "\n",
      "           * * *\n",
      "\n",
      "Machine precision = 2.220D-16\n",
      " N =            2     M =           10\n",
      "\n",
      "At X0         0 variables are exactly at the bounds\n",
      "\n",
      "At iterate    0    f=  2.10110D+07    |proj g|=  1.25000D+03\n",
      "\n",
      "At iterate    1    f=  9.10358D+06    |proj g|=  8.33307D+02\n",
      "\n",
      "At iterate    2    f=  5.41319D+05    |proj g|=  2.70425D+02\n",
      "\n",
      "At iterate    3    f=  1.59463D+05    |proj g|=  2.35950D+02\n",
      "\n",
      "At iterate    4    f=  2.33128D+04    |proj g|=  2.29911D+02\n",
      "\n",
      "At iterate    5    f=  1.11398D+04    |proj g|=  5.90296D+02\n",
      "\n",
      "At iterate    6    f=  5.38442D+03    |proj g|=  9.16694D+02\n",
      "\n",
      "At iterate    7    f=  3.02482D+03    |proj g|=  5.86756D+02\n",
      "\n",
      "At iterate    8    f=  6.46293D+02    |proj g|=  6.61583D+01\n",
      "\n",
      "At iterate    9    f=  5.23837D+02    |proj g|=  1.28600D+02\n"
     ]
    },
    {
     "name": "stderr",
     "output_type": "stream",
     "text": [
      "\n",
      " Bad direction in the line search;\n",
      "   refresh the lbfgs memory and restart the iteration.\n"
     ]
    },
    {
     "name": "stdout",
     "output_type": "stream",
     "text": [
      "\n",
      "At iterate   10    f=  2.74247D+02    |proj g|=  2.57179D+01\n",
      "\n",
      "At iterate   11    f=  1.93600D+02    |proj g|=  1.01221D+01\n",
      "\n",
      "At iterate   12    f=  1.50177D+02    |proj g|=  4.62024D+00\n",
      "\n",
      "At iterate   13    f=  1.23492D+02    |proj g|=  2.23756D+00\n",
      "\n",
      "At iterate   14    f=  2.03476D+01    |proj g|=  5.10482D+01\n",
      "\n",
      "At iterate   15    f=  3.17635D+00    |proj g|=  3.63853D-01\n",
      "\n",
      "At iterate   16    f=  3.12726D+00    |proj g|=  1.35889D+00\n",
      "\n",
      "At iterate   17    f=  2.90359D+00    |proj g|=  3.55476D-01\n",
      "\n",
      "At iterate   18    f=  2.66322D+00    |proj g|=  1.25523D+00\n",
      "\n",
      "At iterate   19    f=  2.65548D+00    |proj g|=  9.17822D-01\n",
      "\n",
      "At iterate   20    f=  2.65108D+00    |proj g|=  8.02014D-01\n",
      "\n",
      "At iterate   21    f=  2.64856D+00    |proj g|=  7.07498D-01\n",
      "\n",
      "At iterate   22    f=  2.61301D+00    |proj g|=  9.88968D-01\n",
      "  ys=-1.180E-01  -gs= 3.747E-01 BFGS update SKIPPED\n",
      "\n",
      "At iterate   23    f=  1.37630D+00    |proj g|=  5.57970D+00\n",
      "  ys=-4.457E+01  -gs= 9.091E+00 BFGS update SKIPPED\n",
      "\n",
      "At iterate   24    f=  1.37471D+00    |proj g|=  5.57700D+00\n"
     ]
    },
    {
     "name": "stderr",
     "output_type": "stream",
     "text": [
      "\n",
      " Bad direction in the line search;\n",
      "   refresh the lbfgs memory and restart the iteration.\n"
     ]
    },
    {
     "name": "stdout",
     "output_type": "stream",
     "text": [
      "\n",
      "At iterate   25    f=  3.23532D-01    |proj g|=  1.98969D+00\n",
      "\n",
      "At iterate   26    f=  3.15064D-01    |proj g|=  1.57197D+00\n",
      "  ys=-2.895E-02  -gs= 8.242E-02 BFGS update SKIPPED\n",
      "\n",
      "At iterate   27    f=  3.13734D-01    |proj g|=  1.68767D+00\n",
      "  ys=-6.027E-03  -gs= 9.242E-02 BFGS update SKIPPED\n",
      "\n",
      "At iterate   28    f=  3.11789D-01    |proj g|=  1.92155D+00\n",
      "  ys=-3.820E-02  -gs= 3.000E-01 BFGS update SKIPPED\n",
      "\n",
      "At iterate   29    f=  1.05685D-01    |proj g|=  9.94627D-01\n",
      "\n",
      "At iterate   30    f=  7.41717D-02    |proj g|=  4.26139D-01\n",
      "\n",
      "At iterate   31    f=  7.33795D-02    |proj g|=  4.26253D-01\n",
      "\n",
      "At iterate   32    f=  7.33795D-02    |proj g|=  4.26253D-01\n",
      "\n",
      "           * * *\n",
      "\n",
      "Tit   = total number of iterations\n",
      "Tnf   = total number of function evaluations\n",
      "Tnint = total number of segments explored during Cauchy searches\n",
      "Skip  = number of BFGS updates skipped\n",
      "Nact  = number of active bounds at final generalized Cauchy point\n",
      "Projg = norm of the final projected gradient\n",
      "F     = final function value\n",
      "\n",
      "           * * *\n",
      "\n",
      "   N    Tit     Tnf  Tnint  Skip  Nact     Projg        F\n",
      "    2     32    161     42     5     0   4.263D-01   7.338D-02\n",
      "  F =   7.3379471898078918E-002\n",
      "\n",
      "CONVERGENCE: REL_REDUCTION_OF_F_<=_FACTR*EPSMCH             \n",
      "Adam\n"
     ]
    },
    {
     "name": "stderr",
     "output_type": "stream",
     "text": [
      "\n",
      " Warning:  more than 10 function and gradient\n",
      "   evaluations in the last line search.  Termination\n",
      "   may possibly be caused by a bad search direction.\n"
     ]
    },
    {
     "name": "stdout",
     "output_type": "stream",
     "text": [
      "Nelder Mead\n"
     ]
    },
    {
     "name": "stderr",
     "output_type": "stream",
     "text": [
      "/usr/local/lib/python3.11/site-packages/scipy/optimize/_minimize.py:549: RuntimeWarning:\n",
      "\n",
      "Method Nelder-Mead does not use gradient information (jac).\n",
      "\n"
     ]
    },
    {
     "name": "stdout",
     "output_type": "stream",
     "text": [
      "Optimization terminated successfully.\n",
      "         Current function value: 30.359612\n",
      "         Iterations: 71\n",
      "         Function evaluations: 170\n",
      "lr LBFGS\n",
      "13 -------------------------------------------------\n",
      "{'JJ1': 150.00001525878906, 'C1': 1666.6666666666667, 'JJ2': 50.0, 'C2': 1250.0, 'JJ3': 150.00001525878906, 'C3': 20.0, 'I': 800.0}\n",
      "L-BFGS\n",
      "{'JJ1': 150.00003051757812, 'C1': 1666.666748046875, 'JJ2': 50.0, 'C2': 1250.0, 'JJ3': 150.00003051757812, 'C3': 1666.666748046875, 'I': 800.0}\n",
      "RUNNING THE L-BFGS-B CODE\n",
      "\n",
      "           * * *\n",
      "\n",
      "Machine precision = 2.220D-16\n",
      " N =            2     M =           10\n",
      "\n",
      "At X0         0 variables are exactly at the bounds\n",
      "\n",
      "At iterate    0    f=  2.60661D+07    |proj g|=  1.66667D+03\n",
      "\n",
      "At iterate    1    f=  1.14756D+07    |proj g|=  1.11103D+03\n",
      "\n",
      "At iterate    2    f=  5.70663D+06    |proj g|=  7.40510D+02\n"
     ]
    },
    {
     "name": "stderr",
     "output_type": "stream",
     "text": [
      "\n",
      " Bad direction in the line search;\n",
      "   refresh the lbfgs memory and restart the iteration.\n"
     ]
    },
    {
     "name": "stdout",
     "output_type": "stream",
     "text": [
      "\n",
      "At iterate    3    f=  1.19770D+03    |proj g|=  2.08460D+01\n",
      "\n",
      "At iterate    4    f=  2.56075D+02    |proj g|=  1.10696D+01\n",
      "\n",
      "At iterate    5    f=  2.12035D+02    |proj g|=  2.96212D+01\n",
      "  ys=-2.946E+00  -gs= 1.771E+00 BFGS update SKIPPED\n",
      "\n",
      "At iterate    6    f=  1.99566D+02    |proj g|=  4.52236D+01\n",
      "  ys=-1.170E+00  -gs= 2.222E+00 BFGS update SKIPPED\n",
      "\n",
      "At iterate    7    f=  1.09941D+02    |proj g|=  4.08617D+00\n",
      "\n",
      "At iterate    8    f=  1.09766D+02    |proj g|=  9.83223D-01\n",
      "\n",
      "At iterate    9    f=  1.09749D+02    |proj g|=  7.99141D-02\n",
      "\n",
      "At iterate   10    f=  1.09746D+02    |proj g|=  7.94601D-02\n"
     ]
    },
    {
     "name": "stderr",
     "output_type": "stream",
     "text": [
      "\n",
      " Bad direction in the line search;\n",
      "   refresh the lbfgs memory and restart the iteration.\n"
     ]
    },
    {
     "name": "stdout",
     "output_type": "stream",
     "text": [
      "\n",
      "           * * *\n",
      "\n",
      "Tit   = total number of iterations\n",
      "Tnf   = total number of function evaluations\n",
      "Adam\n",
      "Tnint = total number of segments explored during Cauchy searches\n",
      "Skip  = number of BFGS updates skipped\n",
      "Nact  = number of active bounds at final generalized Cauchy point\n",
      "Projg = norm of the final projected gradient\n",
      "F     = final function value\n",
      "\n",
      "           * * *\n",
      "\n",
      "   N    Tit     Tnf  Tnint  Skip  Nact     Projg        F\n",
      "    2     11     88     16     2     1   7.946D-02   1.097D+02\n",
      "  F =   109.74609375000000     \n",
      "\n",
      "ABNORMAL_TERMINATION_IN_LNSRCH                              \n"
     ]
    },
    {
     "name": "stderr",
     "output_type": "stream",
     "text": [
      "\n",
      " Line search cannot locate an adequate point after MAXLS\n",
      "  function and gradient evaluations.\n",
      "  Previous x, f and g restored.\n",
      " Possible causes: 1 error in function or gradient evaluation;\n",
      "                  2 rounding error dominate computation.\n"
     ]
    },
    {
     "name": "stdout",
     "output_type": "stream",
     "text": [
      "Nelder Mead\n"
     ]
    },
    {
     "name": "stderr",
     "output_type": "stream",
     "text": [
      "/usr/local/lib/python3.11/site-packages/scipy/optimize/_minimize.py:549: RuntimeWarning:\n",
      "\n",
      "Method Nelder-Mead does not use gradient information (jac).\n",
      "\n"
     ]
    },
    {
     "name": "stdout",
     "output_type": "stream",
     "text": [
      "Optimization terminated successfully.\n",
      "         Current function value: 1261.081055\n",
      "         Iterations: 35\n",
      "         Function evaluations: 124\n",
      "lr LBFGS\n",
      "14 -------------------------------------------------\n",
      "{'JJ1': 150.00001525878906, 'C1': 2083.3333333333335, 'JJ2': 50.0, 'C2': 1250.0, 'JJ3': 150.00001525878906, 'C3': 20.0, 'I': 800.0}\n",
      "L-BFGS\n",
      "{'JJ1': 150.00003051757812, 'C1': 2083.333251953125, 'JJ2': 50.0, 'C2': 1250.0, 'JJ3': 150.00003051757812, 'C3': 2083.333251953125, 'I': 800.0}\n",
      "RUNNING THE L-BFGS-B CODE\n",
      "\n",
      "           * * *\n",
      "\n",
      "Machine precision = 2.220D-16\n",
      " N =            2     M =           10\n",
      "\n",
      "At X0         0 variables are exactly at the bounds\n",
      "\n",
      "At iterate    0    f=  2.92320D+07    |proj g|=  2.08333D+03\n",
      "\n",
      "At iterate    1    f=  1.29020D+07    |proj g|=  1.38870D+03\n",
      "\n",
      "At iterate    2    f=  5.66938D+06    |proj g|=  9.25689D+02\n",
      "\n",
      "At iterate    3    f=  7.39352D+05    |proj g|=  2.79520D+02\n",
      "\n",
      "At iterate    4    f=  9.58231D+03    |proj g|=  2.32867D+03\n",
      "\n",
      "At iterate    5    f=  6.37675D+03    |proj g|=  2.32851D+03\n",
      "\n",
      "At iterate    6    f=  1.68589D+03    |proj g|=  2.30756D+03\n",
      "\n",
      "At iterate    7    f=  1.13552D+02    |proj g|=  1.57504D+02\n",
      "\n",
      "At iterate    8    f=  3.95911D+01    |proj g|=  1.29280D+02\n",
      "\n",
      "At iterate    9    f=  1.39907D+01    |proj g|=  5.13658D+01\n",
      "\n",
      "At iterate   10    f=  1.33985D+01    |proj g|=  7.23786D+01\n",
      "\n",
      "At iterate   11    f=  1.33868D+01    |proj g|=  7.33769D+01\n"
     ]
    },
    {
     "name": "stderr",
     "output_type": "stream",
     "text": [
      "\n",
      " Bad direction in the line search;\n",
      "   refresh the lbfgs memory and restart the iteration.\n"
     ]
    },
    {
     "name": "stdout",
     "output_type": "stream",
     "text": [
      "\n",
      "At iterate   12    f=  1.30018D+01    |proj g|=  3.06921D+01\n",
      "\n",
      "At iterate   13    f=  1.20570D+01    |proj g|=  5.93761D+01\n",
      "  ys=-8.534E-01  -gs= 5.107E+00 BFGS update SKIPPED\n"
     ]
    },
    {
     "name": "stderr",
     "output_type": "stream",
     "text": [
      "\n",
      " Bad direction in the line search;\n",
      "   refresh the lbfgs memory and restart the iteration.\n"
     ]
    },
    {
     "name": "stdout",
     "output_type": "stream",
     "text": [
      "\n",
      "At iterate   14    f=  1.17860D+01    |proj g|=  4.62802D+01\n",
      "\n",
      "At iterate   15    f=  1.17432D+01    |proj g|=  5.00942D+01\n",
      "  ys=-4.579E-02  -gs= 1.117E+00 BFGS update SKIPPED\n",
      "\n",
      "At iterate   16    f=  1.17366D+01    |proj g|=  5.01840D+01\n",
      "  ys=-1.929E-06  -gs= 1.730E-03 BFGS update SKIPPED\n"
     ]
    },
    {
     "name": "stderr",
     "output_type": "stream",
     "text": [
      "\n",
      " Bad direction in the line search;\n",
      "   refresh the lbfgs memory and restart the iteration.\n"
     ]
    },
    {
     "name": "stdout",
     "output_type": "stream",
     "text": [
      "\n",
      "At iterate   17    f=  1.14708D+01    |proj g|=  5.59328D+01\n",
      "  ys=-2.016E+01  -gs= 1.949E+02 BFGS update SKIPPED\n",
      "\n",
      "At iterate   18    f=  1.04635D+01    |proj g|=  1.21428D+01\n",
      "\n",
      "At iterate   19    f=  1.03399D+01    |proj g|=  1.58482D+01\n",
      "  ys=-5.553E-02  -gs= 4.106E-01 BFGS update SKIPPED\n",
      "\n",
      "At iterate   20    f=  1.03391D+01    |proj g|=  1.70781D+01\n",
      "  ys=-5.390E-03  -gs= 1.275E-01 BFGS update SKIPPED\n"
     ]
    },
    {
     "name": "stderr",
     "output_type": "stream",
     "text": [
      "\n",
      " Bad direction in the line search;\n",
      "   refresh the lbfgs memory and restart the iteration.\n"
     ]
    },
    {
     "name": "stdout",
     "output_type": "stream",
     "text": [
      "\n",
      "At iterate   21    f=  1.03179D+01    |proj g|=  8.39486D+00\n",
      "\n",
      "At iterate   22    f=  1.02818D+01    |proj g|=  1.40528D+01\n",
      "  ys=-4.399E-02  -gs= 2.620E-01 BFGS update SKIPPED\n",
      "\n",
      "At iterate   23    f=  1.02818D+01    |proj g|=  1.40528D+01\n",
      "\n",
      "           * * *\n",
      "\n",
      "Tit   = total number of iterations\n",
      "Tnf   = total number of function evaluations\n",
      "Tnint = total number of segments explored during Cauchy searches\n",
      "Skip  = number of BFGS updates skipped\n",
      "Nact  = number of active bounds at final generalized Cauchy point\n",
      "Projg = norm of the final projected gradient\n",
      "F     = final function value\n",
      "\n",
      "           * * *\n",
      "\n",
      "   N    Tit     Tnf  Tnint  Skip  Nact     Projg        F\n",
      "    2     23    195     31     7     0   1.405D+01   1.028D+01\n",
      "  F =   10.281801223754883     \n",
      "\n",
      "CONVERGENCE: REL_REDUCTION_OF_F_<=_FACTR*EPSMCH             \n",
      "Adam\n"
     ]
    },
    {
     "name": "stderr",
     "output_type": "stream",
     "text": [
      "\n",
      " Warning:  more than 10 function and gradient\n",
      "   evaluations in the last line search.  Termination\n",
      "   may possibly be caused by a bad search direction.\n"
     ]
    },
    {
     "name": "stdout",
     "output_type": "stream",
     "text": [
      "Nelder Mead\n"
     ]
    },
    {
     "name": "stderr",
     "output_type": "stream",
     "text": [
      "/usr/local/lib/python3.11/site-packages/scipy/optimize/_minimize.py:549: RuntimeWarning:\n",
      "\n",
      "Method Nelder-Mead does not use gradient information (jac).\n",
      "\n"
     ]
    },
    {
     "name": "stdout",
     "output_type": "stream",
     "text": [
      "Optimization terminated successfully.\n",
      "         Current function value: 1261.081055\n",
      "         Iterations: 36\n",
      "         Function evaluations: 128\n",
      "lr LBFGS\n",
      "15 -------------------------------------------------\n",
      "{'JJ1': 150.00001525878906, 'C1': 416.6666666666667, 'JJ2': 50.0, 'C2': 1666.6666666666667, 'JJ3': 150.00001525878906, 'C3': 20.0, 'I': 800.0}\n",
      "L-BFGS\n",
      "{'JJ1': 150.00003051757812, 'C1': 416.66668701171875, 'JJ2': 50.0, 'C2': 1666.666748046875, 'JJ3': 150.00003051757812, 'C3': 416.66668701171875, 'I': 800.0}\n",
      "RUNNING THE L-BFGS-B CODE\n",
      "\n",
      "           * * *\n",
      "\n",
      "Machine precision = 2.220D-16\n",
      " N =            2     M =           10\n",
      "\n",
      "At X0         0 variables are exactly at the bounds\n",
      "\n",
      "At iterate    0    f=  3.55604D+06    |proj g|=  1.66667D+03\n",
      "\n",
      "At iterate    1    f=  1.19770D+03    |proj g|=  2.08460D+01\n",
      "\n",
      "At iterate    2    f=  2.66925D+02    |proj g|=  1.59478D+01\n",
      "\n",
      "At iterate    3    f=  2.05913D+02    |proj g|=  4.50053D+00\n",
      "\n",
      "At iterate    4    f=  2.04605D+02    |proj g|=  6.90778D+00\n",
      "\n",
      "At iterate    5    f=  1.12413D+02    |proj g|=  4.57370D+00\n",
      "\n",
      "At iterate    6    f=  1.12413D+02    |proj g|=  4.57370D+00\n",
      "\n",
      "           * * *\n",
      "\n",
      "Tit   = total number of iterations\n",
      "Tnf   = total number of function evaluations\n",
      "Tnint = total number of segments explored during Cauchy searches\n",
      "Skip  = number of BFGS updates skipped\n",
      "Nact  = number of active bounds at final generalized Cauchy point\n",
      "Projg = norm of the final projected gradient\n",
      "F     = final function value\n",
      "\n",
      "           * * *\n",
      "\n",
      "   N    Tit     Tnf  Tnint  Skip  Nact     Projg        F\n",
      "    2      6     29      7     0     0   4.574D+00   1.124D+02\n",
      "  F =   112.41342163085938     \n",
      "\n",
      "CONVERGENCE: REL_REDUCTION_OF_F_<=_FACTR*EPSMCH             \n",
      "Adam\n"
     ]
    },
    {
     "name": "stderr",
     "output_type": "stream",
     "text": [
      "\n",
      " Warning:  more than 10 function and gradient\n",
      "   evaluations in the last line search.  Termination\n",
      "   may possibly be caused by a bad search direction.\n"
     ]
    },
    {
     "name": "stdout",
     "output_type": "stream",
     "text": [
      "Nelder Mead\n"
     ]
    },
    {
     "name": "stderr",
     "output_type": "stream",
     "text": [
      "/usr/local/lib/python3.11/site-packages/scipy/optimize/_minimize.py:549: RuntimeWarning:\n",
      "\n",
      "Method Nelder-Mead does not use gradient information (jac).\n",
      "\n"
     ]
    },
    {
     "name": "stdout",
     "output_type": "stream",
     "text": [
      "Optimization terminated successfully.\n",
      "         Current function value: 30.283981\n",
      "         Iterations: 85\n",
      "         Function evaluations: 198\n",
      "lr LBFGS\n",
      "16 -------------------------------------------------\n",
      "{'JJ1': 150.00001525878906, 'C1': 833.3333333333334, 'JJ2': 50.0, 'C2': 1666.6666666666667, 'JJ3': 150.00001525878906, 'C3': 20.0, 'I': 800.0}\n",
      "L-BFGS\n",
      "{'JJ1': 150.00003051757812, 'C1': 833.3333740234375, 'JJ2': 50.0, 'C2': 1666.666748046875, 'JJ3': 150.00003051757812, 'C3': 833.3333740234375, 'I': 800.0}\n",
      "RUNNING THE L-BFGS-B CODE\n",
      "\n",
      "           * * *\n",
      "\n",
      "Machine precision = 2.220D-16\n",
      " N =            2     M =           10\n",
      "\n",
      "At X0         0 variables are exactly at the bounds\n",
      "\n",
      "At iterate    0    f=  1.19441D+07    |proj g|=  1.66667D+03\n",
      "\n",
      "At iterate    1    f=  5.26059D+06    |proj g|=  1.11095D+03\n",
      "\n",
      "At iterate    2    f=  5.31120D+05    |proj g|=  2.56888D+02\n",
      "\n",
      "At iterate    3    f=  3.38193D+04    |proj g|=  1.45645D+02\n",
      "\n",
      "At iterate    4    f=  1.87227D+03    |proj g|=  4.33718D+02\n",
      "\n",
      "At iterate    5    f=  5.95687D+02    |proj g|=  2.84770D+01\n",
      "\n",
      "At iterate    6    f=  1.60821D+02    |proj g|=  2.21397D+02\n",
      "\n",
      "At iterate    7    f=  4.02081D+01    |proj g|=  1.14866D+02\n",
      "\n",
      "At iterate    8    f=  3.37247D+01    |proj g|=  1.15145D+02\n",
      "\n",
      "At iterate    9    f=  3.09780D+01    |proj g|=  1.15356D+02\n",
      "\n",
      "At iterate   10    f=  2.99062D+01    |proj g|=  1.15359D+02\n",
      "\n",
      "At iterate   11    f=  2.98260D+01    |proj g|=  1.15227D+02\n"
     ]
    },
    {
     "name": "stderr",
     "output_type": "stream",
     "text": [
      "\n",
      " Bad direction in the line search;\n",
      "   refresh the lbfgs memory and restart the iteration.\n"
     ]
    },
    {
     "name": "stdout",
     "output_type": "stream",
     "text": [
      "\n",
      "At iterate   12    f=  2.95184D+01    |proj g|=  1.15052D+02\n"
     ]
    },
    {
     "name": "stderr",
     "output_type": "stream",
     "text": [
      "\n",
      " Bad direction in the line search;\n",
      "   refresh the lbfgs memory and restart the iteration.\n"
     ]
    },
    {
     "name": "stdout",
     "output_type": "stream",
     "text": [
      "\n",
      "At iterate   13    f=  2.17720D+01    |proj g|=  1.02826D+02\n",
      "\n",
      "At iterate   14    f=  1.03260D+01    |proj g|=  7.84659D+01\n",
      "\n",
      "At iterate   15    f=  1.02872D+01    |proj g|=  7.82821D+01\n",
      "\n",
      "At iterate   16    f=  5.91320D+00    |proj g|=  6.34929D+01\n",
      "\n",
      "At iterate   17    f=  2.71262D+00    |proj g|=  3.60623D+01\n",
      "\n",
      "At iterate   18    f=  5.66648D-01    |proj g|=  2.86045D+00\n",
      "\n",
      "At iterate   19    f=  5.10999D-01    |proj g|=  9.51862D-01\n",
      "\n",
      "At iterate   20    f=  5.07764D-01    |proj g|=  3.87718D-01\n",
      "\n",
      "At iterate   21    f=  5.07764D-01    |proj g|=  3.87718D-01\n",
      "\n",
      "Adam\n",
      "           * * *\n",
      "\n",
      "Tit   = total number of iterations\n",
      "Tnf   = total number of function evaluations\n",
      "Tnint = total number of segments explored during Cauchy searches\n",
      "Skip  = number of BFGS updates skipped\n",
      "Nact  = number of active bounds at final generalized Cauchy point\n",
      "Projg = norm of the final projected gradient\n",
      "F     = final function value\n",
      "\n",
      "           * * *\n",
      "\n",
      "   N    Tit     Tnf  Tnint  Skip  Nact     Projg        F\n",
      "    2     21    116     25     0     0   3.877D-01   5.078D-01\n",
      "  F =  0.50776416063308716     \n",
      "\n",
      "CONVERGENCE: REL_REDUCTION_OF_F_<=_FACTR*EPSMCH             \n"
     ]
    },
    {
     "name": "stderr",
     "output_type": "stream",
     "text": [
      "\n",
      " Warning:  more than 10 function and gradient\n",
      "   evaluations in the last line search.  Termination\n",
      "   may possibly be caused by a bad search direction.\n"
     ]
    },
    {
     "name": "stdout",
     "output_type": "stream",
     "text": [
      "Nelder Mead\n"
     ]
    },
    {
     "name": "stderr",
     "output_type": "stream",
     "text": [
      "/usr/local/lib/python3.11/site-packages/scipy/optimize/_minimize.py:549: RuntimeWarning:\n",
      "\n",
      "Method Nelder-Mead does not use gradient information (jac).\n",
      "\n"
     ]
    },
    {
     "name": "stdout",
     "output_type": "stream",
     "text": [
      "Optimization terminated successfully.\n",
      "         Current function value: 30.346437\n",
      "         Iterations: 95\n",
      "         Function evaluations: 205\n",
      "lr LBFGS\n",
      "17 -------------------------------------------------\n",
      "{'JJ1': 150.00001525878906, 'C1': 1250.0, 'JJ2': 50.0, 'C2': 1666.6666666666667, 'JJ3': 150.00001525878906, 'C3': 20.0, 'I': 800.0}\n",
      "L-BFGS\n",
      "{'JJ1': 150.00003051757812, 'C1': 1250.0, 'JJ2': 50.0, 'C2': 1666.666748046875, 'JJ3': 150.00003051757812, 'C3': 1250.0, 'I': 800.0}\n",
      "RUNNING THE L-BFGS-B CODE\n",
      "\n",
      "           * * *\n",
      "\n",
      "Machine precision = 2.220D-16\n",
      " N =            2     M =           10\n",
      "\n",
      "At X0         0 variables are exactly at the bounds\n",
      "\n",
      "At iterate    0    f=  2.36589D+07    |proj g|=  1.66667D+03\n",
      "\n",
      "At iterate    1    f=  1.04217D+07    |proj g|=  1.11104D+03\n",
      "\n",
      "At iterate    2    f=  2.19139D+04    |proj g|=  1.67762D+02\n",
      "\n",
      "At iterate    3    f=  1.31326D+04    |proj g|=  8.67874D+02\n",
      "\n",
      "At iterate    4    f=  6.00922D+03    |proj g|=  1.74353D+03\n",
      "\n",
      "At iterate    5    f=  3.41410D+03    |proj g|=  1.13204D+03\n",
      "\n",
      "At iterate    6    f=  1.56421D+02    |proj g|=  1.14715D+02\n",
      "\n",
      "At iterate    7    f=  6.96902D+01    |proj g|=  1.23564D+02\n",
      "\n",
      "At iterate    8    f=  4.87313D+01    |proj g|=  1.24582D+02\n"
     ]
    },
    {
     "name": "stderr",
     "output_type": "stream",
     "text": [
      "\n",
      " Bad direction in the line search;\n",
      "   refresh the lbfgs memory and restart the iteration.\n"
     ]
    },
    {
     "name": "stdout",
     "output_type": "stream",
     "text": [
      "\n",
      "At iterate    9    f=  4.84314D+01    |proj g|=  1.24584D+02\n",
      "\n",
      "At iterate   10    f=  4.83509D+01    |proj g|=  1.24592D+02\n"
     ]
    },
    {
     "name": "stderr",
     "output_type": "stream",
     "text": [
      "\n",
      " Bad direction in the line search;\n",
      "   refresh the lbfgs memory and restart the iteration.\n"
     ]
    },
    {
     "name": "stdout",
     "output_type": "stream",
     "text": [
      "\n",
      "At iterate   11    f=  3.64855D+01    |proj g|=  1.09865D+02\n",
      "\n",
      "At iterate   12    f=  2.42676D+01    |proj g|=  1.09543D+02\n",
      "\n",
      "At iterate   13    f=  1.19412D+00    |proj g|=  2.16746D+01\n",
      "\n",
      "At iterate   14    f=  7.43927D-01    |proj g|=  1.47928D+01\n",
      "\n",
      "At iterate   15    f=  5.08222D-01    |proj g|=  1.52559D-01\n",
      "\n",
      "At iterate   16    f=  5.04124D-01    |proj g|=  4.22285D-01\n",
      "  ys=-5.606E-04  -gs= 1.529E-04 BFGS update SKIPPED\n",
      "\n",
      "At iterate   17    f=  5.04124D-01    |proj g|=  4.22285D-01\n",
      "\n",
      "           * * *\n",
      "\n",
      "Tit   = total number of iterations\n",
      "Adam\n",
      "Tnf   = total number of function evaluations\n",
      "Tnint = total number of segments explored during Cauchy searches\n",
      "Skip  = number of BFGS updates skipped\n",
      "Nact  = number of active bounds at final generalized Cauchy point\n",
      "Projg = norm of the final projected gradient\n",
      "F     = final function value\n",
      "\n",
      "           * * *\n",
      "\n",
      "   N    Tit     Tnf  Tnint  Skip  Nact     Projg        F\n",
      "    2     17    108     21     1     0   4.223D-01   5.041D-01\n",
      "  F =  0.50412404537200928     \n",
      "\n",
      "CONVERGENCE: REL_REDUCTION_OF_F_<=_FACTR*EPSMCH             \n"
     ]
    },
    {
     "name": "stderr",
     "output_type": "stream",
     "text": [
      "\n",
      " Warning:  more than 10 function and gradient\n",
      "   evaluations in the last line search.  Termination\n",
      "   may possibly be caused by a bad search direction.\n"
     ]
    },
    {
     "name": "stdout",
     "output_type": "stream",
     "text": [
      "Nelder Mead\n"
     ]
    },
    {
     "name": "stderr",
     "output_type": "stream",
     "text": [
      "/usr/local/lib/python3.11/site-packages/scipy/optimize/_minimize.py:549: RuntimeWarning:\n",
      "\n",
      "Method Nelder-Mead does not use gradient information (jac).\n",
      "\n"
     ]
    },
    {
     "name": "stdout",
     "output_type": "stream",
     "text": [
      "Optimization terminated successfully.\n",
      "         Current function value: 27.440392\n",
      "         Iterations: 98\n",
      "         Function evaluations: 231\n",
      "lr LBFGS\n",
      "18 -------------------------------------------------\n",
      "{'JJ1': 150.00001525878906, 'C1': 1666.6666666666667, 'JJ2': 50.0, 'C2': 1666.6666666666667, 'JJ3': 150.00001525878906, 'C3': 20.0, 'I': 800.0}\n",
      "L-BFGS\n",
      "{'JJ1': 150.00003051757812, 'C1': 1666.666748046875, 'JJ2': 50.0, 'C2': 1666.666748046875, 'JJ3': 150.00003051757812, 'C3': 1666.666748046875, 'I': 800.0}\n",
      "RUNNING THE L-BFGS-B CODE\n",
      "\n",
      "           * * *\n",
      "\n",
      "Machine precision = 2.220D-16\n",
      " N =            2     M =           10\n",
      "\n",
      "At X0         0 variables are exactly at the bounds\n",
      "\n",
      "At iterate    0    f=  3.77637D+07    |proj g|=  1.66667D+03\n",
      "\n",
      "At iterate    1    f=  1.64963D+07    |proj g|=  1.11096D+03\n",
      "\n",
      "At iterate    2    f=  7.12002D+06    |proj g|=  7.40610D+02\n"
     ]
    },
    {
     "name": "stderr",
     "output_type": "stream",
     "text": [
      "\n",
      " Nonpositive definiteness in Cholesky factorization in formk;\n",
      "   refresh the lbfgs memory and restart the iteration.\n"
     ]
    },
    {
     "name": "stdout",
     "output_type": "stream",
     "text": [
      "\n",
      "At iterate    3    f=  3.02434D+06    |proj g|=  4.93657D+02\n",
      "\n",
      "At iterate    4    f=  6.96111D+05    |proj g|=  2.54859D+02\n",
      "\n",
      "At iterate    5    f=  2.52830D+05    |proj g|=  1.71482D+02\n",
      "\n",
      "At iterate    6    f=  7.60501D+04    |proj g|=  1.26445D+02\n",
      "\n",
      "At iterate    7    f=  1.65033D+04    |proj g|=  3.10312D+02\n",
      "\n",
      "At iterate    8    f=  6.86408D+03    |proj g|=  2.37966D+03\n",
      "\n",
      "At iterate    9    f=  2.81120D+03    |proj g|=  1.02782D+03\n",
      "\n",
      "At iterate   10    f=  4.89307D+02    |proj g|=  1.18732D+02\n",
      "\n",
      "At iterate   11    f=  4.89282D+02    |proj g|=  1.18727D+02\n",
      "\n",
      "At iterate   12    f=  3.79100D+02    |proj g|=  7.64693D+01\n",
      "\n",
      "At iterate   13    f=  1.57672D+02    |proj g|=  5.41118D+00\n",
      "\n",
      "At iterate   14    f=  1.15418D+02    |proj g|=  8.49805D+00\n",
      "\n",
      "At iterate   15    f=  6.39963D+01    |proj g|=  3.89136D+01\n",
      "\n",
      "At iterate   16    f=  5.17621D+01    |proj g|=  1.15812D+02\n",
      "\n",
      "At iterate   17    f=  2.98338D+01    |proj g|=  1.13363D+02\n",
      "\n",
      "At iterate   18    f=  2.75470D+01    |proj g|=  1.01231D+02\n",
      "\n",
      "At iterate   19    f=  2.09796D+01    |proj g|=  5.42205D+01\n",
      "\n",
      "At iterate   20    f=  8.67966D+00    |proj g|=  1.43289D+01\n",
      "\n",
      "At iterate   21    f=  3.03290D+00    |proj g|=  1.10165D+01\n",
      "\n",
      "At iterate   22    f=  2.71028D+00    |proj g|=  6.62871D-01\n",
      "\n",
      "At iterate   23    f=  2.64145D+00    |proj g|=  9.15699D-01\n",
      "\n",
      "At iterate   24    f=  2.63522D+00    |proj g|=  1.63975D+00\n",
      "\n",
      "At iterate   25    f=  2.63294D+00    |proj g|=  3.59088D+00\n",
      "\n",
      "At iterate   26    f=  2.63142D+00    |proj g|=  3.95174D+00\n",
      "\n",
      "At iterate   27    f=  2.62947D+00    |proj g|=  5.66025D+00\n",
      "\n",
      "At iterate   28    f=  2.62818D+00    |proj g|=  6.76860D+00\n",
      "\n",
      "At iterate   29    f=  2.61551D+00    |proj g|=  8.10294D+00\n",
      "\n",
      "At iterate   30    f=  2.56437D+00    |proj g|=  1.13644D+01\n",
      "\n",
      "At iterate   31    f=  1.93283D+00    |proj g|=  1.46645D+00\n",
      "  ys=-1.069E+00  -gs= 5.972E-01 BFGS update SKIPPED\n",
      "\n",
      "At iterate   32    f=  1.55255D+00    |proj g|=  7.13143D+00\n",
      "\n",
      "At iterate   33    f=  1.41488D+00    |proj g|=  8.20466D+00\n",
      "\n",
      "At iterate   34    f=  8.24826D-01    |proj g|=  3.15804D+00\n",
      "  ys=-3.570E+01  -gs= 5.226E+00 BFGS update SKIPPED\n",
      "\n",
      "At iterate   35    f=  8.24009D-01    |proj g|=  3.15204D+00\n",
      "\n",
      "At iterate   36    f=  3.49403D-01    |proj g|=  2.39468D+00\n",
      "\n",
      "At iterate   37    f=  3.38560D-01    |proj g|=  2.80372D+00\n",
      "  ys=-4.885E-02  -gs= 3.359E-01 BFGS update SKIPPED\n",
      "\n",
      "At iterate   38    f=  3.37608D-01    |proj g|=  4.50542D+00\n",
      "  ys=-5.746E-02  -gs= 5.169E-01 BFGS update SKIPPED\n",
      "\n",
      "At iterate   39    f=  3.37199D-01    |proj g|=  4.47807D+00\n",
      "\n",
      "At iterate   40    f=  3.37199D-01    |proj g|=  4.47807D+00\n",
      "\n",
      "           * * *\n",
      "\n",
      "Tit   = total number of iterations\n",
      "Tnf   = total number of function evaluations\n",
      "Tnint = total number of segments explored during Cauchy searches\n",
      "Skip  = number of BFGS updates skipped\n",
      "Nact  = number of active bounds at final generalized Cauchy point\n",
      "Projg = norm of the final projected gradient\n",
      "F     = final function value\n",
      "\n",
      "           * * *\n",
      "\n",
      "   N    Tit     Tnf  Tnint  Skip  Nact     Projg        F\n",
      "    2     40    145     46     4     0   4.478D+00   3.372D-01\n",
      "  F =  0.33719885349273682     \n",
      "\n",
      "CONVERGENCE: REL_REDUCTION_OF_F_<=_FACTR*EPSMCH             \n",
      "Adam\n"
     ]
    },
    {
     "name": "stderr",
     "output_type": "stream",
     "text": [
      "\n",
      " Warning:  more than 10 function and gradient\n",
      "   evaluations in the last line search.  Termination\n",
      "   may possibly be caused by a bad search direction.\n"
     ]
    },
    {
     "name": "stdout",
     "output_type": "stream",
     "text": [
      "Nelder Mead\n"
     ]
    },
    {
     "name": "stderr",
     "output_type": "stream",
     "text": [
      "/usr/local/lib/python3.11/site-packages/scipy/optimize/_minimize.py:549: RuntimeWarning:\n",
      "\n",
      "Method Nelder-Mead does not use gradient information (jac).\n",
      "\n"
     ]
    },
    {
     "name": "stdout",
     "output_type": "stream",
     "text": [
      "Optimization terminated successfully.\n",
      "         Current function value: 28.412489\n",
      "         Iterations: 95\n",
      "         Function evaluations: 219\n",
      "lr LBFGS\n",
      "19 -------------------------------------------------\n",
      "{'JJ1': 150.00001525878906, 'C1': 2083.3333333333335, 'JJ2': 50.0, 'C2': 1666.6666666666667, 'JJ3': 150.00001525878906, 'C3': 20.0, 'I': 800.0}\n",
      "L-BFGS\n",
      "{'JJ1': 150.00003051757812, 'C1': 2083.333251953125, 'JJ2': 50.0, 'C2': 1666.666748046875, 'JJ3': 150.00003051757812, 'C3': 2083.333251953125, 'I': 800.0}\n",
      "RUNNING THE L-BFGS-B CODE\n",
      "\n",
      "           * * *\n",
      "\n",
      "Machine precision = 2.220D-16\n",
      " N =            2     M =           10\n",
      "\n",
      "At X0         0 variables are exactly at the bounds\n",
      "\n",
      "At iterate    0    f=  4.48431D+07    |proj g|=  2.08333D+03\n",
      "\n",
      "At iterate    1    f=  1.19770D+03    |proj g|=  2.08460D+01\n",
      "\n",
      "At iterate    2    f=  2.54890D+02    |proj g|=  9.00493D+00\n",
      "\n",
      "At iterate    3    f=  8.45294D+01    |proj g|=  2.97950D+01\n",
      "\n",
      "At iterate    4    f=  7.02540D+01    |proj g|=  3.63301D+01\n",
      "\n",
      "At iterate    5    f=  3.29206D+01    |proj g|=  1.04223D+02\n",
      "\n",
      "At iterate    6    f=  2.65127D+01    |proj g|=  6.96802D+01\n",
      "\n",
      "At iterate    7    f=  6.94703D+00    |proj g|=  4.72390D+01\n",
      "\n",
      "At iterate    8    f=  5.16281D+00    |proj g|=  2.61264D+01\n",
      "\n",
      "At iterate    9    f=  2.61151D+00    |proj g|=  2.21724D+00\n",
      "\n",
      "At iterate   10    f=  2.59588D+00    |proj g|=  8.51160D-01\n",
      "\n",
      "At iterate   11    f=  2.59325D+00    |proj g|=  8.19174D-01\n",
      "\n",
      "At iterate   12    f=  2.59226D+00    |proj g|=  7.58311D-01\n",
      "\n",
      "At iterate   13    f=  2.58252D+00    |proj g|=  8.62869D-01\n",
      "  ys=-1.472E-02  -gs= 1.491E-01 BFGS update SKIPPED\n",
      "\n",
      "At iterate   14    f=  2.57999D+00    |proj g|=  9.66722D-01\n",
      "  ys=-1.241E-02  -gs= 1.092E-01 BFGS update SKIPPED\n",
      "\n",
      "At iterate   15    f=  2.57999D+00    |proj g|=  9.66722D-01\n",
      "\n",
      "Adam\n",
      "           * * *\n",
      "\n",
      "Tit   = total number of iterations\n",
      "Tnf   = total number of function evaluations\n",
      "Tnint = total number of segments explored during Cauchy searches\n",
      "Skip  = number of BFGS updates skipped\n",
      "Nact  = number of active bounds at final generalized Cauchy point\n",
      "Projg = norm of the final projected gradient\n",
      "F     = final function value\n",
      "\n",
      "           * * *\n",
      "\n",
      "   N    Tit     Tnf  Tnint  Skip  Nact     Projg        F\n",
      "    2     15     63     16     2     0   9.667D-01   2.580D+00\n",
      "  F =   2.5799908638000488     \n",
      "\n",
      "CONVERGENCE: REL_REDUCTION_OF_F_<=_FACTR*EPSMCH             \n"
     ]
    },
    {
     "name": "stderr",
     "output_type": "stream",
     "text": [
      "\n",
      " Warning:  more than 10 function and gradient\n",
      "   evaluations in the last line search.  Termination\n",
      "   may possibly be caused by a bad search direction.\n"
     ]
    },
    {
     "name": "stdout",
     "output_type": "stream",
     "text": [
      "Nelder Mead\n"
     ]
    },
    {
     "name": "stderr",
     "output_type": "stream",
     "text": [
      "/usr/local/lib/python3.11/site-packages/scipy/optimize/_minimize.py:549: RuntimeWarning:\n",
      "\n",
      "Method Nelder-Mead does not use gradient information (jac).\n",
      "\n"
     ]
    },
    {
     "name": "stdout",
     "output_type": "stream",
     "text": [
      "Optimization terminated successfully.\n",
      "         Current function value: 1261.081055\n",
      "         Iterations: 36\n",
      "         Function evaluations: 128\n",
      "lr LBFGS\n",
      "20 -------------------------------------------------\n",
      "{'JJ1': 150.00001525878906, 'C1': 416.6666666666667, 'JJ2': 50.0, 'C2': 2083.3333333333335, 'JJ3': 150.00001525878906, 'C3': 20.0, 'I': 800.0}\n",
      "L-BFGS\n",
      "{'JJ1': 150.00003051757812, 'C1': 416.66668701171875, 'JJ2': 50.0, 'C2': 2083.333251953125, 'JJ3': 150.00003051757812, 'C3': 416.66668701171875, 'I': 800.0}\n",
      "RUNNING THE L-BFGS-B CODE\n",
      "\n",
      "           * * *\n",
      "\n",
      "Machine precision = 2.220D-16\n",
      " N =            2     M =           10\n",
      "\n",
      "At X0         0 variables are exactly at the bounds\n",
      "\n",
      "At iterate    0    f=  3.66107D+06    |proj g|=  2.08333D+03\n",
      "\n",
      "At iterate    1    f=  1.19770D+03    |proj g|=  2.08460D+01\n",
      "\n",
      "At iterate    2    f=  2.77375D+02    |proj g|=  7.11386D+00\n",
      "\n",
      "At iterate    3    f=  2.47791D+02    |proj g|=  1.20398D+01\n",
      "  ys=-2.249E-01  -gs= 3.714E-01 BFGS update SKIPPED\n",
      "\n",
      "At iterate    4    f=  2.46325D+02    |proj g|=  1.48726D+01\n",
      "  ys=-1.778E-02  -gs= 7.556E-02 BFGS update SKIPPED\n",
      "\n",
      "At iterate    5    f=  1.09826D+02    |proj g|=  9.50005D-01\n",
      "\n",
      "At iterate    6    f=  1.09755D+02    |proj g|=  1.87500D-01\n",
      "\n",
      "At iterate    7    f=  4.59343D+01    |proj g|=  1.15863D+02\n",
      "\n",
      "At iterate    8    f=  4.59343D+01    |proj g|=  1.15863D+02\n",
      "\n",
      "           * * *\n",
      "\n",
      "Tit   = total number of iterations\n",
      "Adam\n",
      "Tnf   = total number of function evaluations\n",
      "Tnint = total number of segments explored during Cauchy searches\n",
      "Skip  = number of BFGS updates skipped\n",
      "Nact  = number of active bounds at final generalized Cauchy point\n",
      "Projg = norm of the final projected gradient\n",
      "F     = final function value\n",
      "\n",
      "           * * *\n",
      "\n",
      "   N    Tit     Tnf  Tnint  Skip  Nact     Projg        F\n",
      "    2      8     40     10     2     0   1.159D+02   4.593D+01\n",
      "  F =   45.934318542480469     \n",
      "\n",
      "CONVERGENCE: REL_REDUCTION_OF_F_<=_FACTR*EPSMCH             \n"
     ]
    },
    {
     "name": "stderr",
     "output_type": "stream",
     "text": [
      "\n",
      " Warning:  more than 10 function and gradient\n",
      "   evaluations in the last line search.  Termination\n",
      "   may possibly be caused by a bad search direction.\n"
     ]
    },
    {
     "name": "stdout",
     "output_type": "stream",
     "text": [
      "Nelder Mead\n"
     ]
    },
    {
     "name": "stderr",
     "output_type": "stream",
     "text": [
      "/usr/local/lib/python3.11/site-packages/scipy/optimize/_minimize.py:549: RuntimeWarning:\n",
      "\n",
      "Method Nelder-Mead does not use gradient information (jac).\n",
      "\n"
     ]
    }
   ],
   "source": [
    "OptimizationB = benchmarking(optimizer,initials,subspace)\n",
    "Adam2,lrBFGS,NelMea,LBFGS = OptimizationB"
   ]
  },
  {
   "cell_type": "code",
   "execution_count": null,
   "id": "8c1bfa6f",
   "metadata": {},
   "outputs": [],
   "source": [
    "Result = [optimizationAnalysis(initials,subspace,algo) for algo in OptimizationB]\n",
    "paths,losse = analysisPlotting(Result)"
   ]
  },
  {
   "cell_type": "code",
   "execution_count": null,
   "id": "94437872",
   "metadata": {},
   "outputs": [],
   "source": [
    "plotBox(losse,'Loss Distribution-C1-C2',export='pdf',size=(600,800))"
   ]
  },
  {
   "cell_type": "code",
   "execution_count": null,
   "id": "a4c6d3ad",
   "metadata": {},
   "outputs": [],
   "source": [
    "lower,upper = lossScapeBounds(paths)\n",
    "C1 = linspace(lower[0],upper[0],n_scape,endpoint=True)\n",
    "C2 = linspace(lower[1],upper[1],n_scape,endpoint=True)\n",
    "scape = {'C1':C1,'C2':C2}"
   ]
  },
  {
   "cell_type": "code",
   "execution_count": null,
   "id": "e1857e95",
   "metadata": {},
   "outputs": [],
   "source": [
    "flux_profile = [{'I':flux} for flux in flux_range]"
   ]
  },
  {
   "cell_type": "code",
   "execution_count": null,
   "id": "2eaad975",
   "metadata": {},
   "outputs": [],
   "source": [
    "Loss = optimizer.lossScape(lossFunction,flux_profile,scape,static)"
   ]
  },
  {
   "cell_type": "code",
   "execution_count": null,
   "id": "7eccdf89",
   "metadata": {},
   "outputs": [],
   "source": [
    "plotOptimization(Loss,C1,C2,paths,'Optimization-C1_C2','C1(GHz)','C2(GHz)',export='pdf',size=(600,800),legend=False)"
   ]
  },
  {
   "cell_type": "markdown",
   "id": "d9024641",
   "metadata": {},
   "source": [
    "#### subspace C"
   ]
  },
  {
   "cell_type": "code",
   "execution_count": null,
   "id": "c1317054",
   "metadata": {},
   "outputs": [],
   "source": [
    "basis = {'O':[8],'J':[6,6],'I':[]}; rep = 'K'\n",
    "C12 = .5 ; C22 = 20. ; C11 = C22\n",
    "JJ1 = 150; JJ3 = 150 ; JJ2 = 50\n",
    "ind = 800\n",
    "circuit = models.shuntedQubit(basis,josephson=[JJ1,JJ2,JJ3],cap=[C11,C12,C22],ind=ind,sparse=False,symmetry=True)\n",
    "static = circuit.circuitState()"
   ]
  },
  {
   "cell_type": "code",
   "execution_count": null,
   "id": "61d8ad7c",
   "metadata": {},
   "outputs": [],
   "source": [
    "optimizer = optimization.OrderingOptimization(circuit,representation=rep)"
   ]
  },
  {
   "cell_type": "code",
   "execution_count": null,
   "id": "3e46d27c",
   "metadata": {},
   "outputs": [],
   "source": [
    "subspace = ['JJ1','C1'] ; N = 5\n",
    "initials = uniformParameters(circuit,subspace,N)\n",
    "#initials = truncNormalParameters(circuit,subspace,N,var=5)\n",
    "len(initials)"
   ]
  },
  {
   "cell_type": "code",
   "execution_count": null,
   "id": "3bfbbb01",
   "metadata": {},
   "outputs": [],
   "source": [
    "OptimizationC = benchmarking(optimizer,initials,subspace)\n",
    "Adam2,lrBFGS,NelMea,LBFGS = OptimizationC"
   ]
  },
  {
   "cell_type": "code",
   "execution_count": null,
   "id": "6a6d4a06",
   "metadata": {},
   "outputs": [],
   "source": [
    "Result = [optimizationAnalysis(initials,subspace,algo) for algo in OptimizationC]\n",
    "paths,losse = analysisPlotting(Result)"
   ]
  },
  {
   "cell_type": "code",
   "execution_count": null,
   "id": "8a92306a",
   "metadata": {},
   "outputs": [],
   "source": [
    "plotBox(losse,'Loss Distribution-JJ1-C1',export='pdf',size=(600,800))"
   ]
  },
  {
   "cell_type": "code",
   "execution_count": null,
   "id": "f97cc3b1",
   "metadata": {},
   "outputs": [],
   "source": [
    "lower,upper = lossScapeBounds(paths)\n",
    "JJ1 = linspace(lower[0],upper[0],n_scape,endpoint=True)\n",
    "C1 = linspace(lower[1],upper[1],n_scape,endpoint=True)\n",
    "scape = {'JJ1':JJ1,'C1':C1}"
   ]
  },
  {
   "cell_type": "code",
   "execution_count": null,
   "id": "543e8119",
   "metadata": {},
   "outputs": [],
   "source": [
    "flux_profile = [{'I':flux} for flux in flux_range]"
   ]
  },
  {
   "cell_type": "code",
   "execution_count": null,
   "id": "854c710a",
   "metadata": {},
   "outputs": [],
   "source": [
    "Loss = optimizer.lossScape(lossFunction,flux_profile,scape,static)"
   ]
  },
  {
   "cell_type": "code",
   "execution_count": null,
   "id": "99474a56",
   "metadata": {},
   "outputs": [],
   "source": [
    "plotOptimization(Loss,JJ1,C1,paths,'Optimization-JJ1_C1','JJ1(GHz)','C1(GHz)',export='pdf',size=(600,800),legend=False)"
   ]
  },
  {
   "cell_type": "markdown",
   "id": "a29f338b",
   "metadata": {},
   "source": [
    "#### subspace D"
   ]
  },
  {
   "cell_type": "code",
   "execution_count": null,
   "id": "504ed507",
   "metadata": {},
   "outputs": [],
   "source": [
    "basis = {'O':[8],'J':[6,6],'I':[]}; rep = 'K'\n",
    "C12 = .5 ; C22 = 20. ; C11 = C22\n",
    "JJ1 = 150; JJ3 = 150 ; JJ2 = 50\n",
    "ind = 800\n",
    "circuit = models.shuntedQubit(basis,josephson=[JJ1,JJ2,JJ3],cap=[C11,C12,C22],ind=ind,sparse=False,symmetry=True)\n",
    "static = circuit.circuitState()"
   ]
  },
  {
   "cell_type": "code",
   "execution_count": null,
   "id": "b4fa9066",
   "metadata": {},
   "outputs": [],
   "source": [
    "optimizer = optimization.OrderingOptimization(circuit,representation=rep)"
   ]
  },
  {
   "cell_type": "code",
   "execution_count": null,
   "id": "ad7e2530",
   "metadata": {},
   "outputs": [],
   "source": [
    "subspace = ['JJ1','JJ2','C1','C2'] ; N = 2\n",
    "initials = uniformParameters(circuit,subspace,N)\n",
    "#initials = truncNormalParameters(circuit,subspace,N,var=5)\n",
    "len(initials)"
   ]
  },
  {
   "cell_type": "code",
   "execution_count": null,
   "id": "e83a2744",
   "metadata": {},
   "outputs": [],
   "source": [
    "OptimizationD = benchmarking(optimizer,initials,subspace)\n",
    "Adam2,lrBFGS,NelMea,LBFGS = OptimizationD"
   ]
  },
  {
   "cell_type": "code",
   "execution_count": null,
   "id": "51f2435b",
   "metadata": {},
   "outputs": [],
   "source": [
    "Result = [optimizationAnalysis(initials,subspace,algo) for algo in OptimizationD]\n",
    "paths,losse = analysisPlotting(Result)"
   ]
  },
  {
   "cell_type": "code",
   "execution_count": null,
   "id": "feef88c8",
   "metadata": {},
   "outputs": [],
   "source": [
    "plotBox(losse,'Loss Distribution',export='pdf',size=(600,800))"
   ]
  },
  {
   "cell_type": "markdown",
   "id": "42f76199",
   "metadata": {},
   "source": [
    "#### subspace A"
   ]
  },
  {
   "cell_type": "code",
   "execution_count": null,
   "id": "c4056946",
   "metadata": {},
   "outputs": [],
   "source": [
    "basis = {'O':[8],'J':[6,6],'I':[]}; rep = 'K'\n",
    "C12 = .5 ; C22 = 20. ; C11 = C22\n",
    "JJ1 = 150; JJ3 = 150 ; JJ2 = 50\n",
    "ind = 800\n",
    "circuit = models.shuntedQubit(basis,josephson=[JJ1,JJ2,JJ3],cap=[C11,C12,C22],ind=ind,sparse=False,symmetry=True)\n",
    "static = circuit.circuitState()"
   ]
  },
  {
   "cell_type": "code",
   "execution_count": null,
   "id": "c023fd97",
   "metadata": {},
   "outputs": [],
   "source": [
    "optimizer = optimization.OrderingOptimization(circuit,representation=rep)"
   ]
  },
  {
   "cell_type": "code",
   "execution_count": null,
   "id": "ff165628",
   "metadata": {},
   "outputs": [],
   "source": [
    "subspace = ['JJ1','JJ2'] ; N = 5\n",
    "initials = uniformParameters(circuit,subspace,N)\n",
    "#initials = truncNormalParameters(circuit,subspace,N,var=5)\n",
    "len(initials)"
   ]
  },
  {
   "cell_type": "code",
   "execution_count": null,
   "id": "c65a9abe",
   "metadata": {},
   "outputs": [],
   "source": [
    "OptimizationA = benchmarking(optimizer,initials,subspace)\n",
    "Adam2,lrBFGS,NelMea,LBFGS = OptimizationA"
   ]
  },
  {
   "cell_type": "code",
   "execution_count": null,
   "id": "b6a17a98",
   "metadata": {},
   "outputs": [],
   "source": [
    "Result = [optimizationAnalysis(initials,subspace,algo) for algo in OptimizationA]\n",
    "paths,losse = analysisPlotting(Result)"
   ]
  },
  {
   "cell_type": "code",
   "execution_count": null,
   "id": "a7d08fd5",
   "metadata": {},
   "outputs": [],
   "source": [
    "plotBox(losse,'Loss Distribution-JJ1-JJ2',export='pdf',size=(600,800))"
   ]
  },
  {
   "cell_type": "code",
   "execution_count": null,
   "id": "06a7c8ca",
   "metadata": {},
   "outputs": [],
   "source": [
    "lower,upper = lossScapeBounds(paths)\n",
    "JJ1 = linspace(lower[0],upper[0],n_scape,endpoint=True)\n",
    "JJ2 = linspace(lower[1],upper[1],n_scape,endpoint=True)\n",
    "scape = {'JJ1':JJ1,'JJ2':JJ2}"
   ]
  },
  {
   "cell_type": "code",
   "execution_count": null,
   "id": "3ef55360",
   "metadata": {},
   "outputs": [],
   "source": [
    "flux_profile = [{'I':flux} for flux in flux_range]"
   ]
  },
  {
   "cell_type": "code",
   "execution_count": null,
   "id": "a0d37812",
   "metadata": {},
   "outputs": [],
   "source": [
    "Loss = optimizer.lossScape(lossFunction,flux_profile,scape,static)"
   ]
  },
  {
   "cell_type": "code",
   "execution_count": null,
   "id": "6dab5795",
   "metadata": {},
   "outputs": [],
   "source": [
    "plotOptimization(Loss,JJ1,JJ2,paths,'Optimization-JJ1_JJ2','JJ1(GHz)','JJ2(GHz)',export='pdf',size=(600,800),legend=False)"
   ]
  },
  {
   "cell_type": "code",
   "execution_count": null,
   "id": "73d22b5e",
   "metadata": {},
   "outputs": [],
   "source": []
  }
 ],
 "metadata": {
  "@webio": {
   "lastCommId": null,
   "lastKernelId": null
  },
  "kernelspec": {
   "display_name": "Python 3 (ipykernel)",
   "language": "python",
   "name": "python3"
  },
  "language_info": {
   "codemirror_mode": {
    "name": "ipython",
    "version": 3
   },
   "file_extension": ".py",
   "mimetype": "text/x-python",
   "name": "python",
   "nbconvert_exporter": "python",
   "pygments_lexer": "ipython3",
   "version": "3.11.1"
  }
 },
 "nbformat": 4,
 "nbformat_minor": 5
}
