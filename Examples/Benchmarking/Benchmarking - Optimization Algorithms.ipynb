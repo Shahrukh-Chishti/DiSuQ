{
 "cells": [
  {
   "cell_type": "markdown",
   "id": "d631783f",
   "metadata": {},
   "source": [
    "* C-shunted profiling\n",
    "* Inbuilt-Symmetry model\n",
    "* Uniform Initialization, Optimal Enclosure : 2dim=5x5 ; 4dim=3x3x3x3\n",
    "* Parameter subspace : I : fixed : 800GHz\n",
    "    - A : J1==J3 / J2 ; C1==C3 = 600GHz, C2 = 10GHz\n",
    "    - B : C1==C3 / C2 ; J1==J3 = 150GHz, J2 = 100GHz\n",
    "    - C : J1==J3 / C1==C3 ; J2 = 100GHz, C2 = 10GHz\n",
    "    - D : J1==J3 / J2 / C1==C3 / C2\n",
    "* Algorithms :\n",
    "    - SGD : learning rate={.01,.0001} : SGD2,SGD4\n",
    "    - Adam : learning rate={.01,.0001} : Adam2,Adam4\n",
    "    - Nelder Mead : !!! Unconstrained Symmetry on Nelder Mead\n",
    "    - Conjugate Gradient !!! Unconstrained Symmetry on Nelder Mead\n",
    "    - L-BFGS :\n",
    "        - scipy : *assummed Wolfe\n",
    "        - torch : Wolfe\n",
    "        - torch : lr = .0001\n",
    "* Benchmarkers Optimization : multi-initialization\n",
    "    - Loss : min,max,avg : Box Plots\n",
    "    - Termination : count,steps:min,max,avg"
   ]
  },
  {
   "cell_type": "code",
   "execution_count": 1,
   "id": "6627cbf7",
   "metadata": {},
   "outputs": [],
   "source": [
    "from multiprocess import Pool\n",
    "#from multiprocessing import Pool\n",
    "from DiSuQ.Torch.optimization import uniformParameters,initializationParallelism,truncNormalParameters,initializationSequential\n",
    "from DiSuQ.Torch import models\n",
    "from DiSuQ.Torch.components import J0,L0,C0\n",
    "from DiSuQ.Torch.optimization import OrderingOptimization,PolynomialOptimization\n",
    "from DiSuQ.Torch.optimization import lossTransition,Adam,SGD\n",
    "from scipy.optimize import LinearConstraint\n",
    "from torch import tensor, float32 as float\n",
    "from numpy import arange,linspace,array,argsort,vstack,isnan\n",
    "from DiSuQ.utils import plotCompare,plotOptimization,plotBox\n",
    "import pickle\n",
    "from torch import set_num_threads\n",
    "set_num_threads(32)"
   ]
  },
  {
   "cell_type": "code",
   "execution_count": 2,
   "id": "9641317e",
   "metadata": {},
   "outputs": [],
   "source": [
    "with open('../C-shuntedProfiling/target_fluxqubit.p', 'rb') as content: target_info = pickle.load(content)\n",
    "target_spectrum = target_info['spectrum']\n",
    "E10 = target_spectrum[:,1] - target_spectrum[:,0]\n",
    "E20 = target_spectrum[:,2] - target_spectrum[:,0]\n",
    "target = {'E10':E10[[0,20,-1]],'E20':E20[[0,20,-1]]}"
   ]
  },
  {
   "cell_type": "code",
   "execution_count": 3,
   "id": "c1317054",
   "metadata": {},
   "outputs": [],
   "source": [
    "basis = {'O':[8],'J':[6,6],'I':[]}; rep = 'K'\n",
    "C12 = .5 ; C22 = 20. ; C11 = C22\n",
    "JJ1 = 150; JJ3 = 150 ; JJ2 = 50\n",
    "ind = 800\n",
    "circuit = models.shuntedQubit(basis,josephson=[JJ1,JJ2,JJ3],cap=[C11,C12,C22],ind=ind,sparse=False,symmetry=True)\n",
    "static = circuit.circuitState()"
   ]
  },
  {
   "cell_type": "code",
   "execution_count": 4,
   "id": "5aa993f9",
   "metadata": {},
   "outputs": [],
   "source": [
    "Algo = [\"Adam2\",\"Adam4\",\"Wolfe\",\"lrBFGS\",'Nelder-Mead','LBFGS']"
   ]
  },
  {
   "cell_type": "code",
   "execution_count": 5,
   "id": "7e1c9bd8",
   "metadata": {},
   "outputs": [],
   "source": [
    "lossFunction = lossTransition(tensor(target['E10'],dtype=float),tensor(target['E20'],dtype=float))"
   ]
  },
  {
   "cell_type": "code",
   "execution_count": 6,
   "id": "f0886b5a",
   "metadata": {},
   "outputs": [],
   "source": [
    "iterations = 15; n_scape = 40"
   ]
  },
  {
   "cell_type": "code",
   "execution_count": 7,
   "id": "9aea6bc0",
   "metadata": {},
   "outputs": [],
   "source": [
    "flux_range = linspace(0,1,3,endpoint=True)\n",
    "flux_profile = [{'I':flux} for flux in flux_range]"
   ]
  },
  {
   "cell_type": "code",
   "execution_count": 8,
   "id": "61d8ad7c",
   "metadata": {},
   "outputs": [],
   "source": [
    "optimizer = OrderingOptimization(circuit,representation=rep)"
   ]
  },
  {
   "cell_type": "code",
   "execution_count": 9,
   "id": "f07ff91a",
   "metadata": {},
   "outputs": [],
   "source": [
    "symmetry = array([[1,0,0,0,-1,0,0],[0,1,0,0,0,-1,0]])\n",
    "symmetry = LinearConstraint(symmetry,[0,0],[0,0])"
   ]
  },
  {
   "cell_type": "code",
   "execution_count": 10,
   "id": "147bc2f9",
   "metadata": {},
   "outputs": [],
   "source": [
    "def printLog(dLog):\n",
    "    print(dLog['loss'].iloc[-1])"
   ]
  },
  {
   "cell_type": "code",
   "execution_count": 11,
   "id": "bc771105",
   "metadata": {},
   "outputs": [],
   "source": [
    "def benchmarking(optimizer,initials,subspace):\n",
    "    Adam2,Adam4,Wolfe,lrBFGS,NelMea,LBFGS = [],[],[],[],[],[]\n",
    "    for index,parameter in enumerate(initials):\n",
    "        print(parameter)\n",
    "        # scipy-BFGS\n",
    "        print('L-BFGS')\n",
    "        optimizer.circuit.initialization(parameter)\n",
    "        optimizer.parameters,optimizer.IDs = optimizer.circuitParameters(subspace)\n",
    "        LBFGS.append(optimizer.minimization(lossFunction,flux_profile,subspace=subspace,\n",
    "                                            method='L-BFGS-B',tol=1e-8,maxiter=iterations))\n",
    "        \n",
    "        # Adam\n",
    "        print('Adam')\n",
    "        optimizer.circuit.initialization(parameter)\n",
    "        optimizer.parameters,optimizer.IDs = optimizer.circuitParameters(subspace)\n",
    "        Adam2.append(optimizer.optimization(lossFunction,flux_profile,iterations=iterations,lr=.01))\n",
    "        \n",
    "        optimizer.circuit.initialization(parameter)\n",
    "        optimizer.parameters,optimizer.IDs = optimizer.circuitParameters(subspace)\n",
    "        Adam4.append(optimizer.optimization(lossFunction,flux_profile,iterations=iterations,lr=.0001))\n",
    "        \n",
    "        # Nelder Mead\n",
    "        print('Nelder Mead')\n",
    "        optimizer.circuit.initialization(parameter)\n",
    "        optimizer.parameters,optimizer.IDs = optimizer.circuitParameters(subspace)\n",
    "        NelMea.append(optimizer.minimization(lossFunction,flux_profile,subspace=subspace,\n",
    "                                             method='Nelder-Mead',tol=1e-8,maxiter=iterations))\n",
    "        \n",
    "        # Conjugate Gradient\n",
    "        #print('Conjugate Gradient')\n",
    "        #optimizer.circuit.initialization(parameter)\n",
    "        #optimizer.parameters,optimizer.IDs = optimizer.circuitParameters(subspace)\n",
    "        #CG.append(optimizer.minimization(lossFunction,flux_profile,subspace=subspace,\n",
    "        #method='CG',tol=1e-8,maxiter=iterations))\n",
    "        \n",
    "        # Wolfe BFGS\n",
    "        print('Wolfe BFGS')\n",
    "        optimizer.circuit.initialization(parameter)\n",
    "        optimizer.parameters,optimizer.IDs = optimizer.circuitParameters(subspace)        \n",
    "        Wolfe.append(optimizer.optimizationLBFGS(lossFunction,flux_profile,iterations=iterations))\n",
    "        \n",
    "        # lr-LBFGS\n",
    "        print('lr LBFGS')\n",
    "        optimizer.circuit.initialization(parameter)\n",
    "        optimizer.parameters,optimizer.IDs = optimizer.circuitParameters(subspace)\n",
    "        lrBFGS.append(optimizer.optimizationLBFGS(lossFunction,flux_profile,iterations=iterations,lr=.0001))\n",
    "        \n",
    "        \n",
    "    return Adam2,Adam4,Wolfe,lrBFGS,NelMea,LBFGS"
   ]
  },
  {
   "cell_type": "code",
   "execution_count": 12,
   "id": "6bfe60f4",
   "metadata": {},
   "outputs": [],
   "source": [
    "def optimizationAnalysis(init,subspace,Search,success=1.):\n",
    "    Loss,Success,Paths = [],[],[]\n",
    "    for index,(init,(dLogs,dParams,dCircuit)) in enumerate(zip(init,Search)):\n",
    "        Paths.append(dCircuit[subspace].to_numpy())\n",
    "        loss = dLogs['loss'].to_numpy()\n",
    "        Loss.append(loss[-1])\n",
    "        if loss[-1] < success:\n",
    "            Success.append(len(loss))\n",
    "    return Paths,Loss,Success"
   ]
  },
  {
   "cell_type": "code",
   "execution_count": 13,
   "id": "cfdc965c",
   "metadata": {},
   "outputs": [],
   "source": [
    "def analysisPlotting(Optimization):\n",
    "    paths = dict()\n",
    "    losse = dict()\n",
    "    for algo,(Paths,Loss,Success) in zip(Algo,Optimization):\n",
    "        indices = argsort(Loss)[0]\n",
    "        paths[algo] = Paths[indices]\n",
    "        #for idx in indices:\n",
    "        #    paths[algo+'-'+str(idx)] = Paths[idx]\n",
    "        losse[algo] = Loss\n",
    "    return paths,losse"
   ]
  },
  {
   "cell_type": "code",
   "execution_count": 14,
   "id": "34cb693e",
   "metadata": {},
   "outputs": [],
   "source": [
    "def lossScapeBounds(paths):\n",
    "    Paths = []\n",
    "    for algo,path in paths.items():\n",
    "        Paths.append(path)\n",
    "    Paths = vstack(Paths)\n",
    "    Paths = Paths[:, ~isnan(Paths).any(axis=0)]\n",
    "    return Paths.min(0),Paths.max(0)"
   ]
  },
  {
   "cell_type": "markdown",
   "id": "11e558a3",
   "metadata": {},
   "source": [
    "### simulation"
   ]
  },
  {
   "cell_type": "markdown",
   "id": "d9024641",
   "metadata": {},
   "source": [
    "#### subspace C"
   ]
  },
  {
   "cell_type": "code",
   "execution_count": 15,
   "id": "3e46d27c",
   "metadata": {},
   "outputs": [
    {
     "data": {
      "text/plain": [
       "25"
      ]
     },
     "execution_count": 15,
     "metadata": {},
     "output_type": "execute_result"
    }
   ],
   "source": [
    "subspace = ['JJ1','C1'] ; N = 5\n",
    "initials = uniformParameters(circuit,subspace,N)\n",
    "#initials = truncNormalParameters(circuit,subspace,N,var=5)\n",
    "len(initials)"
   ]
  },
  {
   "cell_type": "code",
   "execution_count": null,
   "id": "3bfbbb01",
   "metadata": {
    "scrolled": true
   },
   "outputs": [
    {
     "name": "stdout",
     "output_type": "stream",
     "text": [
      "{'JJ1': 200.0, 'C1': 416.6666666666667, 'JJ2': 50.0, 'C2': 0.4999997913837433, 'JJ3': 150.00001525878906, 'C3': 20.0, 'I': 800.0}\n",
      "L-BFGS\n",
      "RUNNING THE L-BFGS-B CODE\n",
      "\n",
      "           * * *\n",
      "\n",
      "Machine precision = 2.220D-16\n",
      " N =            2     M =           10\n",
      "\n",
      "At X0         0 variables are exactly at the bounds\n",
      "\n",
      "At iterate    0    f=  1.27723D+02    |proj g|=  1.22842D+02\n",
      "\n",
      "At iterate    1    f=  5.02505D+00    |proj g|=  5.37639D+01\n",
      "\n",
      "At iterate    2    f=  3.63836D+00    |proj g|=  1.38890D+01\n",
      "\n",
      "At iterate    3    f=  3.55943D+00    |proj g|=  4.57816D+00\n"
     ]
    },
    {
     "name": "stderr",
     "output_type": "stream",
     "text": [
      "\n",
      " Bad direction in the line search;\n",
      "   refresh the lbfgs memory and restart the iteration.\n"
     ]
    },
    {
     "name": "stdout",
     "output_type": "stream",
     "text": [
      "\n",
      "At iterate    4    f=  3.55207D+00    |proj g|=  1.43587D+00\n",
      "\n",
      "At iterate    5    f=  3.52389D+00    |proj g|=  1.39046D+00\n",
      "\n",
      "At iterate    6    f=  3.51653D+00    |proj g|=  1.79601D+00\n"
     ]
    },
    {
     "name": "stderr",
     "output_type": "stream",
     "text": [
      "\n",
      " Bad direction in the line search;\n",
      "   refresh the lbfgs memory and restart the iteration.\n"
     ]
    },
    {
     "name": "stdout",
     "output_type": "stream",
     "text": [
      "\n",
      "           * * *\n",
      "\n",
      "Tit   = total number of iterations\n",
      "Tnf   = total number of function evaluations\n",
      "Tnint = total number of segments explored during Cauchy searches\n",
      "Skip  = number of BFGS updates skipped\n",
      "Nact  = number of active bounds at final generalized Cauchy point\n",
      "Projg = norm of the final projected gradient\n",
      "F     = final function value\n",
      "\n",
      "           * * *\n",
      "Adam\n",
      "\n",
      "   N    Tit     Tnf  Tnint  Skip  Nact     Projg        F\n",
      "    2      7     79      9     0     0   1.796D+00   3.517D+00\n",
      "  F =   3.5165326595306396     \n",
      "\n",
      "ABNORMAL_TERMINATION_IN_LNSRCH                              \n"
     ]
    },
    {
     "name": "stderr",
     "output_type": "stream",
     "text": [
      "\n",
      " Line search cannot locate an adequate point after MAXLS\n",
      "  function and gradient evaluations.\n",
      "  Previous x, f and g restored.\n",
      " Possible causes: 1 error in function or gradient evaluation;\n",
      "                  2 rounding error dominate computation.\n"
     ]
    },
    {
     "name": "stdout",
     "output_type": "stream",
     "text": [
      "Nelder Mead\n"
     ]
    },
    {
     "name": "stderr",
     "output_type": "stream",
     "text": [
      "/usr/local/lib/python3.11/site-packages/scipy/optimize/_minimize.py:549: RuntimeWarning:\n",
      "\n",
      "Method Nelder-Mead does not use gradient information (jac).\n",
      "\n"
     ]
    },
    {
     "name": "stdout",
     "output_type": "stream",
     "text": [
      "Optimization terminated successfully.\n",
      "         Current function value: 4.270232\n",
      "         Iterations: 57\n",
      "         Function evaluations: 158\n",
      "Wolfe BFGS\n",
      "lr LBFGS\n",
      "{'JJ1': 400.0, 'C1': 416.6666666666667, 'JJ2': 50.0, 'C2': 0.4999997913837433, 'JJ3': 150.00001525878906, 'C3': 20.0, 'I': 800.0}\n",
      "L-BFGS\n",
      "RUNNING THE L-BFGS-B CODE\n",
      "\n",
      "           * * *\n",
      "\n",
      "Machine precision = 2.220D-16\n",
      " N =            2     M =           10\n",
      "\n",
      "At X0         0 variables are exactly at the bounds\n",
      "\n",
      "At iterate    0    f=  3.36811D+00    |proj g|=  2.44223D+01\n",
      "\n",
      "At iterate    1    f=  3.09848D+00    |proj g|=  3.79622D+00\n"
     ]
    },
    {
     "name": "stderr",
     "output_type": "stream",
     "text": [
      "\n",
      " Bad direction in the line search;\n",
      "   refresh the lbfgs memory and restart the iteration.\n"
     ]
    },
    {
     "name": "stdout",
     "output_type": "stream",
     "text": [
      "\n",
      "At iterate    2    f=  3.02975D+00    |proj g|=  4.21695D+00\n",
      "  ys=-1.771E-02  -gs= 1.330E-01 BFGS update SKIPPED\n"
     ]
    }
   ],
   "source": [
    "Optimization = benchmarking(optimizer,initials,subspace)\n",
    "Adam2,Adam4,Wolfe,lrBFGS,NelMea,LBFGS = Optimization"
   ]
  },
  {
   "cell_type": "code",
   "execution_count": null,
   "id": "6a6d4a06",
   "metadata": {},
   "outputs": [],
   "source": [
    "Result = [optimizationAnalysis(initials,subspace,algo) for algo in Optimization]\n",
    "paths,losse = analysisPlotting(Result)"
   ]
  },
  {
   "cell_type": "code",
   "execution_count": null,
   "id": "8a92306a",
   "metadata": {},
   "outputs": [],
   "source": [
    "plotBox(losse,'Loss Distribution-JJ1-C1',export='pdf',size=(600,800))"
   ]
  },
  {
   "cell_type": "code",
   "execution_count": null,
   "id": "f97cc3b1",
   "metadata": {},
   "outputs": [],
   "source": [
    "lower,upper = lossScapeBounds(paths)\n",
    "JJ1 = linspace(lower[0],upper[0],n_scape,endpoint=True)\n",
    "C1 = linspace(lower[1],upper[1],n_scape,endpoint=True)\n",
    "scape = {'JJ1':JJ1,'C1':C1}"
   ]
  },
  {
   "cell_type": "code",
   "execution_count": null,
   "id": "543e8119",
   "metadata": {},
   "outputs": [],
   "source": [
    "flux_profile = [{'I':flux} for flux in flux_range]"
   ]
  },
  {
   "cell_type": "code",
   "execution_count": null,
   "id": "854c710a",
   "metadata": {},
   "outputs": [],
   "source": [
    "Loss = optimizer.lossScape(lossFunction,flux_profile,scape,static)"
   ]
  },
  {
   "cell_type": "code",
   "execution_count": null,
   "id": "99474a56",
   "metadata": {},
   "outputs": [],
   "source": [
    "plotOptimization(Loss,JJ1,C1,paths,'Optimization-JJ1_C1','JJ1(GHz)','C1(GHz)',export='pdf',size=(600,800),legend=False)"
   ]
  },
  {
   "cell_type": "markdown",
   "id": "26509c67",
   "metadata": {},
   "source": [
    "#### subspace B"
   ]
  },
  {
   "cell_type": "code",
   "execution_count": null,
   "id": "20eb4283",
   "metadata": {},
   "outputs": [],
   "source": [
    "subspace = ['C1','C2'] ; N = 5\n",
    "initials = uniformParameters(circuit,subspace,N)\n",
    "#initials = truncNormalParameters(circuit,subspace,N,var=5)\n",
    "len(initials)"
   ]
  },
  {
   "cell_type": "code",
   "execution_count": null,
   "id": "e11957f4",
   "metadata": {
    "scrolled": true
   },
   "outputs": [],
   "source": [
    "Optimization = benchmarking(optimizer,initials,subspace)\n",
    "Adam2,Adam4,Wolfe,lrBFGS,NelMea,LBFGS = Optimization"
   ]
  },
  {
   "cell_type": "code",
   "execution_count": null,
   "id": "8c1bfa6f",
   "metadata": {},
   "outputs": [],
   "source": [
    "Result = [optimizationAnalysis(initials,subspace,algo) for algo in Optimization]\n",
    "paths,losse = analysisPlotting(Result)"
   ]
  },
  {
   "cell_type": "code",
   "execution_count": null,
   "id": "94437872",
   "metadata": {},
   "outputs": [],
   "source": [
    "plotBox(losse,'Loss Distribution-C1-C2',export='pdf',size=(600,800))"
   ]
  },
  {
   "cell_type": "code",
   "execution_count": null,
   "id": "a4c6d3ad",
   "metadata": {},
   "outputs": [],
   "source": [
    "lower,upper = lossScapeBounds(paths)\n",
    "C1 = linspace(lower[0],upper[0],n_scape,endpoint=True)\n",
    "C2 = linspace(lower[1],upper[1],n_scape,endpoint=True)\n",
    "scape = {'C1':C1,'C2':C2}"
   ]
  },
  {
   "cell_type": "code",
   "execution_count": null,
   "id": "e1857e95",
   "metadata": {},
   "outputs": [],
   "source": [
    "flux_profile = [{'I':flux} for flux in flux_range]"
   ]
  },
  {
   "cell_type": "code",
   "execution_count": null,
   "id": "2eaad975",
   "metadata": {},
   "outputs": [],
   "source": [
    "Loss = optimizer.lossScape(lossFunction,flux_profile,scape,static)"
   ]
  },
  {
   "cell_type": "code",
   "execution_count": null,
   "id": "7eccdf89",
   "metadata": {},
   "outputs": [],
   "source": [
    "plotOptimization(Loss,C1,C2,paths,'Optimization-C1_C2','C1(GHz)','C2(GHz)',export='pdf',size=(600,800),legend=False)"
   ]
  },
  {
   "cell_type": "markdown",
   "id": "a29f338b",
   "metadata": {},
   "source": [
    "#### subspace D"
   ]
  },
  {
   "cell_type": "code",
   "execution_count": null,
   "id": "ad7e2530",
   "metadata": {},
   "outputs": [],
   "source": [
    "subspace = ['JJ1','JJ2','C1','C2'] ; N = 3\n",
    "initials = uniformParameters(circuit,subspace,N)\n",
    "#initials = truncNormalParameters(circuit,subspace,N,var=5)\n",
    "len(initials)"
   ]
  },
  {
   "cell_type": "code",
   "execution_count": null,
   "id": "e83a2744",
   "metadata": {},
   "outputs": [],
   "source": [
    "Optimization = benchmarking(optimizer,initials,subspace)\n",
    "Adam2,Adam4,Wolfe,lrBFGS,NelMea,LBFGS = Optimization"
   ]
  },
  {
   "cell_type": "code",
   "execution_count": null,
   "id": "51f2435b",
   "metadata": {},
   "outputs": [],
   "source": [
    "Result = [optimizationAnalysis(initials,subspace,algo) for algo in Optimization]\n",
    "paths,losse = analysisPlotting(Result)"
   ]
  },
  {
   "cell_type": "code",
   "execution_count": null,
   "id": "feef88c8",
   "metadata": {},
   "outputs": [],
   "source": [
    "plotBox(losse,'Loss Distribution',export='pdf',size=(600,800))"
   ]
  },
  {
   "cell_type": "markdown",
   "id": "42f76199",
   "metadata": {},
   "source": [
    "#### subspace A"
   ]
  },
  {
   "cell_type": "code",
   "execution_count": null,
   "id": "ff165628",
   "metadata": {},
   "outputs": [],
   "source": [
    "subspace = ['JJ1','JJ2'] ; N = 5\n",
    "initials = uniformParameters(circuit,subspace,N)\n",
    "#initials = truncNormalParameters(circuit,subspace,N,var=5)\n",
    "len(initials)"
   ]
  },
  {
   "cell_type": "code",
   "execution_count": null,
   "id": "c65a9abe",
   "metadata": {},
   "outputs": [],
   "source": [
    "Optimization = benchmarking(optimizer,initials,subspace)\n",
    "Adam2,Adam4,Wolfe,lrBFGS,NelMea,LBFGS = Optimization"
   ]
  },
  {
   "cell_type": "code",
   "execution_count": null,
   "id": "b6a17a98",
   "metadata": {},
   "outputs": [],
   "source": [
    "Result = [optimizationAnalysis(initials,subspace,algo) for algo in Optimization]\n",
    "paths,losse = analysisPlotting(Result)"
   ]
  },
  {
   "cell_type": "code",
   "execution_count": null,
   "id": "a7d08fd5",
   "metadata": {},
   "outputs": [],
   "source": [
    "plotBox(losse,'Loss Distribution-JJ1-JJ2',export='pdf',size=(600,800))"
   ]
  },
  {
   "cell_type": "code",
   "execution_count": null,
   "id": "06a7c8ca",
   "metadata": {},
   "outputs": [],
   "source": [
    "lower,upper = lossScapeBounds(paths)\n",
    "JJ1 = linspace(lower[0],upper[0],n_scape,endpoint=True)\n",
    "JJ2 = linspace(lower[1],upper[1],n_scape,endpoint=True)\n",
    "scape = {'JJ1':JJ1,'JJ2':JJ2}"
   ]
  },
  {
   "cell_type": "code",
   "execution_count": null,
   "id": "3ef55360",
   "metadata": {},
   "outputs": [],
   "source": [
    "flux_profile = [{'I':flux} for flux in flux_range]"
   ]
  },
  {
   "cell_type": "code",
   "execution_count": null,
   "id": "a0d37812",
   "metadata": {},
   "outputs": [],
   "source": [
    "Loss = optimizer.lossScape(lossFunction,flux_profile,scape,static)"
   ]
  },
  {
   "cell_type": "code",
   "execution_count": null,
   "id": "6dab5795",
   "metadata": {},
   "outputs": [],
   "source": [
    "plotOptimization(Loss,JJ1,JJ2,paths,'Optimization-JJ1_JJ2','JJ1(GHz)','JJ2(GHz)',export='pdf',size=(600,800),legend=False)"
   ]
  }
 ],
 "metadata": {
  "@webio": {
   "lastCommId": null,
   "lastKernelId": null
  },
  "kernelspec": {
   "display_name": "Python 3 (ipykernel)",
   "language": "python",
   "name": "python3"
  },
  "language_info": {
   "codemirror_mode": {
    "name": "ipython",
    "version": 3
   },
   "file_extension": ".py",
   "mimetype": "text/x-python",
   "name": "python",
   "nbconvert_exporter": "python",
   "pygments_lexer": "ipython3",
   "version": "3.11.1"
  }
 },
 "nbformat": 4,
 "nbformat_minor": 5
}
