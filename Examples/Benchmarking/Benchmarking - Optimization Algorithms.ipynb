{
 "cells": [
  {
   "cell_type": "markdown",
   "id": "d631783f",
   "metadata": {},
   "source": [
    "* C-shunted profiling\n",
    "* Inbuilt-Symmetry model\n",
    "* Uniform Initialization, Optimal Enclosure : 2dim=5x5 ; 4dim=3x3x3x3\n",
    "* Parameter subspace : I : fixed : 800GHz\n",
    "    - A : J1==J3 / J2 ; C1==C3 = 600GHz, C2 = 10GHz\n",
    "    - B : C1==C3 / C2 ; J1==J3 = 150GHz, J2 = 100GHz\n",
    "    - C : J1==J3 / C1==C3 ; J2 = 100GHz, C2 = 10GHz\n",
    "    - D : J1==J3 / J2 / C1==C3 / C2\n",
    "* Algorithms :\n",
    "    - SGD : learning rate={.01,.0001} : SGD2,SGD4\n",
    "    - Adam : learning rate={.01,.0001} : Adam2,Adam4\n",
    "    - Nelder Mead : !!! Unconstrained Symmetry on Nelder Mead\n",
    "    - Conjugate Gradient !!! Unconstrained Symmetry on Nelder Mead\n",
    "    - L-BFGS :\n",
    "        - scipy : *assummed Wolfe\n",
    "        - torch : Wolfe\n",
    "        - torch : lr = .0001\n",
    "* Benchmarkers Optimization : multi-initialization\n",
    "    - Loss : min,max,avg : Box Plots\n",
    "    - Termination : count,steps:min,max,avg"
   ]
  },
  {
   "cell_type": "code",
   "execution_count": 1,
   "id": "6627cbf7",
   "metadata": {},
   "outputs": [],
   "source": [
    "from multiprocess import Pool\n",
    "#from multiprocessing import Pool\n",
    "from DiSuQ.Torch.optimization import uniformParameters,initializationParallelism,truncNormalParameters,initializationSequential\n",
    "from DiSuQ.Torch import models\n",
    "from DiSuQ.Torch.components import J0,L0,C0\n",
    "from DiSuQ.Torch.optimization import OrderingOptimization,PolynomialOptimization\n",
    "from DiSuQ.Torch.optimization import lossTransition,Adam,SGD\n",
    "from scipy.optimize import LinearConstraint\n",
    "from torch import tensor, float32 as float\n",
    "from numpy import arange,linspace,array\n",
    "from DiSuQ.utils import plotCompare,plotOptimization,plotBox\n",
    "import pickle\n",
    "from torch import set_num_threads\n",
    "set_num_threads(32)"
   ]
  },
  {
   "cell_type": "code",
   "execution_count": 2,
   "id": "9641317e",
   "metadata": {},
   "outputs": [],
   "source": [
    "with open('../C-shuntedProfiling/target_fluxqubit.p', 'rb') as content: target_info = pickle.load(content)\n",
    "target_spectrum = target_info['spectrum']\n",
    "E10 = target_spectrum[:,1] - target_spectrum[:,0]\n",
    "E20 = target_spectrum[:,2] - target_spectrum[:,0]\n",
    "target = {'E10':E10[[0,20,-1]],'E20':E20[[0,20,-1]]}"
   ]
  },
  {
   "cell_type": "code",
   "execution_count": 3,
   "id": "c1317054",
   "metadata": {},
   "outputs": [],
   "source": [
    "basis = {'O':[15],'J':[8,8],'I':[]}; rep = 'K'\n",
    "C12 = .5 ; C22 = 20. ; C11 = C22\n",
    "JJ1 = 150; JJ3 = 150 ; JJ2 = 100\n",
    "ind = 800\n",
    "circuit = models.shuntedQubit(basis,josephson=[JJ1,JJ2,JJ3],cap=[C11,C12,C22],ind=ind,sparse=False,symmetry=True)\n",
    "static = circuit.circuitState()"
   ]
  },
  {
   "cell_type": "code",
   "execution_count": 4,
   "id": "43618f99",
   "metadata": {},
   "outputs": [],
   "source": [
    "Algo = [\"SGD2\",\"SGD4\",\"Adam2\",\"Adam4\",\"scipyLBFGS\",\"wolfeLBFGS\",\"torchBFGS\"]"
   ]
  },
  {
   "cell_type": "code",
   "execution_count": 5,
   "id": "7e1c9bd8",
   "metadata": {},
   "outputs": [],
   "source": [
    "lossFunction = lossTransition(tensor(target['E10'],dtype=float),tensor(target['E20'],dtype=float))"
   ]
  },
  {
   "cell_type": "code",
   "execution_count": 6,
   "id": "f0886b5a",
   "metadata": {},
   "outputs": [],
   "source": [
    "optim = OrderingOptimization(circuit,representation=rep)\n",
    "iterations = 5"
   ]
  },
  {
   "cell_type": "code",
   "execution_count": 7,
   "id": "9aea6bc0",
   "metadata": {},
   "outputs": [],
   "source": [
    "flux_range = linspace(0,1,3,endpoint=True)\n",
    "flux_profile = [{'I':flux} for flux in flux_range]"
   ]
  },
  {
   "cell_type": "code",
   "execution_count": 8,
   "id": "f3bc4dd4",
   "metadata": {},
   "outputs": [],
   "source": [
    "optimizer = OrderingOptimization(circuit,representation=rep)"
   ]
  },
  {
   "cell_type": "code",
   "execution_count": 9,
   "id": "9528ae41",
   "metadata": {},
   "outputs": [],
   "source": [
    "symmetry = array([[1,0,0,0,-1,0,0],[0,1,0,0,0,-1,0]])\n",
    "symmetry = LinearConstraint(symmetry,[0,0],[0,0])"
   ]
  },
  {
   "cell_type": "code",
   "execution_count": 10,
   "id": "bc771105",
   "metadata": {},
   "outputs": [],
   "source": [
    "def benchmarking(optimizer,initials):\n",
    "    SGD2,SGD4,Adam2,Adam4,scipyLBFGS,wolfeLBFGS,torchBFGS = [],[],[],[],[],[],[]\n",
    "    for index,parameter in enumerate(initials):\n",
    "        # Adam\n",
    "        optimizer.circuit.initialization(parameter)\n",
    "        Adam2.append(optimizer.optimization(lossFunction,flux_profile,iterations=iterations,lr=.01))\n",
    "        optimizer.circuit.initialization(parameter)\n",
    "        Adam4.append(optimizer.optimization(lossFunction,flux_profile,iterations=iterations,lr=.0001))\n",
    "        # SGD\n",
    "        optimizer.algo = SGD\n",
    "        optimizer.circuit.initialization(parameter)\n",
    "        SGD2.append(optimizer.optimization(lossFunction,flux_profile,iterations=iterations,lr=.01))\n",
    "        optimizer.circuit.initialization(parameter)\n",
    "        SGD4.append(optimizer.optimization(lossFunction,flux_profile,iterations=iterations,lr=.0001))\n",
    "        # Nelder Mead\n",
    "        #optimizer.circuit.initialization(parameter)\n",
    "        #NelMea.append(optimizer.minimization(lossFunction,flux_profile,method='Nelder-Mead',constraints=symmetry))\n",
    "        # Conjugate Gradient\n",
    "        #optimizer.circuit.initialization(parameter)\n",
    "        #CG.append(optimizer.minimization(lossFunction,flux_profile,method='CG',constraints=symmetry))\n",
    "        # LBFGS\n",
    "        optimizer.circuit.initialization(parameter)\n",
    "        scipyLBFGS.append(optimizer.minimization(lossFunction,flux_profile,method='BFGS',constraints=symmetry))\n",
    "        \n",
    "        optimizer.circuit.initialization(parameter)        \n",
    "        wolfeLBFGS.append(optimizer.optimizationLBFGS(lossFunction,flux_profile,iterations=iterations))\n",
    "        optimizer.circuit.initialization(parameter)\n",
    "        torchBFGS.append(optimizer.optimizationLBFGS(lossFunction,flux_profile,iterations=iterations,lr=.0001))\n",
    "        \n",
    "    return SGD2,SGD4,Adam2,Adam4,scipyLBFGS,wolfeLBFGS,torchBFGS"
   ]
  },
  {
   "cell_type": "code",
   "execution_count": 11,
   "id": "5341147a",
   "metadata": {},
   "outputs": [],
   "source": [
    "def optimizationAnalysis(init,subspace,Search,success=1.):\n",
    "    Loss,Success,Paths = [],[],[]\n",
    "    for index,(init,(dLogs,dParams,dCircuit)) in enumerate(zip(init,Search)):\n",
    "        Paths.append(dCircuit[subspace].to_numpy())\n",
    "        loss = dLogs['loss'].to_numpy()\n",
    "        Loss.append(loss[-1])\n",
    "        if loss[-1] < success:\n",
    "            Success.append(len(loss))\n",
    "    return Paths,Loss,Success"
   ]
  },
  {
   "cell_type": "code",
   "execution_count": 12,
   "id": "cc8ce4b5",
   "metadata": {},
   "outputs": [],
   "source": [
    "def analysisPlotting(Optimization):\n",
    "    paths = dict()\n",
    "    losse = dict()\n",
    "    for algo,(Paths,Loss,Success) in zip(Algo,Optimization):\n",
    "        for idx,traject in enumerate(Paths):\n",
    "            paths[algo+str(idx)] = traject\n",
    "        losse[algo] = Loss\n",
    "    return paths,losse"
   ]
  },
  {
   "cell_type": "markdown",
   "id": "9bd5c11e",
   "metadata": {},
   "source": [
    "### simulation"
   ]
  },
  {
   "cell_type": "markdown",
   "id": "42f76199",
   "metadata": {},
   "source": [
    "#### subspace A"
   ]
  },
  {
   "cell_type": "code",
   "execution_count": 13,
   "id": "a85c0a51",
   "metadata": {},
   "outputs": [],
   "source": [
    "subspace = ['JJ1','JJ2'] ; N = 5\n",
    "initials = uniformParameters(circuit,subspace,N)\n",
    "len(initials)"
   ]
  },
  {
   "cell_type": "code",
   "execution_count": null,
   "id": "5891e4a9",
   "metadata": {
    "scrolled": true
   },
   "outputs": [
    {
     "name": "stderr",
     "output_type": "stream",
     "text": [
      "/usr/local/lib/python3.11/site-packages/scipy/optimize/_minimize.py:565: RuntimeWarning:\n",
      "\n",
      "Method BFGS cannot handle constraints.\n",
      "\n"
     ]
    },
    {
     "name": "stdout",
     "output_type": "stream",
     "text": [
      "Optimization terminated successfully.\n",
      "         Current function value: 637.086670\n",
      "         Iterations: 0\n",
      "         Function evaluations: 8\n",
      "         Gradient evaluations: 1\n"
     ]
    },
    {
     "name": "stderr",
     "output_type": "stream",
     "text": [
      "/usr/local/lib/python3.11/site-packages/scipy/optimize/_minimize.py:565: RuntimeWarning:\n",
      "\n",
      "Method BFGS cannot handle constraints.\n",
      "\n"
     ]
    },
    {
     "name": "stdout",
     "output_type": "stream",
     "text": [
      "Optimization terminated successfully.\n",
      "         Current function value: 1151.129639\n",
      "         Iterations: 0\n",
      "         Function evaluations: 8\n",
      "         Gradient evaluations: 1\n"
     ]
    },
    {
     "name": "stderr",
     "output_type": "stream",
     "text": [
      "/usr/local/lib/python3.11/site-packages/scipy/optimize/_minimize.py:565: RuntimeWarning:\n",
      "\n",
      "Method BFGS cannot handle constraints.\n",
      "\n"
     ]
    },
    {
     "name": "stdout",
     "output_type": "stream",
     "text": [
      "Optimization terminated successfully.\n",
      "         Current function value: 1724.761475\n",
      "         Iterations: 0\n",
      "         Function evaluations: 8\n",
      "         Gradient evaluations: 1\n"
     ]
    },
    {
     "name": "stderr",
     "output_type": "stream",
     "text": [
      "/usr/local/lib/python3.11/site-packages/scipy/optimize/_minimize.py:565: RuntimeWarning:\n",
      "\n",
      "Method BFGS cannot handle constraints.\n",
      "\n"
     ]
    },
    {
     "name": "stdout",
     "output_type": "stream",
     "text": [
      "Optimization terminated successfully.\n",
      "         Current function value: 2486.694336\n",
      "         Iterations: 0\n",
      "         Function evaluations: 8\n",
      "         Gradient evaluations: 1\n"
     ]
    },
    {
     "name": "stderr",
     "output_type": "stream",
     "text": [
      "/usr/local/lib/python3.11/site-packages/scipy/optimize/_minimize.py:565: RuntimeWarning:\n",
      "\n",
      "Method BFGS cannot handle constraints.\n",
      "\n"
     ]
    },
    {
     "name": "stdout",
     "output_type": "stream",
     "text": [
      "Optimization terminated successfully.\n",
      "         Current function value: 3318.363525\n",
      "         Iterations: 0\n",
      "         Function evaluations: 8\n",
      "         Gradient evaluations: 1\n"
     ]
    },
    {
     "name": "stderr",
     "output_type": "stream",
     "text": [
      "/usr/local/lib/python3.11/site-packages/scipy/optimize/_minimize.py:565: RuntimeWarning:\n",
      "\n",
      "Method BFGS cannot handle constraints.\n",
      "\n"
     ]
    },
    {
     "name": "stdout",
     "output_type": "stream",
     "text": [
      "Optimization terminated successfully.\n",
      "         Current function value: 2687.719727\n",
      "         Iterations: 0\n",
      "         Function evaluations: 8\n",
      "         Gradient evaluations: 1\n"
     ]
    },
    {
     "name": "stderr",
     "output_type": "stream",
     "text": [
      "/usr/local/lib/python3.11/site-packages/scipy/optimize/_minimize.py:565: RuntimeWarning:\n",
      "\n",
      "Method BFGS cannot handle constraints.\n",
      "\n"
     ]
    },
    {
     "name": "stdout",
     "output_type": "stream",
     "text": [
      "Optimization terminated successfully.\n",
      "         Current function value: 3327.361328\n",
      "         Iterations: 0\n",
      "         Function evaluations: 8\n",
      "         Gradient evaluations: 1\n"
     ]
    },
    {
     "name": "stderr",
     "output_type": "stream",
     "text": [
      "/usr/local/lib/python3.11/site-packages/scipy/optimize/_minimize.py:565: RuntimeWarning:\n",
      "\n",
      "Method BFGS cannot handle constraints.\n",
      "\n"
     ]
    },
    {
     "name": "stdout",
     "output_type": "stream",
     "text": [
      "Optimization terminated successfully.\n",
      "         Current function value: 4374.746094\n",
      "         Iterations: 0\n",
      "         Function evaluations: 8\n",
      "         Gradient evaluations: 1\n"
     ]
    },
    {
     "name": "stderr",
     "output_type": "stream",
     "text": [
      "/usr/local/lib/python3.11/site-packages/scipy/optimize/_minimize.py:565: RuntimeWarning:\n",
      "\n",
      "Method BFGS cannot handle constraints.\n",
      "\n"
     ]
    },
    {
     "name": "stdout",
     "output_type": "stream",
     "text": [
      "Optimization terminated successfully.\n",
      "         Current function value: 5324.281250\n",
      "         Iterations: 0\n",
      "         Function evaluations: 8\n",
      "         Gradient evaluations: 1\n"
     ]
    },
    {
     "name": "stderr",
     "output_type": "stream",
     "text": [
      "/usr/local/lib/python3.11/site-packages/scipy/optimize/_minimize.py:565: RuntimeWarning:\n",
      "\n",
      "Method BFGS cannot handle constraints.\n",
      "\n"
     ]
    },
    {
     "name": "stdout",
     "output_type": "stream",
     "text": [
      "Optimization terminated successfully.\n",
      "         Current function value: 6255.872070\n",
      "         Iterations: 0\n",
      "         Function evaluations: 8\n",
      "         Gradient evaluations: 1\n"
     ]
    },
    {
     "name": "stderr",
     "output_type": "stream",
     "text": [
      "/usr/local/lib/python3.11/site-packages/scipy/optimize/_minimize.py:565: RuntimeWarning:\n",
      "\n",
      "Method BFGS cannot handle constraints.\n",
      "\n"
     ]
    },
    {
     "name": "stdout",
     "output_type": "stream",
     "text": [
      "Optimization terminated successfully.\n",
      "         Current function value: 5623.967285\n",
      "         Iterations: 0\n",
      "         Function evaluations: 8\n",
      "         Gradient evaluations: 1\n"
     ]
    },
    {
     "name": "stderr",
     "output_type": "stream",
     "text": [
      "/usr/local/lib/python3.11/site-packages/scipy/optimize/_minimize.py:565: RuntimeWarning:\n",
      "\n",
      "Method BFGS cannot handle constraints.\n",
      "\n"
     ]
    },
    {
     "name": "stdout",
     "output_type": "stream",
     "text": [
      "Optimization terminated successfully.\n",
      "         Current function value: 6420.138184\n",
      "         Iterations: 0\n",
      "         Function evaluations: 8\n",
      "         Gradient evaluations: 1\n"
     ]
    },
    {
     "name": "stderr",
     "output_type": "stream",
     "text": [
      "/usr/local/lib/python3.11/site-packages/scipy/optimize/_minimize.py:565: RuntimeWarning:\n",
      "\n",
      "Method BFGS cannot handle constraints.\n",
      "\n"
     ]
    },
    {
     "name": "stdout",
     "output_type": "stream",
     "text": [
      "Optimization terminated successfully.\n",
      "         Current function value: 7951.316406\n",
      "         Iterations: 0\n",
      "         Function evaluations: 8\n",
      "         Gradient evaluations: 1\n"
     ]
    },
    {
     "name": "stderr",
     "output_type": "stream",
     "text": [
      "/usr/local/lib/python3.11/site-packages/scipy/optimize/_minimize.py:565: RuntimeWarning:\n",
      "\n",
      "Method BFGS cannot handle constraints.\n",
      "\n"
     ]
    },
    {
     "name": "stdout",
     "output_type": "stream",
     "text": [
      "Optimization terminated successfully.\n",
      "         Current function value: 9386.076172\n",
      "         Iterations: 0\n",
      "         Function evaluations: 8\n",
      "         Gradient evaluations: 1\n"
     ]
    },
    {
     "name": "stderr",
     "output_type": "stream",
     "text": [
      "/usr/local/lib/python3.11/site-packages/scipy/optimize/_minimize.py:565: RuntimeWarning:\n",
      "\n",
      "Method BFGS cannot handle constraints.\n",
      "\n"
     ]
    },
    {
     "name": "stdout",
     "output_type": "stream",
     "text": [
      "Optimization terminated successfully.\n",
      "         Current function value: 10702.798828\n",
      "         Iterations: 0\n",
      "         Function evaluations: 8\n",
      "         Gradient evaluations: 1\n"
     ]
    }
   ],
   "source": [
    "Optimization = benchmarking(optimizer,initials)\n",
    "SGD2,SGD4,Adam2,Adam4,scipyLBFGS,wolfeLBFGS,torchBFGS = Optimization"
   ]
  },
  {
   "cell_type": "code",
   "execution_count": null,
   "id": "880cc05e",
   "metadata": {},
   "outputs": [],
   "source": [
    "Optimization = [optimizationAnalysis(initials,algo) for algo in Optimization]\n",
    "paths,losse = analysisPlotting(Optimization)"
   ]
  },
  {
   "cell_type": "code",
   "execution_count": null,
   "id": "bc4b60fb",
   "metadata": {},
   "outputs": [],
   "source": [
    "plotBox(losse,'Loss Distribution-JJ1/JJ2',export='pdf',size=(600,800))"
   ]
  },
  {
   "cell_type": "code",
   "execution_count": null,
   "id": "da3cca33",
   "metadata": {},
   "outputs": [],
   "source": [
    "JJ1 = linspace(0,J0,20,endpoint=True)\n",
    "JJ2 = linspace(0,J0,20,endpoint=True)\n",
    "scape = {'JJ1':JJ1,'JJ3':JJ3}"
   ]
  },
  {
   "cell_type": "code",
   "execution_count": null,
   "id": "9a73dc23",
   "metadata": {},
   "outputs": [],
   "source": [
    "flux_profile = [{'I':flux} for flux in flux_range]"
   ]
  },
  {
   "cell_type": "code",
   "execution_count": null,
   "id": "050367fb",
   "metadata": {},
   "outputs": [],
   "source": [
    "Loss = optim.lossScape(lossObjective,flux_profile,scape,static)"
   ]
  },
  {
   "cell_type": "code",
   "execution_count": null,
   "id": "cdb73ef6",
   "metadata": {},
   "outputs": [],
   "source": [
    "plotOptimization(Loss,JJ1,JJ2,paths,'Optimization-Flux profiling','JJ1(GHz)','JJ3(GHz)',export='pdf',size=(600,800))"
   ]
  },
  {
   "cell_type": "markdown",
   "id": "b797846b",
   "metadata": {},
   "source": [
    "#### subspace B"
   ]
  },
  {
   "cell_type": "code",
   "execution_count": null,
   "id": "02fff856",
   "metadata": {},
   "outputs": [],
   "source": [
    "subspace = ['C1','C2'] ; N = 5\n",
    "initials = uniformParameters(circuit,subspace,N)"
   ]
  },
  {
   "cell_type": "markdown",
   "id": "fb9f9667",
   "metadata": {},
   "source": [
    "#### subspace C"
   ]
  },
  {
   "cell_type": "code",
   "execution_count": null,
   "id": "464b4175",
   "metadata": {},
   "outputs": [],
   "source": [
    "subspace = ['J1','C1'] ; N = 5\n",
    "initials = uniformParameters(circuit,subspace,N)"
   ]
  },
  {
   "cell_type": "markdown",
   "id": "77267c78",
   "metadata": {},
   "source": [
    "#### subspace D"
   ]
  },
  {
   "cell_type": "code",
   "execution_count": null,
   "id": "89bd45ae",
   "metadata": {},
   "outputs": [],
   "source": [
    "subspace = ['JJ1','JJ2','C1','C2'] ; N = 3\n",
    "initials = uniformParameters(circuit,subspace,N)"
   ]
  }
 ],
 "metadata": {
  "@webio": {
   "lastCommId": null,
   "lastKernelId": null
  },
  "kernelspec": {
   "display_name": "Python 3 (ipykernel)",
   "language": "python",
   "name": "python3"
  },
  "language_info": {
   "codemirror_mode": {
    "name": "ipython",
    "version": 3
   },
   "file_extension": ".py",
   "mimetype": "text/x-python",
   "name": "python",
   "nbconvert_exporter": "python",
   "pygments_lexer": "ipython3",
   "version": "3.11.1"
  }
 },
 "nbformat": 4,
 "nbformat_minor": 5
}
