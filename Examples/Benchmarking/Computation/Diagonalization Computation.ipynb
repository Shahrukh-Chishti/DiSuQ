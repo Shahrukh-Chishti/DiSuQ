{
 "cells": [
  {
   "cell_type": "code",
   "execution_count": 5,
   "id": "208ec1ac",
   "metadata": {},
   "outputs": [],
   "source": [
    "from DiSuQ.Torch import models as TorchModels\n",
    "from DiSuQ.Kerman import models as KermanModels\n",
    "\n",
    "from torch import tensor\n",
    "from numpy import arange,linspace,var,logspace\n",
    "from DiSuQ.utils import plotCompare\n",
    "from time import perf_counter\n",
    "import memory_profiler as mp\n",
    "import pandas\n",
    "\n",
    "import torch,numpy\n",
    "from threadpoolctl import threadpool_limits\n",
    "from DiSuQ.utils import plotCompare"
   ]
  },
  {
   "cell_type": "code",
   "execution_count": 6,
   "id": "a122476f",
   "metadata": {},
   "outputs": [],
   "source": [
    "def torchInstantiationFluxonium(N,El=10.,Ec=100.,Ej=50.,sparse=False):\n",
    "    basis = {'O':[N],'I':[],'J':[]}; rep = 'K'\n",
    "    circuit = TorchModels.fluxonium(basis,El=El,Ec=Ec,Ej=Ej,sparse=sparse)\n",
    "    flux_point = {'I':tensor(0.)}\n",
    "    H_LC = circuit.kermanHamiltonianLC()\n",
    "    H_J = circuit.kermanHamiltonianJosephson(flux_point)\n",
    "    return H_LC+H_J\n",
    "\n",
    "def torchInstantiationTransmon(N,El=10.,Ec=100.,Ej=50.,sparse=False):\n",
    "    basis = {'O':[N],'I':[],'J':[]}; rep = 'Q'; basis = [N]\n",
    "    circuit = TorchModels.transmon(basis,Ec=Ec,Ej=Ej,sparse=sparse)\n",
    "    flux_point = {'I':tensor(0.)}\n",
    "    H_LC = circuit.chargeHamiltonianLC()\n",
    "    H_J = circuit.josephsonCharge(flux_point)\n",
    "    return H_LC+H_J\n",
    "\n",
    "def numpyInstantiation(N,El=10.,Ec=100.,Ej=50,sparse=False):\n",
    "    basis = {'O':[N],'I':[],'J':[]}; rep = 'K'\n",
    "    circuit = KermanModels.fluxonium(basis,El=El,Ec=Ec,Ej=Ej)\n",
    "    flux_point = {'I':0.}\n",
    "    H_LC = circuit.kermanHamiltonianLC()\n",
    "    H_J = circuit.kermanHamiltonianJosephson(flux_point)\n",
    "    return H_LC+H_J"
   ]
  },
  {
   "cell_type": "code",
   "execution_count": 7,
   "id": "2de50e92",
   "metadata": {},
   "outputs": [],
   "source": [
    "threads = [16,32,48,64]\n",
    "n_bases = 7"
   ]
  },
  {
   "cell_type": "code",
   "execution_count": 8,
   "id": "f5652b45",
   "metadata": {
    "scrolled": false
   },
   "outputs": [
    {
     "name": "stdout",
     "output_type": "stream",
     "text": [
      "[ 100  158  251  398  630 1000 1584]\n",
      "16 ----------\n",
      "100 ==============\n",
      "158 ==============\n",
      "251 ==============\n",
      "398 ==============\n",
      "630 ==============\n",
      "1000 ==============\n",
      "1584 ==============\n",
      "32 ----------\n",
      "100 ==============\n",
      "158 ==============\n",
      "251 ==============\n",
      "398 ==============\n",
      "630 ==============\n",
      "1000 ==============\n",
      "1584 ==============\n",
      "48 ----------\n",
      "100 ==============\n",
      "158 ==============\n",
      "251 ==============\n",
      "398 ==============\n",
      "630 ==============\n",
      "1000 ==============\n",
      "1584 ==============\n",
      "64 ----------\n",
      "100 ==============\n",
      "158 ==============\n",
      "251 ==============\n",
      "398 ==============\n",
      "630 ==============\n",
      "1000 ==============\n",
      "1584 ==============\n"
     ]
    }
   ],
   "source": [
    "dSpa = []\n",
    "vectors = False\n",
    "bases = logspace(2,3.2,n_bases,dtype=int)\n",
    "print(bases)\n",
    "arguments = {'El':10.,'Ec':100.,'Ej':50.}\n",
    "for n_threads in threads:\n",
    "    print(n_threads,'----------')\n",
    "    for N in bases:\n",
    "        print(N,'==============')\n",
    "        torch.set_num_threads(n_threads)\n",
    "        \n",
    "        H = torchInstantiationTransmon(N,sparse=False).to(float)\n",
    "        start = perf_counter()\n",
    "        mem = mp.memory_usage((torch.lobpcg,(H,4)))\n",
    "        time = perf_counter()-start\n",
    "        dSpa.append({'lib':'torch','stage':'diag','hilbert':N,'threads':n_threads,\n",
    "                        'peak_memory':max(mem)-min(mem),'time':time,'vectors':vectors,'rep':'dense'})\n",
    "                              \n",
    "        H = torchInstantiationTransmon(N,sparse=True).to(float)\n",
    "        start = perf_counter()\n",
    "        mem = mp.memory_usage((torch.lobpcg,(H,4)))\n",
    "        time = perf_counter()-start\n",
    "        dSpa.append({'lib':'torch','stage':'diag','hilbert':N,'threads':n_threads,\n",
    "                        'peak_memory':max(mem)-min(mem),'time':time,'vectors':vectors,'rep':'sparse'})\n",
    "                              \n",
    "        \n",
    "dSpa = pandas.DataFrame(dSpa)\n",
    "dSpa.to_csv('sparse-dense-re.csv')"
   ]
  },
  {
   "cell_type": "markdown",
   "id": "666fd771",
   "metadata": {},
   "source": [
    "-------------------------"
   ]
  },
  {
   "cell_type": "code",
   "execution_count": 27,
   "id": "d52b4ed2",
   "metadata": {
    "scrolled": false
   },
   "outputs": [
    {
     "name": "stdout",
     "output_type": "stream",
     "text": [
      "[   10    56   316  1778 10000]\n",
      "16 ----------\n",
      "10 ==============\n",
      "56 ==============\n",
      "316 ==============\n",
      "1778 ==============\n",
      "10000 ==============\n",
      "32 ----------\n",
      "10 ==============\n",
      "56 ==============\n",
      "316 ==============\n",
      "1778 ==============\n",
      "10000 ==============\n",
      "64 ----------\n",
      "10 ==============\n",
      "56 ==============\n",
      "316 ==============\n",
      "1778 ==============\n",
      "10000 ==============\n"
     ]
    }
   ],
   "source": [
    "dLog = []\n",
    "vectors = False\n",
    "bases = logspace(1,4,n_bases,dtype=int)\n",
    "print(bases)\n",
    "arguments = {'El':10.,'Ec':100.,'Ej':50.}\n",
    "for n_threads in threads:\n",
    "    print(n_threads,'----------')\n",
    "    for N in bases:\n",
    "        print(N,'==============')\n",
    "        torch.set_num_threads(n_threads)\n",
    "        H = torchInstantiation(N)\n",
    "        start = perf_counter()\n",
    "        mem = mp.memory_usage((torch.linalg.eigvalsh,(H,)))\n",
    "        time = perf_counter()-start\n",
    "        dLog.append({'lib':'torch','stage':'diag','hilbert':N,'threads':n_threads,\n",
    "                        'peak_memory':max(mem)-min(mem),'time':time,'vectors':vectors,'rep':'dense'})\n",
    "\n",
    "        #mkl.set_num_threads(n_threads)\n",
    "        with threadpool_limits(limits=n_threads, user_api='blas'):\n",
    "            H = numpyInstantiation(N)        \n",
    "            start = perf_counter()\n",
    "            mem = mp.memory_usage((numpy.linalg.eigvalsh,(H,)))\n",
    "            time = perf_counter()-start\n",
    "            dLog.append({'lib':'numpy','stage':'diag','hilbert':N,'threads':n_threads,\n",
    "                         'peak_memory':max(mem)-min(mem),'time':time,'vectors':vectors,'rep':'dense'})\n",
    "\n",
    "dLog = pandas.DataFrame(dLog)\n",
    "dLog.to_csv('parallelization.csv')"
   ]
  },
  {
   "cell_type": "code",
   "execution_count": 42,
   "id": "482eb748",
   "metadata": {},
   "outputs": [],
   "source": [
    "dLog.to_csv('parallelization.csv')"
   ]
  },
  {
   "cell_type": "markdown",
   "id": "21c4bd8e",
   "metadata": {},
   "source": [
    "# Sparse"
   ]
  },
  {
   "cell_type": "code",
   "execution_count": null,
   "id": "b4d31ce5",
   "metadata": {},
   "outputs": [],
   "source": []
  },
  {
   "cell_type": "markdown",
   "id": "7c000810",
   "metadata": {},
   "source": [
    "# Parallelization"
   ]
  },
  {
   "cell_type": "code",
   "execution_count": 28,
   "id": "e8a2f63d",
   "metadata": {},
   "outputs": [],
   "source": [
    "#dLog = pandas.read_csv('parallelization.csv')"
   ]
  },
  {
   "cell_type": "code",
   "execution_count": 29,
   "id": "33db3d1b",
   "metadata": {
    "scrolled": true
   },
   "outputs": [],
   "source": [
    "dNum = dLog[dLog['lib']=='numpy']\n",
    "dTor = dLog[dLog['lib']=='torch']"
   ]
  },
  {
   "cell_type": "code",
   "execution_count": 30,
   "id": "ccc9c8fd",
   "metadata": {},
   "outputs": [
    {
     "data": {
      "text/plain": [
       "threads  hilbert\n",
       "16       10         [0.32048748806118965]\n",
       "         56          [0.2620991840958595]\n",
       "         316        [0.24262834712862968]\n",
       "         1778        [0.5671932324767113]\n",
       "         10000          [42.567871209234]\n",
       "32       10          [0.2676594518125057]\n",
       "         56          [0.2741946466267109]\n",
       "         316        [0.29015256091952324]\n",
       "         1778        [0.5784363113343716]\n",
       "         10000        [34.15516912564635]\n",
       "64       10          [0.2774595655500889]\n",
       "         56         [0.27154920995235443]\n",
       "         316        [0.28771113976836205]\n",
       "         1778        [0.7344554513692856]\n",
       "         10000       [43.694167755544186]\n",
       "Name: time, dtype: object"
      ]
     },
     "execution_count": 30,
     "metadata": {},
     "output_type": "execute_result"
    }
   ],
   "source": [
    "dNum.groupby(['threads','hilbert'])['time'].apply(list)"
   ]
  },
  {
   "cell_type": "code",
   "execution_count": 31,
   "id": "b15882b9",
   "metadata": {},
   "outputs": [
    {
     "data": {
      "text/plain": [
       "threads  hilbert\n",
       "16       10          [0.3507659137248993]\n",
       "         56           [0.360497422516346]\n",
       "         316        [0.24776870384812355]\n",
       "         1778       [0.42042311280965805]\n",
       "         10000        [77.66510659456253]\n",
       "32       10         [0.40429428964853287]\n",
       "         56         [0.23862718418240547]\n",
       "         316        [0.23803506419062614]\n",
       "         1778        [0.4247867427766323]\n",
       "         10000       [53.645921275019646]\n",
       "64       10         [0.43307001143693924]\n",
       "         56          [0.2745783366262913]\n",
       "         316        [0.28994231671094894]\n",
       "         1778        [0.5305673442780972]\n",
       "         10000        [85.90453988313675]\n",
       "Name: time, dtype: object"
      ]
     },
     "execution_count": 31,
     "metadata": {},
     "output_type": "execute_result"
    }
   ],
   "source": [
    "dTor.groupby(['threads','hilbert'])['time'].apply(list)"
   ]
  },
  {
   "cell_type": "code",
   "execution_count": null,
   "id": "3d155092",
   "metadata": {},
   "outputs": [],
   "source": [
    "plotCompare(bases,{'numpy':dNum[dLog['']]})"
   ]
  },
  {
   "cell_type": "code",
   "execution_count": null,
   "id": "48dbd4ec",
   "metadata": {},
   "outputs": [],
   "source": []
  },
  {
   "cell_type": "markdown",
   "id": "12bb4840",
   "metadata": {},
   "source": [
    "# Multi-Node GPU"
   ]
  },
  {
   "cell_type": "code",
   "execution_count": null,
   "id": "a2648b3f",
   "metadata": {},
   "outputs": [],
   "source": []
  },
  {
   "cell_type": "markdown",
   "id": "3eea05e6",
   "metadata": {},
   "source": [
    "# I/O bottleneck"
   ]
  },
  {
   "cell_type": "code",
   "execution_count": null,
   "id": "d1387b3d",
   "metadata": {},
   "outputs": [],
   "source": []
  },
  {
   "cell_type": "markdown",
   "id": "51dd1415",
   "metadata": {},
   "source": [
    "# GPU advantage"
   ]
  },
  {
   "cell_type": "code",
   "execution_count": null,
   "id": "71790207",
   "metadata": {},
   "outputs": [],
   "source": []
  }
 ],
 "metadata": {
  "@webio": {
   "lastCommId": null,
   "lastKernelId": null
  },
  "kernelspec": {
   "display_name": "Python 3 (ipykernel)",
   "language": "python",
   "name": "python3"
  },
  "language_info": {
   "codemirror_mode": {
    "name": "ipython",
    "version": 3
   },
   "file_extension": ".py",
   "mimetype": "text/x-python",
   "name": "python",
   "nbconvert_exporter": "python",
   "pygments_lexer": "ipython3",
   "version": "3.11.7"
  }
 },
 "nbformat": 4,
 "nbformat_minor": 5
}
