{
 "cells": [
  {
   "cell_type": "markdown",
   "id": "7e0ca4cb",
   "metadata": {},
   "source": [
    "* Zero-Pi spectrum profile on flux manifold\n",
    "* GPU memory analysis on creating H_LC : [12,12,12]"
   ]
  },
  {
   "cell_type": "markdown",
   "id": "c6911c40",
   "metadata": {},
   "source": [
    "| (cache clear) | with Grad | w/o Grad |\n",
    "| --- | --- | --- |\n",
    "| Sparse | 3(1.6) | 2.6(1) |\n",
    "| Dense | 34(28) | 9.7(2.3) |"
   ]
  },
  {
   "cell_type": "code",
   "execution_count": 1,
   "id": "ff523fe3",
   "metadata": {},
   "outputs": [],
   "source": [
    "from DiSuQ.Torch import models\n",
    "import torch"
   ]
  },
  {
   "cell_type": "code",
   "execution_count": 2,
   "id": "b4bd0373",
   "metadata": {},
   "outputs": [],
   "source": [
    "gpu = torch.device('cuda')\n",
    "cpu = torch.device('cpu')\n",
    "torch.set_default_device(cpu)"
   ]
  },
  {
   "cell_type": "code",
   "execution_count": 3,
   "id": "0f09a825",
   "metadata": {},
   "outputs": [],
   "source": [
    "ZeroPi = models.zeroPi([12]*3,sparse=True)"
   ]
  },
  {
   "cell_type": "code",
   "execution_count": 4,
   "id": "368a39ab",
   "metadata": {},
   "outputs": [
    {
     "data": {
      "text/plain": [
       "tensor(-16.1181, requires_grad=True)"
      ]
     },
     "execution_count": 4,
     "metadata": {},
     "output_type": "execute_result"
    }
   ],
   "source": [
    "ZeroPi.circuitComposition()['Lx'].ind"
   ]
  },
  {
   "cell_type": "code",
   "execution_count": 5,
   "id": "61afe02a",
   "metadata": {},
   "outputs": [],
   "source": [
    "flux = torch.tensor(.5,device=None)"
   ]
  },
  {
   "cell_type": "code",
   "execution_count": 6,
   "id": "036ddac2",
   "metadata": {
    "scrolled": true
   },
   "outputs": [
    {
     "name": "stderr",
     "output_type": "stream",
     "text": [
      "UserWarning: Sparse CSR tensor support is in beta state. If you miss a functionality in the sparse tensor support, please submit a feature request to https://github.com/pytorch/pytorch/issues. (Triggered internally at ../aten/src/ATen/SparseCsrTensorImpl.cpp:53.)\n",
      " /Users/chishti/env/lib/python3.11/site-packages/torch/utils/_device.py: 77"
     ]
    },
    {
     "name": "stdout",
     "output_type": "stream",
     "text": [
      "3.61 s ± 21.1 ms per loop (mean ± std. dev. of 7 runs, 1 loop each)\n"
     ]
    }
   ],
   "source": [
    "H = ZeroPi.chargeHamiltonianLC()"
   ]
  },
  {
   "cell_type": "code",
   "execution_count": 6,
   "id": "fb3b672e",
   "metadata": {},
   "outputs": [],
   "source": [
    "with torch.no_grad():\n",
    "    H_LC = ZeroPi.chargeHamiltonianLC()"
   ]
  },
  {
   "cell_type": "code",
   "execution_count": 7,
   "id": "cc86c69a",
   "metadata": {},
   "outputs": [],
   "source": [
    "torch.cuda.empty_cache()"
   ]
  },
  {
   "cell_type": "code",
   "execution_count": null,
   "id": "2c03fd55",
   "metadata": {},
   "outputs": [],
   "source": []
  }
 ],
 "metadata": {
  "@webio": {
   "lastCommId": null,
   "lastKernelId": null
  },
  "kernelspec": {
   "display_name": "Python 3 (ipykernel)",
   "language": "python",
   "name": "python3"
  },
  "language_info": {
   "codemirror_mode": {
    "name": "ipython",
    "version": 3
   },
   "file_extension": ".py",
   "mimetype": "text/x-python",
   "name": "python",
   "nbconvert_exporter": "python",
   "pygments_lexer": "ipython3",
   "version": "3.11.7"
  }
 },
 "nbformat": 4,
 "nbformat_minor": 5
}
