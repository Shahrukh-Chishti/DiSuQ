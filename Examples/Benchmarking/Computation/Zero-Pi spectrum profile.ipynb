{
 "cells": [
  {
   "cell_type": "markdown",
   "id": "7e0ca4cb",
   "metadata": {},
   "source": [
    "* Zero-Pi spectrum profile on flux manifold"
   ]
  },
  {
   "cell_type": "code",
   "execution_count": 1,
   "id": "ff523fe3",
   "metadata": {},
   "outputs": [],
   "source": [
    "from DiSuQ.Torch import models\n",
    "import torch"
   ]
  },
  {
   "cell_type": "code",
   "execution_count": 2,
   "id": "b4bd0373",
   "metadata": {},
   "outputs": [],
   "source": [
    "gpu = torch.device('cuda')\n",
    "torch.set_default_device(gpu)"
   ]
  },
  {
   "cell_type": "code",
   "execution_count": 3,
   "id": "0f09a825",
   "metadata": {},
   "outputs": [],
   "source": [
    "ZeroPi = models.zeroPi([12]*3,sparse=False)"
   ]
  },
  {
   "cell_type": "code",
   "execution_count": 4,
   "id": "368a39ab",
   "metadata": {},
   "outputs": [
    {
     "data": {
      "text/plain": [
       "tensor(-16.1181, device='cuda:0', requires_grad=True)"
      ]
     },
     "execution_count": 4,
     "metadata": {},
     "output_type": "execute_result"
    }
   ],
   "source": [
    "ZeroPi.circuitComposition()['Lx'].ind"
   ]
  },
  {
   "cell_type": "code",
   "execution_count": 5,
   "id": "61afe02a",
   "metadata": {},
   "outputs": [],
   "source": [
    "flux = torch.tensor(.5,device=None)"
   ]
  },
  {
   "cell_type": "code",
   "execution_count": 6,
   "id": "036ddac2",
   "metadata": {
    "scrolled": true
   },
   "outputs": [
    {
     "data": {
      "text/plain": [
       "tensor([[2.1120e+05-1.0499e-12j, 3.7492e-07-4.0347e-11j, 3.5017e-07-5.0373e-11j,\n",
       "          ..., 0.0000e+00+0.0000e+00j, 0.0000e+00+0.0000e+00j,\n",
       "         0.0000e+00+0.0000e+00j],\n",
       "        [3.7492e-07+4.0255e-11j, 2.0337e+05-4.4190e-13j, 2.8636e-07-9.7679e-12j,\n",
       "          ..., 0.0000e+00+0.0000e+00j, 0.0000e+00+0.0000e+00j,\n",
       "         0.0000e+00+0.0000e+00j],\n",
       "        [3.5017e-07+4.9675e-11j, 2.8636e-07+9.6781e-12j, 1.9587e+05-1.0478e-12j,\n",
       "          ..., 0.0000e+00+0.0000e+00j, 0.0000e+00+0.0000e+00j,\n",
       "         0.0000e+00+0.0000e+00j],\n",
       "        ...,\n",
       "        [0.0000e+00+0.0000e+00j, 0.0000e+00+0.0000e+00j, 0.0000e+00+0.0000e+00j,\n",
       "          ..., 1.9587e+05+1.0478e-12j, 2.8636e-07-9.6781e-12j,\n",
       "         3.5017e-07-4.9675e-11j],\n",
       "        [0.0000e+00+0.0000e+00j, 0.0000e+00+0.0000e+00j, 0.0000e+00+0.0000e+00j,\n",
       "          ..., 2.8636e-07+9.7679e-12j, 2.0337e+05+4.4190e-13j,\n",
       "         3.7492e-07-4.0255e-11j],\n",
       "        [0.0000e+00+0.0000e+00j, 0.0000e+00+0.0000e+00j, 0.0000e+00+0.0000e+00j,\n",
       "          ..., 3.5017e-07+5.0373e-11j, 3.7492e-07+4.0347e-11j,\n",
       "         2.1120e+05+1.0499e-12j]], device='cuda:0', grad_fn=<DivBackward0>)"
      ]
     },
     "execution_count": 6,
     "metadata": {},
     "output_type": "execute_result"
    }
   ],
   "source": [
    "ZeroPi.chargeHamiltonianLC()"
   ]
  },
  {
   "cell_type": "code",
   "execution_count": 6,
   "id": "3bc336f0",
   "metadata": {},
   "outputs": [
    {
     "data": {
      "text/plain": [
       "tensor(indices=tensor([[   25,    26,    27,  ..., 14997, 14998, 14999],\n",
       "                       [    0,     1,     2,  ..., 15621, 15622, 15623]]),\n",
       "       values=tensor([-5.0000+0.0000e+00j, -5.0000+0.0000e+00j,\n",
       "                      -5.0000+0.0000e+00j,  ...,\n",
       "                      -5.0000+8.7423e-07j, -5.0000+8.7423e-07j,\n",
       "                      -5.0000+8.7423e-07j]),\n",
       "       device='cuda:0', size=(15625, 15625), nnz=58800, layout=torch.sparse_coo,\n",
       "       grad_fn=<DivBackward0>)"
      ]
     },
     "execution_count": 6,
     "metadata": {},
     "output_type": "execute_result"
    }
   ],
   "source": [
    "ZeroPi.josephsonCharge({'Lx':flux,'Ly':flux})"
   ]
  },
  {
   "cell_type": "code",
   "execution_count": 14,
   "id": "705f366f",
   "metadata": {},
   "outputs": [
    {
     "name": "stdout",
     "output_type": "stream",
     "text": [
      "Once deleted, variables cannot be recovered. Proceed (y/[n])? y\n",
      "Flushing output cache (5 entries)\n"
     ]
    }
   ],
   "source": [
    "%reset out"
   ]
  },
  {
   "cell_type": "code",
   "execution_count": 15,
   "id": "c8287229",
   "metadata": {},
   "outputs": [],
   "source": [
    "torch.cuda.empty_cache()"
   ]
  },
  {
   "cell_type": "code",
   "execution_count": null,
   "id": "fb3b672e",
   "metadata": {},
   "outputs": [],
   "source": [
    "with torch.no_grad():\n",
    "    H_LC = ZeroPi.hamiltonianLC()"
   ]
  },
  {
   "cell_type": "code",
   "execution_count": null,
   "id": "3efb3063",
   "metadata": {},
   "outputs": [],
   "source": [
    "H_LC = ZeroPi.hamiltonianLC()"
   ]
  },
  {
   "cell_type": "code",
   "execution_count": null,
   "id": "d2b1eb44",
   "metadata": {},
   "outputs": [],
   "source": [
    "del H_LC"
   ]
  },
  {
   "cell_type": "code",
   "execution_count": null,
   "id": "c72530aa",
   "metadata": {},
   "outputs": [],
   "source": []
  }
 ],
 "metadata": {
  "@webio": {
   "lastCommId": null,
   "lastKernelId": null
  },
  "kernelspec": {
   "display_name": "Python 3 (ipykernel)",
   "language": "python",
   "name": "python3"
  },
  "language_info": {
   "codemirror_mode": {
    "name": "ipython",
    "version": 3
   },
   "file_extension": ".py",
   "mimetype": "text/x-python",
   "name": "python",
   "nbconvert_exporter": "python",
   "pygments_lexer": "ipython3",
   "version": "3.11.7"
  }
 },
 "nbformat": 4,
 "nbformat_minor": 5
}
