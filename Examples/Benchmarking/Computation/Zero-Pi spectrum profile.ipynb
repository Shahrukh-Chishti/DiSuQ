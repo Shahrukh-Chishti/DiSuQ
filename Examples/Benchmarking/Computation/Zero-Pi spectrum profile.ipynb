{
 "cells": [
  {
   "cell_type": "markdown",
   "id": "7e0ca4cb",
   "metadata": {},
   "source": [
    "* Zero-Pi spectrum profile on flux manifold\n",
    "* GPU memory analysis on creating H_LC : [12,12,12]"
   ]
  },
  {
   "cell_type": "markdown",
   "id": "c6911c40",
   "metadata": {},
   "source": [
    "| (cache clear) | with Grad | w/o Grad |\n",
    "| --- | --- | --- |\n",
    "| Sparse | 7.9(3.6) | 7.9(3.6) |\n",
    "| Dense | 45(43) | 45(43) |"
   ]
  },
  {
   "cell_type": "code",
   "execution_count": 1,
   "id": "ff523fe3",
   "metadata": {
    "scrolled": true
   },
   "outputs": [],
   "source": [
    "from DiSuQ.Torch import models\n",
    "import torch"
   ]
  },
  {
   "cell_type": "code",
   "execution_count": 2,
   "id": "b4bd0373",
   "metadata": {},
   "outputs": [],
   "source": [
    "gpu = torch.device('cuda')\n",
    "torch.set_default_device(gpu)"
   ]
  },
  {
   "cell_type": "code",
   "execution_count": 3,
   "id": "0f09a825",
   "metadata": {},
   "outputs": [],
   "source": [
    "ZeroPi = models.zeroPi([12]*3,sparse=False)"
   ]
  },
  {
   "cell_type": "code",
   "execution_count": 11,
   "id": "368a39ab",
   "metadata": {},
   "outputs": [
    {
     "data": {
      "text/plain": [
       "tensor(-16.1181, device='cuda:0', requires_grad=True)"
      ]
     },
     "execution_count": 11,
     "metadata": {},
     "output_type": "execute_result"
    }
   ],
   "source": [
    "ZeroPi.circuitComposition()['Lx'].ind"
   ]
  },
  {
   "cell_type": "code",
   "execution_count": 5,
   "id": "61afe02a",
   "metadata": {},
   "outputs": [],
   "source": [
    "flux = torch.tensor(.5,device=None)"
   ]
  },
  {
   "cell_type": "code",
   "execution_count": 6,
   "id": "036ddac2",
   "metadata": {
    "scrolled": true
   },
   "outputs": [],
   "source": [
    "H = ZeroPi.hamiltonianLC()"
   ]
  },
  {
   "cell_type": "code",
   "execution_count": 6,
   "id": "fb3b672e",
   "metadata": {},
   "outputs": [],
   "source": [
    "with torch.no_grad():\n",
    "    H_LC = ZeroPi.hamiltonianLC()"
   ]
  },
  {
   "cell_type": "code",
   "execution_count": 7,
   "id": "666651f4",
   "metadata": {},
   "outputs": [],
   "source": [
    "torch.cuda.empty_cache()"
   ]
  },
  {
   "cell_type": "code",
   "execution_count": null,
   "id": "f6a8f02a",
   "metadata": {},
   "outputs": [],
   "source": []
  }
 ],
 "metadata": {
  "@webio": {
   "lastCommId": null,
   "lastKernelId": null
  },
  "kernelspec": {
   "display_name": "Python 3 (ipykernel)",
   "language": "python",
   "name": "python3"
  },
  "language_info": {
   "codemirror_mode": {
    "name": "ipython",
    "version": 3
   },
   "file_extension": ".py",
   "mimetype": "text/x-python",
   "name": "python",
   "nbconvert_exporter": "python",
   "pygments_lexer": "ipython3",
   "version": "3.11.7"
  }
 },
 "nbformat": 4,
 "nbformat_minor": 5
}
