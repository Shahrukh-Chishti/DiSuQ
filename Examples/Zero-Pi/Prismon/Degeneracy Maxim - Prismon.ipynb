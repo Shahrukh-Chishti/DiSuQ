{
 "cells": [
  {
   "cell_type": "code",
   "execution_count": 1,
   "id": "2deb9ae1",
   "metadata": {},
   "outputs": [],
   "source": [
    "from DiSuQ.Torch import models\n",
    "from torch import tensor,stack\n",
    "from numpy import arange,linspace,meshgrid,array,log,argsort\n",
    "from DiSuQ.utils import plotCompare,plotHeatmap,plotBox\n",
    "from DiSuQ.Torch.optimization import uniformParameters,truncNormalParameters,initializationSequential\n",
    "from DiSuQ.Torch import optimization\n",
    "from DiSuQ.Torch.optimization import lossDegeneracy,Adam\n",
    "from DiSuQ.Torch.components import indE,capE\n",
    "from torch import set_num_threads\n",
    "set_num_threads(32)"
   ]
  },
  {
   "cell_type": "code",
   "execution_count": 2,
   "id": "c97fa5d1",
   "metadata": {},
   "outputs": [
    {
     "name": "stdout",
     "output_type": "stream",
     "text": [
      "Inductance Bound(GHz): 1.6346151294983178 32.69230258996635\n",
      "Capacitance Bound(GHz): 0.38740458615415185 38.740458615415186\n",
      "Shunt Bound(GHz): 3.8740458615415188 154.96183446166074\n",
      "Junction Bound(GHz): 5.0 25.0\n"
     ]
    }
   ],
   "source": [
    "L_ = indE(1e-7); L0 = indE(5*1e-9); print('Inductance Bound(GHz):',L_,L0)\n",
    "C0 = capE(5*1e-16); C_ = capE(1e-14*5) ; print('Capacitance Bound(GHz):',C_,C0)\n",
    "CJ0 = capE(5*1e-16/4); CJ_ = capE(1e-14/2) ; print('Shunt Bound(GHz):',CJ_,CJ0)\n",
    "J0 = 25. ; J_ = 5. ; print('Junction Bound(GHz):',J_,J0)\n",
    "# components['Jx'].J0 = J0 ; components['Jy'].J0 = J0"
   ]
  },
  {
   "cell_type": "code",
   "execution_count": 3,
   "id": "3f19f731",
   "metadata": {},
   "outputs": [],
   "source": [
    "basis = {'O':[4,4,4],'J':[5,5],'I':[]} ; rep = 'K'\n",
    "flux_point = ['La','Lc']\n",
    "circuit = models.prismon(basis,Ej=10.,Ec=5.,El=10.,EcJ=50.,sparse=False,symmetry=True,\n",
    "                         _L_=(L_,L0),_C_=(C_,C0),_J_=(J_,J0),_CJ_=(CJ_,CJ0))\n",
    "static = circuit.circuitState()"
   ]
  },
  {
   "cell_type": "code",
   "execution_count": 4,
   "id": "b4c205d6",
   "metadata": {},
   "outputs": [],
   "source": [
    "lossFunction = lossDegeneracy"
   ]
  },
  {
   "cell_type": "code",
   "execution_count": 5,
   "id": "f228d70d",
   "metadata": {},
   "outputs": [],
   "source": [
    "flux_profile = [{'Lx':tensor(.5),'Ly':tensor(0.0)}]"
   ]
  },
  {
   "cell_type": "code",
   "execution_count": 6,
   "id": "6a62320a",
   "metadata": {},
   "outputs": [],
   "source": [
    "Algo = ['Nelder-Mead','LBFGS']"
   ]
  },
  {
   "cell_type": "code",
   "execution_count": 7,
   "id": "6caaf1b6",
   "metadata": {},
   "outputs": [],
   "source": [
    "def multiInitSearch(optimizer,initials,subspace):\n",
    "    NelMea,LBFGS = [],[]\n",
    "    for index,parameter in enumerate(initials):\n",
    "        print(optimizer.circuitState())\n",
    "        print(index,parameter)\n",
    "        optimizer.circuit.initialization(parameter)  \n",
    "        optimizer.parameters,optimizer.IDs = optimizer.circuitParameters()\n",
    "        LBFGS.append(optimizer.minimization(lossFunction,flux_profile,subspace=subspace,\n",
    "                                                   method='L-BFGS-B',options=dict(ftol=1e-6,maxiter=5)))\n",
    "\n",
    "        optimizer.circuit.initialization(parameter)\n",
    "        optimizer.parameters,optimizer.IDs = optimizer.circuitParameters()\n",
    "        NelMea.append(optimizer.minimization(lossFunction,flux_profile,subspace=subspace,\n",
    "                                                 method='Nelder-Mead',options=dict(fatol=1e-6,maxiter=30)))\n",
    "\n",
    "#         optimizer.circuit.initialization(parameter)\n",
    "#         optimizer.parameters,optimizer.IDs = optimizer.circuitParameters()\n",
    "#         lrBFGS.append(optimizer.optimizationLBFGS(lossFunction,flux_profile,iterations=iterations,lr=.0005))        \n",
    "\n",
    "    return NelMea,LBFGS       "
   ]
  },
  {
   "cell_type": "code",
   "execution_count": 8,
   "id": "4f1eb37c",
   "metadata": {},
   "outputs": [],
   "source": [
    "def optimizationAnalysis(init,subspace,Search,success=1.):\n",
    "    Loss,Success,Paths = [],[],[]\n",
    "    for index,(init,(dLogs,dParams,dCircuit)) in enumerate(zip(init,Search)):\n",
    "        Paths.append(dCircuit[subspace].to_numpy())\n",
    "        loss = dLogs['loss'].to_numpy()\n",
    "        Loss.append(loss[-1])\n",
    "        if loss[-1] < success:\n",
    "            Success.append(len(loss))\n",
    "    return Paths,Loss,Success"
   ]
  },
  {
   "cell_type": "code",
   "execution_count": 9,
   "id": "5e30b635",
   "metadata": {},
   "outputs": [],
   "source": [
    "def analysisPlotting(Optimization):\n",
    "    paths = dict()\n",
    "    losse = dict()\n",
    "    for algo,(Paths,Loss,Success) in zip(Algo,Optimization):\n",
    "        indices = argsort(Loss)[0]\n",
    "        paths[algo] = Paths[indices]\n",
    "        #for idx in indices:\n",
    "        #    paths[algo+'-'+str(idx)] = Paths[idx]\n",
    "        losse[algo] = Loss\n",
    "    return paths,losse"
   ]
  },
  {
   "cell_type": "code",
   "execution_count": 10,
   "id": "cd104981",
   "metadata": {},
   "outputs": [],
   "source": [
    "def lossScapeBounds(paths):\n",
    "    Paths = []\n",
    "    for algo,path in paths.items():\n",
    "        Paths.append(path)\n",
    "    Paths = vstack(Paths)\n",
    "    Paths = Paths[:, ~isnan(Paths).any(axis=0)]\n",
    "    return Paths.min(0),Paths.max(0)"
   ]
  },
  {
   "cell_type": "code",
   "execution_count": 11,
   "id": "19e5d2b6",
   "metadata": {},
   "outputs": [
    {
     "data": {
      "text/plain": [
       "10"
      ]
     },
     "execution_count": 11,
     "metadata": {},
     "output_type": "execute_result"
    }
   ],
   "source": [
    "N = 5; subspace = ['La','Ca','Ja','CJa']\n",
    "#initials = uniformParameters(circuit,subspace,N)\n",
    "initials = truncNormalParameters(circuit,subspace,N=10,var=1)\n",
    "len(initials)"
   ]
  },
  {
   "cell_type": "code",
   "execution_count": 12,
   "id": "d0fb759f",
   "metadata": {},
   "outputs": [],
   "source": [
    "optimizer = optimization.OrderingOptimization(circuit,representation=rep)"
   ]
  },
  {
   "cell_type": "code",
   "execution_count": null,
   "id": "0b9ff561",
   "metadata": {
    "collapsed": true
   },
   "outputs": [
    {
     "name": "stdout",
     "output_type": "stream",
     "text": [
      "{'La': 10.0, 'Ca': 5.0, 'Ja': 10.0, 'CJa': 50.0, 'Lb': 10.0, 'Cb': 5.0, 'Jb': 10.0, 'CJb': 50.0, 'Lc': 10.0, 'Cc': 5.0, 'Jc': 10.0, 'CJc': 50.0}\n",
      "0 {'La': 9.876784197150727, 'Ca': 4.858182091163184, 'Ja': 9.055902049707555, 'CJa': 49.73656067513402, 'Lb': 10.0, 'Cb': 5.0, 'Jb': 10.0, 'CJb': 50.0, 'Lc': 10.0, 'Cc': 5.0, 'Jc': 10.0, 'CJc': 50.0}\n",
      "RUNNING THE L-BFGS-B CODE\n",
      "\n",
      "           * * *\n",
      "\n",
      "Machine precision = 2.220D-16\n",
      " N =            4     M =           10\n",
      "\n",
      "At X0         0 variables are exactly at the bounds\n",
      "\n",
      "At iterate    0    f= -1.01119D+00    |proj g|=  1.14625D+00\n",
      "\n",
      "At iterate    1    f= -1.35116D+00    |proj g|=  1.25029D+00\n",
      "  ys=-1.590E-01  -gs= 1.584E+00 BFGS update SKIPPED\n",
      "\n",
      "At iterate    2    f= -1.67463D+00    |proj g|=  7.63982D-01\n"
     ]
    },
    {
     "name": "stderr",
     "output_type": "stream",
     "text": [
      "/Users/chishti/JupyterHub/DiSuQ/Torch/components.py:67: RuntimeWarning:\n",
      "\n",
      "divide by zero encountered in scalar divide\n",
      "\n"
     ]
    },
    {
     "name": "stdout",
     "output_type": "stream",
     "text": [
      "\n",
      "At iterate    3    f= -5.38859D+00    |proj g|=  2.28443D+01\n",
      "\n",
      "At iterate    4    f= -5.71653D+00    |proj g|=  4.08321D+00\n",
      "\n",
      "At iterate    5    f= -5.75079D+00    |proj g|=  7.47657D-01\n",
      "\n",
      "           * * *\n",
      "\n",
      "Tit   = total number of iterations\n",
      "Tnf   = total number of function evaluations\n",
      "Tnint = total number of segments explored during Cauchy searches\n",
      "Skip  = number of BFGS updates skipped\n",
      "Nact  = number of active bounds at final generalized Cauchy point\n",
      "Projg = norm of the final projected gradient\n",
      "F     = final function value\n",
      "\n",
      "           * * *\n",
      "\n",
      "   N    Tit     Tnf  Tnint  Skip  Nact     Projg        F\n",
      "    4      5     16      5     1     0   7.477D-01  -5.751D+00\n",
      "  F =  -5.7507939338684082     \n",
      "\n",
      "STOP: TOTAL NO. of ITERATIONS REACHED LIMIT                 \n"
     ]
    },
    {
     "name": "stderr",
     "output_type": "stream",
     "text": [
      "/usr/local/lib/python3.11/site-packages/scipy/optimize/_minimize.py:549: RuntimeWarning:\n",
      "\n",
      "Method Nelder-Mead does not use gradient information (jac).\n",
      "\n"
     ]
    }
   ],
   "source": [
    "Optimization = multiInitSearch(optimizer,initials,subspace)\n",
    "NelMea,LBFGS = Optimization"
   ]
  },
  {
   "cell_type": "code",
   "execution_count": null,
   "id": "1df3ccc4",
   "metadata": {},
   "outputs": [],
   "source": [
    "iterations = 30"
   ]
  },
  {
   "cell_type": "code",
   "execution_count": null,
   "id": "162025cf",
   "metadata": {},
   "outputs": [],
   "source": [
    "plotCompare(arange(iterations),{'Nelder-Mead':NelMea[0][0]['D'],'LBFGS':LBFGS[0][0]['D']},'Degeneracy','iterations',export='pdf',size=(600,800))"
   ]
  },
  {
   "cell_type": "code",
   "execution_count": null,
   "id": "b92aecbc",
   "metadata": {},
   "outputs": [],
   "source": [
    "plotCompare(arange(iterations),{'Nelder-Mead':NelMea[0][0]['E10'],'LBFGS':LBFGS[0][0]['E10']},'Ist Excitation','iterations',export='pdf',size=(600,800))"
   ]
  },
  {
   "cell_type": "code",
   "execution_count": null,
   "id": "ba2c57b2",
   "metadata": {},
   "outputs": [],
   "source": [
    "Result = [optimizationAnalysis(initials,subspace,algo) for algo in Optimization]\n",
    "paths,losse = analysisPlotting(Result)"
   ]
  },
  {
   "cell_type": "code",
   "execution_count": null,
   "id": "da259b8d",
   "metadata": {
    "scrolled": false
   },
   "outputs": [],
   "source": [
    "plotBox(losse,'Loss Distribution',export='pdf',size=(600,800))"
   ]
  },
  {
   "cell_type": "code",
   "execution_count": 35,
   "id": "fb1d539f",
   "metadata": {},
   "outputs": [
    {
     "data": {
      "text/plain": [
       "[-5.750793933868408,\n",
       " -5.827541828155518,\n",
       " -10.916869163513184,\n",
       " -5.783031463623047,\n",
       " -5.763093948364258,\n",
       " -5.740583419799805,\n",
       " -5.70994234085083,\n",
       " -5.771575450897217,\n",
       " -5.731040000915527,\n",
       " -8.765881538391113]"
      ]
     },
     "execution_count": 35,
     "metadata": {},
     "output_type": "execute_result"
    }
   ],
   "source": [
    "losse['LBFGS']"
   ]
  },
  {
   "cell_type": "markdown",
   "id": "13e1612d",
   "metadata": {},
   "source": [
    "### spectrum - optimal circuits"
   ]
  },
  {
   "cell_type": "code",
   "execution_count": null,
   "id": "b1cd0520",
   "metadata": {},
   "outputs": [],
   "source": [
    "Nx,Ny  = 51,1\n",
    "PhiX = linspace(0,1,Nx,endpoint=True)\n",
    "PhiY = linspace(0,1,Ny,endpoint=True)\n",
    "flux_range = meshgrid(PhiX,PhiY)\n",
    "flux_range = array((flux_range[0].flatten(),flux_range[1].flatten())).T\n",
    "flux_manifold = [flux for flux in tensor(flux_range)]"
   ]
  },
  {
   "cell_type": "code",
   "execution_count": null,
   "id": "9195e0fd",
   "metadata": {},
   "outputs": [],
   "source": [
    "Degeneracy,plots = dict(),dict()\n",
    "for algo,path in paths.items():\n",
    "    parameters = dict(zip(subspace,path[-1]))\n",
    "    static.update(parameters)\n",
    "    circuit.initialization(static)\n",
    "    H_LC = circuit.kermanHamiltonianLC()\n",
    "    H_J = circuit.kermanHamiltonianJosephson\n",
    "    E0,(Ex1,Ex2) = circuit.spectrumManifold(flux_point,flux_manifold,H_LC,H_J,excitation=[1,2],grad=True)\n",
    "    #Ex2 = Ex2.detach().numpy()\n",
    "    #Ex1 = Ex1.detach().numpy()\n",
    "    degeneracy = log(Ex2/Ex1)\n",
    "    Degeneracy[algo]=degeneracy.detach().numpy()\n",
    "    plots[algo+'-E10']=Ex1.detach().numpy()\n",
    "    plots[algo+'-E20']=Ex2.detach().numpy()\n",
    "    \n",
    "#     optimizer.circuit.initialization(static)\n",
    "#     Spectrum = [optimizer.spectrumOrdered(flux) for flux in flux_profile]\n",
    "#     spectrum = stack([spectrum[:3] for spectrum,state in Spectrum]).detach().numpy()\n",
    "#     Ex1 = spectrum[:,1]-spectrum[:,0]\n",
    "#     Ex2 = spectrum[:,2]-spectrum[:,0]\n",
    "#     plots[algo+'-e10']=Ex1\n",
    "#     plots[algo+'-e20']=Ex2"
   ]
  },
  {
   "cell_type": "code",
   "execution_count": null,
   "id": "35dcd3ae",
   "metadata": {},
   "outputs": [],
   "source": [
    "plotCompare(flux_range[:,0],Degeneracy,'Degeneracy-Optimal Circuits','flux profile',export='pdf',size=(600,800))"
   ]
  },
  {
   "cell_type": "code",
   "execution_count": null,
   "id": "46bb519d",
   "metadata": {},
   "outputs": [],
   "source": [
    "plotCompare(flux_range[:,0],plots,'Spectrum-Optimal Circuits','flux profile','energy(GHz)',export='pdf',size=(600,800))"
   ]
  },
  {
   "cell_type": "code",
   "execution_count": null,
   "id": "5c22015f",
   "metadata": {},
   "outputs": [],
   "source": [
    "paths"
   ]
  },
  {
   "cell_type": "code",
   "execution_count": 32,
   "id": "72538698",
   "metadata": {
    "collapsed": true
   },
   "outputs": [
    {
     "data": {
      "text/plain": [
       "array([[ 9.65739727,  4.64417458, 11.06699562, 49.87176514],\n",
       "       [10.20062542,  4.67181873, 10.16780186, 48.00157547],\n",
       "       [10.20062542,  4.67181873, 10.16780186, 48.00157547],\n",
       "       [10.17799187,  5.07611084, 10.36666203, 44.96251297],\n",
       "       [10.17799187,  5.07611084, 10.36666203, 44.96251297],\n",
       "       [10.57126617,  5.32188225,  8.70985508, 41.66045761],\n",
       "       [10.57126617,  5.32188225,  8.70985508, 41.66045761],\n",
       "       [10.73218346,  6.21755552,  7.93589497, 37.55115128],\n",
       "       [10.73218346,  6.21755552,  7.93589497, 37.55115128],\n",
       "       [12.21700001,  6.96643162,  5.        , 29.14579201],\n",
       "       [12.21700001,  6.96643162,  5.        , 29.14579201],\n",
       "       [12.30460167,  7.69669151,  5.        , 23.98355103],\n",
       "       [12.30460167,  7.69669151,  5.        , 23.98355103],\n",
       "       [12.30460167,  7.69669151,  5.        , 23.98355103],\n",
       "       [12.30460167,  7.69669151,  5.        , 23.98355103],\n",
       "       [12.30460167,  7.69669151,  5.        , 23.98355103],\n",
       "       [12.30460167,  7.69669151,  5.        , 23.98355103],\n",
       "       [12.30460167,  7.69669151,  5.        , 23.98355103],\n",
       "       [12.30460167,  7.69669151,  5.        , 23.98355103],\n",
       "       [12.30460167,  7.69669151,  5.        , 23.98355103],\n",
       "       [12.30460167,  7.69669151,  5.        , 23.98355103],\n",
       "       [12.30460167,  7.69669151,  5.        , 23.98355103],\n",
       "       [12.39762592,  7.74412298,  5.        , 24.21520042],\n",
       "       [12.36377811,  7.72903442,  5.        , 24.18367958],\n",
       "       [12.38089085,  7.66035891,  5.        , 24.57302475],\n",
       "       [12.30225277,  7.70932817,  5.        , 24.58324623],\n",
       "       [12.30225277,  7.70932817,  5.        , 24.58324623],\n",
       "       [12.38188744,  7.72499323,  5.        , 24.37434578],\n",
       "       [12.3672266 ,  7.71694326,  5.        , 24.38242149]])"
      ]
     },
     "execution_count": 32,
     "metadata": {},
     "output_type": "execute_result"
    }
   ],
   "source": [
    "paths['Nelder-Mead']"
   ]
  },
  {
   "cell_type": "code",
   "execution_count": 33,
   "id": "b3502e7b",
   "metadata": {
    "collapsed": true
   },
   "outputs": [
    {
     "data": {
      "text/plain": [
       "array([[ 9.63800335,  5.5430851 , 10.79927444, 49.42588425],\n",
       "       [ 8.66411304, 31.02913094,  5.34441519, 38.58588791],\n",
       "       [ 1.63461518, 26.36903   ,  5.68188429, 59.55873871],\n",
       "       [ 1.63461518, 19.01948547,  7.59125757, 87.64173126]])"
      ]
     },
     "execution_count": 33,
     "metadata": {},
     "output_type": "execute_result"
    }
   ],
   "source": [
    "paths['LBFGS']"
   ]
  },
  {
   "cell_type": "code",
   "execution_count": 34,
   "id": "2893580e",
   "metadata": {
    "collapsed": true
   },
   "outputs": [
    {
     "data": {
      "text/plain": [
       "{'La': 1.634615182876587,\n",
       " 'Ca': 19.019487380981445,\n",
       " 'Ja': 7.591257572174072,\n",
       " 'CJa': 87.64173126220703,\n",
       " 'Lb': 1.634615182876587,\n",
       " 'Cb': 19.019487380981445,\n",
       " 'Jb': 7.591257572174072,\n",
       " 'CJb': 87.64173126220703,\n",
       " 'Lc': 1.634615182876587,\n",
       " 'Cc': 19.019487380981445,\n",
       " 'Jc': 7.591257572174072,\n",
       " 'CJc': 87.64173126220703}"
      ]
     },
     "execution_count": 34,
     "metadata": {},
     "output_type": "execute_result"
    }
   ],
   "source": [
    "circuit.circuitState()"
   ]
  },
  {
   "cell_type": "markdown",
   "id": "c4f70716",
   "metadata": {},
   "source": [
    "### Charge-Flux susceptibility"
   ]
  },
  {
   "cell_type": "code",
   "execution_count": null,
   "id": "9df300ae",
   "metadata": {},
   "outputs": [],
   "source": []
  },
  {
   "cell_type": "code",
   "execution_count": null,
   "id": "60a39b1a",
   "metadata": {},
   "outputs": [],
   "source": [
    "# for algo,path in paths.items():\n",
    "#     parameters = dict(zip(subspace,path[-1]))\n",
    "#     static.update(parameters)\n",
    "#     circuit.initialization(static)\n",
    "#     H_LC = circuit.kermanHamiltonianLC()\n",
    "#     H_J = circuit.kermanHamiltonianJosephson\n",
    "#     E0,(Ex1,Ex2) = circuit.spectrumManifold(flux_point,flux_manifold,H_LC,H_J,excitation=[1,2],grad=True)\n",
    "#     Ex2 = Ex2.detach().numpy()\n",
    "#     Ex1 = Ex1.detach().numpy()\n",
    "#     degeneracy = log(Ex2/Ex1)\n",
    "#     Degeneracy[algo]=degeneracy\n",
    "#     plots[algo+'-charge']=Ex1\n",
    "#     plots[algo+'-flux']=Ex2"
   ]
  },
  {
   "cell_type": "markdown",
   "id": "f8ddec8a",
   "metadata": {},
   "source": [
    "### Wavefunction"
   ]
  },
  {
   "cell_type": "code",
   "execution_count": null,
   "id": "4bc97eff",
   "metadata": {},
   "outputs": [],
   "source": []
  }
 ],
 "metadata": {
  "@webio": {
   "lastCommId": null,
   "lastKernelId": null
  },
  "kernelspec": {
   "display_name": "Python 3 (ipykernel)",
   "language": "python",
   "name": "python3"
  },
  "language_info": {
   "codemirror_mode": {
    "name": "ipython",
    "version": 3
   },
   "file_extension": ".py",
   "mimetype": "text/x-python",
   "name": "python",
   "nbconvert_exporter": "python",
   "pygments_lexer": "ipython3",
   "version": "3.11.1"
  }
 },
 "nbformat": 4,
 "nbformat_minor": 5
}
