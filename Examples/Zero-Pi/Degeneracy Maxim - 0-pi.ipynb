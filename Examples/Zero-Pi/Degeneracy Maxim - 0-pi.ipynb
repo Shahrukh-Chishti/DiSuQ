{
 "cells": [
  {
   "cell_type": "code",
   "execution_count": 1,
   "id": "94c337df",
   "metadata": {},
   "outputs": [],
   "source": [
    "from DiSuQ.Torch import models\n",
    "from torch import tensor\n",
    "from numpy import arange,linspace,meshgrid,array,log\n",
    "from DiSuQ.utils import plotCompare,plotHeatmap\n",
    "from DiSuQ.Torch.optimization import uniformParameters,truncNormalParameters,initializationSequential\n",
    "from DiSuQ.Torch import optimization\n",
    "from DiSuQ.Torch.optimization import lossDegeneracy,Adam\n",
    "from DiSuQ.Torch.components import indE,capE\n",
    "from torch import set_num_threads\n",
    "set_num_threads(32)"
   ]
  },
  {
   "cell_type": "code",
   "execution_count": 2,
   "id": "205eb798",
   "metadata": {},
   "outputs": [],
   "source": [
    "pairs = {'Lx':'Ly','Cx':'Cy','Jx':'Jy','CJx':'CJy'}"
   ]
  },
  {
   "cell_type": "code",
   "execution_count": 3,
   "id": "cb14388f",
   "metadata": {},
   "outputs": [],
   "source": [
    "basis = [10,10,10] ; rep = 'Q'\n",
    "flux_point = ['Lx','Ly']\n",
    "circuit = models.zeroPi(basis,sparse=False,symmetry=True)"
   ]
  },
  {
   "cell_type": "code",
   "execution_count": 4,
   "id": "ea134e55",
   "metadata": {},
   "outputs": [
    {
     "name": "stdout",
     "output_type": "stream",
     "text": [
      "Inductance Bound(GHz): 1.6346151294983178\n",
      "Capacitance Bound(GHz): 19.370229307707593\n"
     ]
    }
   ],
   "source": [
    "components = circuit.circuitComposition()\n",
    "L0 = indE(1e-7); print('Inductance Bound(GHz):',L0)\n",
    "components['Lx'].L0 = L0 ; components['Ly'].L0 = L0\n",
    "C0 = capE(1e-15); print('Capacitance Bound(GHz):',C0)"
   ]
  },
  {
   "cell_type": "code",
   "execution_count": 5,
   "id": "242fb5ef",
   "metadata": {},
   "outputs": [],
   "source": [
    "lossFunction = lossDegeneracy\n",
    "iterations = 5"
   ]
  },
  {
   "cell_type": "code",
   "execution_count": 6,
   "id": "39568c8c",
   "metadata": {},
   "outputs": [],
   "source": [
    "flux_profile = [{'Lx':tensor(.5),'Ly':tensor(0.0)}]"
   ]
  },
  {
   "cell_type": "code",
   "execution_count": 7,
   "id": "7ec8a50a",
   "metadata": {},
   "outputs": [],
   "source": [
    "Algo = [\"lrBFGS\",'Nelder-Mead','LBFGS']"
   ]
  },
  {
   "cell_type": "code",
   "execution_count": 8,
   "id": "349ac2ad",
   "metadata": {},
   "outputs": [],
   "source": [
    "def multiInitSearch(optimizer,initials,subspace):\n",
    "    lrBFGS,NelMea,LBFGS = [],[],[]\n",
    "    for index,parameter in enumerate(initials):\n",
    "        print(optimizer.circuitState())\n",
    "        print(index,parameter)\n",
    "        optimizer.circuit.initialization(parameter)  \n",
    "        optimizer.parameters,optimizer.IDs = optimizer.circuitParameters()\n",
    "        LBFGS.append(optimizer.minimization(lossFunction,flux_profile,\n",
    "                                                   method='L-BFGS-B',tol=1e-6,maxiter=iterations))\n",
    "\n",
    "        optimizer.circuit.initialization(parameter)\n",
    "        optimizer.parameters,optimizer.IDs = optimizer.circuitParameters()\n",
    "        NelMea.append(optimizer.minimization(lossFunction,flux_profile,subspace=subspace,\n",
    "                                                 method='Nelder-Mead',tol=1e-6,maxiter=iterations))\n",
    "\n",
    "        optimizer.circuit.initialization(parameter)\n",
    "        optimizer.parameters,optimizer.IDs = optimizer.circuitParameters()\n",
    "        lrBFGS.append(optimizer.optimizationLBFGS(lossFunction,flux_profile,iterations=iterations,lr=.1))        \n",
    "\n",
    "        return lrBFGS,NelMea,LBFGS       "
   ]
  },
  {
   "cell_type": "code",
   "execution_count": 9,
   "id": "a4ccbe3e",
   "metadata": {},
   "outputs": [],
   "source": [
    "def optimizationAnalysis(init,subspace,Search,success=1.):\n",
    "    Loss,Success,Paths = [],[],[]\n",
    "    for index,(init,(dLogs,dParams,dCircuit)) in enumerate(zip(init,Search)):\n",
    "        Paths.append(dCircuit[subspace].to_numpy())\n",
    "        loss = dLogs['loss'].to_numpy()\n",
    "        Loss.append(loss[-1])\n",
    "        if loss[-1] < success:\n",
    "            Success.append(len(loss))\n",
    "    return Paths,Loss,Success"
   ]
  },
  {
   "cell_type": "code",
   "execution_count": 10,
   "id": "75e26861",
   "metadata": {},
   "outputs": [],
   "source": [
    "def analysisPlotting(Optimization):\n",
    "    paths = dict()\n",
    "    losse = dict()\n",
    "    for algo,(Paths,Loss,Success) in zip(Algo,Optimization):\n",
    "        indices = argsort(Loss)[0]\n",
    "        paths[algo] = Paths[indices]\n",
    "        #for idx in indices:\n",
    "        #    paths[algo+'-'+str(idx)] = Paths[idx]\n",
    "        losse[algo] = Loss\n",
    "    return paths,losse"
   ]
  },
  {
   "cell_type": "code",
   "execution_count": 11,
   "id": "f20cdfe8",
   "metadata": {},
   "outputs": [],
   "source": [
    "def lossScapeBounds(paths):\n",
    "    Paths = []\n",
    "    for algo,path in paths.items():\n",
    "        Paths.append(path)\n",
    "    Paths = vstack(Paths)\n",
    "    Paths = Paths[:, ~isnan(Paths).any(axis=0)]\n",
    "    return Paths.min(0),Paths.max(0)"
   ]
  },
  {
   "cell_type": "code",
   "execution_count": 12,
   "id": "493f52aa",
   "metadata": {},
   "outputs": [
    {
     "data": {
      "text/plain": [
       "81"
      ]
     },
     "execution_count": 12,
     "metadata": {},
     "output_type": "execute_result"
    }
   ],
   "source": [
    "N = 3; subspace = ('Lx','Cx','Jx','CJx')\n",
    "initials = uniformParameters(circuit,subspace,N)\n",
    "#initials = truncNormalParameters(circuit,subspace,N,var=5)\n",
    "len(initials)"
   ]
  },
  {
   "cell_type": "code",
   "execution_count": 13,
   "id": "f654a01d",
   "metadata": {},
   "outputs": [],
   "source": [
    "optimizer = optimization.OrderingOptimization(circuit,representation=rep)"
   ]
  },
  {
   "cell_type": "code",
   "execution_count": null,
   "id": "4e9bad84",
   "metadata": {
    "scrolled": false
   },
   "outputs": [
    {
     "name": "stdout",
     "output_type": "stream",
     "text": [
      "{'Lx': 1.3621787729789503e-05, 'Ly': 1.3621787729789503e-05, 'Cx': 0.9999998807907104, 'Cy': 0.9999998807907104, 'Jx': 10.000001907348633, 'Jy': 10.000001907348633, 'CJx': 100.0, 'CJy': 100.0}\n",
      "0 {'Lx': 1.2259613471237383, 'Ly': 1.3621787729789503e-05, 'Cx': 625.0, 'Cy': 0.9999998807907104, 'Jx': 300.0, 'Jy': 10.000001907348633, 'CJx': 625.0, 'CJy': 100.0}\n",
      "RUNNING THE L-BFGS-B CODE\n",
      "\n",
      "           * * *\n",
      "\n",
      "Machine precision = 2.220D-16\n",
      " N =            8     M =           10\n",
      "\n",
      "At X0         0 variables are exactly at the bounds\n",
      "\n",
      "At iterate    0    f=  9.71872D-03    |proj g|=  2.36848D-02\n"
     ]
    }
   ],
   "source": [
    "Optimization = multiInitSearch(optimizer,[initials[18]],subspace)\n",
    "lrBFGS,NelMea,LBFGS = Optimization"
   ]
  },
  {
   "cell_type": "code",
   "execution_count": null,
   "id": "87cf7857",
   "metadata": {},
   "outputs": [],
   "source": [
    "Result = [optimizationAnalysis(initials,subspace,algo) for algo in Optimization]\n",
    "paths,losse = analysisPlotting(Result)"
   ]
  },
  {
   "cell_type": "code",
   "execution_count": null,
   "id": "09dab2e3",
   "metadata": {},
   "outputs": [],
   "source": [
    "plotBox(losse,'Loss Distribution',export='pdf',size=(600,800))"
   ]
  }
 ],
 "metadata": {
  "@webio": {
   "lastCommId": null,
   "lastKernelId": null
  },
  "kernelspec": {
   "display_name": "Python 3 (ipykernel)",
   "language": "python",
   "name": "python3"
  },
  "language_info": {
   "codemirror_mode": {
    "name": "ipython",
    "version": 3
   },
   "file_extension": ".py",
   "mimetype": "text/x-python",
   "name": "python",
   "nbconvert_exporter": "python",
   "pygments_lexer": "ipython3",
   "version": "3.11.1"
  }
 },
 "nbformat": 4,
 "nbformat_minor": 5
}
