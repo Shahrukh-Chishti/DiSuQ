{
 "cells": [
  {
   "cell_type": "code",
   "execution_count": 1,
   "id": "45e82a86",
   "metadata": {},
   "outputs": [],
   "source": [
    "from DiSuQ.Torch import models\n",
    "from scipy.optimize import minimize\n",
    "from numpy import arange,linspace,meshgrid,array,log,argsort,pi,logspace,std,sqrt,log10,tile\n",
    "from DiSuQ.utils import plotCompare,plotHeatmap,plotBox,plotOptimization\n",
    "from DiSuQ.Torch.optimization import domainParameters\n",
    "from DiSuQ.Torch.components import indE,capE"
   ]
  },
  {
   "cell_type": "code",
   "execution_count": null,
   "id": "25ed251b",
   "metadata": {},
   "outputs": [],
   "source": [
    "L0 = indE(.3e-9); L_ = indE(.3e-6); print('Inductance Bound(GHz):',L_,L0+L_)\n",
    "C0 = capE(.5e-12); C_ = capE(1e-9) ; print('Capacitance Bound(GHz):',C_,C0+C_)\n",
    "CJ0 = capE(.5e-12); CJ_ = capE(1e-9) ; print('Shunt Bound(GHz):',CJ_,CJ0+CJ_)\n",
    "J0 = 1000. ; J_ = .1 ; print('Junction Bound(GHz):',J_,J0+J_)\n",
    "# components['Jx'].J0 = J0 ; components['Jy'].J0 = J0"
   ]
  },
  {
   "cell_type": "code",
   "execution_count": null,
   "id": "1577ce5a",
   "metadata": {},
   "outputs": [],
   "source": [
    "Lx = array([.8,24,128,512])\n",
    "Cx = array([5e-4,.01])\n",
    "Jx = array([200.])\n",
    "CJx = array([5e-4,.01])"
   ]
  },
  {
   "cell_type": "code",
   "execution_count": 2,
   "id": "5c8eb2ad",
   "metadata": {},
   "outputs": [],
   "source": [
    "def representationCapacity(El,Ej,Ec,EcJ):\n",
    "    basis = {'Chi':7,'Theta':64,'Phi':1024}\n",
    "    # theta capacity is sufficient for the given parameter range\n",
    "    basis = {'Chi':7,'Theta':12,'Phi':1024}\n",
    "    flux0 = 24*pi*2\n",
    "    return flux0,basis"
   ]
  },
  {
   "cell_type": "code",
   "execution_count": null,
   "id": "2ee1dac7",
   "metadata": {},
   "outputs": [],
   "source": [
    "basis = {'Chi':7,'Theta':12,'Phi':30}\n",
    "rep = 'R'; flux_point = ['Lx','Ly']\n",
    "subspace = ['Lx','Cx','Jx','CJx']\n",
    "circuit = models.zeroPi(basis,Ej=10.,Ec=5.,El=10.,EcJ=50.,sparse=False,\n",
    "                        symmetry=True,_L_=(L_,L0),_C_=(C_,C0),_J_=(J_,J0),_CJ_=(CJ_,CJ0),\n",
    "                        ridge=True,flux0=24*pi)\n",
    "initials = domainParameters([Lx,Cx,Jx,CJx],circuit,subspace)\n",
    "len(initials)"
   ]
  },
  {
   "cell_type": "code",
   "execution_count": null,
   "id": "a6d7b525",
   "metadata": {},
   "outputs": [],
   "source": [
    "Bounds = []\n",
    "for iD in keys:\n",
    "    bound = components[iD].bounds()\n",
    "    Bounds.append(bound)"
   ]
  },
  {
   "cell_type": "code",
   "execution_count": null,
   "id": "56da066f",
   "metadata": {},
   "outputs": [],
   "source": [
    "flux_range = linspace(0,.05,3,endpoint=True)\n",
    "D0 = 1 ; Delta0 = 1"
   ]
  },
  {
   "cell_type": "code",
   "execution_count": null,
   "id": "03f2527c",
   "metadata": {},
   "outputs": [],
   "source": [
    "def metric(parameters):\n",
    "    El,Ec,Ej,EcJ = parameters\n",
    "    basis,flux0 = representationCapacity(El,Ej,Ec,EcJ)\n",
    "    zero_pi = models.SCzeroPi(basis,flux0,Ej=Ej,Ec=Ec,El=El,EcJ=EcJ)\n",
    "    spectrum = zero_pi.get_spectrum_vs_paramvals('flux',flux_range,evals_count=3)\n",
    "    G,I,II = spectrum.energy_table.T\n",
    "    D = log10((II[0]-G[0])/(I[0]-G[0]))\n",
    "    Delta = log10((I[0]-G[0])/std(I-G))\n",
    "    return D,Delta\n",
    "\n",
    "def objective(parameters):\n",
    "    D,Delta = metric(parameters)\n",
    "    return -D*D0 - Delta*Delta0\n",
    "\n",
    "def logger(parameters):\n",
    "    "
   ]
  },
  {
   "cell_type": "code",
   "execution_count": null,
   "id": "0292ec17",
   "metadata": {},
   "outputs": [],
   "source": [
    "method='L-BFGS-B'; options=dict(ftol=0,maxiter=15)\n",
    "for index,init in enumerate(initials):\n",
    "    print(index,init)\n",
    "    x0 = init['Lx'],init['Cx'],init['Jx'],init['CJx']\n",
    "    results = minimize(objective,x0,method=method,options=options,jac=gradient,bounds=Bounds,callback=logger)\n",
    "\n"
   ]
  }
 ],
 "metadata": {
  "kernelspec": {
   "display_name": "Python 3 (ipykernel)",
   "language": "python",
   "name": "python3"
  },
  "language_info": {
   "codemirror_mode": {
    "name": "ipython",
    "version": 3
   },
   "file_extension": ".py",
   "mimetype": "text/x-python",
   "name": "python",
   "nbconvert_exporter": "python",
   "pygments_lexer": "ipython3",
   "version": "3.11.5"
  }
 },
 "nbformat": 4,
 "nbformat_minor": 5
}
