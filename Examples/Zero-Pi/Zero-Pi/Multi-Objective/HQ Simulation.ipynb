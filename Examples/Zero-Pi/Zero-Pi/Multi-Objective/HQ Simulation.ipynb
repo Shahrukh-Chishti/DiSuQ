{
 "cells": [
  {
   "cell_type": "markdown",
   "id": "ea819242",
   "metadata": {},
   "source": [
    "* rerun simulation high quality simulation for optimization trajectories\n",
    "* establish theoretical justification for Degeneracy and Insensitivity"
   ]
  },
  {
   "cell_type": "code",
   "execution_count": 1,
   "id": "cb66ac30",
   "metadata": {},
   "outputs": [],
   "source": [
    "import pickle,scqubits\n",
    "from pandas import concat\n",
    "from numpy import pi,log10,isinf,isnan\n",
    "from scipy.stats import pearsonr\n",
    "from DiSuQ.utils import plotCompare,plotScatter"
   ]
  },
  {
   "cell_type": "markdown",
   "id": "970355f4",
   "metadata": {},
   "source": [
    "### data loading"
   ]
  },
  {
   "cell_type": "code",
   "execution_count": 2,
   "id": "2b804966",
   "metadata": {},
   "outputs": [],
   "source": [
    "def aggregate(Sim):\n",
    "    Agg = []\n",
    "    for index,sample in enumerate(Sim):\n",
    "        metric = sample[0]\n",
    "        path = sample[2].iloc[1:].reset_index()\n",
    "        sample = concat([metric,path],axis=1,join='inner').drop(['index'],axis=1)\n",
    "        sample['sample'] = index\n",
    "        Agg.append(sample)\n",
    "    Agg = concat(Agg).reset_index()\n",
    "    Agg['delta'] *= -1\n",
    "    #Agg['loc'] = Agg['sample'].apply(lambda circ:location[circ])\n",
    "    Agg['EcS'] = 1/(1/Agg['Cx'] + 1/Agg['CJx'])\n",
    "    return Agg"
   ]
  },
  {
   "cell_type": "code",
   "execution_count": 3,
   "id": "1579b9a9",
   "metadata": {},
   "outputs": [],
   "source": [
    "with open(r\"./indPiDegeneracy.pickle\", \"rb\") as input_file:\n",
    "    PiDeg = aggregate(pickle.load(input_file))"
   ]
  },
  {
   "cell_type": "code",
   "execution_count": 4,
   "id": "3b355e7d",
   "metadata": {},
   "outputs": [],
   "source": [
    "with open(r\"./indPiInsensitivity.pickle\", \"rb\") as input_file:\n",
    "    PiIns = aggregate(pickle.load(input_file))"
   ]
  },
  {
   "cell_type": "code",
   "execution_count": 5,
   "id": "a626e2dc",
   "metadata": {},
   "outputs": [],
   "source": [
    "with open(r\"./simPi.pickle\", \"rb\") as input_file:\n",
    "    PiSim = aggregate(pickle.load(input_file))"
   ]
  },
  {
   "cell_type": "code",
   "execution_count": 6,
   "id": "bd50dc18",
   "metadata": {},
   "outputs": [],
   "source": [
    "with open(r\"./indZeroDegeneracy.pickle\", \"rb\") as input_file:\n",
    "    ZeroDeg = aggregate(pickle.load(input_file))"
   ]
  },
  {
   "cell_type": "code",
   "execution_count": 7,
   "id": "2d0a1b5b",
   "metadata": {},
   "outputs": [],
   "source": [
    "with open(r\"./indZeroInsensitivity.pickle\", \"rb\") as input_file:\n",
    "    ZeroIns = aggregate(pickle.load(input_file))"
   ]
  },
  {
   "cell_type": "code",
   "execution_count": 8,
   "id": "bfe9acd7",
   "metadata": {},
   "outputs": [],
   "source": [
    "with open(r\"./indZeroInsensitivity.pickle\", \"rb\") as input_file:\n",
    "    ZeroIns = aggregate(pickle.load(input_file))"
   ]
  },
  {
   "cell_type": "code",
   "execution_count": 9,
   "id": "3765849c",
   "metadata": {},
   "outputs": [],
   "source": [
    "with open(r\"./simZero.pickle\", \"rb\") as input_file:\n",
    "    ZeroSim = aggregate(pickle.load(input_file))"
   ]
  },
  {
   "cell_type": "code",
   "execution_count": 10,
   "id": "6ed494c0",
   "metadata": {},
   "outputs": [],
   "source": [
    "with open(r\"./simZeroThird.pickle\", \"rb\") as input_file:\n",
    "    ZeroThird = aggregate(pickle.load(input_file))"
   ]
  },
  {
   "cell_type": "code",
   "execution_count": 11,
   "id": "002deb6e",
   "metadata": {},
   "outputs": [],
   "source": [
    "with open(r\"./simZeroSub.pickle\", \"rb\") as input_file:\n",
    "    ZeroSub = aggregate(pickle.load(input_file))"
   ]
  },
  {
   "cell_type": "code",
   "execution_count": 12,
   "id": "ccf26bee",
   "metadata": {},
   "outputs": [],
   "source": [
    "with open(r\"./simZeroSubIns.pickle\", \"rb\") as input_file:\n",
    "    ZeroSubIns = aggregate(pickle.load(input_file))"
   ]
  },
  {
   "cell_type": "markdown",
   "id": "07bdcd1b",
   "metadata": {},
   "source": [
    "### sc Qubit simulation"
   ]
  },
  {
   "cell_type": "code",
   "execution_count": 13,
   "id": "16e119d0",
   "metadata": {},
   "outputs": [],
   "source": [
    "def representationCapacity(El,Ej,Ec,EcJ):\n",
    "    basis = {'Chi':7,'Theta':64,'Phi':1024}\n",
    "    # theta capacity is sufficient for the given parameter range\n",
    "    basis = {'Chi':7,'Theta':12,'Phi':1024}\n",
    "    flux0 = 24*pi*2\n",
    "    return flux0,basis"
   ]
  },
  {
   "cell_type": "code",
   "execution_count": 14,
   "id": "3a5bf6aa",
   "metadata": {},
   "outputs": [],
   "source": [
    "def HQSC(Agg,op=0):\n",
    "    L = len(Agg)\n",
    "    Degeneracy,Delta,E10,E20 = [],[],[],[]\n",
    "    for index,circ in Agg.iterrows():\n",
    "        El = circ['Lx']; Ej = circ['Jx']; EcJ = circ['CJx']; Ec = circ['Cx']\n",
    "        EcS = 1/(1/Ec+1/EcJ)\n",
    "        flux0,basis = representationCapacity(El,Ej,Ec,EcJ)\n",
    "        flux_grid = scqubits.Grid1d(-flux0, flux0, basis['Phi'])\n",
    "\n",
    "        zero_pi = scqubits.FullZeroPi(grid = flux_grid,\n",
    "                           EJ   = Ej,\n",
    "                           EL   = El,\n",
    "                           ECJ  = EcJ, EC = None, ECS = EcS,\n",
    "                           #EC  = 1/(1/EcS-1/EcJ),\n",
    "                           ng   = 0, dEJ  = 0.0,\n",
    "                             dCJ  = 0.0,\n",
    "                             dEL  = 0.0,\n",
    "                             dC   = 0.0,\n",
    "                           flux = op,\n",
    "                           ncut = basis['Theta'], zeropi_cutoff = 5,\n",
    "                             zeta_cutoff = basis['Chi'])\n",
    "        e0,e1,e2 = zero_pi.eigenvals(3)\n",
    "        zero_pi.flux = op + .05\n",
    "        n0,n1,n2 = zero_pi.eigenvals(3)\n",
    "        D = log10((e2-e0)/(e1-e0))\n",
    "        delta = log10((e1-e0)/abs((e1-e0)-(n1-n0)))\n",
    "        Degeneracy.append(D); Delta.append(delta); E10.append(e1-e0); E20.append(e2-e0)\n",
    "        if index%50 == 0:\n",
    "            print(index,'/',L)\n",
    "    Agg['D*'] = Degeneracy ; Agg['delta*'] = Delta ; Agg['E10*'] = E10 ; Agg['E20*'] = E20\n",
    "    return Agg"
   ]
  },
  {
   "cell_type": "markdown",
   "id": "b31bba05",
   "metadata": {},
   "source": [
    "### recalculation"
   ]
  },
  {
   "cell_type": "code",
   "execution_count": null,
   "id": "f85219ea",
   "metadata": {},
   "outputs": [
    {
     "name": "stdout",
     "output_type": "stream",
     "text": [
      "0 / 220\n"
     ]
    }
   ],
   "source": [
    "PiIns = HQSC(PiIns,.5)\n",
    "PiDeg = HQSC(PiDeg,.5)\n",
    "PiSim = HQSC(PiSim,.5)\n",
    "ZeroDeg = HQSC(ZeroDeg,0)\n",
    "ZeroIns = HQSC(ZeroIns,0)\n",
    "ZeroSim = HQSC(ZeroSim,0)\n",
    "ZeroSub = HQSC(ZeroSub,0)\n",
    "ZeroSubIns = HQSC(ZeroSubIns,0)"
   ]
  },
  {
   "cell_type": "markdown",
   "id": "301bc073",
   "metadata": {},
   "source": [
    "### ratio-metric correlation plots"
   ]
  },
  {
   "cell_type": "code",
   "execution_count": null,
   "id": "5b933f55",
   "metadata": {},
   "outputs": [],
   "source": [
    "Agg = PiIns"
   ]
  },
  {
   "cell_type": "code",
   "execution_count": null,
   "id": "6f5838e4",
   "metadata": {},
   "outputs": [],
   "source": [
    "x = log10(Agg['CJx']/Agg['EcS'])\n",
    "x = log10(Agg['Jx']/Agg['EcS'])\n",
    "x = log10(Agg['CJx']/Agg['Lx'])\n",
    "#x = log10(Agg['Jx']/Agg['Lx'])\n",
    "#y = Agg['D*']\n",
    "y = Agg['delta*']\n",
    "r,p = pearsonr(x[~isinf(y)],y[~isinf(y)])\n",
    "print(r)"
   ]
  },
  {
   "cell_type": "code",
   "execution_count": null,
   "id": "51cb1f70",
   "metadata": {
    "scrolled": true
   },
   "outputs": [],
   "source": [
    "plotScatter(log10(Agg['CJx']/Agg['EcS']),{'D':Agg['D'],'Delta':Agg['delta']},x_label='log(EcJ/EcS)',dot_size=5,\n",
    "            size=(500,500),legend=True)\n",
    "plotScatter(log10(Agg['Jx']/Agg['EcS']),{'D':Agg['D*'],'Delta':Agg['delta*']},x_label='log(Ej/EcS)',dot_size=5,\n",
    "            size=(500,500),legend=True)\n",
    "plotScatter(log10(Agg['CJx']/Agg['Lx']),{'D':Agg['D*'],'Delta':Agg['delta*']},x_label='log(EcJ/El)',dot_size=5,\n",
    "            size=(500,500),legend=True)\n",
    "plotScatter(log10(Agg['Jx']/Agg['Lx']),{'D':Agg['D*'],'Delta':Agg['delta*']},x_label='log(Ej/El)',dot_size=5,\n",
    "            size=(500,500),legend=True)"
   ]
  },
  {
   "cell_type": "markdown",
   "id": "739071fd",
   "metadata": {},
   "source": [
    "## learning Zero-Pi degeneracy/insensitivity manifold\n",
    "* optimization trajectories are geodesics over the manifold\n",
    "$$(El,Ec,Ej,EcJ) \\equiv R^4 \\rightarrow R^2 \\equiv (D,\\Delta)$$\n",
    "* data points are derived from optimization trajectories\n",
    "* Learning incorporate entanglement and quantum physics of Zero-Pi "
   ]
  },
  {
   "cell_type": "code",
   "execution_count": null,
   "id": "71ad9b80",
   "metadata": {},
   "outputs": [],
   "source": []
  }
 ],
 "metadata": {
  "@webio": {
   "lastCommId": null,
   "lastKernelId": null
  },
  "kernelspec": {
   "display_name": "Python 3 (ipykernel)",
   "language": "python",
   "name": "python3"
  },
  "language_info": {
   "codemirror_mode": {
    "name": "ipython",
    "version": 3
   },
   "file_extension": ".py",
   "mimetype": "text/x-python",
   "name": "python",
   "nbconvert_exporter": "python",
   "pygments_lexer": "ipython3",
   "version": "3.11.5"
  }
 },
 "nbformat": 4,
 "nbformat_minor": 5
}
