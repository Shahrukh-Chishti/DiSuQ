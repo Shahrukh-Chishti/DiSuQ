{
 "cells": [
  {
   "cell_type": "markdown",
   "id": "ef44ad13",
   "metadata": {},
   "source": [
    "* Zero-Pi circuit space\n",
    "* Distribution of degeneracy and insensitivity\n",
    "* Fixing Josephson elements : EcJ == EJ := E0\n",
    "* 2-D parameter space : Ec/E0 & El/E0"
   ]
  },
  {
   "cell_type": "code",
   "execution_count": 1,
   "id": "2c979ee8",
   "metadata": {},
   "outputs": [],
   "source": [
    "from DiSuQ.Torch import models\n",
    "from torch import tensor,stack\n",
    "from DiSuQ import utils\n",
    "from numpy import arange,linspace,meshgrid,array,log,argsort,pi,logspace\n",
    "from DiSuQ.utils import plotCompare,plotHeatmap,plotBox,plotOptimization\n",
    "from DiSuQ.Torch.optimization import uniformParameters,truncNormalParameters,initializationSequential\n",
    "from DiSuQ.Torch import optimization\n",
    "from DiSuQ.Torch.optimization import lossDegeneracyTarget,lossDegeneracyWeighted\n",
    "from DiSuQ.Torch.components import indE,capE\n",
    "from torch import set_num_threads\n",
    "set_num_threads(32)"
   ]
  },
  {
   "cell_type": "code",
   "execution_count": 2,
   "id": "5edfdd32",
   "metadata": {},
   "outputs": [
    {
     "name": "stdout",
     "output_type": "stream",
     "text": [
      "Inductance Bound(GHz): 1.6346151294983178 34.32691771946467\n",
      "Capacitance Bound(GHz): 0.38740458615415185 39.12786320156934\n",
      "Shunt Bound(GHz): 3.8740458615415188 158.83588032320228\n",
      "Junction Bound(GHz): 5.0 30.0\n"
     ]
    }
   ],
   "source": [
    "L_ = indE(1e-7); L0 = indE(5*1e-9); print('Inductance Bound(GHz):',L_,L0+L_)\n",
    "C0 = capE(5*1e-16); C_ = capE(1e-14*5) ; print('Capacitance Bound(GHz):',C_,C0+C_)\n",
    "CJ0 = capE(5*1e-16/4); CJ_ = capE(1e-14/2) ; print('Shunt Bound(GHz):',CJ_,CJ0+CJ_)\n",
    "J0 = 25. ; J_ = 5. ; print('Junction Bound(GHz):',J_,J0+J_)"
   ]
  },
  {
   "cell_type": "code",
   "execution_count": 3,
   "id": "6e20bef8",
   "metadata": {},
   "outputs": [],
   "source": [
    "pairs = {'Lx':'Ly','Cx':'Cy','Jx':'Jy','CJx':'CJy'}\n",
    "E0 = 30."
   ]
  },
  {
   "cell_type": "code",
   "execution_count": 4,
   "id": "19f5e23a",
   "metadata": {},
   "outputs": [],
   "source": [
    "lower,upper = -2.5,0 ; n_scape = 100\n",
    "El = logspace(lower,upper,n_scape,endpoint=True)\n",
    "Ec = logspace(lower,upper,n_scape,endpoint=True)\n",
    "scape = {'Lx':El*E0,'Cx':Ec*E0}"
   ]
  },
  {
   "cell_type": "code",
   "execution_count": 5,
   "id": "86727a1a",
   "metadata": {},
   "outputs": [],
   "source": [
    "basis = [8,8,8] ; rep = 'Q'\n",
    "flux_point = ['Lx','Ly']\n",
    "circuit = models.zeroPi(basis,Ej=E0,Ec=5.,El=10.,EcJ=E0,sparse=False,symmetry=True,\n",
    "                        _L_=(L_,L0),_C_=(C_,C0),_J_=(J_,J0),_CJ_=(CJ_,CJ0))\n",
    "static = circuit.circuitState()"
   ]
  },
  {
   "cell_type": "code",
   "execution_count": 6,
   "id": "daa8bf0f",
   "metadata": {},
   "outputs": [],
   "source": [
    "flux_profile = [{'Lx':tensor(.5),'Ly':tensor(0.0)},{'Lx':tensor(.45),'Ly':tensor(0.0)}]"
   ]
  },
  {
   "cell_type": "code",
   "execution_count": 7,
   "id": "974c9279",
   "metadata": {},
   "outputs": [],
   "source": [
    "optimizer = optimization.OrderingOptimization(circuit,representation=rep)"
   ]
  },
  {
   "cell_type": "markdown",
   "id": "3c1f7094",
   "metadata": {},
   "source": [
    "### Degeneracy"
   ]
  },
  {
   "cell_type": "code",
   "execution_count": 8,
   "id": "8436ebd5",
   "metadata": {},
   "outputs": [],
   "source": [
    "D0 = 1; delta0 = 0\n",
    "lossFunction = lossDegeneracyWeighted(delta0,D0)"
   ]
  },
  {
   "cell_type": "code",
   "execution_count": null,
   "id": "77694f72",
   "metadata": {},
   "outputs": [],
   "source": [
    "LossD = optimizer.lossScape(lossFunction,flux_profile,scape,static)"
   ]
  },
  {
   "cell_type": "code",
   "execution_count": null,
   "id": "58f22d3f",
   "metadata": {},
   "outputs": [],
   "source": [
    "utils.plotOptimization(LossD,Ec,El,dict(),'Degeneracy distribution','Ec/E0','El/E0',export='pdf',\n",
    "                       size=(500,800),legend=False,log=True)"
   ]
  },
  {
   "cell_type": "markdown",
   "id": "d392a53c",
   "metadata": {},
   "source": [
    "### Delta"
   ]
  },
  {
   "cell_type": "code",
   "execution_count": null,
   "id": "47c65b2c",
   "metadata": {},
   "outputs": [],
   "source": [
    "D0 = 0; delta0 = 1\n",
    "lossFunction = lossDegeneracyWeighted(delta0,D0)"
   ]
  },
  {
   "cell_type": "code",
   "execution_count": null,
   "id": "5924630e",
   "metadata": {},
   "outputs": [],
   "source": [
    "LossDelta = optimizer.lossScape(lossFunction,flux_profile,scape,static)"
   ]
  },
  {
   "cell_type": "code",
   "execution_count": null,
   "id": "691a91c8",
   "metadata": {},
   "outputs": [],
   "source": [
    "utils.plotOptimization(LossDelta,Ec,El,dict(),'Delta distribution','Ec/E0','El/E0',export='pdf',\n",
    "                 size=(500,800),legend=False,log=True)"
   ]
  },
  {
   "cell_type": "code",
   "execution_count": null,
   "id": "ca29fe50",
   "metadata": {},
   "outputs": [],
   "source": []
  }
 ],
 "metadata": {
  "@webio": {
   "lastCommId": null,
   "lastKernelId": null
  },
  "kernelspec": {
   "display_name": "Python 3 (ipykernel)",
   "language": "python",
   "name": "python3"
  },
  "language_info": {
   "codemirror_mode": {
    "name": "ipython",
    "version": 3
   },
   "file_extension": ".py",
   "mimetype": "text/x-python",
   "name": "python",
   "nbconvert_exporter": "python",
   "pygments_lexer": "ipython3",
   "version": "3.11.3"
  }
 },
 "nbformat": 4,
 "nbformat_minor": 5
}
