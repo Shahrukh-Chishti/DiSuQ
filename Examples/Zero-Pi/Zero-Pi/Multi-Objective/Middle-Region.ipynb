{
 "cells": [
  {
   "cell_type": "markdown",
   "id": "846554fb",
   "metadata": {},
   "source": [
    "* Zero-Pi circuit space\n",
    "* Distribution of degeneracy and insensitivity\n",
    "* Fixing Josephson elements : EcJ == EJ := E0\n",
    "* 2-D parameter space : E0/Ec & E0/El"
   ]
  },
  {
   "cell_type": "code",
   "execution_count": 1,
   "id": "130a0c3e",
   "metadata": {},
   "outputs": [],
   "source": [
    "from DiSuQ.Torch import models\n",
    "from torch import tensor,stack\n",
    "from numpy import arange,linspace,meshgrid,array,log,argsort,pi,logspace\n",
    "from DiSuQ.utils import plotCompare,plotHeatmap,plotBox\n",
    "from DiSuQ.Torch.optimization import uniformParameters,truncNormalParameters,initializationSequential\n",
    "from DiSuQ.Torch import optimization\n",
    "from DiSuQ.Torch.optimization import lossDegeneracyTarget,lossDegeneracyWeighted\n",
    "from DiSuQ.Torch.components import indE,capE\n",
    "from torch import set_num_threads\n",
    "set_num_threads(32)"
   ]
  },
  {
   "cell_type": "code",
   "execution_count": null,
   "id": "89ae7b93",
   "metadata": {},
   "outputs": [],
   "source": [
    "L_ = indE(1e-7); L0 = indE(5*1e-9); print('Inductance Bound(GHz):',L_,L0+L_)\n",
    "C0 = capE(5*1e-16); C_ = capE(1e-14*5) ; print('Capacitance Bound(GHz):',C_,C0+C_)\n",
    "CJ0 = capE(5*1e-16/4); CJ_ = capE(1e-14/2) ; print('Shunt Bound(GHz):',CJ_,CJ0+CJ_)\n",
    "J0 = 25. ; J_ = 5. ; print('Junction Bound(GHz):',J_,J0+J_)"
   ]
  },
  {
   "cell_type": "code",
   "execution_count": null,
   "id": "ec321957",
   "metadata": {},
   "outputs": [],
   "source": [
    "pairs = {'Lx':'Ly','Cx':'Cy','Jx':'Jy','CJx':'CJy'}"
   ]
  },
  {
   "cell_type": "code",
   "execution_count": null,
   "id": "075894a5",
   "metadata": {},
   "outputs": [],
   "source": [
    "lower,upper = lossScapeBounds(paths)\n",
    "El = linspace(lower[0],upper[0],n_scape,endpoint=True)\n",
    "Ec = linspace(lower[1],upper[1],n_scape,endpoint=True)\n",
    "scape = {'El':El,'Ec':Ec}"
   ]
  },
  {
   "cell_type": "code",
   "execution_count": null,
   "id": "25255909",
   "metadata": {},
   "outputs": [],
   "source": [
    "basis = [7,7,7] ; rep = 'Q'\n",
    "flux_point = ['Lx','Ly']\n",
    "circuit = models.zeroPi(basis,Ej=10.,Ec=5.,El=10.,EcJ=50.,sparse=False,symmetry=True,\n",
    "                        _L_=(L_,L0),_C_=(C_,C0),_J_=(J_,J0),_CJ_=(CJ_,CJ0))\n",
    "static = circuit.circuitState()"
   ]
  },
  {
   "cell_type": "code",
   "execution_count": null,
   "id": "5bee7d1d",
   "metadata": {},
   "outputs": [],
   "source": [
    "flux_profile = [{'Lx':tensor(.5),'Ly':tensor(0.0)},{'Lx':tensor(.45),'Ly':tensor(0.0)}]"
   ]
  },
  {
   "cell_type": "code",
   "execution_count": null,
   "id": "ff1b1949",
   "metadata": {},
   "outputs": [],
   "source": [
    "optimizer = optimization.OrderingOptimization(circuit,representation=rep)"
   ]
  },
  {
   "cell_type": "markdown",
   "id": "340b5beb",
   "metadata": {},
   "source": [
    "### Degeneracy"
   ]
  },
  {
   "cell_type": "code",
   "execution_count": null,
   "id": "7cf39469",
   "metadata": {},
   "outputs": [],
   "source": [
    "LossD = optimizer.lossScape(lossFunction,flux_profile,scape,static)"
   ]
  },
  {
   "cell_type": "code",
   "execution_count": null,
   "id": "f42e67dd",
   "metadata": {},
   "outputs": [],
   "source": []
  }
 ],
 "metadata": {
  "kernelspec": {
   "display_name": "Python 3 (ipykernel)",
   "language": "python",
   "name": "python3"
  },
  "language_info": {
   "codemirror_mode": {
    "name": "ipython",
    "version": 3
   },
   "file_extension": ".py",
   "mimetype": "text/x-python",
   "name": "python",
   "nbconvert_exporter": "python",
   "pygments_lexer": "ipython3",
   "version": "3.11.3"
  }
 },
 "nbformat": 4,
 "nbformat_minor": 5
}
