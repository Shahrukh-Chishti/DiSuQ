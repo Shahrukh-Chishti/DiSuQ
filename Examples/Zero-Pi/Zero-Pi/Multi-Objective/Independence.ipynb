{
 "cells": [
  {
   "cell_type": "code",
   "execution_count": 1,
   "id": "0037a6df",
   "metadata": {},
   "outputs": [],
   "source": [
    "from DiSuQ.Torch import models\n",
    "from torch import tensor,stack\n",
    "from numpy import arange,linspace,meshgrid,array,log,argsort,pi\n",
    "from DiSuQ.utils import plotCompare,plotHeatmap,plotBox\n",
    "from DiSuQ.Torch.optimization import uniformParameters,truncNormalParameters,initializationSequential\n",
    "from DiSuQ.Torch import optimization\n",
    "from DiSuQ.Torch.optimization import lossDegeneracyTarget,lossDegeneracyWeighted\n",
    "from DiSuQ.Torch.components import indE,capE\n",
    "from torch import set_num_threads\n",
    "set_num_threads(32)"
   ]
  },
  {
   "cell_type": "code",
   "execution_count": 2,
   "id": "b2132fe9",
   "metadata": {},
   "outputs": [],
   "source": [
    "pairs = {'Lx':'Ly','Cx':'Cy','Jx':'Jy','CJx':'CJy'}"
   ]
  },
  {
   "cell_type": "code",
   "execution_count": 3,
   "id": "714d91a4",
   "metadata": {},
   "outputs": [
    {
     "name": "stdout",
     "output_type": "stream",
     "text": [
      "Inductance Bound(GHz): 3.269230258996635e-06 0.16346478218009075\n",
      "Capacitance Bound(GHz): 0.00019370229307707598 193.70248677936902\n",
      "Shunt Bound(GHz): 0.00019370229307707598 193.70248677936902\n",
      "Junction Bound(GHz): 0.0 350.0\n"
     ]
    }
   ],
   "source": [
    "L0 = indE(1e-6); L_ = indE(5e-2); print('Inductance Bound(GHz):',L_,L0+L_)\n",
    "C0 = capE(1e-16); C_ = capE(1e-10) ; print('Capacitance Bound(GHz):',C_,C0+C_)\n",
    "CJ0 = capE(1e-16); CJ_ = capE(1e-10) ; print('Shunt Bound(GHz):',CJ_,CJ0+CJ_)\n",
    "J0 = 350. ; J_ = 0. ; print('Junction Bound(GHz):',J_,J0+J_)\n",
    "# components['Jx'].J0 = J0 ; components['Jy'].J0 = J0"
   ]
  },
  {
   "cell_type": "code",
   "execution_count": 4,
   "id": "f918a59b",
   "metadata": {},
   "outputs": [],
   "source": [
    "basis = {'Chi':7,'Theta':10,'Phi':30}\n",
    "rep = 'R'; flux_point = ['Lx','Ly']\n",
    "circuit = models.zeroPi(basis,Ej=10.,Ec=5.,El=10.,EcJ=50.,sparse=False,\n",
    "                        symmetry=True,_L_=(L_,L0),_C_=(C_,C0),_J_=(J_,J0),_CJ_=(CJ_,CJ0),\n",
    "                        ridge=True)\n",
    "static = circuit.circuitState()"
   ]
  },
  {
   "cell_type": "code",
   "execution_count": 5,
   "id": "2d9bc9c9",
   "metadata": {},
   "outputs": [],
   "source": [
    "flux_profile = [{'Lx':tensor(.5),'Ly':tensor(0.0)},{'Lx':tensor(.45),'Ly':tensor(0.0)}]"
   ]
  },
  {
   "cell_type": "code",
   "execution_count": 6,
   "id": "d6605c32",
   "metadata": {},
   "outputs": [],
   "source": [
    "def optimizationAnalysis(init,subspace,Search,success=1.):\n",
    "    Loss,Success,Paths = [],[],[]\n",
    "    for index,(init,(dLogs,dParams,dCircuit)) in enumerate(zip(init,Search)):\n",
    "        if len(dLogs) > 0:\n",
    "            Paths.append(dCircuit[subspace].to_numpy())\n",
    "            loss = dLogs['loss'].to_numpy()\n",
    "            Loss.append(loss[-1])\n",
    "            if loss[-1] < success:\n",
    "                Success.append(len(loss))\n",
    "    return Paths,Loss,Success"
   ]
  },
  {
   "cell_type": "code",
   "execution_count": 7,
   "id": "7ac44c09",
   "metadata": {},
   "outputs": [],
   "source": [
    "def analysisPlotting(Optimization,Algo=['LBFGS']):\n",
    "    paths = dict()\n",
    "    losse = dict()\n",
    "    for algo,(Paths,Loss,Success) in zip(Algo,Optimization):\n",
    "        indices = argsort(Loss)[0]\n",
    "        paths[algo] = Paths[indices]\n",
    "        losse[algo] = Loss\n",
    "    return paths,losse"
   ]
  },
  {
   "cell_type": "code",
   "execution_count": 8,
   "id": "9812be99",
   "metadata": {},
   "outputs": [],
   "source": [
    "def lossScapeBounds(paths):\n",
    "    Paths = []\n",
    "    for algo,path in paths.items():\n",
    "        Paths.append(path)\n",
    "    Paths = vstack(Paths)\n",
    "    Paths = Paths[:, ~isnan(Paths).any(axis=0)]\n",
    "    return Paths.min(0),Paths.max(0)"
   ]
  },
  {
   "cell_type": "code",
   "execution_count": 9,
   "id": "f25d7646",
   "metadata": {},
   "outputs": [
    {
     "data": {
      "text/plain": [
       "81"
      ]
     },
     "execution_count": 9,
     "metadata": {},
     "output_type": "execute_result"
    }
   ],
   "source": [
    "N = 3; subspace = ['Lx','Cx','Jx','CJx']\n",
    "initials = uniformParameters(circuit,subspace,N)\n",
    "len(initials)"
   ]
  },
  {
   "cell_type": "code",
   "execution_count": 10,
   "id": "adf90cd4",
   "metadata": {},
   "outputs": [
    {
     "data": {
      "text/plain": [
       "10"
      ]
     },
     "execution_count": 10,
     "metadata": {},
     "output_type": "execute_result"
    }
   ],
   "source": [
    "N = 10; subspace = ['Lx','Cx','Jx','CJx']\n",
    "initials = truncNormalParameters(circuit,subspace,N=N,var=8)\n",
    "len(initials)"
   ]
  },
  {
   "cell_type": "code",
   "execution_count": 11,
   "id": "5324b8b4",
   "metadata": {},
   "outputs": [],
   "source": [
    "optimizer = optimization.OrderingOptimization(circuit,representation=rep)"
   ]
  },
  {
   "cell_type": "markdown",
   "id": "1d1e35c4",
   "metadata": {},
   "source": [
    "### Degeneracy domination"
   ]
  },
  {
   "cell_type": "code",
   "execution_count": 12,
   "id": "555d52fe",
   "metadata": {},
   "outputs": [],
   "source": [
    "D0 = 1; delta0 = 0\n",
    "lossFunction = lossDegeneracyWeighted(delta0,D0)"
   ]
  },
  {
   "cell_type": "code",
   "execution_count": null,
   "id": "54c2f120",
   "metadata": {
    "scrolled": true
   },
   "outputs": [
    {
     "name": "stdout",
     "output_type": "stream",
     "text": [
      "{'Jx': 10.0, 'Jy': 10.0, 'CJx': 49.999996185302734, 'CJy': 49.999996185302734, 'Lx': 0.1634647697210312, 'Ly': 0.1634647697210312, 'Cx': 5.0, 'Cy': 5.0}\n",
      "0 {'Jx': 16.316894551548998, 'Jy': 10.0, 'CJx': 47.70821830951777, 'CJy': 49.999996185302734, 'Lx': 0.15668995161645474, 'Ly': 0.1634647697210312, 'Cx': 3.061125873575567, 'Cy': 5.0}\n",
      "RUNNING THE L-BFGS-B CODE\n",
      "\n",
      "           * * *\n",
      "\n",
      "Machine precision = 2.220D-16\n",
      " N =            4     M =           10\n",
      "\n",
      "At X0         0 variables are exactly at the bounds\n",
      "\n",
      "At iterate    0    f= -3.00995D-01    |proj g|=  1.73301D-05\n",
      "\n",
      "At iterate    1    f= -3.01039D-01    |proj g|=  5.05015D-06\n",
      "\n",
      "           * * *\n",
      "\n",
      "Tit   = total number of iterations\n",
      "Tnf   = total number of function evaluations\n",
      "Tnint = total number of segments explored during Cauchy searches\n",
      "Skip  = number of BFGS updates skipped\n",
      "Nact  = number of active bounds at final generalized Cauchy point\n",
      "Projg = norm of the final projected gradient\n",
      "F     = final function value\n",
      "\n",
      "           * * *\n",
      "\n",
      "   N    Tit     Tnf  Tnint  Skip  Nact     Projg        F\n",
      "    4      1      7      1     0     0   5.050D-06  -3.010D-01\n",
      "  F = -0.30103930830955505     \n",
      "\n",
      "CONVERGENCE: NORM_OF_PROJECTED_GRADIENT_<=_PGTOL            \n",
      "{'Jx': 16.316892623901367, 'Jy': 16.316892623901367, 'CJx': 47.70821762084961, 'CJy': 47.70821762084961, 'Lx': 0.1566901057958603, 'Ly': 0.1566901057958603, 'Cx': 3.0611305236816406, 'Cy': 3.0611305236816406}\n",
      "1 {'Jx': 7.492313733506421, 'Jy': 10.0, 'CJx': 38.61015292923619, 'CJy': 49.999996185302734, 'Lx': 0.13375787277696, 'Ly': 0.1634647697210312, 'Cx': 7.4919629792313955, 'Cy': 5.0}\n",
      "RUNNING THE L-BFGS-B CODE\n",
      "\n",
      "           * * *\n",
      "\n",
      "Machine precision = 2.220D-16\n",
      " N =            4     M =           10\n",
      "\n",
      "At X0         0 variables are exactly at the bounds\n",
      "\n",
      "At iterate    0    f= -3.00930D-01    |proj g|=  4.76767D-05\n",
      "\n",
      "At iterate    1    f= -3.00999D-01    |proj g|=  1.51124D-05\n",
      "\n",
      "At iterate    2    f= -3.01051D-01    |proj g|=  9.83172D-06\n",
      "\n",
      "           * * *\n",
      "\n",
      "Tit   = total number of iterations\n",
      "Tnf   = total number of function evaluations\n",
      "Tnint = total number of segments explored during Cauchy searches\n",
      "Skip  = number of BFGS updates skipped\n",
      "Nact  = number of active bounds at final generalized Cauchy point\n",
      "Projg = norm of the final projected gradient\n",
      "{'Jx': 7.4923095703125, 'Jy': 7.4923095703125, 'CJx': 38.61016845703125, 'CJy': 38.61016845703125, 'Lx': 0.1337684690952301, 'Ly': 0.1337684690952301, 'Cx': 7.492039203643799, 'Cy': 7.492039203643799}\n",
      "2 {'Jx': 0.8677916555262044, 'Jy': 10.0, 'CJx': 38.866458030872465, 'CJy': 49.999996185302734, 'Lx': 0.02537451845866781, 'Ly': 0.1634647697210312, 'Cx': 5.22734758092649, 'Cy': 5.0}\n",
      "F     = final function value\n",
      "\n",
      "           * * *\n",
      "\n",
      "   N    Tit     Tnf  Tnint  Skip  Nact     Projg        F\n",
      "    4      2      3      2     0     0   9.832D-06  -3.011D-01\n",
      "  F = -0.30105066299438477     \n",
      "\n",
      "CONVERGENCE: NORM_OF_PROJECTED_GRADIENT_<=_PGTOL            \n",
      "RUNNING THE L-BFGS-B CODE\n",
      "\n",
      "           * * *\n",
      "\n",
      "Machine precision = 2.220D-16\n",
      " N =            4     M =           10\n",
      "\n",
      "At X0         0 variables are exactly at the bounds\n",
      "\n",
      "At iterate    0    f= -3.01001D-01    |proj g|=  1.37837D-05\n",
      "\n",
      "At iterate    1    f= -3.01009D-01    |proj g|=  1.04817D-05\n",
      "\n",
      "At iterate    2    f= -3.01133D-01    |proj g|=  5.00683D-05\n"
     ]
    }
   ],
   "source": [
    "LBFGS_D = []\n",
    "for index,parameter in enumerate(initials):\n",
    "    print(optimizer.circuitState())\n",
    "    print(index,parameter)\n",
    "    optimizer.circuit.initialization(parameter)  \n",
    "    optimizer.parameters,optimizer.IDs = optimizer.circuitParameters()\n",
    "    LBFGS_D.append(optimizer.minimization(lossFunction,flux_profile,\n",
    "                    method='L-BFGS-B',options=dict(ftol=1e-16,maxiter=15)))"
   ]
  },
  {
   "cell_type": "code",
   "execution_count": null,
   "id": "8ce0abe3",
   "metadata": {},
   "outputs": [],
   "source": [
    "Result = [optimizationAnalysis(initials,subspace,LBFGS_D)]\n",
    "paths_D,losse_D = analysisPlotting(Result)"
   ]
  },
  {
   "cell_type": "code",
   "execution_count": null,
   "id": "e9178707",
   "metadata": {},
   "outputs": [],
   "source": [
    "plotBox(losse_D,'Loss-Degeneracy Distribution',export='pdf',size=(300,400))"
   ]
  },
  {
   "cell_type": "markdown",
   "id": "7059ea27",
   "metadata": {},
   "source": [
    "### Delta domination"
   ]
  },
  {
   "cell_type": "code",
   "execution_count": null,
   "id": "cfa255d2",
   "metadata": {},
   "outputs": [],
   "source": [
    "D0 = 0; delta0 = 1\n",
    "lossFunction = lossDegeneracyWeighted(delta0,D0)"
   ]
  },
  {
   "cell_type": "code",
   "execution_count": null,
   "id": "1a6d8992",
   "metadata": {
    "scrolled": true
   },
   "outputs": [],
   "source": [
    "LBFGS_Delta = []\n",
    "for index,parameter in enumerate(initials):\n",
    "    print(optimizer.circuitState())\n",
    "    print(index,parameter)\n",
    "    optimizer.circuit.initialization(parameter)  \n",
    "    optimizer.parameters,optimizer.IDs = optimizer.circuitParameters()\n",
    "    LBFGS_Delta.append(optimizer.minimization(lossFunction,flux_profile,\n",
    "                    method='L-BFGS-B',options=dict(ftol=1e-16,maxiter=15)))"
   ]
  },
  {
   "cell_type": "code",
   "execution_count": null,
   "id": "a6138612",
   "metadata": {},
   "outputs": [],
   "source": [
    "Result = [optimizationAnalysis(initials,subspace,LBFGS_Delta)]\n",
    "paths_delta,losse_delta = analysisPlotting(Result)"
   ]
  },
  {
   "cell_type": "code",
   "execution_count": null,
   "id": "c495bbc9",
   "metadata": {},
   "outputs": [],
   "source": [
    "plotBox(losse_delta,'Loss-Delta Distribution',export='pdf',size=(300,400))"
   ]
  },
  {
   "cell_type": "markdown",
   "id": "0e2a55c3",
   "metadata": {},
   "source": [
    "* successful training in either direction\n",
    "* independently feasible circuit characteristics"
   ]
  },
  {
   "cell_type": "markdown",
   "id": "9e92e5bd",
   "metadata": {},
   "source": [
    "### Comparison"
   ]
  },
  {
   "cell_type": "code",
   "execution_count": null,
   "id": "535d1226",
   "metadata": {},
   "outputs": [],
   "source": [
    "paths = {'optimal':[array([1.1*L_,1.1*C_,J0+.9*J_,CJ0+.9*CJ_])]}\n",
    "paths['delta'] = paths_delta['LBFGS']\n",
    "paths['D'] = paths_D['LBFGS']"
   ]
  },
  {
   "cell_type": "code",
   "execution_count": null,
   "id": "fd017f12",
   "metadata": {},
   "outputs": [],
   "source": [
    "Nx,Ny  = 101,1\n",
    "PhiX = linspace(0.,1.,Nx,endpoint=True)\n",
    "PhiY = linspace(0,1,Ny,endpoint=True)\n",
    "flux_range = meshgrid(PhiX,PhiY)\n",
    "flux_range = array((flux_range[0].flatten(),flux_range[1].flatten())).T\n",
    "flux_manifold = [flux for flux in tensor(flux_range)]"
   ]
  },
  {
   "cell_type": "code",
   "execution_count": null,
   "id": "45b06784",
   "metadata": {},
   "outputs": [],
   "source": [
    "Degeneracy,Delta,plots = dict(),dict(),dict()\n",
    "mid = 50; neigh = 55\n",
    "for algo,path in paths.items():\n",
    "    parameters = dict(zip(subspace,path[-1]))\n",
    "    static.update(parameters)\n",
    "    circuit.initialization(static)\n",
    "    H_LC = circuit.chargeHamiltonianLC()\n",
    "    H_J = circuit.josephsonCharge\n",
    "    E0,(Ex1,Ex2) = circuit.spectrumManifold(flux_point,flux_manifold,H_LC,H_J,excitation=[1,2],grad=True)\n",
    "    Ex2 = Ex2.detach().numpy()\n",
    "    Ex1 = Ex1.detach().numpy()\n",
    "    degeneracy = log(Ex2/Ex1)\n",
    "    Degeneracy[algo] = degeneracy\n",
    "    Delta[algo] = log(abs(Ex1[mid]-Ex1[neigh])/Ex2[mid])\n",
    "    plots[algo+'-E10'] = Ex1\n",
    "    plots[algo+'-E20'] = Ex2"
   ]
  },
  {
   "cell_type": "code",
   "execution_count": null,
   "id": "ce0aff83",
   "metadata": {},
   "outputs": [],
   "source": [
    "plotCompare(flux_range[:,0],Degeneracy,'Degeneracy-Optimal Circuits','flux profile',export='pdf',size=(600,800))"
   ]
  },
  {
   "cell_type": "code",
   "execution_count": null,
   "id": "a3c2e197",
   "metadata": {},
   "outputs": [],
   "source": [
    "plotCompare(flux_range[:,0],plots,'Spectrum-Optimal Circuits','flux profile','energy(GHz)',export='pdf',size=(600,800))"
   ]
  },
  {
   "cell_type": "code",
   "execution_count": null,
   "id": "9f9e4f17-5efe-49f3-a6f2-2c697dfcfebb",
   "metadata": {},
   "outputs": [],
   "source": [
    "for algo,path in paths.items():    \n",
    "    El,Ec,Ej,EcJ = path[-1]\n",
    "    print(algo,':',EcJ/Ec,Ej/Ec,Ej/El,EcJ/El)"
   ]
  },
  {
   "cell_type": "code",
   "execution_count": null,
   "id": "c22740f2",
   "metadata": {},
   "outputs": [],
   "source": []
  },
  {
   "cell_type": "markdown",
   "id": "aa3b4d8c",
   "metadata": {},
   "source": [
    "## Multiple Solution"
   ]
  },
  {
   "cell_type": "code",
   "execution_count": null,
   "id": "874489ce",
   "metadata": {},
   "outputs": [],
   "source": []
  }
 ],
 "metadata": {
  "@webio": {
   "lastCommId": null,
   "lastKernelId": null
  },
  "kernelspec": {
   "display_name": "Python 3 (ipykernel)",
   "language": "python",
   "name": "python3"
  },
  "language_info": {
   "codemirror_mode": {
    "name": "ipython",
    "version": 3
   },
   "file_extension": ".py",
   "mimetype": "text/x-python",
   "name": "python",
   "nbconvert_exporter": "python",
   "pygments_lexer": "ipython3",
   "version": "3.11.5"
  }
 },
 "nbformat": 4,
 "nbformat_minor": 5
}
