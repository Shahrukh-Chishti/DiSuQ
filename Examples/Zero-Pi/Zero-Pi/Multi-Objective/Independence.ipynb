{
 "cells": [
  {
   "cell_type": "code",
   "execution_count": 1,
   "id": "0037a6df",
   "metadata": {},
   "outputs": [],
   "source": [
    "from DiSuQ.Torch import models\n",
    "from torch import tensor,stack\n",
    "from numpy import arange,linspace,meshgrid,array,log,argsort,pi\n",
    "from DiSuQ.utils import plotCompare,plotHeatmap,plotBox\n",
    "from DiSuQ.Torch.optimization import uniformParameters,truncNormalParameters,initializationSequential\n",
    "from DiSuQ.Torch import optimization\n",
    "from DiSuQ.Torch.optimization import lossDegeneracyTarget,lossDegeneracyWeighted\n",
    "from DiSuQ.Torch.components import indE,capE\n",
    "from torch import set_num_threads\n",
    "set_num_threads(32)"
   ]
  },
  {
   "cell_type": "code",
   "execution_count": 2,
   "id": "b2132fe9",
   "metadata": {},
   "outputs": [],
   "source": [
    "pairs = {'Lx':'Ly','Cx':'Cy','Jx':'Jy','CJx':'CJy'}"
   ]
  },
  {
   "cell_type": "code",
   "execution_count": 3,
   "id": "714d91a4",
   "metadata": {},
   "outputs": [
    {
     "name": "stdout",
     "output_type": "stream",
     "text": [
      "Inductance Bound(GHz): 1.6346151294983178 34.32691771946467\n",
      "Capacitance Bound(GHz): 0.38740458615415185 39.12786320156934\n",
      "Shunt Bound(GHz): 3.8740458615415188 158.83588032320228\n",
      "Junction Bound(GHz): 5.0 30.0\n"
     ]
    }
   ],
   "source": [
    "L_ = indE(1e-7); L0 = indE(5*1e-9); print('Inductance Bound(GHz):',L_,L0+L_)\n",
    "C0 = capE(5*1e-16); C_ = capE(1e-14*5) ; print('Capacitance Bound(GHz):',C_,C0+C_)\n",
    "CJ0 = capE(5*1e-16/4); CJ_ = capE(1e-14/2) ; print('Shunt Bound(GHz):',CJ_,CJ0+CJ_)\n",
    "J0 = 25. ; J_ = 5. ; print('Junction Bound(GHz):',J_,J0+J_)\n",
    "# components['Jx'].J0 = J0 ; components['Jy'].J0 = J0"
   ]
  },
  {
   "cell_type": "code",
   "execution_count": 4,
   "id": "f918a59b",
   "metadata": {},
   "outputs": [],
   "source": [
    "basis = [7,7,7] ; rep = 'Q'\n",
    "flux_point = ['Lx','Ly']\n",
    "circuit = models.zeroPi(basis,Ej=10.,Ec=5.,El=10.,EcJ=50.,sparse=False,symmetry=True,_L_=(L_,L0),_C_=(C_,C0),_J_=(J_,J0),_CJ_=(CJ_,CJ0))\n",
    "static = circuit.circuitState()"
   ]
  },
  {
   "cell_type": "code",
   "execution_count": 5,
   "id": "2d9bc9c9",
   "metadata": {},
   "outputs": [],
   "source": [
    "flux_profile = [{'Lx':tensor(.5),'Ly':tensor(0.0)},{'Lx':tensor(.45),'Ly':tensor(0.0)}]"
   ]
  },
  {
   "cell_type": "code",
   "execution_count": 6,
   "id": "d6605c32",
   "metadata": {},
   "outputs": [],
   "source": [
    "def optimizationAnalysis(init,subspace,Search,success=1.):\n",
    "    Loss,Success,Paths = [],[],[]\n",
    "    for index,(init,(dLogs,dParams,dCircuit)) in enumerate(zip(init,Search)):\n",
    "        Paths.append(dCircuit[subspace].to_numpy())\n",
    "        loss = dLogs['loss'].to_numpy()\n",
    "        Loss.append(loss[-1])\n",
    "        if loss[-1] < success:\n",
    "            Success.append(len(loss))\n",
    "    return Paths,Loss,Success"
   ]
  },
  {
   "cell_type": "code",
   "execution_count": 7,
   "id": "7ac44c09",
   "metadata": {},
   "outputs": [],
   "source": [
    "def analysisPlotting(Optimization,Algo=['LBFGS']):\n",
    "    paths = dict()\n",
    "    losse = dict()\n",
    "    for algo,(Paths,Loss,Success) in zip(Algo,Optimization):\n",
    "        indices = argsort(Loss)[0]\n",
    "        paths[algo] = Paths[indices]\n",
    "        losse[algo] = Loss\n",
    "    return paths,losse"
   ]
  },
  {
   "cell_type": "code",
   "execution_count": 8,
   "id": "9812be99",
   "metadata": {},
   "outputs": [],
   "source": [
    "def lossScapeBounds(paths):\n",
    "    Paths = []\n",
    "    for algo,path in paths.items():\n",
    "        Paths.append(path)\n",
    "    Paths = vstack(Paths)\n",
    "    Paths = Paths[:, ~isnan(Paths).any(axis=0)]\n",
    "    return Paths.min(0),Paths.max(0)"
   ]
  },
  {
   "cell_type": "code",
   "execution_count": 9,
   "id": "adf90cd4",
   "metadata": {},
   "outputs": [
    {
     "data": {
      "text/plain": [
       "10"
      ]
     },
     "execution_count": 9,
     "metadata": {},
     "output_type": "execute_result"
    }
   ],
   "source": [
    "N = 10; subspace = ['Lx','Cx','Jx','CJx']\n",
    "initials = truncNormalParameters(circuit,subspace,N=N,var=8)\n",
    "len(initials)"
   ]
  },
  {
   "cell_type": "code",
   "execution_count": 10,
   "id": "f25d7646",
   "metadata": {},
   "outputs": [
    {
     "data": {
      "text/plain": [
       "81"
      ]
     },
     "execution_count": 10,
     "metadata": {},
     "output_type": "execute_result"
    }
   ],
   "source": [
    "N = 3; subspace = ['Lx','Cx','Jx','CJx']\n",
    "initials = uniformParameters(circuit,subspace,N)\n",
    "len(initials)"
   ]
  },
  {
   "cell_type": "code",
   "execution_count": 11,
   "id": "5324b8b4",
   "metadata": {},
   "outputs": [],
   "source": [
    "optimizer = optimization.OrderingOptimization(circuit,representation=rep)"
   ]
  },
  {
   "cell_type": "markdown",
   "id": "1d1e35c4",
   "metadata": {},
   "source": [
    "### Degeneracy domination"
   ]
  },
  {
   "cell_type": "code",
   "execution_count": 12,
   "id": "555d52fe",
   "metadata": {},
   "outputs": [],
   "source": [
    "D0 = 1; delta0 = 0\n",
    "lossFunction = lossDegeneracyWeighted(delta0,D0)"
   ]
  },
  {
   "cell_type": "code",
   "execution_count": null,
   "id": "54c2f120",
   "metadata": {
    "scrolled": true
   },
   "outputs": [
    {
     "name": "stdout",
     "output_type": "stream",
     "text": [
      "{'Lx': 10.0, 'Ly': 10.0, 'Cx': 5.0, 'Cy': 5.0, 'Jx': 10.0, 'Jy': 10.0, 'CJx': 50.0, 'CJy': 50.0}\n",
      "0 {'Lx': 8.173075647491588, 'Ly': 10.0, 'Cx': 9.685114653853796, 'Cy': 5.0, 'Jx': 6.25, 'Jy': 10.0, 'CJx': 38.740458615415186, 'CJy': 50.0}\n",
      "RUNNING THE L-BFGS-B CODE\n",
      "\n",
      "           * * *\n",
      "\n",
      "Machine precision = 2.220D-16\n",
      " N =            4     M =           10\n",
      "\n",
      "At X0         0 variables are exactly at the bounds\n",
      "\n",
      "At iterate    0    f= -1.38786D-01    |proj g|=  1.11256D-01\n"
     ]
    }
   ],
   "source": [
    "LBFGS = []\n",
    "for index,parameter in enumerate(initials):\n",
    "    print(optimizer.circuitState())\n",
    "    print(index,parameter)\n",
    "    optimizer.circuit.initialization(parameter)  \n",
    "    optimizer.parameters,optimizer.IDs = optimizer.circuitParameters()\n",
    "    LBFGS.append(optimizer.minimization(lossFunction,flux_profile,\n",
    "                    method='L-BFGS-B',options=dict(ftol=1e-16,maxiter=15)))"
   ]
  },
  {
   "cell_type": "code",
   "execution_count": null,
   "id": "8ce0abe3",
   "metadata": {},
   "outputs": [],
   "source": [
    "Result = [optimizationAnalysis(initials,subspace,LBFGS)]\n",
    "paths_D,losse_D = analysisPlotting(Result)"
   ]
  },
  {
   "cell_type": "code",
   "execution_count": null,
   "id": "e9178707",
   "metadata": {},
   "outputs": [],
   "source": [
    "plotBox(losse_D,'Loss Distribution',export='pdf',size=(300,400))"
   ]
  },
  {
   "cell_type": "markdown",
   "id": "7059ea27",
   "metadata": {},
   "source": [
    "### Delta domination"
   ]
  },
  {
   "cell_type": "code",
   "execution_count": null,
   "id": "cfa255d2",
   "metadata": {},
   "outputs": [],
   "source": [
    "D0 = 0; delta0 = 1\n",
    "lossFunction = lossDegeneracyWeighted(delta0,D0)"
   ]
  },
  {
   "cell_type": "code",
   "execution_count": null,
   "id": "1a6d8992",
   "metadata": {
    "scrolled": true
   },
   "outputs": [],
   "source": [
    "LBFGS = []\n",
    "for index,parameter in enumerate(initials):\n",
    "    print(optimizer.circuitState())\n",
    "    print(index,parameter)\n",
    "    optimizer.circuit.initialization(parameter)  \n",
    "    optimizer.parameters,optimizer.IDs = optimizer.circuitParameters()\n",
    "    LBFGS.append(optimizer.minimization(lossFunction,flux_profile,\n",
    "                    method='L-BFGS-B',options=dict(ftol=1e-16,maxiter=15)))"
   ]
  },
  {
   "cell_type": "code",
   "execution_count": null,
   "id": "a6138612",
   "metadata": {},
   "outputs": [],
   "source": [
    "Result = [optimizationAnalysis(initials,subspace,LBFGS)]\n",
    "paths_delta,losse_delta = analysisPlotting(Result)"
   ]
  },
  {
   "cell_type": "code",
   "execution_count": null,
   "id": "c495bbc9",
   "metadata": {},
   "outputs": [],
   "source": [
    "plotBox(losse_delta,'Loss Distribution',export='pdf',size=(300,400))"
   ]
  },
  {
   "cell_type": "markdown",
   "id": "9e92e5bd",
   "metadata": {},
   "source": [
    "### Comparison"
   ]
  },
  {
   "cell_type": "code",
   "execution_count": null,
   "id": "535d1226",
   "metadata": {},
   "outputs": [],
   "source": [
    "paths['optimal']  = [array([1.1*L_,1.1*C_,J0+.9*J_,CJ0+.9*CJ_])]"
   ]
  },
  {
   "cell_type": "code",
   "execution_count": null,
   "id": "8ef6fe87",
   "metadata": {},
   "outputs": [],
   "source": [
    "paths.update(paths_delta)\n",
    "paths.update(paths_D)"
   ]
  },
  {
   "cell_type": "code",
   "execution_count": null,
   "id": "45b06784",
   "metadata": {},
   "outputs": [],
   "source": [
    "Degeneracy,plots = dict(),dict()\n",
    "for algo,path in paths.items():\n",
    "    parameters = dict(zip(subspace,path[-1]))\n",
    "    static.update(parameters)\n",
    "    circuit.initialization(static)\n",
    "    H_LC = circuit.chargeHamiltonianLC()\n",
    "    H_J = circuit.josephsonCharge\n",
    "    E0,(Ex1,Ex2) = circuit.spectrumManifold(flux_point,flux_manifold,H_LC,H_J,excitation=[1,2],grad=True)\n",
    "    Ex2 = Ex2.detach().numpy()\n",
    "    Ex1 = Ex1.detach().numpy()\n",
    "    degeneracy = log(Ex2/Ex1)\n",
    "    Degeneracy[algo] = degeneracy\n",
    "    plots[algo+'-E10'] = Ex1\n",
    "    plots[algo+'-E20'] = Ex2"
   ]
  },
  {
   "cell_type": "code",
   "execution_count": null,
   "id": "ce0aff83",
   "metadata": {},
   "outputs": [],
   "source": [
    "plotCompare(flux_range[:,0],Degeneracy,'Degeneracy-Optimal Circuits','flux profile',export='pdf',size=(600,800))"
   ]
  },
  {
   "cell_type": "code",
   "execution_count": null,
   "id": "a3c2e197",
   "metadata": {},
   "outputs": [],
   "source": [
    "plotCompare(flux_range[:,0],plots,'Spectrum-Optimal Circuits','flux profile','energy(GHz)',export='pdf',size=(600,800))"
   ]
  },
  {
   "cell_type": "code",
   "execution_count": null,
   "id": "6c5c6cee",
   "metadata": {},
   "outputs": [],
   "source": []
  }
 ],
 "metadata": {
  "@webio": {
   "lastCommId": null,
   "lastKernelId": null
  },
  "kernelspec": {
   "display_name": "Python 3 (ipykernel)",
   "language": "python",
   "name": "python3"
  },
  "language_info": {
   "codemirror_mode": {
    "name": "ipython",
    "version": 3
   },
   "file_extension": ".py",
   "mimetype": "text/x-python",
   "name": "python",
   "nbconvert_exporter": "python",
   "pygments_lexer": "ipython3",
   "version": "3.11.3"
  }
 },
 "nbformat": 4,
 "nbformat_minor": 5
}
