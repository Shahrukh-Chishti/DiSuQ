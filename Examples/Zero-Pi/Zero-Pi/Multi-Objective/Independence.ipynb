{
 "cells": [
  {
   "cell_type": "code",
   "execution_count": 1,
   "id": "0037a6df",
   "metadata": {},
   "outputs": [],
   "source": [
    "from DiSuQ.Torch import models\n",
    "from torch import tensor,stack\n",
    "from numpy import arange,linspace,meshgrid,array,log,argsort,pi\n",
    "from DiSuQ.utils import plotCompare,plotHeatmap,plotBox\n",
    "from DiSuQ.Torch.optimization import uniformParameters,truncNormalParameters,initializationSequential\n",
    "from DiSuQ.Torch import optimization\n",
    "from DiSuQ.Torch.optimization import lossDegeneracyTarget,lossDegeneracyWeighted\n",
    "from DiSuQ.Torch.components import indE,capE\n",
    "from torch import set_num_threads\n",
    "set_num_threads(32)"
   ]
  },
  {
   "cell_type": "code",
   "execution_count": 2,
   "id": "b2132fe9",
   "metadata": {},
   "outputs": [],
   "source": [
    "pairs = {'Lx':'Ly','Cx':'Cy','Jx':'Jy','CJx':'CJy'}"
   ]
  },
  {
   "cell_type": "code",
   "execution_count": 3,
   "id": "714d91a4",
   "metadata": {},
   "outputs": [
    {
     "name": "stdout",
     "output_type": "stream",
     "text": [
      "Inductance Bound(GHz): 1.6346151294983178 34.32691771946467\n",
      "Capacitance Bound(GHz): 0.38740458615415185 39.12786320156934\n",
      "Shunt Bound(GHz): 3.8740458615415188 158.83588032320228\n",
      "Junction Bound(GHz): 5.0 30.0\n"
     ]
    }
   ],
   "source": [
    "L_ = indE(1e-7); L0 = indE(5*1e-9); print('Inductance Bound(GHz):',L_,L0+L_)\n",
    "C0 = capE(5*1e-16); C_ = capE(1e-14*5) ; print('Capacitance Bound(GHz):',C_,C0+C_)\n",
    "CJ0 = capE(5*1e-16/4); CJ_ = capE(1e-14/2) ; print('Shunt Bound(GHz):',CJ_,CJ0+CJ_)\n",
    "J0 = 25. ; J_ = 5. ; print('Junction Bound(GHz):',J_,J0+J_)\n",
    "# components['Jx'].J0 = J0 ; components['Jy'].J0 = J0"
   ]
  },
  {
   "cell_type": "code",
   "execution_count": 4,
   "id": "f918a59b",
   "metadata": {},
   "outputs": [],
   "source": [
    "basis = [7,7,7] ; rep = 'Q'\n",
    "flux_point = ['Lx','Ly']\n",
    "circuit = models.zeroPi(basis,Ej=10.,Ec=5.,El=10.,EcJ=50.,sparse=False,symmetry=True,\n",
    "                        _L_=(L_,L0),_C_=(C_,C0),_J_=(J_,J0),_CJ_=(CJ_,CJ0))\n",
    "static = circuit.circuitState()"
   ]
  },
  {
   "cell_type": "code",
   "execution_count": 5,
   "id": "2d9bc9c9",
   "metadata": {},
   "outputs": [],
   "source": [
    "flux_profile = [{'Lx':tensor(.5),'Ly':tensor(0.0)},{'Lx':tensor(.45),'Ly':tensor(0.0)}]"
   ]
  },
  {
   "cell_type": "code",
   "execution_count": 6,
   "id": "d6605c32",
   "metadata": {},
   "outputs": [],
   "source": [
    "def optimizationAnalysis(init,subspace,Search,success=1.):\n",
    "    Loss,Success,Paths = [],[],[]\n",
    "    for index,(init,(dLogs,dParams,dCircuit)) in enumerate(zip(init,Search)):\n",
    "        Paths.append(dCircuit[subspace].to_numpy())\n",
    "        loss = dLogs['loss'].to_numpy()\n",
    "        Loss.append(loss[-1])\n",
    "        if loss[-1] < success:\n",
    "            Success.append(len(loss))\n",
    "    return Paths,Loss,Success"
   ]
  },
  {
   "cell_type": "code",
   "execution_count": 7,
   "id": "7ac44c09",
   "metadata": {},
   "outputs": [],
   "source": [
    "def analysisPlotting(Optimization,Algo=['LBFGS']):\n",
    "    paths = dict()\n",
    "    losse = dict()\n",
    "    for algo,(Paths,Loss,Success) in zip(Algo,Optimization):\n",
    "        indices = argsort(Loss)[0]\n",
    "        paths[algo] = Paths[indices]\n",
    "        losse[algo] = Loss\n",
    "    return paths,losse"
   ]
  },
  {
   "cell_type": "code",
   "execution_count": 8,
   "id": "9812be99",
   "metadata": {},
   "outputs": [],
   "source": [
    "def lossScapeBounds(paths):\n",
    "    Paths = []\n",
    "    for algo,path in paths.items():\n",
    "        Paths.append(path)\n",
    "    Paths = vstack(Paths)\n",
    "    Paths = Paths[:, ~isnan(Paths).any(axis=0)]\n",
    "    return Paths.min(0),Paths.max(0)"
   ]
  },
  {
   "cell_type": "code",
   "execution_count": 9,
   "id": "adf90cd4",
   "metadata": {},
   "outputs": [
    {
     "data": {
      "text/plain": [
       "10"
      ]
     },
     "execution_count": 9,
     "metadata": {},
     "output_type": "execute_result"
    }
   ],
   "source": [
    "N = 10; subspace = ['Lx','Cx','Jx','CJx']\n",
    "initials = truncNormalParameters(circuit,subspace,N=N,var=8)\n",
    "len(initials)"
   ]
  },
  {
   "cell_type": "code",
   "execution_count": 10,
   "id": "f25d7646",
   "metadata": {},
   "outputs": [
    {
     "data": {
      "text/plain": [
       "81"
      ]
     },
     "execution_count": 10,
     "metadata": {},
     "output_type": "execute_result"
    }
   ],
   "source": [
    "N = 3; subspace = ['Lx','Cx','Jx','CJx']\n",
    "initials = uniformParameters(circuit,subspace,N)\n",
    "len(initials)"
   ]
  },
  {
   "cell_type": "code",
   "execution_count": 11,
   "id": "5324b8b4",
   "metadata": {},
   "outputs": [],
   "source": [
    "optimizer = optimization.OrderingOptimization(circuit,representation=rep)"
   ]
  },
  {
   "cell_type": "markdown",
   "id": "1d1e35c4",
   "metadata": {},
   "source": [
    "### Degeneracy domination"
   ]
  },
  {
   "cell_type": "code",
   "execution_count": 12,
   "id": "555d52fe",
   "metadata": {},
   "outputs": [],
   "source": [
    "D0 = 1; delta0 = 0\n",
    "lossFunction = lossDegeneracyWeighted(delta0,D0)"
   ]
  },
  {
   "cell_type": "code",
   "execution_count": null,
   "id": "54c2f120",
   "metadata": {
    "scrolled": true
   },
   "outputs": [
    {
     "name": "stdout",
     "output_type": "stream",
     "text": [
      "{'Lx': 10.0, 'Ly': 10.0, 'Cx': 5.0, 'Cy': 5.0, 'Jx': 10.0, 'Jy': 10.0, 'CJx': 50.0, 'CJy': 50.0}\n",
      "0 {'Lx': 8.173075647491588, 'Ly': 10.0, 'Cx': 9.685114653853796, 'Cy': 5.0, 'Jx': 6.25, 'Jy': 10.0, 'CJx': 38.740458615415186, 'CJy': 50.0}\n",
      "RUNNING THE L-BFGS-B CODE\n",
      "\n",
      "           * * *\n",
      "\n",
      "Machine precision = 2.220D-16\n",
      " N =            4     M =           10\n",
      "\n",
      "At X0         0 variables are exactly at the bounds\n",
      "\n",
      "At iterate    0    f= -1.38786D-01    |proj g|=  1.11256D-01\n"
     ]
    }
   ],
   "source": [
    "LBFGS_D = []\n",
    "for index,parameter in enumerate(initials):\n",
    "    print(optimizer.circuitState())\n",
    "    print(index,parameter)\n",
    "    optimizer.circuit.initialization(parameter)  \n",
    "    optimizer.parameters,optimizer.IDs = optimizer.circuitParameters()\n",
    "    LBFGS_D.append(optimizer.minimization(lossFunction,flux_profile,\n",
    "                    method='L-BFGS-B',options=dict(ftol=1e-16,maxiter=15)))"
   ]
  },
  {
   "cell_type": "code",
   "execution_count": null,
   "id": "8ce0abe3",
   "metadata": {},
   "outputs": [],
   "source": [
    "Result = [optimizationAnalysis(initials,subspace,LBFGS_D)]\n",
    "paths_D,losse_D = analysisPlotting(Result)"
   ]
  },
  {
   "cell_type": "code",
   "execution_count": 24,
   "id": "e9178707",
   "metadata": {},
   "outputs": [
    {
     "data": {
      "application/vnd.plotly.v1+json": {
       "config": {
        "linkText": "Export to plot.ly",
        "plotlyServerURL": "https://plot.ly",
        "showLink": false
       },
       "data": [
        {
         "name": "LBFGS",
         "type": "box",
         "y": [
          -8.516526222229004,
          -8.889107704162598,
          -8.404634475708008,
          -11.829195022583008,
          -11.23607349395752,
          -10.790868759155273,
          -12.91374683380127,
          -14.592398643493652,
          -11.373745918273926,
          -9.08311939239502,
          -7.830742835998535,
          -0.9065513610839844,
          -12.398475646972656,
          -14.253019332885742,
          -9.019094467163086,
          -13.45827579498291,
          -9.55959701538086,
          -9.56462574005127,
          -8.739493370056152,
          -7.277519702911377,
          -0.7569345831871033,
          -9.426400184631348,
          -7.5058913230896,
          -8.689924240112305,
          -12.431504249572754,
          -10.97597599029541,
          -12.688485145568848,
          -8.874536514282227,
          -8.697077751159668,
          -10.046015739440918,
          -7.837174415588379,
          -13.598254203796387,
          null,
          -9.172884941101074,
          -9.069093704223633,
          -9.239508628845215,
          -9.103448867797852,
          -9.466669082641602,
          -0.9065513610839844,
          -8.38116455078125,
          -8.642255783081055,
          -8.670706748962402,
          -8.131967544555664,
          -12.333783149719238,
          -7.659284591674805,
          -9.058816909790039,
          -8.692859649658203,
          -9.071466445922852,
          -9.184781074523926,
          -8.572054862976074,
          -8.353399276733398,
          -8.031418800354004,
          null,
          -7.576396942138672,
          -7.5497612953186035,
          -7.451791286468506,
          -8.238426208496094,
          -8.56057357788086,
          -9.361708641052246,
          -8.9716215133667,
          -9.169347763061523,
          -9.05157470703125,
          -9.66683578491211,
          -8.19982624053955,
          -9.023805618286133,
          -8.776678085327148,
          -8.724041938781738,
          -8.929529190063477,
          -8.057258605957031,
          -9.356975555419922,
          -9.099313735961914,
          -8.36197566986084,
          -8.89444351196289,
          -7.760500431060791,
          -8.867566108703613,
          -7.658602714538574,
          -9.411142349243164,
          -9.079262733459473,
          -8.61024284362793,
          -9.342203140258789,
          -9.567519187927246
         ]
        }
       ],
       "layout": {
        "font": {
         "size": 30
        },
        "height": 300,
        "legend": {
         "x": 0.99,
         "xanchor": "right",
         "y": 0.99,
         "yanchor": "top"
        },
        "margin": {
         "r": 10,
         "t": 100
        },
        "showlegend": false,
        "template": {
         "data": {
          "bar": [
           {
            "error_x": {
             "color": "#2a3f5f"
            },
            "error_y": {
             "color": "#2a3f5f"
            },
            "marker": {
             "line": {
              "color": "#E5ECF6",
              "width": 0.5
             },
             "pattern": {
              "fillmode": "overlay",
              "size": 10,
              "solidity": 0.2
             }
            },
            "type": "bar"
           }
          ],
          "barpolar": [
           {
            "marker": {
             "line": {
              "color": "#E5ECF6",
              "width": 0.5
             },
             "pattern": {
              "fillmode": "overlay",
              "size": 10,
              "solidity": 0.2
             }
            },
            "type": "barpolar"
           }
          ],
          "carpet": [
           {
            "aaxis": {
             "endlinecolor": "#2a3f5f",
             "gridcolor": "white",
             "linecolor": "white",
             "minorgridcolor": "white",
             "startlinecolor": "#2a3f5f"
            },
            "baxis": {
             "endlinecolor": "#2a3f5f",
             "gridcolor": "white",
             "linecolor": "white",
             "minorgridcolor": "white",
             "startlinecolor": "#2a3f5f"
            },
            "type": "carpet"
           }
          ],
          "choropleth": [
           {
            "colorbar": {
             "outlinewidth": 0,
             "ticks": ""
            },
            "type": "choropleth"
           }
          ],
          "contour": [
           {
            "colorbar": {
             "outlinewidth": 0,
             "ticks": ""
            },
            "colorscale": [
             [
              0,
              "#0d0887"
             ],
             [
              0.1111111111111111,
              "#46039f"
             ],
             [
              0.2222222222222222,
              "#7201a8"
             ],
             [
              0.3333333333333333,
              "#9c179e"
             ],
             [
              0.4444444444444444,
              "#bd3786"
             ],
             [
              0.5555555555555556,
              "#d8576b"
             ],
             [
              0.6666666666666666,
              "#ed7953"
             ],
             [
              0.7777777777777778,
              "#fb9f3a"
             ],
             [
              0.8888888888888888,
              "#fdca26"
             ],
             [
              1,
              "#f0f921"
             ]
            ],
            "type": "contour"
           }
          ],
          "contourcarpet": [
           {
            "colorbar": {
             "outlinewidth": 0,
             "ticks": ""
            },
            "type": "contourcarpet"
           }
          ],
          "heatmap": [
           {
            "colorbar": {
             "outlinewidth": 0,
             "ticks": ""
            },
            "colorscale": [
             [
              0,
              "#0d0887"
             ],
             [
              0.1111111111111111,
              "#46039f"
             ],
             [
              0.2222222222222222,
              "#7201a8"
             ],
             [
              0.3333333333333333,
              "#9c179e"
             ],
             [
              0.4444444444444444,
              "#bd3786"
             ],
             [
              0.5555555555555556,
              "#d8576b"
             ],
             [
              0.6666666666666666,
              "#ed7953"
             ],
             [
              0.7777777777777778,
              "#fb9f3a"
             ],
             [
              0.8888888888888888,
              "#fdca26"
             ],
             [
              1,
              "#f0f921"
             ]
            ],
            "type": "heatmap"
           }
          ],
          "heatmapgl": [
           {
            "colorbar": {
             "outlinewidth": 0,
             "ticks": ""
            },
            "colorscale": [
             [
              0,
              "#0d0887"
             ],
             [
              0.1111111111111111,
              "#46039f"
             ],
             [
              0.2222222222222222,
              "#7201a8"
             ],
             [
              0.3333333333333333,
              "#9c179e"
             ],
             [
              0.4444444444444444,
              "#bd3786"
             ],
             [
              0.5555555555555556,
              "#d8576b"
             ],
             [
              0.6666666666666666,
              "#ed7953"
             ],
             [
              0.7777777777777778,
              "#fb9f3a"
             ],
             [
              0.8888888888888888,
              "#fdca26"
             ],
             [
              1,
              "#f0f921"
             ]
            ],
            "type": "heatmapgl"
           }
          ],
          "histogram": [
           {
            "marker": {
             "pattern": {
              "fillmode": "overlay",
              "size": 10,
              "solidity": 0.2
             }
            },
            "type": "histogram"
           }
          ],
          "histogram2d": [
           {
            "colorbar": {
             "outlinewidth": 0,
             "ticks": ""
            },
            "colorscale": [
             [
              0,
              "#0d0887"
             ],
             [
              0.1111111111111111,
              "#46039f"
             ],
             [
              0.2222222222222222,
              "#7201a8"
             ],
             [
              0.3333333333333333,
              "#9c179e"
             ],
             [
              0.4444444444444444,
              "#bd3786"
             ],
             [
              0.5555555555555556,
              "#d8576b"
             ],
             [
              0.6666666666666666,
              "#ed7953"
             ],
             [
              0.7777777777777778,
              "#fb9f3a"
             ],
             [
              0.8888888888888888,
              "#fdca26"
             ],
             [
              1,
              "#f0f921"
             ]
            ],
            "type": "histogram2d"
           }
          ],
          "histogram2dcontour": [
           {
            "colorbar": {
             "outlinewidth": 0,
             "ticks": ""
            },
            "colorscale": [
             [
              0,
              "#0d0887"
             ],
             [
              0.1111111111111111,
              "#46039f"
             ],
             [
              0.2222222222222222,
              "#7201a8"
             ],
             [
              0.3333333333333333,
              "#9c179e"
             ],
             [
              0.4444444444444444,
              "#bd3786"
             ],
             [
              0.5555555555555556,
              "#d8576b"
             ],
             [
              0.6666666666666666,
              "#ed7953"
             ],
             [
              0.7777777777777778,
              "#fb9f3a"
             ],
             [
              0.8888888888888888,
              "#fdca26"
             ],
             [
              1,
              "#f0f921"
             ]
            ],
            "type": "histogram2dcontour"
           }
          ],
          "mesh3d": [
           {
            "colorbar": {
             "outlinewidth": 0,
             "ticks": ""
            },
            "type": "mesh3d"
           }
          ],
          "parcoords": [
           {
            "line": {
             "colorbar": {
              "outlinewidth": 0,
              "ticks": ""
             }
            },
            "type": "parcoords"
           }
          ],
          "pie": [
           {
            "automargin": true,
            "type": "pie"
           }
          ],
          "scatter": [
           {
            "fillpattern": {
             "fillmode": "overlay",
             "size": 10,
             "solidity": 0.2
            },
            "type": "scatter"
           }
          ],
          "scatter3d": [
           {
            "line": {
             "colorbar": {
              "outlinewidth": 0,
              "ticks": ""
             }
            },
            "marker": {
             "colorbar": {
              "outlinewidth": 0,
              "ticks": ""
             }
            },
            "type": "scatter3d"
           }
          ],
          "scattercarpet": [
           {
            "marker": {
             "colorbar": {
              "outlinewidth": 0,
              "ticks": ""
             }
            },
            "type": "scattercarpet"
           }
          ],
          "scattergeo": [
           {
            "marker": {
             "colorbar": {
              "outlinewidth": 0,
              "ticks": ""
             }
            },
            "type": "scattergeo"
           }
          ],
          "scattergl": [
           {
            "marker": {
             "colorbar": {
              "outlinewidth": 0,
              "ticks": ""
             }
            },
            "type": "scattergl"
           }
          ],
          "scattermapbox": [
           {
            "marker": {
             "colorbar": {
              "outlinewidth": 0,
              "ticks": ""
             }
            },
            "type": "scattermapbox"
           }
          ],
          "scatterpolar": [
           {
            "marker": {
             "colorbar": {
              "outlinewidth": 0,
              "ticks": ""
             }
            },
            "type": "scatterpolar"
           }
          ],
          "scatterpolargl": [
           {
            "marker": {
             "colorbar": {
              "outlinewidth": 0,
              "ticks": ""
             }
            },
            "type": "scatterpolargl"
           }
          ],
          "scatterternary": [
           {
            "marker": {
             "colorbar": {
              "outlinewidth": 0,
              "ticks": ""
             }
            },
            "type": "scatterternary"
           }
          ],
          "surface": [
           {
            "colorbar": {
             "outlinewidth": 0,
             "ticks": ""
            },
            "colorscale": [
             [
              0,
              "#0d0887"
             ],
             [
              0.1111111111111111,
              "#46039f"
             ],
             [
              0.2222222222222222,
              "#7201a8"
             ],
             [
              0.3333333333333333,
              "#9c179e"
             ],
             [
              0.4444444444444444,
              "#bd3786"
             ],
             [
              0.5555555555555556,
              "#d8576b"
             ],
             [
              0.6666666666666666,
              "#ed7953"
             ],
             [
              0.7777777777777778,
              "#fb9f3a"
             ],
             [
              0.8888888888888888,
              "#fdca26"
             ],
             [
              1,
              "#f0f921"
             ]
            ],
            "type": "surface"
           }
          ],
          "table": [
           {
            "cells": {
             "fill": {
              "color": "#EBF0F8"
             },
             "line": {
              "color": "white"
             }
            },
            "header": {
             "fill": {
              "color": "#C8D4E3"
             },
             "line": {
              "color": "white"
             }
            },
            "type": "table"
           }
          ]
         },
         "layout": {
          "annotationdefaults": {
           "arrowcolor": "#2a3f5f",
           "arrowhead": 0,
           "arrowwidth": 1
          },
          "autotypenumbers": "strict",
          "coloraxis": {
           "colorbar": {
            "outlinewidth": 0,
            "ticks": ""
           }
          },
          "colorscale": {
           "diverging": [
            [
             0,
             "#8e0152"
            ],
            [
             0.1,
             "#c51b7d"
            ],
            [
             0.2,
             "#de77ae"
            ],
            [
             0.3,
             "#f1b6da"
            ],
            [
             0.4,
             "#fde0ef"
            ],
            [
             0.5,
             "#f7f7f7"
            ],
            [
             0.6,
             "#e6f5d0"
            ],
            [
             0.7,
             "#b8e186"
            ],
            [
             0.8,
             "#7fbc41"
            ],
            [
             0.9,
             "#4d9221"
            ],
            [
             1,
             "#276419"
            ]
           ],
           "sequential": [
            [
             0,
             "#0d0887"
            ],
            [
             0.1111111111111111,
             "#46039f"
            ],
            [
             0.2222222222222222,
             "#7201a8"
            ],
            [
             0.3333333333333333,
             "#9c179e"
            ],
            [
             0.4444444444444444,
             "#bd3786"
            ],
            [
             0.5555555555555556,
             "#d8576b"
            ],
            [
             0.6666666666666666,
             "#ed7953"
            ],
            [
             0.7777777777777778,
             "#fb9f3a"
            ],
            [
             0.8888888888888888,
             "#fdca26"
            ],
            [
             1,
             "#f0f921"
            ]
           ],
           "sequentialminus": [
            [
             0,
             "#0d0887"
            ],
            [
             0.1111111111111111,
             "#46039f"
            ],
            [
             0.2222222222222222,
             "#7201a8"
            ],
            [
             0.3333333333333333,
             "#9c179e"
            ],
            [
             0.4444444444444444,
             "#bd3786"
            ],
            [
             0.5555555555555556,
             "#d8576b"
            ],
            [
             0.6666666666666666,
             "#ed7953"
            ],
            [
             0.7777777777777778,
             "#fb9f3a"
            ],
            [
             0.8888888888888888,
             "#fdca26"
            ],
            [
             1,
             "#f0f921"
            ]
           ]
          },
          "colorway": [
           "#636efa",
           "#EF553B",
           "#00cc96",
           "#ab63fa",
           "#FFA15A",
           "#19d3f3",
           "#FF6692",
           "#B6E880",
           "#FF97FF",
           "#FECB52"
          ],
          "font": {
           "color": "#2a3f5f"
          },
          "geo": {
           "bgcolor": "white",
           "lakecolor": "white",
           "landcolor": "#E5ECF6",
           "showlakes": true,
           "showland": true,
           "subunitcolor": "white"
          },
          "hoverlabel": {
           "align": "left"
          },
          "hovermode": "closest",
          "mapbox": {
           "style": "light"
          },
          "paper_bgcolor": "white",
          "plot_bgcolor": "#E5ECF6",
          "polar": {
           "angularaxis": {
            "gridcolor": "white",
            "linecolor": "white",
            "ticks": ""
           },
           "bgcolor": "#E5ECF6",
           "radialaxis": {
            "gridcolor": "white",
            "linecolor": "white",
            "ticks": ""
           }
          },
          "scene": {
           "xaxis": {
            "backgroundcolor": "#E5ECF6",
            "gridcolor": "white",
            "gridwidth": 2,
            "linecolor": "white",
            "showbackground": true,
            "ticks": "",
            "zerolinecolor": "white"
           },
           "yaxis": {
            "backgroundcolor": "#E5ECF6",
            "gridcolor": "white",
            "gridwidth": 2,
            "linecolor": "white",
            "showbackground": true,
            "ticks": "",
            "zerolinecolor": "white"
           },
           "zaxis": {
            "backgroundcolor": "#E5ECF6",
            "gridcolor": "white",
            "gridwidth": 2,
            "linecolor": "white",
            "showbackground": true,
            "ticks": "",
            "zerolinecolor": "white"
           }
          },
          "shapedefaults": {
           "line": {
            "color": "#2a3f5f"
           }
          },
          "ternary": {
           "aaxis": {
            "gridcolor": "white",
            "linecolor": "white",
            "ticks": ""
           },
           "baxis": {
            "gridcolor": "white",
            "linecolor": "white",
            "ticks": ""
           },
           "bgcolor": "#E5ECF6",
           "caxis": {
            "gridcolor": "white",
            "linecolor": "white",
            "ticks": ""
           }
          },
          "title": {
           "x": 0.05
          },
          "xaxis": {
           "automargin": true,
           "gridcolor": "white",
           "linecolor": "white",
           "ticks": "",
           "title": {
            "standoff": 15
           },
           "zerolinecolor": "white",
           "zerolinewidth": 2
          },
          "yaxis": {
           "automargin": true,
           "gridcolor": "white",
           "linecolor": "white",
           "ticks": "",
           "title": {
            "standoff": 15
           },
           "zerolinecolor": "white",
           "zerolinewidth": 2
          }
         }
        },
        "title": {
         "text": "Loss-Degeneracy Distribution"
        },
        "width": 400
       }
      },
      "text/html": [
       "<div>                            <div id=\"105e5125-5781-412a-a0b4-cdcaa3c2b4f5\" class=\"plotly-graph-div\" style=\"height:300px; width:400px;\"></div>            <script type=\"text/javascript\">                require([\"plotly\"], function(Plotly) {                    window.PLOTLYENV=window.PLOTLYENV || {};                                    if (document.getElementById(\"105e5125-5781-412a-a0b4-cdcaa3c2b4f5\")) {                    Plotly.newPlot(                        \"105e5125-5781-412a-a0b4-cdcaa3c2b4f5\",                        [{\"name\":\"LBFGS\",\"y\":[-8.516526222229004,-8.889107704162598,-8.404634475708008,-11.829195022583008,-11.23607349395752,-10.790868759155273,-12.91374683380127,-14.592398643493652,-11.373745918273926,-9.08311939239502,-7.830742835998535,-0.9065513610839844,-12.398475646972656,-14.253019332885742,-9.019094467163086,-13.45827579498291,-9.55959701538086,-9.56462574005127,-8.739493370056152,-7.277519702911377,-0.7569345831871033,-9.426400184631348,-7.5058913230896,-8.689924240112305,-12.431504249572754,-10.97597599029541,-12.688485145568848,-8.874536514282227,-8.697077751159668,-10.046015739440918,-7.837174415588379,-13.598254203796387,null,-9.172884941101074,-9.069093704223633,-9.239508628845215,-9.103448867797852,-9.466669082641602,-0.9065513610839844,-8.38116455078125,-8.642255783081055,-8.670706748962402,-8.131967544555664,-12.333783149719238,-7.659284591674805,-9.058816909790039,-8.692859649658203,-9.071466445922852,-9.184781074523926,-8.572054862976074,-8.353399276733398,-8.031418800354004,null,-7.576396942138672,-7.5497612953186035,-7.451791286468506,-8.238426208496094,-8.56057357788086,-9.361708641052246,-8.9716215133667,-9.169347763061523,-9.05157470703125,-9.66683578491211,-8.19982624053955,-9.023805618286133,-8.776678085327148,-8.724041938781738,-8.929529190063477,-8.057258605957031,-9.356975555419922,-9.099313735961914,-8.36197566986084,-8.89444351196289,-7.760500431060791,-8.867566108703613,-7.658602714538574,-9.411142349243164,-9.079262733459473,-8.61024284362793,-9.342203140258789,-9.567519187927246],\"type\":\"box\"}],                        {\"font\":{\"size\":30},\"height\":300,\"legend\":{\"x\":0.99,\"xanchor\":\"right\",\"y\":0.99,\"yanchor\":\"top\"},\"margin\":{\"r\":10,\"t\":100},\"showlegend\":false,\"template\":{\"data\":{\"barpolar\":[{\"marker\":{\"line\":{\"color\":\"#E5ECF6\",\"width\":0.5},\"pattern\":{\"fillmode\":\"overlay\",\"size\":10,\"solidity\":0.2}},\"type\":\"barpolar\"}],\"bar\":[{\"error_x\":{\"color\":\"#2a3f5f\"},\"error_y\":{\"color\":\"#2a3f5f\"},\"marker\":{\"line\":{\"color\":\"#E5ECF6\",\"width\":0.5},\"pattern\":{\"fillmode\":\"overlay\",\"size\":10,\"solidity\":0.2}},\"type\":\"bar\"}],\"carpet\":[{\"aaxis\":{\"endlinecolor\":\"#2a3f5f\",\"gridcolor\":\"white\",\"linecolor\":\"white\",\"minorgridcolor\":\"white\",\"startlinecolor\":\"#2a3f5f\"},\"baxis\":{\"endlinecolor\":\"#2a3f5f\",\"gridcolor\":\"white\",\"linecolor\":\"white\",\"minorgridcolor\":\"white\",\"startlinecolor\":\"#2a3f5f\"},\"type\":\"carpet\"}],\"choropleth\":[{\"colorbar\":{\"outlinewidth\":0,\"ticks\":\"\"},\"type\":\"choropleth\"}],\"contourcarpet\":[{\"colorbar\":{\"outlinewidth\":0,\"ticks\":\"\"},\"type\":\"contourcarpet\"}],\"contour\":[{\"colorbar\":{\"outlinewidth\":0,\"ticks\":\"\"},\"colorscale\":[[0.0,\"#0d0887\"],[0.1111111111111111,\"#46039f\"],[0.2222222222222222,\"#7201a8\"],[0.3333333333333333,\"#9c179e\"],[0.4444444444444444,\"#bd3786\"],[0.5555555555555556,\"#d8576b\"],[0.6666666666666666,\"#ed7953\"],[0.7777777777777778,\"#fb9f3a\"],[0.8888888888888888,\"#fdca26\"],[1.0,\"#f0f921\"]],\"type\":\"contour\"}],\"heatmapgl\":[{\"colorbar\":{\"outlinewidth\":0,\"ticks\":\"\"},\"colorscale\":[[0.0,\"#0d0887\"],[0.1111111111111111,\"#46039f\"],[0.2222222222222222,\"#7201a8\"],[0.3333333333333333,\"#9c179e\"],[0.4444444444444444,\"#bd3786\"],[0.5555555555555556,\"#d8576b\"],[0.6666666666666666,\"#ed7953\"],[0.7777777777777778,\"#fb9f3a\"],[0.8888888888888888,\"#fdca26\"],[1.0,\"#f0f921\"]],\"type\":\"heatmapgl\"}],\"heatmap\":[{\"colorbar\":{\"outlinewidth\":0,\"ticks\":\"\"},\"colorscale\":[[0.0,\"#0d0887\"],[0.1111111111111111,\"#46039f\"],[0.2222222222222222,\"#7201a8\"],[0.3333333333333333,\"#9c179e\"],[0.4444444444444444,\"#bd3786\"],[0.5555555555555556,\"#d8576b\"],[0.6666666666666666,\"#ed7953\"],[0.7777777777777778,\"#fb9f3a\"],[0.8888888888888888,\"#fdca26\"],[1.0,\"#f0f921\"]],\"type\":\"heatmap\"}],\"histogram2dcontour\":[{\"colorbar\":{\"outlinewidth\":0,\"ticks\":\"\"},\"colorscale\":[[0.0,\"#0d0887\"],[0.1111111111111111,\"#46039f\"],[0.2222222222222222,\"#7201a8\"],[0.3333333333333333,\"#9c179e\"],[0.4444444444444444,\"#bd3786\"],[0.5555555555555556,\"#d8576b\"],[0.6666666666666666,\"#ed7953\"],[0.7777777777777778,\"#fb9f3a\"],[0.8888888888888888,\"#fdca26\"],[1.0,\"#f0f921\"]],\"type\":\"histogram2dcontour\"}],\"histogram2d\":[{\"colorbar\":{\"outlinewidth\":0,\"ticks\":\"\"},\"colorscale\":[[0.0,\"#0d0887\"],[0.1111111111111111,\"#46039f\"],[0.2222222222222222,\"#7201a8\"],[0.3333333333333333,\"#9c179e\"],[0.4444444444444444,\"#bd3786\"],[0.5555555555555556,\"#d8576b\"],[0.6666666666666666,\"#ed7953\"],[0.7777777777777778,\"#fb9f3a\"],[0.8888888888888888,\"#fdca26\"],[1.0,\"#f0f921\"]],\"type\":\"histogram2d\"}],\"histogram\":[{\"marker\":{\"pattern\":{\"fillmode\":\"overlay\",\"size\":10,\"solidity\":0.2}},\"type\":\"histogram\"}],\"mesh3d\":[{\"colorbar\":{\"outlinewidth\":0,\"ticks\":\"\"},\"type\":\"mesh3d\"}],\"parcoords\":[{\"line\":{\"colorbar\":{\"outlinewidth\":0,\"ticks\":\"\"}},\"type\":\"parcoords\"}],\"pie\":[{\"automargin\":true,\"type\":\"pie\"}],\"scatter3d\":[{\"line\":{\"colorbar\":{\"outlinewidth\":0,\"ticks\":\"\"}},\"marker\":{\"colorbar\":{\"outlinewidth\":0,\"ticks\":\"\"}},\"type\":\"scatter3d\"}],\"scattercarpet\":[{\"marker\":{\"colorbar\":{\"outlinewidth\":0,\"ticks\":\"\"}},\"type\":\"scattercarpet\"}],\"scattergeo\":[{\"marker\":{\"colorbar\":{\"outlinewidth\":0,\"ticks\":\"\"}},\"type\":\"scattergeo\"}],\"scattergl\":[{\"marker\":{\"colorbar\":{\"outlinewidth\":0,\"ticks\":\"\"}},\"type\":\"scattergl\"}],\"scattermapbox\":[{\"marker\":{\"colorbar\":{\"outlinewidth\":0,\"ticks\":\"\"}},\"type\":\"scattermapbox\"}],\"scatterpolargl\":[{\"marker\":{\"colorbar\":{\"outlinewidth\":0,\"ticks\":\"\"}},\"type\":\"scatterpolargl\"}],\"scatterpolar\":[{\"marker\":{\"colorbar\":{\"outlinewidth\":0,\"ticks\":\"\"}},\"type\":\"scatterpolar\"}],\"scatter\":[{\"fillpattern\":{\"fillmode\":\"overlay\",\"size\":10,\"solidity\":0.2},\"type\":\"scatter\"}],\"scatterternary\":[{\"marker\":{\"colorbar\":{\"outlinewidth\":0,\"ticks\":\"\"}},\"type\":\"scatterternary\"}],\"surface\":[{\"colorbar\":{\"outlinewidth\":0,\"ticks\":\"\"},\"colorscale\":[[0.0,\"#0d0887\"],[0.1111111111111111,\"#46039f\"],[0.2222222222222222,\"#7201a8\"],[0.3333333333333333,\"#9c179e\"],[0.4444444444444444,\"#bd3786\"],[0.5555555555555556,\"#d8576b\"],[0.6666666666666666,\"#ed7953\"],[0.7777777777777778,\"#fb9f3a\"],[0.8888888888888888,\"#fdca26\"],[1.0,\"#f0f921\"]],\"type\":\"surface\"}],\"table\":[{\"cells\":{\"fill\":{\"color\":\"#EBF0F8\"},\"line\":{\"color\":\"white\"}},\"header\":{\"fill\":{\"color\":\"#C8D4E3\"},\"line\":{\"color\":\"white\"}},\"type\":\"table\"}]},\"layout\":{\"annotationdefaults\":{\"arrowcolor\":\"#2a3f5f\",\"arrowhead\":0,\"arrowwidth\":1},\"autotypenumbers\":\"strict\",\"coloraxis\":{\"colorbar\":{\"outlinewidth\":0,\"ticks\":\"\"}},\"colorscale\":{\"diverging\":[[0,\"#8e0152\"],[0.1,\"#c51b7d\"],[0.2,\"#de77ae\"],[0.3,\"#f1b6da\"],[0.4,\"#fde0ef\"],[0.5,\"#f7f7f7\"],[0.6,\"#e6f5d0\"],[0.7,\"#b8e186\"],[0.8,\"#7fbc41\"],[0.9,\"#4d9221\"],[1,\"#276419\"]],\"sequential\":[[0.0,\"#0d0887\"],[0.1111111111111111,\"#46039f\"],[0.2222222222222222,\"#7201a8\"],[0.3333333333333333,\"#9c179e\"],[0.4444444444444444,\"#bd3786\"],[0.5555555555555556,\"#d8576b\"],[0.6666666666666666,\"#ed7953\"],[0.7777777777777778,\"#fb9f3a\"],[0.8888888888888888,\"#fdca26\"],[1.0,\"#f0f921\"]],\"sequentialminus\":[[0.0,\"#0d0887\"],[0.1111111111111111,\"#46039f\"],[0.2222222222222222,\"#7201a8\"],[0.3333333333333333,\"#9c179e\"],[0.4444444444444444,\"#bd3786\"],[0.5555555555555556,\"#d8576b\"],[0.6666666666666666,\"#ed7953\"],[0.7777777777777778,\"#fb9f3a\"],[0.8888888888888888,\"#fdca26\"],[1.0,\"#f0f921\"]]},\"colorway\":[\"#636efa\",\"#EF553B\",\"#00cc96\",\"#ab63fa\",\"#FFA15A\",\"#19d3f3\",\"#FF6692\",\"#B6E880\",\"#FF97FF\",\"#FECB52\"],\"font\":{\"color\":\"#2a3f5f\"},\"geo\":{\"bgcolor\":\"white\",\"lakecolor\":\"white\",\"landcolor\":\"#E5ECF6\",\"showlakes\":true,\"showland\":true,\"subunitcolor\":\"white\"},\"hoverlabel\":{\"align\":\"left\"},\"hovermode\":\"closest\",\"mapbox\":{\"style\":\"light\"},\"paper_bgcolor\":\"white\",\"plot_bgcolor\":\"#E5ECF6\",\"polar\":{\"angularaxis\":{\"gridcolor\":\"white\",\"linecolor\":\"white\",\"ticks\":\"\"},\"bgcolor\":\"#E5ECF6\",\"radialaxis\":{\"gridcolor\":\"white\",\"linecolor\":\"white\",\"ticks\":\"\"}},\"scene\":{\"xaxis\":{\"backgroundcolor\":\"#E5ECF6\",\"gridcolor\":\"white\",\"gridwidth\":2,\"linecolor\":\"white\",\"showbackground\":true,\"ticks\":\"\",\"zerolinecolor\":\"white\"},\"yaxis\":{\"backgroundcolor\":\"#E5ECF6\",\"gridcolor\":\"white\",\"gridwidth\":2,\"linecolor\":\"white\",\"showbackground\":true,\"ticks\":\"\",\"zerolinecolor\":\"white\"},\"zaxis\":{\"backgroundcolor\":\"#E5ECF6\",\"gridcolor\":\"white\",\"gridwidth\":2,\"linecolor\":\"white\",\"showbackground\":true,\"ticks\":\"\",\"zerolinecolor\":\"white\"}},\"shapedefaults\":{\"line\":{\"color\":\"#2a3f5f\"}},\"ternary\":{\"aaxis\":{\"gridcolor\":\"white\",\"linecolor\":\"white\",\"ticks\":\"\"},\"baxis\":{\"gridcolor\":\"white\",\"linecolor\":\"white\",\"ticks\":\"\"},\"bgcolor\":\"#E5ECF6\",\"caxis\":{\"gridcolor\":\"white\",\"linecolor\":\"white\",\"ticks\":\"\"}},\"title\":{\"x\":0.05},\"xaxis\":{\"automargin\":true,\"gridcolor\":\"white\",\"linecolor\":\"white\",\"ticks\":\"\",\"title\":{\"standoff\":15},\"zerolinecolor\":\"white\",\"zerolinewidth\":2},\"yaxis\":{\"automargin\":true,\"gridcolor\":\"white\",\"linecolor\":\"white\",\"ticks\":\"\",\"title\":{\"standoff\":15},\"zerolinecolor\":\"white\",\"zerolinewidth\":2}}},\"title\":{\"text\":\"Loss-Degeneracy Distribution\"},\"width\":400},                        {\"responsive\": true}                    ).then(function(){\n",
       "                            \n",
       "var gd = document.getElementById('105e5125-5781-412a-a0b4-cdcaa3c2b4f5');\n",
       "var x = new MutationObserver(function (mutations, observer) {{\n",
       "        var display = window.getComputedStyle(gd).display;\n",
       "        if (!display || display === 'none') {{\n",
       "            console.log([gd, 'removed!']);\n",
       "            Plotly.purge(gd);\n",
       "            observer.disconnect();\n",
       "        }}\n",
       "}});\n",
       "\n",
       "// Listen for the removal of the full notebook cells\n",
       "var notebookContainer = gd.closest('#notebook-container');\n",
       "if (notebookContainer) {{\n",
       "    x.observe(notebookContainer, {childList: true});\n",
       "}}\n",
       "\n",
       "// Listen for the clearing of the current output cell\n",
       "var outputEl = gd.closest('.output');\n",
       "if (outputEl) {{\n",
       "    x.observe(outputEl, {childList: true});\n",
       "}}\n",
       "\n",
       "                        })                };                });            </script>        </div>"
      ]
     },
     "metadata": {},
     "output_type": "display_data"
    }
   ],
   "source": [
    "plotBox(losse_D,'Loss-Degeneracy Distribution',export='pdf',size=(300,400))"
   ]
  },
  {
   "cell_type": "markdown",
   "id": "7059ea27",
   "metadata": {},
   "source": [
    "### Delta domination"
   ]
  },
  {
   "cell_type": "code",
   "execution_count": 25,
   "id": "cfa255d2",
   "metadata": {},
   "outputs": [],
   "source": [
    "D0 = 0; delta0 = 1\n",
    "lossFunction = lossDegeneracyWeighted(delta0,D0)"
   ]
  },
  {
   "cell_type": "code",
   "execution_count": null,
   "id": "1a6d8992",
   "metadata": {
    "scrolled": true
   },
   "outputs": [
    {
     "name": "stdout",
     "output_type": "stream",
     "text": [
      "{'Lx': 16.345783233642578, 'Ly': 16.345783233642578, 'Cx': 19.370576858520508, 'Cy': 19.370576858520508, 'Jx': 6.2498321533203125, 'Jy': 6.2498321533203125, 'CJx': 116.22157287597656, 'CJy': 116.22157287597656}\n",
      "0 {'Lx': 8.173075647491588, 'Ly': 10.0, 'Cx': 9.685114653853796, 'Cy': 5.0, 'Jx': 6.25, 'Jy': 10.0, 'CJx': 38.740458615415186, 'CJy': 50.0}\n",
      "RUNNING THE L-BFGS-B CODE\n",
      "\n",
      "           * * *\n",
      "\n",
      "Machine precision = 2.220D-16\n",
      " N =            4     M =           10\n",
      "\n",
      "At X0         0 variables are exactly at the bounds\n",
      "\n",
      "At iterate    0    f= -6.58795D+00    |proj g|=  8.93699D-01\n",
      "\n",
      "At iterate    1    f= -6.84227D+00    |proj g|=  8.23959D-01\n"
     ]
    },
    {
     "name": "stderr",
     "output_type": "stream",
     "text": [
      "/Users/chishti/JupyterHub/DiSuQ/Torch/components.py:72: RuntimeWarning:\n",
      "\n",
      "divide by zero encountered in scalar divide\n",
      "\n"
     ]
    },
    {
     "name": "stdout",
     "output_type": "stream",
     "text": [
      "\n",
      "At iterate    2    f= -1.00987D+01    |proj g|=  1.23035D+00\n",
      "\n",
      "At iterate    3    f= -1.02568D+01    |proj g|=  7.68045D-01\n",
      "\n",
      "At iterate    4    f= -1.13030D+01    |proj g|=  2.32183D+00\n",
      "  ys=-2.280E+00  -gs= 1.282E+00 BFGS update SKIPPED\n",
      "\n",
      "At iterate    5    f= -1.60391D+01    |proj g|=  0.00000D+00\n",
      "\n",
      "           * * *\n",
      "\n",
      "Tit   = total number of iterations\n",
      "Tnf   = total number of function evaluations\n",
      "Tnint = total number of segments explored during Cauchy searches\n",
      "Skip  = number of BFGS updates skipped\n",
      "Nact  = number of active bounds at final generalized Cauchy point\n",
      "Projg = norm of the final projected gradient\n",
      "F     = final function value\n",
      "\n",
      "           * * *\n",
      "\n",
      "   N    Tit     Tnf  Tnint  Skip  Nact     Projg        F\n",
      "    4      5     13      9     1     4   0.000D+00  -1.604D+01\n",
      "  F =  -16.039117813110352     \n",
      "\n",
      "CONVERGENCE: NORM_OF_PROJECTED_GRADIENT_<=_PGTOL            \n",
      "{'Lx': 1.634615182876587, 'Ly': 1.634615182876587, 'Cx': 39.127864837646484, 'Cy': 39.127864837646484, 'Jx': 5.0, 'Jy': 5.0, 'CJx': 158.83587646484375, 'CJy': 158.83587646484375}\n",
      "1 {'Lx': 8.173075647491588, 'Ly': 10.0, 'Cx': 9.685114653853796, 'Cy': 5.0, 'Jx': 6.25, 'Jy': 10.0, 'CJx': 77.48091723083037, 'CJy': 50.0}\n",
      "RUNNING THE L-BFGS-B CODE\n",
      "\n",
      "           * * *\n",
      "\n",
      "Machine precision = 2.220D-16\n",
      " N =            4     M =           10\n",
      "\n",
      "At X0         0 variables are exactly at the bounds\n",
      "\n",
      "At iterate    0    f= -7.46071D+00    |proj g|=  8.30559D-01\n",
      "\n",
      "At iterate    1    f= -7.58572D+00    |proj g|=  8.03793D-01\n",
      "\n",
      "At iterate    2    f= -9.70393D+00    |proj g|=  2.92380D-01\n",
      "\n",
      "At iterate    3    f= -9.96959D+00    |proj g|=  2.95278D-01\n",
      "\n",
      "At iterate    4    f= -1.07477D+01    |proj g|=  7.24819D-01\n",
      "\n",
      "At iterate    5    f= -1.09689D+01    |proj g|=  1.03030D+00\n",
      "  ys=-1.660E-03  -gs= 4.198E-03 BFGS update SKIPPED\n",
      "\n",
      "At iterate    6    f= -1.09689D+01    |proj g|=  1.03030D+00\n",
      "\n",
      "           * * *\n",
      "\n",
      "Tit   = total number of iterations\n",
      "Tnf   = total number of function evaluations\n",
      "Tnint = total number of segments explored during Cauchy searches\n",
      "Skip  = number of BFGS updates skipped\n",
      "Nact  = number of active bounds at final generalized Cauchy point\n",
      "Projg = norm of the final projected gradient\n",
      "F     = final function value\n",
      "\n",
      "           * * *\n",
      "\n",
      "   N    Tit     Tnf  Tnint  Skip  Nact     Projg        F\n",
      "    4      6     34      8     1     2   1.030D+00  -1.097D+01\n",
      "  F =  -10.968888282775879     \n",
      "\n",
      "CONVERGENCE: REL_REDUCTION_OF_F_<=_FACTR*EPSMCH             \n",
      "{'Lx': 1.634615182876587, 'Ly': 1.634615182876587, 'Cx': 36.68734359741211, 'Cy': 36.68734359741211, 'Jx': 5.0, 'Jy': 5.0, 'CJx': 89.55558013916016, 'CJy': 89.55558013916016}\n",
      "2 {'Lx': 8.173075647491588, 'Ly': 10.0, 'Cx': 9.685114653853796, 'Cy': 5.0, 'Jx': 6.25, 'Jy': 10.0, 'CJx': 116.22137584624556, 'CJy': 50.0}\n"
     ]
    },
    {
     "name": "stderr",
     "output_type": "stream",
     "text": [
      "\n",
      " Warning:  more than 10 function and gradient\n",
      "   evaluations in the last line search.  Termination\n",
      "   may possibly be caused by a bad search direction.\n"
     ]
    },
    {
     "name": "stdout",
     "output_type": "stream",
     "text": [
      "RUNNING THE L-BFGS-B CODE\n",
      "\n",
      "           * * *\n",
      "\n",
      "Machine precision = 2.220D-16\n",
      " N =            4     M =           10\n",
      "\n",
      "At X0         0 variables are exactly at the bounds\n",
      "\n",
      "At iterate    0    f= -8.16274D+00    |proj g|=  1.19679D+00\n",
      "\n",
      "At iterate    1    f= -8.92018D+00    |proj g|=  1.94632D+00\n",
      "  ys=-1.116E+00  -gs= 2.715E+00 BFGS update SKIPPED\n",
      "\n",
      "At iterate    2    f= -8.92018D+00    |proj g|=  1.94632D+00\n"
     ]
    },
    {
     "name": "stderr",
     "output_type": "stream",
     "text": [
      "\n",
      " Warning:  more than 10 function and gradient\n",
      "   evaluations in the last line search.  Termination\n",
      "   may possibly be caused by a bad search direction.\n"
     ]
    },
    {
     "name": "stdout",
     "output_type": "stream",
     "text": [
      "\n",
      "           * * *\n",
      "\n",
      "Tit   = total number of iterations\n",
      "Tnf   = total number of function evaluations\n",
      "Tnint = total number of segments explored during Cauchy searches\n",
      "Skip  = number of BFGS updates skipped\n",
      "Nact  = number of active bounds at final generalized Cauchy point\n",
      "Projg = norm of the final projected gradient\n",
      "F     = final function value\n",
      "\n",
      "           * * *\n",
      "\n",
      "   N    Tit     Tnf  Tnint  Skip  Nact     Projg        F\n",
      "{'Lx': 6.976283073425293, 'Ly': 6.976283073425293, 'Cx': 10.695221900939941, 'Cy': 10.695221900939941, 'Jx': 5.943885326385498, 'Jy': 5.943885326385498, 'CJx': 116.63265228271484, 'CJy': 116.63265228271484}\n",
      "3 {'Lx': 8.173075647491588, 'Ly': 10.0, 'Cx': 9.685114653853796, 'Cy': 5.0, 'Jx': 12.5, 'Jy': 10.0, 'CJx': 38.740458615415186, 'CJy': 50.0}\n",
      "    4      2     22      2     1     0   1.946D+00  -8.920D+00\n",
      "  F =  -8.9201831817626953     \n",
      "\n",
      "CONVERGENCE: REL_REDUCTION_OF_F_<=_FACTR*EPSMCH             \n",
      "RUNNING THE L-BFGS-B CODE\n",
      "\n",
      "           * * *\n",
      "\n",
      "Machine precision = 2.220D-16\n",
      " N =            4     M =           10\n",
      "\n",
      "At X0         0 variables are exactly at the bounds\n",
      "\n",
      "At iterate    0    f= -5.61960D+00    |proj g|=  9.93584D-01\n",
      "\n",
      "At iterate    1    f= -5.97532D+00    |proj g|=  9.02392D-01\n",
      "\n",
      "At iterate    2    f= -1.08362D+01    |proj g|=  2.85587D+00\n",
      "  ys=-1.879E+01  -gs= 3.065E+01 BFGS update SKIPPED\n",
      "\n",
      "At iterate    3    f= -1.12225D+01    |proj g|=  2.58361D+00\n",
      "\n",
      "At iterate    4    f= -1.60391D+01    |proj g|=  0.00000D+00\n",
      "\n",
      "           * * *\n",
      "\n",
      "Tit   = total number of iterations\n",
      "Tnf   = total number of function evaluations\n",
      "Tnint = total number of segments explored during Cauchy searches\n",
      "Skip  = number of BFGS updates skipped\n",
      "Nact  = number of active bounds at final generalized Cauchy point\n",
      "Projg = norm of the final projected gradient\n",
      "F     = final function value\n",
      "\n",
      "           * * *\n",
      "\n",
      "   N    Tit     Tnf  Tnint  Skip  Nact     Projg        F\n",
      "    4      4     10      9     1     4   0.000D+00  -1.604D+01\n",
      "  F =  -16.039117813110352     \n",
      "\n",
      "CONVERGENCE: NORM_OF_PROJECTED_GRADIENT_<=_PGTOL            \n",
      "{'Lx': 1.634615182876587, 'Ly': 1.634615182876587, 'Cx': 39.127864837646484, 'Cy': 39.127864837646484, 'Jx': 5.0, 'Jy': 5.0, 'CJx': 158.83587646484375, 'CJy': 158.83587646484375}\n",
      "4 {'Lx': 8.173075647491588, 'Ly': 10.0, 'Cx': 9.685114653853796, 'Cy': 5.0, 'Jx': 12.5, 'Jy': 10.0, 'CJx': 77.48091723083037, 'CJy': 50.0}\n",
      "RUNNING THE L-BFGS-B CODE\n",
      "\n",
      "           * * *\n",
      "\n",
      "Machine precision = 2.220D-16\n",
      " N =            4     M =           10\n",
      "\n",
      "At X0         0 variables are exactly at the bounds\n",
      "\n",
      "At iterate    0    f= -6.72239D+00    |proj g|=  1.10060D+00\n",
      "\n",
      "At iterate    1    f= -7.16042D+00    |proj g|=  1.18203D+00\n",
      "  ys=-4.037E-02  -gs= 3.056E+00 BFGS update SKIPPED\n",
      "\n",
      "At iterate    2    f= -1.02853D+01    |proj g|=  1.05068D+00\n",
      "\n",
      "At iterate    3    f= -1.09711D+01    |proj g|=  2.06647D+00\n",
      "\n",
      "At iterate    4    f= -1.12097D+01    |proj g|=  2.78834D+00\n",
      "\n",
      "At iterate    5    f= -1.17450D+01    |proj g|=  4.31137D+00\n",
      "\n",
      "At iterate    6    f= -1.17450D+01    |proj g|=  4.31137D+00\n",
      "\n",
      "           * * *\n",
      "\n",
      "Tit   = total number of iterations\n",
      "Tnf   = total number of function evaluations\n",
      "Tnint = total number of segments explored during Cauchy searches\n",
      "Skip  = number of BFGS updates skipped\n",
      "Nact  = number of active bounds at final generalized Cauchy point\n",
      "Projg = norm of the final projected gradient\n",
      "F     = final function value\n",
      "\n",
      "           * * *\n",
      "\n",
      "   N    Tit     Tnf  Tnint  Skip  Nact     Projg        F\n",
      "    4      6     30      6     1     1   4.311D+00  -1.174D+01\n",
      "  F =  -11.744988441467285     \n",
      "\n",
      "CONVERGENCE: REL_REDUCTION_OF_F_<=_FACTR*EPSMCH             \n",
      "{'Lx': 1.634615182876587, 'Ly': 1.634615182876587, 'Cx': 14.775537490844727, 'Cy': 14.775537490844727, 'Jx': 9.301197052001953, 'Jy': 9.301197052001953, 'CJx': 81.90702819824219, 'CJy': 81.90702819824219}\n",
      "5 {'Lx': 8.173075647491588, 'Ly': 10.0, 'Cx': 9.685114653853796, 'Cy': 5.0, 'Jx': 12.5, 'Jy': 10.0, 'CJx': 116.22137584624556, 'CJy': 50.0}\n"
     ]
    },
    {
     "name": "stderr",
     "output_type": "stream",
     "text": [
      "\n",
      " Warning:  more than 10 function and gradient\n",
      "   evaluations in the last line search.  Termination\n",
      "   may possibly be caused by a bad search direction.\n"
     ]
    },
    {
     "name": "stdout",
     "output_type": "stream",
     "text": [
      "RUNNING THE L-BFGS-B CODE\n",
      "\n",
      "           * * *\n",
      "\n",
      "Machine precision = 2.220D-16\n",
      " N =            4     M =           10\n",
      "\n",
      "At X0         0 variables are exactly at the bounds\n",
      "\n",
      "At iterate    0    f= -7.07618D+00    |proj g|=  9.35339D-01\n",
      "\n",
      "At iterate    1    f= -7.46974D+00    |proj g|=  1.07827D+00\n",
      "  ys=-1.645E-01  -gs= 1.971E+00 BFGS update SKIPPED\n",
      "\n",
      "At iterate    2    f= -8.27909D+00    |proj g|=  5.46335D-01\n",
      "\n",
      "At iterate    3    f= -9.69790D+00    |proj g|=  6.65579D-01\n"
     ]
    },
    {
     "name": "stderr",
     "output_type": "stream",
     "text": [
      "\n",
      " Bad direction in the line search;\n",
      "   refresh the lbfgs memory and restart the iteration.\n"
     ]
    },
    {
     "name": "stdout",
     "output_type": "stream",
     "text": [
      "\n",
      "At iterate    4    f= -1.00349D+01    |proj g|=  8.93021D-01\n",
      "  ys=-2.371E-03  -gs= 9.134E-03 BFGS update SKIPPED\n",
      "\n",
      "At iterate    5    f= -1.11663D+01    |proj g|=  6.30936D-01\n",
      "\n",
      "At iterate    6    f=    -Infinity    |proj g|=          NaN\n",
      "\n",
      "           * * *\n",
      "\n",
      "Tit   = total number of iterations\n",
      "Tnf   = total number of function evaluations\n",
      "Tnint = total number of segments explored during Cauchy searches\n",
      "Skip  = number of BFGS updates skipped\n",
      "Nact  = number of active bounds at final generalized Cauchy point\n",
      "Projg = norm of the final projected gradient\n",
      "F     = final function value\n",
      "\n",
      "           * * *\n",
      "\n",
      "   N    Tit     Tnf  Tnint  Skip  Nact     Projg        F\n",
      "    4      6     46      8     2     1         NaN   -Infinity\n",
      "  F =                 -Infinity\n",
      "\n",
      "CONVERGENCE: REL_REDUCTION_OF_F_<=_FACTR*EPSMCH             \n",
      "{'Lx': 1.6346153020858765, 'Ly': 1.6346153020858765, 'Cx': 19.513809204101562, 'Cy': 19.513809204101562, 'Jx': 11.095155715942383, 'Jy': 11.095155715942383, 'CJx': 117.6031723022461, 'CJy': 117.6031723022461}\n",
      "6 {'Lx': 8.173075647491588, 'Ly': 10.0, 'Cx': 9.685114653853796, 'Cy': 5.0, 'Jx': 18.75, 'Jy': 10.0, 'CJx': 38.740458615415186, 'CJy': 50.0}\n"
     ]
    },
    {
     "name": "stderr",
     "output_type": "stream",
     "text": [
      "\n",
      " Warning:  more than 10 function and gradient\n",
      "   evaluations in the last line search.  Termination\n",
      "   may possibly be caused by a bad search direction.\n"
     ]
    },
    {
     "name": "stdout",
     "output_type": "stream",
     "text": [
      "RUNNING THE L-BFGS-B CODE\n",
      "\n",
      "           * * *\n",
      "\n",
      "Machine precision = 2.220D-16\n",
      " N =            4     M =           10\n",
      "\n",
      "At X0         0 variables are exactly at the bounds\n",
      "\n",
      "At iterate    0    f= -5.08713D+00    |proj g|=  1.09880D+00\n",
      "\n",
      "At iterate    1    f= -5.52152D+00    |proj g|=  1.02706D+00\n",
      "\n",
      "At iterate    2    f= -1.01756D+01    |proj g|=  1.49979D+00\n",
      "\n",
      "At iterate    3    f= -1.60391D+01    |proj g|=  0.00000D+00\n",
      "\n",
      "           * * *\n",
      "\n",
      "Tit   = total number of iterations\n",
      "Tnf   = total number of function evaluations\n",
      "Tnint = total number of segments explored during Cauchy searches\n",
      "Skip  = number of BFGS updates skipped\n",
      "Nact  = number of active bounds at final generalized Cauchy point\n",
      "Projg = norm of the final projected gradient\n",
      "F     = final function value\n",
      "\n",
      "           * * *\n",
      "\n",
      "   N    Tit     Tnf  Tnint  Skip  Nact     Projg        F\n",
      "    4      3      4      4     0     1   0.000D+00  -1.604D+01\n",
      "  F =  -16.039117813110352     \n",
      "\n",
      "CONVERGENCE: NORM_OF_PROJECTED_GRADIENT_<=_PGTOL            \n",
      "{'Lx': 1.634615182876587, 'Ly': 1.634615182876587, 'Cx': 39.127864837646484, 'Cy': 39.127864837646484, 'Jx': 5.0, 'Jy': 5.0, 'CJx': 158.83587646484375, 'CJy': 158.83587646484375}\n",
      "7 {'Lx': 8.173075647491588, 'Ly': 10.0, 'Cx': 9.685114653853796, 'Cy': 5.0, 'Jx': 18.75, 'Jy': 10.0, 'CJx': 77.48091723083037, 'CJy': 50.0}\n",
      "RUNNING THE L-BFGS-B CODE\n",
      "\n",
      "           * * *\n",
      "\n",
      "Machine precision = 2.220D-16\n",
      " N =            4     M =           10\n",
      "\n",
      "At X0         0 variables are exactly at the bounds\n",
      "\n",
      "At iterate    0    f= -6.20386D+00    |proj g|=  1.18668D+00\n",
      "\n",
      "At iterate    1    f= -6.74117D+00    |proj g|=  1.34568D+00\n",
      "  ys=-1.893E-01  -gs= 3.341E+00 BFGS update SKIPPED\n",
      "\n",
      "At iterate    2    f= -7.15931D+00    |proj g|=  1.22615D+00\n",
      "\n",
      "At iterate    3    f= -8.59537D+00    |proj g|=  5.01570D-01\n",
      "\n",
      "At iterate    4    f= -1.08780D+01    |proj g|=  2.01988D+00\n",
      "\n",
      "At iterate    5    f= -1.08780D+01    |proj g|=  2.01988D+00\n",
      "\n",
      "           * * *\n",
      "\n",
      "Tit   = total number of iterations\n",
      "Tnf   = total number of function evaluations\n",
      "Tnint = total number of segments explored during Cauchy searches\n",
      "Skip  = number of BFGS updates skipped\n",
      "Nact  = number of active bounds at final generalized Cauchy point\n",
      "Projg = norm of the final projected gradient\n",
      "F     = final function value\n",
      "\n",
      "           * * *\n",
      "\n",
      "   N    Tit     Tnf  Tnint  Skip  Nact     Projg        F\n",
      "    4      5     23      6     1     0   2.020D+00  -1.088D+01\n",
      "  F =  -10.878047943115234     \n",
      "\n",
      "CONVERGENCE: REL_REDUCTION_OF_F_<=_FACTR*EPSMCH             \n",
      "{'Lx': 2.0716135501861572, 'Ly': 2.0716135501861572, 'Cx': 24.331493377685547, 'Cy': 24.331493377685547, 'Jx': 14.241933822631836, 'Jy': 14.241933822631836, 'CJx': 88.48835754394531, 'CJy': 88.48835754394531}\n",
      "8 {'Lx': 8.173075647491588, 'Ly': 10.0, 'Cx': 9.685114653853796, 'Cy': 5.0, 'Jx': 18.75, 'Jy': 10.0, 'CJx': 116.22137584624556, 'CJy': 50.0}\n"
     ]
    },
    {
     "name": "stderr",
     "output_type": "stream",
     "text": [
      "\n",
      " Warning:  more than 10 function and gradient\n",
      "   evaluations in the last line search.  Termination\n",
      "   may possibly be caused by a bad search direction.\n"
     ]
    },
    {
     "name": "stdout",
     "output_type": "stream",
     "text": [
      "RUNNING THE L-BFGS-B CODE\n",
      "\n",
      "           * * *\n",
      "\n",
      "Machine precision = 2.220D-16\n",
      " N =            4     M =           10\n",
      "\n",
      "At X0         0 variables are exactly at the bounds\n",
      "\n",
      "At iterate    0    f= -6.69970D+00    |proj g|=  1.11541D+00\n",
      "\n",
      "At iterate    1    f= -7.23218D+00    |proj g|=  1.31863D+00\n",
      "  ys=-2.234E-01  -gs= 2.483E+00 BFGS update SKIPPED\n",
      "\n",
      "At iterate    2    f= -9.10260D+00    |proj g|=  5.39599D-01\n",
      "\n",
      "At iterate    3    f= -9.24353D+00    |proj g|=  5.40469D-01\n",
      "  ys=-2.824E-03  -gs= 3.814E-01 BFGS update SKIPPED\n",
      "\n",
      "At iterate    4    f= -1.12497D+01    |proj g|=  1.35889D+00\n",
      "\n",
      "At iterate    5    f= -1.12497D+01    |proj g|=  1.35889D+00\n",
      "\n",
      "           * * *\n",
      "\n",
      "Tit   = total number of iterations\n",
      "Tnf   = total number of function evaluations\n",
      "Tnint = total number of segments explored during Cauchy searches\n",
      "Skip  = number of BFGS updates skipped\n",
      "Nact  = number of active bounds at final generalized Cauchy point\n",
      "Projg = norm of the final projected gradient\n",
      "F     = final function value\n",
      "\n",
      "           * * *\n",
      "\n",
      "   N    Tit     Tnf  Tnint  Skip  Nact     Projg        F\n",
      "    4      5     32      5     2     1   1.359D+00  -1.125D+01\n",
      "  F =  -11.249701499938965     \n",
      "\n",
      "CONVERGENCE: REL_REDUCTION_OF_F_<=_FACTR*EPSMCH             \n",
      "{'Lx': 1.634615182876587, 'Ly': 1.634615182876587, 'Cx': 15.974392890930176, 'Cy': 15.974392890930176, 'Jx': 16.945392608642578, 'Jy': 16.945392608642578, 'CJx': 118.10679626464844, 'CJy': 118.10679626464844}\n",
      "9 {'Lx': 16.346151294983176, 'Ly': 10.0, 'Cx': 9.685114653853796, 'Cy': 5.0, 'Jx': 6.25, 'Jy': 10.0, 'CJx': 38.740458615415186, 'CJy': 50.0}\n"
     ]
    },
    {
     "name": "stderr",
     "output_type": "stream",
     "text": [
      "\n",
      " Warning:  more than 10 function and gradient\n",
      "   evaluations in the last line search.  Termination\n",
      "   may possibly be caused by a bad search direction.\n"
     ]
    },
    {
     "name": "stdout",
     "output_type": "stream",
     "text": [
      "RUNNING THE L-BFGS-B CODE\n",
      "\n",
      "           * * *\n",
      "\n",
      "Machine precision = 2.220D-16\n",
      " N =            4     M =           10\n",
      "\n",
      "At X0         0 variables are exactly at the bounds\n",
      "\n",
      "At iterate    0    f= -5.84718D+00    |proj g|=  9.10725D-01\n",
      "\n",
      "At iterate    1    f= -6.04665D+00    |proj g|=  8.75532D-01\n",
      "\n",
      "At iterate    2    f= -7.41661D+00    |proj g|=  5.40844D-01\n",
      "\n",
      "At iterate    3    f= -1.11928D+01    |proj g|=  1.78204D+00\n",
      "  ys=-1.971E+01  -gs= 2.784E+01 BFGS update SKIPPED\n",
      "\n",
      "At iterate    4    f= -1.16074D+01    |proj g|=  1.71315D+00\n"
     ]
    },
    {
     "name": "stderr",
     "output_type": "stream",
     "text": [
      "\n",
      " Bad direction in the line search;\n",
      "   refresh the lbfgs memory and restart the iteration.\n"
     ]
    },
    {
     "name": "stdout",
     "output_type": "stream",
     "text": [
      "\n",
      "At iterate    5    f= -1.35911D+01    |proj g|=  1.09708D+01\n",
      "  ys=-2.627E+00  -gs= 4.862E-01 BFGS update SKIPPED\n",
      "\n",
      "At iterate    6    f= -1.41825D+01    |proj g|=  2.79034D+01\n"
     ]
    },
    {
     "name": "stderr",
     "output_type": "stream",
     "text": [
      "\n",
      " Bad direction in the line search;\n",
      "   refresh the lbfgs memory and restart the iteration.\n",
      "\n",
      " Line search cannot locate an adequate point after MAXLS\n",
      "  function and gradient evaluations.\n",
      "  Previous x, f and g restored.\n",
      " Possible causes: 1 error in function or gradient evaluation;\n",
      "                  2 rounding error dominate computation.\n"
     ]
    },
    {
     "name": "stdout",
     "output_type": "stream",
     "text": [
      "\n",
      "           * * *\n",
      "\n",
      "Tit   = total number of iterations\n",
      "Tnf   = total number of function evaluations\n",
      "Tnint = total number of segments explored during Cauchy searches\n",
      "Skip  = number of BFGS updates skipped\n",
      "Nact  = number of active bounds at final generalized Cauchy point\n",
      "Projg = norm of the final projected gradient\n",
      "F     = final function value\n",
      "\n",
      "           * * *\n",
      "\n",
      "   N    Tit     Tnf  Tnint  Skip  Nact     Projg        F\n",
      "{'Lx': 1.6346158981323242, 'Ly': 1.6346158981323242, 'Cx': 39.127864837646484, 'Cy': 39.127864837646484, 'Jx': 5.0, 'Jy': 5.0, 'CJx': 87.2333984375, 'CJy': 87.2333984375}\n",
      "10 {'Lx': 16.346151294983176, 'Ly': 10.0, 'Cx': 9.685114653853796, 'Cy': 5.0, 'Jx': 6.25, 'Jy': 10.0, 'CJx': 77.48091723083037, 'CJy': 50.0}\n",
      "    4      7     82     19     2     3   2.790D+01  -1.418D+01\n",
      "  F =  -14.182525634765625     \n",
      "\n",
      "ABNORMAL_TERMINATION_IN_LNSRCH                              \n",
      "RUNNING THE L-BFGS-B CODE\n",
      "\n",
      "           * * *\n",
      "\n",
      "Machine precision = 2.220D-16\n",
      " N =            4     M =           10\n",
      "\n",
      "At X0         0 variables are exactly at the bounds\n",
      "\n",
      "At iterate    0    f= -6.64499D+00    |proj g|=  8.28614D-01\n",
      "\n",
      "At iterate    1    f= -6.73887D+00    |proj g|=  7.77362D-01\n",
      "\n",
      "At iterate    2    f= -8.80660D+00    |proj g|=  9.34701D-01\n",
      "\n",
      "At iterate    3    f= -1.60391D+01    |proj g|=  0.00000D+00\n",
      "\n",
      "           * * *\n",
      "\n",
      "Tit   = total number of iterations\n",
      "Tnf   = total number of function evaluations\n",
      "Tnint = total number of segments explored during Cauchy searches\n",
      "Skip  = number of BFGS updates skipped\n",
      "Nact  = number of active bounds at final generalized Cauchy point\n",
      "Projg = norm of the final projected gradient\n",
      "F     = final function value\n",
      "\n",
      "           * * *\n",
      "\n",
      "   N    Tit     Tnf  Tnint  Skip  Nact     Projg        F\n",
      "{'Lx': 1.634615182876587, 'Ly': 1.634615182876587, 'Cx': 39.127864837646484, 'Cy': 39.127864837646484, 'Jx': 5.0, 'Jy': 5.0, 'CJx': 158.83587646484375, 'CJy': 158.83587646484375}\n",
      "11 {'Lx': 16.346151294983176, 'Ly': 10.0, 'Cx': 9.685114653853796, 'Cy': 5.0, 'Jx': 6.25, 'Jy': 10.0, 'CJx': 116.22137584624556, 'CJy': 50.0}\n",
      "    4      3      4      4     0     1   0.000D+00  -1.604D+01\n",
      "  F =  -16.039117813110352     \n",
      "\n",
      "CONVERGENCE: NORM_OF_PROJECTED_GRADIENT_<=_PGTOL            \n",
      "RUNNING THE L-BFGS-B CODE\n",
      "\n",
      "           * * *\n",
      "\n",
      "Machine precision = 2.220D-16\n",
      " N =            4     M =           10\n",
      "\n",
      "At X0         0 variables are exactly at the bounds\n",
      "\n",
      "At iterate    0    f= -7.11851D+00    |proj g|=  7.33744D-01\n",
      "\n",
      "At iterate    1    f= -7.35147D+00    |proj g|=  7.64580D-01\n",
      "  ys=-4.442E-02  -gs= 9.931E-01 BFGS update SKIPPED\n",
      "\n",
      "At iterate    2    f= -7.86624D+00    |proj g|=  5.25759D-01\n",
      "\n",
      "At iterate    3    f= -9.66202D+00    |proj g|=  2.43094D-01\n",
      "\n",
      "At iterate    4    f= -1.28787D+01    |proj g|=  7.44312D-01\n",
      "\n",
      "At iterate    5    f= -1.28787D+01    |proj g|=  7.44312D-01\n"
     ]
    },
    {
     "name": "stderr",
     "output_type": "stream",
     "text": [
      "\n",
      " Warning:  more than 10 function and gradient\n",
      "   evaluations in the last line search.  Termination\n",
      "   may possibly be caused by a bad search direction.\n"
     ]
    },
    {
     "name": "stdout",
     "output_type": "stream",
     "text": [
      "\n",
      "           * * *\n",
      "\n",
      "Tit   = total number of iterations\n",
      "Tnf   = total number of function evaluations\n",
      "Tnint = total number of segments explored during Cauchy searches\n",
      "Skip  = number of BFGS updates skipped\n",
      "Nact  = number of active bounds at final generalized Cauchy point\n",
      "Projg = norm of the final projected gradient\n",
      "F     = final function value\n",
      "\n",
      "           * * *\n",
      "\n",
      "   N    Tit     Tnf  Tnint  Skip  Nact     Projg        F\n",
      "    4      5     24      6     1     2   7.443D-01  -1.288D+01\n",
      "  F =  -12.878699302673340     \n",
      "\n",
      "CONVERGENCE: REL_REDUCTION_OF_F_<=_FACTR*EPSMCH             \n",
      "{'Lx': 1.634615182876587, 'Ly': 1.634615182876587, 'Cx': 39.127864837646484, 'Cy': 39.127864837646484, 'Jx': 5.1391191482543945, 'Jy': 5.1391191482543945, 'CJx': 122.62374114990234, 'CJy': 122.62374114990234}\n",
      "12 {'Lx': 16.346151294983176, 'Ly': 10.0, 'Cx': 9.685114653853796, 'Cy': 5.0, 'Jx': 12.5, 'Jy': 10.0, 'CJx': 38.740458615415186, 'CJy': 50.0}\n",
      "RUNNING THE L-BFGS-B CODE\n",
      "\n",
      "           * * *\n",
      "\n",
      "Machine precision = 2.220D-16\n",
      " N =            4     M =           10\n",
      "\n",
      "At X0         0 variables are exactly at the bounds\n",
      "\n",
      "At iterate    0    f= -4.75068D+00    |proj g|=  1.05051D+00\n",
      "\n",
      "At iterate    1    f= -5.03382D+00    |proj g|=  9.86669D-01\n",
      "\n",
      "At iterate    2    f= -6.76615D+00    |proj g|=  6.56687D-01\n",
      "\n",
      "At iterate    3    f= -9.23064D+00    |proj g|=  3.21879D-01\n",
      "\n",
      "At iterate    4    f= -1.05027D+01    |proj g|=  6.29619D-01\n",
      "\n",
      "At iterate    5    f= -1.13352D+01    |proj g|=  1.08519D+00\n",
      "  ys=-1.332E-04  -gs= 2.540E-04 BFGS update SKIPPED\n",
      "\n",
      "At iterate    6    f= -1.13520D+01    |proj g|=  2.66182D+00\n",
      "  ys=-1.539E+00  -gs= 1.064E+00 BFGS update SKIPPED\n",
      "\n",
      "At iterate    7    f= -1.13520D+01    |proj g|=  2.66182D+00\n",
      "\n",
      "           * * *\n",
      "\n",
      "Tit   = total number of iterations\n",
      "Tnf   = total number of function evaluations\n",
      "Tnint = total number of segments explored during Cauchy searches\n",
      "Skip  = number of BFGS updates skipped\n",
      "Nact  = number of active bounds at final generalized Cauchy point\n",
      "Projg = norm of the final projected gradient\n",
      "F     = final function value\n",
      "\n",
      "           * * *\n",
      "\n",
      "   N    Tit     Tnf  Tnint  Skip  Nact     Projg        F\n",
      "    4      7     47     11     2     0   2.662D+00  -1.135D+01\n",
      "  F =  -11.352049827575684     \n",
      "\n",
      "CONVERGENCE: REL_REDUCTION_OF_F_<=_FACTR*EPSMCH             \n",
      "{'Lx': 1.634615182876587, 'Ly': 1.634615182876587, 'Cx': 34.25522232055664, 'Cy': 34.25522232055664, 'Jx': 5.0, 'Jy': 5.0, 'CJx': 83.17809295654297, 'CJy': 83.17809295654297}\n",
      "13 {'Lx': 16.346151294983176, 'Ly': 10.0, 'Cx': 9.685114653853796, 'Cy': 5.0, 'Jx': 12.5, 'Jy': 10.0, 'CJx': 77.48091723083037, 'CJy': 50.0}\n"
     ]
    },
    {
     "name": "stderr",
     "output_type": "stream",
     "text": [
      "\n",
      " Warning:  more than 10 function and gradient\n",
      "   evaluations in the last line search.  Termination\n",
      "   may possibly be caused by a bad search direction.\n"
     ]
    },
    {
     "name": "stdout",
     "output_type": "stream",
     "text": [
      "RUNNING THE L-BFGS-B CODE\n",
      "\n",
      "           * * *\n",
      "\n",
      "Machine precision = 2.220D-16\n",
      " N =            4     M =           10\n",
      "\n",
      "At X0         0 variables are exactly at the bounds\n",
      "\n",
      "At iterate    0    f= -5.62007D+00    |proj g|=  9.69094D-01\n",
      "\n",
      "At iterate    1    f= -5.90061D+00    |proj g|=  9.22925D-01\n",
      "\n",
      "At iterate    2    f= -1.21349D+01    |proj g|=  2.55122D+00\n",
      "  ys=-6.516E+00  -gs= 4.508E+01 BFGS update SKIPPED\n"
     ]
    },
    {
     "name": "stderr",
     "output_type": "stream",
     "text": [
      "\n",
      " Bad direction in the line search;\n",
      "   refresh the lbfgs memory and restart the iteration.\n"
     ]
    },
    {
     "name": "stdout",
     "output_type": "stream",
     "text": [
      "\n",
      "           * * *\n",
      "\n",
      "Tit   = total number of iterations\n",
      "Tnf   = total number of function evaluations\n",
      "Tnint = total number of segments explored during Cauchy searches\n",
      "Skip  = number of BFGS updates skipped\n",
      "Nact  = number of active bounds at final generalized Cauchy point\n",
      "Projg = norm of the final projected gradient\n",
      "F     = final function value\n",
      "\n",
      "           * * *\n",
      "\n",
      "   N    Tit     Tnf  Tnint  Skip  Nact     Projg        F\n",
      "{'Lx': 1.634615182876587, 'Ly': 1.634615182876587, 'Cx': 31.546173095703125, 'Cy': 31.546173095703125, 'Jx': 5.0, 'Jy': 5.0, 'CJx': 98.77562713623047, 'CJy': 98.77562713623047}\n",
      "14 {'Lx': 16.346151294983176, 'Ly': 10.0, 'Cx': 9.685114653853796, 'Cy': 5.0, 'Jx': 12.5, 'Jy': 10.0, 'CJx': 116.22137584624556, 'CJy': 50.0}\n",
      "    4      3     43      6     1     2   2.551D+00  -1.213D+01\n",
      "  F =  -12.134855270385742     \n",
      "\n",
      "ABNORMAL_TERMINATION_IN_LNSRCH                              \n"
     ]
    },
    {
     "name": "stderr",
     "output_type": "stream",
     "text": [
      "\n",
      " Line search cannot locate an adequate point after MAXLS\n",
      "  function and gradient evaluations.\n",
      "  Previous x, f and g restored.\n",
      " Possible causes: 1 error in function or gradient evaluation;\n",
      "                  2 rounding error dominate computation.\n"
     ]
    },
    {
     "name": "stdout",
     "output_type": "stream",
     "text": [
      "RUNNING THE L-BFGS-B CODE\n",
      "\n",
      "           * * *\n",
      "\n",
      "Machine precision = 2.220D-16\n",
      " N =            4     M =           10\n",
      "\n",
      "At X0         0 variables are exactly at the bounds\n",
      "\n",
      "At iterate    0    f= -6.20350D+00    |proj g|=  8.85867D-01\n",
      "\n",
      "At iterate    1    f= -6.51551D+00    |proj g|=  8.64078D-01\n",
      "  ys=-4.983E-02  -gs= 1.648E+00 BFGS update SKIPPED\n",
      "\n",
      "At iterate    2    f= -9.89962D+00    |proj g|=  2.51519D+00\n",
      "  ys=-1.032E+01  -gs= 1.935E+01 BFGS update SKIPPED\n",
      "\n",
      "At iterate    3    f= -9.94206D+00    |proj g|=  8.95679D-01\n",
      "\n",
      "At iterate    4    f= -1.08317D+01    |proj g|=  1.54193D+00\n",
      "\n",
      "At iterate    5    f= -1.27728D+01    |proj g|=  1.06599D+01\n",
      "  ys=-2.202E-01  -gs= 3.685E-02 BFGS update SKIPPED\n",
      "\n",
      "At iterate    6    f= -1.27728D+01    |proj g|=  1.06599D+01\n",
      "\n",
      "           * * *\n",
      "\n",
      "Tit   = total number of iterations\n",
      "Tnf   = total number of function evaluations\n",
      "Tnint = total number of segments explored during Cauchy searches\n",
      "Skip  = number of BFGS updates skipped\n",
      "Nact  = number of active bounds at final generalized Cauchy point\n",
      "Projg = norm of the final projected gradient\n",
      "F     = final function value\n",
      "\n",
      "           * * *\n",
      "\n",
      "   N    Tit     Tnf  Tnint  Skip  Nact     Projg        F\n",
      "    4      6     34      7     3     0   1.066D+01  -1.277D+01\n",
      "  F =  -12.772750854492188     \n",
      "\n",
      "CONVERGENCE: REL_REDUCTION_OF_F_<=_FACTR*EPSMCH             \n",
      "{'Lx': 3.259349822998047, 'Ly': 3.259349822998047, 'Cx': 21.835355758666992, 'Cy': 21.835355758666992, 'Jx': 5.0, 'Jy': 5.0, 'CJx': 122.6020278930664, 'CJy': 122.6020278930664}\n",
      "15 {'Lx': 16.346151294983176, 'Ly': 10.0, 'Cx': 9.685114653853796, 'Cy': 5.0, 'Jx': 18.75, 'Jy': 10.0, 'CJx': 38.740458615415186, 'CJy': 50.0}\n"
     ]
    },
    {
     "name": "stderr",
     "output_type": "stream",
     "text": [
      "\n",
      " Warning:  more than 10 function and gradient\n",
      "   evaluations in the last line search.  Termination\n",
      "   may possibly be caused by a bad search direction.\n"
     ]
    },
    {
     "name": "stdout",
     "output_type": "stream",
     "text": [
      "RUNNING THE L-BFGS-B CODE\n",
      "\n",
      "           * * *\n",
      "\n",
      "Machine precision = 2.220D-16\n",
      " N =            4     M =           10\n",
      "\n",
      "At X0         0 variables are exactly at the bounds\n",
      "\n",
      "At iterate    0    f= -4.07644D+00    |proj g|=  1.17183D+00\n",
      "\n",
      "At iterate    1    f= -4.37677D+00    |proj g|=  1.09180D+00\n",
      "\n",
      "At iterate    2    f= -1.65506D+01    |proj g|=  8.64258D+01\n",
      "  ys=-1.224E+04  -gs= 7.149E+01 BFGS update SKIPPED\n"
     ]
    },
    {
     "name": "stderr",
     "output_type": "stream",
     "text": [
      "\n",
      " Bad direction in the line search;\n",
      "   refresh the lbfgs memory and restart the iteration.\n",
      "\n",
      " Line search cannot locate an adequate point after MAXLS\n",
      "  function and gradient evaluations.\n",
      "  Previous x, f and g restored.\n",
      " Possible causes: 1 error in function or gradient evaluation;\n",
      "                  2 rounding error dominate computation.\n"
     ]
    },
    {
     "name": "stdout",
     "output_type": "stream",
     "text": [
      "\n",
      "           * * *\n",
      "\n",
      "Tit   = total number of iterations\n",
      "Tnf   = total number of function evaluations\n",
      "Tnint = total number of segments explored during Cauchy searches\n",
      "Skip  = number of BFGS updates skipped\n",
      "Nact  = number of active bounds at final generalized Cauchy point\n",
      "Projg = norm of the final projected gradient\n",
      "F     = final function value\n",
      "\n",
      "           * * *\n",
      "\n",
      "   N    Tit     Tnf  Tnint  Skip  Nact     Projg        F\n",
      "{'Lx': 1.634615182876587, 'Ly': 1.634615182876587, 'Cx': 35.19270324707031, 'Cy': 35.19270324707031, 'Jx': 5.0, 'Jy': 5.0, 'CJx': 72.41009521484375, 'CJy': 72.41009521484375}\n",
      "16 {'Lx': 16.346151294983176, 'Ly': 10.0, 'Cx': 9.685114653853796, 'Cy': 5.0, 'Jx': 18.75, 'Jy': 10.0, 'CJx': 77.48091723083037, 'CJy': 50.0}\n",
      "    4      3     43      9     1     3   8.643D+01  -1.655D+01\n",
      "  F =  -16.550649642944336     \n",
      "\n",
      "ABNORMAL_TERMINATION_IN_LNSRCH                              \n",
      "RUNNING THE L-BFGS-B CODE\n",
      "\n",
      "           * * *\n",
      "\n",
      "Machine precision = 2.220D-16\n",
      " N =            4     M =           10\n",
      "\n",
      "At X0         0 variables are exactly at the bounds\n",
      "\n",
      "At iterate    0    f= -5.02551D+00    |proj g|=  1.10003D+00\n",
      "\n",
      "At iterate    1    f= -5.30377D+00    |proj g|=  1.03025D+00\n",
      "\n",
      "At iterate    2    f= -7.20042D+00    |proj g|=  8.02528D-01\n",
      "\n",
      "At iterate    3    f= -1.08706D+01    |proj g|=  6.10881D-01\n",
      "\n",
      "At iterate    4    f= -1.08706D+01    |proj g|=  6.10881D-01\n",
      "\n",
      "           * * *\n",
      "\n",
      "Tit   = total number of iterations\n",
      "Tnf   = total number of function evaluations\n",
      "Tnint = total number of segments explored during Cauchy searches\n",
      "Skip  = number of BFGS updates skipped\n",
      "Nact  = number of active bounds at final generalized Cauchy point\n",
      "Projg = norm of the final projected gradient\n",
      "F     = final function value\n",
      "\n",
      "           * * *\n",
      "\n",
      "   N    Tit     Tnf  Tnint  Skip  Nact     Projg        F\n",
      "{'Lx': 1.634615182876587, 'Ly': 1.634615182876587, 'Cx': 30.008275985717773, 'Cy': 30.008275985717773, 'Jx': 5.0, 'Jy': 5.0, 'CJx': 106.32173919677734, 'CJy': 106.32173919677734}\n",
      "17 {'Lx': 16.346151294983176, 'Ly': 10.0, 'Cx': 9.685114653853796, 'Cy': 5.0, 'Jx': 18.75, 'Jy': 10.0, 'CJx': 116.22137584624556, 'CJy': 50.0}\n",
      "    4      4     22      7     0     0   6.109D-01  -1.087D+01\n",
      "  F =  -10.870586395263672     \n",
      "\n",
      "CONVERGENCE: REL_REDUCTION_OF_F_<=_FACTR*EPSMCH             \n"
     ]
    },
    {
     "name": "stderr",
     "output_type": "stream",
     "text": [
      "\n",
      " Warning:  more than 10 function and gradient\n",
      "   evaluations in the last line search.  Termination\n",
      "   may possibly be caused by a bad search direction.\n"
     ]
    },
    {
     "name": "stdout",
     "output_type": "stream",
     "text": [
      "RUNNING THE L-BFGS-B CODE\n",
      "\n",
      "           * * *\n",
      "\n",
      "Machine precision = 2.220D-16\n",
      " N =            4     M =           10\n",
      "\n",
      "At X0         0 variables are exactly at the bounds\n",
      "\n",
      "At iterate    0    f= -5.63242D+00    |proj g|=  1.01666D+00\n",
      "\n",
      "At iterate    1    f= -5.84936D+00    |proj g|=  9.43998D-01\n",
      "\n",
      "At iterate    2    f= -8.91535D+00    |proj g|=  3.34159D-01\n",
      "\n",
      "At iterate    3    f= -9.19855D+00    |proj g|=  2.62948D-01\n",
      "\n",
      "At iterate    4    f= -1.04154D+01    |proj g|=  1.97451D-01\n",
      "\n",
      "At iterate    5    f= -1.10166D+01    |proj g|=  2.58823D-01\n",
      "\n",
      "At iterate    6    f= -1.10166D+01    |proj g|=  2.58823D-01\n",
      "\n",
      "           * * *\n",
      "\n",
      "Tit   = total number of iterations\n",
      "Tnf   = total number of function evaluations\n",
      "Tnint = total number of segments explored during Cauchy searches\n",
      "Skip  = number of BFGS updates skipped\n",
      "Nact  = number of active bounds at final generalized Cauchy point\n",
      "Projg = norm of the final projected gradient\n",
      "F     = final function value\n",
      "\n",
      "           * * *\n",
      "\n",
      "   N    Tit     Tnf  Tnint  Skip  Nact     Projg        F\n",
      "{'Lx': 1.8034979104995728, 'Ly': 1.8034979104995728, 'Cx': 39.127864837646484, 'Cy': 39.127864837646484, 'Jx': 5.0, 'Jy': 5.0, 'CJx': 122.33757781982422, 'CJy': 122.33757781982422}\n",
      "18 {'Lx': 24.519226942474766, 'Ly': 10.0, 'Cx': 9.685114653853796, 'Cy': 5.0, 'Jx': 6.25, 'Jy': 10.0, 'CJx': 38.740458615415186, 'CJy': 50.0}\n",
      "    4      6     31     10     0     1   2.588D-01  -1.102D+01\n",
      "  F =  -11.016609191894531     \n",
      "\n",
      "CONVERGENCE: REL_REDUCTION_OF_F_<=_FACTR*EPSMCH             \n",
      "RUNNING THE L-BFGS-B CODE\n",
      "\n",
      "           * * *\n",
      "\n",
      "Machine precision = 2.220D-16\n",
      " N =            4     M =           10\n",
      "\n",
      "At X0         0 variables are exactly at the bounds\n",
      "\n",
      "At iterate    0    f= -5.55601D+00    |proj g|=  8.13701D-01\n",
      "\n",
      "At iterate    1    f= -5.73824D+00    |proj g|=  7.99083D-01\n",
      "\n",
      "At iterate    2    f= -8.25299D+00    |proj g|=  3.05680D-01\n",
      "\n",
      "At iterate    3    f= -1.18086D+01    |proj g|=  2.56800D+00\n",
      "\n",
      "At iterate    4    f= -1.52744D+01    |proj g|=  7.60378D+01\n",
      "\n",
      "At iterate    5    f= -1.52744D+01    |proj g|=  7.60378D+01\n"
     ]
    },
    {
     "name": "stderr",
     "output_type": "stream",
     "text": [
      "\n",
      " Warning:  more than 10 function and gradient\n",
      "   evaluations in the last line search.  Termination\n",
      "   may possibly be caused by a bad search direction.\n"
     ]
    },
    {
     "name": "stdout",
     "output_type": "stream",
     "text": [
      "\n",
      "           * * *\n",
      "\n",
      "Tit   = total number of iterations\n",
      "Tnf   = total number of function evaluations\n",
      "Tnint = total number of segments explored during Cauchy searches\n",
      "Skip  = number of BFGS updates skipped\n",
      "Nact  = number of active bounds at final generalized Cauchy point\n",
      "Projg = norm of the final projected gradient\n",
      "F     = final function value\n",
      "\n",
      "           * * *\n",
      "\n",
      "   N    Tit     Tnf  Tnint  Skip  Nact     Projg        F\n",
      "{'Lx': 1.6407713890075684, 'Ly': 1.6407713890075684, 'Cx': 39.127864837646484, 'Cy': 39.127864837646484, 'Jx': 5.0, 'Jy': 5.0, 'CJx': 82.79806518554688, 'CJy': 82.79806518554688}\n",
      "19 {'Lx': 24.519226942474766, 'Ly': 10.0, 'Cx': 9.685114653853796, 'Cy': 5.0, 'Jx': 6.25, 'Jy': 10.0, 'CJx': 77.48091723083037, 'CJy': 50.0}\n",
      "    4      5     31      7     0     2   7.604D+01  -1.527D+01\n",
      "  F =  -15.274365425109863     \n",
      "\n",
      "CONVERGENCE: REL_REDUCTION_OF_F_<=_FACTR*EPSMCH             \n",
      "RUNNING THE L-BFGS-B CODE\n",
      "\n",
      "           * * *\n",
      "\n",
      "Machine precision = 2.220D-16\n",
      " N =            4     M =           10\n",
      "\n",
      "At X0         0 variables are exactly at the bounds\n",
      "\n",
      "At iterate    0    f= -6.20927D+00    |proj g|=  8.11426D-01\n",
      "\n",
      "At iterate    1    f= -6.35776D+00    |proj g|=  7.91202D-01\n",
      "\n",
      "At iterate    2    f= -9.24787D+00    |proj g|=  8.59052D-01\n",
      "\n",
      "At iterate    3    f= -9.49863D+00    |proj g|=  3.21603D-01\n",
      "\n",
      "At iterate    4    f= -9.61997D+00    |proj g|=  2.48772D-01\n",
      "\n",
      "At iterate    5    f= -1.03960D+01    |proj g|=  5.02046D-01\n",
      "\n",
      "At iterate    6    f= -1.09456D+01    |proj g|=  9.29518D-01\n",
      "\n",
      "At iterate    7    f= -1.15245D+01    |proj g|=  2.06198D+00\n"
     ]
    },
    {
     "name": "stderr",
     "output_type": "stream",
     "text": [
      "\n",
      " Bad direction in the line search;\n",
      "   refresh the lbfgs memory and restart the iteration.\n"
     ]
    },
    {
     "name": "stdout",
     "output_type": "stream",
     "text": [
      "\n",
      "At iterate    8    f= -1.15245D+01    |proj g|=  2.06198D+00\n"
     ]
    },
    {
     "name": "stderr",
     "output_type": "stream",
     "text": [
      "\n",
      " Warning:  more than 10 function and gradient\n",
      "   evaluations in the last line search.  Termination\n",
      "   may possibly be caused by a bad search direction.\n"
     ]
    },
    {
     "name": "stdout",
     "output_type": "stream",
     "text": [
      "\n",
      "           * * *\n",
      "\n",
      "Tit   = total number of iterations\n",
      "Tnf   = total number of function evaluations\n",
      "Tnint = total number of segments explored during Cauchy searches\n",
      "Skip  = number of BFGS updates skipped\n",
      "Nact  = number of active bounds at final generalized Cauchy point\n",
      "Projg = norm of the final projected gradient\n",
      "F     = final function value\n",
      "\n",
      "           * * *\n",
      "\n",
      "   N    Tit     Tnf  Tnint  Skip  Nact     Projg        F\n",
      "    4      8     49     13     0     2   2.062D+00  -1.152D+01\n",
      "  F =  -11.524515151977539     \n",
      "\n",
      "CONVERGENCE: REL_REDUCTION_OF_F_<=_FACTR*EPSMCH             \n",
      "{'Lx': 2.995136022567749, 'Ly': 2.995136022567749, 'Cx': 39.127864837646484, 'Cy': 39.127864837646484, 'Jx': 5.0038533210754395, 'Jy': 5.0038533210754395, 'CJx': 109.96636962890625, 'CJy': 109.96636962890625}\n",
      "20 {'Lx': 24.519226942474766, 'Ly': 10.0, 'Cx': 9.685114653853796, 'Cy': 5.0, 'Jx': 6.25, 'Jy': 10.0, 'CJx': 116.22137584624556, 'CJy': 50.0}\n",
      "RUNNING THE L-BFGS-B CODE\n",
      "\n",
      "           * * *\n",
      "\n",
      "Machine precision = 2.220D-16\n",
      " N =            4     M =           10\n",
      "\n",
      "At X0         0 variables are exactly at the bounds\n",
      "\n",
      "At iterate    0    f= -6.61097D+00    |proj g|=  7.61498D-01\n",
      "\n",
      "At iterate    1    f= -6.90487D+00    |proj g|=  7.46923D-01\n",
      "  ys=-1.165E-02  -gs= 7.950E-01 BFGS update SKIPPED\n",
      "\n",
      "At iterate    2    f= -7.49679D+00    |proj g|=  6.52573D-01\n",
      "\n",
      "At iterate    3    f= -8.36934D+00    |proj g|=  4.70899D-01\n",
      "\n",
      "At iterate    4    f= -1.04046D+01    |proj g|=  4.28866D-02\n",
      "\n",
      "At iterate    5    f= -1.10607D+01    |proj g|=  1.48673D-01\n",
      "  ys=-2.032E-01  -gs= 8.231E-02 BFGS update SKIPPED\n",
      "\n",
      "At iterate    6    f= -1.18596D+01    |proj g|=  5.19538D-01\n",
      "\n",
      "At iterate    7    f= -1.38212D+01    |proj g|=  5.31354D+00\n",
      "\n",
      "At iterate    8    f= -1.38212D+01    |proj g|=  5.31354D+00\n"
     ]
    },
    {
     "name": "stderr",
     "output_type": "stream",
     "text": [
      "\n",
      " Warning:  more than 10 function and gradient\n",
      "   evaluations in the last line search.  Termination\n",
      "   may possibly be caused by a bad search direction.\n"
     ]
    },
    {
     "name": "stdout",
     "output_type": "stream",
     "text": [
      "\n",
      "           * * *\n",
      "\n",
      "Tit   = total number of iterations\n",
      "Tnf   = total number of function evaluations\n",
      "Tnint = total number of segments explored during Cauchy searches\n",
      "Skip  = number of BFGS updates skipped\n",
      "Nact  = number of active bounds at final generalized Cauchy point\n",
      "Projg = norm of the final projected gradient\n",
      "F     = final function value\n",
      "\n",
      "           * * *\n",
      "\n",
      "   N    Tit     Tnf  Tnint  Skip  Nact     Projg        F\n",
      "{'Lx': 1.896771788597107, 'Ly': 1.896771788597107, 'Cx': 39.127864837646484, 'Cy': 39.127864837646484, 'Jx': 5.0, 'Jy': 5.0, 'CJx': 127.9361343383789, 'CJy': 127.9361343383789}\n",
      "21 {'Lx': 24.519226942474766, 'Ly': 10.0, 'Cx': 9.685114653853796, 'Cy': 5.0, 'Jx': 12.5, 'Jy': 10.0, 'CJx': 38.740458615415186, 'CJy': 50.0}\n",
      "    4      8     50     12     2     1   5.314D+00  -1.382D+01\n",
      "  F =  -13.821230888366699     \n",
      "\n",
      "CONVERGENCE: REL_REDUCTION_OF_F_<=_FACTR*EPSMCH             \n",
      "RUNNING THE L-BFGS-B CODE\n",
      "\n",
      "           * * *\n",
      "\n",
      "Machine precision = 2.220D-16\n",
      " N =            4     M =           10\n",
      "\n",
      "At X0         0 variables are exactly at the bounds\n",
      "\n",
      "At iterate    0    f= -4.42680D+00    |proj g|=  9.74393D-01\n",
      "\n",
      "At iterate    1    f= -4.68982D+00    |proj g|=  9.29216D-01\n",
      "\n",
      "At iterate    2    f= -8.77851D+00    |proj g|=  4.71015D-01\n",
      "\n",
      "At iterate    3    f= -1.24596D+01    |proj g|=  6.88694D+00\n",
      "  ys=-1.283E+02  -gs= 1.293E+01 BFGS update SKIPPED\n",
      "\n",
      "At iterate    4    f= -1.60391D+01    |proj g|=  0.00000D+00\n",
      "\n",
      "           * * *\n",
      "\n",
      "Tit   = total number of iterations\n",
      "Tnf   = total number of function evaluations\n",
      "Tnint = total number of segments explored during Cauchy searches\n",
      "Skip  = number of BFGS updates skipped\n",
      "Nact  = number of active bounds at final generalized Cauchy point\n",
      "Projg = norm of the final projected gradient\n",
      "F     = final function value\n",
      "\n",
      "           * * *\n",
      "\n",
      "   N    Tit     Tnf  Tnint  Skip  Nact     Projg        F\n",
      "{'Lx': 1.634615182876587, 'Ly': 1.634615182876587, 'Cx': 39.127864837646484, 'Cy': 39.127864837646484, 'Jx': 5.0, 'Jy': 5.0, 'CJx': 158.83587646484375, 'CJy': 158.83587646484375}\n",
      "22 {'Lx': 24.519226942474766, 'Ly': 10.0, 'Cx': 9.685114653853796, 'Cy': 5.0, 'Jx': 12.5, 'Jy': 10.0, 'CJx': 77.48091723083037, 'CJy': 50.0}\n",
      "    4      4      5      8     1     4   0.000D+00  -1.604D+01\n",
      "  F =  -16.039117813110352     \n",
      "\n",
      "CONVERGENCE: NORM_OF_PROJECTED_GRADIENT_<=_PGTOL            \n",
      "RUNNING THE L-BFGS-B CODE\n",
      "\n",
      "           * * *\n",
      "\n",
      "Machine precision = 2.220D-16\n",
      " N =            4     M =           10\n",
      "\n",
      "At X0         0 variables are exactly at the bounds\n",
      "\n",
      "At iterate    0    f= -5.20045D+00    |proj g|=  9.58572D-01\n",
      "\n",
      "At iterate    1    f= -5.44313D+00    |proj g|=  9.22852D-01\n",
      "\n",
      "At iterate    2    f= -8.44632D+00    |proj g|=  4.77669D-02\n",
      "\n",
      "At iterate    3    f= -1.12167D+01    |proj g|=  2.75717D+00\n",
      "  ys=-6.380E+01  -gs= 1.061E+00 BFGS update SKIPPED\n",
      "\n",
      "At iterate    4    f= -1.15219D+01    |proj g|=  4.97510D+00\n",
      "  ys=-9.012E+00  -gs= 1.017E+01 BFGS update SKIPPED\n"
     ]
    },
    {
     "name": "stderr",
     "output_type": "stream",
     "text": [
      "\n",
      " Bad direction in the line search;\n",
      "   refresh the lbfgs memory and restart the iteration.\n"
     ]
    },
    {
     "name": "stdout",
     "output_type": "stream",
     "text": [
      "\n",
      "At iterate    5    f= -1.25973D+01    |proj g|=  1.53867D+01\n",
      "\n",
      "At iterate    6    f= -1.25973D+01    |proj g|=  1.53867D+01\n",
      "\n",
      "           * * *\n",
      "\n",
      "Tit   = total number of iterations\n",
      "Tnf   = total number of function evaluations\n",
      "Tnint = total number of segments explored during Cauchy searches\n",
      "Skip  = number of BFGS updates skipped\n",
      "Nact  = number of active bounds at final generalized Cauchy point\n",
      "Projg = norm of the final projected gradient\n",
      "F     = final function value\n",
      "\n",
      "           * * *\n",
      "\n",
      "   N    Tit     Tnf  Tnint  Skip  Nact     Projg        F\n",
      "{'Lx': 4.400598526000977, 'Ly': 4.400598526000977, 'Cx': 39.127864837646484, 'Cy': 39.127864837646484, 'Jx': 5.0, 'Jy': 5.0, 'CJx': 82.38545989990234, 'CJy': 82.38545989990234}\n",
      "23 {'Lx': 24.519226942474766, 'Ly': 10.0, 'Cx': 9.685114653853796, 'Cy': 5.0, 'Jx': 12.5, 'Jy': 10.0, 'CJx': 116.22137584624556, 'CJy': 50.0}\n",
      "    4      6     67     13     2     1   1.539D+01  -1.260D+01\n",
      "  F =  -12.597313880920410     \n",
      "\n",
      "CONVERGENCE: REL_REDUCTION_OF_F_<=_FACTR*EPSMCH             \n"
     ]
    },
    {
     "name": "stderr",
     "output_type": "stream",
     "text": [
      "\n",
      " Warning:  more than 10 function and gradient\n",
      "   evaluations in the last line search.  Termination\n",
      "   may possibly be caused by a bad search direction.\n"
     ]
    },
    {
     "name": "stdout",
     "output_type": "stream",
     "text": [
      "RUNNING THE L-BFGS-B CODE\n",
      "\n",
      "           * * *\n",
      "\n",
      "Machine precision = 2.220D-16\n",
      " N =            4     M =           10\n",
      "\n",
      "At X0         0 variables are exactly at the bounds\n",
      "\n",
      "At iterate    0    f= -5.66429D+00    |proj g|=  8.87753D-01\n",
      "\n",
      "At iterate    1    f= -5.95303D+00    |proj g|=  8.69616D-01\n",
      "  ys=-2.064E-02  -gs= 1.351E+00 BFGS update SKIPPED\n",
      "\n",
      "At iterate    2    f= -6.83614D+00    |proj g|=  6.65565D-01\n",
      "\n",
      "At iterate    3    f= -1.02077D+01    |proj g|=  2.15511D+00\n",
      "  ys=-1.823E+01  -gs= 1.988E+01 BFGS update SKIPPED\n",
      "\n",
      "At iterate    4    f= -1.11800D+01    |proj g|=  1.04891D-01\n",
      "\n",
      "At iterate    5    f= -1.23527D+01    |proj g|=  7.62546D-02\n",
      "\n",
      "At iterate    6    f= -1.23527D+01    |proj g|=  7.62546D-02\n"
     ]
    },
    {
     "name": "stderr",
     "output_type": "stream",
     "text": [
      "\n",
      " Warning:  more than 10 function and gradient\n",
      "   evaluations in the last line search.  Termination\n",
      "   may possibly be caused by a bad search direction.\n"
     ]
    },
    {
     "name": "stdout",
     "output_type": "stream",
     "text": [
      "\n",
      "           * * *\n",
      "\n",
      "Tit   = total number of iterations\n",
      "Tnf   = total number of function evaluations\n",
      "Tnint = total number of segments explored during Cauchy searches\n",
      "Skip  = number of BFGS updates skipped\n",
      "Nact  = number of active bounds at final generalized Cauchy point\n",
      "Projg = norm of the final projected gradient\n",
      "F     = final function value\n",
      "\n",
      "           * * *\n",
      "\n",
      "   N    Tit     Tnf  Tnint  Skip  Nact     Projg        F\n",
      "    4      6     26      8     2     1   7.625D-02  -1.235D+01\n",
      "  F =  -12.352735519409180     \n",
      "\n",
      "CONVERGENCE: REL_REDUCTION_OF_F_<=_FACTR*EPSMCH             \n",
      "{'Lx': 1.6346153020858765, 'Ly': 1.6346153020858765, 'Cx': 38.56689453125, 'Cy': 38.56689453125, 'Jx': 5.0, 'Jy': 5.0, 'CJx': 142.82366943359375, 'CJy': 142.82366943359375}\n",
      "24 {'Lx': 24.519226942474766, 'Ly': 10.0, 'Cx': 9.685114653853796, 'Cy': 5.0, 'Jx': 18.75, 'Jy': 10.0, 'CJx': 38.740458615415186, 'CJy': 50.0}\n",
      "RUNNING THE L-BFGS-B CODE\n",
      "\n",
      "           * * *\n",
      "\n",
      "Machine precision = 2.220D-16\n",
      " N =            4     M =           10\n",
      "\n",
      "At X0         0 variables are exactly at the bounds\n",
      "\n",
      "At iterate    0    f= -3.68170D+00    |proj g|=  1.10675D+00\n",
      "\n",
      "At iterate    1    f= -3.93702D+00    |proj g|=  1.04777D+00\n",
      "\n",
      "At iterate    2    f= -8.73153D+00    |proj g|=  4.73567D-01\n",
      "\n",
      "At iterate    3    f= -1.15685D+01    |proj g|=  1.12648D+00\n",
      "  ys=-9.463E+00  -gs= 1.251E+01 BFGS update SKIPPED\n"
     ]
    },
    {
     "name": "stderr",
     "output_type": "stream",
     "text": [
      "\n",
      " Bad direction in the line search;\n",
      "   refresh the lbfgs memory and restart the iteration.\n"
     ]
    },
    {
     "name": "stdout",
     "output_type": "stream",
     "text": [
      "\n",
      "At iterate    4    f= -1.18930D+01    |proj g|=  1.54932D+00\n",
      "  ys=-3.849E-04  -gs= 1.025E-03 BFGS update SKIPPED\n",
      "\n",
      "At iterate    5    f= -1.18930D+01    |proj g|=  1.54932D+00\n",
      "\n",
      "           * * *\n",
      "\n",
      "Tit   = total number of iterations\n",
      "Tnf   = total number of function evaluations\n",
      "Tnint = total number of segments explored during Cauchy searches\n",
      "Skip  = number of BFGS updates skipped\n",
      "Nact  = number of active bounds at final generalized Cauchy point\n",
      "Projg = norm of the final projected gradient\n",
      "F     = final function value\n",
      "\n",
      "           * * *\n",
      "\n",
      "   N    Tit     Tnf  Tnint  Skip  Nact     Projg        F\n",
      "{'Lx': 1.634615182876587, 'Ly': 1.634615182876587, 'Cx': 39.127864837646484, 'Cy': 39.127864837646484, 'Jx': 5.0, 'Jy': 5.0, 'CJx': 96.79745483398438, 'CJy': 96.79745483398438}\n",
      "25 {'Lx': 24.519226942474766, 'Ly': 10.0, 'Cx': 9.685114653853796, 'Cy': 5.0, 'Jx': 18.75, 'Jy': 10.0, 'CJx': 77.48091723083037, 'CJy': 50.0}\n",
      "    4      5     60      9     2     3   1.549D+00  -1.189D+01\n",
      "  F =  -11.892974853515625     \n",
      "\n",
      "CONVERGENCE: REL_REDUCTION_OF_F_<=_FACTR*EPSMCH             \n"
     ]
    },
    {
     "name": "stderr",
     "output_type": "stream",
     "text": [
      "\n",
      " Warning:  more than 10 function and gradient\n",
      "   evaluations in the last line search.  Termination\n",
      "   may possibly be caused by a bad search direction.\n"
     ]
    },
    {
     "name": "stdout",
     "output_type": "stream",
     "text": [
      "RUNNING THE L-BFGS-B CODE\n",
      "\n",
      "           * * *\n",
      "\n",
      "Machine precision = 2.220D-16\n",
      " N =            4     M =           10\n",
      "\n",
      "At X0         0 variables are exactly at the bounds\n",
      "\n",
      "At iterate    0    f= -4.51683D+00    |proj g|=  1.08937D+00\n",
      "\n",
      "At iterate    1    f= -4.76053D+00    |proj g|=  1.03542D+00\n",
      "\n",
      "At iterate    2    f= -9.81639D+00    |proj g|=  3.02033D-01\n",
      "\n",
      "At iterate    3    f= -1.04262D+01    |proj g|=  2.13640D-01\n",
      "\n",
      "At iterate    4    f= -1.13795D+01    |proj g|=  8.56196D-01\n",
      "\n",
      "At iterate    5    f= -1.34396D+01    |proj g|=  2.51809D+00\n",
      "  ys=-1.156E-01  -gs= 5.958E-02 BFGS update SKIPPED\n"
     ]
    },
    {
     "name": "stderr",
     "output_type": "stream",
     "text": [
      "\n",
      " Bad direction in the line search;\n",
      "   refresh the lbfgs memory and restart the iteration.\n"
     ]
    },
    {
     "name": "stdout",
     "output_type": "stream",
     "text": [
      "\n",
      "At iterate    6    f= -1.34396D+01    |proj g|=  2.51809D+00\n"
     ]
    },
    {
     "name": "stderr",
     "output_type": "stream",
     "text": [
      "\n",
      " Warning:  more than 10 function and gradient\n",
      "   evaluations in the last line search.  Termination\n",
      "   may possibly be caused by a bad search direction.\n"
     ]
    },
    {
     "name": "stdout",
     "output_type": "stream",
     "text": [
      "\n",
      "           * * *\n",
      "\n",
      "Tit   = total number of iterations\n",
      "Tnf   = total number of function evaluations\n",
      "Tnint = total number of segments explored during Cauchy searches\n",
      "Skip  = number of BFGS updates skipped\n",
      "Nact  = number of active bounds at final generalized Cauchy point\n",
      "Projg = norm of the final projected gradient\n",
      "F     = final function value\n",
      "\n",
      "           * * *\n",
      "\n",
      "   N    Tit     Tnf  Tnint  Skip  Nact     Projg        F\n",
      "{'Lx': 1.634615182876587, 'Ly': 1.634615182876587, 'Cx': 39.127864837646484, 'Cy': 39.127864837646484, 'Jx': 5.0, 'Jy': 5.0, 'CJx': 112.25826263427734, 'CJy': 112.25826263427734}\n",
      "26 {'Lx': 24.519226942474766, 'Ly': 10.0, 'Cx': 9.685114653853796, 'Cy': 5.0, 'Jx': 18.75, 'Jy': 10.0, 'CJx': 116.22137584624556, 'CJy': 50.0}\n",
      "    4      6     53     10     1     3   2.518D+00  -1.344D+01\n",
      "  F =  -13.439597129821777     \n",
      "\n",
      "CONVERGENCE: REL_REDUCTION_OF_F_<=_FACTR*EPSMCH             \n",
      "RUNNING THE L-BFGS-B CODE\n",
      "\n",
      "           * * *\n",
      "\n",
      "Machine precision = 2.220D-16\n",
      " N =            4     M =           10\n",
      "\n",
      "At X0         0 variables are exactly at the bounds\n",
      "\n",
      "At iterate    0    f= -5.09480D+00    |proj g|=  1.03474D+00\n",
      "\n",
      "At iterate    1    f= -5.30513D+00    |proj g|=  9.82746D-01\n",
      "\n",
      "At iterate    2    f= -6.80153D+00    |proj g|=  5.82647D-01\n",
      "\n",
      "At iterate    3    f= -9.76558D+00    |proj g|=  1.10117D-01\n",
      "\n",
      "At iterate    4    f= -1.08317D+01    |proj g|=  2.24830D-01\n",
      "\n",
      "At iterate    5    f= -1.46028D+01    |proj g|=  1.37822D+01\n",
      "  ys=-1.545E+01  -gs= 2.830E-01 BFGS update SKIPPED\n"
     ]
    },
    {
     "name": "stderr",
     "output_type": "stream",
     "text": [
      "\n",
      " Bad direction in the line search;\n",
      "   refresh the lbfgs memory and restart the iteration.\n"
     ]
    },
    {
     "name": "stdout",
     "output_type": "stream",
     "text": [
      "\n",
      "           * * *\n",
      "\n",
      "Tit   = total number of iterations\n",
      "Tnf   = total number of function evaluations\n",
      "Tnint = total number of segments explored during Cauchy searches\n",
      "Skip  = number of BFGS updates skipped\n",
      "Nact  = number of active bounds at final generalized Cauchy point\n",
      "Projg = norm of the final projected gradient\n",
      "F     = final function value\n",
      "\n",
      "           * * *\n",
      "\n",
      "   N    Tit     Tnf  Tnint  Skip  Nact     Projg        F\n",
      "{'Lx': 1.634615182876587, 'Ly': 1.634615182876587, 'Cx': 37.82387161254883, 'Cy': 37.82387161254883, 'Jx': 5.001387119293213, 'Jy': 5.001387119293213, 'CJx': 129.45896911621094, 'CJy': 129.45896911621094}\n",
      "27 {'Lx': 8.173075647491588, 'Ly': 10.0, 'Cx': 19.370229307707593, 'Cy': 5.0, 'Jx': 6.25, 'Jy': 10.0, 'CJx': 38.740458615415186, 'CJy': 50.0}\n",
      "    4      6     50     13     1     2   1.378D+01  -1.460D+01\n",
      "  F =  -14.602849960327148     \n",
      "\n",
      "ABNORMAL_TERMINATION_IN_LNSRCH                              \n"
     ]
    },
    {
     "name": "stderr",
     "output_type": "stream",
     "text": [
      "\n",
      " Line search cannot locate an adequate point after MAXLS\n",
      "  function and gradient evaluations.\n",
      "  Previous x, f and g restored.\n",
      " Possible causes: 1 error in function or gradient evaluation;\n",
      "                  2 rounding error dominate computation.\n"
     ]
    },
    {
     "name": "stdout",
     "output_type": "stream",
     "text": [
      "RUNNING THE L-BFGS-B CODE\n",
      "\n",
      "           * * *\n",
      "\n",
      "Machine precision = 2.220D-16\n",
      " N =            4     M =           10\n",
      "\n",
      "At X0         0 variables are exactly at the bounds\n",
      "\n",
      "At iterate    0    f= -7.24843D+00    |proj g|=  6.00301D-01\n",
      "\n",
      "At iterate    1    f= -7.57032D+00    |proj g|=  6.80016D-01\n",
      "  ys=-8.772E-02  -gs= 9.879E-01 BFGS update SKIPPED\n",
      "\n",
      "At iterate    2    f= -8.15207D+00    |proj g|=  6.80669D-01\n",
      "\n",
      "At iterate    3    f= -1.09320D+01    |proj g|=  2.00765D+00\n",
      "  ys=-1.795E+01  -gs= 1.695E+01 BFGS update SKIPPED\n",
      "\n",
      "At iterate    4    f= -1.14258D+01    |proj g|=  7.71426D-01\n",
      "\n",
      "At iterate    5    f= -1.15105D+01    |proj g|=  1.92084D+00\n",
      "  ys=-1.198E+01  -gs= 7.886E+00 BFGS update SKIPPED\n",
      "\n",
      "At iterate    6    f= -1.52833D+01    |proj g|=  7.83221D+01\n",
      "  ys=-1.094E-01  -gs= 2.767E-03 BFGS update SKIPPED\n",
      "\n",
      "At iterate    7    f= -1.59760D+01    |proj g|=  7.03084D+01\n"
     ]
    },
    {
     "name": "stderr",
     "output_type": "stream",
     "text": [
      "\n",
      " Bad direction in the line search;\n",
      "   refresh the lbfgs memory and restart the iteration.\n",
      "\n",
      " Line search cannot locate an adequate point after MAXLS\n",
      "  function and gradient evaluations.\n",
      "  Previous x, f and g restored.\n",
      " Possible causes: 1 error in function or gradient evaluation;\n",
      "                  2 rounding error dominate computation.\n"
     ]
    },
    {
     "name": "stdout",
     "output_type": "stream",
     "text": [
      "\n",
      "           * * *\n",
      "\n",
      "Tit   = total number of iterations\n",
      "Tnf   = total number of function evaluations\n",
      "Tnint = total number of segments explored during Cauchy searches\n",
      "Skip  = number of BFGS updates skipped\n",
      "Nact  = number of active bounds at final generalized Cauchy point\n",
      "Projg = norm of the final projected gradient\n",
      "F     = final function value\n",
      "\n",
      "           * * *\n",
      "\n",
      "   N    Tit     Tnf  Tnint  Skip  Nact     Projg        F\n",
      "    4      8     75     14     4     4   7.031D+01  -1.598D+01\n",
      "  F =  -15.975957870483398     \n",
      "\n",
      "ABNORMAL_TERMINATION_IN_LNSRCH                              \n",
      "{'Lx': 1.634615182876587, 'Ly': 1.634615182876587, 'Cx': 39.127864837646484, 'Cy': 39.127864837646484, 'Jx': 5.767065525054932, 'Jy': 5.767065525054932, 'CJx': 88.52751922607422, 'CJy': 88.52751922607422}\n",
      "28 {'Lx': 8.173075647491588, 'Ly': 10.0, 'Cx': 19.370229307707593, 'Cy': 5.0, 'Jx': 6.25, 'Jy': 10.0, 'CJx': 77.48091723083037, 'CJy': 50.0}\n",
      "RUNNING THE L-BFGS-B CODE\n",
      "\n",
      "           * * *\n",
      "\n",
      "Machine precision = 2.220D-16\n",
      " N =            4     M =           10\n",
      "\n",
      "At X0         0 variables are exactly at the bounds\n",
      "\n",
      "At iterate    0    f= -8.28523D+00    |proj g|=  8.94262D-01\n",
      "\n",
      "At iterate    1    f= -8.41681D+00    |proj g|=  9.81479D-01\n",
      "  ys=-1.695E-04  -gs= 2.044E-03 BFGS update SKIPPED\n",
      "\n",
      "At iterate    2    f= -8.64465D+00    |proj g|=  1.26324D+00\n",
      "  ys=-9.844E-02  -gs= 4.280E-01 BFGS update SKIPPED\n",
      "\n",
      "At iterate    3    f= -8.66883D+00    |proj g|=  1.02146D+00\n",
      "\n",
      "At iterate    4    f= -8.96018D+00    |proj g|=  3.78902D-01\n",
      "\n",
      "At iterate    5    f= -1.02819D+01    |proj g|=  5.66449D-01\n",
      "\n",
      "At iterate    6    f= -1.05751D+01    |proj g|=  1.12751D+00\n",
      "\n",
      "At iterate    7    f= -1.07551D+01    |proj g|=  1.09817D+00\n",
      "\n",
      "At iterate    8    f= -1.09978D+01    |proj g|=  8.32466D-01\n",
      "\n",
      "At iterate    9    f= -1.09978D+01    |proj g|=  8.32466D-01\n",
      "\n",
      "           * * *\n",
      "\n",
      "Tit   = total number of iterations\n",
      "Tnf   = total number of function evaluations\n",
      "Tnint = total number of segments explored during Cauchy searches\n",
      "Skip  = number of BFGS updates skipped\n",
      "Nact  = number of active bounds at final generalized Cauchy point\n",
      "Projg = norm of the final projected gradient\n",
      "F     = final function value\n",
      "\n",
      "           * * *\n",
      "\n",
      "   N    Tit     Tnf  Tnint  Skip  Nact     Projg        F\n",
      "    4      9     44     11     2     0   8.325D-01  -1.100D+01\n",
      "  F =  -10.997750282287598     \n",
      "\n",
      "CONVERGENCE: REL_REDUCTION_OF_F_<=_FACTR*EPSMCH             \n",
      "{'Lx': 2.4422378540039062, 'Ly': 2.4422378540039062, 'Cx': 36.39141845703125, 'Cy': 36.39141845703125, 'Jx': 5.140408515930176, 'Jy': 5.140408515930176, 'CJx': 84.68605041503906, 'CJy': 84.68605041503906}\n",
      "29 {'Lx': 8.173075647491588, 'Ly': 10.0, 'Cx': 19.370229307707593, 'Cy': 5.0, 'Jx': 6.25, 'Jy': 10.0, 'CJx': 116.22137584624556, 'CJy': 50.0}\n"
     ]
    },
    {
     "name": "stderr",
     "output_type": "stream",
     "text": [
      "\n",
      " Warning:  more than 10 function and gradient\n",
      "   evaluations in the last line search.  Termination\n",
      "   may possibly be caused by a bad search direction.\n"
     ]
    },
    {
     "name": "stdout",
     "output_type": "stream",
     "text": [
      "RUNNING THE L-BFGS-B CODE\n",
      "\n",
      "           * * *\n",
      "\n",
      "Machine precision = 2.220D-16\n",
      " N =            4     M =           10\n",
      "\n",
      "At X0         0 variables are exactly at the bounds\n",
      "\n",
      "At iterate    0    f= -8.49868D+00    |proj g|=  8.30240D-01\n",
      "\n",
      "At iterate    1    f= -9.16006D+00    |proj g|=  1.41169D+00\n",
      "  ys=-5.958E-01  -gs= 1.143E+00 BFGS update SKIPPED\n",
      "\n",
      "At iterate    2    f= -1.09032D+01    |proj g|=  6.08506D-01\n",
      "\n",
      "At iterate    3    f= -1.11280D+01    |proj g|=  4.63099D-01\n",
      "\n",
      "At iterate    4    f= -1.11280D+01    |proj g|=  4.63099D-01\n",
      "\n",
      "           * * *\n",
      "\n",
      "Tit   = total number of iterations\n",
      "Tnf   = total number of function evaluations\n",
      "Tnint = total number of segments explored during Cauchy searches\n",
      "Skip  = number of BFGS updates skipped\n",
      "Nact  = number of active bounds at final generalized Cauchy point\n",
      "Projg = norm of the final projected gradient\n",
      "F     = final function value\n",
      "\n",
      "           * * *\n",
      "\n",
      "   N    Tit     Tnf  Tnint  Skip  Nact     Projg        F\n",
      "{'Lx': 1.9137600660324097, 'Ly': 1.9137600660324097, 'Cx': 23.622446060180664, 'Cy': 23.622446060180664, 'Jx': 5.0, 'Jy': 5.0, 'CJx': 120.55598449707031, 'CJy': 120.55598449707031}\n",
      "30 {'Lx': 8.173075647491588, 'Ly': 10.0, 'Cx': 19.370229307707593, 'Cy': 5.0, 'Jx': 12.5, 'Jy': 10.0, 'CJx': 38.740458615415186, 'CJy': 50.0}\n",
      "    4      4     21      5     1     0   4.631D-01  -1.113D+01\n",
      "  F =  -11.128019332885742     \n",
      "\n",
      "CONVERGENCE: REL_REDUCTION_OF_F_<=_FACTR*EPSMCH             \n"
     ]
    },
    {
     "name": "stderr",
     "output_type": "stream",
     "text": [
      "\n",
      " Warning:  more than 10 function and gradient\n",
      "   evaluations in the last line search.  Termination\n",
      "   may possibly be caused by a bad search direction.\n"
     ]
    },
    {
     "name": "stdout",
     "output_type": "stream",
     "text": [
      "RUNNING THE L-BFGS-B CODE\n",
      "\n",
      "           * * *\n",
      "\n",
      "Machine precision = 2.220D-16\n",
      " N =            4     M =           10\n",
      "\n",
      "At X0         0 variables are exactly at the bounds\n",
      "\n",
      "At iterate    0    f= -6.44818D+00    |proj g|=  8.09155D-01\n",
      "\n",
      "At iterate    1    f= -6.68767D+00    |proj g|=  8.25132D-01\n",
      "  ys=-1.856E-03  -gs= 1.727E+00 BFGS update SKIPPED\n",
      "\n",
      "At iterate    2    f= -1.10165D+01    |proj g|=  5.53663D+00\n",
      "\n",
      "At iterate    3    f= -1.19470D+01    |proj g|=  1.58991D+01\n",
      "\n",
      "At iterate    4    f= -1.19470D+01    |proj g|=  1.58991D+01\n",
      "\n",
      "           * * *\n",
      "\n",
      "Tit   = total number of iterations\n",
      "Tnf   = total number of function evaluations\n",
      "Tnint = total number of segments explored during Cauchy searches\n",
      "Skip  = number of BFGS updates skipped\n",
      "Nact  = number of active bounds at final generalized Cauchy point\n",
      "Projg = norm of the final projected gradient\n",
      "F     = final function value\n",
      "\n",
      "           * * *\n",
      "\n",
      "   N    Tit     Tnf  Tnint  Skip  Nact     Projg        F\n",
      "{'Lx': 1.6549046039581299, 'Ly': 1.6549046039581299, 'Cx': 24.026105880737305, 'Cy': 24.026105880737305, 'Jx': 8.239383697509766, 'Jy': 8.239383697509766, 'CJx': 46.00278854370117, 'CJy': 46.00278854370117}\n",
      "31 {'Lx': 8.173075647491588, 'Ly': 10.0, 'Cx': 19.370229307707593, 'Cy': 5.0, 'Jx': 12.5, 'Jy': 10.0, 'CJx': 77.48091723083037, 'CJy': 50.0}\n",
      "    4      4     30      4     1     0   1.590D+01  -1.195D+01\n",
      "  F =  -11.947037696838379     \n",
      "\n",
      "CONVERGENCE: REL_REDUCTION_OF_F_<=_FACTR*EPSMCH             \n"
     ]
    },
    {
     "name": "stderr",
     "output_type": "stream",
     "text": [
      "\n",
      " Warning:  more than 10 function and gradient\n",
      "   evaluations in the last line search.  Termination\n",
      "   may possibly be caused by a bad search direction.\n"
     ]
    },
    {
     "name": "stdout",
     "output_type": "stream",
     "text": [
      "RUNNING THE L-BFGS-B CODE\n",
      "\n",
      "           * * *\n",
      "\n",
      "Machine precision = 2.220D-16\n",
      " N =            4     M =           10\n",
      "\n",
      "At X0         0 variables are exactly at the bounds\n",
      "\n",
      "At iterate    0    f= -7.38210D+00    |proj g|=  8.95364D-01\n",
      "\n",
      "At iterate    1    f= -7.59314D+00    |proj g|=  9.04324D-01\n",
      "\n",
      "At iterate    2    f= -9.83047D+00    |proj g|=  2.82545D-01\n",
      "\n",
      "At iterate    3    f= -1.08166D+01    |proj g|=  4.32887D-01\n",
      "\n",
      "At iterate    4    f= -1.12351D+01    |proj g|=  2.98339D-01\n",
      "\n",
      "At iterate    5    f= -1.40436D+01    |proj g|=  1.28394D+01\n",
      "  ys=-6.676E+00  -gs= 3.571E-01 BFGS update SKIPPED\n"
     ]
    },
    {
     "name": "stderr",
     "output_type": "stream",
     "text": [
      "\n",
      " Bad direction in the line search;\n",
      "   refresh the lbfgs memory and restart the iteration.\n"
     ]
    },
    {
     "name": "stdout",
     "output_type": "stream",
     "text": [
      "\n",
      "At iterate    6    f= -1.40436D+01    |proj g|=  1.28394D+01\n",
      "\n",
      "           * * *\n",
      "\n",
      "Tit   = total number of iterations\n",
      "Tnf   = total number of function evaluations\n",
      "Tnint = total number of segments explored during Cauchy searches\n",
      "Skip  = number of BFGS updates skipped\n",
      "Nact  = number of active bounds at final generalized Cauchy point\n",
      "Projg = norm of the final projected gradient\n",
      "F     = final function value\n",
      "\n",
      "           * * *\n",
      "\n",
      "   N    Tit     Tnf  Tnint  Skip  Nact     Projg        F\n",
      "    4      6     55      9     1     0   1.284D+01  -1.404D+01\n",
      "  F =  -14.043556213378906     \n",
      "\n",
      "CONVERGENCE: REL_REDUCTION_OF_F_<=_FACTR*EPSMCH             \n",
      "{'Lx': 1.634615182876587, 'Ly': 1.634615182876587, 'Cx': 35.548065185546875, 'Cy': 35.548065185546875, 'Jx': 6.191167831420898, 'Jy': 6.191167831420898, 'CJx': 108.8467025756836, 'CJy': 108.8467025756836}\n",
      "32 {'Lx': 8.173075647491588, 'Ly': 10.0, 'Cx': 19.370229307707593, 'Cy': 5.0, 'Jx': 12.5, 'Jy': 10.0, 'CJx': 116.22137584624556, 'CJy': 50.0}\n"
     ]
    },
    {
     "name": "stderr",
     "output_type": "stream",
     "text": [
      "\n",
      " Warning:  more than 10 function and gradient\n",
      "   evaluations in the last line search.  Termination\n",
      "   may possibly be caused by a bad search direction.\n"
     ]
    },
    {
     "name": "stdout",
     "output_type": "stream",
     "text": [
      "RUNNING THE L-BFGS-B CODE\n",
      "\n",
      "           * * *\n",
      "\n",
      "Machine precision = 2.220D-16\n",
      " N =            4     M =           10\n",
      "\n",
      "At X0         0 variables are exactly at the bounds\n",
      "\n",
      "At iterate    0    f= -8.34697D+00    |proj g|=  1.55196D+00\n",
      "\n",
      "At iterate    1    f= -8.71447D+00    |proj g|=  1.58198D+00\n",
      "\n",
      "At iterate    2    f= -1.00695D+01    |proj g|=  3.95374D-01\n",
      "\n",
      "At iterate    3    f= -1.00695D+01    |proj g|=  3.95374D-01\n",
      "\n",
      "           * * *\n",
      "\n",
      "Tit   = total number of iterations\n",
      "Tnf   = total number of function evaluations\n",
      "Tnint = total number of segments explored during Cauchy searches\n",
      "Skip  = number of BFGS updates skipped\n",
      "Nact  = number of active bounds at final generalized Cauchy point\n",
      "Projg = norm of the final projected gradient\n",
      "F     = final function value\n",
      "\n",
      "           * * *\n",
      "\n",
      "   N    Tit     Tnf  Tnint  Skip  Nact     Projg        F\n",
      "    4      3     14      4     0     0   3.954D-01  -1.007D+01\n",
      "  F =  -10.069522857666016     \n",
      "\n",
      "CONVERGENCE: REL_REDUCTION_OF_F_<=_FACTR*EPSMCH             \n",
      "{'Lx': 1.634615182876587, 'Ly': 1.634615182876587, 'Cx': 22.92015266418457, 'Cy': 22.92015266418457, 'Jx': 7.828211307525635, 'Jy': 7.828211307525635, 'CJx': 121.41622161865234, 'CJy': 121.41622161865234}\n",
      "33 {'Lx': 8.173075647491588, 'Ly': 10.0, 'Cx': 19.370229307707593, 'Cy': 5.0, 'Jx': 18.75, 'Jy': 10.0, 'CJx': 38.740458615415186, 'CJy': 50.0}\n"
     ]
    },
    {
     "name": "stderr",
     "output_type": "stream",
     "text": [
      "\n",
      " Warning:  more than 10 function and gradient\n",
      "   evaluations in the last line search.  Termination\n",
      "   may possibly be caused by a bad search direction.\n"
     ]
    },
    {
     "name": "stdout",
     "output_type": "stream",
     "text": [
      "RUNNING THE L-BFGS-B CODE\n",
      "\n",
      "           * * *\n",
      "\n",
      "Machine precision = 2.220D-16\n",
      " N =            4     M =           10\n",
      "\n",
      "At X0         0 variables are exactly at the bounds\n",
      "\n",
      "At iterate    0    f= -5.98242D+00    |proj g|=  8.81181D-01\n",
      "\n",
      "At iterate    1    f= -6.23401D+00    |proj g|=  8.91778D-01\n",
      "\n",
      "At iterate    2    f= -1.06635D+01    |proj g|=  4.97449D+00\n",
      "  ys=-2.323E+01  -gs= 1.514E+01 BFGS update SKIPPED\n",
      "\n",
      "At iterate    3    f= -1.07497D+01    |proj g|=  4.76395D+00\n",
      "\n",
      "At iterate    4    f= -1.08252D+01    |proj g|=  4.14597D+00\n",
      "\n",
      "At iterate    5    f= -1.10508D+01    |proj g|=  2.85555D+00\n",
      "\n",
      "At iterate    6    f= -1.16200D+01    |proj g|=  5.08212D+00\n",
      "\n",
      "At iterate    7    f= -1.20307D+01    |proj g|=  4.78165D+00\n",
      "\n",
      "At iterate    8    f= -1.34171D+01    |proj g|=  2.78590D+01\n"
     ]
    },
    {
     "name": "stderr",
     "output_type": "stream",
     "text": [
      "\n",
      " Bad direction in the line search;\n",
      "   refresh the lbfgs memory and restart the iteration.\n"
     ]
    },
    {
     "name": "stdout",
     "output_type": "stream",
     "text": [
      "\n",
      "           * * *\n",
      "\n",
      "Tit   = total number of iterations\n",
      "Tnf   = total number of function evaluations\n",
      "Tnint = total number of segments explored during Cauchy searches\n",
      "Skip  = number of BFGS updates skipped\n",
      "Nact  = number of active bounds at final generalized Cauchy point\n",
      "Projg = norm of the final projected gradient\n",
      "F     = final function value\n",
      "\n",
      "           * * *\n",
      "\n",
      "   N    Tit     Tnf  Tnint  Skip  Nact     Projg        F\n",
      "{'Lx': 1.634615182876587, 'Ly': 1.634615182876587, 'Cx': 39.127864837646484, 'Cy': 39.127864837646484, 'Jx': 5.4823102951049805, 'Jy': 5.4823102951049805, 'CJx': 69.36972045898438, 'CJy': 69.36972045898438}\n",
      "34 {'Lx': 8.173075647491588, 'Ly': 10.0, 'Cx': 19.370229307707593, 'Cy': 5.0, 'Jx': 18.75, 'Jy': 10.0, 'CJx': 77.48091723083037, 'CJy': 50.0}\n",
      "    4      9     70     11     1     1   2.786D+01  -1.342D+01\n",
      "  F =  -13.417050361633301     \n",
      "\n",
      "ABNORMAL_TERMINATION_IN_LNSRCH                              \n"
     ]
    },
    {
     "name": "stderr",
     "output_type": "stream",
     "text": [
      "\n",
      " Line search cannot locate an adequate point after MAXLS\n",
      "  function and gradient evaluations.\n",
      "  Previous x, f and g restored.\n",
      " Possible causes: 1 error in function or gradient evaluation;\n",
      "                  2 rounding error dominate computation.\n"
     ]
    },
    {
     "name": "stdout",
     "output_type": "stream",
     "text": [
      "RUNNING THE L-BFGS-B CODE\n",
      "\n",
      "           * * *\n",
      "\n",
      "Machine precision = 2.220D-16\n",
      " N =            4     M =           10\n",
      "\n",
      "At X0         0 variables are exactly at the bounds\n",
      "\n",
      "At iterate    0    f= -6.95777D+00    |proj g|=  9.74394D-01\n",
      "\n",
      "At iterate    1    f= -7.22799D+00    |proj g|=  1.03171D+00\n",
      "  ys=-5.375E-02  -gs= 1.821E+00 BFGS update SKIPPED\n",
      "\n",
      "At iterate    2    f= -1.00411D+01    |proj g|=  1.23221D+00\n",
      "\n",
      "At iterate    3    f= -1.08720D+01    |proj g|=  3.17129D+00\n",
      "  ys=-3.441E-01  -gs= 2.184E-01 BFGS update SKIPPED\n",
      "\n",
      "At iterate    4    f= -1.08720D+01    |proj g|=  3.17129D+00\n",
      "\n",
      "           * * *\n",
      "\n",
      "Tit   = total number of iterations\n",
      "Tnf   = total number of function evaluations\n",
      "Tnint = total number of segments explored during Cauchy searches\n",
      "Skip  = number of BFGS updates skipped\n",
      "Nact  = number of active bounds at final generalized Cauchy point\n",
      "Projg = norm of the final projected gradient\n",
      "F     = final function value\n",
      "\n",
      "           * * *\n",
      "\n",
      "   N    Tit     Tnf  Tnint  Skip  Nact     Projg        F\n",
      "    4      4     27      4     2     0   3.171D+00  -1.087D+01\n",
      "  F =  -10.871969223022461     \n",
      "\n",
      "CONVERGENCE: REL_REDUCTION_OF_F_<=_FACTR*EPSMCH             \n",
      "{'Lx': 2.117464780807495, 'Ly': 2.117464780807495, 'Cx': 22.50918197631836, 'Cy': 22.50918197631836, 'Jx': 16.82820701599121, 'Jy': 16.82820701599121, 'CJx': 81.57096099853516, 'CJy': 81.57096099853516}\n",
      "35 {'Lx': 8.173075647491588, 'Ly': 10.0, 'Cx': 19.370229307707593, 'Cy': 5.0, 'Jx': 18.75, 'Jy': 10.0, 'CJx': 116.22137584624556, 'CJy': 50.0}\n"
     ]
    },
    {
     "name": "stderr",
     "output_type": "stream",
     "text": [
      "\n",
      " Warning:  more than 10 function and gradient\n",
      "   evaluations in the last line search.  Termination\n",
      "   may possibly be caused by a bad search direction.\n"
     ]
    },
    {
     "name": "stdout",
     "output_type": "stream",
     "text": [
      "RUNNING THE L-BFGS-B CODE\n",
      "\n",
      "           * * *\n",
      "\n",
      "Machine precision = 2.220D-16\n",
      " N =            4     M =           10\n",
      "\n",
      "At X0         0 variables are exactly at the bounds\n",
      "\n",
      "At iterate    0    f= -7.56794D+00    |proj g|=  1.10409D+00\n",
      "\n",
      "At iterate    1    f= -8.22130D+00    |proj g|=  1.70348D+00\n",
      "  ys=-8.018E-01  -gs= 1.798E+00 BFGS update SKIPPED\n",
      "\n",
      "At iterate    2    f= -9.80346D+00    |proj g|=  4.13207D-01\n",
      "\n",
      "At iterate    3    f= -1.05429D+01    |proj g|=  4.65321D-01\n"
     ]
    },
    {
     "name": "stderr",
     "output_type": "stream",
     "text": [
      "\n",
      " Bad direction in the line search;\n",
      "   refresh the lbfgs memory and restart the iteration.\n"
     ]
    },
    {
     "name": "stdout",
     "output_type": "stream",
     "text": [
      "\n",
      "           * * *\n",
      "\n",
      "Tit   = total number of iterations\n",
      "Tnf   = total number of function evaluations\n",
      "Tnint = total number of segments explored during Cauchy searches\n",
      "Skip  = number of BFGS updates skipped\n",
      "Nact  = number of active bounds at final generalized Cauchy point\n",
      "Projg = norm of the final projected gradient\n",
      "F     = final function value\n",
      "\n",
      "           * * *\n",
      "\n",
      "   N    Tit     Tnf  Tnint  Skip  Nact     Projg        F\n",
      "{'Lx': 1.634615182876587, 'Ly': 1.634615182876587, 'Cx': 21.984312057495117, 'Cy': 21.984312057495117, 'Jx': 16.875232696533203, 'Jy': 16.875232696533203, 'CJx': 118.35971069335938, 'CJy': 118.35971069335938}\n",
      "36 {'Lx': 16.346151294983176, 'Ly': 10.0, 'Cx': 19.370229307707593, 'Cy': 5.0, 'Jx': 6.25, 'Jy': 10.0, 'CJx': 38.740458615415186, 'CJy': 50.0}\n",
      "    4      4     46      5     1     1   4.653D-01  -1.054D+01\n",
      "  F =  -10.542928695678711     \n",
      "\n",
      "ABNORMAL_TERMINATION_IN_LNSRCH                              \n"
     ]
    },
    {
     "name": "stderr",
     "output_type": "stream",
     "text": [
      "\n",
      " Line search cannot locate an adequate point after MAXLS\n",
      "  function and gradient evaluations.\n",
      "  Previous x, f and g restored.\n",
      " Possible causes: 1 error in function or gradient evaluation;\n",
      "                  2 rounding error dominate computation.\n"
     ]
    },
    {
     "name": "stdout",
     "output_type": "stream",
     "text": [
      "RUNNING THE L-BFGS-B CODE\n",
      "\n",
      "           * * *\n",
      "\n",
      "Machine precision = 2.220D-16\n",
      " N =            4     M =           10\n",
      "\n",
      "At X0         0 variables are exactly at the bounds\n",
      "\n",
      "At iterate    0    f= -6.69525D+00    |proj g|=  6.51335D-01\n",
      "\n",
      "At iterate    1    f= -6.82748D+00    |proj g|=  6.31515D-01\n",
      "\n",
      "At iterate    2    f= -1.10665D+01    |proj g|=  3.01801D+00\n",
      "  ys=-3.237E+01  -gs= 3.126E+01 BFGS update SKIPPED\n",
      "\n",
      "At iterate    3    f= -1.33184D+01    |proj g|=  2.86651D+01\n",
      "  ys=-4.215E+02  -gs= 4.960E+01 BFGS update SKIPPED\n",
      "\n",
      "At iterate    4    f= -1.60391D+01    |proj g|=  0.00000D+00\n",
      "\n",
      "           * * *\n",
      "\n",
      "Tit   = total number of iterations\n",
      "Tnf   = total number of function evaluations\n",
      "Tnint = total number of segments explored during Cauchy searches\n",
      "Skip  = number of BFGS updates skipped\n",
      "Nact  = number of active bounds at final generalized Cauchy point\n",
      "Projg = norm of the final projected gradient\n",
      "F     = final function value\n",
      "\n",
      "           * * *\n",
      "\n",
      "   N    Tit     Tnf  Tnint  Skip  Nact     Projg        F\n",
      "    4      4     10      8     2     4   0.000D+00  -1.604D+01\n",
      "  F =  -16.039117813110352     \n",
      "\n",
      "CONVERGENCE: NORM_OF_PROJECTED_GRADIENT_<=_PGTOL            \n",
      "{'Lx': 1.634615182876587, 'Ly': 1.634615182876587, 'Cx': 39.127864837646484, 'Cy': 39.127864837646484, 'Jx': 5.0, 'Jy': 5.0, 'CJx': 158.83587646484375, 'CJy': 158.83587646484375}\n",
      "37 {'Lx': 16.346151294983176, 'Ly': 10.0, 'Cx': 19.370229307707593, 'Cy': 5.0, 'Jx': 6.25, 'Jy': 10.0, 'CJx': 77.48091723083037, 'CJy': 50.0}\n",
      "RUNNING THE L-BFGS-B CODE\n",
      "\n",
      "           * * *\n",
      "\n",
      "Machine precision = 2.220D-16\n",
      " N =            4     M =           10\n",
      "\n",
      "At X0         0 variables are exactly at the bounds\n",
      "\n",
      "At iterate    0    f= -7.52435D+00    |proj g|=  5.63916D-01\n"
     ]
    },
    {
     "name": "stderr",
     "output_type": "stream",
     "text": [
      "\n",
      " Line search cannot locate an adequate point after MAXLS\n",
      "  function and gradient evaluations.\n",
      "  Previous x, f and g restored.\n",
      " Possible causes: 1 error in function or gradient evaluation;\n",
      "                  2 rounding error dominate computation.\n"
     ]
    },
    {
     "name": "stdout",
     "output_type": "stream",
     "text": [
      "\n",
      "           * * *\n",
      "\n",
      "Tit   = total number of iterations\n",
      "Tnf   = total number of function evaluations\n",
      "Tnint = total number of segments explored during Cauchy searches\n",
      "Skip  = number of BFGS updates skipped\n",
      "Nact  = number of active bounds at final generalized Cauchy point\n",
      "Projg = norm of the final projected gradient\n",
      "F     = final function value\n",
      "\n",
      "           * * *\n",
      "\n",
      "   N    Tit     Tnf  Tnint  Skip  Nact     Projg        F\n",
      "    4      1     21      1     0     0   5.639D-01  -7.524D+00\n",
      "  F =  -7.5243487358093262     \n",
      "\n",
      "ABNORMAL_TERMINATION_IN_LNSRCH                              \n",
      "> \u001b[0;32m/Users/chishti/JupyterHub/DiSuQ/Torch/optimization.py\u001b[0m(282)\u001b[0;36mminimization\u001b[0;34m()\u001b[0m\n",
      "\u001b[0;32m    280 \u001b[0;31m        \u001b[0;32melse\u001b[0m\u001b[0;34m:\u001b[0m\u001b[0;34m\u001b[0m\u001b[0;34m\u001b[0m\u001b[0m\n",
      "\u001b[0m\u001b[0;32m    281 \u001b[0;31m            \u001b[0;32mimport\u001b[0m \u001b[0mpdb\u001b[0m\u001b[0;34m;\u001b[0m\u001b[0mpdb\u001b[0m\u001b[0;34m.\u001b[0m\u001b[0mset_trace\u001b[0m\u001b[0;34m(\u001b[0m\u001b[0;34m)\u001b[0m\u001b[0;34m\u001b[0m\u001b[0;34m\u001b[0m\u001b[0m\n",
      "\u001b[0m\u001b[0;32m--> 282 \u001b[0;31m        \u001b[0mdParams\u001b[0m \u001b[0;34m=\u001b[0m \u001b[0mpandas\u001b[0m\u001b[0;34m.\u001b[0m\u001b[0mDataFrame\u001b[0m\u001b[0;34m(\u001b[0m\u001b[0mdParams\u001b[0m\u001b[0;34m)\u001b[0m\u001b[0;34m\u001b[0m\u001b[0;34m\u001b[0m\u001b[0m\n",
      "\u001b[0m\u001b[0;32m    283 \u001b[0;31m        \u001b[0mdCircuit\u001b[0m \u001b[0;34m=\u001b[0m \u001b[0mpandas\u001b[0m\u001b[0;34m.\u001b[0m\u001b[0mDataFrame\u001b[0m\u001b[0;34m(\u001b[0m\u001b[0mdCircuit\u001b[0m\u001b[0;34m)\u001b[0m\u001b[0;34m\u001b[0m\u001b[0;34m\u001b[0m\u001b[0m\n",
      "\u001b[0m\u001b[0;32m    284 \u001b[0;31m        \u001b[0;32mreturn\u001b[0m \u001b[0mdLog\u001b[0m\u001b[0;34m,\u001b[0m\u001b[0mdParams\u001b[0m\u001b[0;34m,\u001b[0m\u001b[0mdCircuit\u001b[0m\u001b[0;34m\u001b[0m\u001b[0;34m\u001b[0m\u001b[0m\n",
      "\u001b[0m\n",
      "ipdb> n\n",
      "> \u001b[0;32m/Users/chishti/JupyterHub/DiSuQ/Torch/optimization.py\u001b[0m(283)\u001b[0;36mminimization\u001b[0;34m()\u001b[0m\n",
      "\u001b[0;32m    281 \u001b[0;31m            \u001b[0;32mimport\u001b[0m \u001b[0mpdb\u001b[0m\u001b[0;34m;\u001b[0m\u001b[0mpdb\u001b[0m\u001b[0;34m.\u001b[0m\u001b[0mset_trace\u001b[0m\u001b[0;34m(\u001b[0m\u001b[0;34m)\u001b[0m\u001b[0;34m\u001b[0m\u001b[0;34m\u001b[0m\u001b[0m\n",
      "\u001b[0m\u001b[0;32m    282 \u001b[0;31m        \u001b[0mdParams\u001b[0m \u001b[0;34m=\u001b[0m \u001b[0mpandas\u001b[0m\u001b[0;34m.\u001b[0m\u001b[0mDataFrame\u001b[0m\u001b[0;34m(\u001b[0m\u001b[0mdParams\u001b[0m\u001b[0;34m)\u001b[0m\u001b[0;34m\u001b[0m\u001b[0;34m\u001b[0m\u001b[0m\n",
      "\u001b[0m\u001b[0;32m--> 283 \u001b[0;31m        \u001b[0mdCircuit\u001b[0m \u001b[0;34m=\u001b[0m \u001b[0mpandas\u001b[0m\u001b[0;34m.\u001b[0m\u001b[0mDataFrame\u001b[0m\u001b[0;34m(\u001b[0m\u001b[0mdCircuit\u001b[0m\u001b[0;34m)\u001b[0m\u001b[0;34m\u001b[0m\u001b[0;34m\u001b[0m\u001b[0m\n",
      "\u001b[0m\u001b[0;32m    284 \u001b[0;31m        \u001b[0;32mreturn\u001b[0m \u001b[0mdLog\u001b[0m\u001b[0;34m,\u001b[0m\u001b[0mdParams\u001b[0m\u001b[0;34m,\u001b[0m\u001b[0mdCircuit\u001b[0m\u001b[0;34m\u001b[0m\u001b[0;34m\u001b[0m\u001b[0m\n",
      "\u001b[0m\u001b[0;32m    285 \u001b[0;31m\u001b[0;34m\u001b[0m\u001b[0m\n",
      "\u001b[0m\n",
      "ipdb> c\n",
      "{'Lx': 16.34615135192871, 'Ly': 16.34615135192871, 'Cx': 19.3702335357666, 'Cy': 19.3702335357666, 'Jx': 6.25, 'Jy': 6.25, 'CJx': 77.48091888427734, 'CJy': 77.48091888427734}\n",
      "38 {'Lx': 16.346151294983176, 'Ly': 10.0, 'Cx': 19.370229307707593, 'Cy': 5.0, 'Jx': 6.25, 'Jy': 10.0, 'CJx': 116.22137584624556, 'CJy': 50.0}\n",
      "RUNNING THE L-BFGS-B CODE\n",
      "\n",
      "           * * *\n",
      "\n",
      "Machine precision = 2.220D-16\n",
      " N =            4     M =           10\n",
      "\n",
      "At X0         0 variables are exactly at the bounds\n",
      "\n",
      "At iterate    0    f= -7.97311D+00    |proj g|=  5.83234D-01\n",
      "\n",
      "At iterate    1    f= -8.15783D+00    |proj g|=  6.91673D-01\n",
      "  ys=-4.482E-05  -gs= 3.390E-04 BFGS update SKIPPED\n"
     ]
    },
    {
     "name": "stderr",
     "output_type": "stream",
     "text": [
      "/Users/chishti/JupyterHub/DiSuQ/Torch/components.py:72: RuntimeWarning:\n",
      "\n",
      "divide by zero encountered in scalar divide\n",
      "\n"
     ]
    },
    {
     "name": "stdout",
     "output_type": "stream",
     "text": [
      "\n",
      "At iterate    2    f= -9.06243D+00    |proj g|=  1.17742D+00\n",
      "  ys=-1.048E+00  -gs= 4.063E+00 BFGS update SKIPPED\n",
      "\n",
      "At iterate    3    f= -9.22783D+00    |proj g|=  9.95600D-01\n",
      "\n",
      "At iterate    4    f= -9.35563D+00    |proj g|=  1.40232D-01\n",
      "\n",
      "At iterate    5    f= -9.59058D+00    |proj g|=  7.96338D-02\n",
      "\n",
      "At iterate    6    f= -1.22622D+01    |proj g|=  7.10340D-01\n",
      "\n",
      "At iterate    7    f= -1.22622D+01    |proj g|=  7.10340D-01\n"
     ]
    },
    {
     "name": "stderr",
     "output_type": "stream",
     "text": [
      "\n",
      " Warning:  more than 10 function and gradient\n",
      "   evaluations in the last line search.  Termination\n",
      "   may possibly be caused by a bad search direction.\n"
     ]
    },
    {
     "name": "stdout",
     "output_type": "stream",
     "text": [
      "\n",
      "           * * *\n",
      "\n",
      "Tit   = total number of iterations\n",
      "Tnf   = total number of function evaluations\n",
      "Tnint = total number of segments explored during Cauchy searches\n",
      "Skip  = number of BFGS updates skipped\n",
      "Nact  = number of active bounds at final generalized Cauchy point\n",
      "Projg = norm of the final projected gradient\n",
      "F     = final function value\n",
      "\n",
      "           * * *\n",
      "\n",
      "   N    Tit     Tnf  Tnint  Skip  Nact     Projg        F\n",
      "{'Lx': 1.775611400604248, 'Ly': 1.775611400604248, 'Cx': 37.358924865722656, 'Cy': 37.358924865722656, 'Jx': 5.0, 'Jy': 5.0, 'CJx': 126.52368927001953, 'CJy': 126.52368927001953}\n",
      "39 {'Lx': 16.346151294983176, 'Ly': 10.0, 'Cx': 19.370229307707593, 'Cy': 5.0, 'Jx': 12.5, 'Jy': 10.0, 'CJx': 38.740458615415186, 'CJy': 50.0}\n",
      "    4      7     37      8     2     0   7.103D-01  -1.226D+01\n",
      "  F =  -12.262206077575684     \n",
      "\n",
      "CONVERGENCE: REL_REDUCTION_OF_F_<=_FACTR*EPSMCH             \n",
      "RUNNING THE L-BFGS-B CODE\n",
      "\n",
      "           * * *\n",
      "\n",
      "Machine precision = 2.220D-16\n",
      " N =            4     M =           10\n",
      "\n",
      "At X0         0 variables are exactly at the bounds\n",
      "\n",
      "At iterate    0    f= -5.70802D+00    |proj g|=  7.79411D-01\n",
      "\n",
      "At iterate    1    f= -5.88424D+00    |proj g|=  7.62831D-01\n",
      "\n",
      "At iterate    2    f= -1.11930D+01    |proj g|=  2.31207D+00\n",
      "  ys=-2.215E+01  -gs= 4.610E+01 BFGS update SKIPPED\n",
      "\n",
      "At iterate    3    f= -1.20843D+01    |proj g|=  4.77416D+00\n",
      "\n",
      "At iterate    4    f= -1.31223D+01    |proj g|=  1.14456D+01\n",
      "\n",
      "At iterate    5    f= -1.31223D+01    |proj g|=  1.14456D+01\n"
     ]
    },
    {
     "name": "stderr",
     "output_type": "stream",
     "text": [
      "\n",
      " Warning:  more than 10 function and gradient\n",
      "   evaluations in the last line search.  Termination\n",
      "   may possibly be caused by a bad search direction.\n"
     ]
    },
    {
     "name": "stdout",
     "output_type": "stream",
     "text": [
      "\n",
      "           * * *\n",
      "\n",
      "Tit   = total number of iterations\n",
      "Tnf   = total number of function evaluations\n",
      "Tnint = total number of segments explored during Cauchy searches\n",
      "Skip  = number of BFGS updates skipped\n",
      "Nact  = number of active bounds at final generalized Cauchy point\n",
      "Projg = norm of the final projected gradient\n",
      "F     = final function value\n",
      "\n",
      "           * * *\n",
      "\n",
      "   N    Tit     Tnf  Tnint  Skip  Nact     Projg        F\n",
      "{'Lx': 1.634615182876587, 'Ly': 1.634615182876587, 'Cx': 39.127864837646484, 'Cy': 39.127864837646484, 'Jx': 5.0, 'Jy': 5.0, 'CJx': 75.7462387084961, 'CJy': 75.7462387084961}\n",
      "40 {'Lx': 16.346151294983176, 'Ly': 10.0, 'Cx': 19.370229307707593, 'Cy': 5.0, 'Jx': 12.5, 'Jy': 10.0, 'CJx': 77.48091723083037, 'CJy': 50.0}\n",
      "    4      5     41      8     1     3   1.145D+01  -1.312D+01\n",
      "  F =  -13.122272491455078     \n",
      "\n",
      "CONVERGENCE: REL_REDUCTION_OF_F_<=_FACTR*EPSMCH             \n",
      "RUNNING THE L-BFGS-B CODE\n",
      "\n",
      "           * * *\n",
      "\n",
      "Machine precision = 2.220D-16\n",
      " N =            4     M =           10\n",
      "\n",
      "At X0         0 variables are exactly at the bounds\n",
      "\n",
      "At iterate    0    f= -6.52625D+00    |proj g|=  5.93956D-01\n",
      "\n",
      "At iterate    1    f= -6.66300D+00    |proj g|=  5.70865D-01\n",
      "\n",
      "At iterate    2    f= -1.11967D+01    |proj g|=  8.86278D-01\n",
      "\n",
      "At iterate    3    f= -1.14745D+01    |proj g|=  9.93668D-01\n",
      "  ys=-4.130E-01  -gs= 3.443E+00 BFGS update SKIPPED\n"
     ]
    },
    {
     "name": "stderr",
     "output_type": "stream",
     "text": [
      "\n",
      " Bad direction in the line search;\n",
      "   refresh the lbfgs memory and restart the iteration.\n"
     ]
    },
    {
     "name": "stdout",
     "output_type": "stream",
     "text": [
      "\n",
      "At iterate    4    f= -1.33406D+01    |proj g|=  6.12820D+00\n",
      "  ys=-6.336E-01  -gs= 1.229E-01 BFGS update SKIPPED\n",
      "\n",
      "At iterate    5    f= -1.33406D+01    |proj g|=  6.12820D+00\n",
      "\n",
      "           * * *\n",
      "\n",
      "Tit   = total number of iterations\n",
      "Tnf   = total number of function evaluations\n",
      "Tnint = total number of segments explored during Cauchy searches\n",
      "Skip  = number of BFGS updates skipped\n",
      "Nact  = number of active bounds at final generalized Cauchy point\n",
      "Projg = norm of the final projected gradient\n",
      "F     = final function value\n",
      "\n",
      "           * * *\n",
      "\n",
      "   N    Tit     Tnf  Tnint  Skip  Nact     Projg        F\n",
      "    4      5     54      8     2     2   6.128D+00  -1.334D+01\n",
      "  F =  -13.340553283691406     \n",
      "\n",
      "CONVERGENCE: REL_REDUCTION_OF_F_<=_FACTR*EPSMCH             \n",
      "{'Lx': 1.634615182876587, 'Ly': 1.634615182876587, 'Cx': 35.40995407104492, 'Cy': 35.40995407104492, 'Jx': 5.0, 'Jy': 5.0, 'CJx': 102.43547058105469, 'CJy': 102.43547058105469}\n",
      "41 {'Lx': 16.346151294983176, 'Ly': 10.0, 'Cx': 19.370229307707593, 'Cy': 5.0, 'Jx': 12.5, 'Jy': 10.0, 'CJx': 116.22137584624556, 'CJy': 50.0}\n"
     ]
    },
    {
     "name": "stderr",
     "output_type": "stream",
     "text": [
      "\n",
      " Warning:  more than 10 function and gradient\n",
      "   evaluations in the last line search.  Termination\n",
      "   may possibly be caused by a bad search direction.\n"
     ]
    },
    {
     "name": "stdout",
     "output_type": "stream",
     "text": [
      "RUNNING THE L-BFGS-B CODE\n",
      "\n",
      "           * * *\n",
      "\n",
      "Machine precision = 2.220D-16\n",
      " N =            4     M =           10\n",
      "\n",
      "At X0         0 variables are exactly at the bounds\n",
      "\n",
      "At iterate    0    f= -7.06855D+00    |proj g|=  6.01646D-01\n",
      "\n",
      "At iterate    1    f= -7.26883D+00    |proj g|=  6.58895D-01\n",
      "  ys=-4.886E-02  -gs= 1.102E+00 BFGS update SKIPPED\n",
      "\n",
      "At iterate    2    f= -9.35207D+00    |proj g|=  1.02009D+00\n",
      "\n",
      "At iterate    3    f= -9.59359D+00    |proj g|=  1.48706D-01\n",
      "\n",
      "At iterate    4    f= -9.70286D+00    |proj g|=  1.08281D-01\n",
      "\n",
      "At iterate    5    f= -9.93089D+00    |proj g|=  1.08371D-01\n",
      "  ys=-2.935E-05  -gs= 1.436E-03 BFGS update SKIPPED\n",
      "\n",
      "At iterate    6    f= -9.93089D+00    |proj g|=  1.08371D-01\n"
     ]
    },
    {
     "name": "stderr",
     "output_type": "stream",
     "text": [
      "\n",
      " Warning:  more than 10 function and gradient\n",
      "   evaluations in the last line search.  Termination\n",
      "   may possibly be caused by a bad search direction.\n"
     ]
    },
    {
     "name": "stdout",
     "output_type": "stream",
     "text": [
      "\n",
      "           * * *\n",
      "\n",
      "Tit   = total number of iterations\n",
      "Tnf   = total number of function evaluations\n",
      "Tnint = total number of segments explored during Cauchy searches\n",
      "Skip  = number of BFGS updates skipped\n",
      "Nact  = number of active bounds at final generalized Cauchy point\n",
      "Projg = norm of the final projected gradient\n",
      "F     = final function value\n",
      "\n",
      "           * * *\n",
      "\n",
      "   N    Tit     Tnf  Tnint  Skip  Nact     Projg        F\n",
      "{'Lx': 1.634615182876587, 'Ly': 1.634615182876587, 'Cx': 34.741180419921875, 'Cy': 34.741180419921875, 'Jx': 5.0, 'Jy': 5.0, 'CJx': 125.93468475341797, 'CJy': 125.93468475341797}\n",
      "42 {'Lx': 16.346151294983176, 'Ly': 10.0, 'Cx': 19.370229307707593, 'Cy': 5.0, 'Jx': 18.75, 'Jy': 10.0, 'CJx': 38.740458615415186, 'CJy': 50.0}\n",
      "    4      6     28      7     2     0   1.084D-01  -9.931D+00\n",
      "  F =  -9.9308872222900391     \n",
      "\n",
      "CONVERGENCE: REL_REDUCTION_OF_F_<=_FACTR*EPSMCH             \n",
      "RUNNING THE L-BFGS-B CODE\n",
      "\n",
      "           * * *\n",
      "\n",
      "Machine precision = 2.220D-16\n",
      " N =            4     M =           10\n",
      "\n",
      "At X0         0 variables are exactly at the bounds\n",
      "\n",
      "At iterate    0    f= -5.11047D+00    |proj g|=  8.59528D-01\n",
      "\n",
      "At iterate    1    f= -5.27483D+00    |proj g|=  8.54983D-01\n",
      "\n",
      "At iterate    2    f= -9.70307D+00    |proj g|=  4.81555D-01\n",
      "\n",
      "At iterate    3    f= -1.60391D+01    |proj g|=  0.00000D+00\n",
      "\n",
      "           * * *\n",
      "\n",
      "Tit   = total number of iterations\n",
      "Tnf   = total number of function evaluations\n",
      "Tnint = total number of segments explored during Cauchy searches\n",
      "Skip  = number of BFGS updates skipped\n",
      "Nact  = number of active bounds at final generalized Cauchy point\n",
      "Projg = norm of the final projected gradient\n",
      "F     = final function value\n",
      "\n",
      "           * * *\n",
      "\n",
      "   N    Tit     Tnf  Tnint  Skip  Nact     Projg        F\n",
      "    4      3      5      6     0     3   0.000D+00  -1.604D+01\n",
      "  F =  -16.039117813110352     \n",
      "\n",
      "CONVERGENCE: NORM_OF_PROJECTED_GRADIENT_<=_PGTOL            \n",
      "{'Lx': 1.634615182876587, 'Ly': 1.634615182876587, 'Cx': 39.127864837646484, 'Cy': 39.127864837646484, 'Jx': 5.0, 'Jy': 5.0, 'CJx': 158.83587646484375, 'CJy': 158.83587646484375}\n",
      "43 {'Lx': 16.346151294983176, 'Ly': 10.0, 'Cx': 19.370229307707593, 'Cy': 5.0, 'Jx': 18.75, 'Jy': 10.0, 'CJx': 77.48091723083037, 'CJy': 50.0}\n",
      "RUNNING THE L-BFGS-B CODE\n",
      "\n",
      "           * * *\n",
      "\n",
      "Machine precision = 2.220D-16\n",
      " N =            4     M =           10\n",
      "\n",
      "At X0         0 variables are exactly at the bounds\n",
      "\n",
      "At iterate    0    f= -5.98055D+00    |proj g|=  6.39487D-01\n",
      "\n",
      "At iterate    1    f= -6.11671D+00    |proj g|=  6.33117D-01\n",
      "\n",
      "At iterate    2    f= -1.15913D+01    |proj g|=  1.12812D+00\n"
     ]
    },
    {
     "name": "stderr",
     "output_type": "stream",
     "text": [
      "\n",
      " Bad direction in the line search;\n",
      "   refresh the lbfgs memory and restart the iteration.\n"
     ]
    },
    {
     "name": "stdout",
     "output_type": "stream",
     "text": [
      "\n",
      "At iterate    3    f= -1.15913D+01    |proj g|=  1.12812D+00\n",
      "\n",
      "           * * *\n",
      "\n",
      "Tit   = total number of iterations\n",
      "Tnf   = total number of function evaluations\n",
      "Tnint = total number of segments explored during Cauchy searches\n",
      "Skip  = number of BFGS updates skipped\n",
      "Nact  = number of active bounds at final generalized Cauchy point\n",
      "Projg = norm of the final projected gradient\n",
      "F     = final function value\n",
      "\n",
      "           * * *\n",
      "\n",
      "   N    Tit     Tnf  Tnint  Skip  Nact     Projg        F\n",
      "    4      3     37      5     0     2   1.128D+00  -1.159D+01\n",
      "  F =  -11.591333389282227     \n",
      "\n",
      "CONVERGENCE: REL_REDUCTION_OF_F_<=_FACTR*EPSMCH             \n",
      "{'Lx': 1.634615182876587, 'Ly': 1.634615182876587, 'Cx': 36.716758728027344, 'Cy': 36.716758728027344, 'Jx': 5.0, 'Jy': 5.0, 'CJx': 100.1452407836914, 'CJy': 100.1452407836914}\n",
      "44 {'Lx': 16.346151294983176, 'Ly': 10.0, 'Cx': 19.370229307707593, 'Cy': 5.0, 'Jx': 18.75, 'Jy': 10.0, 'CJx': 116.22137584624556, 'CJy': 50.0}\n"
     ]
    },
    {
     "name": "stderr",
     "output_type": "stream",
     "text": [
      "\n",
      " Warning:  more than 10 function and gradient\n",
      "   evaluations in the last line search.  Termination\n",
      "   may possibly be caused by a bad search direction.\n"
     ]
    },
    {
     "name": "stdout",
     "output_type": "stream",
     "text": [
      "RUNNING THE L-BFGS-B CODE\n",
      "\n",
      "           * * *\n",
      "\n",
      "Machine precision = 2.220D-16\n",
      " N =            4     M =           10\n",
      "\n",
      "At X0         0 variables are exactly at the bounds\n",
      "\n",
      "At iterate    0    f= -6.58168D+00    |proj g|=  6.80325D-01\n",
      "\n",
      "At iterate    1    f= -6.70276D+00    |proj g|=  7.07097D-01\n",
      "  ys=-3.191E-03  -gs= 1.154E+00 BFGS update SKIPPED\n",
      "\n",
      "At iterate    2    f= -1.02822D+01    |proj g|=  1.96109D-01\n",
      "\n",
      "At iterate    3    f= -1.12939D+01    |proj g|=  4.46158D-01\n"
     ]
    },
    {
     "name": "stderr",
     "output_type": "stream",
     "text": [
      "\n",
      " Bad direction in the line search;\n",
      "   refresh the lbfgs memory and restart the iteration.\n"
     ]
    },
    {
     "name": "stdout",
     "output_type": "stream",
     "text": [
      "\n",
      "At iterate    4    f= -1.12939D+01    |proj g|=  4.46158D-01\n",
      "\n",
      "           * * *\n",
      "\n",
      "Tit   = total number of iterations\n",
      "Tnf   = total number of function evaluations\n",
      "Tnint = total number of segments explored during Cauchy searches\n",
      "Skip  = number of BFGS updates skipped\n",
      "Nact  = number of active bounds at final generalized Cauchy point\n",
      "Projg = norm of the final projected gradient\n",
      "F     = final function value\n",
      "\n",
      "           * * *\n",
      "\n",
      "   N    Tit     Tnf  Tnint  Skip  Nact     Projg        F\n",
      "{'Lx': 1.634615182876587, 'Ly': 1.634615182876587, 'Cx': 36.10081481933594, 'Cy': 36.10081481933594, 'Jx': 11.761137962341309, 'Jy': 11.761137962341309, 'CJx': 121.1766357421875, 'CJy': 121.1766357421875}\n",
      "45 {'Lx': 24.519226942474766, 'Ly': 10.0, 'Cx': 19.370229307707593, 'Cy': 5.0, 'Jx': 6.25, 'Jy': 10.0, 'CJx': 38.740458615415186, 'CJy': 50.0}\n",
      "    4      4     38      5     1     1   4.462D-01  -1.129D+01\n",
      "  F =  -11.293943405151367     \n",
      "\n",
      "CONVERGENCE: REL_REDUCTION_OF_F_<=_FACTR*EPSMCH             \n"
     ]
    },
    {
     "name": "stderr",
     "output_type": "stream",
     "text": [
      "\n",
      " Warning:  more than 10 function and gradient\n",
      "   evaluations in the last line search.  Termination\n",
      "   may possibly be caused by a bad search direction.\n"
     ]
    },
    {
     "name": "stdout",
     "output_type": "stream",
     "text": [
      "RUNNING THE L-BFGS-B CODE\n",
      "\n",
      "           * * *\n",
      "\n",
      "Machine precision = 2.220D-16\n",
      " N =            4     M =           10\n",
      "\n",
      "At X0         0 variables are exactly at the bounds\n",
      "\n",
      "At iterate    0    f= -6.35821D+00    |proj g|=  6.35904D-01\n",
      "\n",
      "At iterate    1    f= -6.46989D+00    |proj g|=  6.27384D-01\n",
      "\n",
      "At iterate    2    f= -8.38731D+00    |proj g|=  3.17192D-01\n",
      "\n",
      "At iterate    3    f= -1.03387D+01    |proj g|=  5.46592D-01\n",
      "  ys=-1.983E+00  -gs= 7.808E+00 BFGS update SKIPPED\n",
      "\n",
      "At iterate    4    f= -1.05185D+01    |proj g|=  1.96178D-01\n",
      "\n",
      "At iterate    5    f= -1.60391D+01    |proj g|=  0.00000D+00\n",
      "\n",
      "           * * *\n",
      "\n",
      "Tit   = total number of iterations\n",
      "Tnf   = total number of function evaluations\n",
      "Tnint = total number of segments explored during Cauchy searches\n",
      "Skip  = number of BFGS updates skipped\n",
      "Nact  = number of active bounds at final generalized Cauchy point\n",
      "Projg = norm of the final projected gradient\n",
      "F     = final function value\n",
      "\n",
      "           * * *\n",
      "\n",
      "   N    Tit     Tnf  Tnint  Skip  Nact     Projg        F\n",
      "{'Lx': 1.634615182876587, 'Ly': 1.634615182876587, 'Cx': 39.127864837646484, 'Cy': 39.127864837646484, 'Jx': 5.0, 'Jy': 5.0, 'CJx': 158.83587646484375, 'CJy': 158.83587646484375}\n",
      "46 {'Lx': 24.519226942474766, 'Ly': 10.0, 'Cx': 19.370229307707593, 'Cy': 5.0, 'Jx': 6.25, 'Jy': 10.0, 'CJx': 77.48091723083037, 'CJy': 50.0}\n",
      "    4      5      7      8     1     3   0.000D+00  -1.604D+01\n",
      "  F =  -16.039117813110352     \n",
      "\n",
      "CONVERGENCE: NORM_OF_PROJECTED_GRADIENT_<=_PGTOL            \n",
      "RUNNING THE L-BFGS-B CODE\n",
      "\n",
      "           * * *\n",
      "\n",
      "Machine precision = 2.220D-16\n",
      " N =            4     M =           10\n",
      "\n",
      "At X0         0 variables are exactly at the bounds\n",
      "\n",
      "At iterate    0    f= -6.99360D+00    |proj g|=  5.69234D-01\n",
      "\n",
      "At iterate    1    f= -7.05902D+00    |proj g|=  5.47059D-01\n",
      "\n",
      "At iterate    2    f= -9.13244D+00    |proj g|=  7.24708D-01\n",
      "\n",
      "At iterate    3    f= -1.60391D+01    |proj g|=  0.00000D+00\n",
      "\n",
      "           * * *\n",
      "\n",
      "Tit   = total number of iterations\n",
      "Tnf   = total number of function evaluations\n",
      "Tnint = total number of segments explored during Cauchy searches\n",
      "Skip  = number of BFGS updates skipped\n",
      "Nact  = number of active bounds at final generalized Cauchy point\n",
      "Projg = norm of the final projected gradient\n",
      "F     = final function value\n",
      "\n",
      "           * * *\n",
      "\n",
      "   N    Tit     Tnf  Tnint  Skip  Nact     Projg        F\n",
      "    4      3      4      4     0     1   0.000D+00  -1.604D+01\n",
      "  F =  -16.039117813110352     \n",
      "\n",
      "CONVERGENCE: NORM_OF_PROJECTED_GRADIENT_<=_PGTOL            \n",
      "{'Lx': 1.634615182876587, 'Ly': 1.634615182876587, 'Cx': 39.127864837646484, 'Cy': 39.127864837646484, 'Jx': 5.0, 'Jy': 5.0, 'CJx': 158.83587646484375, 'CJy': 158.83587646484375}\n",
      "47 {'Lx': 24.519226942474766, 'Ly': 10.0, 'Cx': 19.370229307707593, 'Cy': 5.0, 'Jx': 6.25, 'Jy': 10.0, 'CJx': 116.22137584624556, 'CJy': 50.0}\n",
      "RUNNING THE L-BFGS-B CODE\n",
      "\n",
      "           * * *\n",
      "\n",
      "Machine precision = 2.220D-16\n",
      " N =            4     M =           10\n",
      "\n",
      "At X0         0 variables are exactly at the bounds\n",
      "\n",
      "At iterate    0    f= -7.28190D+00    |proj g|=  5.24989D-01\n",
      "\n",
      "At iterate    1    f= -7.60219D+00    |proj g|=  5.21930D-01\n",
      "  ys=-2.979E-02  -gs= 4.224E-01 BFGS update SKIPPED\n",
      "\n",
      "At iterate    2    f= -7.79789D+00    |proj g|=  5.54894D-01\n",
      "  ys=-9.640E-03  -gs= 8.191E-02 BFGS update SKIPPED\n",
      "\n",
      "At iterate    3    f= -7.79789D+00    |proj g|=  5.54894D-01\n",
      "\n",
      "           * * *\n",
      "\n",
      "Tit   = total number of iterations\n",
      "Tnf   = total number of function evaluations\n",
      "Tnint = total number of segments explored during Cauchy searches\n",
      "Skip  = number of BFGS updates skipped\n",
      "Nact  = number of active bounds at final generalized Cauchy point\n",
      "Projg = norm of the final projected gradient\n",
      "F     = final function value\n",
      "\n",
      "           * * *\n",
      "\n",
      "   N    Tit     Tnf  Tnint  Skip  Nact     Projg        F\n",
      "    4      3     20      3     2     0   5.549D-01  -7.798D+00\n",
      "  F =  -7.7978944778442383     \n",
      "\n",
      "CONVERGENCE: REL_REDUCTION_OF_F_<=_FACTR*EPSMCH             \n",
      "{'Lx': 24.24907112121582, 'Ly': 24.24907112121582, 'Cx': 19.982572555541992, 'Cy': 19.982572555541992, 'Jx': 6.012153148651123, 'Jy': 6.012153148651123, 'CJx': 116.50947570800781, 'CJy': 116.50947570800781}\n",
      "48 {'Lx': 24.519226942474766, 'Ly': 10.0, 'Cx': 19.370229307707593, 'Cy': 5.0, 'Jx': 12.5, 'Jy': 10.0, 'CJx': 38.740458615415186, 'CJy': 50.0}\n"
     ]
    },
    {
     "name": "stderr",
     "output_type": "stream",
     "text": [
      "\n",
      " Warning:  more than 10 function and gradient\n",
      "   evaluations in the last line search.  Termination\n",
      "   may possibly be caused by a bad search direction.\n"
     ]
    },
    {
     "name": "stdout",
     "output_type": "stream",
     "text": [
      "RUNNING THE L-BFGS-B CODE\n",
      "\n",
      "           * * *\n",
      "\n",
      "Machine precision = 2.220D-16\n",
      " N =            4     M =           10\n",
      "\n",
      "At X0         0 variables are exactly at the bounds\n",
      "\n",
      "At iterate    0    f= -5.33309D+00    |proj g|=  7.49566D-01\n",
      "\n",
      "At iterate    1    f= -5.50684D+00    |proj g|=  7.47670D-01\n",
      "\n",
      "At iterate    2    f= -9.12580D+00    |proj g|=  6.25403D-01\n",
      "\n",
      "At iterate    3    f= -1.08098D+01    |proj g|=  2.18258D-01\n",
      "\n",
      "At iterate    4    f= -1.12600D+01    |proj g|=  5.83092D-01\n",
      "\n",
      "At iterate    5    f= -1.12600D+01    |proj g|=  5.83092D-01\n",
      "\n",
      "           * * *\n",
      "\n",
      "Tit   = total number of iterations\n",
      "Tnf   = total number of function evaluations\n",
      "Tnint = total number of segments explored during Cauchy searches\n",
      "Skip  = number of BFGS updates skipped\n",
      "Nact  = number of active bounds at final generalized Cauchy point\n",
      "Projg = norm of the final projected gradient\n",
      "F     = final function value\n",
      "\n",
      "           * * *\n",
      "\n",
      "   N    Tit     Tnf  Tnint  Skip  Nact     Projg        F\n",
      "    4      5     29      8     0     3   5.831D-01  -1.126D+01\n",
      "  F =  -11.259996414184570     \n",
      "\n",
      "CONVERGENCE: REL_REDUCTION_OF_F_<=_FACTR*EPSMCH             \n",
      "{'Lx': 1.634615182876587, 'Ly': 1.634615182876587, 'Cx': 39.127864837646484, 'Cy': 39.127864837646484, 'Jx': 5.0, 'Jy': 5.0, 'CJx': 122.04464721679688, 'CJy': 122.04464721679688}\n",
      "49 {'Lx': 24.519226942474766, 'Ly': 10.0, 'Cx': 19.370229307707593, 'Cy': 5.0, 'Jx': 12.5, 'Jy': 10.0, 'CJx': 77.48091723083037, 'CJy': 50.0}\n"
     ]
    },
    {
     "name": "stderr",
     "output_type": "stream",
     "text": [
      "\n",
      " Warning:  more than 10 function and gradient\n",
      "   evaluations in the last line search.  Termination\n",
      "   may possibly be caused by a bad search direction.\n"
     ]
    },
    {
     "name": "stdout",
     "output_type": "stream",
     "text": [
      "RUNNING THE L-BFGS-B CODE\n",
      "\n",
      "           * * *\n",
      "\n",
      "Machine precision = 2.220D-16\n",
      " N =            4     M =           10\n",
      "\n",
      "At X0         0 variables are exactly at the bounds\n",
      "\n",
      "At iterate    0    f= -6.15358D+00    |proj g|=  6.42341D-01\n",
      "\n",
      "At iterate    1    f= -6.23050D+00    |proj g|=  6.01255D-01\n",
      "\n",
      "At iterate    2    f= -8.03307D+00    |proj g|=  3.60956D-01\n",
      "\n",
      "At iterate    3    f= -9.71667D+00    |proj g|=  8.23079D-01\n",
      "  ys=-6.159E+00  -gs= 1.157E+01 BFGS update SKIPPED\n",
      "\n",
      "At iterate    4    f= -1.17476D+01    |proj g|=  3.45322D+00\n",
      "  ys=-2.438E+01  -gs= 4.793E+00 BFGS update SKIPPED\n",
      "\n",
      "At iterate    5    f= -1.60391D+01    |proj g|=  0.00000D+00\n",
      "\n",
      "           * * *\n",
      "\n",
      "Tit   = total number of iterations\n",
      "Tnf   = total number of function evaluations\n",
      "Tnint = total number of segments explored during Cauchy searches\n",
      "Skip  = number of BFGS updates skipped\n",
      "Nact  = number of active bounds at final generalized Cauchy point\n",
      "Projg = norm of the final projected gradient\n",
      "F     = final function value\n",
      "\n",
      "           * * *\n",
      "\n",
      "   N    Tit     Tnf  Tnint  Skip  Nact     Projg        F\n",
      "    4      5     12     10     2     4   0.000D+00  -1.604D+01\n",
      "  F =  -16.039117813110352     \n",
      "\n",
      "CONVERGENCE: NORM_OF_PROJECTED_GRADIENT_<=_PGTOL            \n",
      "{'Lx': 1.634615182876587, 'Ly': 1.634615182876587, 'Cx': 39.127864837646484, 'Cy': 39.127864837646484, 'Jx': 5.0, 'Jy': 5.0, 'CJx': 158.83587646484375, 'CJy': 158.83587646484375}\n",
      "50 {'Lx': 24.519226942474766, 'Ly': 10.0, 'Cx': 19.370229307707593, 'Cy': 5.0, 'Jx': 12.5, 'Jy': 10.0, 'CJx': 116.22137584624556, 'CJy': 50.0}\n",
      "RUNNING THE L-BFGS-B CODE\n",
      "\n",
      "           * * *\n",
      "\n",
      "Machine precision = 2.220D-16\n",
      " N =            4     M =           10\n",
      "\n",
      "At X0         0 variables are exactly at the bounds\n",
      "\n",
      "At iterate    0    f= -6.56626D+00    |proj g|=  5.89316D-01\n",
      "\n",
      "At iterate    1    f= -6.66023D+00    |proj g|=  5.64806D-01\n",
      "\n",
      "At iterate    2    f= -9.30298D+00    |proj g|=  6.80274D-01\n",
      "\n",
      "At iterate    3    f= -1.03047D+01    |proj g|=  2.77686D-01\n",
      "\n",
      "At iterate    4    f= -1.05612D+01    |proj g|=  2.19899D-01\n",
      "\n",
      "At iterate    5    f= -1.33040D+01    |proj g|=  3.26842D+00\n",
      "  ys=-8.314E-01  -gs= 5.997E-02 BFGS update SKIPPED\n"
     ]
    },
    {
     "name": "stderr",
     "output_type": "stream",
     "text": [
      "\n",
      " Bad direction in the line search;\n",
      "   refresh the lbfgs memory and restart the iteration.\n"
     ]
    },
    {
     "name": "stdout",
     "output_type": "stream",
     "text": [
      "\n",
      "At iterate    6    f= -1.33040D+01    |proj g|=  3.26842D+00\n"
     ]
    },
    {
     "name": "stderr",
     "output_type": "stream",
     "text": [
      "\n",
      " Warning:  more than 10 function and gradient\n",
      "   evaluations in the last line search.  Termination\n",
      "   may possibly be caused by a bad search direction.\n"
     ]
    },
    {
     "name": "stdout",
     "output_type": "stream",
     "text": [
      "\n",
      "           * * *\n",
      "\n",
      "Tit   = total number of iterations\n",
      "Tnf   = total number of function evaluations\n",
      "Tnint = total number of segments explored during Cauchy searches\n",
      "Skip  = number of BFGS updates skipped\n",
      "Nact  = number of active bounds at final generalized Cauchy point\n",
      "Projg = norm of the final projected gradient\n",
      "F     = final function value\n",
      "\n",
      "           * * *\n",
      "\n",
      "   N    Tit     Tnf  Tnint  Skip  Nact     Projg        F\n",
      "{'Lx': 1.6346153020858765, 'Ly': 1.6346153020858765, 'Cx': 39.127864837646484, 'Cy': 39.127864837646484, 'Jx': 5.0, 'Jy': 5.0, 'CJx': 120.17832946777344, 'CJy': 120.17832946777344}\n",
      "51 {'Lx': 24.519226942474766, 'Ly': 10.0, 'Cx': 19.370229307707593, 'Cy': 5.0, 'Jx': 18.75, 'Jy': 10.0, 'CJx': 38.740458615415186, 'CJy': 50.0}\n",
      "    4      6     57     10     1     1   3.268D+00  -1.330D+01\n",
      "  F =  -13.303975105285645     \n",
      "\n",
      "CONVERGENCE: REL_REDUCTION_OF_F_<=_FACTR*EPSMCH             \n",
      "RUNNING THE L-BFGS-B CODE\n",
      "\n",
      "           * * *\n",
      "\n",
      "Machine precision = 2.220D-16\n",
      " N =            4     M =           10\n",
      "\n",
      "At X0         0 variables are exactly at the bounds\n",
      "\n",
      "At iterate    0    f= -4.68207D+00    |proj g|=  8.24275D-01\n",
      "\n",
      "At iterate    1    f= -4.81790D+00    |proj g|=  8.19524D-01\n",
      "\n",
      "At iterate    2    f= -9.09364D+00    |proj g|=  6.75603D-01\n",
      "\n",
      "At iterate    3    f= -1.16022D+01    |proj g|=  3.85011D+00\n",
      "\n",
      "At iterate    4    f= -1.30506D+01    |proj g|=  1.68850D+01\n",
      "  ys=-1.483E+01  -gs= 4.618E+00 BFGS update SKIPPED\n",
      "\n",
      "At iterate    5    f= -1.30506D+01    |proj g|=  1.68850D+01\n",
      "\n",
      "           * * *\n",
      "\n",
      "Tit   = total number of iterations\n",
      "Tnf   = total number of function evaluations\n",
      "Tnint = total number of segments explored during Cauchy searches\n",
      "Skip  = number of BFGS updates skipped\n",
      "Nact  = number of active bounds at final generalized Cauchy point\n",
      "Projg = norm of the final projected gradient\n",
      "F     = final function value\n",
      "\n",
      "           * * *\n",
      "\n",
      "   N    Tit     Tnf  Tnint  Skip  Nact     Projg        F\n",
      "    4      5     37      9     1     2   1.689D+01  -1.305D+01\n",
      "  F =  -13.050579071044922     \n",
      "\n",
      "CONVERGENCE: REL_REDUCTION_OF_F_<=_FACTR*EPSMCH             \n",
      "{'Lx': 4.504480361938477, 'Ly': 4.504480361938477, 'Cx': 39.127864837646484, 'Cy': 39.127864837646484, 'Jx': 5.0, 'Jy': 5.0, 'CJx': 104.39125061035156, 'CJy': 104.39125061035156}\n",
      "52 {'Lx': 24.519226942474766, 'Ly': 10.0, 'Cx': 19.370229307707593, 'Cy': 5.0, 'Jx': 18.75, 'Jy': 10.0, 'CJx': 77.48091723083037, 'CJy': 50.0}\n"
     ]
    },
    {
     "name": "stderr",
     "output_type": "stream",
     "text": [
      "\n",
      " Warning:  more than 10 function and gradient\n",
      "   evaluations in the last line search.  Termination\n",
      "   may possibly be caused by a bad search direction.\n"
     ]
    },
    {
     "name": "stdout",
     "output_type": "stream",
     "text": [
      "RUNNING THE L-BFGS-B CODE\n",
      "\n",
      "           * * *\n",
      "\n",
      "Machine precision = 2.220D-16\n",
      " N =            4     M =           10\n",
      "\n",
      "At X0         0 variables are exactly at the bounds\n",
      "\n",
      "At iterate    0    f= -5.53870D+00    |proj g|=  6.83425D-01\n",
      "\n",
      "At iterate    1    f= -5.63315D+00    |proj g|=  6.49483D-01\n",
      "\n",
      "At iterate    2    f= -8.97207D+00    |proj g|=  4.59165D-01\n",
      "\n",
      "At iterate    3    f= -1.10445D+01    |proj g|=  6.63060D-02\n",
      "\n",
      "At iterate    4    f= -1.10445D+01    |proj g|=  6.63060D-02\n",
      "\n",
      "           * * *\n",
      "\n",
      "Tit   = total number of iterations\n",
      "Tnf   = total number of function evaluations\n",
      "Tnint = total number of segments explored during Cauchy searches\n",
      "Skip  = number of BFGS updates skipped\n",
      "Nact  = number of active bounds at final generalized Cauchy point\n",
      "Projg = norm of the final projected gradient\n",
      "F     = final function value\n",
      "\n",
      "           * * *\n",
      "\n",
      "   N    Tit     Tnf  Tnint  Skip  Nact     Projg        F\n",
      "{'Lx': 1.634615182876587, 'Ly': 1.634615182876587, 'Cx': 39.08647918701172, 'Cy': 39.08647918701172, 'Jx': 5.0, 'Jy': 5.0, 'CJx': 116.17893981933594, 'CJy': 116.17893981933594}\n",
      "53 {'Lx': 24.519226942474766, 'Ly': 10.0, 'Cx': 19.370229307707593, 'Cy': 5.0, 'Jx': 18.75, 'Jy': 10.0, 'CJx': 116.22137584624556, 'CJy': 50.0}\n",
      "    4      4     21      7     0     2   6.631D-02  -1.104D+01\n",
      "  F =  -11.044539451599121     \n",
      "\n",
      "CONVERGENCE: REL_REDUCTION_OF_F_<=_FACTR*EPSMCH             \n"
     ]
    },
    {
     "name": "stderr",
     "output_type": "stream",
     "text": [
      "\n",
      " Warning:  more than 10 function and gradient\n",
      "   evaluations in the last line search.  Termination\n",
      "   may possibly be caused by a bad search direction.\n"
     ]
    },
    {
     "name": "stdout",
     "output_type": "stream",
     "text": [
      "RUNNING THE L-BFGS-B CODE\n",
      "\n",
      "           * * *\n",
      "\n",
      "Machine precision = 2.220D-16\n",
      " N =            4     M =           10\n",
      "\n",
      "At X0         0 variables are exactly at the bounds\n",
      "\n",
      "At iterate    0    f= -6.03725D+00    |proj g|=  6.47712D-01\n",
      "\n",
      "At iterate    1    f= -6.04462D+00    |proj g|=  5.98820D-01\n",
      "\n",
      "At iterate    2    f= -7.35150D+00    |proj g|=  5.25783D-01\n",
      "\n",
      "At iterate    3    f= -9.16418D+00    |proj g|=  3.72602D-01\n",
      "\n",
      "At iterate    4    f= -1.21693D+01    |proj g|=  5.32133D+00\n",
      "\n",
      "At iterate    5    f= -1.32466D+01    |proj g|=  7.66694D+00\n",
      "\n",
      "At iterate    6    f= -1.32466D+01    |proj g|=  7.66694D+00\n"
     ]
    },
    {
     "name": "stderr",
     "output_type": "stream",
     "text": [
      "\n",
      " Warning:  more than 10 function and gradient\n",
      "   evaluations in the last line search.  Termination\n",
      "   may possibly be caused by a bad search direction.\n"
     ]
    },
    {
     "name": "stdout",
     "output_type": "stream",
     "text": [
      "\n",
      "           * * *\n",
      "\n",
      "Tit   = total number of iterations\n",
      "Tnf   = total number of function evaluations\n",
      "Tnint = total number of segments explored during Cauchy searches\n",
      "Skip  = number of BFGS updates skipped\n",
      "Nact  = number of active bounds at final generalized Cauchy point\n",
      "Projg = norm of the final projected gradient\n",
      "F     = final function value\n",
      "\n",
      "           * * *\n",
      "\n",
      "   N    Tit     Tnf  Tnint  Skip  Nact     Projg        F\n",
      "{'Lx': 4.361605644226074, 'Ly': 4.361605644226074, 'Cx': 39.127864837646484, 'Cy': 39.127864837646484, 'Jx': 5.0, 'Jy': 5.0, 'CJx': 129.72193908691406, 'CJy': 129.72193908691406}\n",
      "54 {'Lx': 8.173075647491588, 'Ly': 10.0, 'Cx': 29.05534396156139, 'Cy': 5.0, 'Jx': 6.25, 'Jy': 10.0, 'CJx': 38.740458615415186, 'CJy': 50.0}\n",
      "    4      6     34      9     0     2   7.667D+00  -1.325D+01\n",
      "  F =  -13.246619224548340     \n",
      "\n",
      "CONVERGENCE: REL_REDUCTION_OF_F_<=_FACTR*EPSMCH             \n",
      "RUNNING THE L-BFGS-B CODE\n",
      "\n",
      "           * * *\n",
      "\n",
      "Machine precision = 2.220D-16\n",
      " N =            4     M =           10\n",
      "\n",
      "At X0         0 variables are exactly at the bounds\n",
      "\n",
      "At iterate    0    f= -7.93544D+00    |proj g|=  4.85323D-01\n",
      "\n",
      "At iterate    1    f= -8.02778D+00    |proj g|=  4.70974D-01\n",
      "\n",
      "At iterate    2    f= -8.90575D+00    |proj g|=  3.08801D+00\n",
      "\n",
      "At iterate    3    f= -1.15615D+01    |proj g|=  8.93326D+01\n",
      "\n",
      "At iterate    4    f= -1.41191D+01    |proj g|=  1.20417D+02\n",
      "  ys=-6.037E+02  -gs= 6.976E+01 BFGS update SKIPPED\n"
     ]
    },
    {
     "name": "stderr",
     "output_type": "stream",
     "text": [
      "\n",
      " Bad direction in the line search;\n",
      "   refresh the lbfgs memory and restart the iteration.\n"
     ]
    },
    {
     "name": "stdout",
     "output_type": "stream",
     "text": [
      "\n",
      "           * * *\n",
      "\n",
      "Tit   = total number of iterations\n",
      "Tnf   = total number of function evaluations\n",
      "Tnint = total number of segments explored during Cauchy searches\n",
      "Skip  = number of BFGS updates skipped\n",
      "Nact  = number of active bounds at final generalized Cauchy point\n",
      "Projg = norm of the final projected gradient\n",
      "F     = final function value\n",
      "\n",
      "           * * *\n",
      "\n",
      "   N    Tit     Tnf  Tnint  Skip  Nact     Projg        F\n",
      "{'Lx': 1.634615182876587, 'Ly': 1.634615182876587, 'Cx': 39.127864837646484, 'Cy': 39.127864837646484, 'Jx': 5.0, 'Jy': 5.0, 'CJx': 38.418609619140625, 'CJy': 38.418609619140625}\n",
      "55 {'Lx': 8.173075647491588, 'Ly': 10.0, 'Cx': 29.05534396156139, 'Cy': 5.0, 'Jx': 6.25, 'Jy': 10.0, 'CJx': 77.48091723083037, 'CJy': 50.0}\n",
      "    4      5     49      9     1     2   1.204D+02  -1.412D+01\n",
      "  F =  -14.119095802307129     \n",
      "\n",
      "ABNORMAL_TERMINATION_IN_LNSRCH                              \n"
     ]
    },
    {
     "name": "stderr",
     "output_type": "stream",
     "text": [
      "\n",
      " Line search cannot locate an adequate point after MAXLS\n",
      "  function and gradient evaluations.\n",
      "  Previous x, f and g restored.\n",
      " Possible causes: 1 error in function or gradient evaluation;\n",
      "                  2 rounding error dominate computation.\n"
     ]
    },
    {
     "name": "stdout",
     "output_type": "stream",
     "text": [
      "RUNNING THE L-BFGS-B CODE\n",
      "\n",
      "           * * *\n",
      "\n",
      "Machine precision = 2.220D-16\n",
      " N =            4     M =           10\n",
      "\n",
      "At X0         0 variables are exactly at the bounds\n",
      "\n",
      "At iterate    0    f= -8.18063D+00    |proj g|=  5.05338D-01\n",
      "\n",
      "At iterate    1    f= -8.63365D+00    |proj g|=  7.62184D-01\n",
      "  ys=-2.347E-01  -gs= 5.603E-01 BFGS update SKIPPED\n",
      "\n",
      "At iterate    2    f= -9.93148D+00    |proj g|=  1.02100D+00\n",
      "  ys=-1.574E+00  -gs= 5.910E+00 BFGS update SKIPPED\n",
      "\n",
      "At iterate    3    f= -9.95415D+00    |proj g|=  9.24545D-01\n",
      "\n",
      "At iterate    4    f= -1.22976D+01    |proj g|=  3.71710D+00\n",
      "\n",
      "At iterate    5    f= -1.22976D+01    |proj g|=  3.71710D+00\n",
      "\n",
      "           * * *\n",
      "\n",
      "Tit   = total number of iterations\n",
      "Tnf   = total number of function evaluations\n",
      "Tnint = total number of segments explored during Cauchy searches\n",
      "Skip  = number of BFGS updates skipped\n",
      "Nact  = number of active bounds at final generalized Cauchy point\n",
      "Projg = norm of the final projected gradient\n",
      "F     = final function value\n",
      "\n",
      "           * * *\n",
      "\n",
      "   N    Tit     Tnf  Tnint  Skip  Nact     Projg        F\n",
      "{'Lx': 1.634615182876587, 'Ly': 1.634615182876587, 'Cx': 31.3599796295166, 'Cy': 31.3599796295166, 'Jx': 5.0, 'Jy': 5.0, 'CJx': 86.72675323486328, 'CJy': 86.72675323486328}\n",
      "56 {'Lx': 8.173075647491588, 'Ly': 10.0, 'Cx': 29.05534396156139, 'Cy': 5.0, 'Jx': 6.25, 'Jy': 10.0, 'CJx': 116.22137584624556, 'CJy': 50.0}\n",
      "    4      5     28      6     2     0   3.717D+00  -1.230D+01\n",
      "  F =  -12.297551155090332     \n",
      "\n",
      "CONVERGENCE: REL_REDUCTION_OF_F_<=_FACTR*EPSMCH             \n"
     ]
    },
    {
     "name": "stderr",
     "output_type": "stream",
     "text": [
      "\n",
      " Warning:  more than 10 function and gradient\n",
      "   evaluations in the last line search.  Termination\n",
      "   may possibly be caused by a bad search direction.\n"
     ]
    },
    {
     "name": "stdout",
     "output_type": "stream",
     "text": [
      "RUNNING THE L-BFGS-B CODE\n",
      "\n",
      "           * * *\n",
      "\n",
      "Machine precision = 2.220D-16\n",
      " N =            4     M =           10\n",
      "\n",
      "At X0         0 variables are exactly at the bounds\n",
      "\n",
      "At iterate    0    f= -8.91040D+00    |proj g|=  7.84999D-01\n",
      "\n",
      "At iterate    1    f= -9.15381D+00    |proj g|=  9.10551D-01\n",
      "  ys=-1.128E-01  -gs= 8.369E-01 BFGS update SKIPPED\n",
      "\n",
      "At iterate    2    f= -1.33943D+01    |proj g|=  2.69624D+01\n",
      "\n",
      "At iterate    3    f= -1.33943D+01    |proj g|=  2.69624D+01\n",
      "\n",
      "           * * *\n",
      "\n",
      "Tit   = total number of iterations\n",
      "Tnf   = total number of function evaluations\n",
      "Tnint = total number of segments explored during Cauchy searches\n",
      "Skip  = number of BFGS updates skipped\n",
      "Nact  = number of active bounds at final generalized Cauchy point\n",
      "Projg = norm of the final projected gradient\n",
      "F     = final function value\n",
      "\n",
      "           * * *\n",
      "\n",
      "   N    Tit     Tnf  Tnint  Skip  Nact     Projg        F\n",
      "{'Lx': 7.364554405212402, 'Ly': 7.364554405212402, 'Cx': 29.30631446838379, 'Cy': 29.30631446838379, 'Jx': 6.038952350616455, 'Jy': 6.038952350616455, 'CJx': 116.57563781738281, 'CJy': 116.57563781738281}\n",
      "57 {'Lx': 8.173075647491588, 'Ly': 10.0, 'Cx': 29.05534396156139, 'Cy': 5.0, 'Jx': 12.5, 'Jy': 10.0, 'CJx': 38.740458615415186, 'CJy': 50.0}\n",
      "    4      3     26      3     1     0   2.696D+01  -1.339D+01\n",
      "  F =  -13.394312858581543     \n",
      "\n",
      "CONVERGENCE: REL_REDUCTION_OF_F_<=_FACTR*EPSMCH             \n"
     ]
    },
    {
     "name": "stderr",
     "output_type": "stream",
     "text": [
      "\n",
      " Warning:  more than 10 function and gradient\n",
      "   evaluations in the last line search.  Termination\n",
      "   may possibly be caused by a bad search direction.\n"
     ]
    },
    {
     "name": "stdout",
     "output_type": "stream",
     "text": [
      "RUNNING THE L-BFGS-B CODE\n",
      "\n",
      "           * * *\n",
      "\n",
      "Machine precision = 2.220D-16\n",
      " N =            4     M =           10\n",
      "\n",
      "At X0         0 variables are exactly at the bounds\n",
      "\n",
      "At iterate    0    f= -6.91718D+00    |proj g|=  5.42645D-01\n",
      "\n",
      "At iterate    1    f= -7.07964D+00    |proj g|=  5.41775D-01\n",
      "\n",
      "At iterate    2    f= -9.39248D+00    |proj g|=  8.42048D-01\n",
      "\n",
      "At iterate    3    f= -1.10240D+01    |proj g|=  1.39876D+00\n",
      "  ys=-1.341E+01  -gs= 2.050E+01 BFGS update SKIPPED\n",
      "\n",
      "At iterate    4    f= -1.30709D+01    |proj g|=  9.82283D+00\n"
     ]
    },
    {
     "name": "stderr",
     "output_type": "stream",
     "text": [
      "\n",
      " Bad direction in the line search;\n",
      "   refresh the lbfgs memory and restart the iteration.\n"
     ]
    },
    {
     "name": "stdout",
     "output_type": "stream",
     "text": [
      "\n",
      "At iterate    5    f= -1.30709D+01    |proj g|=  9.82283D+00\n"
     ]
    },
    {
     "name": "stderr",
     "output_type": "stream",
     "text": [
      "\n",
      " Warning:  more than 10 function and gradient\n",
      "   evaluations in the last line search.  Termination\n",
      "   may possibly be caused by a bad search direction.\n"
     ]
    },
    {
     "name": "stdout",
     "output_type": "stream",
     "text": [
      "\n",
      "           * * *\n",
      "\n",
      "Tit   = total number of iterations\n",
      "Tnf   = total number of function evaluations\n",
      "Tnint = total number of segments explored during Cauchy searches\n",
      "Skip  = number of BFGS updates skipped\n",
      "Nact  = number of active bounds at final generalized Cauchy point\n",
      "Projg = norm of the final projected gradient\n",
      "F     = final function value\n",
      "\n",
      "           * * *\n",
      "\n",
      "   N    Tit     Tnf  Tnint  Skip  Nact     Projg        F\n",
      "{'Lx': 1.634615182876587, 'Ly': 1.634615182876587, 'Cx': 39.127864837646484, 'Cy': 39.127864837646484, 'Jx': 5.0, 'Jy': 5.0, 'CJx': 79.06136322021484, 'CJy': 79.06136322021484}\n",
      "58 {'Lx': 8.173075647491588, 'Ly': 10.0, 'Cx': 29.05534396156139, 'Cy': 5.0, 'Jx': 12.5, 'Jy': 10.0, 'CJx': 77.48091723083037, 'CJy': 50.0}\n",
      "    4      5     51      8     1     1   9.823D+00  -1.307D+01\n",
      "  F =  -13.070923805236816     \n",
      "\n",
      "CONVERGENCE: REL_REDUCTION_OF_F_<=_FACTR*EPSMCH             \n",
      "RUNNING THE L-BFGS-B CODE\n",
      "\n",
      "           * * *\n",
      "\n",
      "Machine precision = 2.220D-16\n",
      " N =            4     M =           10\n",
      "\n",
      "At X0         0 variables are exactly at the bounds\n",
      "\n",
      "At iterate    0    f= -7.74075D+00    |proj g|=  7.90563D-01\n",
      "\n",
      "At iterate    1    f= -7.91913D+00    |proj g|=  8.26103D-01\n",
      "  ys=-4.579E-02  -gs= 1.276E+00 BFGS update SKIPPED\n",
      "\n",
      "At iterate    2    f= -7.96843D+00    |proj g|=  7.26655D-01\n",
      "\n",
      "At iterate    3    f= -9.57878D+00    |proj g|=  2.53926D-01\n",
      "\n",
      "At iterate    4    f= -9.70644D+00    |proj g|=  4.41646D-01\n",
      "\n",
      "At iterate    5    f= -9.70644D+00    |proj g|=  4.41646D-01\n",
      "\n",
      "           * * *\n",
      "\n",
      "Tit   = total number of iterations\n",
      "Tnf   = total number of function evaluations\n",
      "Tnint = total number of segments explored during Cauchy searches\n",
      "Skip  = number of BFGS updates skipped\n",
      "Nact  = number of active bounds at final generalized Cauchy point\n",
      "Projg = norm of the final projected gradient\n",
      "F     = final function value\n",
      "\n",
      "           * * *\n",
      "\n",
      "   N    Tit     Tnf  Tnint  Skip  Nact     Projg        F\n",
      "    4      5     24      6     1     1   4.416D-01  -9.706D+00\n",
      "  F =  -9.7064380645751953     \n",
      "\n",
      "CONVERGENCE: REL_REDUCTION_OF_F_<=_FACTR*EPSMCH             \n",
      "{'Lx': 1.634615182876587, 'Ly': 1.634615182876587, 'Cx': 32.7568473815918, 'Cy': 32.7568473815918, 'Jx': 10.192757606506348, 'Jy': 10.192757606506348, 'CJx': 82.30113983154297, 'CJy': 82.30113983154297}\n",
      "59 {'Lx': 8.173075647491588, 'Ly': 10.0, 'Cx': 29.05534396156139, 'Cy': 5.0, 'Jx': 12.5, 'Jy': 10.0, 'CJx': 116.22137584624556, 'CJy': 50.0}\n"
     ]
    },
    {
     "name": "stderr",
     "output_type": "stream",
     "text": [
      "\n",
      " Warning:  more than 10 function and gradient\n",
      "   evaluations in the last line search.  Termination\n",
      "   may possibly be caused by a bad search direction.\n"
     ]
    },
    {
     "name": "stdout",
     "output_type": "stream",
     "text": [
      "RUNNING THE L-BFGS-B CODE\n",
      "\n",
      "           * * *\n",
      "\n",
      "Machine precision = 2.220D-16\n",
      " N =            4     M =           10\n",
      "\n",
      "At X0         0 variables are exactly at the bounds\n",
      "\n",
      "At iterate    0    f= -8.39281D+00    |proj g|=  1.03172D+00\n",
      "\n",
      "At iterate    1    f= -9.21376D+00    |proj g|=  1.93762D+00\n",
      "  ys=-1.263E+00  -gs= 1.518E+00 BFGS update SKIPPED\n",
      "\n",
      "At iterate    2    f= -9.63487D+00    |proj g|=  1.79877D+00\n",
      "\n",
      "At iterate    3    f= -1.08750D+01    |proj g|=  3.60772D+00\n",
      "\n",
      "At iterate    4    f= -1.13174D+01    |proj g|=  4.02588D+00\n",
      "  ys=-1.289E-01  -gs= 2.595E-01 BFGS update SKIPPED\n",
      "\n",
      "At iterate    5    f= -1.21432D+01    |proj g|=  2.26269D+01\n",
      "\n",
      "At iterate    6    f= -1.21432D+01    |proj g|=  2.26269D+01\n"
     ]
    },
    {
     "name": "stderr",
     "output_type": "stream",
     "text": [
      "\n",
      " Warning:  more than 10 function and gradient\n",
      "   evaluations in the last line search.  Termination\n",
      "   may possibly be caused by a bad search direction.\n"
     ]
    },
    {
     "name": "stdout",
     "output_type": "stream",
     "text": [
      "\n",
      "           * * *\n",
      "\n",
      "Tit   = total number of iterations\n",
      "Tnf   = total number of function evaluations\n",
      "Tnint = total number of segments explored during Cauchy searches\n",
      "Skip  = number of BFGS updates skipped\n",
      "Nact  = number of active bounds at final generalized Cauchy point\n",
      "Projg = norm of the final projected gradient\n",
      "F     = final function value\n",
      "\n",
      "           * * *\n",
      "\n",
      "   N    Tit     Tnf  Tnint  Skip  Nact     Projg        F\n",
      "{'Lx': 5.205055236816406, 'Ly': 5.205055236816406, 'Cx': 29.551998138427734, 'Cy': 29.551998138427734, 'Jx': 11.150856018066406, 'Jy': 11.150856018066406, 'CJx': 117.37641906738281, 'CJy': 117.37641906738281}\n",
      "60 {'Lx': 8.173075647491588, 'Ly': 10.0, 'Cx': 29.05534396156139, 'Cy': 5.0, 'Jx': 18.75, 'Jy': 10.0, 'CJx': 38.740458615415186, 'CJy': 50.0}\n",
      "    4      6     36      6     2     0   2.263D+01  -1.214D+01\n",
      "  F =  -12.143239974975586     \n",
      "\n",
      "CONVERGENCE: REL_REDUCTION_OF_F_<=_FACTR*EPSMCH             \n",
      "RUNNING THE L-BFGS-B CODE\n",
      "\n",
      "           * * *\n",
      "\n",
      "Machine precision = 2.220D-16\n",
      " N =            4     M =           10\n",
      "\n",
      "At X0         0 variables are exactly at the bounds\n",
      "\n",
      "At iterate    0    f= -6.39854D+00    |proj g|=  7.32619D-01\n",
      "\n",
      "At iterate    1    f= -6.60796D+00    |proj g|=  7.71922D-01\n",
      "  ys=-5.421E-02  -gs= 1.220E+00 BFGS update SKIPPED\n",
      "\n",
      "At iterate    2    f= -9.16075D+00    |proj g|=  1.52011D+00\n",
      "\n",
      "At iterate    3    f= -9.34303D+00    |proj g|=  4.17999D-01\n",
      "\n",
      "At iterate    4    f= -1.11286D+01    |proj g|=  2.55033D+00\n",
      "  Positive dir derivative in projection \n",
      "  Using the backtracking step \n"
     ]
    },
    {
     "name": "stderr",
     "output_type": "stream",
     "text": [
      "\n",
      " Bad direction in the line search;\n",
      "   refresh the lbfgs memory and restart the iteration.\n"
     ]
    },
    {
     "name": "stdout",
     "output_type": "stream",
     "text": [
      "\n",
      "At iterate    5    f= -1.20907D+01    |proj g|=  6.26279D+00\n",
      "\n",
      "At iterate    6    f= -1.20907D+01    |proj g|=  6.26279D+00\n",
      "\n",
      "           * * *\n",
      "\n",
      "Tit   = total number of iterations\n",
      "Tnf   = total number of function evaluations\n",
      "Tnint = total number of segments explored during Cauchy searches\n",
      "Skip  = number of BFGS updates skipped\n",
      "Nact  = number of active bounds at final generalized Cauchy point\n",
      "Projg = norm of the final projected gradient\n",
      "F     = final function value\n",
      "\n",
      "           * * *\n",
      "\n",
      "   N    Tit     Tnf  Tnint  Skip  Nact     Projg        F\n",
      "{'Lx': 1.8929864168167114, 'Ly': 1.8929864168167114, 'Cx': 39.127864837646484, 'Cy': 39.127864837646484, 'Jx': 5.446047782897949, 'Jy': 5.446047782897949, 'CJx': 68.53890991210938, 'CJy': 68.53890991210938}\n",
      "61 {'Lx': 8.173075647491588, 'Ly': 10.0, 'Cx': 29.05534396156139, 'Cy': 5.0, 'Jx': 18.75, 'Jy': 10.0, 'CJx': 77.48091723083037, 'CJy': 50.0}\n",
      "    4      6     56      8     1     1   6.263D+00  -1.209D+01\n",
      "  F =  -12.090744018554688     \n",
      "\n",
      "CONVERGENCE: REL_REDUCTION_OF_F_<=_FACTR*EPSMCH             \n"
     ]
    },
    {
     "name": "stderr",
     "output_type": "stream",
     "text": [
      "\n",
      " Warning:  more than 10 function and gradient\n",
      "   evaluations in the last line search.  Termination\n",
      "   may possibly be caused by a bad search direction.\n"
     ]
    },
    {
     "name": "stdout",
     "output_type": "stream",
     "text": [
      "RUNNING THE L-BFGS-B CODE\n",
      "\n",
      "           * * *\n",
      "\n",
      "Machine precision = 2.220D-16\n",
      " N =            4     M =           10\n",
      "\n",
      "At X0         0 variables are exactly at the bounds\n",
      "\n",
      "At iterate    0    f= -7.33126D+00    |proj g|=  8.82375D-01\n",
      "\n",
      "At iterate    1    f= -7.59974D+00    |proj g|=  9.83303D-01\n",
      "  ys=-1.271E-01  -gs= 1.373E+00 BFGS update SKIPPED\n",
      "\n",
      "At iterate    2    f= -1.20661D+01    |proj g|=  1.10568D+01\n"
     ]
    },
    {
     "name": "stderr",
     "output_type": "stream",
     "text": [
      "\n",
      " Bad direction in the line search;\n",
      "   refresh the lbfgs memory and restart the iteration.\n"
     ]
    },
    {
     "name": "stdout",
     "output_type": "stream",
     "text": [
      "\n",
      "           * * *\n",
      "\n",
      "Tit   = total number of iterations\n",
      "Tnf   = total number of function evaluations\n",
      "Tnint = total number of segments explored during Cauchy searches\n",
      "Skip  = number of BFGS updates skipped\n",
      "Nact  = number of active bounds at final generalized Cauchy point\n",
      "Projg = norm of the final projected gradient\n",
      "F     = final function value\n",
      "\n",
      "           * * *\n",
      "\n",
      "   N    Tit     Tnf  Tnint  Skip  Nact     Projg        F\n",
      "    4      3     48      4     1     0   1.106D+01  -1.207D+01\n",
      "  F =  -12.066134452819824     \n",
      "\n",
      "ABNORMAL_TERMINATION_IN_LNSRCH                              \n",
      "{'Lx': 2.6253366470336914, 'Ly': 2.6253366470336914, 'Cx': 30.30508041381836, 'Cy': 30.30508041381836, 'Jx': 16.981449127197266, 'Jy': 16.981449127197266, 'CJx': 81.61432647705078, 'CJy': 81.61432647705078}\n",
      "62 {'Lx': 8.173075647491588, 'Ly': 10.0, 'Cx': 29.05534396156139, 'Cy': 5.0, 'Jx': 18.75, 'Jy': 10.0, 'CJx': 116.22137584624556, 'CJy': 50.0}\n"
     ]
    },
    {
     "name": "stderr",
     "output_type": "stream",
     "text": [
      "\n",
      " Line search cannot locate an adequate point after MAXLS\n",
      "  function and gradient evaluations.\n",
      "  Previous x, f and g restored.\n",
      " Possible causes: 1 error in function or gradient evaluation;\n",
      "                  2 rounding error dominate computation.\n"
     ]
    },
    {
     "name": "stdout",
     "output_type": "stream",
     "text": [
      "RUNNING THE L-BFGS-B CODE\n",
      "\n",
      "           * * *\n",
      "\n",
      "Machine precision = 2.220D-16\n",
      " N =            4     M =           10\n",
      "\n",
      "At X0         0 variables are exactly at the bounds\n",
      "\n",
      "At iterate    0    f= -7.89515D+00    |proj g|=  9.71360D-01\n",
      "\n",
      "At iterate    1    f= -8.43883D+00    |proj g|=  1.40112D+00\n",
      "  ys=-4.988E-01  -gs= 1.224E+00 BFGS update SKIPPED\n",
      "\n",
      "At iterate    2    f= -9.27162D+00    |proj g|=  2.18100D-01\n",
      "\n",
      "At iterate    3    f= -1.19493D+01    |proj g|=  1.14189D+00\n",
      "\n",
      "At iterate    4    f= -1.19493D+01    |proj g|=  1.14189D+00\n",
      "\n",
      "           * * *\n",
      "\n",
      "Tit   = total number of iterations\n",
      "Tnf   = total number of function evaluations\n",
      "Tnint = total number of segments explored during Cauchy searches\n",
      "Skip  = number of BFGS updates skipped\n",
      "Nact  = number of active bounds at final generalized Cauchy point\n",
      "Projg = norm of the final projected gradient\n",
      "F     = final function value\n",
      "\n",
      "           * * *\n",
      "\n",
      "   N    Tit     Tnf  Tnint  Skip  Nact     Projg        F\n",
      "    4      4     24      4     1     1   1.142D+00  -1.195D+01\n",
      "  F =  -11.949339866638184     \n",
      "\n",
      "CONVERGENCE: REL_REDUCTION_OF_F_<=_FACTR*EPSMCH             \n",
      "{'Lx': 1.634615182876587, 'Ly': 1.634615182876587, 'Cx': 30.452180862426758, 'Cy': 30.452180862426758, 'Jx': 16.897916793823242, 'Jy': 16.897916793823242, 'CJx': 118.50688171386719, 'CJy': 118.50688171386719}\n",
      "63 {'Lx': 16.346151294983176, 'Ly': 10.0, 'Cx': 29.05534396156139, 'Cy': 5.0, 'Jx': 6.25, 'Jy': 10.0, 'CJx': 38.740458615415186, 'CJy': 50.0}\n"
     ]
    },
    {
     "name": "stderr",
     "output_type": "stream",
     "text": [
      "\n",
      " Warning:  more than 10 function and gradient\n",
      "   evaluations in the last line search.  Termination\n",
      "   may possibly be caused by a bad search direction.\n"
     ]
    },
    {
     "name": "stdout",
     "output_type": "stream",
     "text": [
      "RUNNING THE L-BFGS-B CODE\n",
      "\n",
      "           * * *\n",
      "\n",
      "Machine precision = 2.220D-16\n",
      " N =            4     M =           10\n",
      "\n",
      "At X0         0 variables are exactly at the bounds\n",
      "\n",
      "At iterate    0    f= -7.36778D+00    |proj g|=  4.97965D-01\n",
      "\n",
      "At iterate    1    f= -7.39509D+00    |proj g|=  4.61927D-01\n",
      "\n",
      "At iterate    2    f= -8.62424D+00    |proj g|=  4.53443D-01\n",
      "\n",
      "At iterate    3    f= -9.44659D+00    |proj g|=  9.80702D-01\n",
      "\n",
      "At iterate    4    f= -1.08679D+01    |proj g|=  4.68161D+00\n",
      "  ys=-7.492E+00  -gs= 1.985E+00 BFGS update SKIPPED\n",
      "\n",
      "At iterate    5    f= -1.27369D+01    |proj g|=  2.51398D+01\n",
      "  ys=-6.992E+01  -gs= 1.600E+01 BFGS update SKIPPED\n"
     ]
    },
    {
     "name": "stderr",
     "output_type": "stream",
     "text": [
      "\n",
      " Bad direction in the line search;\n",
      "   refresh the lbfgs memory and restart the iteration.\n",
      "\n",
      " Line search cannot locate an adequate point after MAXLS\n",
      "  function and gradient evaluations.\n",
      "  Previous x, f and g restored.\n",
      " Possible causes: 1 error in function or gradient evaluation;\n",
      "                  2 rounding error dominate computation.\n"
     ]
    },
    {
     "name": "stdout",
     "output_type": "stream",
     "text": [
      "\n",
      "           * * *\n",
      "\n",
      "Tit   = total number of iterations\n",
      "Tnf   = total number of function evaluations\n",
      "Tnint = total number of segments explored during Cauchy searches\n",
      "Skip  = number of BFGS updates skipped\n",
      "Nact  = number of active bounds at final generalized Cauchy point\n",
      "Projg = norm of the final projected gradient\n",
      "F     = final function value\n",
      "\n",
      "           * * *\n",
      "\n",
      "   N    Tit     Tnf  Tnint  Skip  Nact     Projg        F\n",
      "    4      6     57      8     2     3   2.514D+01  -1.274D+01\n",
      "  F =  -12.736946105957031     \n",
      "\n",
      "ABNORMAL_TERMINATION_IN_LNSRCH                              \n",
      "{'Lx': 1.634615182876587, 'Ly': 1.634615182876587, 'Cx': 39.127864837646484, 'Cy': 39.127864837646484, 'Jx': 5.0, 'Jy': 5.0, 'CJx': 50.63005065917969, 'CJy': 50.63005065917969}\n",
      "64 {'Lx': 16.346151294983176, 'Ly': 10.0, 'Cx': 29.05534396156139, 'Cy': 5.0, 'Jx': 6.25, 'Jy': 10.0, 'CJx': 77.48091723083037, 'CJy': 50.0}\n",
      "RUNNING THE L-BFGS-B CODE\n",
      "\n",
      "           * * *\n",
      "\n",
      "Machine precision = 2.220D-16\n",
      " N =            4     M =           10\n",
      "\n",
      "At X0         0 variables are exactly at the bounds\n",
      "\n",
      "At iterate    0    f= -7.72525D+00    |proj g|=  3.91023D-01\n",
      "\n",
      "At iterate    1    f= -7.87579D+00    |proj g|=  4.23969D-01\n",
      "  ys=-2.070E-02  -gs= 4.047E-01 BFGS update SKIPPED\n",
      "\n",
      "At iterate    2    f= -8.00667D+00    |proj g|=  3.31629D-01\n",
      "\n",
      "At iterate    3    f= -9.98064D+00    |proj g|=  1.66694D-01\n",
      "\n",
      "At iterate    4    f= -1.05517D+01    |proj g|=  1.93251D-01\n",
      "\n",
      "At iterate    5    f= -1.20208D+01    |proj g|=  1.90348D+00\n",
      "  ys=-2.102E+00  -gs= 2.384E-01 BFGS update SKIPPED\n",
      "\n",
      "At iterate    6    f= -1.20208D+01    |proj g|=  1.90348D+00\n"
     ]
    },
    {
     "name": "stderr",
     "output_type": "stream",
     "text": [
      "\n",
      " Warning:  more than 10 function and gradient\n",
      "   evaluations in the last line search.  Termination\n",
      "   may possibly be caused by a bad search direction.\n"
     ]
    },
    {
     "name": "stdout",
     "output_type": "stream",
     "text": [
      "\n",
      "           * * *\n",
      "\n",
      "Tit   = total number of iterations\n",
      "Tnf   = total number of function evaluations\n",
      "Tnint = total number of segments explored during Cauchy searches\n",
      "Skip  = number of BFGS updates skipped\n",
      "Nact  = number of active bounds at final generalized Cauchy point\n",
      "Projg = norm of the final projected gradient\n",
      "F     = final function value\n",
      "\n",
      "           * * *\n",
      "\n",
      "   N    Tit     Tnf  Tnint  Skip  Nact     Projg        F\n",
      "{'Lx': 1.634615182876587, 'Ly': 1.634615182876587, 'Cx': 38.64733123779297, 'Cy': 38.64733123779297, 'Jx': 5.038328170776367, 'Jy': 5.038328170776367, 'CJx': 93.36802673339844, 'CJy': 93.36802673339844}\n",
      "65 {'Lx': 16.346151294983176, 'Ly': 10.0, 'Cx': 29.05534396156139, 'Cy': 5.0, 'Jx': 6.25, 'Jy': 10.0, 'CJx': 116.22137584624556, 'CJy': 50.0}\n",
      "    4      6     34      7     2     0   1.903D+00  -1.202D+01\n",
      "  F =  -12.020779609680176     \n",
      "\n",
      "CONVERGENCE: REL_REDUCTION_OF_F_<=_FACTR*EPSMCH             \n",
      "RUNNING THE L-BFGS-B CODE\n",
      "\n",
      "           * * *\n",
      "\n",
      "Machine precision = 2.220D-16\n",
      " N =            4     M =           10\n",
      "\n",
      "At X0         0 variables are exactly at the bounds\n",
      "\n",
      "At iterate    0    f= -8.21048D+00    |proj g|=  4.64236D-01\n",
      "\n",
      "At iterate    1    f= -8.47819D+00    |proj g|=  5.79460D-01\n",
      "  ys=-6.956E-02  -gs= 4.033E-01 BFGS update SKIPPED\n",
      "\n",
      "At iterate    2    f= -8.78208D+00    |proj g|=  7.71224D-01\n",
      "  ys=-2.646E-02  -gs= 9.206E-02 BFGS update SKIPPED\n",
      "\n",
      "At iterate    3    f= -8.87640D+00    |proj g|=  8.83127D-01\n",
      "  ys=-2.044E-02  -gs= 1.794E-01 BFGS update SKIPPED\n",
      "\n",
      "At iterate    4    f= -8.87640D+00    |proj g|=  8.83127D-01\n",
      "\n",
      "           * * *\n",
      "\n",
      "Tit   = total number of iterations\n",
      "Tnf   = total number of function evaluations\n",
      "Tnint = total number of segments explored during Cauchy searches\n",
      "Skip  = number of BFGS updates skipped\n",
      "Nact  = number of active bounds at final generalized Cauchy point\n",
      "Projg = norm of the final projected gradient\n",
      "F     = final function value\n",
      "\n",
      "           * * *\n",
      "\n",
      "   N    Tit     Tnf  Tnint  Skip  Nact     Projg        F\n",
      "    4      4     31      4     3     0   8.831D-01  -8.876D+00\n",
      "  F =  -8.8764028549194336     \n",
      "\n",
      "CONVERGENCE: REL_REDUCTION_OF_F_<=_FACTR*EPSMCH             \n",
      "{'Lx': 15.637534141540527, 'Ly': 15.637534141540527, 'Cx': 29.40938949584961, 'Cy': 29.40938949584961, 'Jx': 5.936572551727295, 'Jy': 5.936572551727295, 'CJx': 116.62493896484375, 'CJy': 116.62493896484375}\n",
      "66 {'Lx': 16.346151294983176, 'Ly': 10.0, 'Cx': 29.05534396156139, 'Cy': 5.0, 'Jx': 12.5, 'Jy': 10.0, 'CJx': 38.740458615415186, 'CJy': 50.0}\n"
     ]
    },
    {
     "name": "stderr",
     "output_type": "stream",
     "text": [
      "\n",
      " Warning:  more than 10 function and gradient\n",
      "   evaluations in the last line search.  Termination\n",
      "   may possibly be caused by a bad search direction.\n"
     ]
    },
    {
     "name": "stdout",
     "output_type": "stream",
     "text": [
      "RUNNING THE L-BFGS-B CODE\n",
      "\n",
      "           * * *\n",
      "\n",
      "Machine precision = 2.220D-16\n",
      " N =            4     M =           10\n",
      "\n",
      "At X0         0 variables are exactly at the bounds\n",
      "\n",
      "At iterate    0    f= -6.27078D+00    |proj g|=  6.78542D-01\n",
      "\n",
      "At iterate    1    f= -6.42644D+00    |proj g|=  6.49712D-01\n",
      "\n",
      "At iterate    2    f= -1.19714D+01    |proj g|=  9.93885D+00\n",
      "  ys=-1.472E+02  -gs= 2.624E+01 BFGS update SKIPPED\n",
      "\n",
      "At iterate    3    f= -1.60391D+01    |proj g|=  0.00000D+00\n",
      "\n",
      "           * * *\n",
      "\n",
      "Tit   = total number of iterations\n",
      "Tnf   = total number of function evaluations\n",
      "Tnint = total number of segments explored during Cauchy searches\n",
      "Skip  = number of BFGS updates skipped\n",
      "Nact  = number of active bounds at final generalized Cauchy point\n",
      "Projg = norm of the final projected gradient\n",
      "F     = final function value\n",
      "\n",
      "           * * *\n",
      "\n",
      "   N    Tit     Tnf  Tnint  Skip  Nact     Projg        F\n",
      "    4      3      4      6     1     4   0.000D+00  -1.604D+01\n",
      "  F =  -16.039117813110352     \n",
      "\n",
      "CONVERGENCE: NORM_OF_PROJECTED_GRADIENT_<=_PGTOL            \n",
      "{'Lx': 1.634615182876587, 'Ly': 1.634615182876587, 'Cx': 39.127864837646484, 'Cy': 39.127864837646484, 'Jx': 5.0, 'Jy': 5.0, 'CJx': 158.83587646484375, 'CJy': 158.83587646484375}\n",
      "67 {'Lx': 16.346151294983176, 'Ly': 10.0, 'Cx': 29.05534396156139, 'Cy': 5.0, 'Jx': 12.5, 'Jy': 10.0, 'CJx': 77.48091723083037, 'CJy': 50.0}\n",
      "RUNNING THE L-BFGS-B CODE\n",
      "\n",
      "           * * *\n",
      "\n",
      "Machine precision = 2.220D-16\n",
      " N =            4     M =           10\n",
      "\n",
      "At X0         0 variables are exactly at the bounds\n",
      "\n",
      "At iterate    0    f= -6.93680D+00    |proj g|=  5.08721D-01\n",
      "\n",
      "At iterate    1    f= -7.06658D+00    |proj g|=  5.13652D-01\n",
      "  ys=-1.595E-02  -gs= 7.953E-01 BFGS update SKIPPED\n",
      "\n",
      "At iterate    2    f= -8.31794D+00    |proj g|=  3.53377D-01\n",
      "\n",
      "At iterate    3    f= -9.32369D+00    |proj g|=  1.38857D-01\n",
      "\n",
      "At iterate    4    f= -9.51131D+00    |proj g|=  1.09727D-01\n",
      "\n",
      "At iterate    5    f= -1.07666D+01    |proj g|=  6.38390D-01\n",
      "  ys=-9.053E-03  -gs= 2.184E-03 BFGS update SKIPPED\n",
      "\n",
      "At iterate    6    f= -1.13392D+01    |proj g|=  9.37726D-01\n",
      "\n",
      "At iterate    7    f= -1.13392D+01    |proj g|=  9.37726D-01\n"
     ]
    },
    {
     "name": "stderr",
     "output_type": "stream",
     "text": [
      "\n",
      " Warning:  more than 10 function and gradient\n",
      "   evaluations in the last line search.  Termination\n",
      "   may possibly be caused by a bad search direction.\n"
     ]
    },
    {
     "name": "stdout",
     "output_type": "stream",
     "text": [
      "\n",
      "           * * *\n",
      "\n",
      "Tit   = total number of iterations\n",
      "Tnf   = total number of function evaluations\n",
      "Tnint = total number of segments explored during Cauchy searches\n",
      "Skip  = number of BFGS updates skipped\n",
      "Nact  = number of active bounds at final generalized Cauchy point\n",
      "Projg = norm of the final projected gradient\n",
      "F     = final function value\n",
      "\n",
      "           * * *\n",
      "\n",
      "   N    Tit     Tnf  Tnint  Skip  Nact     Projg        F\n",
      "{'Lx': 1.634615182876587, 'Ly': 1.634615182876587, 'Cx': 37.828285217285156, 'Cy': 37.828285217285156, 'Jx': 5.000246524810791, 'Jy': 5.000246524810791, 'CJx': 94.28358459472656, 'CJy': 94.28358459472656}\n",
      "68 {'Lx': 16.346151294983176, 'Ly': 10.0, 'Cx': 29.05534396156139, 'Cy': 5.0, 'Jx': 12.5, 'Jy': 10.0, 'CJx': 116.22137584624556, 'CJy': 50.0}\n",
      "    4      7     40      8     2     1   9.377D-01  -1.134D+01\n",
      "  F =  -11.339233398437500     \n",
      "\n",
      "CONVERGENCE: REL_REDUCTION_OF_F_<=_FACTR*EPSMCH             \n",
      "RUNNING THE L-BFGS-B CODE\n",
      "\n",
      "           * * *\n",
      "\n",
      "Machine precision = 2.220D-16\n",
      " N =            4     M =           10\n",
      "\n",
      "At X0         0 variables are exactly at the bounds\n",
      "\n",
      "At iterate    0    f= -7.59436D+00    |proj g|=  6.20685D-01\n",
      "\n",
      "At iterate    1    f= -7.72190D+00    |proj g|=  7.02084D-01\n",
      "  ys=-1.105E-04  -gs= 9.138E-04 BFGS update SKIPPED\n"
     ]
    },
    {
     "name": "stderr",
     "output_type": "stream",
     "text": [
      "\n",
      " Line search cannot locate an adequate point after MAXLS\n",
      "  function and gradient evaluations.\n",
      "  Previous x, f and g restored.\n",
      " Possible causes: 1 error in function or gradient evaluation;\n",
      "                  2 rounding error dominate computation.\n"
     ]
    },
    {
     "name": "stdout",
     "output_type": "stream",
     "text": [
      "\n",
      "           * * *\n",
      "\n",
      "Tit   = total number of iterations\n",
      "Tnf   = total number of function evaluations\n",
      "Tnint = total number of segments explored during Cauchy searches\n",
      "Skip  = number of BFGS updates skipped\n",
      "Nact  = number of active bounds at final generalized Cauchy point\n",
      "Projg = norm of the final projected gradient\n",
      "F     = final function value\n",
      "\n",
      "           * * *\n",
      "\n",
      "   N    Tit     Tnf  Tnint  Skip  Nact     Projg        F\n",
      "{'Lx': 16.34553337097168, 'Ly': 16.34553337097168, 'Cx': 29.055625915527344, 'Cy': 29.055625915527344, 'Jx': 12.499424934387207, 'Jy': 12.499424934387207, 'CJx': 116.22172546386719, 'CJy': 116.22172546386719}\n",
      "69 {'Lx': 16.346151294983176, 'Ly': 10.0, 'Cx': 29.05534396156139, 'Cy': 5.0, 'Jx': 18.75, 'Jy': 10.0, 'CJx': 38.740458615415186, 'CJy': 50.0}\n",
      "    4      2     28      2     1     0   7.021D-01  -7.722D+00\n",
      "  F =  -7.7218995094299316     \n",
      "\n",
      "ABNORMAL_TERMINATION_IN_LNSRCH                              \n",
      "RUNNING THE L-BFGS-B CODE\n",
      "\n",
      "           * * *\n",
      "\n",
      "Machine precision = 2.220D-16\n",
      " N =            4     M =           10\n",
      "\n",
      "At X0         0 variables are exactly at the bounds\n",
      "\n",
      "At iterate    0    f= -5.67372D+00    |proj g|=  7.98581D-01\n",
      "\n",
      "At iterate    1    f= -5.80336D+00    |proj g|=  7.85161D-01\n",
      "  ys=-2.477E-03  -gs= 1.295E+00 BFGS update SKIPPED\n",
      "\n",
      "At iterate    2    f= -8.54020D+00    |proj g|=  7.63837D-01\n",
      "\n",
      "At iterate    3    f= -1.06915D+01    |proj g|=  2.41812D-01\n",
      "\n",
      "At iterate    4    f= -1.19972D+01    |proj g|=  1.82734D+00\n"
     ]
    },
    {
     "name": "stderr",
     "output_type": "stream",
     "text": [
      "\n",
      " Bad direction in the line search;\n",
      "   refresh the lbfgs memory and restart the iteration.\n"
     ]
    },
    {
     "name": "stdout",
     "output_type": "stream",
     "text": [
      "\n",
      "At iterate    5    f= -1.28690D+01    |proj g|=  4.95547D+00\n",
      "\n",
      "At iterate    6    f= -1.28690D+01    |proj g|=  4.95547D+00\n",
      "\n",
      "           * * *\n",
      "\n",
      "Tit   = total number of iterations\n",
      "Tnf   = total number of function evaluations\n",
      "Tnint = total number of segments explored during Cauchy searches\n",
      "Skip  = number of BFGS updates skipped\n",
      "Nact  = number of active bounds at final generalized Cauchy point\n",
      "Projg = norm of the final projected gradient\n",
      "F     = final function value\n",
      "\n",
      "           * * *\n",
      "\n",
      "   N    Tit     Tnf  Tnint  Skip  Nact     Projg        F\n",
      "    4      6     59      9     1     1   4.955D+00  -1.287D+01\n",
      "  F =  -12.869049072265625     \n",
      "\n",
      "CONVERGENCE: REL_REDUCTION_OF_F_<=_FACTR*EPSMCH             \n",
      "{'Lx': 1.634615182876587, 'Ly': 1.634615182876587, 'Cx': 39.127864837646484, 'Cy': 39.127864837646484, 'Jx': 5.0, 'Jy': 5.0, 'CJx': 112.25171661376953, 'CJy': 112.25171661376953}\n",
      "70 {'Lx': 16.346151294983176, 'Ly': 10.0, 'Cx': 29.05534396156139, 'Cy': 5.0, 'Jx': 18.75, 'Jy': 10.0, 'CJx': 77.48091723083037, 'CJy': 50.0}\n"
     ]
    },
    {
     "name": "stderr",
     "output_type": "stream",
     "text": [
      "\n",
      " Warning:  more than 10 function and gradient\n",
      "   evaluations in the last line search.  Termination\n",
      "   may possibly be caused by a bad search direction.\n"
     ]
    },
    {
     "name": "stdout",
     "output_type": "stream",
     "text": [
      "RUNNING THE L-BFGS-B CODE\n",
      "\n",
      "           * * *\n",
      "\n",
      "Machine precision = 2.220D-16\n",
      " N =            4     M =           10\n",
      "\n",
      "At X0         0 variables are exactly at the bounds\n",
      "\n",
      "At iterate    0    f= -6.45422D+00    |proj g|=  5.72911D-01\n",
      "\n",
      "At iterate    1    f= -6.52206D+00    |proj g|=  5.64446D-01\n",
      "\n",
      "At iterate    2    f= -9.39888D+00    |proj g|=  8.97909D-02\n",
      "\n",
      "At iterate    3    f= -1.23556D+01    |proj g|=  4.46510D+00\n"
     ]
    },
    {
     "name": "stderr",
     "output_type": "stream",
     "text": [
      "\n",
      " Bad direction in the line search;\n",
      "   refresh the lbfgs memory and restart the iteration.\n"
     ]
    },
    {
     "name": "stdout",
     "output_type": "stream",
     "text": [
      "\n",
      "           * * *\n",
      "\n",
      "Tit   = total number of iterations\n",
      "Tnf   = total number of function evaluations\n",
      "Tnint = total number of segments explored during Cauchy searches\n",
      "Skip  = number of BFGS updates skipped\n",
      "Nact  = number of active bounds at final generalized Cauchy point\n",
      "Projg = norm of the final projected gradient\n",
      "F     = final function value\n",
      "\n",
      "           * * *\n",
      "\n",
      "   N    Tit     Tnf  Tnint  Skip  Nact     Projg        F\n",
      "{'Lx': 1.634615182876587, 'Ly': 1.634615182876587, 'Cx': 39.127864837646484, 'Cy': 39.127864837646484, 'Jx': 5.0, 'Jy': 5.0, 'CJx': 82.1753921508789, 'CJy': 82.1753921508789}\n",
      "71 {'Lx': 16.346151294983176, 'Ly': 10.0, 'Cx': 29.05534396156139, 'Cy': 5.0, 'Jx': 18.75, 'Jy': 10.0, 'CJx': 116.22137584624556, 'CJy': 50.0}\n",
      "    4      4     49      8     0     3   4.465D+00  -1.236D+01\n",
      "  F =  -12.355628013610840     \n",
      "\n",
      "ABNORMAL_TERMINATION_IN_LNSRCH                              \n"
     ]
    },
    {
     "name": "stderr",
     "output_type": "stream",
     "text": [
      "\n",
      " Line search cannot locate an adequate point after MAXLS\n",
      "  function and gradient evaluations.\n",
      "  Previous x, f and g restored.\n",
      " Possible causes: 1 error in function or gradient evaluation;\n",
      "                  2 rounding error dominate computation.\n"
     ]
    },
    {
     "name": "stdout",
     "output_type": "stream",
     "text": [
      "RUNNING THE L-BFGS-B CODE\n",
      "\n",
      "           * * *\n",
      "\n",
      "Machine precision = 2.220D-16\n",
      " N =            4     M =           10\n",
      "\n",
      "At X0         0 variables are exactly at the bounds\n",
      "\n",
      "At iterate    0    f= -7.06626D+00    |proj g|=  6.46793D-01\n",
      "\n",
      "At iterate    1    f= -7.13155D+00    |proj g|=  6.61942D-01\n",
      "  ys=-1.507E-03  -gs= 7.951E-01 BFGS update SKIPPED\n",
      "\n",
      "At iterate    2    f= -9.18484D+00    |proj g|=  2.43363D-01\n",
      "\n",
      "At iterate    3    f= -1.16950D+01    |proj g|=  8.14265D-01\n",
      "  ys=-2.500E+00  -gs= 1.761E+00 BFGS update SKIPPED\n",
      "\n",
      "At iterate    4    f= -1.16950D+01    |proj g|=  8.14265D-01\n",
      "\n",
      "           * * *\n",
      "\n",
      "Tit   = total number of iterations\n",
      "Tnf   = total number of function evaluations\n",
      "Tnint = total number of segments explored during Cauchy searches\n",
      "Skip  = number of BFGS updates skipped\n",
      "Nact  = number of active bounds at final generalized Cauchy point\n",
      "Projg = norm of the final projected gradient\n",
      "F     = final function value\n",
      "\n",
      "           * * *\n",
      "\n",
      "   N    Tit     Tnf  Tnint  Skip  Nact     Projg        F\n",
      "    4      4     18      4     2     0   8.143D-01  -1.170D+01\n",
      "  F =  -11.695016860961914     \n",
      "\n",
      "CONVERGENCE: REL_REDUCTION_OF_F_<=_FACTR*EPSMCH             \n",
      "{'Lx': 1.634615182876587, 'Ly': 1.634615182876587, 'Cx': 37.53757858276367, 'Cy': 37.53757858276367, 'Jx': 14.789507865905762, 'Jy': 14.789507865905762, 'CJx': 121.33740234375, 'CJy': 121.33740234375}\n",
      "72 {'Lx': 24.519226942474766, 'Ly': 10.0, 'Cx': 29.05534396156139, 'Cy': 5.0, 'Jx': 6.25, 'Jy': 10.0, 'CJx': 38.740458615415186, 'CJy': 50.0}\n"
     ]
    },
    {
     "name": "stderr",
     "output_type": "stream",
     "text": [
      "\n",
      " Warning:  more than 10 function and gradient\n",
      "   evaluations in the last line search.  Termination\n",
      "   may possibly be caused by a bad search direction.\n"
     ]
    },
    {
     "name": "stdout",
     "output_type": "stream",
     "text": [
      "RUNNING THE L-BFGS-B CODE\n",
      "\n",
      "           * * *\n",
      "\n",
      "Machine precision = 2.220D-16\n",
      " N =            4     M =           10\n",
      "\n",
      "At X0         0 variables are exactly at the bounds\n",
      "\n",
      "At iterate    0    f= -6.96062D+00    |proj g|=  6.63383D-01\n",
      "\n",
      "At iterate    1    f= -7.04769D+00    |proj g|=  6.40206D-01\n",
      "\n",
      "At iterate    2    f= -8.19353D+00    |proj g|=  2.53525D-01\n",
      "\n",
      "At iterate    3    f= -9.74566D+00    |proj g|=  6.20251D-01\n",
      "  ys=-1.429E+00  -gs= 3.784E+00 BFGS update SKIPPED\n",
      "\n",
      "At iterate    4    f= -1.05766D+01    |proj g|=  4.71643D-01\n",
      "\n",
      "At iterate    5    f= -1.60391D+01    |proj g|=  0.00000D+00\n",
      "\n",
      "           * * *\n",
      "\n",
      "Tit   = total number of iterations\n",
      "Tnf   = total number of function evaluations\n",
      "Tnint = total number of segments explored during Cauchy searches\n",
      "Skip  = number of BFGS updates skipped\n",
      "Nact  = number of active bounds at final generalized Cauchy point\n",
      "Projg = norm of the final projected gradient\n",
      "F     = final function value\n",
      "\n",
      "           * * *\n",
      "\n",
      "   N    Tit     Tnf  Tnint  Skip  Nact     Projg        F\n",
      "    4      5      9      9     1     4   0.000D+00  -1.604D+01\n",
      "  F =  -16.039117813110352     \n",
      "\n",
      "CONVERGENCE: NORM_OF_PROJECTED_GRADIENT_<=_PGTOL            \n",
      "{'Lx': 1.634615182876587, 'Ly': 1.634615182876587, 'Cx': 39.127864837646484, 'Cy': 39.127864837646484, 'Jx': 5.0, 'Jy': 5.0, 'CJx': 158.83587646484375, 'CJy': 158.83587646484375}\n",
      "73 {'Lx': 24.519226942474766, 'Ly': 10.0, 'Cx': 29.05534396156139, 'Cy': 5.0, 'Jx': 6.25, 'Jy': 10.0, 'CJx': 77.48091723083037, 'CJy': 50.0}\n",
      "RUNNING THE L-BFGS-B CODE\n",
      "\n",
      "           * * *\n",
      "\n",
      "Machine precision = 2.220D-16\n",
      " N =            4     M =           10\n",
      "\n",
      "At X0         0 variables are exactly at the bounds\n",
      "\n",
      "At iterate    0    f= -7.57754D+00    |proj g|=  4.36858D-01\n",
      "\n",
      "At iterate    1    f= -7.57754D+00    |proj g|=  4.36858D-01\n",
      "\n",
      "           * * *\n",
      "\n",
      "Tit   = total number of iterations\n",
      "Tnf   = total number of function evaluations\n",
      "Tnint = total number of segments explored during Cauchy searches\n",
      "Skip  = number of BFGS updates skipped\n",
      "Nact  = number of active bounds at final generalized Cauchy point\n",
      "Projg = norm of the final projected gradient\n",
      "F     = final function value\n",
      "\n",
      "           * * *\n",
      "\n",
      "   N    Tit     Tnf  Tnint  Skip  Nact     Projg        F\n",
      "{'Lx': 24.51922607421875, 'Ly': 24.51922607421875, 'Cx': 29.055347442626953, 'Cy': 29.055347442626953, 'Jx': 6.25, 'Jy': 6.25, 'CJx': 77.48091888427734, 'CJy': 77.48091888427734}\n",
      "74 {'Lx': 24.519226942474766, 'Ly': 10.0, 'Cx': 29.05534396156139, 'Cy': 5.0, 'Jx': 6.25, 'Jy': 10.0, 'CJx': 116.22137584624556, 'CJy': 50.0}\n",
      "    4      1     18      1     0     0   4.369D-01  -7.578D+00\n",
      "  F =  -7.5775427818298340     \n",
      "\n",
      "CONVERGENCE: REL_REDUCTION_OF_F_<=_FACTR*EPSMCH             \n"
     ]
    },
    {
     "name": "stderr",
     "output_type": "stream",
     "text": [
      "\n",
      " Warning:  more than 10 function and gradient\n",
      "   evaluations in the last line search.  Termination\n",
      "   may possibly be caused by a bad search direction.\n"
     ]
    },
    {
     "name": "stdout",
     "output_type": "stream",
     "text": [
      "RUNNING THE L-BFGS-B CODE\n",
      "\n",
      "           * * *\n",
      "\n",
      "Machine precision = 2.220D-16\n",
      " N =            4     M =           10\n",
      "\n",
      "At X0         0 variables are exactly at the bounds\n",
      "\n",
      "At iterate    0    f= -7.94497D+00    |proj g|=  2.86305D-01\n",
      "\n",
      "At iterate    1    f= -8.13758D+00    |proj g|=  2.89674D-01\n",
      "  ys=-7.254E-03  -gs= 2.779E-01 BFGS update SKIPPED\n",
      "\n",
      "At iterate    2    f= -8.40426D+00    |proj g|=  3.20796D-01\n",
      "\n",
      "At iterate    3    f= -8.96340D+00    |proj g|=  5.49269D-01\n",
      "\n",
      "At iterate    4    f= -1.35396D+01    |proj g|=  1.93000D+01\n"
     ]
    },
    {
     "name": "stderr",
     "output_type": "stream",
     "text": [
      "\n",
      " Bad direction in the line search;\n",
      "   refresh the lbfgs memory and restart the iteration.\n"
     ]
    },
    {
     "name": "stdout",
     "output_type": "stream",
     "text": [
      "\n",
      "At iterate    5    f= -1.35396D+01    |proj g|=  1.93000D+01\n",
      "\n",
      "           * * *\n",
      "\n",
      "Tit   = total number of iterations\n",
      "Tnf   = total number of function evaluations\n",
      "Tnint = total number of segments explored during Cauchy searches\n",
      "Skip  = number of BFGS updates skipped\n",
      "Nact  = number of active bounds at final generalized Cauchy point\n",
      "Projg = norm of the final projected gradient\n",
      "F     = final function value\n",
      "\n",
      "           * * *\n",
      "\n",
      "   N    Tit     Tnf  Tnint  Skip  Nact     Projg        F\n",
      "    4      5     47      6     1     1   1.930D+01  -1.354D+01\n",
      "  F =  -13.539633750915527     \n",
      "\n",
      "CONVERGENCE: REL_REDUCTION_OF_F_<=_FACTR*EPSMCH             \n",
      "{'Lx': 4.005496025085449, 'Ly': 4.005496025085449, 'Cx': 39.127864837646484, 'Cy': 39.127864837646484, 'Jx': 5.0, 'Jy': 5.0, 'CJx': 136.4724884033203, 'CJy': 136.4724884033203}\n",
      "75 {'Lx': 24.519226942474766, 'Ly': 10.0, 'Cx': 29.05534396156139, 'Cy': 5.0, 'Jx': 12.5, 'Jy': 10.0, 'CJx': 38.740458615415186, 'CJy': 50.0}\n"
     ]
    },
    {
     "name": "stderr",
     "output_type": "stream",
     "text": [
      "\n",
      " Warning:  more than 10 function and gradient\n",
      "   evaluations in the last line search.  Termination\n",
      "   may possibly be caused by a bad search direction.\n"
     ]
    },
    {
     "name": "stdout",
     "output_type": "stream",
     "text": [
      "RUNNING THE L-BFGS-B CODE\n",
      "\n",
      "           * * *\n",
      "\n",
      "Machine precision = 2.220D-16\n",
      " N =            4     M =           10\n",
      "\n",
      "At X0         0 variables are exactly at the bounds\n",
      "\n",
      "At iterate    0    f= -5.89316D+00    |proj g|=  7.61400D-01\n",
      "\n",
      "At iterate    1    f= -6.02632D+00    |proj g|=  7.43050D-01\n",
      "\n",
      "At iterate    2    f= -1.06197D+01    |proj g|=  1.03405D+00\n",
      "\n",
      "At iterate    3    f= -1.29600D+01    |proj g|=  1.04764D+01\n",
      "  ys=-1.655E+01  -gs= 1.813E+00 BFGS update SKIPPED\n",
      "\n",
      "At iterate    4    f= -1.60391D+01    |proj g|=  0.00000D+00\n",
      "\n",
      "           * * *\n",
      "\n",
      "Tit   = total number of iterations\n",
      "Tnf   = total number of function evaluations\n",
      "Tnint = total number of segments explored during Cauchy searches\n",
      "Skip  = number of BFGS updates skipped\n",
      "Nact  = number of active bounds at final generalized Cauchy point\n",
      "Projg = norm of the final projected gradient\n",
      "F     = final function value\n",
      "\n",
      "           * * *\n",
      "\n",
      "   N    Tit     Tnf  Tnint  Skip  Nact     Projg        F\n",
      "    4      4     11      7     1     4   0.000D+00  -1.604D+01\n",
      "  F =  -16.039117813110352     \n",
      "\n",
      "CONVERGENCE: NORM_OF_PROJECTED_GRADIENT_<=_PGTOL            \n",
      "{'Lx': 1.634615182876587, 'Ly': 1.634615182876587, 'Cx': 39.127864837646484, 'Cy': 39.127864837646484, 'Jx': 5.0, 'Jy': 5.0, 'CJx': 158.83587646484375, 'CJy': 158.83587646484375}\n",
      "76 {'Lx': 24.519226942474766, 'Ly': 10.0, 'Cx': 29.05534396156139, 'Cy': 5.0, 'Jx': 12.5, 'Jy': 10.0, 'CJx': 77.48091723083037, 'CJy': 50.0}\n",
      "RUNNING THE L-BFGS-B CODE\n",
      "\n",
      "           * * *\n",
      "\n",
      "Machine precision = 2.220D-16\n",
      " N =            4     M =           10\n",
      "\n",
      "At X0         0 variables are exactly at the bounds\n",
      "\n",
      "At iterate    0    f= -6.57221D+00    |proj g|=  5.50567D-01\n",
      "\n",
      "At iterate    1    f= -6.71419D+00    |proj g|=  5.75339D-01\n",
      "  ys=-2.042E-02  -gs= 7.028E-01 BFGS update SKIPPED\n",
      "\n",
      "At iterate    2    f= -7.13124D+00    |proj g|=  4.51634D-01\n",
      "\n",
      "At iterate    3    f= -8.48606D+00    |proj g|=  3.98735D-01\n",
      "\n",
      "At iterate    4    f= -9.32733D+00    |proj g|=  7.12224D-02\n",
      "\n",
      "At iterate    5    f= -1.16843D+01    |proj g|=  1.17749D+00\n"
     ]
    },
    {
     "name": "stderr",
     "output_type": "stream",
     "text": [
      "\n",
      " Bad direction in the line search;\n",
      "   refresh the lbfgs memory and restart the iteration.\n"
     ]
    },
    {
     "name": "stdout",
     "output_type": "stream",
     "text": [
      "\n",
      "           * * *\n",
      "\n",
      "Tit   = total number of iterations\n",
      "Tnf   = total number of function evaluations\n",
      "Tnint = total number of segments explored during Cauchy searches\n",
      "Skip  = number of BFGS updates skipped\n",
      "Nact  = number of active bounds at final generalized Cauchy point\n",
      "Projg = norm of the final projected gradient\n",
      "F     = final function value\n",
      "\n",
      "           * * *\n",
      "\n",
      "   N    Tit     Tnf  Tnint  Skip  Nact     Projg        F\n",
      "    4      6     51     10     1     3   1.177D+00  -1.168D+01\n",
      "  F =  -11.684260368347168     \n",
      "\n",
      "ABNORMAL_TERMINATION_IN_LNSRCH                              \n",
      "{'Lx': 1.634615182876587, 'Ly': 1.634615182876587, 'Cx': 39.127864837646484, 'Cy': 39.127864837646484, 'Jx': 5.0, 'Jy': 5.0, 'CJx': 109.43167877197266, 'CJy': 109.43167877197266}\n",
      "77 {'Lx': 24.519226942474766, 'Ly': 10.0, 'Cx': 29.05534396156139, 'Cy': 5.0, 'Jx': 12.5, 'Jy': 10.0, 'CJx': 116.22137584624556, 'CJy': 50.0}\n"
     ]
    },
    {
     "name": "stderr",
     "output_type": "stream",
     "text": [
      "\n",
      " Line search cannot locate an adequate point after MAXLS\n",
      "  function and gradient evaluations.\n",
      "  Previous x, f and g restored.\n",
      " Possible causes: 1 error in function or gradient evaluation;\n",
      "                  2 rounding error dominate computation.\n"
     ]
    },
    {
     "name": "stdout",
     "output_type": "stream",
     "text": [
      "RUNNING THE L-BFGS-B CODE\n",
      "\n",
      "           * * *\n",
      "\n",
      "Machine precision = 2.220D-16\n",
      " N =            4     M =           10\n",
      "\n",
      "At X0         0 variables are exactly at the bounds\n",
      "\n",
      "At iterate    0    f= -7.05238D+00    |proj g|=  5.41940D-01\n",
      "\n",
      "At iterate    1    f= -7.07219D+00    |proj g|=  5.05530D-01\n",
      "\n",
      "At iterate    2    f= -9.35590D+00    |proj g|=  8.78166D-01\n",
      "  ys=-6.721E-01  -gs= 8.675E+00 BFGS update SKIPPED\n",
      "\n",
      "At iterate    3    f= -1.05950D+01    |proj g|=  8.41957D-02\n",
      "\n",
      "At iterate    4    f= -1.14038D+01    |proj g|=  3.74266D-01\n",
      "  ys=-4.030E-01  -gs= 1.170E-01 BFGS update SKIPPED\n",
      "\n",
      "At iterate    5    f= -1.23249D+01    |proj g|=  1.00567D+00\n",
      "  ys=-3.927E+00  -gs= 2.312E+00 BFGS update SKIPPED\n"
     ]
    },
    {
     "name": "stderr",
     "output_type": "stream",
     "text": [
      "\n",
      " Bad direction in the line search;\n",
      "   refresh the lbfgs memory and restart the iteration.\n"
     ]
    },
    {
     "name": "stdout",
     "output_type": "stream",
     "text": [
      "\n",
      "At iterate    6    f= -1.23249D+01    |proj g|=  1.00567D+00\n",
      "\n",
      "           * * *\n",
      "\n",
      "Tit   = total number of iterations\n",
      "Tnf   = total number of function evaluations\n",
      "Tnint = total number of segments explored during Cauchy searches\n",
      "Skip  = number of BFGS updates skipped\n",
      "Nact  = number of active bounds at final generalized Cauchy point\n",
      "Projg = norm of the final projected gradient\n",
      "F     = final function value\n",
      "\n",
      "           * * *\n",
      "\n",
      "   N    Tit     Tnf  Tnint  Skip  Nact     Projg        F\n",
      "{'Lx': 1.7618746757507324, 'Ly': 1.7618746757507324, 'Cx': 39.127864837646484, 'Cy': 39.127864837646484, 'Jx': 5.0, 'Jy': 5.0, 'CJx': 122.19636535644531, 'CJy': 122.19636535644531}\n",
      "78 {'Lx': 24.519226942474766, 'Ly': 10.0, 'Cx': 29.05534396156139, 'Cy': 5.0, 'Jx': 18.75, 'Jy': 10.0, 'CJx': 38.740458615415186, 'CJy': 50.0}\n",
      "    4      6     55      9     3     1   1.006D+00  -1.232D+01\n",
      "  F =  -12.324901580810547     \n",
      "\n",
      "CONVERGENCE: REL_REDUCTION_OF_F_<=_FACTR*EPSMCH             \n"
     ]
    },
    {
     "name": "stderr",
     "output_type": "stream",
     "text": [
      "\n",
      " Warning:  more than 10 function and gradient\n",
      "   evaluations in the last line search.  Termination\n",
      "   may possibly be caused by a bad search direction.\n"
     ]
    },
    {
     "name": "stdout",
     "output_type": "stream",
     "text": [
      "RUNNING THE L-BFGS-B CODE\n",
      "\n",
      "           * * *\n",
      "\n",
      "Machine precision = 2.220D-16\n",
      " N =            4     M =           10\n",
      "\n",
      "At X0         0 variables are exactly at the bounds\n",
      "\n",
      "At iterate    0    f= -5.25375D+00    |proj g|=  8.41127D-01\n",
      "\n",
      "At iterate    1    f= -5.34429D+00    |proj g|=  8.21215D-01\n",
      "\n",
      "At iterate    2    f= -9.56485D+00    |proj g|=  1.04150D+00\n",
      "  ys=-6.642E+00  -gs= 4.234E+01 BFGS update SKIPPED\n",
      "\n",
      "At iterate    3    f= -9.65255D+00    |proj g|=  1.23035D-01\n",
      "\n",
      "At iterate    4    f= -1.59806D+01    |proj g|=  8.78008D+01\n",
      "  ys=-2.912E+02  -gs= 3.163E-01 BFGS update SKIPPED\n"
     ]
    }
   ],
   "source": [
    "LBFGS_Delta = []\n",
    "for index,parameter in enumerate(initials):\n",
    "    print(optimizer.circuitState())\n",
    "    print(index,parameter)\n",
    "    optimizer.circuit.initialization(parameter)  \n",
    "    optimizer.parameters,optimizer.IDs = optimizer.circuitParameters()\n",
    "    LBFGS_Delta.append(optimizer.minimization(lossFunction,flux_profile,\n",
    "                    method='L-BFGS-B',options=dict(ftol=1e-16,maxiter=15)))"
   ]
  },
  {
   "cell_type": "code",
   "execution_count": null,
   "id": "a6138612",
   "metadata": {},
   "outputs": [],
   "source": [
    "Result = [optimizationAnalysis(initials,subspace,LBFGS_Delta)]\n",
    "paths_delta,losse_delta = analysisPlotting(Result)"
   ]
  },
  {
   "cell_type": "code",
   "execution_count": null,
   "id": "c495bbc9",
   "metadata": {},
   "outputs": [],
   "source": [
    "plotBox(losse_delta,'Loss-Delta Distribution',export='pdf',size=(300,400))"
   ]
  },
  {
   "cell_type": "markdown",
   "id": "9e92e5bd",
   "metadata": {},
   "source": [
    "### Comparison"
   ]
  },
  {
   "cell_type": "code",
   "execution_count": null,
   "id": "535d1226",
   "metadata": {},
   "outputs": [],
   "source": [
    "paths['optimal']  = [array([1.1*L_,1.1*C_,J0+.9*J_,CJ0+.9*CJ_])]"
   ]
  },
  {
   "cell_type": "code",
   "execution_count": null,
   "id": "8ef6fe87",
   "metadata": {},
   "outputs": [],
   "source": [
    "paths.update(paths_delta)\n",
    "paths.update(paths_D)"
   ]
  },
  {
   "cell_type": "code",
   "execution_count": null,
   "id": "45b06784",
   "metadata": {},
   "outputs": [],
   "source": [
    "Degeneracy,plots = dict(),dict()\n",
    "for algo,path in paths.items():\n",
    "    parameters = dict(zip(subspace,path[-1]))\n",
    "    static.update(parameters)\n",
    "    circuit.initialization(static)\n",
    "    H_LC = circuit.chargeHamiltonianLC()\n",
    "    H_J = circuit.josephsonCharge\n",
    "    E0,(Ex1,Ex2) = circuit.spectrumManifold(flux_point,flux_manifold,H_LC,H_J,excitation=[1,2],grad=True)\n",
    "    Ex2 = Ex2.detach().numpy()\n",
    "    Ex1 = Ex1.detach().numpy()\n",
    "    degeneracy = log(Ex2/Ex1)\n",
    "    Degeneracy[algo] = degeneracy\n",
    "    plots[algo+'-E10'] = Ex1\n",
    "    plots[algo+'-E20'] = Ex2"
   ]
  },
  {
   "cell_type": "code",
   "execution_count": null,
   "id": "ce0aff83",
   "metadata": {},
   "outputs": [],
   "source": [
    "plotCompare(flux_range[:,0],Degeneracy,'Degeneracy-Optimal Circuits','flux profile',export='pdf',size=(600,800))"
   ]
  },
  {
   "cell_type": "code",
   "execution_count": null,
   "id": "a3c2e197",
   "metadata": {},
   "outputs": [],
   "source": [
    "plotCompare(flux_range[:,0],plots,'Spectrum-Optimal Circuits','flux profile','energy(GHz)',export='pdf',size=(600,800))"
   ]
  },
  {
   "cell_type": "markdown",
   "id": "94f1ebab",
   "metadata": {},
   "source": [
    "## Multiple Solution"
   ]
  },
  {
   "cell_type": "code",
   "execution_count": null,
   "id": "3aa90894",
   "metadata": {},
   "outputs": [],
   "source": []
  }
 ],
 "metadata": {
  "@webio": {
   "lastCommId": null,
   "lastKernelId": null
  },
  "kernelspec": {
   "display_name": "Python 3 (ipykernel)",
   "language": "python",
   "name": "python3"
  },
  "language_info": {
   "codemirror_mode": {
    "name": "ipython",
    "version": 3
   },
   "file_extension": ".py",
   "mimetype": "text/x-python",
   "name": "python",
   "nbconvert_exporter": "python",
   "pygments_lexer": "ipython3",
   "version": "3.11.3"
  }
 },
 "nbformat": 4,
 "nbformat_minor": 5
}
