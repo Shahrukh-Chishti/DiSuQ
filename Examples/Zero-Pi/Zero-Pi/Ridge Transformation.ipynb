{
 "cells": [
  {
   "cell_type": "markdown",
   "id": "86d6eccd",
   "metadata": {},
   "source": [
    "* rewriting the Zero-Pi Hamiltonian under ridge transformation\n",
    "* Ridge transformation reduce the 4 dof to 2 dof\n",
    "* more general approach to explicit transformation should be marked in the library\n",
    "* this example serves as apt prototype\n",
    "* comparison against  scQubits FullZeroPi"
   ]
  },
  {
   "cell_type": "code",
   "execution_count": 1,
   "id": "914eabbf",
   "metadata": {},
   "outputs": [],
   "source": [
    "from DiSuQ.Torch import models\n",
    "import scqubits\n",
    "from torch.linalg import inv\n",
    "from torch import tensor,stack,lobpcg,float,diag,sqrt\n",
    "from numpy import arange,linspace,meshgrid,array,log,argsort,pi,roll,var,std,pi,exp\n",
    "from DiSuQ.utils import plotCompare,plotHeatmap,plotBox\n",
    "from DiSuQ.Torch.optimization import uniformParameters,truncNormalParameters,initializationSequential\n",
    "from DiSuQ.Torch import optimization\n",
    "from DiSuQ.Torch.optimization import lossDegeneracyTarget,Adam\n",
    "from DiSuQ.Torch.components import indE,capE\n",
    "from torch import set_num_threads\n",
    "im = 1.0j\n",
    "set_num_threads(32)"
   ]
  },
  {
   "cell_type": "code",
   "execution_count": 2,
   "id": "be01930b",
   "metadata": {},
   "outputs": [
    {
     "name": "stdout",
     "output_type": "stream",
     "text": [
      "Inductance Bound(GHz): 3.269230258996635e-06 0.16346478218009075\n",
      "Capacitance Bound(GHz): 0.00019370229307707598 193.70248677936902\n",
      "Shunt Bound(GHz): 0.00019370229307707598 193.70248677936902\n",
      "Junction Bound(GHz): 0.0 50.0\n"
     ]
    }
   ],
   "source": [
    "L0 = indE(1e-6); L_ = indE(5e-2); print('Inductance Bound(GHz):',L_,L0+L_)\n",
    "C0 = capE(1e-16); C_ = capE(1e-10) ; print('Capacitance Bound(GHz):',C_,C0+C_)\n",
    "CJ0 = capE(1e-16); CJ_ = capE(1e-10) ; print('Shunt Bound(GHz):',CJ_,CJ0+CJ_)\n",
    "J0 = 50. ; J_ = 0. ; print('Junction Bound(GHz):',J_,J0+J_)\n",
    "# components['Jx'].J0 = J0 ; components['Jy'].J0 = J0"
   ]
  },
  {
   "cell_type": "code",
   "execution_count": 3,
   "id": "a55f6de9",
   "metadata": {},
   "outputs": [],
   "source": [
    "flux_grid = scqubits.Grid1d(-6*pi, 6*pi, 501)"
   ]
  },
  {
   "cell_type": "code",
   "execution_count": 4,
   "id": "93748249",
   "metadata": {},
   "outputs": [],
   "source": [
    "Ep = 50\n",
    "El = Ep/10000\n",
    "Ej = Ep/7.9\n",
    "EcS = Ep/2200\n",
    "EcJ = Ep*Ep/Ej/8\n",
    "Ec = 1/(1/EcS-1/EcJ)"
   ]
  },
  {
   "cell_type": "code",
   "execution_count": 5,
   "id": "b3a6e766",
   "metadata": {},
   "outputs": [
    {
     "data": {
      "text/plain": [
       "(3.269230258996635e-05,\n",
       " 6.329113924050633,\n",
       " 3.9230844167509056e-16,\n",
       " 8.518977810974592e-13)"
      ]
     },
     "execution_count": 5,
     "metadata": {},
     "output_type": "execute_result"
    }
   ],
   "source": [
    "indE(El),Ej,capE(EcJ),capE(Ec)"
   ]
  },
  {
   "cell_type": "code",
   "execution_count": 7,
   "id": "5d46587a",
   "metadata": {},
   "outputs": [
    {
     "data": {
      "text/plain": [
       "(44.0, 0.020253164556962026, 43.97974683544304)"
      ]
     },
     "execution_count": 7,
     "metadata": {},
     "output_type": "execute_result"
    }
   ],
   "source": [
    "1/EcS,1/EcJ,1/Ec"
   ]
  },
  {
   "cell_type": "code",
   "execution_count": 33,
   "id": "2a2a246a",
   "metadata": {},
   "outputs": [
    {
     "data": {
      "text/plain": [
       "0.39478417604357435"
      ]
     },
     "execution_count": 33,
     "metadata": {},
     "output_type": "execute_result"
    }
   ],
   "source": [
    "El*4*pi*pi*2"
   ]
  },
  {
   "cell_type": "code",
   "execution_count": null,
   "id": "78771d5b",
   "metadata": {},
   "outputs": [],
   "source": []
  },
  {
   "cell_type": "code",
   "execution_count": 9,
   "id": "0174ce9e",
   "metadata": {},
   "outputs": [],
   "source": [
    "basis = {'Chi':64,'Theta':32,'Phi':128}\n",
    "rep = 'R'\n",
    "circuit = models.zeroPi(basis,Ej=Ej,Ec=Ec,El=El,EcJ=EcJ,sparse=True,symmetry=True,_L_=(L_,L0),_C_=(C_,C0),_J_=(J_,J0),_CJ_=(CJ_,CJ0),\n",
    "                        ridge=True)"
   ]
  },
  {
   "cell_type": "code",
   "execution_count": 10,
   "id": "43d042ae",
   "metadata": {},
   "outputs": [
    {
     "data": {
      "text/plain": [
       "tensor([[ 0.5000, -0.5000, -0.5000],\n",
       "        [-0.5000,  0.5000, -0.5000],\n",
       "        [-0.5000, -0.5000,  0.5000]])"
      ]
     },
     "execution_count": 10,
     "metadata": {},
     "output_type": "execute_result"
    }
   ],
   "source": [
    "circuit.R"
   ]
  },
  {
   "cell_type": "code",
   "execution_count": null,
   "id": "4dbcd0b2",
   "metadata": {},
   "outputs": [],
   "source": []
  },
  {
   "cell_type": "code",
   "execution_count": 11,
   "id": "0349e9b5",
   "metadata": {},
   "outputs": [],
   "source": [
    "Ln_,Cn_ = circuit.Ln_,circuit.Cn_\n",
    "R = circuit.R\n",
    "L_ = inv(R.T) @ Ln_ @ inv(R); L_ = diag(diag(L_))\n",
    "C_ = R @ Cn_ @ R.T; C_ = diag(diag(C_))"
   ]
  },
  {
   "cell_type": "code",
   "execution_count": 6,
   "id": "c68606a8",
   "metadata": {},
   "outputs": [
    {
     "data": {
      "text/plain": [
       "(0.005, 6.329113924050633, 49.375, 0.022737738890168085)"
      ]
     },
     "execution_count": 6,
     "metadata": {},
     "output_type": "execute_result"
    }
   ],
   "source": [
    "El,Ej,EcJ,Ec"
   ]
  },
  {
   "cell_type": "code",
   "execution_count": 12,
   "id": "5ef996c6",
   "metadata": {},
   "outputs": [
    {
     "data": {
      "text/plain": [
       "tensor([[4.9403e+01, 2.2730e-02, 4.9380e+01],\n",
       "        [2.2730e-02, 4.5465e-02, 2.2740e-02],\n",
       "        [4.9380e+01, 2.2740e-02, 4.9403e+01]], grad_fn=<LinalgInvExBackward0>)"
      ]
     },
     "execution_count": 12,
     "metadata": {},
     "output_type": "execute_result"
    }
   ],
   "source": [
    "Cn_"
   ]
  },
  {
   "cell_type": "code",
   "execution_count": 13,
   "id": "f510b215",
   "metadata": {},
   "outputs": [
    {
     "data": {
      "text/plain": [
       "(tensor([[0.3948, 0.0000, 0.0000],\n",
       "         [0.0000, 0.3948, 0.0000],\n",
       "         [0.0000, 0.0000, 0.0000]], grad_fn=<DiagEmbedBackward0>),\n",
       " tensor([[2.2739e-02, 0.0000e+00, 0.0000e+00],\n",
       "         [0.0000e+00, 4.9380e+01, 0.0000e+00],\n",
       "         [0.0000e+00, 0.0000e+00, 2.2728e-02]], grad_fn=<DiagEmbedBackward0>))"
      ]
     },
     "execution_count": 13,
     "metadata": {},
     "output_type": "execute_result"
    }
   ],
   "source": [
    "L_,C_"
   ]
  },
  {
   "cell_type": "code",
   "execution_count": 32,
   "id": "df4eada0",
   "metadata": {},
   "outputs": [
    {
     "data": {
      "text/plain": [
       "tensor([[0.0227]], grad_fn=<SliceBackward0>)"
      ]
     },
     "execution_count": 32,
     "metadata": {},
     "output_type": "execute_result"
    }
   ],
   "source": [
    "C_[:1,:1]"
   ]
  },
  {
   "cell_type": "code",
   "execution_count": 14,
   "id": "20f8226c",
   "metadata": {},
   "outputs": [
    {
     "data": {
      "text/plain": [
       "tensor(0.0227, grad_fn=<MulBackward0>)"
      ]
     },
     "execution_count": 14,
     "metadata": {},
     "output_type": "execute_result"
    }
   ],
   "source": [
    "1/(1/C_[0,0]+1/C_[1,1])"
   ]
  },
  {
   "cell_type": "markdown",
   "id": "8ba94c9e",
   "metadata": {},
   "source": [
    "### specialized 0-pi Hamiltonian modules"
   ]
  },
  {
   "cell_type": "code",
   "execution_count": 15,
   "id": "b4649177",
   "metadata": {},
   "outputs": [],
   "source": [
    "self = circuit"
   ]
  },
  {
   "cell_type": "code",
   "execution_count": 16,
   "id": "55a80346",
   "metadata": {},
   "outputs": [],
   "source": [
    "flux0 = pi*6"
   ]
  },
  {
   "cell_type": "markdown",
   "id": "cc202939",
   "metadata": {},
   "source": [
    "#### H_LC"
   ]
  },
  {
   "cell_type": "code",
   "execution_count": 17,
   "id": "a37b37aa",
   "metadata": {},
   "outputs": [
    {
     "name": "stderr",
     "output_type": "stream",
     "text": [
      "/Users/chishti/JupyterHub/DiSuQ/Torch/sparse.py:179: UserWarning:\n",
      "\n",
      "Sparse CSR tensor support is in beta state. If you miss a functionality in the sparse tensor support, please submit a feature request to https://github.com/pytorch/pytorch/issues. (Triggered internally at ../aten/src/ATen/SparseCsrTensorImpl.cpp:54.)\n",
      "\n"
     ]
    }
   ],
   "source": [
    "#def ridgeHamiltonian(self):\n",
    "basis = self.basis\n",
    "Ln_,Cn_ = self.Ln_,self.Cn_\n",
    "R = self.R\n",
    "L_ = inv(R.T) @ Ln_ @ inv(R); L_ = diag(diag(L_))\n",
    "C_ = R @ Cn_ @ R.T; C_ = diag(diag(C_))\n",
    "# Chi mode impedance\n",
    "z = sqrt(C_[1,1]/L_[1,1]) * 2 # Cooper pair factor\n",
    "\n",
    "F = [self.backend.basisFf(2*basis['Phi']+1,flux0)]\n",
    "F += [self.backend.basisFo(basis['Chi'],z)]\n",
    "F += [self.backend.basisFq(basis['Theta'])]\n",
    "\n",
    "Q = [self.backend.basisFiniteII(2*basis['Phi']+1,(-flux0,flux0))]\n",
    "Q += [self.backend.basisQo(basis['Chi'],z)]\n",
    "Q += [self.backend.basisQq(basis['Theta'])]"
   ]
  },
  {
   "cell_type": "code",
   "execution_count": 18,
   "id": "e93df45c",
   "metadata": {},
   "outputs": [],
   "source": [
    "# explicit basis change\n",
    "H_L = self.backend.modeMatrixProduct(F,L_,F,(0,0))/2"
   ]
  },
  {
   "cell_type": "code",
   "execution_count": 19,
   "id": "017a7b4a",
   "metadata": {},
   "outputs": [],
   "source": [
    "H_C = self.backend.modeMatrixProduct(Q,C_[1:,1:],Q,(1,1))/2"
   ]
  },
  {
   "cell_type": "code",
   "execution_count": 20,
   "id": "0700f955",
   "metadata": {},
   "outputs": [],
   "source": [
    "H_LC = H_L + H_C - C_[0,0]/2*self.backend.basisProduct(Q,[0])\n",
    "#return H"
   ]
  },
  {
   "cell_type": "code",
   "execution_count": 21,
   "id": "db3efe09",
   "metadata": {},
   "outputs": [
    {
     "data": {
      "text/plain": [
       "tensor(indices=tensor([[      0,       0,       1,  ..., 1069118, 1069119,\n",
       "                        1069119],\n",
       "                       [      0,     130,       1,  ..., 1069118, 1068989,\n",
       "                        1069119]]),\n",
       "       values=tensor([118.9863+0.j,   0.7453+0.j, 116.1226+0.j,  ...,\n",
       "                        1.4272+0.j,  32.9384+0.j, 173.4462+0.j]),\n",
       "       size=(1069120, 1069120), nnz=10553916, layout=torch.sparse_coo,\n",
       "       grad_fn=<SubBackward0>)"
      ]
     },
     "execution_count": 21,
     "metadata": {},
     "output_type": "execute_result"
    }
   ],
   "source": [
    "H_LC"
   ]
  },
  {
   "cell_type": "code",
   "execution_count": 22,
   "id": "6f50a6cd",
   "metadata": {},
   "outputs": [],
   "source": [
    "# spectrum = lobpcg(H_LC.to(float),k=3,largest=False)[0]\n",
    "# spectrum"
   ]
  },
  {
   "cell_type": "markdown",
   "id": "c1fde1c8",
   "metadata": {},
   "source": [
    "##### H_Junction"
   ]
  },
  {
   "cell_type": "code",
   "execution_count": 23,
   "id": "a35573e1",
   "metadata": {},
   "outputs": [],
   "source": [
    "def phase(phi):\n",
    "    # phi = flux/flux_quanta\n",
    "    return exp(im*2*pi*phi)"
   ]
  },
  {
   "cell_type": "code",
   "execution_count": 24,
   "id": "96605c07",
   "metadata": {},
   "outputs": [],
   "source": [
    "flux = .5"
   ]
  },
  {
   "cell_type": "code",
   "execution_count": 30,
   "id": "6cc9b8c5",
   "metadata": {},
   "outputs": [
    {
     "data": {
      "text/plain": [
       "[(0, 1, 'Jx'), (2, 3, 'Jy')]"
      ]
     },
     "execution_count": 30,
     "metadata": {},
     "output_type": "execute_result"
    }
   ],
   "source": [
    "self.josephsonComponents()[0]"
   ]
  },
  {
   "cell_type": "code",
   "execution_count": 25,
   "id": "34b6b809",
   "metadata": {},
   "outputs": [],
   "source": [
    "def ridgeJosephson(self):\n",
    "    def Hamiltonian(flux):\n",
    "        Ej = self.josephsonComponents()[1][0]\n",
    "        D_Phi = self.backend.displacementFlux(2*basis['Phi']+1,flux0,1)*phase(flux/2) \n",
    "        D_Phi += self.backend.displacementFlux(2*basis['Phi']+1,flux0,-1)*phase(-flux/2) \n",
    "        D_Chi = self.backend.displacementOscillator(basis['Chi'],tensor(1.),1)\n",
    "        D_Chi += self.backend.displacementOscillator(basis['Chi'],tensor(1.),-1)\n",
    "        D_Theta = self.backend.chargeDisplacePlus(basis['Theta']) \n",
    "        D_Theta += self.backend.chargeDisplaceMinus(basis['Theta'])\n",
    "        D = [D_Phi/2,D_Chi/2,D_Theta/2]\n",
    "        H_J = -2*Ej*self.backend.basisProduct(D,[0,2])\n",
    "        return H_J\n",
    "    return Hamiltonian"
   ]
  },
  {
   "cell_type": "code",
   "execution_count": 26,
   "id": "eff1cc5f",
   "metadata": {},
   "outputs": [],
   "source": [
    "circuit.ridgeJosephson = ridgeJosephson(circuit)"
   ]
  },
  {
   "cell_type": "code",
   "execution_count": 43,
   "id": "3e447836",
   "metadata": {},
   "outputs": [],
   "source": [
    "H_J = circuit.ridgeJosephson"
   ]
  },
  {
   "cell_type": "code",
   "execution_count": 44,
   "id": "e6b2802a",
   "metadata": {},
   "outputs": [
    {
     "data": {
      "text/plain": [
       "tensor(indices=tensor([[      0,       1,       1,  ..., 1069118, 1069118,\n",
       "                        1069119],\n",
       "                       [      1,       0,       2,  ..., 1069117, 1069119,\n",
       "                        1069118]]),\n",
       "       values=tensor([ 0.4053+0.j,  0.4053+0.j,  0.4053+0.j,  ..., -0.4053+0.j,\n",
       "                      -0.4053+0.j, -0.4053+0.j]),\n",
       "       size=(1069120, 1069120), nnz=2105344, layout=torch.sparse_coo)"
      ]
     },
     "execution_count": 44,
     "metadata": {},
     "output_type": "execute_result"
    }
   ],
   "source": [
    "H_J(flux)"
   ]
  },
  {
   "cell_type": "code",
   "execution_count": 29,
   "id": "def2b481",
   "metadata": {},
   "outputs": [],
   "source": [
    "D = [D_Phi/2,D_Chi/2,D_Theta/2]"
   ]
  },
  {
   "cell_type": "code",
   "execution_count": 40,
   "id": "3fb67240",
   "metadata": {},
   "outputs": [],
   "source": [
    "H_J = self.backend.basisProduct(D,[0,2])"
   ]
  },
  {
   "cell_type": "code",
   "execution_count": 41,
   "id": "d1e65a23",
   "metadata": {},
   "outputs": [
    {
     "data": {
      "text/plain": [
       "tensor(indices=tensor([[      0,       1,       1,  ..., 1069118, 1069118,\n",
       "                        1069119],\n",
       "                       [      1,       0,       2,  ..., 1069117, 1069119,\n",
       "                        1069118]]),\n",
       "       values=tensor([ 0.4053+0.j,  0.4053+0.j,  0.4053+0.j,  ..., -0.4053+0.j,\n",
       "                      -0.4053+0.j, -0.4053+0.j]),\n",
       "       size=(1069120, 1069120), nnz=2105344, layout=torch.sparse_coo)"
      ]
     },
     "execution_count": 41,
     "metadata": {},
     "output_type": "execute_result"
    }
   ],
   "source": [
    "H_J"
   ]
  },
  {
   "cell_type": "markdown",
   "id": "932372b3",
   "metadata": {},
   "source": [
    "### Displacement Combination"
   ]
  },
  {
   "cell_type": "code",
   "execution_count": 28,
   "id": "1b7ad99e",
   "metadata": {},
   "outputs": [
    {
     "data": {
      "text/plain": [
       "([(0, 1, 'Jx'), (2, 3, 'Jy')],\n",
       " [tensor(6.3291, grad_fn=<AddBackward0>),\n",
       "  tensor(6.3291, grad_fn=<AddBackward0>)])"
      ]
     },
     "execution_count": 28,
     "metadata": {},
     "output_type": "execute_result"
    }
   ],
   "source": [
    "circuit.josephsonComponents()"
   ]
  },
  {
   "cell_type": "code",
   "execution_count": 19,
   "id": "fcc8dd78",
   "metadata": {},
   "outputs": [
    {
     "data": {
      "text/plain": [
       "tensor([-1., -1., -0.])"
      ]
     },
     "execution_count": 19,
     "metadata": {},
     "output_type": "execute_result"
    }
   ],
   "source": [
    "circuit.linearCombination(-1)"
   ]
  },
  {
   "cell_type": "code",
   "execution_count": 21,
   "id": "832993f4",
   "metadata": {},
   "outputs": [
    {
     "data": {
      "text/plain": [
       "tensor([ 0., -1., -1.])"
      ]
     },
     "execution_count": 21,
     "metadata": {},
     "output_type": "execute_result"
    }
   ],
   "source": [
    "circuit.linearCombination(0)"
   ]
  },
  {
   "cell_type": "code",
   "execution_count": 22,
   "id": "5874768f",
   "metadata": {},
   "outputs": [
    {
     "data": {
      "text/plain": [
       "tensor([-1., -0., -1.])"
      ]
     },
     "execution_count": 22,
     "metadata": {},
     "output_type": "execute_result"
    }
   ],
   "source": [
    "circuit.linearCombination(1)"
   ]
  },
  {
   "cell_type": "code",
   "execution_count": 23,
   "id": "3d2942e6",
   "metadata": {},
   "outputs": [
    {
     "data": {
      "text/plain": [
       "tensor([-1., -1., -0.])"
      ]
     },
     "execution_count": 23,
     "metadata": {},
     "output_type": "execute_result"
    }
   ],
   "source": [
    "circuit.linearCombination(2)"
   ]
  },
  {
   "cell_type": "code",
   "execution_count": 25,
   "id": "90c190ce",
   "metadata": {},
   "outputs": [
    {
     "data": {
      "text/plain": [
       "([(0, 1, 'Jx'), (2, 3, 'Jy')],\n",
       " [tensor(6.3291, grad_fn=<AddBackward0>),\n",
       "  tensor(6.3291, grad_fn=<AddBackward0>)])"
      ]
     },
     "execution_count": 25,
     "metadata": {},
     "output_type": "execute_result"
    }
   ],
   "source": [
    "circuit.josephsonComponents()"
   ]
  },
  {
   "cell_type": "code",
   "execution_count": 27,
   "id": "6819717c",
   "metadata": {},
   "outputs": [
    {
     "data": {
      "text/plain": [
       "{1: 0, 2: 1, 3: 2, 0: -1}"
      ]
     },
     "execution_count": 27,
     "metadata": {},
     "output_type": "execute_result"
    }
   ],
   "source": [
    "circuit.nodes_"
   ]
  },
  {
   "cell_type": "code",
   "execution_count": null,
   "id": "c6b4152a",
   "metadata": {},
   "outputs": [],
   "source": [
    "i,o,j = combination"
   ]
  },
  {
   "cell_type": "code",
   "execution_count": null,
   "id": "b8e0c394",
   "metadata": {},
   "outputs": [],
   "source": []
  },
  {
   "cell_type": "code",
   "execution_count": null,
   "id": "56c09ead",
   "metadata": {},
   "outputs": [],
   "source": [
    "def displacementCombination(combination):\n",
    "    self = circuit\n",
    "    basis = self.basis\n",
    "    R = self.R\n",
    "    Ln_,Cn_ = self.Ln_,self.Cn_\n",
    "    L_ = inv(R.T) @ Ln_ @ inv(R); L_ = diag(diag(L_))\n",
    "    C_ = R @ Cn_ @ R.T; C_ = diag(diag(C_))\n",
    "    # Chi mode impedance\n",
    "    z = sqrt(C_[1,1]/L_[1,1]) * 2 # Cooper pair factor\n",
    "    i,o,j = combination\n",
    "    # re-calculation with parameter iteration\n",
    "    D_plus = [self.backend.displacementFlux(basis['Phi'],i)] \n",
    "    D_minus = [self.backend.displacementFlux(basis['Phi'],-i)] \n",
    "    D_plus += [self.backend.displacementOscillator(basis['Chi'],z,o)]\n",
    "    D_minus += [self.backend.displacementOscillator(basis['Chi'],z,-o)]\n",
    "    D_plus += [self.backend.displacementCharge(basis['Theta'],j)]  \n",
    "    D_minus += [self.backend.displacementCharge(basis['Theta'],-j)] \n",
    "\n",
    "    assert len(combination)==len(D_plus)\n",
    "    assert len(combination)==len(D_minus)\n",
    "    return D_plus,D_minus"
   ]
  },
  {
   "cell_type": "code",
   "execution_count": null,
   "id": "3615fefc",
   "metadata": {},
   "outputs": [],
   "source": [
    "def kermanBasisSize():\n",
    "    basis = circuit.basis\n",
    "    return basis['Chi']*(2*basis['Theta']+1)*(2*basis['Phi']+1)"
   ]
  },
  {
   "cell_type": "code",
   "execution_count": null,
   "id": "1b617705",
   "metadata": {},
   "outputs": [],
   "source": [
    "circuit.displacementCombination = displacementCombination\n",
    "circuit.ridgeHamiltonian = ridgeHamiltonian\n",
    "circuit.kermanBasisSize = kermanBasisSize"
   ]
  },
  {
   "cell_type": "code",
   "execution_count": 8,
   "id": "bfa33e0f",
   "metadata": {
    "collapsed": true
   },
   "outputs": [
    {
     "ename": "TypeError",
     "evalue": "linspace(): argument 'steps' (position 3) must be int, not float",
     "output_type": "error",
     "traceback": [
      "\u001b[0;31m---------------------------------------------------------------------------\u001b[0m",
      "\u001b[0;31mTypeError\u001b[0m                                 Traceback (most recent call last)",
      "Cell \u001b[0;32mIn[8], line 2\u001b[0m\n\u001b[1;32m      1\u001b[0m H_J \u001b[38;5;241m=\u001b[39m circuit\u001b[38;5;241m.\u001b[39mkermanHamiltonianJosephson\n\u001b[0;32m----> 2\u001b[0m H_LC \u001b[38;5;241m=\u001b[39m \u001b[43mcircuit\u001b[49m\u001b[38;5;241;43m.\u001b[39;49m\u001b[43mridgeHamiltonian\u001b[49m\u001b[43m(\u001b[49m\u001b[43mcircuit\u001b[49m\u001b[43m)\u001b[49m\n",
      "File \u001b[0;32m~/JupyterHub/DiSuQ/Torch/models.py:77\u001b[0m, in \u001b[0;36mzeroPi.<locals>.ridgeHamiltonian\u001b[0;34m(self)\u001b[0m\n\u001b[1;32m     74\u001b[0m \u001b[38;5;66;03m# Chi mode impedance\u001b[39;00m\n\u001b[1;32m     75\u001b[0m z \u001b[38;5;241m=\u001b[39m sqrt(C_[\u001b[38;5;241m1\u001b[39m,\u001b[38;5;241m1\u001b[39m]\u001b[38;5;241m/\u001b[39mL_[\u001b[38;5;241m1\u001b[39m,\u001b[38;5;241m1\u001b[39m]) \u001b[38;5;241m*\u001b[39m \u001b[38;5;241m2\u001b[39m \u001b[38;5;66;03m# Cooper pair factor\u001b[39;00m\n\u001b[0;32m---> 77\u001b[0m F \u001b[38;5;241m=\u001b[39m [\u001b[38;5;28;43mself\u001b[39;49m\u001b[38;5;241;43m.\u001b[39;49m\u001b[43mbackend\u001b[49m\u001b[38;5;241;43m.\u001b[39;49m\u001b[43mbasisFf\u001b[49m\u001b[43m(\u001b[49m\u001b[43mflux0\u001b[49m\u001b[43m,\u001b[49m\u001b[43mbasis\u001b[49m\u001b[43m[\u001b[49m\u001b[38;5;124;43m'\u001b[39;49m\u001b[38;5;124;43mPhi\u001b[39;49m\u001b[38;5;124;43m'\u001b[39;49m\u001b[43m]\u001b[49m\u001b[43m)\u001b[49m]\n\u001b[1;32m     78\u001b[0m F \u001b[38;5;241m+\u001b[39m\u001b[38;5;241m=\u001b[39m [\u001b[38;5;28mself\u001b[39m\u001b[38;5;241m.\u001b[39mbackend\u001b[38;5;241m.\u001b[39mbasisFo(basis[\u001b[38;5;124m'\u001b[39m\u001b[38;5;124mChi\u001b[39m\u001b[38;5;124m'\u001b[39m],z)]\n\u001b[1;32m     79\u001b[0m F \u001b[38;5;241m+\u001b[39m\u001b[38;5;241m=\u001b[39m [\u001b[38;5;28mself\u001b[39m\u001b[38;5;241m.\u001b[39mbackend\u001b[38;5;241m.\u001b[39mbasisFq(basis[\u001b[38;5;124m'\u001b[39m\u001b[38;5;124mTheta\u001b[39m\u001b[38;5;124m'\u001b[39m])]\n",
      "File \u001b[0;32m~/JupyterHub/DiSuQ/Torch/sparse.py:186\u001b[0m, in \u001b[0;36mbasisFf\u001b[0;34m(N, n)\u001b[0m\n\u001b[1;32m    185\u001b[0m \u001b[38;5;28;01mdef\u001b[39;00m \u001b[38;5;21mbasisFf\u001b[39m(N,n):\n\u001b[0;32m--> 186\u001b[0m     flux \u001b[38;5;241m=\u001b[39m \u001b[43mfluxStates\u001b[49m\u001b[43m(\u001b[49m\u001b[43mN\u001b[49m\u001b[43m,\u001b[49m\u001b[43mn\u001b[49m\u001b[43m)\u001b[49m\n\u001b[1;32m    187\u001b[0m     F \u001b[38;5;241m=\u001b[39m diagSparse(flux)\n\u001b[1;32m    188\u001b[0m     \u001b[38;5;28;01mreturn\u001b[39;00m F\n",
      "File \u001b[0;32m~/JupyterHub/DiSuQ/Torch/sparse.py:145\u001b[0m, in \u001b[0;36mfluxStates\u001b[0;34m(N_flux, n_flux)\u001b[0m\n\u001b[1;32m    144\u001b[0m \u001b[38;5;28;01mdef\u001b[39;00m \u001b[38;5;21mfluxStates\u001b[39m(N_flux,n_flux\u001b[38;5;241m=\u001b[39m\u001b[38;5;241m1\u001b[39m):\n\u001b[0;32m--> 145\u001b[0m     flux \u001b[38;5;241m=\u001b[39m \u001b[43mlinspace\u001b[49m\u001b[43m(\u001b[49m\u001b[43mn_flux\u001b[49m\u001b[43m,\u001b[49m\u001b[38;5;241;43m-\u001b[39;49m\u001b[43mn_flux\u001b[49m\u001b[43m,\u001b[49m\u001b[43mN_flux\u001b[49m\u001b[43m,\u001b[49m\u001b[43mdtype\u001b[49m\u001b[38;5;241;43m=\u001b[39;49m\u001b[38;5;28;43mcomplex\u001b[39;49m\u001b[43m)\u001b[49m\n\u001b[1;32m    146\u001b[0m     \u001b[38;5;28;01mreturn\u001b[39;00m flux\n",
      "\u001b[0;31mTypeError\u001b[0m: linspace(): argument 'steps' (position 3) must be int, not float"
     ]
    }
   ],
   "source": [
    "H_J = circuit.kermanHamiltonianJosephson\n",
    "H_LC = circuit.ridgeHamiltonian(circuit)"
   ]
  },
  {
   "cell_type": "code",
   "execution_count": null,
   "id": "02c907ba",
   "metadata": {},
   "outputs": [],
   "source": [
    "H_J({'Lx':tensor(0)})"
   ]
  }
 ],
 "metadata": {
  "@webio": {
   "lastCommId": null,
   "lastKernelId": null
  },
  "kernelspec": {
   "display_name": "Python 3 (ipykernel)",
   "language": "python",
   "name": "python3"
  },
  "language_info": {
   "codemirror_mode": {
    "name": "ipython",
    "version": 3
   },
   "file_extension": ".py",
   "mimetype": "text/x-python",
   "name": "python",
   "nbconvert_exporter": "python",
   "pygments_lexer": "ipython3",
   "version": "3.11.5"
  }
 },
 "nbformat": 4,
 "nbformat_minor": 5
}
