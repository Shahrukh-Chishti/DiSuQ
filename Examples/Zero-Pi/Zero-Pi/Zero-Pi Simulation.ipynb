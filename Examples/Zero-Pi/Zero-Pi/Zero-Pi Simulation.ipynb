{
 "cells": [
  {
   "cell_type": "markdown",
   "id": "6cf6f632",
   "metadata": {},
   "source": [
    "* degeneracy point identification\n",
    "* external flux solo (ohne ng)\n",
    "* choice of basis : \n",
    "* ridge transformation"
   ]
  },
  {
   "cell_type": "code",
   "execution_count": 1,
   "id": "7eba94ea",
   "metadata": {},
   "outputs": [],
   "source": [
    "from DiSuQ.Torch import models\n",
    "import scqubits\n",
    "from torch import tensor\n",
    "from torch.linalg import inv\n",
    "from numpy import arange,linspace,meshgrid,array,log,pi,around\n",
    "from DiSuQ.utils import plotCompare,plotHeatmap\n",
    "from torch import set_num_threads\n",
    "from DiSuQ.Torch.components import indE,capE,indEnergy\n",
    "set_num_threads(32)"
   ]
  },
  {
   "cell_type": "markdown",
   "id": "75508148",
   "metadata": {},
   "source": [
    "### analytic feature recovering : optimal parameters"
   ]
  },
  {
   "cell_type": "code",
   "execution_count": 2,
   "id": "427cfa52",
   "metadata": {},
   "outputs": [
    {
     "name": "stdout",
     "output_type": "stream",
     "text": [
      "Inductance Bound(GHz): 1.6346151294983178 34.32691771946467\n",
      "Capacitance Bound(GHz): 0.38740458615415185 39.12786320156934\n",
      "Shunt Bound(GHz): 3.8740458615415188 158.83588032320228\n",
      "Junction Bound(GHz): 5.0 30.0\n"
     ]
    }
   ],
   "source": [
    "L_ = indE(1e-7); L0 = indE(5*1e-9); print('Inductance Bound(GHz):',L_,L0+L_)\n",
    "C0 = capE(5*1e-16); C_ = capE(1e-14*5) ; print('Capacitance Bound(GHz):',C_,C0+C_)\n",
    "CJ0 = capE(5*1e-16/4); CJ_ = capE(1e-14/2) ; print('Shunt Bound(GHz):',CJ_,CJ0+CJ_)\n",
    "J0 = 25. ; J_ = 5. ; print('Junction Bound(GHz):',J_,J0+J_)\n",
    "# components['Jx'].J0 = J0 ; components['Jy'].J0 = J0"
   ]
  },
  {
   "cell_type": "code",
   "execution_count": 3,
   "id": "b7c9ea82",
   "metadata": {},
   "outputs": [],
   "source": [
    "El,Ec,Ej,EcJ = 1.1*L_,1.1*C_,J0+.9*J_,CJ0+.9*CJ_"
   ]
  },
  {
   "cell_type": "code",
   "execution_count": 4,
   "id": "e8907c3b",
   "metadata": {},
   "outputs": [
    {
     "data": {
      "text/plain": [
       "(371.8181818181818, 69.22525642871614, 16.406419672875916, 88.12109116845791)"
      ]
     },
     "execution_count": 4,
     "metadata": {},
     "output_type": "execute_result"
    }
   ],
   "source": [
    "EcJ/Ec , Ej/Ec , Ej/El , EcJ/El"
   ]
  },
  {
   "cell_type": "code",
   "execution_count": 5,
   "id": "ec2b8417",
   "metadata": {},
   "outputs": [
    {
     "data": {
      "text/plain": [
       "8.873152571901118"
      ]
     },
     "execution_count": 5,
     "metadata": {},
     "output_type": "execute_result"
    }
   ],
   "source": [
    ".25/2/indEnergy(El) # upper bound on potential energy"
   ]
  },
  {
   "cell_type": "markdown",
   "id": "2f32b5e9",
   "metadata": {},
   "source": [
    "### Flux profile Spectrum"
   ]
  },
  {
   "cell_type": "markdown",
   "id": "87547750",
   "metadata": {},
   "source": [
    "Charge Basis assure flux profile symmetry with respect to $\\Delta \\Phi_x \\Delta \\Phi_y$ \\\n",
    "Subsequent analysis is in Flux basis, for better convergence, to demonstrate circuit features."
   ]
  },
  {
   "cell_type": "code",
   "execution_count": 6,
   "id": "076edbee",
   "metadata": {},
   "outputs": [],
   "source": [
    "pairs = {'Lx':'Ly','Cx':'Cy','Jx':'Jy','CJx':'CJy'}"
   ]
  },
  {
   "cell_type": "markdown",
   "id": "76670091",
   "metadata": {},
   "source": [
    "#### charge regime circuit"
   ]
  },
  {
   "cell_type": "code",
   "execution_count": 7,
   "id": "084b3c82",
   "metadata": {},
   "outputs": [],
   "source": [
    "basis = [9,9,9]\n",
    "flux_point = ['Lx','Ly']\n",
    "circuit = models.zeroPi(basis,Ej=Ej,Ec=Ec,El=El,EcJ=EcJ,sparse=False,symmetry=True,_L_=(L_,L0),_C_=(C_,C0),_J_=(J_,J0),_CJ_=(CJ_,CJ0))"
   ]
  },
  {
   "cell_type": "code",
   "execution_count": 8,
   "id": "98a1dd7b",
   "metadata": {},
   "outputs": [],
   "source": [
    "Nx,Ny  = 50,1\n",
    "PhiX = linspace(.45,.55,Nx,endpoint=True)\n",
    "PhiY = linspace(0,1,Ny,endpoint=True)\n",
    "flux_range = meshgrid(PhiX,PhiY)\n",
    "flux_range = array((flux_range[0].flatten(),flux_range[1].flatten())).T\n",
    "flux_manifold = [flux for flux in tensor(flux_range)]"
   ]
  },
  {
   "cell_type": "code",
   "execution_count": 9,
   "id": "5b7221c6",
   "metadata": {},
   "outputs": [],
   "source": [
    "H_LC = circuit.chargeHamiltonianLC()\n",
    "H_J = circuit.josephsonCharge"
   ]
  },
  {
   "cell_type": "code",
   "execution_count": null,
   "id": "446d46c9",
   "metadata": {},
   "outputs": [],
   "source": [
    "qE0,(qEx1,qEx2) = circuit.spectrumManifold(flux_point,flux_manifold,H_LC,H_J,excitation=[1,2],grad=False)"
   ]
  },
  {
   "cell_type": "code",
   "execution_count": null,
   "id": "376150e0",
   "metadata": {},
   "outputs": [],
   "source": [
    "H_LC = circuit.fluxHamiltonianLC()\n",
    "H_J = circuit.josephsonFlux"
   ]
  },
  {
   "cell_type": "code",
   "execution_count": null,
   "id": "11380062",
   "metadata": {},
   "outputs": [],
   "source": [
    "fE0,(fEx1,fEx2) = circuit.spectrumManifold(flux_point,flux_manifold,H_LC,H_J,excitation=[1,2],grad=False)"
   ]
  },
  {
   "cell_type": "code",
   "execution_count": null,
   "id": "2ab8b6b5",
   "metadata": {},
   "outputs": [],
   "source": [
    "plotCompare(flux_range[:,0],{'charge E0':qE0,'flux E0':fE0,'charge Ex1':qEx1,'flux Ex1':fEx1,\n",
    "                            'charge Ex2':qEx2,'flux Ex2':fEx2},'Spectrum','flux profile','energy(GHz)')"
   ]
  },
  {
   "cell_type": "code",
   "execution_count": null,
   "id": "aa21b3a4",
   "metadata": {},
   "outputs": [],
   "source": [
    "#utils.plotHeatmap(Ex1.reshape(Ny,Nx),PhiX,PhiY,'Zero-Pi:E01','phiX','phiY',size=(800,800),export='pdf')"
   ]
  },
  {
   "cell_type": "code",
   "execution_count": null,
   "id": "cbe101ad",
   "metadata": {},
   "outputs": [],
   "source": [
    "#utils.plotHeatmap((Ex1-Ex2).reshape(Ny,Nx),PhiX,PhiY,'Zero-Pi:E12','phiX','phiY',size=(800,800),export='pdf')"
   ]
  },
  {
   "cell_type": "markdown",
   "id": "c2a096d8",
   "metadata": {},
   "source": [
    "#### flux regime circuit"
   ]
  },
  {
   "cell_type": "code",
   "execution_count": null,
   "id": "b1e23124",
   "metadata": {},
   "outputs": [],
   "source": [
    "basis = [8,8,8]\n",
    "flux_point = ['Lx','Ly']\n",
    "circuit = models.zeroPi(basis,Ej=Ej,Ec=Ec,El=El,EcJ=EcJ,sparse=False,symmetry=True,_L_=(L_,L0),_C_=(C_,C0),_J_=(J_,J0),_CJ_=(CJ_,CJ0))"
   ]
  },
  {
   "cell_type": "code",
   "execution_count": null,
   "id": "ee1004b4",
   "metadata": {},
   "outputs": [],
   "source": [
    "Nx,Ny  = 25,1\n",
    "PhiX = linspace(0,1,Nx,endpoint=True)\n",
    "PhiY = linspace(0,1,Ny,endpoint=True)\n",
    "flux_range = meshgrid(PhiX,PhiY)\n",
    "flux_range = array((flux_range[0].flatten(),flux_range[1].flatten())).T\n",
    "flux_manifold = [flux for flux in tensor(flux_range)]"
   ]
  },
  {
   "cell_type": "markdown",
   "id": "d3e91c2b",
   "metadata": {},
   "source": [
    "##### charge basis"
   ]
  },
  {
   "cell_type": "code",
   "execution_count": null,
   "id": "487826a4",
   "metadata": {},
   "outputs": [],
   "source": [
    "H_LC = circuit.chargeHamiltonianLC()\n",
    "H_J = circuit.josephsonCharge"
   ]
  },
  {
   "cell_type": "code",
   "execution_count": null,
   "id": "09256c6a",
   "metadata": {},
   "outputs": [],
   "source": [
    "qE0,(qEx1,qEx2) = circuit.spectrumManifold(flux_point,flux_manifold,H_LC,H_J,excitation=[1,2],grad=False)"
   ]
  },
  {
   "cell_type": "markdown",
   "id": "bad461b3",
   "metadata": {},
   "source": [
    "##### kerman basis"
   ]
  },
  {
   "cell_type": "code",
   "execution_count": null,
   "id": "0fd18385",
   "metadata": {},
   "outputs": [],
   "source": [
    "basis = {'O':[15,15],'I':[],'J':[8]}\n",
    "circuit.basis = basis"
   ]
  },
  {
   "cell_type": "code",
   "execution_count": null,
   "id": "15ad5c01",
   "metadata": {},
   "outputs": [],
   "source": [
    "H_LC = circuit.kermanHamiltonianLC()\n",
    "H_J = circuit.kermanHamiltonianJosephson"
   ]
  },
  {
   "cell_type": "code",
   "execution_count": null,
   "id": "60e046df",
   "metadata": {},
   "outputs": [],
   "source": [
    "kE0,(kEx1,kEx2) = circuit.spectrumManifold(flux_point,flux_manifold,H_LC,H_J,excitation=[1,2],grad=False)"
   ]
  },
  {
   "cell_type": "markdown",
   "id": "637bf1da",
   "metadata": {},
   "source": [
    "##### ridge basis"
   ]
  },
  {
   "cell_type": "code",
   "execution_count": null,
   "id": "2903abad",
   "metadata": {},
   "outputs": [],
   "source": [
    "circuit = models.zeroPi(basis,Ej=Ej,Ec=Ec,El=El,EcJ=EcJ,sparse=False,symmetry=True,_L_=(L_,L0),_C_=(C_,C0),_J_=(J_,J0),_CJ_=(CJ_,CJ0))"
   ]
  },
  {
   "cell_type": "code",
   "execution_count": null,
   "id": "13ebbc40",
   "metadata": {},
   "outputs": [],
   "source": [
    "basis = {'O':[10],'I':[],'J':[8,8]}\n",
    "circuit.basis = basis"
   ]
  },
  {
   "cell_type": "code",
   "execution_count": null,
   "id": "c56020df",
   "metadata": {},
   "outputs": [],
   "source": [
    "circuit.R = tensor([[1,-1,-1],[-1,1,-1],[-1,-1,1]])/2."
   ]
  },
  {
   "cell_type": "code",
   "execution_count": null,
   "id": "f1e4b01b",
   "metadata": {},
   "outputs": [],
   "source": [
    "inv(circuit.R)@circuit.R"
   ]
  },
  {
   "cell_type": "code",
   "execution_count": null,
   "id": "0cd0f934",
   "metadata": {},
   "outputs": [],
   "source": [
    "circuit.No,circuit.Ni,circuit.Nj = 1,0,2\n",
    "circuit.Lo_,circuit.C_ = circuit.transformComponents()"
   ]
  },
  {
   "cell_type": "code",
   "execution_count": null,
   "id": "a7b1d1f1",
   "metadata": {},
   "outputs": [],
   "source": [
    "Cn_,Ln_ = circuit.componentMatrix()"
   ]
  },
  {
   "cell_type": "code",
   "execution_count": null,
   "id": "546ba51a",
   "metadata": {},
   "outputs": [],
   "source": [
    "Cn_"
   ]
  },
  {
   "cell_type": "code",
   "execution_count": null,
   "id": "408fa847",
   "metadata": {},
   "outputs": [],
   "source": [
    "inv(circuit.R)@Cn_@circuit.R"
   ]
  },
  {
   "cell_type": "code",
   "execution_count": null,
   "id": "f8bd1456",
   "metadata": {},
   "outputs": [],
   "source": [
    "H_LC = circuit.kermanHamiltonianLC()\n",
    "H_J = circuit.kermanHamiltonianJosephson"
   ]
  },
  {
   "cell_type": "code",
   "execution_count": null,
   "id": "bfc85de2",
   "metadata": {},
   "outputs": [],
   "source": [
    "rE0,(rEx1,rEx2) = circuit.spectrumManifold(flux_point,flux_manifold,H_LC,H_J,excitation=[1,2],grad=False)"
   ]
  },
  {
   "cell_type": "code",
   "execution_count": null,
   "id": "fdf965f3",
   "metadata": {},
   "outputs": [],
   "source": [
    "charge_degeneracy = log(qEx2/qEx1)\n",
    "flux_degeneracy = log(fEx2/fEx1)\n",
    "kerman_degeneracy = log(kEx2/kEx1)\n",
    "ridge_degeneracy = log(rEx2/rEx1)"
   ]
  },
  {
   "cell_type": "code",
   "execution_count": null,
   "id": "4543cda7",
   "metadata": {},
   "outputs": [],
   "source": [
    "plotCompare(flux_range[:,0],{'charge D':charge_degeneracy,'flux D':flux_degeneracy,\n",
    "                             'kerman D':kerman_degeneracy,'ridge D':ridge_degeneracy,\n",
    "                             'charge Ex1':qEx1,'flux Ex1':fEx1,'kerman Ex1':kEx1,'ridge Ex1':rEx1,\n",
    "                            'charge Ex2':qEx2,'flux Ex2':fEx2,'kerman Ex2':kEx2,'ridge Ex2':rEx2},\n",
    "            'Spectrum','flux profile','energy(GHz)')"
   ]
  },
  {
   "cell_type": "markdown",
   "id": "a2bc6c36",
   "metadata": {},
   "source": [
    "### Node Variables"
   ]
  },
  {
   "cell_type": "code",
   "execution_count": null,
   "id": "2e5ed7f5",
   "metadata": {},
   "outputs": [],
   "source": []
  }
 ],
 "metadata": {
  "@webio": {
   "lastCommId": null,
   "lastKernelId": null
  },
  "kernelspec": {
   "display_name": "Python 3 (ipykernel)",
   "language": "python",
   "name": "python3"
  },
  "language_info": {
   "codemirror_mode": {
    "name": "ipython",
    "version": 3
   },
   "file_extension": ".py",
   "mimetype": "text/x-python",
   "name": "python",
   "nbconvert_exporter": "python",
   "pygments_lexer": "ipython3",
   "version": "3.11.3"
  }
 },
 "nbformat": 4,
 "nbformat_minor": 5
}
