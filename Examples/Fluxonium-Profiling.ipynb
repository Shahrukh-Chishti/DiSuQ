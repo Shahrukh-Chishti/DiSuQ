{
 "cells": [
  {
   "cell_type": "markdown",
   "id": "6b819039",
   "metadata": {},
   "source": [
    "Test Cases for Fluxonium circuit \n",
    "* band flatness across flux spectrum"
   ]
  },
  {
   "cell_type": "code",
   "execution_count": 1,
   "id": "430ddd40",
   "metadata": {},
   "outputs": [],
   "source": [
    "from DiSuQ.Torch import models\n",
    "from DiSuQ.Torch.optimization import OrderingOptimization,PolynomialOptimization\n",
    "from DiSuQ.Torch.optimization import lossAnharmonicity,lossTransitionFlatness\n",
    "from torch import tensor\n",
    "from numpy import arange,linspace\n",
    "from DiSuQ.utils import plotCompare\n",
    "from torch import set_num_threads\n",
    "set_num_threads(32)"
   ]
  },
  {
   "cell_type": "code",
   "execution_count": 2,
   "id": "7b2ef482",
   "metadata": {},
   "outputs": [],
   "source": [
    "basis = {'O':[256],'I':[],'J':[]}; rep = 'K'\n",
    "#basis = [40]; rep = 'Q'\n",
    "circuit = models.fluxonium(basis,sparse=False)\n",
    "print(circuit.circuitComponents())"
   ]
  },
  {
   "cell_type": "code",
   "execution_count": 3,
   "id": "0e8f6a09",
   "metadata": {},
   "outputs": [],
   "source": [
    "flux_range = tensor(linspace(0,1,32,endpoint=True))"
   ]
  },
  {
   "cell_type": "markdown",
   "id": "486b8baa",
   "metadata": {},
   "source": [
    "#### pre-optimization Fluxonium"
   ]
  },
  {
   "cell_type": "code",
   "execution_count": 4,
   "id": "79a66f63",
   "metadata": {},
   "outputs": [],
   "source": [
    "flux_profile = [[flux] for flux in flux_range]\n",
    "flux_point = ('I')"
   ]
  },
  {
   "cell_type": "code",
   "execution_count": 5,
   "id": "77ab5831",
   "metadata": {},
   "outputs": [],
   "source": [
    "H_LC = circuit.kermanHamiltonianLC()\n",
    "H_J = circuit.kermanHamiltonianJosephson"
   ]
  },
  {
   "cell_type": "code",
   "execution_count": 6,
   "id": "12f053b6",
   "metadata": {},
   "outputs": [],
   "source": [
    "pre_E0,pre_Ex = circuit.spectrumManifold(flux_point,flux_profile,H_LC,H_J,excitation=[1,2])"
   ]
  },
  {
   "cell_type": "code",
   "execution_count": 7,
   "id": "4bf98422",
   "metadata": {},
   "outputs": [],
   "source": [
    "pre_Ex = pre_Ex.detach().numpy()"
   ]
  },
  {
   "cell_type": "code",
   "execution_count": 8,
   "id": "357c00e6",
   "metadata": {},
   "outputs": [],
   "source": [
    "plotCompare(flux_range,{'Ist Excitation':pre_Ex[0],'IInd Excitation':pre_Ex[1],'Anharmonicity':pre_Ex[1]-2*pre_Ex[0]},\n",
    "            'Fluxonium-Excitation','external flux','E(GHz)')"
   ]
  },
  {
   "cell_type": "markdown",
   "id": "a857a1f2",
   "metadata": {},
   "source": [
    "#### optimization"
   ]
  },
  {
   "cell_type": "code",
   "execution_count": 9,
   "id": "54e8c0bd",
   "metadata": {},
   "outputs": [],
   "source": [
    "flux_profile = [{'I':flux} for flux in flux_range]"
   ]
  },
  {
   "cell_type": "code",
   "execution_count": null,
   "id": "4a62c6dd",
   "metadata": {},
   "outputs": [],
   "source": [
    "optim = OrderingOptimization(circuit,representation=rep)\n",
    "dLogs,dParams,dCircuit = optim.optimization(lossTransitionFlatness,flux_profile,iterations=1000,lr=.005)"
   ]
  },
  {
   "cell_type": "code",
   "execution_count": null,
   "id": "ed46e977",
   "metadata": {},
   "outputs": [],
   "source": [
    "plotCompare(dLogs.index,dLogs,'Optimizing Fluxonium','iteration')"
   ]
  },
  {
   "cell_type": "code",
   "execution_count": null,
   "id": "ff1554c9",
   "metadata": {},
   "outputs": [],
   "source": [
    "plotCompare(dCircuit.index,dCircuit,None,\"iteration\",\"energy\")"
   ]
  },
  {
   "cell_type": "markdown",
   "id": "02ce1591",
   "metadata": {},
   "source": [
    "#### post-optimization Fluxonium"
   ]
  },
  {
   "cell_type": "code",
   "execution_count": null,
   "id": "13823db6",
   "metadata": {},
   "outputs": [],
   "source": [
    "flux_profile = [[flux] for flux in flux_range]\n",
    "flux_point = ('I')"
   ]
  },
  {
   "cell_type": "code",
   "execution_count": null,
   "id": "f3d65bcf",
   "metadata": {},
   "outputs": [],
   "source": [
    "H_LC = circuit.kermanHamiltonianLC()\n",
    "H_J = circuit.kermanHamiltonianJosephson"
   ]
  },
  {
   "cell_type": "code",
   "execution_count": null,
   "id": "1b2d6356",
   "metadata": {},
   "outputs": [],
   "source": [
    "post_E0,post_Ex = circuit.spectrumManifold(flux_point,flux_profile,H_LC,H_J,excitation=[1,2])"
   ]
  },
  {
   "cell_type": "code",
   "execution_count": null,
   "id": "3ac7e3ec",
   "metadata": {},
   "outputs": [],
   "source": [
    "post_Ex = post_Ex.detach().numpy()"
   ]
  },
  {
   "cell_type": "code",
   "execution_count": null,
   "id": "375a8d33",
   "metadata": {},
   "outputs": [],
   "source": [
    "plotCompare(flux_range,{'Ist Excitation':post_Ex[0],'IInd Excitation':post_Ex[1],'Anharmonicity':post_Ex[1]-2*post_Ex[0]},\n",
    "            'Fluxonium-Excitation','external flux','E(GHz)')"
   ]
  },
  {
   "cell_type": "code",
   "execution_count": null,
   "id": "f9529acf",
   "metadata": {},
   "outputs": [],
   "source": [
    "print(circuit.circuitComponents())"
   ]
  },
  {
   "cell_type": "code",
   "execution_count": null,
   "id": "72c36187",
   "metadata": {},
   "outputs": [],
   "source": []
  }
 ],
 "metadata": {
  "@webio": {
   "lastCommId": null,
   "lastKernelId": null
  },
  "kernelspec": {
   "display_name": "Python 3.11",
   "language": "python",
   "name": "python3"
  },
  "language_info": {
   "codemirror_mode": {
    "name": "ipython",
    "version": 3
   },
   "file_extension": ".py",
   "mimetype": "text/x-python",
   "name": "python",
   "nbconvert_exporter": "python",
   "pygments_lexer": "ipython3",
   "version": "3.11.1"
  }
 },
 "nbformat": 4,
 "nbformat_minor": 5
}
