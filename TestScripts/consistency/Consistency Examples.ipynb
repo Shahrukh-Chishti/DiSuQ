{
 "cells": [
  {
   "cell_type": "code",
   "execution_count": 7,
   "id": "74721561",
   "metadata": {},
   "outputs": [],
   "source": [
    "from DiSuQ.Torch.models import shuntedQubit,transmon,fluxonium\n",
    "from DiSuQ.Torch.circuit import hamiltonianEnergy,Kerman,Charge,Flux,Oscillator\n",
    "import torch,numpy\n",
    "from numpy import around\n",
    "from torch import tensor"
   ]
  },
  {
   "cell_type": "markdown",
   "id": "8c26be82",
   "metadata": {},
   "source": [
    "## Fluxonium"
   ]
  },
  {
   "cell_type": "markdown",
   "id": "ffe94931",
   "metadata": {},
   "source": [
    "#### charge basis"
   ]
  },
  {
   "cell_type": "code",
   "execution_count": 2,
   "id": "8a12ee80",
   "metadata": {},
   "outputs": [],
   "source": [
    "circuit = fluxonium(Charge,[50],sparse = False)\n",
    "phi = tensor(.5)"
   ]
  },
  {
   "cell_type": "code",
   "execution_count": 3,
   "id": "5860ec6f",
   "metadata": {},
   "outputs": [],
   "source": [
    "H_LC = circuit.hamiltonianLC()\n",
    "H_J = circuit.hamiltonianJosephson({'I':phi})"
   ]
  },
  {
   "cell_type": "code",
   "execution_count": 4,
   "id": "73cdf456",
   "metadata": {},
   "outputs": [
    {
     "data": {
      "text/plain": [
       "tensor([-18.0253, -14.1280, -10.3371], dtype=torch.float64,\n",
       "       grad_fn=<SliceBackward0>)"
      ]
     },
     "execution_count": 4,
     "metadata": {},
     "output_type": "execute_result"
    }
   ],
   "source": [
    "H = H_LC + H_J\n",
    "hamiltonianEnergy(H)[:3]"
   ]
  },
  {
   "cell_type": "markdown",
   "id": "9a9967ea",
   "metadata": {},
   "source": [
    "#### flux basis"
   ]
  },
  {
   "cell_type": "code",
   "execution_count": 2,
   "id": "4dba97bd-e70b-477d-9451-01a8178a92aa",
   "metadata": {},
   "outputs": [],
   "source": [
    "circuit = fluxonium(Charge,[50],sparse = False)\n",
    "phi = tensor(.5)"
   ]
  },
  {
   "cell_type": "code",
   "execution_count": 5,
   "id": "457a45bc",
   "metadata": {},
   "outputs": [
    {
     "ename": "AttributeError",
     "evalue": "'Charge' object has no attribute 'fluxHamiltonianLC'",
     "output_type": "error",
     "traceback": [
      "\u001b[0;31m---------------------------------------------------------------------------\u001b[0m",
      "\u001b[0;31mAttributeError\u001b[0m                            Traceback (most recent call last)",
      "Cell \u001b[0;32mIn[5], line 1\u001b[0m\n\u001b[0;32m----> 1\u001b[0m H_LC \u001b[38;5;241m=\u001b[39m \u001b[43mcircuit\u001b[49m\u001b[38;5;241;43m.\u001b[39;49m\u001b[43mfluxHamiltonianLC\u001b[49m()\n\u001b[1;32m      2\u001b[0m H_J \u001b[38;5;241m=\u001b[39m circuit\u001b[38;5;241m.\u001b[39mjosephsonFlux({\u001b[38;5;124m'\u001b[39m\u001b[38;5;124mI\u001b[39m\u001b[38;5;124m'\u001b[39m:phi})\n",
      "File \u001b[0;32m~/.disuq/lib/python3.12/site-packages/torch/nn/modules/module.py:1706\u001b[0m, in \u001b[0;36mModule.__getattr__\u001b[0;34m(self, name)\u001b[0m\n\u001b[1;32m   1704\u001b[0m     \u001b[38;5;28;01mif\u001b[39;00m name \u001b[38;5;129;01min\u001b[39;00m modules:\n\u001b[1;32m   1705\u001b[0m         \u001b[38;5;28;01mreturn\u001b[39;00m modules[name]\n\u001b[0;32m-> 1706\u001b[0m \u001b[38;5;28;01mraise\u001b[39;00m \u001b[38;5;167;01mAttributeError\u001b[39;00m(\u001b[38;5;124mf\u001b[39m\u001b[38;5;124m\"\u001b[39m\u001b[38;5;124m'\u001b[39m\u001b[38;5;132;01m{\u001b[39;00m\u001b[38;5;28mtype\u001b[39m(\u001b[38;5;28mself\u001b[39m)\u001b[38;5;241m.\u001b[39m\u001b[38;5;18m__name__\u001b[39m\u001b[38;5;132;01m}\u001b[39;00m\u001b[38;5;124m'\u001b[39m\u001b[38;5;124m object has no attribute \u001b[39m\u001b[38;5;124m'\u001b[39m\u001b[38;5;132;01m{\u001b[39;00mname\u001b[38;5;132;01m}\u001b[39;00m\u001b[38;5;124m'\u001b[39m\u001b[38;5;124m\"\u001b[39m)\n",
      "\u001b[0;31mAttributeError\u001b[0m: 'Charge' object has no attribute 'fluxHamiltonianLC'"
     ]
    }
   ],
   "source": [
    "H_LC = circuit.fluxHamiltonianLC()\n",
    "H_J = circuit.josephsonFlux({'I':phi})"
   ]
  },
  {
   "cell_type": "code",
   "execution_count": 6,
   "id": "63b55a52",
   "metadata": {},
   "outputs": [
    {
     "data": {
      "text/plain": [
       "tensor([ -0.4995, 399.8980, 400.3994], grad_fn=<SliceBackward0>)"
      ]
     },
     "execution_count": 6,
     "metadata": {},
     "output_type": "execute_result"
    }
   ],
   "source": [
    "H = H_LC + H_J\n",
    "hamiltonianEnergy(H)[:3]"
   ]
  },
  {
   "cell_type": "markdown",
   "id": "9bcff068",
   "metadata": {},
   "source": [
    "#### oscillator basis"
   ]
  },
  {
   "cell_type": "code",
   "execution_count": 2,
   "id": "952cddf5-d93d-4544-9bd3-b7124ac51ebf",
   "metadata": {},
   "outputs": [],
   "source": [
    "circuit = fluxonium(Charge,[50],sparse = False)\n",
    "phi = tensor(.5)"
   ]
  },
  {
   "cell_type": "code",
   "execution_count": 7,
   "id": "31260aca",
   "metadata": {},
   "outputs": [],
   "source": [
    "H_LC = circuit.oscillatorHamiltonianLC()\n",
    "H_J = circuit.josephsonOscillator({'I':phi})"
   ]
  },
  {
   "cell_type": "code",
   "execution_count": 8,
   "id": "4103939d",
   "metadata": {},
   "outputs": [
    {
     "data": {
      "text/plain": [
       "tensor([-13.7407, -13.7188,  -6.7796], grad_fn=<SliceBackward0>)"
      ]
     },
     "execution_count": 8,
     "metadata": {},
     "output_type": "execute_result"
    }
   ],
   "source": [
    "H = H_LC + H_J\n",
    "hamiltonianEnergy(H)[:3]"
   ]
  },
  {
   "cell_type": "markdown",
   "id": "e0cf6990",
   "metadata": {},
   "source": [
    "#### kerman basis"
   ]
  },
  {
   "cell_type": "code",
   "execution_count": 2,
   "id": "7231e3ac-d294-4f8c-b2eb-3c95cc1afbdd",
   "metadata": {},
   "outputs": [],
   "source": [
    "circuit = fluxonium(Charge,[50],sparse = False)\n",
    "phi = tensor(.5)"
   ]
  },
  {
   "cell_type": "code",
   "execution_count": 9,
   "id": "5ac4d4ed",
   "metadata": {},
   "outputs": [],
   "source": [
    "basis = {'O':[50],'I':[],'J':[]}\n",
    "circuit = fluxonium(basis,sparse=False)"
   ]
  },
  {
   "cell_type": "code",
   "execution_count": 10,
   "id": "549ef99a",
   "metadata": {},
   "outputs": [],
   "source": [
    "H_LC = circuit.kermanHamiltonianLC()\n",
    "H_J = circuit.kermanHamiltonianJosephson({'I':phi})"
   ]
  },
  {
   "cell_type": "code",
   "execution_count": 11,
   "id": "115fff48",
   "metadata": {},
   "outputs": [
    {
     "data": {
      "text/plain": [
       "tensor([-13.7407, -13.7188,  -6.7796], grad_fn=<SliceBackward0>)"
      ]
     },
     "execution_count": 11,
     "metadata": {},
     "output_type": "execute_result"
    }
   ],
   "source": [
    "H = H_LC + H_J\n",
    "hamiltonianEnergy(H)[:3]"
   ]
  },
  {
   "cell_type": "markdown",
   "id": "e0dd4cb6",
   "metadata": {
    "jp-MarkdownHeadingCollapsed": true
   },
   "source": [
    "# Transmon"
   ]
  },
  {
   "cell_type": "code",
   "execution_count": 12,
   "id": "dc5417c4",
   "metadata": {},
   "outputs": [],
   "source": [
    "basis = [100]\n",
    "Ej,Ec = 20,.3\n",
    "circuit = transmon(basis,Ej,Ec)"
   ]
  },
  {
   "cell_type": "code",
   "execution_count": 13,
   "id": "9959cc58",
   "metadata": {},
   "outputs": [
    {
     "data": {
      "text/plain": [
       "tensor([-16.6126,  -9.9992,  -3.7226], grad_fn=<SliceBackward0>)"
      ]
     },
     "execution_count": 13,
     "metadata": {},
     "output_type": "execute_result"
    }
   ],
   "source": [
    "H_LC = circuit.chargeHamiltonianLC()\n",
    "H_J = circuit.josephsonCharge({})\n",
    "H = H_LC + H_J\n",
    "H = H.to_dense()\n",
    "hamiltonianEnergy(H)[:3]"
   ]
  },
  {
   "cell_type": "markdown",
   "id": "fb2db1fe",
   "metadata": {},
   "source": [
    "#### basis : kerman/charge"
   ]
  },
  {
   "cell_type": "code",
   "execution_count": 14,
   "id": "acc4b47c",
   "metadata": {},
   "outputs": [],
   "source": [
    "basis = {'O':[],'I':[],'J':[100]}\n",
    "circuit = transmon(basis,Ej,Ec,sparse=True)"
   ]
  },
  {
   "cell_type": "code",
   "execution_count": 15,
   "id": "343de415",
   "metadata": {},
   "outputs": [
    {
     "data": {
      "text/plain": [
       "tensor([-16.6113,  -9.9989,  -3.7234], grad_fn=<SliceBackward0>)"
      ]
     },
     "execution_count": 15,
     "metadata": {},
     "output_type": "execute_result"
    }
   ],
   "source": [
    "H_LC = circuit.kermanHamiltonianLC()\n",
    "H_J = circuit.kermanHamiltonianJosephson({})\n",
    "H = H_LC + H_J\n",
    "H = H.to_dense()\n",
    "hamiltonianEnergy(H)[:3]"
   ]
  },
  {
   "cell_type": "code",
   "execution_count": 16,
   "id": "56417b74",
   "metadata": {},
   "outputs": [
    {
     "data": {
      "text/plain": [
       "tensor([[12000.0000+0.j,     0.0000+0.j,     0.0000+0.j,  ...,     0.0000+0.j,\n",
       "             0.0000+0.j,     0.0000+0.j],\n",
       "        [    0.0000+0.j, 11761.2002+0.j,     0.0000+0.j,  ...,     0.0000+0.j,\n",
       "             0.0000+0.j,     0.0000+0.j],\n",
       "        [    0.0000+0.j,     0.0000+0.j, 11524.8008+0.j,  ...,     0.0000+0.j,\n",
       "             0.0000+0.j,     0.0000+0.j],\n",
       "        ...,\n",
       "        [    0.0000+0.j,     0.0000+0.j,     0.0000+0.j,  ..., 11524.8008+0.j,\n",
       "             0.0000+0.j,     0.0000+0.j],\n",
       "        [    0.0000+0.j,     0.0000+0.j,     0.0000+0.j,  ...,     0.0000+0.j,\n",
       "         11761.2002+0.j,     0.0000+0.j],\n",
       "        [    0.0000+0.j,     0.0000+0.j,     0.0000+0.j,  ...,     0.0000+0.j,\n",
       "             0.0000+0.j, 12000.0000+0.j]], grad_fn=<ToDenseBackward0>)"
      ]
     },
     "execution_count": 16,
     "metadata": {},
     "output_type": "execute_result"
    }
   ],
   "source": [
    "H_LC.to_dense()"
   ]
  },
  {
   "cell_type": "code",
   "execution_count": 17,
   "id": "9103e997",
   "metadata": {},
   "outputs": [
    {
     "data": {
      "text/plain": [
       "tensor([[  0.-0.j, -10.+0.j,   0.+0.j,  ...,   0.-0.j,  -0.-0.j, -10.-0.j],\n",
       "        [-10.-0.j,  -0.-0.j, -10.+0.j,  ...,   0.+0.j,  -0.+0.j,  -0.-0.j],\n",
       "        [  0.-0.j, -10.-0.j,  -0.-0.j,  ...,  -0.-0.j,   0.+0.j,   0.-0.j],\n",
       "        ...,\n",
       "        [  0.+0.j,   0.-0.j,  -0.+0.j,  ...,  -0.+0.j, -10.+0.j,   0.+0.j],\n",
       "        [ -0.+0.j,  -0.-0.j,   0.-0.j,  ..., -10.-0.j,  -0.+0.j, -10.+0.j],\n",
       "        [-10.+0.j,  -0.+0.j,   0.+0.j,  ...,   0.-0.j, -10.-0.j,   0.+0.j]])"
      ]
     },
     "execution_count": 17,
     "metadata": {},
     "output_type": "execute_result"
    }
   ],
   "source": [
    "around(H_J.detach().to_dense(),2)"
   ]
  },
  {
   "cell_type": "markdown",
   "id": "60d79cf8",
   "metadata": {
    "jp-MarkdownHeadingCollapsed": true
   },
   "source": [
    "# C-shunted"
   ]
  },
  {
   "cell_type": "markdown",
   "id": "322a4d00",
   "metadata": {},
   "source": [
    "#### basis : kerman / charge"
   ]
  },
  {
   "cell_type": "code",
   "execution_count": 18,
   "id": "7b2414c2",
   "metadata": {},
   "outputs": [],
   "source": [
    "circuit_charge = shuntedQubit([3,2,2],sparse=False)\n",
    "phi = .0"
   ]
  },
  {
   "cell_type": "code",
   "execution_count": 19,
   "id": "66fe7a51",
   "metadata": {},
   "outputs": [],
   "source": [
    "H_LC = circuit_charge.chargeHamiltonianLC()\n",
    "H_J = circuit_charge.josephsonCharge({'I':tensor(phi)})"
   ]
  },
  {
   "cell_type": "code",
   "execution_count": 20,
   "id": "2396c612",
   "metadata": {},
   "outputs": [],
   "source": [
    "H = H_LC + H_J"
   ]
  },
  {
   "cell_type": "code",
   "execution_count": 21,
   "id": "be9122bc",
   "metadata": {},
   "outputs": [
    {
     "data": {
      "text/plain": [
       "tensor([ -0.4096, 399.6755, 399.7998], grad_fn=<SliceBackward0>)"
      ]
     },
     "execution_count": 21,
     "metadata": {},
     "output_type": "execute_result"
    }
   ],
   "source": [
    "#H = H.to_dense()\n",
    "hamiltonianEnergy(H)[:3]"
   ]
  },
  {
   "cell_type": "code",
   "execution_count": 22,
   "id": "25fdea06",
   "metadata": {},
   "outputs": [],
   "source": [
    "basis = {'O':[4],'I':[],'J':[2,2]}\n",
    "circuit_kerman = shuntedQubit(basis,sparse=False)"
   ]
  },
  {
   "cell_type": "code",
   "execution_count": 23,
   "id": "3e23238b",
   "metadata": {},
   "outputs": [],
   "source": [
    "H_LC = circuit_kerman.kermanHamiltonianLC()\n",
    "H_J = circuit_kerman.kermanHamiltonianJosephson({'I':tensor(phi)})"
   ]
  },
  {
   "cell_type": "code",
   "execution_count": 24,
   "id": "3b703538",
   "metadata": {},
   "outputs": [],
   "source": [
    "H = H_LC + H_J"
   ]
  },
  {
   "cell_type": "code",
   "execution_count": 25,
   "id": "d84e22fb",
   "metadata": {},
   "outputs": [
    {
     "data": {
      "text/plain": [
       "tensor([0.0794, 0.8799, 0.8819], grad_fn=<SliceBackward0>)"
      ]
     },
     "execution_count": 25,
     "metadata": {},
     "output_type": "execute_result"
    }
   ],
   "source": [
    "#H = H.to_dense()\n",
    "hamiltonianEnergy(H)[:3]"
   ]
  },
  {
   "cell_type": "markdown",
   "id": "0fce0bb8",
   "metadata": {},
   "source": [
    "### backend : dense/sparse"
   ]
  },
  {
   "cell_type": "code",
   "execution_count": 26,
   "id": "d011fc20",
   "metadata": {},
   "outputs": [],
   "source": [
    "basis = {'O':[4],'I':[],'J':[2,2]}"
   ]
  },
  {
   "cell_type": "code",
   "execution_count": 27,
   "id": "6e17255c",
   "metadata": {},
   "outputs": [],
   "source": [
    "circuit_dense = shuntedQubit(basis,sparse=False)"
   ]
  },
  {
   "cell_type": "code",
   "execution_count": 28,
   "id": "c8273b37",
   "metadata": {},
   "outputs": [],
   "source": [
    "H_LC = circuit_dense.kermanHamiltonianLC()\n",
    "H_J = circuit_dense.kermanHamiltonianJosephson({'I':tensor(.125)})"
   ]
  },
  {
   "cell_type": "code",
   "execution_count": 29,
   "id": "6de9822e",
   "metadata": {},
   "outputs": [],
   "source": [
    "H = H_LC + H_J"
   ]
  },
  {
   "cell_type": "code",
   "execution_count": 30,
   "id": "25e830c0",
   "metadata": {},
   "outputs": [
    {
     "data": {
      "text/plain": [
       "tensor([0.0808, 0.8763, 0.8776], grad_fn=<SliceBackward0>)"
      ]
     },
     "execution_count": 30,
     "metadata": {},
     "output_type": "execute_result"
    }
   ],
   "source": [
    "#H = H.to_dense()\n",
    "hamiltonianEnergy(H)[:3]"
   ]
  },
  {
   "cell_type": "code",
   "execution_count": 31,
   "id": "3e939b69",
   "metadata": {},
   "outputs": [],
   "source": [
    "circuit_sparse = shuntedQubit(basis,sparse=True)"
   ]
  },
  {
   "cell_type": "code",
   "execution_count": 32,
   "id": "29238ead",
   "metadata": {},
   "outputs": [],
   "source": [
    "H_LC = circuit_sparse.kermanHamiltonianLC()\n",
    "H_J = circuit_sparse.kermanHamiltonianJosephson({'I':tensor(.125)})"
   ]
  },
  {
   "cell_type": "code",
   "execution_count": 33,
   "id": "8125e154",
   "metadata": {},
   "outputs": [],
   "source": [
    "H = H_LC + H_J"
   ]
  },
  {
   "cell_type": "code",
   "execution_count": 34,
   "id": "99e38bc5",
   "metadata": {},
   "outputs": [
    {
     "data": {
      "text/plain": [
       "tensor([0.0786, 0.8780, 0.8840], grad_fn=<SliceBackward0>)"
      ]
     },
     "execution_count": 34,
     "metadata": {},
     "output_type": "execute_result"
    }
   ],
   "source": [
    "H = H.to_dense()\n",
    "hamiltonianEnergy(H)[:3]"
   ]
  },
  {
   "cell_type": "code",
   "execution_count": null,
   "id": "946b5d7f",
   "metadata": {},
   "outputs": [],
   "source": []
  }
 ],
 "metadata": {
  "kernelspec": {
   "display_name": "Python 3 (ipykernel)",
   "language": "python",
   "name": "python3"
  },
  "language_info": {
   "codemirror_mode": {
    "name": "ipython",
    "version": 3
   },
   "file_extension": ".py",
   "mimetype": "text/x-python",
   "name": "python",
   "nbconvert_exporter": "python",
   "pygments_lexer": "ipython3",
   "version": "3.12.2"
  }
 },
 "nbformat": 4,
 "nbformat_minor": 5
}
