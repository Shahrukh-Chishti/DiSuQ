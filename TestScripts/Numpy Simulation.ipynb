{
 "cells": [
  {
   "cell_type": "markdown",
   "id": "19542889",
   "metadata": {},
   "source": [
    "* simulating Superconducting circuits\n",
    "* distribution of low-level Energies\n",
    "* circuit parameters\n",
    "* external fluxes"
   ]
  },
  {
   "cell_type": "markdown",
   "id": "9afd4279",
   "metadata": {},
   "source": [
    "## transmon"
   ]
  },
  {
   "cell_type": "code",
   "execution_count": null,
   "id": "9daad847",
   "metadata": {},
   "outputs": [],
   "source": [
    "def transmon(fluxes):\n",
    "    q_spectrum,k_spectrum = [],[]\n",
    "    q_transmon = qC.transmon()\n",
    "    k_transmon = kC.transmon([7])\n",
    "\n",
    "    for flux in fluxes:\n",
    "        H = k_transmon.hamiltonian_charged([flux])\n",
    "        energy = numpy.linalg.eigvals(H)\n",
    "        k_spectrum.append(min(energy).real)\n",
    "\n",
    "        H = q_transmon.hamiltonian(Lj = qC.Lj(flux),excitations = 7,taylor = 4)\n",
    "        q_spectrum.append(H.eigenenergies()[0])\n",
    "\n",
    "    eigenspectrum = {'qucat':q_spectrum,'kerman':k_spectrum}\n",
    "    utils.plotCompare(fluxes,eigenspectrum)\n",
    "    return transmon\n"
   ]
  },
  {
   "cell_type": "markdown",
   "id": "3cd90daf",
   "metadata": {},
   "source": [
    "## fluxonium"
   ]
  },
  {
   "cell_type": "markdown",
   "id": "ecb77593",
   "metadata": {},
   "source": [
    "## 0 - pi circuit"
   ]
  },
  {
   "cell_type": "code",
   "execution_count": null,
   "id": "84a61395",
   "metadata": {},
   "outputs": [],
   "source": []
  }
 ],
 "metadata": {
  "kernelspec": {
   "display_name": "Python 3 (ipykernel)",
   "language": "python",
   "name": "python3"
  },
  "language_info": {
   "codemirror_mode": {
    "name": "ipython",
    "version": 3
   },
   "file_extension": ".py",
   "mimetype": "text/x-python",
   "name": "python",
   "nbconvert_exporter": "python",
   "pygments_lexer": "ipython3",
   "version": "3.11.5"
  }
 },
 "nbformat": 4,
 "nbformat_minor": 5
}
