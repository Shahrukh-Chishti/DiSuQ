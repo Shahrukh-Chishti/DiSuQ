{
 "cells": [
  {
   "cell_type": "code",
   "execution_count": 1,
   "id": "bb669362-dfb8-4f1c-b273-7f682086030b",
   "metadata": {},
   "outputs": [],
   "source": [
    "from DiSuQ.Torch.dense import *\n",
    "from torch import tensor\n",
    "from torch.linalg import eigvalsh"
   ]
  },
  {
   "cell_type": "code",
   "execution_count": 2,
   "id": "8eea422b-5eec-457c-ab27-17b617a034be",
   "metadata": {},
   "outputs": [],
   "source": [
    "N = 11\n",
    "Z = tensor(1.)"
   ]
  },
  {
   "cell_type": "code",
   "execution_count": 3,
   "id": "450bb895-304d-4826-b850-cbf758aa7745",
   "metadata": {},
   "outputs": [
    {
     "name": "stdout",
     "output_type": "stream",
     "text": [
      "tensor([-2.0697e+00, -1.5703e+00, -1.1430e+00, -7.4843e-01, -3.7057e-01,\n",
      "         6.5283e-09,  3.7057e-01,  7.4843e-01,  1.1430e+00,  1.5703e+00,\n",
      "         2.0697e+00])\n",
      "tensor([-2.0697e+00, -1.5703e+00, -1.1430e+00, -7.4843e-01, -3.7057e-01,\n",
      "         6.5283e-09,  3.7057e-01,  7.4843e-01,  1.1430e+00,  1.5703e+00,\n",
      "         2.0697e+00])\n"
     ]
    }
   ],
   "source": [
    "Qo = basisQo(N,Z)\n",
    "Fo = basisFo(N,Z)\n",
    "print(eigvalsh(Qo))\n",
    "print(eigvalsh(Fo))"
   ]
  },
  {
   "cell_type": "code",
   "execution_count": 4,
   "id": "9339cf7d-16b9-4bac-9da8-41a7443b1cdf",
   "metadata": {},
   "outputs": [
    {
     "name": "stdout",
     "output_type": "stream",
     "text": [
      "tensor([-22., -20., -18., -16., -14., -12., -10.,  -8.,  -6.,  -4.,  -2.,   0.,\n",
      "          2.,   4.,   6.,   8.,  10.,  12.,  14.,  16.,  18.,  20.,  22.])\n",
      "tensor([-5.3523e-05, -6.0916e-12, -1.3870e-12, -1.2335e-12, -9.6400e-13,\n",
      "        -6.4956e-13, -4.3146e-13, -3.5961e-13, -2.2145e-13, -1.1991e-13,\n",
      "        -6.0387e-14,  1.1552e-14,  6.7500e-14,  1.1048e-13,  2.8535e-13,\n",
      "         3.8433e-13,  4.0868e-13,  6.1480e-13,  9.8462e-13,  1.2615e-12,\n",
      "         1.4405e-12,  8.4816e-12,  5.3675e-05])\n"
     ]
    }
   ],
   "source": [
    "Qq = basisQq(N)\n",
    "Fq = basisFq(N)\n",
    "print(eigvalsh(Qq))\n",
    "print(eigvalsh(Fq))"
   ]
  },
  {
   "cell_type": "code",
   "execution_count": 8,
   "id": "36bcb8e5-df53-48d7-9822-f82bb620bb8b",
   "metadata": {},
   "outputs": [
    {
     "name": "stdout",
     "output_type": "stream",
     "text": [
      "tensor([-5.9855e-01, -1.9605e-01, -1.2097e-06, -3.8285e-08, -1.9314e-08,\n",
      "         4.0374e-10,  6.2434e-09,  2.1937e-08,  1.2116e-06,  1.9605e-01,\n",
      "         5.9855e-01])\n",
      "tensor([-1.0000, -0.8000, -0.6000, -0.4000, -0.2000,  0.0000,  0.2000,  0.4000,\n",
      "         0.6000,  0.8000,  1.0000])\n"
     ]
    }
   ],
   "source": [
    "Ff = basisFf(N)\n",
    "Qf = basisQf(N)\n",
    "print(eigvalsh(Qf))\n",
    "print(eigvalsh(Ff))"
   ]
  },
  {
   "cell_type": "code",
   "execution_count": 6,
   "id": "cca46f22-6ecb-4f7e-9aec-15d42aa7759c",
   "metadata": {},
   "outputs": [
    {
     "data": {
      "text/plain": [
       "torch.Size([11, 11])"
      ]
     },
     "execution_count": 6,
     "metadata": {},
     "output_type": "execute_result"
    }
   ],
   "source": [
    "Ff.shape"
   ]
  },
  {
   "cell_type": "code",
   "execution_count": null,
   "id": "da057668-372d-467f-b055-8c7e7915cc5c",
   "metadata": {},
   "outputs": [],
   "source": []
  }
 ],
 "metadata": {
  "kernelspec": {
   "display_name": "Python 3 (ipykernel)",
   "language": "python",
   "name": "python3"
  },
  "language_info": {
   "codemirror_mode": {
    "name": "ipython",
    "version": 3
   },
   "file_extension": ".py",
   "mimetype": "text/x-python",
   "name": "python",
   "nbconvert_exporter": "python",
   "pygments_lexer": "ipython3",
   "version": "3.12.2"
  }
 },
 "nbformat": 4,
 "nbformat_minor": 5
}
